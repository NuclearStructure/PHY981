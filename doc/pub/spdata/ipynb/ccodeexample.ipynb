{
 "metadata": {
  "name": "",
  "signature": "sha256:2fbcb75f25f997c3f9409d0b621312b918d33fc5879f66006f0b7664fbcece23"
 },
 "nbformat": 3,
 "nbformat_minor": 0,
 "worksheets": [
  {
   "cells": [
    {
     "cell_type": "markdown",
     "metadata": {},
     "source": [
      "# Slides from FYS3150/4150 Lectures\n",
      "**Sep 30, 2014**\n",
      "\n",
      "### From decimal to binary representation\n",
      "**Integer numbers.**"
     ]
    },
    {
     "cell_type": "code",
     "collapsed": false,
     "input": [
      "%install_ext https://raw.github.com/dragly/cppmagic/master/cppmagic.py\n",
      "    "
     ],
     "language": "python",
     "metadata": {},
     "outputs": [
      {
       "output_type": "stream",
       "stream": "stdout",
       "text": [
        "Installed cppmagic.py. To use it, type:\n",
        "  %load_ext cppmagic\n"
       ]
      }
     ],
     "prompt_number": 2
    },
    {
     "cell_type": "code",
     "collapsed": false,
     "input": [
      "%load_ext cppmagic"
     ],
     "language": "python",
     "metadata": {},
     "outputs": [
      {
       "output_type": "stream",
       "stream": "stdout",
       "text": [
        "The cppmagic extension is already loaded. To reload it, use:\n",
        "  %reload_ext cppmagic\n"
       ]
      }
     ],
     "prompt_number": 4
    },
    {
     "cell_type": "code",
     "collapsed": false,
     "input": [
      "%%cpp\n",
      "        \n",
      "        #include <iostream>\n",
      "        using namespace std;\n",
      "        int main (int argc, char* argv[])\n",
      "        {\n",
      "          int i;\n",
      "          int terms[32]; // storage of a0, a1, etc, up to 32 bits\n",
      "          int number = 10; // atoi(argv[1]);\n",
      "          // initialise the term a0, a1 etc\n",
      "          for (i=0; i < 32 ; i++){ terms[i] = 0;}\n",
      "          for (i=0; i < 32 ; i++){\n",
      "            terms[i] = number%2;\n",
      "            number /= 2;\n",
      "           }       \n",
      "          // write out results\n",
      "          cout << \"Number of bytes used= \" << sizeof(number) << endl;\n",
      "          for (i=0; i < 32 ; i++){\n",
      "            cout << \" Term nr: \" << i << \"Value= \" << terms[i];\n",
      "            cout << endl;\n",
      "          }\n",
      "          return 0;\n",
      "        }\n"
     ],
     "language": "python",
     "metadata": {},
     "outputs": [
      {
       "output_type": "stream",
       "stream": "stdout",
       "text": [
        "Number of bytes used= 4\n",
        " Term nr: 0Value= 0\n",
        " Term nr: 1Value= 1\n",
        " Term nr: 2Value= 0\n",
        " Term nr: 3Value= 1\n",
        " Term nr: 4Value= 0\n",
        " Term nr: 5Value= 0\n",
        " Term nr: 6Value= 0\n",
        " Term nr: 7Value= 0\n",
        " Term nr: 8Value= 0\n",
        " Term nr: 9Value= 0\n",
        " Term nr: 10Value= 0\n",
        " Term nr: 11Value= 0\n",
        " Term nr: 12Value= 0\n",
        " Term nr: 13Value= 0\n",
        " Term nr: 14Value= 0\n",
        " Term nr: 15Value= 0\n",
        " Term nr: 16Value= 0\n",
        " Term nr: 17Value= 0\n",
        " Term nr: 18Value= 0\n",
        " Term nr: 19Value= 0\n",
        " Term nr: 20Value= 0\n",
        " Term nr: 21Value= 0\n",
        " Term nr: 22Value= 0\n",
        " Term nr: 23Value= 0\n",
        " Term nr: 24Value= 0\n",
        " Term nr: 25Value= 0\n",
        " Term nr: 26Value= 0\n",
        " Term nr: 27Value= 0\n",
        " Term nr: 28Value= 0\n",
        " Term nr: 29Value= 0\n",
        " Term nr: 30Value= 0\n",
        " Term nr: 31Value= 0\n",
        "\n"
       ]
      }
     ],
     "prompt_number": 4
    },
    {
     "cell_type": "code",
     "collapsed": false,
     "input": [
      "%%cpp -llapack -lblas -larmadillo\n",
      "/*\n",
      "  Solves the one-particle Schrodinger equation\n",
      "  for a potential specified in function\n",
      "  potential(). This example is for the harmonic oscillator in 3d\n",
      "*/\n",
      "#include <cmath>\n",
      "#include <iostream>\n",
      "#include <fstream>\n",
      "#include <iomanip>\n",
      "#include <armadillo>\n",
      "\n",
      "using namespace  std;\n",
      "using namespace  arma;\n",
      "// input and output files as global variables\n",
      "//ofstream ofile;  \n",
      "//ifstream ifile;\n",
      "\n",
      "double potential(double);\n",
      "void output(double, double, int, vec& );\n",
      "\n",
      "\n",
      "// Begin of main program   \n",
      "\n",
      "int main(int argc, char* argv[])\n",
      "{\n",
      "  int       i, j, Dim, lOrbital;\n",
      "  double    RMin, RMax, Step, DiagConst, NondiagConst, OrbitalFactor; \n",
      "  // With spherical coordinates RMin = 0 always\n",
      "  RMin = 0.0;\n",
      "\n",
      "  RMax = 8.0;  lOrbital = 0;  Dim =2000;  \n",
      "  mat Hamiltonian = zeros<mat>(Dim,Dim);\n",
      "  // Integration step length\n",
      "  Step    = RMax/ Dim;\n",
      "  DiagConst = 2.0 / (Step*Step);\n",
      "  NondiagConst =  -1.0 / (Step*Step);\n",
      "  OrbitalFactor = lOrbital * (lOrbital + 1.0);\n",
      "  \n",
      "  // local memory for r and the potential w[r] \n",
      "  vec r(Dim); vec w(Dim);\n",
      "  for(i = 0; i < Dim; i++) {\n",
      "    r(i) = RMin + (i+1) * Step;\n",
      "    w(i) = potential(r(i)) + OrbitalFactor/(r(i) * r(i));\n",
      "  }\n",
      "\n",
      "\n",
      "  // Setting up tridiagonal matrix and brute diagonalization using Armadillo\n",
      "  Hamiltonian(0,0) = DiagConst + w(0);\n",
      "  Hamiltonian(0,1) = NondiagConst;\n",
      "  for(i = 1; i < Dim-1; i++) {\n",
      "    Hamiltonian(i,i-1)    = NondiagConst;\n",
      "    Hamiltonian(i,i)    = DiagConst + w(i);\n",
      "    Hamiltonian(i,i+1)    = NondiagConst;\n",
      "  }\n",
      "  Hamiltonian(Dim-1,Dim-2) = NondiagConst;\n",
      "  Hamiltonian(Dim-1,Dim-1) = DiagConst + w(Dim-1);\n",
      "  // diagonalize and obtain eigenvalues\n",
      "  vec Eigval(Dim);\n",
      "  eig_sym(Eigval, Hamiltonian);\n",
      "  output(RMin , RMax, Dim, Eigval);\n",
      "\n",
      "  return 0;\n",
      "}  //  end of main function\n",
      "\n",
      "\n",
      "/*\n",
      "  The function potential()\n",
      "  calculates and return the value of the \n",
      "  potential for a given argument x.\n",
      "  The potential here is for the hydrogen atom\n",
      "*/        \n",
      "\n",
      "double potential(double x)\n",
      "{\n",
      "  return x*x;\n",
      "\n",
      "} // End: function potential()  \n",
      "\n",
      "\n",
      "void output(double RMin , double RMax, int Dim, vec& d)\n",
      "{\n",
      "  int i;\n",
      "  cout << \"RESULTS:\" << endl;\n",
      "  cout << setiosflags(ios::showpoint | ios::uppercase);\n",
      "  cout <<\"Rmin = \" << setw(15) << setprecision(8) << RMin << endl;  \n",
      "  cout <<\"Rmax = \" << setw(15) << setprecision(8) << RMax << endl;  \n",
      "  cout <<\"Number of steps = \" << setw(15) << Dim << endl;  \n",
      "  cout << \"Five lowest eigenvalues:\" << endl;\n",
      "  for(i = 0; i < 5; i++) {\n",
      "    cout << setw(15) << setprecision(8) << d[i] << endl;\n",
      "  }\n",
      "}  // end of function output         \n",
      "\n"
     ],
     "language": "python",
     "metadata": {},
     "outputs": [
      {
       "output_type": "stream",
       "stream": "stdout",
       "text": [
        "RESULTS:\n",
        "Rmin =       0.0000000\n",
        "Rmax =       8.0000000\n",
        "Number of steps =            2000\n",
        "Five lowest eigenvalues:\n",
        "      2.9999950\n",
        "      6.9999750\n",
        "      10.999939\n",
        "      14.999887\n",
        "      18.999819\n",
        "\n"
       ]
      }
     ],
     "prompt_number": 5
    },
    {
     "cell_type": "code",
     "collapsed": true,
     "input": [],
     "language": "python",
     "metadata": {},
     "outputs": []
    }
   ],
   "metadata": {}
  }
 ]
}