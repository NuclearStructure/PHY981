{
 "metadata": {
  "signature": "sha256:8262ffc66834c363c3eb65c3fbd29faa3f9e6a3e0b63488372fa3c9e3551f768"
 },
 "nbformat": 3,
 "nbformat_minor": 0,
 "worksheets": [
  {
   "cells": [
    {
     "cell_type": "markdown",
     "metadata": {},
     "source": [
      "<!-- Slides for PHY981 -->\n",
      "# Single-particle properties and nuclear data\n",
      "**Spring 2015**\n",
      "\n",
      "<!-- !split  -->\n",
      "### Motivation\n",
      "**Stability of matter.**\n",
      "\n",
      "To understand why matter is stable, and thereby shed light on the limits of \n",
      "nuclear stability, is one of the \n",
      "overarching aims and intellectual challenges \n",
      "of basic research in nuclear physics. To relate the stability of matter\n",
      "to the underlying fundamental forces and particles of nature as manifested in nuclear matter, is central\n",
      "to present and planned rare isotope facilities. \n",
      "Important properties of nuclear systems which can reveal information about these topics \n",
      "are for example masses, and thereby binding energies, and density distributions of nuclei.  \n",
      "These are quantities which convey important information on \n",
      "the shell structure of nuclei, with their \n",
      "pertinent magic numbers and shell closures or the  eventual disappearence of the latter \n",
      "away from  the valley of stability.\n",
      "\n",
      "\n",
      "\n",
      "<!-- !split  -->\n",
      "### Motivation\n",
      "\n",
      "Neutron-rich nuclei are particularly interesting for the above endeavour. As a particular chain\n",
      "of isotopes becomes more and more neutron rich, one reaches finally the limit of stability, the so-called\n",
      "dripline, where one additional neutron makes the next isotopes unstable with respect \n",
      "to the previous ones. The appearence or not of magic numbers and shell structures,\n",
      "the formation of neutron skins and halos\n",
      "can thence be probed via investigations of quantities like  the binding energy\n",
      "or the charge radii and neutron rms radii of neutron-rich nuclei. \n",
      "These quantities have in turn important \n",
      "consequences for theoretical models of nuclear structure and their application in astrophysics.\n",
      "For example, the neutron radius of ${}^{208}\\mbox{Pb}$, recently extracted from the PREX \n",
      "experiment at Jefferson Laboratory  can be used to constrain the equation of state of \n",
      "neutron matter. A related quantity to the\n",
      "neutron rms radius $r_n^{\\mathrm{rms}}=\\langle r^2\\rangle_n^{1/2}$ is the neutron skin \n",
      "$r_{\\mathrm{skin}}=r_n^{\\mathrm{rms}}-r_p^{\\mathrm{rms}}$,\n",
      "where $r_p^{\\mathrm{rms}}$ is the corresponding proton rms radius.  \n",
      "There are several properties which relate the thickness of the neutron skin to quantities in nuclei and \n",
      "nuclear matter, such as the symmetry energy at the saturation point for nuclear matter, the slope\n",
      "of the equation of state for neutron matter\n",
      "or the low-energy electric dipole strength due to the pigmy dipole resonance. \n",
      "See Ref. <http://iopscience.iop.org/1402-4896/2013/T152> for several interesting discussions of these topics.\n",
      "\n",
      "\n",
      "\n",
      "<!-- !split  -->\n",
      "### Motivation\n",
      "Having access to precise measurements of masses, radii, and\n",
      "electromagnetic moments for a wide range of nuclei allows to study\n",
      "trends with varying neutron excess. A quantitative description of\n",
      "various experimental data with quantified uncertainty still remains a\n",
      "major challenge for nuclear structure theory.  Global theoretical\n",
      "studies of isotopic chains, such as the Ca chain shown in the figure below here, make it possible to test systematic\n",
      "properties of effective interactions between nucleons. Such calculations also\n",
      "provide critical tests of limitations of many-body methods. As one\n",
      "approaches the particle emission thresholds, it becomes increasingly\n",
      "important to describe correctly the coupling to the continuum of\n",
      "decays and scattering channels. While the\n",
      "full treatment of antisymmetrization and short-range correlations has\n",
      "become routine in first principle  approaches (to be defined later) to nuclear bound states, the\n",
      "many-body problem becomes more difficult when long-range correlations\n",
      "and continuum effects are considered.\n",
      "\n",
      "\n",
      "\n",
      "<!-- !split  -->\n",
      "### Motivation\n",
      "\n",
      "\n",
      "<p>Expected experimental information on the calcium isotopes that can be obtained at FRIB. The limits for detailed spectroscopic information are around $A\\sim 60$.</p>\n",
      "<img src=\"figslides/careach.png\" width=500>\n",
      "\n",
      "\n",
      "\n",
      "\n",
      "<!-- !split  -->\n",
      "### Motivation\n",
      "\n",
      "The aim of this first section is to present some of the experimental data which can be used to extract \n",
      "information about correlations in nuclear systems. In particular, we will start with a theoretical analysis of a quantity called the separation energy for neutrons or protons. This quantity, to be discussed below, is defined as the difference between two binding energies (masses) of neighboring nuclei. As we will see from various figures below and exercises as well, the separation energies display a varying behavior as function of the number of neutrons or protons. These variations from one nucleus to another one, laid the foundation for the introduction of so-called magic numbers and a mean-field picture in order to describe nuclei theoretically.\n",
      "\n",
      "\n",
      "\n",
      "\n",
      "\n",
      "<!-- !split  -->\n",
      "### Motivation\n",
      "\n",
      "With a mean- or average-field picture we mean that a given nucleon (either a proton or a neutron) moves in an average potential field which is set up by all other nucleons in the system. Consider for example a nucleus like ${}^{17}\\mbox{O}$ with nine neutrons and eight protons. Many properties  of this nucleus can be interpreted in terms of a picture where we can view it as\n",
      "one neutron on top of ${}^{16}\\mbox{O}$. We infer from data and our theoretical interpretations that this additional neutron behaves almost as an individual neutron which *sees* an average interaction set up by the remaining 16 nucleons in   ${}^{16}\\mbox{O}$. A nucleus like ${}^{16}\\mbox{O}$ is an example of what we in this course will denote as a good closed-shell nucleus. We will come back to what this means later.\n",
      "\n",
      "Since we want to develop a theory capable of interpreting data in terms of our laws of motion and the pertinent forces,\n",
      "we can think of this neutron as a particle which moves in a potential field. We can hence attempt at solving our equations of motion (Schroedinger's equation in our case) for this system along the same lines as we did in atomic physics when we solved Schroedinger's equation for the hydrogen atom. We just need to define a model for our effective single-particle potential. \n",
      "\n",
      "A simple potential model which enjoys quite some popularity in nuclear physics, is the three-dimensional harmonic oscillator. This potential model captures some of the physics of deeply bound single-particle states but fails in reproducing \n",
      "the less bound single-particle states. A parametrized, and more realistic,  potential model which is widely used in nuclear physics, is the so-called Woods-Saxon potential. Both the harmonic oscillator and the Woods-Saxon potential models define computational problems that can easily be solved (see below), resulting (with the appropriate parameters) in a rather good reproduction of experiment for nuclei which can be approximated as one nucleon on top (or one nucleon removed) of a so-called closed-shell system.\n",
      "\n",
      "\n",
      "\n",
      "\n",
      "<!-- !split  -->\n",
      "### Motivation\n",
      "\n",
      "To be able to interpret a nucleus in such  a way requires at least that we are capable of parametrizing the abovementioned\n",
      "interactions in order to reproduce say the excitation spectrum of a nucleus like ${}^{17}\\mbox{O}$. \n",
      "\n",
      "With such a parametrized interaction we are able to solve Schroedinger's equation for the motion of one nucleon in a given field. A nucleus is however a true and complicated many-nucleon system, with extremely many degrees of freedom and complicated correlations, rendering the ideal solution of the many-nucleon Schroedinger equation an impossible enterprise. It is much easier to solve a single-particle problem with say a Woods-Saxon potential. Using such a potential hides however many of the complicated correlations and interactions which we see in nuclei. Such an effective single-nucleon potential is for example not capable of \n",
      "describing properties like the binding energy or the rms radius of a given nucleus. \n",
      "\n",
      "An improvement to these simpler single-nucleon potentials is given by the Hartree-Fock method, where the variational principle is used to define a mean-field which the nucleons move in. There are many different classes of mean-field methods.\n",
      "An important difference between these methods and the simpler parametrized mean-field potentials like the harmonic oscillator and the Woods-Saxon potentials, is that the resulting equations contain information about the nuclear forces present in our models for solving Schroedinger's equation. Hartree-Fock and other mean-field methods like density functional theory form core topics in later lectures.\n",
      "\n",
      "\n",
      "\n",
      "\n",
      "<!-- !split  -->\n",
      "### Motivation\n",
      "The aim of this section is to present some of the experimental data we will confront theory with. In particular, we will focus on separation and shell-gap energies and use these to build a picture of nuclei in terms of (from a philosophical stand we would call this  a reductionist approach) a single-particle picture. The harmonic oscillator will serve as an excellent starting point in building nuclei from the bottom and up. Here we will neglect nuclear forces, these are introduced in the next section when we discuss the Hartree-Fock method. \n",
      "\n",
      "The aim of this course is to develop our physics intuition of nuclear systems using  a theoretical approach  where we describe data in terms of \n",
      "the motion of individual nucleons and their mutual interactions. \n",
      "\n",
      "**How our theoretical pictures and models can be used to interpret data is in essence what this course is about**. Our narrative will lead us along a path where we start with single-particle models and end with the theory of the nuclear shell-model. The latter will be used to understand and analyze excitation spectra and decay patterns of nuclei, linking our theoretical understanding with interpretations of experiment. The way we build up our theoretical descriptions and interpretations follows what we may call a standard reductionistic approach, that is we start with what we believe are our effective degrees of freedom (nucleons in our case) and interactions amongst these and solve thereafter the underlying equations of motions. This defines the nuclear many-body problem, and mean-field approaches like Hartree-Fock theory and the nuclear shell-model represent different approaches to our solutions of Schroedinger's equation.\n",
      "\n",
      "\n",
      "\n",
      "\n",
      "\n",
      "\n",
      "<!-- !split  -->\n",
      "### Motivation\n",
      "**Do we understand the physics of dripline systems?**\n",
      "\n",
      "\n",
      "We start our tour of experimental data and our interpretations by considering the chain of oxygen isotopes. In the exercises below you will be asked to perform similar analyses for other chains of isotopes.\n",
      "\n",
      "The oxygen isotopes are the heaviest isotopes for which the drip line is well established.  The drip line is defined as the point where adding one more nucleon leads to an unbound nucleus. Below we will see that we can define the dripline by studying the separation energy. Where the neutron (proton) separation energy changes sign as a function of the number of neutrons (protons) defines the neutron (proton) drip line.\n",
      "\n",
      "The oxygen isotopes are simple enough to be described by some few selected single-particle degrees of freedom.  \n",
      "\n",
      "* Two out of four stable even-even isotopes exhibit a doubly magic nature, namely ${}^{22}\\mbox{O}$ ($Z=8$, $N=14$) and ${}^{24}\\mbox{O}$ ($Z=8$, $N=16$).\n",
      "\n",
      "* The structure of ${}^{22}\\mbox{O}$ and ${}^{24}\\mbox{O}$ is assumed to be governed by the evolution of the $1s_{1/2}$ and $0d_{5/2}$  one-quasiparticle states.\n",
      "\n",
      "* The isotopes ${}^{25}\\mbox{O}$, ${}^{26}\\mbox{O}$, ${}^{27}\\mbox{O}$ and ${}^{28}\\mbox{O}$ are outside the drip line, since the $0d_{3/2}$ orbit is not bound.\n",
      "\n",
      "\n",
      "\n",
      "\n",
      "<!-- !split  -->\n",
      "### Recent articles on Oxygen isotopes\n",
      "**Many experiments worldwide!**\n",
      "\n",
      "These isotopes have been studied in series of recent experiments. Some of these experiments and theoretical interpretations are discussed in the following articles:\n",
      "\n",
      "* ${}^{24}\\mbox{O}$ and lighter:  C. R. Hoffman *et al.*, Phys. Lett. B **672**, 17 (2009); R. Kanungo *et al*., Phys. Rev. Lett.~**102**, 152501 (2009); C. R. Hoffman *et al*., Phys. Rev. C **83**, 031303(R) (2011); Stanoiu *et al*., Phys. Rev. C **69**, 034312 (2004)\n",
      "\n",
      "* ${}^{25}\\mbox{O}$: C. R. Hoffman *et al*., Phys. Rev. Lett. **102**,152501  (2009). \n",
      "\n",
      "* ${}^{26}\\mbox{O}$: E. Lunderberg *et al*., Phys. Rev. Lett. **108**, 142503 (2012). \n",
      "\n",
      "* ${}^{26}\\mbox{O}$: Z. Kohley  *et al*., Study of two-neutron radioactivity in the decay of 26O, Phys. Rev. Lett., **110**, 152501 (2013). \n",
      "\n",
      "* Theory: Oxygen isotopes with three-body forces,  Otsuka *et al*., Phys. Rev. Lett. **105**, 032501  (2010).  Hagen *et al.*, Phys. Rev. Lett., **108**, 242501 (2012).\n",
      "\n",
      "\n",
      "\n",
      "\n",
      "<!-- !split  -->\n",
      "### Motivation\n",
      "**Do we understand the physics of dripline systems?**\n",
      "\n",
      "Our first approach in analyzing data theoretically, is to see if we can use experimental information to \n",
      "\n",
      "* Extract information about a *so-called* single-particle  behavior\n",
      "\n",
      "* And interpret such a behavior in terms of the underlying forces and microscopic physics\n",
      "\n",
      "The next step is to see if we could use these interpretations to say something about shell closures and magic numbers. Since we focus on single-particle properties, a quantity we can extract from experiment is the separation energy for protons and neutrons. Before we proceed, we need to define quantities like masses and binding energies.   Two excellent reviews on \n",
      "recent trends in the determination of nuclear masses can be found in <http://journals.aps.org/rmp/abstract/10.1103/RevModPhys.75.1021> and in <http://iopscience.iop.org/1402-4896/2013/T152/014017/>\n",
      "\n",
      "\n",
      "\n",
      "\n",
      "<!-- !split  -->\n",
      "### Masses and Binding energies\n",
      "A basic quantity which can be measured for the ground states of nuclei is the atomic mass $M(N, Z)$ of the neutral atom with atomic mass number $A$ and charge $Z$. The number of neutrons is $N$.\n",
      "\n",
      "Atomic masses are usually tabulated in terms of the mass excess defined by"
     ]
    },
    {
     "cell_type": "markdown",
     "metadata": {},
     "source": [
      "$$\n",
      "\\Delta M(N, Z) =  M(N, Z) - uA,\n",
      "$$"
     ]
    },
    {
     "cell_type": "markdown",
     "metadata": {},
     "source": [
      "where $u$ is the Atomic Mass Unit"
     ]
    },
    {
     "cell_type": "markdown",
     "metadata": {},
     "source": [
      "$$\n",
      "u = M(^{12}\\mathrm{C})/12 = 931.49386 \\hspace{0.1cm} \\mathrm{MeV}/c^2.\n",
      "$$"
     ]
    },
    {
     "cell_type": "markdown",
     "metadata": {},
     "source": [
      "In this course we will mainly use \n",
      "data from the 2003 compilation of Audi, Wapstra and Thibault, see <http://www.sciencedirect.com/science/journal/03759474/729/1>.\n",
      "\n",
      "\n",
      "\n",
      "<!-- !split  -->\n",
      "### Masses and Binding energies\n",
      "The nucleon masses are"
     ]
    },
    {
     "cell_type": "markdown",
     "metadata": {},
     "source": [
      "$$\n",
      "m_p = 938.27203(8)\\hspace{0.1cm} \\mathrm{MeV}/c^2 = 1.00727646688(13)u,\n",
      "$$"
     ]
    },
    {
     "cell_type": "markdown",
     "metadata": {},
     "source": [
      "and"
     ]
    },
    {
     "cell_type": "markdown",
     "metadata": {},
     "source": [
      "$$\n",
      "m_n = 939.56536(8)\\hspace{0.1cm} \\mathrm{MeV}/c^2 = 1.0086649156(6)u.\n",
      "$$"
     ]
    },
    {
     "cell_type": "markdown",
     "metadata": {},
     "source": [
      "In the 2003 mass evaluation there are 2127 nuclei measured with an accuracy of 0.2\n",
      "MeV or better, and 101 nuclei measured with an accuracy of greater than 0.2 MeV. For\n",
      "heavy nuclei one observes several chains of nuclei with a constant $N-Z$ value whose masses are obtained from the energy released in $\\alpha$-decay.\n",
      "\n",
      "\n",
      "\n",
      "\n",
      "<!-- !split  -->\n",
      "### Masses and Binding energies\n",
      "The nuclear binding energy is defined as the energy required to break up a given nucleus\n",
      "into its constituent parts of $N$ neutrons and $Z$ protons. In terms of the atomic masses $M(N, Z)$ the binding energy is defined by"
     ]
    },
    {
     "cell_type": "markdown",
     "metadata": {},
     "source": [
      "$$\n",
      "BE(N, Z) = ZM_H c^2 + Nm_n c^2 - M(N, Z)c^2 ,\n",
      "$$"
     ]
    },
    {
     "cell_type": "markdown",
     "metadata": {},
     "source": [
      "where $M_H$ is the mass of the hydrogen atom and $m_n$ is the mass of the neutron.\n",
      "In terms of the mass excess the binding energy is given by"
     ]
    },
    {
     "cell_type": "markdown",
     "metadata": {},
     "source": [
      "$$\n",
      "BE(N, Z) = Z\\Delta_H c^2 + N\\Delta_n c^2 -\\Delta(N, Z)c^2 ,\n",
      "$$"
     ]
    },
    {
     "cell_type": "markdown",
     "metadata": {},
     "source": [
      "where $\\Delta_H c^2 = 7.2890$ MeV and $\\Delta_n c^2 = 8.0713$ MeV.\n",
      "\n",
      "\n",
      "\n",
      "<!-- !split  -->\n",
      "### Masses and Binding energies\n",
      "The following python program reads in the experimental data on binding energies and, stored in the file bindingenergies.dat,  plots them as function of the mass number $A$. One notices clearly a saturation of the binding energy per nucleon at $A\\approx 56$."
     ]
    },
    {
     "cell_type": "code",
     "collapsed": false,
     "input": [
      "%matplotlib inline\n",
      "\n",
      "import numpy as np\n",
      "from  matplotlib import pyplot as plt\n",
      "# Load in data file\n",
      "data = np.loadtxt(\"datafiles/bindingenergies.dat\")\n",
      "# Make arrays containing x-axis and binding energies as function of A\n",
      "x = data[:,2]\n",
      "bexpt = data[:,3]\n",
      "plt.plot(x, bexpt ,'b-+')\n",
      "plt.axis([0,270,-1, 10.0])\n",
      "plt.xlabel(r'$A$')\n",
      "plt.ylabel(r'Binding energies in [MeV]')\n",
      "plt.legend(('Experiment'), loc='upper right')\n",
      "plt.title(r'Binding energies from experiment')\n",
      "plt.savefig('expbindingenergies.pdf')\n",
      "plt.savefig('expbindingenergies.png')\n",
      "plt.show()\n"
     ],
     "language": "python",
     "metadata": {},
     "outputs": [
      {
       "metadata": {},
       "output_type": "display_data",
       "png": "[encoded data removed]",
       "text": [
        "<matplotlib.figure.Figure at 0x7fac41c56150>"
       ]
      }
     ],
     "prompt_number": 9
    },
    {
     "cell_type": "markdown",
     "metadata": {},
     "source": [
      "### Liquid drop model as a simple parametrization of binding energies\n",
      "\n",
      "A popular and physically intuitive model which can be used to parametrize \n",
      "the experimental binding energies as function of $A$, is the so-called \n",
      "the liquid drop model. The ansatz is based on the following expression"
     ]
    },
    {
     "cell_type": "markdown",
     "metadata": {},
     "source": [
      "$$\n",
      "BE(N,Z) = a_1A-a_2A^{2/3}-a_3\\frac{Z^2}{A^{1/3}}-a_4\\frac{(N-Z)^2}{A},\n",
      "$$"
     ]
    },
    {
     "cell_type": "markdown",
     "metadata": {},
     "source": [
      "where $A$ stands for the number of nucleons and the $a_i$s are parameters which are determined by a fit \n",
      "to the experimental data.\n",
      "\n",
      "\n",
      "\n",
      "\n",
      "### Liquid drop model as a simple parametrization of binding energies\n",
      "To arrive at the above expression we have assumed that we can make the following assumptions:\n",
      "\n",
      " * There is a volume term $a_1A$ proportional with the number of nucleons (the energy is also an extensive quantity). When an assembly of nucleons of the same size is packed together into the smallest volume, each interior nucleon has a certain number of other nucleons in contact with it. This contribution is proportional to the volume.\n",
      "\n",
      " * There is a surface energy term $a_2A^{2/3}$. The assumption here is that a nucleon at the surface of a nucleus interacts with fewer other nucleons than one in the interior of the nucleus and hence its binding energy is less. This surface energy term takes that into account and is therefore negative and is proportional to the surface area.\n",
      "\n",
      " * There is a Coulomb energy term $a_3\\frac{Z^2}{A^{1/3}}$. The electric repulsion between each pair of protons in a nucleus yields less binding. \n",
      "\n",
      " * There is an asymmetry term $a_4\\frac{(N-Z)^2}{A}$. This term is associated with the Pauli exclusion principle and reflectd the fact that the proton-neutron interaction is more attractive on the average than the neutron-neutron and proton-proton interactions.\n",
      "\n",
      "We could also add a so-called pairing term, which is a correction term that\n",
      "arises from the tendency of proton pairs and neutron pairs to\n",
      "occur. An even number of particles is more stable than an odd number. \n",
      "Performing a least-square fit to data, we obtain the following numerical values for the various constants\n",
      "* $a_1=15.49$ MeV\n",
      "\n",
      "* $a_2=17.23$ MeV\n",
      "\n",
      "* $a_3=0.697$ MeV\n",
      "\n",
      "* $a_4=22.6$ MeV\n",
      "\n",
      "We leave it as an exercise to the reader to use the file with the experimental binding energies and perform such a fit.\n",
      "\n",
      "\n",
      "\n",
      "<!-- !split  -->\n",
      "### Masses and Binding energies\n",
      "The following python program reads now in the experimental data on binding energies as well as the results from the above liquid drop model and plots these energies as function of the mass number $A$. One sees that for larger values of $A$, there is a better agreement with data."
     ]
    },
    {
     "cell_type": "code",
     "collapsed": false,
     "input": [
      "import numpy as np\n",
      "from  matplotlib import pyplot as plt\n",
      "# Load in data file\n",
      "data = np.loadtxt(\"datafiles/bindingenergies.dat\")\n",
      "# Make arrays containing x-axis and binding energies as function of\n",
      "x = data[:,2]\n",
      "bexpt = data[:,3]\n",
      "liquiddrop = data[:,4]\n",
      "plt.plot(x, bexpt ,'b-+', x, liquiddrop, 'r-o')\n",
      "plt.axis([0,270,-1, 10.0])\n",
      "plt.xlabel(r'$A$')\n",
      "plt.ylabel(r'Binding energies in [MeV]')\n",
      "plt.legend(('Experiment','Liquid Drop'), loc='upper right')\n",
      "plt.title(r'Binding energies from experiment and liquid drop')\n",
      "plt.savefig('bindingenergies.pdf')\n",
      "plt.savefig('bindingenergies.png')\n",
      "plt.show()\n"
     ],
     "language": "python",
     "metadata": {},
     "outputs": [
      {
       "metadata": {},
       "output_type": "display_data",
       "png": "[encoded data removed]",
       "text": [
        "<matplotlib.figure.Figure at 0x7fac41b4edd0>"
       ]
      }
     ],
     "prompt_number": 10
    },
    {
     "cell_type": "markdown",
     "metadata": {},
     "source": [
      "<!-- !split  -->\n",
      "### $Q$-values and separation energies\n",
      "We are now interested in interpreting experimental binding energies  in terms of a single-particle picture.\n",
      "In order to do so, we  consider first energy conservation for nuclear transformations that include, for\n",
      "example, the fusion of two nuclei $a$ and $b$ into the combined system $c$"
     ]
    },
    {
     "cell_type": "markdown",
     "metadata": {},
     "source": [
      "$$\n",
      "{^{N_a+Z_a}}a+ {^{N_b+Z_b}}b\\rightarrow {^{N_c+Z_c}}c\n",
      "$$"
     ]
    },
    {
     "cell_type": "markdown",
     "metadata": {},
     "source": [
      "or the decay of nucleus $c$ into two other nuclei $a$ and $b$"
     ]
    },
    {
     "cell_type": "markdown",
     "metadata": {},
     "source": [
      "$$\n",
      "^{N_c+Z_c}c \\rightarrow  ^{N_a+Z_a}a+ ^{N_b+Z_b}b\n",
      "$$"
     ]
    },
    {
     "cell_type": "markdown",
     "metadata": {},
     "source": [
      "In general we have the reactions"
     ]
    },
    {
     "cell_type": "markdown",
     "metadata": {},
     "source": [
      "$$\n",
      "\\sum_i {^{N_i+Z_i}}i \\rightarrow  \\sum_f {^{N_f+Z_f}}f\n",
      "$$"
     ]
    },
    {
     "cell_type": "markdown",
     "metadata": {},
     "source": [
      "We require also that the number of protons and neutrons (the total number of nucleons) is conserved in the initial stage and final stage, unless we have processes which violate baryon conservation,"
     ]
    },
    {
     "cell_type": "markdown",
     "metadata": {},
     "source": [
      "$$\n",
      "\\sum_iN_i = \\sum_f N_f \\hspace{0.2cm}\\mathrm{and} \\hspace{0.2cm}\\sum_iZ_i = \\sum_f Z_f.\n",
      "$$"
     ]
    },
    {
     "cell_type": "markdown",
     "metadata": {},
     "source": [
      "<!-- !split  -->\n",
      "### Motivation\n",
      "**Do we understand the physics of dripline systems?**\n",
      "\n",
      "Artist's rendition of the emission of one proton from various oxygen isotopes. Protons are in red while neutrons are in blue. These processes could be interpreted as the decay\n",
      "nucleus $c$ into two other nuclei $a$ and $b$"
     ]
    },
    {
     "cell_type": "markdown",
     "metadata": {},
     "source": [
      "$$\n",
      "^{N_c+Z_c}c \\rightarrow  ^{N_a+Z_a}a+ ^{N_b+Z_b}b .\n",
      "$$"
     ]
    },
    {
     "cell_type": "markdown",
     "metadata": {},
     "source": [
      "<p></p>\n",
      "<img src=\"figslides/oxygens.jpg\" width=600>\n",
      "\n",
      "\n",
      "\n",
      "\n",
      "<!-- !split  -->\n",
      "### $Q$-values and separation energies\n",
      "The above processes can be characterized by an energy difference called the $Q$ value, defined as"
     ]
    },
    {
     "cell_type": "markdown",
     "metadata": {},
     "source": [
      "$$\n",
      "Q=\\sum_i M(N_i, Z_i)c^2-\\sum_f M(N_f, Z_f)c^2=\\sum_i BE(N_f, Z_f)-\\sum_i BE(N_i, Z_i)\n",
      "$$"
     ]
    },
    {
     "cell_type": "markdown",
     "metadata": {},
     "source": [
      "Spontaneous decay involves a single initial nuclear state and is allowed if $Q > 0$. In the decay, energy is released in the form of the kinetic energy of the final products. Reactions involving two initial nuclei are called endothermic (a net loss of energy) if $Q < 0$. The reactions are exothermic (a net release of energy) if $Q > 0$.\n",
      "\n",
      "\n",
      "\n",
      "\n",
      "<!-- !split  -->\n",
      "### $Q$-values and separation energies\n",
      "Let us study the Q values associated with the removal of one or two nucleons from\n",
      "a nucleus. These are conventionally defined in terms of the one-nucleon and two-nucleon\n",
      "separation energies. The neutron separation energy is defined as"
     ]
    },
    {
     "cell_type": "markdown",
     "metadata": {},
     "source": [
      "$$\n",
      "S_n= -Q_n= BE(N,Z)-BE(N-1,Z),\n",
      "$$"
     ]
    },
    {
     "cell_type": "markdown",
     "metadata": {},
     "source": [
      "and the proton separation energy reads"
     ]
    },
    {
     "cell_type": "markdown",
     "metadata": {},
     "source": [
      "$$\n",
      "S_p= -Q_p= BE(N,Z)-BE(N,Z-1).\n",
      "$$"
     ]
    },
    {
     "cell_type": "markdown",
     "metadata": {},
     "source": [
      "The two-neutron separation energy is defined as"
     ]
    },
    {
     "cell_type": "markdown",
     "metadata": {},
     "source": [
      "$$\n",
      "S_{2n}= -Q_{2n}= BE(N,Z)-BE(N-2,Z),\n",
      "$$"
     ]
    },
    {
     "cell_type": "markdown",
     "metadata": {},
     "source": [
      "and  the two-proton separation energy is given by"
     ]
    },
    {
     "cell_type": "markdown",
     "metadata": {},
     "source": [
      "$$\n",
      "S_{2p}= -Q_{2p}= BE(N,Z)-BE(N,Z-2),\n",
      "$$"
     ]
    },
    {
     "cell_type": "markdown",
     "metadata": {},
     "source": [
      "<!-- !split  -->\n",
      "### Separation energies and energy gaps\n",
      "Using say the neutron separation energies (alternatively the proton separation energies)"
     ]
    },
    {
     "cell_type": "markdown",
     "metadata": {},
     "source": [
      "$$\n",
      "S_n= -Q_n= BE(N,Z)-BE(N-1,Z),\n",
      "$$"
     ]
    },
    {
     "cell_type": "markdown",
     "metadata": {},
     "source": [
      "we can define the so-called energy gap for neutrons (or protons) as"
     ]
    },
    {
     "cell_type": "markdown",
     "metadata": {},
     "source": [
      "$$\n",
      "\\Delta S_n= BE(N,Z)-BE(N-1,Z)-\\left(BE(N+1,Z)-BE(N,Z)\\right),\n",
      "$$"
     ]
    },
    {
     "cell_type": "markdown",
     "metadata": {},
     "source": [
      "or"
     ]
    },
    {
     "cell_type": "markdown",
     "metadata": {},
     "source": [
      "$$\n",
      "\\Delta S_n= 2BE(N,Z)-BE(N-1,Z)-BE(N+1,Z).\n",
      "$$"
     ]
    },
    {
     "cell_type": "markdown",
     "metadata": {},
     "source": [
      "This quantity can in turn be used to determine which nuclei are magic or not. \n",
      "For protons we would have"
     ]
    },
    {
     "cell_type": "markdown",
     "metadata": {},
     "source": [
      "$$\n",
      "\\Delta S_p= 2BE(N,Z)-BE(N,Z-1)-BE(N,Z+1).\n",
      "$$"
     ]
    },
    {
     "cell_type": "markdown",
     "metadata": {},
     "source": [
      "We leave it as an exercise to the reader to define and interpret the two-neutron or two-proton gaps.\n",
      "\n",
      "\n",
      "\n",
      "\n",
      "<!-- !split  -->\n",
      "### Separation energies for oxygen isotopes\n",
      "The following python programs can now be used to plot the separation energies and the energy gaps for the oxygen isotopes.  The following python code reads the separation energies from file for all oxygen isotopes from $A=13$ to $A=25$, The data are taken from the file *snox.dat*.  This files contains the separation energies and the shell gap energies."
     ]
    },
    {
     "cell_type": "code",
     "collapsed": false,
     "input": [
      "\n",
      "import numpy as np\n",
      "from  matplotlib import pyplot as plt\n",
      "# Load in data file\n",
      "data = np.loadtxt(\"datafiles/snox.dat\")\n",
      "# Make arrays containing x-axis and binding energies as function of\n",
      "x = data[:,1]\n",
      "y = data[:,2]\n",
      "\n",
      "plt.plot(x, y,'b-+',markersize=6)\n",
      "plt.axis([4,18,-1, 25.0])\n",
      "plt.xlabel(r'Number of neutrons $N$',fontsize=20)\n",
      "plt.ylabel(r'$S_n$ [MeV]',fontsize=20)\n",
      "plt.legend(('Separation energies for oxygen isotpes'), loc='upper right')\n",
      "plt.title(r'Separation energy for the oxygen isotopes')\n",
      "plt.savefig('snoxygen.pdf')\n",
      "plt.savefig('snoxygen.png')\n",
      "plt.show()\n"
     ],
     "language": "python",
     "metadata": {},
     "outputs": [
      {
       "metadata": {},
       "output_type": "display_data",
       "png": "[encoded data removed]",
       "text": [
        "<matplotlib.figure.Figure at 0x7fac41698c10>"
       ]
      }
     ],
     "prompt_number": 13
    },
    {
     "cell_type": "markdown",
     "metadata": {},
     "source": [
      "<!-- !split  -->\n",
      "### Energy gaps for oxygen isotopes\n",
      "Here we display the python program for plotting the corresponding results for shell gaps for the oyxgen isotopes."
     ]
    },
    {
     "cell_type": "code",
     "collapsed": false,
     "input": [
      "\n",
      "import numpy as np\n",
      "from  matplotlib import pyplot as plt\n",
      "# Load in data file\n",
      "data = np.loadtxt(\"datafiles/snox.dat\")\n",
      "# Make arrays containing x-axis and binding energies as function of\n",
      "x = data[:,1]\n",
      "y = data[:,3]\n",
      "\n",
      "plt.plot(x, y,'b-+',markersize=6)\n",
      "plt.axis([4,18,-7, 12.0])\n",
      "plt.xlabel(r'Number of neutrons $N$',fontsize=20)\n",
      "plt.ylabel(r'$\\Delta S_n$ [MeV]',fontsize=20)\n",
      "plt.legend(('Shell gap energies for oxygen isotpes'), loc='upper right')\n",
      "plt.title(r'Shell gap energies for the oxygen isotopes')\n",
      "plt.savefig('gapoxygen.pdf')\n",
      "plt.savefig('gapoxygen.png')\n",
      "plt.show()\n"
     ],
     "language": "python",
     "metadata": {},
     "outputs": [
      {
       "metadata": {},
       "output_type": "display_data",
       "png": "[encoded data removed]",
       "text": [
        "<matplotlib.figure.Figure at 0x7fac416920d0>"
       ]
      }
     ],
     "prompt_number": 12
    },
    {
     "cell_type": "markdown",
     "metadata": {},
     "source": [
      "### Features to be noted\n",
      "Since we will focus in the beginning on single-particle degrees of freedom and mean-field approaches before we\n",
      "start with nuclear forces and many-body approaches like the nuclear shell-model, there are some features to be noted\n",
      "\n",
      "* In the discussion of the liquid drop model and binding energies, we note that the total binding energy is not that different from the sum of the individual neutron and proton masses. \n",
      "\n",
      "One may thus infer that intrinsic properties of nucleons in a nucleus are close to those of free nucleons.\n",
      "* In the discussion of the neutron separation energies for the oxygen isotopes, we note  a clear staggering effect between odd and even isotopes with the even ones being more bound (larger separation energies). We will later link this to strong pairing correlations in nuclei.\n",
      "\n",
      "* The neutron separation energy becomes negative at ${}^{25}\\mbox{O}$, making this nucleus unstable with respect to the emission of one neutron. A nucleus like ${}^{24}\\mbox{O}$ is thus the last stable oxygen isotopes which has been observed. Oyxgen-26 has been found to be unbound with respect to ${}^{24}\\mbox{O}$, see <ournals.aps.org/prl/abstract/10.1103/PhysRevLett.108.142503> .\n",
      "\n",
      "* We note also that there are large shell-gaps for some nuclei, meaning that more energy is needed to remove one nucleon. These gaps are used to define so-called magic numbers. For the oxygen isotopes we see a clear gap for ${}^{16}\\mbox{O}$. We will interpret this gap as one of several experimental properties that define so-called magic numbers. In our discussion below we will make a first interpretation using  single-particle states from the harmonic oscillator and the Woods-Saxon potential. \n",
      "\n",
      "In the exercises below you will be asked to perform a similar analysis for other chains of isotopes and interpret the results.\n",
      "\n",
      " \n",
      "\n",
      "\n",
      "### Radii\n",
      "The root-mean-square (rms) charge radius has been measured for the ground states of many\n",
      "nuclei. For a spherical charge density, $\\rho(\\boldsymbol{r})$, the mean-square radius is defined by"
     ]
    },
    {
     "cell_type": "markdown",
     "metadata": {},
     "source": [
      "$$\n",
      "\\langle r^2\\rangle = \\frac{ \\int  d \\boldsymbol{r} \\rho(\\boldsymbol{r}) r^2}{ \\int  d \\boldsymbol{r} \\rho(\\boldsymbol{r})},\n",
      "$$"
     ]
    },
    {
     "cell_type": "markdown",
     "metadata": {},
     "source": [
      "and the rms radius is the square root of this quantity denoted by"
     ]
    },
    {
     "cell_type": "markdown",
     "metadata": {},
     "source": [
      "$$\n",
      "R =\\sqrt{ \\langle r^2\\rangle}.\n",
      "$$"
     ]
    },
    {
     "cell_type": "markdown",
     "metadata": {},
     "source": [
      "### Radii\n",
      "Radii for most stable\n",
      "nuclei have been deduced from electron scattering form\n",
      "factors and/or from the x-ray transition energies of muonic atoms. \n",
      "The relative radii for a\n",
      "series of isotopes can be extracted from the isotope shifts of atomic x-ray transitions.\n",
      "The rms radius for the nuclear point-proton density, $R_p$ is obtained from the rms charge radius by:"
     ]
    },
    {
     "cell_type": "markdown",
     "metadata": {},
     "source": [
      "$$\n",
      "R_p = \\sqrt{R^2_{\\mathrm{ch}}- R^2_{\\mathrm{corr}}},\n",
      "$$"
     ]
    },
    {
     "cell_type": "markdown",
     "metadata": {},
     "source": [
      "where"
     ]
    },
    {
     "cell_type": "markdown",
     "metadata": {},
     "source": [
      "$$\n",
      "R^2_{\\mathrm{corr}}= R^2_{\\mathrm{op}}+(N/Z)R^2_{\\mathrm{on}}+R^2_{\\mathrm{rel}},\n",
      "$$"
     ]
    },
    {
     "cell_type": "markdown",
     "metadata": {},
     "source": [
      "where"
     ]
    },
    {
     "cell_type": "markdown",
     "metadata": {},
     "source": [
      "$$\n",
      "R_{\\mathrm{op}}= 0.875(7) \\mathrm{fm}.\n",
      "$$"
     ]
    },
    {
     "cell_type": "markdown",
     "metadata": {},
     "source": [
      "is the rms radius of the proton, $R^2_{\\mathrm{on}} = 0.116(2)$ $\\mbox{fm}^{2}$ is the\n",
      "mean-square radius of the neutron and $R^2_{\\mathrm{rel}} = 0.033$ $\\mbox{fm}^{2}$ is the relativistic Darwin-Foldy correction. There are also smaller nucleus-dependent relativistic spin-orbit and\n",
      "mesonic-exchange corrections that should be included.\n",
      "\n",
      "\n",
      "\n",
      "\n",
      "\n",
      "\n",
      "\n",
      "\n",
      "\n",
      "<!-- !split  -->\n",
      "### Definitions\n",
      "We will now introduce the potential models we have discussex above, namely the harmonic oscillator and the Woods-Saxon potentials.  In order to proceed, we need some definitions.\n",
      "\n",
      "We define an operator as $\\hat{O}$ throughout. Unless otherwise specified the total number of nucleons is\n",
      "always $A$ and $d$ is the dimension of the system.  In nuclear physics\n",
      "we normally define the total number of particles to be $A=N+Z$, where\n",
      "$N$ is total number of neutrons and $Z$ the total number of\n",
      "protons. In case of other baryons such as isobars $\\Delta$ or various\n",
      "hyperons such as $\\Lambda$ or $\\Sigma$, one needs to add their\n",
      "definitions.  When we refer to a single neutron we will use the label $n$ and when we refer to a single proton we will use the label $p$. Unless otherwise specified, we will simply call these particles for nucleons.\n",
      "\n",
      "\n",
      "\n",
      "### Definitions\n",
      "The quantum numbers of a single-particle state in coordinate space are\n",
      "defined by the variables"
     ]
    },
    {
     "cell_type": "markdown",
     "metadata": {},
     "source": [
      "$$\n",
      "x=(\\boldsymbol{r},\\sigma),\n",
      "$$"
     ]
    },
    {
     "cell_type": "markdown",
     "metadata": {},
     "source": [
      "where"
     ]
    },
    {
     "cell_type": "markdown",
     "metadata": {},
     "source": [
      "$$\n",
      "\\boldsymbol{r}\\in {\\mathbb{R}}^{d},\n",
      "$$"
     ]
    },
    {
     "cell_type": "markdown",
     "metadata": {},
     "source": [
      "with $d=1,2,3$ represents the spatial coordinates and $\\sigma$ is the eigenspin of the particle. For fermions with eigenspin $1/2$ this means that"
     ]
    },
    {
     "cell_type": "markdown",
     "metadata": {},
     "source": [
      "$$\n",
      "x\\in {\\mathbb{R}}^{d}\\oplus (\\frac{1}{2}),\n",
      "$$"
     ]
    },
    {
     "cell_type": "markdown",
     "metadata": {},
     "source": [
      "and the integral"
     ]
    },
    {
     "cell_type": "markdown",
     "metadata": {},
     "source": [
      "$$\n",
      "\\int dx = \\sum_{\\sigma}\\int d^dr = \\sum_{\\sigma}\\int d\\boldsymbol{r},\n",
      "$$"
     ]
    },
    {
     "cell_type": "markdown",
     "metadata": {},
     "source": [
      "and"
     ]
    },
    {
     "cell_type": "markdown",
     "metadata": {},
     "source": [
      "$$\n",
      "\\int d^Ax= \\int dx_1\\int dx_2\\dots\\int dx_A.\n",
      "$$"
     ]
    },
    {
     "cell_type": "markdown",
     "metadata": {},
     "source": [
      "Since we are dealing with protons and neutrons we need to add isospin as a new degree of freedom.\n",
      "\n",
      "\n",
      "\n",
      "\n",
      "### Definitions\n",
      "Including isospin $\\tau$ we have"
     ]
    },
    {
     "cell_type": "markdown",
     "metadata": {},
     "source": [
      "$$\n",
      "x=(\\boldsymbol{r},\\sigma,\\tau),\n",
      "$$"
     ]
    },
    {
     "cell_type": "markdown",
     "metadata": {},
     "source": [
      "where"
     ]
    },
    {
     "cell_type": "markdown",
     "metadata": {},
     "source": [
      "$$\n",
      "\\boldsymbol{r}\\in {\\mathbb{R}}^{3},\n",
      "$$"
     ]
    },
    {
     "cell_type": "markdown",
     "metadata": {},
     "source": [
      "For nucleons, which are fermions with eigenspin $1/2$ and isospin $1/2$ this means that"
     ]
    },
    {
     "cell_type": "markdown",
     "metadata": {},
     "source": [
      "$$\n",
      "x\\in {\\mathbb{R}}^{d}\\oplus (\\frac{1}{2})\\oplus (\\frac{1}{2}),\n",
      "$$"
     ]
    },
    {
     "cell_type": "markdown",
     "metadata": {},
     "source": [
      "and the integral"
     ]
    },
    {
     "cell_type": "markdown",
     "metadata": {},
     "source": [
      "$$\n",
      "\\int dx = \\sum_{\\sigma\\tau}\\int d\\boldsymbol{r},\n",
      "$$"
     ]
    },
    {
     "cell_type": "markdown",
     "metadata": {},
     "source": [
      "and"
     ]
    },
    {
     "cell_type": "markdown",
     "metadata": {},
     "source": [
      "$$\n",
      "\\int d^Ax= \\int dx_1\\int dx_2\\dots\\int dx_A.\n",
      "$$"
     ]
    },
    {
     "cell_type": "markdown",
     "metadata": {},
     "source": [
      "We will use the standard nuclear physics definition of isospin, resulting in $\\tau_z=-1/2$ for protons and $\\tau_z=1/2$ for neutrons.\n",
      "\n",
      "\n",
      "\n",
      "\n",
      "\n",
      "\n",
      "### Definitions\n",
      "The quantum mechanical wave function of a given state with quantum numbers $\\lambda$ (encompassing all quantum numbers needed to specify the system), ignoring time, is"
     ]
    },
    {
     "cell_type": "markdown",
     "metadata": {},
     "source": [
      "$$\n",
      "\\Psi_{\\lambda}=\\Psi_{\\lambda}(x_1,x_2,\\dots,x_A),\n",
      "$$"
     ]
    },
    {
     "cell_type": "markdown",
     "metadata": {},
     "source": [
      "with $x_i=(\\boldsymbol{r}_i,\\sigma_i,\\tau_i)$ and the projections of $\\sigma_i$ and $\\tau_i$ take the values\n",
      "$\\{-1/2,+1/2\\}$. \n",
      "We will hereafter always refer to $\\Psi_{\\lambda}$ as the exact wave function, and if the ground state is not degenerate we label it as"
     ]
    },
    {
     "cell_type": "markdown",
     "metadata": {},
     "source": [
      "$$\n",
      "\\Psi_0=\\Psi_0(x_1,x_2,\\dots,x_A).\n",
      "$$"
     ]
    },
    {
     "cell_type": "markdown",
     "metadata": {},
     "source": [
      "### Definitions\n",
      "Since the solution $\\Psi_{\\lambda}$ seldomly can be found in closed form, approximations are sought. In this text we define an approximative wave function or an ansatz to the exact wave function as"
     ]
    },
    {
     "cell_type": "markdown",
     "metadata": {},
     "source": [
      "$$\n",
      "\\Phi_{\\lambda}=\\Phi_{\\lambda}(x_1,x_2,\\dots,x_A),\n",
      "$$"
     ]
    },
    {
     "cell_type": "markdown",
     "metadata": {},
     "source": [
      "with"
     ]
    },
    {
     "cell_type": "markdown",
     "metadata": {},
     "source": [
      "$$\n",
      "\\Phi_{0}=\\Phi_{0}(x_{1},x_{2},\\dots,x_{A}),\n",
      "$$"
     ]
    },
    {
     "cell_type": "markdown",
     "metadata": {},
     "source": [
      "being the ansatz for the ground state.\n",
      "\n",
      "\n",
      "\n",
      "\n",
      "### Definitions\n",
      "The wave function $\\Psi_{\\lambda}$ is sought in the Hilbert space of either symmetric or anti-symmetric $N$-body functions, namely"
     ]
    },
    {
     "cell_type": "markdown",
     "metadata": {},
     "source": [
      "$$\n",
      "\\Psi_{\\lambda}\\in {\\cal H}_A:= {\\cal H}_1\\oplus{\\cal H}_1\\oplus\\dots\\oplus{\\cal H}_1,\n",
      "$$"
     ]
    },
    {
     "cell_type": "markdown",
     "metadata": {},
     "source": [
      "where the single-particle Hilbert space $\\hat{H}_1$ is the space of square integrable functions over $\\in {\\mathbb{R}}^{d}\\oplus (\\sigma)\\oplus (\\tau)$ resulting in"
     ]
    },
    {
     "cell_type": "markdown",
     "metadata": {},
     "source": [
      "$$\n",
      "{\\cal H}_1:= L^2(\\mathbb{R}^{d}\\oplus (\\sigma)\\oplus (\\tau)).\n",
      "$$"
     ]
    },
    {
     "cell_type": "markdown",
     "metadata": {},
     "source": [
      "### Definitions\n",
      "Our Hamiltonian is invariant under the permutation (interchange) of two particles.\n",
      "Since we deal with fermions however, the total wave function is antisymmetric.\n",
      "Let $\\hat{P}$ be an operator which interchanges two particles.\n",
      "Due to the symmetries we have ascribed to our Hamiltonian, this operator commutes with the total Hamiltonian,"
     ]
    },
    {
     "cell_type": "markdown",
     "metadata": {},
     "source": [
      "$$\n",
      "[\\hat{H},\\hat{P}] = 0,\n",
      "$$"
     ]
    },
    {
     "cell_type": "markdown",
     "metadata": {},
     "source": [
      "meaning that $\\Psi_{\\lambda}(x_1, x_2, \\dots , x_A)$ is an eigenfunction of \n",
      "$\\hat{P}$ as well, that is"
     ]
    },
    {
     "cell_type": "markdown",
     "metadata": {},
     "source": [
      "$$\n",
      "\\hat{P}_{ij}\\Psi_{\\lambda}(x_1, x_2, \\dots,x_i,\\dots,x_j,\\dots,x_A)=\n",
      "\\beta\\Psi_{\\lambda}(x_1, x_2, \\dots,x_j,\\dots,x_i,\\dots,x_A),\n",
      "$$"
     ]
    },
    {
     "cell_type": "markdown",
     "metadata": {},
     "source": [
      "where $\\beta$ is the eigenvalue of $\\hat{P}$. We have introduced the suffix $ij$ in order to indicate that we permute particles $i$ and $j$.\n",
      "The Pauli principle tells us that the total wave function for a system of fermions\n",
      "has to be antisymmetric, resulting in the eigenvalue $\\beta = -1$.\n",
      "\n",
      "\n",
      "\n",
      "\n",
      "### Definitions and notations\n",
      "The Schrodinger equation reads"
     ]
    },
    {
     "cell_type": "markdown",
     "metadata": {},
     "source": [
      "<!-- Equation labels as ordinary links -->\n",
      "<div id=\"eq:basicSE1\"></div>\n",
      "\n",
      "$$\n",
      "\\begin{equation}\n",
      "\\hat{H}(x_1, x_2, \\dots , x_A) \\Psi_{\\lambda}(x_1, x_2, \\dots , x_A) = \n",
      "E_\\lambda  \\Psi_\\lambda(x_1, x_2, \\dots , x_A), \\label{eq:basicSE1} \\tag{1}\n",
      "\\end{equation}\n",
      "$$"
     ]
    },
    {
     "cell_type": "markdown",
     "metadata": {},
     "source": [
      "where the vector $x_i$ represents the coordinates (spatial, spin and isospin) of particle $i$, $\\lambda$ stands  for all the quantum\n",
      "numbers needed to classify a given $A$-particle state and $\\Psi_{\\lambda}$ is the pertaining eigenfunction.  Throughout this course,\n",
      "$\\Psi$ refers to the exact eigenfunction, unless otherwise stated.\n",
      "\n",
      "\n",
      "\n",
      "### Definitions and notations\n",
      "We write the Hamilton operator, or Hamiltonian,  in a generic way"
     ]
    },
    {
     "cell_type": "markdown",
     "metadata": {},
     "source": [
      "$$\n",
      "\\hat{H} = \\hat{T} + \\hat{V}\n",
      "$$"
     ]
    },
    {
     "cell_type": "markdown",
     "metadata": {},
     "source": [
      "where $\\hat{T}$  represents the kinetic energy of the system"
     ]
    },
    {
     "cell_type": "markdown",
     "metadata": {},
     "source": [
      "$$\n",
      "\\hat{T} = \\sum_{i=1}^A \\frac{\\mathbf{p}_i^2}{2m_i} = \\sum_{i=1}^A \\left( -\\frac{\\hbar^2}{2m_i} \\mathbf{\\nabla_i}^2 \\right) =\n",
      "\t\t\\sum_{i=1}^A t(x_i)\n",
      "$$"
     ]
    },
    {
     "cell_type": "markdown",
     "metadata": {},
     "source": [
      "while the operator $\\hat{V}$ for the potential energy is given by"
     ]
    },
    {
     "cell_type": "markdown",
     "metadata": {},
     "source": [
      "<!-- Equation labels as ordinary links -->\n",
      "<div id=\"eq:firstv\"></div>\n",
      "\n",
      "$$\n",
      "\\begin{equation}\n",
      "\t\\hat{V} = \\sum_{i=1}^A \\hat{u}_{\\mathrm{ext}}(x_i) + \\sum_{ji=1}^A v(x_i,x_j)+\\sum_{ijk=1}^Av(x_i,x_j,x_k)+\\dots\n",
      "\\label{eq:firstv} \\tag{2}\n",
      "\\end{equation}\n",
      "$$"
     ]
    },
    {
     "cell_type": "markdown",
     "metadata": {},
     "source": [
      "Hereafter we use natural units, viz. $\\hbar=c=e=1$, with $e$ the elementary charge and $c$ the speed of light. This means that momenta and masses\n",
      "have dimension energy.\n",
      "\n",
      "\n",
      "\n",
      "\n",
      "\n",
      "### Definitions and notations\n",
      "The potential energy part includes also an external potential $\\hat{u}_{\\mathrm{ext}}(x_i)$.\n",
      "\n",
      "In a non-relativistic approach to atomic  physics, this external potential is given by the attraction an electron feels from the atomic nucleus. The latter being much heavier than the involved electrons, is often used to define a natural center of mass. In nuclear physics there is no such external potential. It is the nuclear force which results in binding in nuclear systems. In a non-relativistic framework, the nuclear force contains two-body, three-body and more complicated degrees of freedom. The potential energy reads then"
     ]
    },
    {
     "cell_type": "markdown",
     "metadata": {},
     "source": [
      "$$\n",
      "\\hat{V} = \\sum_{ij}^A v(x_i,x_j)+\\sum_{ijk}^Av(x_i,x_j,x_k)+\\dots\n",
      "$$"
     ]
    },
    {
     "cell_type": "markdown",
     "metadata": {},
     "source": [
      "Three-body and more  complicated forces arise since we are dealing with protons and neutrons as effective degrees of freedom. We will come back to this topic later. Furthermore, in large parts of these lectures we will assume that the potential energy can be approximated by a two-body interaction only. Our Hamiltonian reads then"
     ]
    },
    {
     "cell_type": "markdown",
     "metadata": {},
     "source": [
      "<!-- Equation labels as ordinary links -->\n",
      "<div id=\"eq:firstH\"></div>\n",
      "\n",
      "$$\n",
      "\\begin{equation}\n",
      "\t\\hat{H} = \\sum_{i=1}^A \\frac{\\mathbf{p}_i^2}{2m_i}+\\sum_{ij}^A v(x_i,x_j).\n",
      "\\label{eq:firstH} \\tag{3}\n",
      "\\end{equation}\n",
      "$$"
     ]
    },
    {
     "cell_type": "markdown",
     "metadata": {},
     "source": [
      "### A modified Hamiltonian\n",
      "It is however, from a computational point of view, convenient to introduce an external potential $\\hat{u}_{\\mathrm{ext}}(x_i)$ by adding and substracting it to the original Hamiltonian. \n",
      "This means that our Hamiltonian can be rewritten as"
     ]
    },
    {
     "cell_type": "markdown",
     "metadata": {},
     "source": [
      "$$\n",
      "\\hat{H} = \\hat{H}_0 + \\hat{H}_I \n",
      "    = \\sum_{i=1}^A \\hat{h}_0(x_i) + \\sum_{i < j=1}^A \\hat{v}(x_{ij})-\\sum_{i=1}^A\\hat{u}_{\\mathrm{ext}}(x_i),\n",
      "$$"
     ]
    },
    {
     "cell_type": "markdown",
     "metadata": {},
     "source": [
      "with"
     ]
    },
    {
     "cell_type": "markdown",
     "metadata": {},
     "source": [
      "$$\n",
      "\\hat{H}_0=\\sum_{i=1}^A \\hat{h}_0(x_i) =  \\sum_{i=1}^A\\left(\\hat{t}(x_i) + \\hat{u}_{\\mathrm{ext}}(x_i)\\right).\n",
      "$$"
     ]
    },
    {
     "cell_type": "markdown",
     "metadata": {},
     "source": [
      "The interaction (or potential energy term) reads now"
     ]
    },
    {
     "cell_type": "markdown",
     "metadata": {},
     "source": [
      "$$\n",
      "\\hat{H}_I=  \\sum_{i < j=1}^A \\hat{v}(x_{ij})-\\sum_{i=1}^A\\hat{u}_{\\mathrm{ext}}(x_i).\n",
      "$$"
     ]
    },
    {
     "cell_type": "markdown",
     "metadata": {},
     "source": [
      "In nuclear physics the one-body part $u_{\\mathrm{ext}}(x_i)$ is often approximated by a harmonic oscillator potential or a\n",
      "Woods-Saxon potential. However, this is not fully correct, because as we have discussed, nuclei are self-bound systems and there is no external confining potential. As we will see later, *the $\\hat{H}_0$ part of the hamiltonian cannot be used to compute the binding energy of a nucleus since it is not based on a model for the nuclear forces*. That is, the binding energy is not the sum of the individual single-particle energies.\n",
      "\n",
      "\n",
      "\n",
      "\n",
      "### A modified Hamiltonian\n",
      "Why do we introduce the  Hamiltonian  in the form"
     ]
    },
    {
     "cell_type": "markdown",
     "metadata": {},
     "source": [
      "$$\n",
      "\\hat{H} = \\hat{H}_0 + \\hat{H}_I?\n",
      "$$"
     ]
    },
    {
     "cell_type": "markdown",
     "metadata": {},
     "source": [
      "There are many reasons for this. Let us look at some of them, using the harmonic oscillator in three dimensions as our starting point. For the harmonic oscillator we know that"
     ]
    },
    {
     "cell_type": "markdown",
     "metadata": {},
     "source": [
      "$$\n",
      "\\hat{h}_0(x_i)\\psi_{\\alpha}(x_i)=\\varepsilon_{\\alpha}\\psi_{\\alpha}(x_i),\n",
      "$$"
     ]
    },
    {
     "cell_type": "markdown",
     "metadata": {},
     "source": [
      "where the eigenvalues are $\\varepsilon_{\\alpha}$ and the eigenfunctions are $\\psi_{\\alpha}(x_i)$. The subscript $\\alpha$ represents quantum numbers like the orbital angular momentum $l_{\\alpha}$, its projection $m_{l_{\\alpha}}$ and the   \n",
      "principal quantum number $n_{\\alpha}=0,1,2,\\dots$. \n",
      "\n",
      "The eigenvalues are"
     ]
    },
    {
     "cell_type": "markdown",
     "metadata": {},
     "source": [
      "$$\n",
      "\\varepsilon_{\\alpha} = \\hbar\\omega \\left(2n_{\\alpha}+l_{\\alpha}+\\frac{3}{2}\\right).\n",
      "$$"
     ]
    },
    {
     "cell_type": "markdown",
     "metadata": {},
     "source": [
      "### A modified Hamiltonian\n",
      "The following mathematical properties of the  harmonic oscillator are handy. \n",
      " * First of all we have a complete basis of orthogonal eigenvectors. These have well-know expressions and can be easily be encoded. \n",
      "\n",
      " * With a complete basis $\\psi_{\\alpha}(x_i)$, we can construct a new basis $\\phi_{\\tau}(x_i)$ by expanding in terms of a harmonic oscillator basis, that is"
     ]
    },
    {
     "cell_type": "markdown",
     "metadata": {},
     "source": [
      "$$\n",
      "\\phi_{\\tau}(x_i)=\\sum_{\\alpha} C_{\\tau\\alpha}\\psi_{\\alpha}(x_i),\n",
      "$$"
     ]
    },
    {
     "cell_type": "markdown",
     "metadata": {},
     "source": [
      "where $C_{\\tau\\alpha}$ represents the overlap between the two basis sets. \n",
      " * As we will see later, the harmonic oscillator basis allows us to compute in an expedient way matrix elements of the interactions between two nucleons.  Using the above expansion we can in turn represent nuclear forces in terms of new basis, for example the  Woods-Saxon basis  to be discussed later here.\n",
      "\n",
      "\n",
      "\n",
      "\n",
      "### A modified Hamiltonian\n",
      "The harmonic oscillator (a shifted one by a negative constant) provides also a very good approximation to most bound single-particle states. Furthermore, it serves as a starting point in building up our picture of nuclei, in particular how we define magic numbers and systems with one nucleon added to (or removed from) a closed-shell core nucleus. The figure here shows \n",
      "the various harmonic oscillator states, with those obtained with a Woods-Saxon potential as well, including a spin-orbit splitting (to be discussed below).\n",
      "\n",
      "<p></p>\n",
      "<img src=\"figslides/singleparticle.png\" width=500>\n",
      "\n",
      "\n",
      "\n",
      "\n",
      "\n",
      "\n",
      "\n",
      "\n",
      "\n",
      "### The harmonic oscillator Hamiltonian\n",
      "In nuclear physics the one-body part $u_{\\mathrm{ext}}(x_i)$ is often \n",
      "approximated by a harmonic oscillator potential. However,  as we also noted with the Woods-Saxon potential there is no \n",
      "external confining potential in nuclei. \n",
      "\n",
      "What many people do then, is to add and subtract a harmonic oscillator potential,\n",
      "with"
     ]
    },
    {
     "cell_type": "markdown",
     "metadata": {},
     "source": [
      "$$\n",
      "\\hat{u}_{\\mathrm{ext}}(x_i)=\\hat{u}_{\\mathrm{ho}}(x_i)= \\frac{1}{2}m\\omega^2 r_i^2,\n",
      "$$"
     ]
    },
    {
     "cell_type": "markdown",
     "metadata": {},
     "source": [
      "where $\\omega$ is the oscillator frequency. This leads to"
     ]
    },
    {
     "cell_type": "markdown",
     "metadata": {},
     "source": [
      "$$\n",
      "\\hat{H} = \\hat{H_0} + \\hat{H_I} \n",
      "    = \\sum_{i=1}^A \\hat{h}_0(x_i) + \\sum_{i < j=1}^A \\hat{v}(x_{ij})-\\sum_{i=1}^A\\hat{u}_{\\mathrm{ho}}(x_i),\n",
      "$$"
     ]
    },
    {
     "cell_type": "markdown",
     "metadata": {},
     "source": [
      "with"
     ]
    },
    {
     "cell_type": "markdown",
     "metadata": {},
     "source": [
      "$$\n",
      "H_0=\\sum_{i=1}^A \\hat{h}_0(x_i) =  \\sum_{i=1}^A\\left(\\hat{t}(x_i) + \\hat{u}_{\\mathrm{ho}}(x_i)\\right).\n",
      "$$"
     ]
    },
    {
     "cell_type": "markdown",
     "metadata": {},
     "source": [
      "Many practitioners use this as the standard Hamiltonian when doing nuclear structure calculations. \n",
      "This is ok if the number of nucleons is large, but still with this Hamiltonian, we do not obey translational invariance.  How can we cure this?\n",
      "\n",
      "\n",
      "\n",
      "### Translationally Invariant Hamiltonian\n",
      " In setting up a translationally invariant Hamiltonian  \n",
      " the following expressions are helpful.\n",
      " The center-of-mass (CoM)  momentum is"
     ]
    },
    {
     "cell_type": "markdown",
     "metadata": {},
     "source": [
      "$$\n",
      "P=\\sum_{i=1}^A\\boldsymbol{p}_i,\n",
      "$$"
     ]
    },
    {
     "cell_type": "markdown",
     "metadata": {},
     "source": [
      "and we have that"
     ]
    },
    {
     "cell_type": "markdown",
     "metadata": {},
     "source": [
      "$$\n",
      "\\sum_{i=1}^A\\boldsymbol{p}_i^2 =\n",
      " \\frac{1}{A}\\left[\\boldsymbol{P}^2+\\sum_{i < j}(\\boldsymbol{p}_i-\\boldsymbol{p}_j)^2\\right]\n",
      "$$"
     ]
    },
    {
     "cell_type": "markdown",
     "metadata": {},
     "source": [
      "meaning that"
     ]
    },
    {
     "cell_type": "markdown",
     "metadata": {},
     "source": [
      "$$\n",
      "\\left[\\sum_{i=1}^A\\frac{\\boldsymbol{p}_i^2}{2m} -\\frac{\\boldsymbol{P}^2}{2mA}\\right]\n",
      " =\\frac{1}{2mA}\\sum_{i < j}(\\boldsymbol{p}_i-\\boldsymbol{p}_j)^2.\n",
      "$$"
     ]
    },
    {
     "cell_type": "markdown",
     "metadata": {},
     "source": [
      "### The harmonic oscillator Hamiltonian\n",
      " In a similar fashion we can define the CoM coordinate"
     ]
    },
    {
     "cell_type": "markdown",
     "metadata": {},
     "source": [
      "$$\n",
      "\\boldsymbol{R}=\\frac{1}{A}\\sum_{i=1}^{A}\\boldsymbol{r}_i,\n",
      "$$"
     ]
    },
    {
     "cell_type": "markdown",
     "metadata": {},
     "source": [
      "which yields"
     ]
    },
    {
     "cell_type": "markdown",
     "metadata": {},
     "source": [
      "$$\n",
      "\\sum_{i=1}^A\\boldsymbol{r}_i^2 =\n",
      " \\frac{1}{A}\\left[A^2\\boldsymbol{R}^2+\\sum_{i < j}(\\boldsymbol{r}_i-\\boldsymbol{r}_j)^2\\right].\n",
      "$$"
     ]
    },
    {
     "cell_type": "markdown",
     "metadata": {},
     "source": [
      "### The harmonic oscillator Hamiltonian\n",
      " If we then introduce the harmonic oscillator one-body Hamiltonian"
     ]
    },
    {
     "cell_type": "markdown",
     "metadata": {},
     "source": [
      "$$\n",
      "H_0= \\sum_{i=1}^A\\left(\\frac{\\boldsymbol{p}_i^2}{2m}+\n",
      "\t   \\frac{1}{2}m\\omega^2\\boldsymbol{r}_i^2\\right),\n",
      "$$"
     ]
    },
    {
     "cell_type": "markdown",
     "metadata": {},
     "source": [
      "with $\\omega$ the oscillator frequency,\n",
      " we can rewrite the latter as"
     ]
    },
    {
     "cell_type": "markdown",
     "metadata": {},
     "source": [
      "<!-- Equation labels as ordinary links -->\n",
      "<div id=\"eq:obho\"></div>\n",
      "\n",
      "$$\n",
      "H_{\\mathrm{HO}}= \\frac{\\boldsymbol{P}^2}{2mA}+\\frac{mA\\omega^2\\boldsymbol{R}^2}{2}\n",
      "\t    +\\frac{1}{2mA}\\sum_{i < j}(\\boldsymbol{p}_i-\\boldsymbol{p}_j)^2\n",
      "\t    +\\frac{m\\omega^2}{2A}\\sum_{i < j}(\\boldsymbol{r}_i-\\boldsymbol{r}_j)^2.\n",
      "     \\label{eq:obho} \\tag{4}\n",
      "$$"
     ]
    },
    {
     "cell_type": "markdown",
     "metadata": {},
     "source": [
      "Alternatively, we could write it as"
     ]
    },
    {
     "cell_type": "markdown",
     "metadata": {},
     "source": [
      "$$\n",
      "H_{\\mathrm{HO}}= H_{\\mathrm{CoM}}+\\frac{1}{2mA}\\sum_{i < j}(\\boldsymbol{p}_i-\\boldsymbol{p}_j)^2\n",
      "\t    +\\frac{m\\omega^2}{2A}\\sum_{i < j}(\\boldsymbol{r}_i-\\boldsymbol{r}_j)^2,\n",
      "$$"
     ]
    },
    {
     "cell_type": "markdown",
     "metadata": {},
     "source": [
      "The center-of-mass term is defined as"
     ]
    },
    {
     "cell_type": "markdown",
     "metadata": {},
     "source": [
      "$$\n",
      "H_{\\mathrm{CoM}}= \\frac{\\boldsymbol{P}^2}{2mA}+\\frac{mA\\omega^2\\boldsymbol{R}^2}{2}.\n",
      "$$"
     ]
    },
    {
     "cell_type": "markdown",
     "metadata": {},
     "source": [
      "### Translationally Invariant Hamiltonian\n",
      " The translationally invariant one- and two-body  Hamiltonian reads for an A-nucleon system,"
     ]
    },
    {
     "cell_type": "markdown",
     "metadata": {},
     "source": [
      "<!-- Equation labels as ordinary links -->\n",
      "<div id=\"eq:ham\"></div>\n",
      "\n",
      "$$\n",
      "\\label{eq:ham} \\tag{5}\n",
      "\\hat{H}=\\left[\\sum_{i=1}^A\\frac{\\boldsymbol{p}_i^2}{2m} -\\frac{\\boldsymbol{P}^2}{2mA}\\right] +\\sum_{i < j}^A V_{ij} \\; ,\n",
      "$$"
     ]
    },
    {
     "cell_type": "markdown",
     "metadata": {},
     "source": [
      "where $V_{ij}$ is the nucleon-nucleon interaction. Adding zero as here"
     ]
    },
    {
     "cell_type": "markdown",
     "metadata": {},
     "source": [
      "$$\n",
      "\\sum_{i=1}^A\\frac{1}{2}m\\omega^2\\boldsymbol{r}_i^2-\n",
      " \\frac{m\\omega^2}{2A}\\left[\\boldsymbol{R}^2+\\sum_{i < j}(\\boldsymbol{r}_i-\\boldsymbol{r}_j)^2\\right]=0.\n",
      "$$"
     ]
    },
    {
     "cell_type": "markdown",
     "metadata": {},
     "source": [
      "we can then rewrite the Hamiltonian as"
     ]
    },
    {
     "cell_type": "markdown",
     "metadata": {},
     "source": [
      "$$\n",
      "\\hat{H}=\\sum_{i=1}^A \\left[ \\frac{\\boldsymbol{p}_i^2}{2m}\n",
      " +\\frac{1}{2}m\\omega^2 \\boldsymbol{r}^2_i\n",
      " \\right] + \\sum_{i < j}^A \\left[ V_{ij}-\\frac{m\\omega^2}{2A}\n",
      " (\\boldsymbol{r}_i-\\boldsymbol{r}_j)^2\n",
      " \\right]-H_{\\mathrm{CoM}}.\n",
      "$$"
     ]
    },
    {
     "cell_type": "markdown",
     "metadata": {},
     "source": [
      "### The Woods-Saxon potential\n",
      "The Woods-Saxon potential is a mean field potential for the nucleons (protons and neutrons) \n",
      "inside an atomic nucleus. It represent an average potential that a given nucleon feels from  the forces applied on each nucleon. \n",
      "The parametrization is"
     ]
    },
    {
     "cell_type": "markdown",
     "metadata": {},
     "source": [
      "$$\n",
      "\\hat{u}_{\\mathrm{ext}}(r)=-\\frac{V_0}{1+\\exp{(r-R)/a}},\n",
      "$$"
     ]
    },
    {
     "cell_type": "markdown",
     "metadata": {},
     "source": [
      "with $V_0\\approx 50$ MeV representing the potential well depth, $a\\approx 0.5$ fm \n",
      "length representing the \"surface thickness\" of the nucleus and $R=r_0A^{1/3}$, with $r_0=1.25$ fm and $A$ the number of nucleons.\n",
      "The value for $r_0$ can be extracted from a fit to data, see for example M. Kirson, <http://www.sciencedirect.com/science/article/pii/S037594740600769X>.\n",
      "\n",
      "\n",
      "\n",
      "\n",
      "### The Woods-Saxon potential\n",
      "The following python code produces a plot of the Woods-Saxon potential with the above parameters."
     ]
    },
    {
     "cell_type": "code",
     "collapsed": false,
     "input": [
      "import numpy as np\n",
      "from  matplotlib import pyplot as plt\n",
      "from matplotlib import rc, rcParams\n",
      "import matplotlib.units as units\n",
      "import matplotlib.ticker as ticker\n",
      "rc('text',usetex=True)\n",
      "rc('font',**{'family':'serif','serif':['Woods-Saxon potential']})\n",
      "font = {'family' : 'serif',\n",
      "        'color'  : 'darkred',\n",
      "        'weight' : 'normal',\n",
      "        'size'   : 16,\n",
      "        }\n",
      "v0 = 50\n",
      "A = 100\n",
      "a = 0.5\n",
      "r0 = 1.25\n",
      "R = r0*A**(0.3333)\n",
      "x = np.linspace(0.0, 10.0)\n",
      "y = -v0/(1+np.exp((x-R)/a))\n",
      "\n",
      "plt.plot(x, y, 'b-')\n",
      "plt.title(r'{\\bf Woods-Saxon potential}', fontsize=20)     \n",
      "plt.text(3, -40, r'Parameters: $A=20$, $V_0=50$ [MeV]', fontdict=font)\n",
      "plt.text(3, -44, r'$a=0.5$ [fm], $r_0=1.25$ [fm]', fontdict=font)\n",
      "plt.xlabel(r'$r$ [fm]',fontsize=20)\n",
      "plt.ylabel(r'$V(r)$ [MeV]',fontsize=20)\n",
      "\n",
      "# Tweak spacing to prevent clipping of ylabel\n",
      "plt.subplots_adjust(left=0.15)\n",
      "plt.savefig('woodsaxon.pdf', format='pdf')\n"
     ],
     "language": "python",
     "metadata": {},
     "outputs": [],
     "prompt_number": 1
    },
    {
     "cell_type": "markdown",
     "metadata": {},
     "source": [
      "From the plot we notice that the potential\n",
      "* rapidly approaches zero as $r$ goes to infinity, reflecting the short-distance nature of the strong nuclear force.\n",
      "\n",
      "* For large $A$, it is approximately flat in the center.\n",
      "\n",
      "* Nucleons near the surface of the nucleus experience a large force towards the center.\n",
      "\n",
      "\n",
      "\n",
      "\n",
      "\n",
      "\n",
      "### Single-particle Hamiltonians and spin-orbit force\n",
      "We have introduced a single-particle Hamiltonian"
     ]
    },
    {
     "cell_type": "markdown",
     "metadata": {},
     "source": [
      "$$\n",
      "H_0=\\sum_{i=1}^A \\hat{h}_0(x_i) =  \\sum_{i=1}^A\\left(\\hat{t}(x_i) + \\hat{u}_{\\mathrm{ext}}(x_i)\\right),\n",
      "$$"
     ]
    },
    {
     "cell_type": "markdown",
     "metadata": {},
     "source": [
      "with an external and central symmetric potential $u_{\\mathrm{ext}}(x_i)$, which is often \n",
      "approximated by a harmonic oscillator potential or a Woods-Saxon potential. Being central symmetric leads to a degeneracy \n",
      "in energy which is not observed experimentally. We see this from for example our discussion of separation energies and magic numbers. There are, in addition to the assumed magic numbers from a harmonic oscillator basis of $2,8,20,40,70\\dots$ magic numbers like $28$, $50$, $82$ and $126$. \n",
      "\n",
      "To produce these additional numbers, we need to add a phenomenological spin-orbit force which lifts the degeneracy, that is"
     ]
    },
    {
     "cell_type": "markdown",
     "metadata": {},
     "source": [
      "$$\n",
      "\\hat{h}(x_i) =  \\hat{t}(x_i) + \\hat{u}_{\\mathrm{ext}}(x_i) +\\xi(\\boldsymbol{r})\\boldsymbol{ls}=\\hat{h}_0(x_i)+\\xi(\\boldsymbol{r})\\boldsymbol{ls}.\n",
      "$$"
     ]
    },
    {
     "cell_type": "markdown",
     "metadata": {},
     "source": [
      "### Single-particle Hamiltonians and spin-orbit force\n",
      "We have introduced a modified single-particle Hamiltonian"
     ]
    },
    {
     "cell_type": "markdown",
     "metadata": {},
     "source": [
      "$$\n",
      "\\hat{h}(x_i) =  \\hat{t}(x_i) + \\hat{u}_{\\mathrm{ext}}(x_i) +\\xi(\\boldsymbol{r})\\boldsymbol{ls}=\\hat{h}_0(x_i)+\\xi(\\boldsymbol{r})\\boldsymbol{ls}.\n",
      "$$"
     ]
    },
    {
     "cell_type": "markdown",
     "metadata": {},
     "source": [
      "We can calculate the expectation value of the latter using the fact that"
     ]
    },
    {
     "cell_type": "markdown",
     "metadata": {},
     "source": [
      "$$\n",
      "\\xi(\\boldsymbol{r})\\boldsymbol{ls}=\\frac{1}{2}\\xi(\\boldsymbol{r})\\left(\\boldsymbol{j}^2-\\boldsymbol{l}^2-\\boldsymbol{s}^2\\right).\n",
      "$$"
     ]
    },
    {
     "cell_type": "markdown",
     "metadata": {},
     "source": [
      "For a single-particle state with quantum numbers $nlj$ (we suppress $s$ and $m_j$), with $s=1/2$, we obtain the single-particle energies"
     ]
    },
    {
     "cell_type": "markdown",
     "metadata": {},
     "source": [
      "$$\n",
      "\\varepsilon_{nlj} = \\varepsilon_{nlj}^{(0)}+\\Delta\\varepsilon_{nlj},\n",
      "$$"
     ]
    },
    {
     "cell_type": "markdown",
     "metadata": {},
     "source": [
      "with $\\varepsilon_{nlj}^{(0)}$ being the single-particle energy obtained with $\\hat{h}_0(x)$ and"
     ]
    },
    {
     "cell_type": "markdown",
     "metadata": {},
     "source": [
      "$$\n",
      "\\Delta\\varepsilon_{nlj}=\\frac{C}{2}\\left(j(j+1)-l(l+1)-\\frac{3}{4}\\right).\n",
      "$$"
     ]
    },
    {
     "cell_type": "markdown",
     "metadata": {},
     "source": [
      "### Single-particle Hamiltonians and spin-orbit force\n",
      "The spin-orbit force gives thus an additional contribution to the energy"
     ]
    },
    {
     "cell_type": "markdown",
     "metadata": {},
     "source": [
      "$$\n",
      "\\Delta\\varepsilon_{nlj}=\\frac{C}{2}\\left(j(j+1)-l(l+1)-\\frac{3}{4}\\right),\n",
      "$$"
     ]
    },
    {
     "cell_type": "markdown",
     "metadata": {},
     "source": [
      "which lifts the degeneracy we have seen before in the harmonic oscillator or Woods-Saxon potentials. The value $C$ is the radial\n",
      "integral involving $\\xi(\\boldsymbol{r})$. Depending on the value of $j=l\\pm 1/2$, we obtain"
     ]
    },
    {
     "cell_type": "markdown",
     "metadata": {},
     "source": [
      "$$\n",
      "\\Delta\\varepsilon_{nlj=l-1/2}=\\frac{C}{2}l,\n",
      "$$"
     ]
    },
    {
     "cell_type": "markdown",
     "metadata": {},
     "source": [
      "or"
     ]
    },
    {
     "cell_type": "markdown",
     "metadata": {},
     "source": [
      "$$\n",
      "\\Delta\\varepsilon_{nlj=l+1/2}=-\\frac{C}{2}(l+1),\n",
      "$$"
     ]
    },
    {
     "cell_type": "markdown",
     "metadata": {},
     "source": [
      "clearly lifting the degeneracy. Note well that till now we have simply postulated the spin-orbit force in *ad hoc* way.\n",
      "Later, we will see how this term arises from the two-nucleon force in a natural way.\n",
      "\n",
      "\n",
      "\n",
      "### Single-particle Hamiltonians and spin-orbit force\n",
      "With the spin-orbit force, we can modify our Woods-Saxon potential to"
     ]
    },
    {
     "cell_type": "markdown",
     "metadata": {},
     "source": [
      "$$\n",
      "\\hat{u}_{\\mathrm{ext}}(r)=-\\frac{V_0}{1+\\exp{(r-R)/a}}+V_{so}(r)\\boldsymbol{ls},\n",
      "$$"
     ]
    },
    {
     "cell_type": "markdown",
     "metadata": {},
     "source": [
      "with"
     ]
    },
    {
     "cell_type": "markdown",
     "metadata": {},
     "source": [
      "$$\n",
      "V_{so}(r) = V_{so}\\frac{1}{r}\\frac{d f_{so}(r)}{dr},\n",
      "$$"
     ]
    },
    {
     "cell_type": "markdown",
     "metadata": {},
     "source": [
      "where we have"
     ]
    },
    {
     "cell_type": "markdown",
     "metadata": {},
     "source": [
      "$$\n",
      "f_{so}(r) = \\frac{1}{1+\\exp{(r-R_{so})/a_{so}}}.\n",
      "$$"
     ]
    },
    {
     "cell_type": "markdown",
     "metadata": {},
     "source": [
      "We can also add, in case of proton, a Coulomb potential. The Woods-Saxon potential has been widely used in parametrizations of\n",
      "effective single-particle potentials. **However, as was the case with the harmonic oscillator, none of these potentials are linked directly to the nuclear forces**. Our next step is to build a mean field based on the nucleon-nucleon interaction.\n",
      "This will lead us to our first and simplest many-body theory, Hartree-Fock theory.\n",
      "\n",
      "\n",
      "\n",
      "\n",
      "### Single-particle Hamiltonians and spin-orbit force\n",
      "The Woods-Saxon potential does allow for closed-form or analytical solutions of the eigenvalue problem"
     ]
    },
    {
     "cell_type": "markdown",
     "metadata": {},
     "source": [
      "$$\n",
      "\\hat{h}_0(x_i)\\psi_{\\alpha}(x_i)=\\varepsilon_{\\alpha}\\psi_{\\alpha}(x_i).\n",
      "$$"
     ]
    },
    {
     "cell_type": "markdown",
     "metadata": {},
     "source": [
      "For the harmonic oscillator in three dimensions we have closed-form expressions for the energies and analytical solutions for the eigenstates,\n",
      "with the latter given by either Hermite polynomials (cartesian coordinates) or Laguerre polynomials (spherical coordinates).\n",
      "\n",
      "To solve the above equation is however rather straightforward numerically.\n",
      "\n",
      "\n",
      "\n",
      "### Numerical solution of the single-particle Schroedinger equation\n",
      "We will illustrate the numerical solution of Schroedinger's equation by solving it for the harmonic oscillator in three dimensions.\n",
      "It is straightforward to change the harmonic oscillator potential with a Woods-Saxon potential, or any other type of potentials. \n",
      "\n",
      "We are interested in the solution of the radial part of Schroedinger's equation for one nucleon. \n",
      "The angular momentum part  is given by the so-called Spherical harmonics. \n",
      "\n",
      "The radial equation reads"
     ]
    },
    {
     "cell_type": "markdown",
     "metadata": {},
     "source": [
      "$$\n",
      "-\\frac{\\hbar^2}{2 m} \\left ( \\frac{1}{r^2} \\frac{d}{dr} r^2\n",
      "  \\frac{d}{dr} - \\frac{l (l + 1)}{r^2} \\right )R(r) \n",
      "     + V(r) R(r) = E R(r).\n",
      "$$"
     ]
    },
    {
     "cell_type": "markdown",
     "metadata": {},
     "source": [
      "In our case $V(r)$ is the harmonic oscillator potential $(1/2)kr^2$ with\n",
      "$k=m\\omega^2$ and $E$ is\n",
      "the energy of the harmonic oscillator in three dimensions.\n",
      "The oscillator frequency is $\\omega$ and the energies are"
     ]
    },
    {
     "cell_type": "markdown",
     "metadata": {},
     "source": [
      "$$\n",
      "E_{nl}=  \\hbar \\omega \\left(2n+l+\\frac{3}{2}\\right),\n",
      "$$"
     ]
    },
    {
     "cell_type": "markdown",
     "metadata": {},
     "source": [
      "with $n=0,1,2,\\dots$ and $l=0,1,2,\\dots$.\n",
      "\n",
      "\n",
      "\n",
      "\n",
      "### Numerical solution of the single-particle Schroedinger equation\n",
      "Since we have made a transformation to spherical coordinates it means that \n",
      "$r\\in [0,\\infty)$.  \n",
      "The quantum number\n",
      "$l$ is the orbital momentum of the nucleon.   Then we substitute $R(r) = (1/r) u(r)$ and obtain"
     ]
    },
    {
     "cell_type": "markdown",
     "metadata": {},
     "source": [
      "$$\n",
      "-\\frac{\\hbar^2}{2 m} \\frac{d^2}{dr^2} u(r) \n",
      "       + \\left ( V(r) + \\frac{l (l + 1)}{r^2}\\frac{\\hbar^2}{2 m}\n",
      "                                    \\right ) u(r)  = E u(r) .\n",
      "$$"
     ]
    },
    {
     "cell_type": "markdown",
     "metadata": {},
     "source": [
      "The boundary conditions are $u(0)=0$ and $u(\\infty)=0$.\n",
      "\n",
      "\n",
      "\n",
      "\n",
      "### Numerical solution of the single-particle Schroedinger equation\n",
      "We introduce a dimensionless variable $\\rho = (1/\\alpha) r$\n",
      "where $\\alpha$ is a constant with dimension length and get"
     ]
    },
    {
     "cell_type": "markdown",
     "metadata": {},
     "source": [
      "$$\n",
      "-\\frac{\\hbar^2}{2 m \\alpha^2} \\frac{d^2}{d\\rho^2} u(\\rho) \n",
      "       + \\left ( V(\\rho) + \\frac{l (l + 1)}{\\rho^2}\n",
      "         \\frac{\\hbar^2}{2 m\\alpha^2} \\right ) u(\\rho)  = E u(\\rho) .\n",
      "$$"
     ]
    },
    {
     "cell_type": "markdown",
     "metadata": {},
     "source": [
      "Let us specialize to $l=0$. \n",
      "Inserting $V(\\rho) = (1/2) k \\alpha^2\\rho^2$ we end up with"
     ]
    },
    {
     "cell_type": "markdown",
     "metadata": {},
     "source": [
      "$$\n",
      "-\\frac{\\hbar^2}{2 m \\alpha^2} \\frac{d^2}{d\\rho^2} u(\\rho) \n",
      "       + \\frac{k}{2} \\alpha^2\\rho^2u(\\rho)  = E u(\\rho) .\n",
      "$$"
     ]
    },
    {
     "cell_type": "markdown",
     "metadata": {},
     "source": [
      "We multiply thereafter with $2m\\alpha^2/\\hbar^2$ on both sides and obtain"
     ]
    },
    {
     "cell_type": "markdown",
     "metadata": {},
     "source": [
      "$$\n",
      "-\\frac{d^2}{d\\rho^2} u(\\rho) \n",
      "       + \\frac{mk}{\\hbar^2} \\alpha^4\\rho^2u(\\rho)  = \\frac{2m\\alpha^2}{\\hbar^2}E u(\\rho) .\n",
      "$$"
     ]
    },
    {
     "cell_type": "markdown",
     "metadata": {},
     "source": [
      "### Numerical solution of the single-particle Schroedinger equation\n",
      "We have thus"
     ]
    },
    {
     "cell_type": "markdown",
     "metadata": {},
     "source": [
      "$$\n",
      "-\\frac{d^2}{d\\rho^2} u(\\rho) \n",
      "       + \\frac{mk}{\\hbar^2} \\alpha^4\\rho^2u(\\rho)  = \\frac{2m\\alpha^2}{\\hbar^2}E u(\\rho) .\n",
      "$$"
     ]
    },
    {
     "cell_type": "markdown",
     "metadata": {},
     "source": [
      "The constant $\\alpha$ can now be fixed\n",
      "so that"
     ]
    },
    {
     "cell_type": "markdown",
     "metadata": {},
     "source": [
      "$$\n",
      "\\frac{mk}{\\hbar^2} \\alpha^4 = 1,\n",
      "$$"
     ]
    },
    {
     "cell_type": "markdown",
     "metadata": {},
     "source": [
      "or"
     ]
    },
    {
     "cell_type": "markdown",
     "metadata": {},
     "source": [
      "$$\n",
      "\\alpha = \\left(\\frac{\\hbar^2}{mk}\\right)^{1/4}.\n",
      "$$"
     ]
    },
    {
     "cell_type": "markdown",
     "metadata": {},
     "source": [
      "Defining"
     ]
    },
    {
     "cell_type": "markdown",
     "metadata": {},
     "source": [
      "$$\n",
      "\\lambda = \\frac{2m\\alpha^2}{\\hbar^2}E,\n",
      "$$"
     ]
    },
    {
     "cell_type": "markdown",
     "metadata": {},
     "source": [
      "we can rewrite Schroedinger's equation as"
     ]
    },
    {
     "cell_type": "markdown",
     "metadata": {},
     "source": [
      "$$\n",
      "-\\frac{d^2}{d\\rho^2} u(\\rho) + \\rho^2u(\\rho)  = \\lambda u(\\rho) .\n",
      "$$"
     ]
    },
    {
     "cell_type": "markdown",
     "metadata": {},
     "source": [
      "This is the first equation to solve numerically. In three dimensions \n",
      "the eigenvalues for $l=0$ are \n",
      "$\\lambda_0=3,\\lambda_1=7,\\lambda_2=11,\\dots .$\n",
      "\n",
      "\n",
      "\n",
      "\n",
      "### Numerical solution of the single-particle Schroedinger equation\n",
      "We use the standard\n",
      "expression for the second derivative of a function $u$"
     ]
    },
    {
     "cell_type": "markdown",
     "metadata": {},
     "source": [
      "<!-- Equation labels as ordinary links -->\n",
      "<div id=\"eq:diffoperation\"></div>\n",
      "\n",
      "$$\n",
      "\\begin{equation}\n",
      "    u''=\\frac{u(\\rho+h) -2u(\\rho) +u(\\rho-h)}{h^2} +O(h^2),\n",
      "    \\label{eq:diffoperation} \\tag{6}\n",
      "\\end{equation}\n",
      "$$"
     ]
    },
    {
     "cell_type": "markdown",
     "metadata": {},
     "source": [
      "where $h$ is our step.\n",
      "Next we define minimum and maximum values for the variable $\\rho$,\n",
      "$\\rho_{\\mathrm{min}}=0$  and $\\rho_{\\mathrm{max}}$, respectively.\n",
      "You need to check your results for the energies against different values\n",
      "$\\rho_{\\mathrm{max}}$, since we cannot set\n",
      "$\\rho_{\\mathrm{max}}=\\infty$.\n",
      "\n",
      "\n",
      "\n",
      "\n",
      "### Numerical solution of the single-particle Schroedinger equation\n",
      "With a given number of steps, $n_{\\mathrm{step}}$, we then \n",
      "define the step $h$ as"
     ]
    },
    {
     "cell_type": "markdown",
     "metadata": {},
     "source": [
      "$$\n",
      "h=\\frac{\\rho_{\\mathrm{max}}-\\rho_{\\mathrm{min}} }{n_{\\mathrm{step}}}.\n",
      "$$"
     ]
    },
    {
     "cell_type": "markdown",
     "metadata": {},
     "source": [
      "Define an arbitrary value of $\\rho$ as"
     ]
    },
    {
     "cell_type": "markdown",
     "metadata": {},
     "source": [
      "$$\n",
      "\\rho_i= \\rho_{\\mathrm{min}} + ih \\hspace{1cm} i=0,1,2,\\dots , n_{\\mathrm{step}}\n",
      "$$"
     ]
    },
    {
     "cell_type": "markdown",
     "metadata": {},
     "source": [
      "we can rewrite the Schroedinger equation for $\\rho_i$ as"
     ]
    },
    {
     "cell_type": "markdown",
     "metadata": {},
     "source": [
      "$$\n",
      "-\\frac{u(\\rho_i+h) -2u(\\rho_i) +u(\\rho_i-h)}{h^2}+\\rho_i^2u(\\rho_i)  = \\lambda u(\\rho_i),\n",
      "$$"
     ]
    },
    {
     "cell_type": "markdown",
     "metadata": {},
     "source": [
      "or in  a more compact way"
     ]
    },
    {
     "cell_type": "markdown",
     "metadata": {},
     "source": [
      "$$\n",
      "-\\frac{u_{i+1} -2u_i +u_{i-1}}{h^2}+\\rho_i^2u_i=-\\frac{u_{i+1} -2u_i +u_{i-1} }{h^2}+V_iu_i  = \\lambda u_i,\n",
      "$$"
     ]
    },
    {
     "cell_type": "markdown",
     "metadata": {},
     "source": [
      "where $V_i=\\rho_i^2$ is the harmonic oscillator potential.\n",
      "\n",
      "\n",
      "\n",
      "\n",
      "### Numerical solution of the single-particle Schroedinger equation\n",
      "Define first the diagonal matrix element"
     ]
    },
    {
     "cell_type": "markdown",
     "metadata": {},
     "source": [
      "$$\n",
      "d_i=\\frac{2}{h^2}+V_i,\n",
      "$$"
     ]
    },
    {
     "cell_type": "markdown",
     "metadata": {},
     "source": [
      "and the non-diagonal matrix element"
     ]
    },
    {
     "cell_type": "markdown",
     "metadata": {},
     "source": [
      "$$\n",
      "e_i=-\\frac{1}{h^2}.\n",
      "$$"
     ]
    },
    {
     "cell_type": "markdown",
     "metadata": {},
     "source": [
      "In this case the non-diagonal matrix elements are given by a mere constant. *All non-diagonal matrix elements are equal*.\n",
      "\n",
      "With these definitions the Schroedinger equation takes the following form"
     ]
    },
    {
     "cell_type": "markdown",
     "metadata": {},
     "source": [
      "$$\n",
      "d_iu_i+e_{i-1}u_{i-1}+e_{i+1}u_{i+1}  = \\lambda u_i,\n",
      "$$"
     ]
    },
    {
     "cell_type": "markdown",
     "metadata": {},
     "source": [
      "where $u_i$ is unknown. We can write the \n",
      "latter equation as a matrix eigenvalue problem"
     ]
    },
    {
     "cell_type": "markdown",
     "metadata": {},
     "source": [
      "<!-- Equation labels as ordinary links -->\n",
      "<div id=\"eq:sematrix\"></div>\n",
      "\n",
      "$$\n",
      "\\begin{equation}\n",
      "    \\left( \\begin{array}{ccccccc} d_1 & e_1 & 0   & 0    & \\dots  &0     & 0 \\\\\n",
      "                                e_1 & d_2 & e_2 & 0    & \\dots  &0     &0 \\\\\n",
      "                                0   & e_2 & d_3 & e_3  &0       &\\dots & 0\\\\\n",
      "                                \\dots  & \\dots & \\dots & \\dots  &\\dots      &\\dots & \\dots\\\\\n",
      "                                0   & \\dots & \\dots & \\dots  &\\dots       &d_{n_{\\mathrm{step}}-2} & e_{n_{\\mathrm{step}}-1}\\\\\n",
      "                                0   & \\dots & \\dots & \\dots  &\\dots       &e_{n_{\\mathrm{step}}-1} & d_{n_{\\mathrm{step}}-1}\n",
      "\n",
      "             \\end{array} \\right)      \\left( \\begin{array}{c} u_{1} \\\\\n",
      "                                                              u_{2} \\\\\n",
      "                                                              \\dots\\\\ \\dots\\\\ \\dots\\\\\n",
      "                                                              u_{n_{\\mathrm{step}}-1}\n",
      "             \\end{array} \\right)=\\lambda \\left( \\begin{array}{c} u_{1} \\\\\n",
      "                                                              u_{2} \\\\\n",
      "                                                              \\dots\\\\ \\dots\\\\ \\dots\\\\\n",
      "                                                              u_{n_{\\mathrm{step}}-1}\n",
      "             \\end{array} \\right) \n",
      "      \\label{eq:sematrix} \\tag{7}\n",
      "\\end{equation}\n",
      "$$"
     ]
    },
    {
     "cell_type": "markdown",
     "metadata": {},
     "source": [
      "or if we wish to be more detailed, we can write the tridiagonal matrix as"
     ]
    },
    {
     "cell_type": "markdown",
     "metadata": {},
     "source": [
      "<!-- Equation labels as ordinary links -->\n",
      "<div id=\"eq:matrixse\"></div>\n",
      "\n",
      "$$\n",
      "\\begin{equation}\n",
      "    \\left( \\begin{array}{ccccccc} \\frac{2}{h^2}+V_1 & -\\frac{1}{h^2} & 0   & 0    & \\dots  &0     & 0 \\\\\n",
      "                                -\\frac{1}{h^2} & \\frac{2}{h^2}+V_2 & -\\frac{1}{h^2} & 0    & \\dots  &0     &0 \\\\\n",
      "                                0   & -\\frac{1}{h^2} & \\frac{2}{h^2}+V_3 & -\\frac{1}{h^2}  &0       &\\dots & 0\\\\\n",
      "                                \\dots  & \\dots & \\dots & \\dots  &\\dots      &\\dots & \\dots\\\\\n",
      "                                0   & \\dots & \\dots & \\dots  &\\dots       &\\frac{2}{h^2}+V_{n_{\\mathrm{step}}-2} & -\\frac{1}{h^2}\\\\\n",
      "                                0   & \\dots & \\dots & \\dots  &\\dots       &-\\frac{1}{h^2} & \\frac{2}{h^2}+V_{n_{\\mathrm{step}}-1}\n",
      "\n",
      "             \\end{array} \\right)  \n",
      "\\label{eq:matrixse} \\tag{8} \n",
      "\\end{equation}\n",
      "$$"
     ]
    },
    {
     "cell_type": "code",
     "collapsed": false,
     "input": [
      "%install_ext https://raw.github.com/dragly/cppmagic/master/cppmagic.py"
     ],
     "language": "python",
     "metadata": {},
     "outputs": [
      {
       "output_type": "stream",
       "stream": "stdout",
       "text": [
        "Installed cppmagic.py. To use it, type:\n",
        "  %load_ext cppmagic\n"
       ]
      }
     ],
     "prompt_number": 4
    },
    {
     "cell_type": "code",
     "collapsed": false,
     "input": [
      "%load_ext cppmagic"
     ],
     "language": "python",
     "metadata": {},
     "outputs": [],
     "prompt_number": 5
    },
    {
     "cell_type": "markdown",
     "metadata": {},
     "source": [
      "        /*\n",
      "          Solves the one-particle Schrodinger equation\n",
      "          for a potential specified in function\n",
      "          potential(). This example is for the harmonic oscillator in 3d\n",
      "        */\n",
      "        #include <cmath>\n",
      "        #include <iostream>\n",
      "        #include <fstream>\n",
      "        #include <iomanip>\n",
      "        #include <armadillo>\n",
      "        \n",
      "        using namespace  std;\n",
      "        using namespace  arma;\n",
      "        // input and output files as global variables\n",
      "        ofstream ofile;  \n",
      "        ifstream ifile;\n",
      "        \n",
      "        double potential(double);\n",
      "        void output(double, double, int, vec& );\n",
      "        \n",
      "        \n",
      "        // Begin of main program   \n",
      "        \n",
      "        int main(int argc, char* argv[])\n",
      "        {\n",
      "          char *outfilename, *infilename;\n",
      "          int       i, j, Dim, lOrbital;\n",
      "          double    RMin, RMax, Step, DiagConst, NondiagConst, OrbitalFactor; \n",
      "          // With spherical coordinates RMin = 0 always\n",
      "          RMin = 0.0;\n",
      "          if (argc <= 2) {\n",
      "            cout << \"Bad Usage: \" << argv[0] << \n",
      "              \" read also input and output files on same line\" << endl;\n",
      "            exit(1);\n",
      "          }\n",
      "          if (argc > 2) {\n",
      "            infilename=argv[1];\n",
      "            outfilename=argv[2];\n",
      "            ifile.open(infilename); \n",
      "            ofile.open(outfilename); \n",
      "          }\n",
      "          //  Read in data from file\n",
      "          ifile >>  RMax;  ifile >> lOrbital;  ifile >> Dim;  \n",
      "          mat Hamiltonian = zeros<mat>(Dim,Dim);\n",
      "          // Integration step length\n",
      "          Step    = RMax/ Dim;\n",
      "          DiagConst = 2.0 / (Step*Step);\n",
      "          NondiagConst =  -1.0 / (Step*Step);\n",
      "          OrbitalFactor = lOrbital * (lOrbital + 1.0);\n",
      "          \n",
      "          // local memory for r and the potential w[r] \n",
      "          vec r(Dim); vec w(Dim);\n",
      "          for(i = 0; i < Dim; i++) {\n",
      "            r(i) = RMin + (i+1) * Step;\n",
      "            w(i) = potential(r(i)) + OrbitalFactor/(r(i) * r(i));\n",
      "          }\n",
      "        \n",
      "        \n",
      "          // Setting up tridiagonal matrix and brute diagonalization using Armadillo\n",
      "          Hamiltonian(0,0) = DiagConst + w(0);\n",
      "          Hamiltonian(0,1) = NondiagConst;\n",
      "          for(i = 1; i < Dim-1; i++) {\n",
      "            Hamiltonian(i,i-1)    = NondiagConst;\n",
      "            Hamiltonian(i,i)    = DiagConst + w(i);\n",
      "            Hamiltonian(i,i+1)    = NondiagConst;\n",
      "          }\n",
      "          Hamiltonian(Dim-1,Dim-2) = NondiagConst;\n",
      "          Hamiltonian(Dim-1,Dim-1) = DiagConst + w(Dim-1);\n",
      "          // diagonalize and obtain eigenvalues\n",
      "          vec Eigval(Dim);\n",
      "          eig_sym(Eigval, Hamiltonian);\n",
      "          output(RMin , RMax, Dim, Eigval);\n",
      "          ifile.close();  // close input file\n",
      "          ofile.close();  // close output file\n",
      "          return 0;\n",
      "        }  //  end of main function\n",
      "        \n",
      "        \n",
      "        /*\n",
      "          The function potential()\n",
      "          calculates and return the value of the \n",
      "          potential for a given argument x.\n",
      "          The potential here is for the hydrogen atom\n",
      "        */        \n",
      "        \n",
      "        double potential(double x)\n",
      "        {\n",
      "          return x*x;\n",
      "        \n",
      "        } // End: function potential()  \n",
      "        \n",
      "        \n",
      "        void output(double RMin , double RMax, int Dim, vec& d)\n",
      "        {\n",
      "          int i;\n",
      "          ofile << \"RESULTS:\" << endl;\n",
      "          ofile << setiosflags(ios::showpoint | ios::uppercase);\n",
      "          ofile <<\"Rmin = \" << setw(15) << setprecision(8) << RMin << endl;  \n",
      "          ofile <<\"Rmax = \" << setw(15) << setprecision(8) << RMax << endl;  \n",
      "          ofile <<\"Number of steps = \" << setw(15) << Dim << endl;  \n",
      "          ofile << \"Five lowest eigenvalues:\" << endl;\n",
      "          for(i = 0; i < 5; i++) {\n",
      "            ofile << setw(15) << setprecision(8) << d[i] << endl;\n",
      "          }\n",
      "        }  // end of function output         \n",
      "        \n",
      "        \n"
     ]
    },
    {
     "cell_type": "markdown",
     "metadata": {},
     "source": [
      "Recall that the solutions are known via the boundary conditions at\n",
      "$i=n_{\\mathrm{step}}$ and at the other end point, that is for  $\\rho_0$.\n",
      "The solution is zero in both cases.\n",
      "\n",
      "\n",
      "\n",
      "\n",
      "### Program to solve Schroedinger's equation\n",
      "The following c++ program is an example of how one can obtain the eigenvalues for a single-nucleon moving in a harmonic oscillator potential. It is rather easy to change the onebody-potential with ones like a Woods-Saxon potential. \n",
      "\n",
      "* The program uses the c++ library armadillo, see <http://arma.sourceforge.net/>. \n",
      "\n",
      "* To install armadillo see the guidelines at <http://www.uio.no/studier/emner/matnat/fys/FYS4411/v14/guides/installing-armadillo/>. \n",
      "\n",
      "* For mac users I recommend using *brew*, see <http://brew.sh/>.\n",
      "\n",
      "* The full program can be found found at the github repository for the course, see <https://github.com/NuclearStructure/PHY981/tree/master/doc/pub/spdata/programs>\n",
      "\n",
      "* If you use ipython notebook, you can run this program following the instructions at <http://nbviewer.ipython.org/github/dragly/cppmagic/blob/master/example.ipynb>\n",
      "\n",
      "\n",
      "\n",
      "\n",
      "### Program to solve Schroedinger's equation\n",
      "The code sets up the Hamiltonian matrix reading from file the minimun and maximum values of $r$ with a\n",
      "maximum value of integration points."
     ]
    },
    {
     "cell_type": "markdown",
     "metadata": {},
     "source": [
      "### Exercise 1\n",
      "**Masses and binding energies.**\n",
      "\n",
      "The data on binding energies can be found in the file bedata.dat at the github address of the course, see\n",
      "<https://github.com/NuclearStructure/PHY981/tree/master/doc/pub/spdata/programs>\n",
      "\n",
      "  * Write a small program which reads in the proton and neutron numbers and the binding energies \n",
      "\n",
      "and make a plot of all neutron separation energies for the chain of oxygen (O), calcium (Ca), nickel (Ni), tin (Sn) and lead (Pb) isotopes, that is you need to plot"
     ]
    },
    {
     "cell_type": "markdown",
     "metadata": {},
     "source": [
      "$$\n",
      "S_n= BE(N,Z)-BE(N-1,Z).\n",
      "$$"
     ]
    },
    {
     "cell_type": "markdown",
     "metadata": {},
     "source": [
      "Comment your results. \n",
      " * In the same figures, you should also include the liquid drop model results of Eq. (2.17) of Alex Brown's text, namely"
     ]
    },
    {
     "cell_type": "markdown",
     "metadata": {},
     "source": [
      "$$\n",
      "BE(N,Z)= \\alpha_1A-\\alpha_2A^{2/3}-\\alpha_3\\frac{Z^2}{A^{1/3}}-\\alpha_4\\frac{(N-Z)^2}{A},\n",
      "$$"
     ]
    },
    {
     "cell_type": "markdown",
     "metadata": {},
     "source": [
      "with $\\alpha_1=15.49$ MeV, $\\alpha_2=17.23$ MeV, $\\alpha_3=0.697$ MeV and $\\alpha_4=22.6$ MeV.\n",
      "Again, comment your results. \n",
      " * Make also a plot of the binding energies as function of $A$ using the data in the file on bindingenergies and the above liquid drop model.  Make a figure similar to figure 2.5 of Alex Brown where you set the various parameters $\\alpha_i=0$. Comment your results. \n",
      "\n",
      " * Use the liquid drop model to find the neutron drip lines   for Z values up to 120.\n",
      "\n",
      "Analyze then the fluorine isotopes and find, where available the corresponding experimental data, and compare the liquid drop model predicition with experiment. \n",
      "Comment your results.\n",
      "\n",
      "A program example in C++ and the input data file *bedata.dat* can be found found at the github repository for the course, see <https://github.com/NuclearStructure/PHY981/tree/master/doc/pub/spdata/programs>\n",
      "\n",
      "\n",
      "\n",
      "### Exercise 2\n",
      "**Masses and binding energies.**\n",
      "\n",
      "The program for finding the eigenvalues of the harmonic oscillator are in the github folder\n",
      "<https://github.com/NuclearStructure/PHY981/tree/master/doc/pub/spdata/programs>.\n",
      "\n",
      "You can this program to solve the exercises below, or write your own using your preferred programming language, be it python, fortran or c++ or toher languages. Here I will mainly provide fortran, python and c++. \n",
      "\n",
      "* Compute the eigenvalues of the five lowest states with a given orbital momentum and oscillator frequency $\\omega$. Study these results as functions of the the maximum value of $r$ and the number of integration points $n$, starting with  $r_{\\mathrm{max}}=10$. Compare the computed ones with the exact values and comment your results.\n",
      "\n",
      "* Plot thereafter the eigenfunctions as functions of $r$ for the lowest-lying state with a given orbital momentum $l$.\n",
      "\n",
      "* Replace thereafter the harmonic oscillator potential with a Woods-Saxon potential using the paramters discussed above. Compute the lowest five eigenvalues and plot the eigenfunction of the lowest-lying state. How does this compare with the harmonic oscillator? Comment your results and possible implications for nuclear physics studies."
     ]
    }
   ],
   "metadata": {}
  }
 ]
}