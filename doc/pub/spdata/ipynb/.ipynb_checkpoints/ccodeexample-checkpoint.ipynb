{
 "cells": [
  {
   "cell_type": "code",
   "execution_count": 1,
   "metadata": {
    "collapsed": false
   },
   "outputs": [
    {
     "name": "stdout",
     "output_type": "stream",
     "text": [
      "Installed cppmagic.py. To use it, type:\n",
      "  %load_ext cppmagic\n"
     ]
    },
    {
     "name": "stderr",
     "output_type": "stream",
     "text": [
      "/usr/local/lib/python2.7/site-packages/IPython/core/magics/extension.py:47: UserWarning: %install_ext` is deprecated, please distribute your extension(s)as a python packages.\n",
      "  \"as a python packages.\", UserWarning)\n"
     ]
    }
   ],
   "source": [
    "%install_ext https://raw.github.com/dragly/cppmagic/master/cppmagic.py\n",
    "    "
   ]
  },
  {
   "cell_type": "code",
   "execution_count": 2,
   "metadata": {
    "collapsed": false
   },
   "outputs": [],
   "source": [
    "%load_ext cppmagic"
   ]
  },
  {
   "cell_type": "code",
   "execution_count": 5,
   "metadata": {
    "collapsed": false
   },
   "outputs": [
    {
     "name": "stdout",
     "output_type": "stream",
     "text": [
      "RESULTS:\n",
      "Rmin =       0.0000000\n",
      "Rmax =       8.0000000\n",
      "Number of steps =            2000\n",
      "Five lowest eigenvalues:\n",
      "      2.9999950\n",
      "      6.9999750\n",
      "      10.999939\n",
      "      14.999887\n",
      "      18.999819\n",
      "\n"
     ]
    }
   ],
   "source": [
    "%%cpp -I/usr/local/include -L/usr/local/lib -llapack -lblas -larmadillo\n",
    "/*\n",
    "  Solves the one-particle Schrodinger equation\n",
    "  for a potential specified in function\n",
    "  potential(). This example is for the harmonic oscillator in 3d\n",
    "*/\n",
    "#include <cmath>\n",
    "#include <iostream>\n",
    "#include <fstream>\n",
    "#include <iomanip>\n",
    "#include <armadillo>\n",
    "\n",
    "using namespace  std;\n",
    "using namespace  arma;\n",
    "// input and output files as global variables\n",
    "//ofstream ofile;  \n",
    "//ifstream ifile;\n",
    "\n",
    "double potential(double);\n",
    "void output(double, double, int, vec& );\n",
    "\n",
    "\n",
    "// Begin of main program   \n",
    "\n",
    "int main(int argc, char* argv[])\n",
    "{\n",
    "  int       i, j, Dim, lOrbital;\n",
    "  double    RMin, RMax, Step, DiagConst, NondiagConst, OrbitalFactor; \n",
    "  // With spherical coordinates RMin = 0 always\n",
    "  RMin = 0.0;\n",
    "\n",
    "  RMax = 8.0;  lOrbital = 0;  Dim =2000;  \n",
    "  mat Hamiltonian = zeros<mat>(Dim,Dim);\n",
    "  // Integration step length\n",
    "  Step    = RMax/ Dim;\n",
    "  DiagConst = 2.0 / (Step*Step);\n",
    "  NondiagConst =  -1.0 / (Step*Step);\n",
    "  OrbitalFactor = lOrbital * (lOrbital + 1.0);\n",
    "  \n",
    "  // local memory for r and the potential w[r] \n",
    "  vec r(Dim); vec w(Dim);\n",
    "  for(i = 0; i < Dim; i++) {\n",
    "    r(i) = RMin + (i+1) * Step;\n",
    "    w(i) = potential(r(i)) + OrbitalFactor/(r(i) * r(i));\n",
    "  }\n",
    "\n",
    "\n",
    "  // Setting up tridiagonal matrix and brute diagonalization using Armadillo\n",
    "  Hamiltonian(0,0) = DiagConst + w(0);\n",
    "  Hamiltonian(0,1) = NondiagConst;\n",
    "  for(i = 1; i < Dim-1; i++) {\n",
    "    Hamiltonian(i,i-1)    = NondiagConst;\n",
    "    Hamiltonian(i,i)    = DiagConst + w(i);\n",
    "    Hamiltonian(i,i+1)    = NondiagConst;\n",
    "  }\n",
    "  Hamiltonian(Dim-1,Dim-2) = NondiagConst;\n",
    "  Hamiltonian(Dim-1,Dim-1) = DiagConst + w(Dim-1);\n",
    "  // diagonalize and obtain eigenvalues\n",
    "  vec Eigval(Dim);\n",
    "  eig_sym(Eigval, Hamiltonian);\n",
    "  output(RMin , RMax, Dim, Eigval);\n",
    "\n",
    "  return 0;\n",
    "}  //  end of main function\n",
    "\n",
    "\n",
    "/*\n",
    "  The function potential()\n",
    "  calculates and return the value of the \n",
    "  potential for a given argument x.\n",
    "  The potential here is for the hydrogen atom\n",
    "*/        \n",
    "\n",
    "double potential(double x)\n",
    "{\n",
    "  return x*x;\n",
    "\n",
    "} // End: function potential()  \n",
    "\n",
    "\n",
    "void output(double RMin , double RMax, int Dim, vec& d)\n",
    "{\n",
    "  int i;\n",
    "  cout << \"RESULTS:\" << endl;\n",
    "  cout << setiosflags(ios::showpoint | ios::uppercase);\n",
    "  cout <<\"Rmin = \" << setw(15) << setprecision(8) << RMin << endl;  \n",
    "  cout <<\"Rmax = \" << setw(15) << setprecision(8) << RMax << endl;  \n",
    "  cout <<\"Number of steps = \" << setw(15) << Dim << endl;  \n",
    "  cout << \"Five lowest eigenvalues:\" << endl;\n",
    "  for(i = 0; i < 5; i++) {\n",
    "    cout << setw(15) << setprecision(8) << d[i] << endl;\n",
    "  }\n",
    "}  // end of function output         \n",
    "\n"
   ]
  },
  {
   "cell_type": "code",
   "execution_count": null,
   "metadata": {
    "collapsed": true
   },
   "outputs": [],
   "source": []
  }
 ],
 "metadata": {
  "kernelspec": {
   "display_name": "Python 2",
   "language": "python",
   "name": "python2"
  },
  "language_info": {
   "codemirror_mode": {
    "name": "ipython",
    "version": 2
   },
   "file_extension": ".py",
   "mimetype": "text/x-python",
   "name": "python",
   "nbconvert_exporter": "python",
   "pygments_lexer": "ipython2",
   "version": "2.7.10"
  }
 },
 "nbformat": 4,
 "nbformat_minor": 0
}
