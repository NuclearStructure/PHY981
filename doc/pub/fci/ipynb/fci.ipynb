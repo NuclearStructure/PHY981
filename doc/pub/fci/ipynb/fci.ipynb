{
 "cells": [
  {
   "cell_type": "markdown",
   "metadata": {},
   "source": [
    "<!-- Slides for PHY981 -->\n",
    "<!-- dom:TITLE: Nuclear Shell Model -->\n",
    "# Nuclear Shell Model\n",
    "<!-- dom:AUTHOR: Morten Hjorth-Jensen, National Superconducting Cyclotron Laboratory and Department of Physics and Astronomy, Michigan State University, East Lansing, MI 48824, USA & Department of Physics, University of Oslo, Oslo, Norway -->\n",
    "<!-- Author: --> **Morten Hjorth-Jensen, National Superconducting Cyclotron Laboratory and Department of Physics and Astronomy, Michigan State University, East Lansing, MI 48824, USA & Department of Physics, University of Oslo, Oslo, Norway**\n",
    "\n",
    "Date: **Spring 2016**\n",
    "\n",
    "## Nuclear shell model\n",
    "\n",
    "The topics covered in this and next week's lectures can be found in Alex Brown's lecture notes, chapters 5, 18, 21-22.\n",
    "See also Suhonen's chapter's 2 and 5.\n",
    "\n",
    "\n",
    "\n",
    "## Slater determinants as basis states, Repetition\n",
    "The simplest possible choice for many-body wavefunctions are **product** wavefunctions.\n",
    "That is"
   ]
  },
  {
   "cell_type": "markdown",
   "metadata": {},
   "source": [
    "$$\n",
    "\\Psi(x_1, x_2, x_3, \\ldots, x_A) \\approx \\phi_1(x_1) \\phi_2(x_2) \\phi_3(x_3) \\ldots\n",
    "$$"
   ]
  },
  {
   "cell_type": "markdown",
   "metadata": {},
   "source": [
    "because we are really only good  at thinking about one particle at a time. Such \n",
    "product wavefunctions, without correlations, are easy to \n",
    "work with; for example, if the single-particle states $\\phi_i(x)$ are orthonormal, then \n",
    "the product wavefunctions are easy to orthonormalize.   \n",
    "\n",
    "Similarly, computing matrix elements of operators are relatively easy, because the \n",
    "integrals factorize.\n",
    "\n",
    "\n",
    "The price we pay is the lack of correlations, which we must build up by using many, many product \n",
    "wavefunctions. (Thus we have a trade-off: compact representation of correlations but \n",
    "difficult integrals versus easy integrals but many states required.)\n",
    "\n",
    "\n",
    "\n",
    "## Slater determinants as basis states, repetition\n",
    "Because we have fermions, we are required to have antisymmetric wavefunctions, e.g."
   ]
  },
  {
   "cell_type": "markdown",
   "metadata": {},
   "source": [
    "$$\n",
    "\\Psi(x_1, x_2, x_3, \\ldots, x_A) = - \\Psi(x_2, x_1, x_3, \\ldots, x_A)\n",
    "$$"
   ]
  },
  {
   "cell_type": "markdown",
   "metadata": {},
   "source": [
    "etc. This is accomplished formally by using the determinantal formalism"
   ]
  },
  {
   "cell_type": "markdown",
   "metadata": {},
   "source": [
    "$$\n",
    "\\Psi(x_1, x_2, \\ldots, x_A) \n",
    "= \\frac{1}{\\sqrt{A!}} \n",
    "\\det \\left | \n",
    "\\begin{array}{cccc}\n",
    "\\phi_1(x_1) & \\phi_1(x_2) & \\ldots & \\phi_1(x_A) \\\\\n",
    "\\phi_2(x_1) & \\phi_2(x_2) & \\ldots & \\phi_2(x_A) \\\\\n",
    " \\vdots & & &  \\\\\n",
    "\\phi_A(x_1) & \\phi_A(x_2) & \\ldots & \\phi_A(x_A) \n",
    "\\end{array}\n",
    "\\right |\n",
    "$$"
   ]
  },
  {
   "cell_type": "markdown",
   "metadata": {},
   "source": [
    "Product wavefunction + antisymmetry = Slater determinant.\n",
    "\n",
    "\n",
    "\n",
    "## Slater determinants as basis states"
   ]
  },
  {
   "cell_type": "markdown",
   "metadata": {},
   "source": [
    "$$\n",
    "\\Psi(x_1, x_2, \\ldots, x_A) \n",
    "= \\frac{1}{\\sqrt{N!}} \n",
    "\\det \\left | \n",
    "\\begin{array}{cccc}\n",
    "\\phi_1(x_1) & \\phi_1(x_2) & \\ldots & \\phi_1(x_A) \\\\\n",
    "\\phi_2(x_1) & \\phi_2(x_2) & \\ldots & \\phi_2(x_A) \\\\\n",
    " \\vdots & & &  \\\\\n",
    "\\phi_A(x_1) & \\phi_A(x_2) & \\ldots & \\phi_A(x_A) \n",
    "\\end{array}\n",
    "\\right |\n",
    "$$"
   ]
  },
  {
   "cell_type": "markdown",
   "metadata": {},
   "source": [
    "Properties of the determinant (interchange of any two rows or \n",
    "any two columns yields a change in sign; thus no two rows and no \n",
    "two columns can be the same) lead to the Pauli principle:\n",
    "\n",
    "* No two particles can be at the same place (two columns the same); and\n",
    "\n",
    "* No two particles can be in the same state (two rows the same).\n",
    "\n",
    "\n",
    "\n",
    "\n",
    "## Slater determinants as basis states\n",
    "As a practical matter, however, Slater determinants beyond $N=4$ quickly become \n",
    "unwieldy. Thus we turn to the **occupation representation** or **second quantization** to simplify calculations. \n",
    "\n",
    "The occupation representation, using fermion **creation** and **annihilation** \n",
    "operators, is compact and efficient. It is also abstract and, at first encounter, not easy to \n",
    "internalize. It is inspired by other operator formalism, such as the ladder operators for \n",
    "the harmonic oscillator or for angular momentum, but unlike those cases, the operators **do not have coordinate space representations**.\n",
    "\n",
    "Instead, one can think of fermion creation/annihilation operators as a game of symbols that \n",
    "compactly reproduces what one would do, albeit clumsily, with full coordinate-space Slater \n",
    "determinants.\n",
    "\n",
    "\n",
    "\n",
    "## Quick repetition of the occupation representation\n",
    "We start with a set of orthonormal single-particle states $\\{ \\phi_i(x) \\}$. \n",
    "(Note: this requirement, and others, can be relaxed, but leads to a \n",
    "more involved formalism.) **Any** orthonormal set will do. \n",
    "\n",
    "To each single-particle state $\\phi_i(x)$ we associate a creation operator \n",
    "$\\hat{a}^\\dagger_i$ and an annihilation operator $\\hat{a}_i$. \n",
    "\n",
    "When acting on the vacuum state $| 0 \\rangle$, the creation operator $\\hat{a}^\\dagger_i$ causes \n",
    "a particle to occupy the single-particle state $\\phi_i(x)$:"
   ]
  },
  {
   "cell_type": "markdown",
   "metadata": {},
   "source": [
    "$$\n",
    "\\phi_i(x) \\rightarrow \\hat{a}^\\dagger_i |0 \\rangle\n",
    "$$"
   ]
  },
  {
   "cell_type": "markdown",
   "metadata": {},
   "source": [
    "## Quick repetition  of the occupation representation\n",
    "But with multiple creation operators we can occupy multiple states:"
   ]
  },
  {
   "cell_type": "markdown",
   "metadata": {},
   "source": [
    "$$\n",
    "\\phi_i(x) \\phi_j(x^\\prime) \\phi_k(x^{\\prime \\prime}) \n",
    "\\rightarrow \\hat{a}^\\dagger_i \\hat{a}^\\dagger_j \\hat{a}^\\dagger_k |0 \\rangle.\n",
    "$$"
   ]
  },
  {
   "cell_type": "markdown",
   "metadata": {},
   "source": [
    "Now we impose antisymmetry, by having the fermion operators satisfy  **anticommutation relations**:"
   ]
  },
  {
   "cell_type": "markdown",
   "metadata": {},
   "source": [
    "$$\n",
    "\\hat{a}^\\dagger_i \\hat{a}^\\dagger_j + \\hat{a}^\\dagger_j \\hat{a}^\\dagger_i\n",
    "= [ \\hat{a}^\\dagger_i ,\\hat{a}^\\dagger_j ]_+ \n",
    "= \\{ \\hat{a}^\\dagger_i ,\\hat{a}^\\dagger_j \\} = 0\n",
    "$$"
   ]
  },
  {
   "cell_type": "markdown",
   "metadata": {},
   "source": [
    "so that"
   ]
  },
  {
   "cell_type": "markdown",
   "metadata": {},
   "source": [
    "$$\n",
    "\\hat{a}^\\dagger_i \\hat{a}^\\dagger_j = - \\hat{a}^\\dagger_j \\hat{a}^\\dagger_i\n",
    "$$"
   ]
  },
  {
   "cell_type": "markdown",
   "metadata": {},
   "source": [
    "## Quick repetition  of the occupation representation\n",
    "Because of this property, automatically $\\hat{a}^\\dagger_i \\hat{a}^\\dagger_i = 0$, \n",
    "enforcing the Pauli exclusion principle.  Thus when writing a Slater determinant \n",
    "using creation operators,"
   ]
  },
  {
   "cell_type": "markdown",
   "metadata": {},
   "source": [
    "$$\n",
    "\\hat{a}^\\dagger_i \\hat{a}^\\dagger_j \\hat{a}^\\dagger_k \\ldots |0 \\rangle\n",
    "$$"
   ]
  },
  {
   "cell_type": "markdown",
   "metadata": {},
   "source": [
    "each index $i,j,k, \\ldots$ must be unique.\n",
    "\n",
    "\n",
    "\n",
    "\n",
    "## Full Configuration Interaction Theory\n",
    "We have defined the ansatz for the ground state as"
   ]
  },
  {
   "cell_type": "markdown",
   "metadata": {},
   "source": [
    "$$\n",
    "|\\Phi_0\\rangle = \\left(\\prod_{i\\le F}\\hat{a}_{i}^{\\dagger}\\right)|0\\rangle,\n",
    "$$"
   ]
  },
  {
   "cell_type": "markdown",
   "metadata": {},
   "source": [
    "where the index $i$ defines different single-particle states up to the Fermi level. We have assumed that we have $N$ fermions. \n",
    "A given one-particle-one-hole ($1p1h$) state can be written as"
   ]
  },
  {
   "cell_type": "markdown",
   "metadata": {},
   "source": [
    "$$\n",
    "|\\Phi_i^a\\rangle = \\hat{a}_{a}^{\\dagger}\\hat{a}_i|\\Phi_0\\rangle,\n",
    "$$"
   ]
  },
  {
   "cell_type": "markdown",
   "metadata": {},
   "source": [
    "while a $2p2h$ state can be written as"
   ]
  },
  {
   "cell_type": "markdown",
   "metadata": {},
   "source": [
    "$$\n",
    "|\\Phi_{ij}^{ab}\\rangle = \\hat{a}_{a}^{\\dagger}\\hat{a}_{b}^{\\dagger}\\hat{a}_j\\hat{a}_i|\\Phi_0\\rangle,\n",
    "$$"
   ]
  },
  {
   "cell_type": "markdown",
   "metadata": {},
   "source": [
    "and a general $NpNh$ state as"
   ]
  },
  {
   "cell_type": "markdown",
   "metadata": {},
   "source": [
    "$$\n",
    "|\\Phi_{ijk\\dots}^{abc\\dots}\\rangle = \\hat{a}_{a}^{\\dagger}\\hat{a}_{b}^{\\dagger}\\hat{a}_{c}^{\\dagger}\\dots\\hat{a}_k\\hat{a}_j\\hat{a}_i|\\Phi_0\\rangle.\n",
    "$$"
   ]
  },
  {
   "cell_type": "markdown",
   "metadata": {},
   "source": [
    "## Full Configuration Interaction Theory\n",
    "We can then expand our exact state function for the ground state \n",
    "as"
   ]
  },
  {
   "cell_type": "markdown",
   "metadata": {},
   "source": [
    "$$\n",
    "|\\Psi_0\\rangle=C_0|\\Phi_0\\rangle+\\sum_{ai}C_i^a|\\Phi_i^a\\rangle+\\sum_{abij}C_{ij}^{ab}|\\Phi_{ij}^{ab}\\rangle+\\dots\n",
    "=(C_0+\\hat{C})|\\Phi_0\\rangle,\n",
    "$$"
   ]
  },
  {
   "cell_type": "markdown",
   "metadata": {},
   "source": [
    "where we have introduced the so-called correlation operator"
   ]
  },
  {
   "cell_type": "markdown",
   "metadata": {},
   "source": [
    "$$\n",
    "\\hat{C}=\\sum_{ai}C_i^a\\hat{a}_{a}^{\\dagger}\\hat{a}_i  +\\sum_{abij}C_{ij}^{ab}\\hat{a}_{a}^{\\dagger}\\hat{a}_{b}^{\\dagger}\\hat{a}_j\\hat{a}_i+\\dots\n",
    "$$"
   ]
  },
  {
   "cell_type": "markdown",
   "metadata": {},
   "source": [
    "Since the normalization of $\\Psi_0$ is at our disposal and since $C_0$ is by hypothesis non-zero, we may arbitrarily set $C_0=1$ with \n",
    "corresponding proportional changes in all other coefficients. Using this so-called intermediate normalization we have"
   ]
  },
  {
   "cell_type": "markdown",
   "metadata": {},
   "source": [
    "$$\n",
    "\\langle \\Psi_0 | \\Phi_0 \\rangle = \\langle \\Phi_0 | \\Phi_0 \\rangle = 1,\n",
    "$$"
   ]
  },
  {
   "cell_type": "markdown",
   "metadata": {},
   "source": [
    "resulting in"
   ]
  },
  {
   "cell_type": "markdown",
   "metadata": {},
   "source": [
    "$$\n",
    "|\\Psi_0\\rangle=(1+\\hat{C})|\\Phi_0\\rangle.\n",
    "$$"
   ]
  },
  {
   "cell_type": "markdown",
   "metadata": {},
   "source": [
    "## Full Configuration Interaction Theory\n",
    "We rewrite"
   ]
  },
  {
   "cell_type": "markdown",
   "metadata": {},
   "source": [
    "$$\n",
    "|\\Psi_0\\rangle=C_0|\\Phi_0\\rangle+\\sum_{ai}C_i^a|\\Phi_i^a\\rangle+\\sum_{abij}C_{ij}^{ab}|\\Phi_{ij}^{ab}\\rangle+\\dots,\n",
    "$$"
   ]
  },
  {
   "cell_type": "markdown",
   "metadata": {},
   "source": [
    "in a more compact form as"
   ]
  },
  {
   "cell_type": "markdown",
   "metadata": {},
   "source": [
    "$$\n",
    "|\\Psi_0\\rangle=\\sum_{PH}C_H^P\\Phi_H^P=\\left(\\sum_{PH}C_H^P\\hat{A}_H^P\\right)|\\Phi_0\\rangle,\n",
    "$$"
   ]
  },
  {
   "cell_type": "markdown",
   "metadata": {},
   "source": [
    "where $H$ stands for $0,1,\\dots,n$ hole states and $P$ for $0,1,\\dots,n$ particle states. \n",
    "Our requirement of unit normalization gives"
   ]
  },
  {
   "cell_type": "markdown",
   "metadata": {},
   "source": [
    "$$\n",
    "\\langle \\Psi_0 | \\Phi_0 \\rangle = \\sum_{PH}|C_H^P|^2= 1,\n",
    "$$"
   ]
  },
  {
   "cell_type": "markdown",
   "metadata": {},
   "source": [
    "and the energy can be written as"
   ]
  },
  {
   "cell_type": "markdown",
   "metadata": {},
   "source": [
    "$$\n",
    "E= \\langle \\Psi_0 | \\hat{H} |\\Phi_0 \\rangle= \\sum_{PP'HH'}C_H^{*P}\\langle \\Phi_H^P | \\hat{H} |\\Phi_{H'}^{P'} \\rangle C_{H'}^{P'}.\n",
    "$$"
   ]
  },
  {
   "cell_type": "markdown",
   "metadata": {},
   "source": [
    "## Full Configuration Interaction Theory\n",
    "Normally"
   ]
  },
  {
   "cell_type": "markdown",
   "metadata": {},
   "source": [
    "$$\n",
    "E= \\langle \\Psi_0 | \\hat{H} |\\Phi_0 \\rangle= \\sum_{PP'HH'}C_H^{*P}\\langle \\Phi_H^P | \\hat{H} |\\Phi_{H'}^{P'} \\rangle C_{H'}^{P'},\n",
    "$$"
   ]
  },
  {
   "cell_type": "markdown",
   "metadata": {},
   "source": [
    "is solved by diagonalization setting up the Hamiltonian matrix defined by the basis of all possible Slater determinants. A diagonalization\n",
    "<!-- to do: add text about Rayleigh-Ritz -->\n",
    "is equivalent to finding the variational minimum   of"
   ]
  },
  {
   "cell_type": "markdown",
   "metadata": {},
   "source": [
    "$$\n",
    "\\langle \\Psi_0 | \\hat{H} |\\Phi_0 \\rangle-\\lambda \\langle \\Psi_0 |\\Phi_0 \\rangle,\n",
    "$$"
   ]
  },
  {
   "cell_type": "markdown",
   "metadata": {},
   "source": [
    "where $\\lambda$ is a variational multiplier to be identified with the energy of the system.\n",
    "The minimization process results in"
   ]
  },
  {
   "cell_type": "markdown",
   "metadata": {},
   "source": [
    "2\n",
    "3\n",
    " \n",
    "<\n",
    "<\n",
    "<\n",
    "!\n",
    "!\n",
    "M\n",
    "A\n",
    "T\n",
    "H\n",
    "_\n",
    "B\n",
    "L\n",
    "O\n",
    "C\n",
    "K"
   ]
  },
  {
   "cell_type": "markdown",
   "metadata": {},
   "source": [
    "$$\n",
    "\\sum_{P'H'}\\left\\{\\delta[C_H^{*P}]\\langle \\Phi_H^P | \\hat{H} |\\Phi_{H'}^{P'} \\rangle C_{H'}^{P'}+\n",
    "C_H^{*P}\\langle \\Phi_H^P | \\hat{H} |\\Phi_{H'}^{P'} \\rangle \\delta[C_{H'}^{P'}]-\n",
    "\\lambda( \\delta[C_H^{*P}]C_{H'}^{P'}+C_H^{*P}\\delta[C_{H'}^{P'}]\\right\\} = 0.\n",
    "$$"
   ]
  },
  {
   "cell_type": "markdown",
   "metadata": {},
   "source": [
    "Since the coefficients $\\delta[C_H^{*P}]$ and $\\delta[C_{H'}^{P'}]$ are complex conjugates it is necessary and sufficient to require the quantities that multiply with $\\delta[C_H^{*P}]$ to vanish.  \n",
    "\n",
    "This leads to"
   ]
  },
  {
   "cell_type": "markdown",
   "metadata": {},
   "source": [
    "$$\n",
    "\\sum_{P'H'}\\langle \\Phi_H^P | \\hat{H} |\\Phi_{H'}^{P'} \\rangle C_{H'}^{P'}-\\lambda C_H^{P}=0,\n",
    "$$"
   ]
  },
  {
   "cell_type": "markdown",
   "metadata": {},
   "source": [
    "for all sets of $P$ and $H$.\n",
    "\n",
    "If we then multiply by the corresponding $C_H^{*P}$ and sum over $PH$ we obtain"
   ]
  },
  {
   "cell_type": "markdown",
   "metadata": {},
   "source": [
    "$$\n",
    "\\sum_{PP'HH'}C_H^{*P}\\langle \\Phi_H^P | \\hat{H} |\\Phi_{H'}^{P'} \\rangle C_{H'}^{P'}-\\lambda\\sum_{PH}|C_H^P|^2=0,\n",
    "$$"
   ]
  },
  {
   "cell_type": "markdown",
   "metadata": {},
   "source": [
    "leading to the identification $\\lambda = E$. This means that we have for all $PH$ sets"
   ]
  },
  {
   "cell_type": "markdown",
   "metadata": {},
   "source": [
    "<!-- Equation labels as ordinary links -->\n",
    "<div id=\"eq:fullci\"></div>\n",
    "\n",
    "$$\n",
    "\\begin{equation}\n",
    "\\sum_{P'H'}\\langle \\Phi_H^P | \\hat{H} -E|\\Phi_{H'}^{P'} \\rangle = 0. \\label{eq:fullci} \\tag{1}\n",
    "\\end{equation}\n",
    "$$"
   ]
  },
  {
   "cell_type": "markdown",
   "metadata": {},
   "source": [
    "## Full Configuration Interaction Theory\n",
    "An alternative way to derive the last equation is to start from"
   ]
  },
  {
   "cell_type": "markdown",
   "metadata": {},
   "source": [
    "$$\n",
    "(\\hat{H} -E)|\\Psi_0\\rangle = (\\hat{H} -E)\\sum_{P'H'}C_{H'}^{P'}|\\Phi_{H'}^{P'} \\rangle=0,\n",
    "$$"
   ]
  },
  {
   "cell_type": "markdown",
   "metadata": {},
   "source": [
    "and if this equation is successively projected against all $\\Phi_H^P$ in the expansion of $\\Psi$, then the last equation on the previous slide\n",
    "results.   As stated previously, one solves this equation normally by diagonalization. If we are able to solve this equation exactly (that is\n",
    "numerically exactly) in a large Hilbert space (it will be truncated in terms of the number of single-particle states included in the definition\n",
    "of Slater determinants), it can then serve as a benchmark for other many-body methods which approximate the correlation operator\n",
    "$\\hat{C}$.\n",
    "\n",
    "\n",
    "\n",
    "## Full Configuration Interaction Theory\n",
    "For reasons to come (links with Coupled-Cluster theory and Many-Body perturbation theory), \n",
    "we will rewrite Eq. ( ref{eq:fullci}) as a set of coupled non-linear equations in terms of the unknown coefficients $C_H^P$. \n",
    "\n",
    "To see this, we look at the contributions arising from"
   ]
  },
  {
   "cell_type": "markdown",
   "metadata": {},
   "source": [
    "$$\n",
    "\\langle \\Phi_H^P | = \\langle \\Phi_0|\n",
    "$$"
   ]
  },
  {
   "cell_type": "markdown",
   "metadata": {},
   "source": [
    "in  Eq. [(1)](#eq:fullci), that is we multiply with $\\langle \\Phi_0 |$\n",
    "from the left in"
   ]
  },
  {
   "cell_type": "markdown",
   "metadata": {},
   "source": [
    "$$\n",
    "(\\hat{H} -E)\\sum_{P'H'}C_{H'}^{P'}|\\Phi_{H'}^{P'} \\rangle=0.\n",
    "$$"
   ]
  },
  {
   "cell_type": "markdown",
   "metadata": {},
   "source": [
    "If we assume that we have a two-body operator at most, Slater's rule gives then an equation for the \n",
    "correlation energy in terms of $C_i^a$ and $C_{ij}^{ab}$ only.  We get then"
   ]
  },
  {
   "cell_type": "markdown",
   "metadata": {},
   "source": [
    "$$\n",
    "\\langle \\Phi_0 | \\hat{H} -E| \\Phi_0\\rangle + \\sum_{ai}\\langle \\Phi_0 | \\hat{H} -E|\\Phi_{i}^{a} \\rangle C_{i}^{a}+\n",
    "\\sum_{abij}\\langle \\Phi_0 | \\hat{H} -E|\\Phi_{ij}^{ab} \\rangle C_{ij}^{ab}=0,\n",
    "$$"
   ]
  },
  {
   "cell_type": "markdown",
   "metadata": {},
   "source": [
    "or"
   ]
  },
  {
   "cell_type": "markdown",
   "metadata": {},
   "source": [
    "$$\n",
    "E-E_0 =\\Delta E=\\sum_{ai}\\langle \\Phi_0 | \\hat{H}|\\Phi_{i}^{a} \\rangle C_{i}^{a}+\n",
    "\\sum_{abij}\\langle \\Phi_0 | \\hat{H}|\\Phi_{ij}^{ab} \\rangle C_{ij}^{ab},\n",
    "$$"
   ]
  },
  {
   "cell_type": "markdown",
   "metadata": {},
   "source": [
    "where the energy $E_0$ is the reference energy and $\\Delta E$ defines the so-called correlation energy.\n",
    "The single-particle basis functions  could be the results of a Hartree-Fock calculation or just the eigenstates of the non-interacting part of the Hamiltonian. \n",
    "\n",
    "In our chapter on Hartree-Fock calculations, \n",
    "we have already computed the matrix $\\langle \\Phi_0 | \\hat{H}|\\Phi_{i}^{a}\\rangle $ and $\\langle \\Phi_0 | \\hat{H}|\\Phi_{ij}^{ab}\\rangle$.  If we are using a Hartree-Fock basis, then the matrix elements\n",
    "$\\langle \\Phi_0 | \\hat{H}|\\Phi_{i}^{a}\\rangle $ and we are left with a correlation energy given by"
   ]
  },
  {
   "cell_type": "markdown",
   "metadata": {},
   "source": [
    "$$\n",
    "E-E_0 =\\Delta E^{HF}=\\sum_{abij}\\langle \\Phi_0 | \\hat{H}|\\Phi_{ij}^{ab} \\rangle C_{ij}^{ab}.\n",
    "$$"
   ]
  },
  {
   "cell_type": "markdown",
   "metadata": {},
   "source": [
    "## Full Configuration Interaction Theory\n",
    "Inserting the various matrix elements we can rewrite the previous equation as"
   ]
  },
  {
   "cell_type": "markdown",
   "metadata": {},
   "source": [
    "$$\n",
    "\\Delta E=\\sum_{ai}\\langle i| \\hat{f}|a \\rangle C_{i}^{a}+\n",
    "\\sum_{abij}\\langle ij | \\hat{v}| ab \\rangle C_{ij}^{ab}.\n",
    "$$"
   ]
  },
  {
   "cell_type": "markdown",
   "metadata": {},
   "source": [
    "This equation determines the correlation energy but not the coefficients $C$. \n",
    "We need more equations. Our next step is to set up"
   ]
  },
  {
   "cell_type": "markdown",
   "metadata": {},
   "source": [
    "$$\n",
    "\\langle \\Phi_i^a | \\hat{H} -E| \\Phi_0\\rangle + \\sum_{bj}\\langle \\Phi_i^a | \\hat{H} -E|\\Phi_{j}^{b} \\rangle C_{j}^{b}+\n",
    "\\sum_{bcjk}\\langle \\Phi_i^a | \\hat{H} -E|\\Phi_{jk}^{bc} \\rangle C_{jk}^{bc}+\n",
    "\\sum_{bcdjkl}\\langle \\Phi_i^a | \\hat{H} -E|\\Phi_{jkl}^{bcd} \\rangle C_{jkl}^{bcd}=0,\n",
    "$$"
   ]
  },
  {
   "cell_type": "markdown",
   "metadata": {},
   "source": [
    "as this equation will allow us to find an expression for the coefficents $C_i^a$ since we can rewrite this equation as"
   ]
  },
  {
   "cell_type": "markdown",
   "metadata": {},
   "source": [
    "$$\n",
    "\\langle i | \\hat{f}| a\\rangle +\\langle \\Phi_i^a | \\hat{H}|\\Phi_{i}^{a} \\rangle C_{i}^{a}+ \\sum_{bj\\ne ai}\\langle \\Phi_i^a | \\hat{H}|\\Phi_{j}^{b} \\rangle C_{j}^{b}+\n",
    "\\sum_{bcjk}\\langle \\Phi_i^a | \\hat{H}|\\Phi_{jk}^{bc} \\rangle C_{jk}^{bc}+\n",
    "\\sum_{bcdjkl}\\langle \\Phi_i^a | \\hat{H}|\\Phi_{jkl}^{bcd} \\rangle C_{jkl}^{bcd}=0.\n",
    "$$"
   ]
  },
  {
   "cell_type": "markdown",
   "metadata": {},
   "source": [
    "## Full Configuration Interaction Theory\n",
    "We rewrite this equation as"
   ]
  },
  {
   "cell_type": "markdown",
   "metadata": {},
   "source": [
    "3\n",
    "7\n",
    " \n",
    "<\n",
    "<\n",
    "<\n",
    "!\n",
    "!\n",
    "M\n",
    "A\n",
    "T\n",
    "H\n",
    "_\n",
    "B\n",
    "L\n",
    "O\n",
    "C\n",
    "K"
   ]
  },
  {
   "cell_type": "markdown",
   "metadata": {},
   "source": [
    "$$\n",
    "\\times\\left(\\langle i | \\hat{f}| a\\rangle+ \\sum_{bj\\ne ai}\\langle \\Phi_i^a | \\hat{H}|\\Phi_{j}^{b} \\rangle C_{j}^{b}+\\sum_{bcjk}\\langle \\Phi_i^a | \\hat{H}|\\Phi_{jk}^{bc} \\rangle C_{jk}^{bc}+\n",
    "\\sum_{bcdjkl}\\langle \\Phi_i^a | \\hat{H}|\\Phi_{jkl}^{bcd} \\rangle C_{jkl}^{bcd}\\right).\n",
    "$$"
   ]
  },
  {
   "cell_type": "markdown",
   "metadata": {},
   "source": [
    "Since these equations are solved iteratively ( that is we can start with a guess for the coefficients $C_i^a$), it is common to start the  iteration \n",
    "by setting"
   ]
  },
  {
   "cell_type": "markdown",
   "metadata": {},
   "source": [
    "$$\n",
    "C_{i}^{a}=-\\frac{\\langle i | \\hat{f}| a\\rangle}{\\langle \\Phi_i^a | \\hat{H}|\\Phi_{i}^{a}\\rangle},\n",
    "$$"
   ]
  },
  {
   "cell_type": "markdown",
   "metadata": {},
   "source": [
    "and the denominator can be written as"
   ]
  },
  {
   "cell_type": "markdown",
   "metadata": {},
   "source": [
    "$$\n",
    "C_{i}^{a}=\\frac{\\langle i | \\hat{f}| a\\rangle}{\\langle i | \\hat{f}| i\\rangle-\\langle a | \\hat{f}| a\\rangle+\\langle ai | \\hat{v}| ai\\rangle}.\n",
    "$$"
   ]
  },
  {
   "cell_type": "markdown",
   "metadata": {},
   "source": [
    "The observant reader will however see that we need an equation for $C_{jk}^{bc}$ and $C_{jkl}^{bcd}$ as well.\n",
    "To find equations for these coefficients we need then to continue our multiplications from the left with the various\n",
    "$\\Phi_{H}^P$ terms.\n",
    "\n",
    "\n",
    "\n",
    "## Full Configuration Interaction Theory\n",
    "For $C_{jk}^{bc}$ we need then"
   ]
  },
  {
   "cell_type": "markdown",
   "metadata": {},
   "source": [
    "4\n",
    "1\n",
    " \n",
    "<\n",
    "<\n",
    "<\n",
    "!\n",
    "!\n",
    "M\n",
    "A\n",
    "T\n",
    "H\n",
    "_\n",
    "B\n",
    "L\n",
    "O\n",
    "C\n",
    "K"
   ]
  },
  {
   "cell_type": "markdown",
   "metadata": {},
   "source": [
    "$$\n",
    "\\sum_{cdkl}\\langle \\Phi_{ij}^{ab} | \\hat{H} -E|\\Phi_{kl}^{cd} \\rangle C_{kl}^{cd}+\\sum_{cdeklm}\\langle \\Phi_{ij}^{ab} | \\hat{H} -E|\\Phi_{klm}^{cde} \\rangle C_{klm}^{cde}+\\sum_{cdefklmn}\\langle \\Phi_{ij}^{ab} | \\hat{H} -E|\\Phi_{klmn}^{cdef} \\rangle C_{klmn}^{cdef}=0,\n",
    "$$"
   ]
  },
  {
   "cell_type": "markdown",
   "metadata": {},
   "source": [
    "and we can isolate the coefficients $C_{kl}^{cd}$ in a similar way as we did for the coefficients $C_{i}^{a}$. \n",
    "At the end we can rewrite our solution of the Schr\\\"odinger equation in terms of $n$ coupled equations for the coefficients $C_H^P$.\n",
    "This is a very cumbersome way of solving the equation. However, by using this iterative scheme we can illustrate how we can compute the\n",
    "various terms in the wave operator or correlation operator $\\hat{C}$. We will later identify the calculation of the various terms $C_H^P$\n",
    "as parts of different many-body approximations to full CI. In particular, ww can  relate this non-linear scheme with Coupled Cluster theory and\n",
    "many-body perturbation theory. These theories will not be discussed in this course.\n",
    "\n",
    "\n",
    "\n",
    "## Full Configuration Interaction Theory\n",
    "If we use a Hartree-Fock basis, we simplify this equation"
   ]
  },
  {
   "cell_type": "markdown",
   "metadata": {},
   "source": [
    "$$\n",
    "\\Delta E=\\sum_{ai}\\langle i| \\hat{f}|a \\rangle C_{i}^{a}+\n",
    "\\sum_{abij}\\langle ij | \\hat{v}| ab \\rangle C_{ij}^{ab}.\n",
    "$$"
   ]
  },
  {
   "cell_type": "markdown",
   "metadata": {},
   "source": [
    "What about"
   ]
  },
  {
   "cell_type": "markdown",
   "metadata": {},
   "source": [
    "$$\n",
    "\\langle \\Phi_i^a | \\hat{H} -E| \\Phi_0\\rangle + \\sum_{bj}\\langle \\Phi_i^a | \\hat{H} -E|\\Phi_{j}^{b} \\rangle C_{j}^{b}+\n",
    "\\sum_{bcjk}\\langle \\Phi_i^a | \\hat{H} -E|\\Phi_{jk}^{bc} \\rangle C_{jk}^{bc}+\n",
    "\\sum_{bcdjkl}\\langle \\Phi_i^a | \\hat{H} -E|\\Phi_{jkl}^{bcd} \\rangle C_{jkl}^{bcd}=0,\n",
    "$$"
   ]
  },
  {
   "cell_type": "markdown",
   "metadata": {},
   "source": [
    "and"
   ]
  },
  {
   "cell_type": "markdown",
   "metadata": {},
   "source": [
    "4\n",
    "5\n",
    " \n",
    "<\n",
    "<\n",
    "<\n",
    "!\n",
    "!\n",
    "M\n",
    "A\n",
    "T\n",
    "H\n",
    "_\n",
    "B\n",
    "L\n",
    "O\n",
    "C\n",
    "K"
   ]
  },
  {
   "cell_type": "markdown",
   "metadata": {},
   "source": [
    "$$\n",
    "\\sum_{cdeklm}\\langle \\Phi_{ij}^{ab} | \\hat{H} -E|\\Phi_{klm}^{cde} \\rangle C_{klm}^{cde}+\\sum_{cdefklmn}\\langle \\Phi_{ij}^{ab} | \\hat{H} -E|\\Phi_{klmn}^{cdef} \\rangle C_{klmn}^{cdef}=0?\n",
    "$$"
   ]
  },
  {
   "cell_type": "markdown",
   "metadata": {},
   "source": [
    "## Building a many-body basis\n",
    "\n",
    "In project 1 the plan  is to construct a working code that constructs the \n",
    "many-body Hamiltonian matrix in a basis of Slater determinants and to find the low-lying eigenenergies. \n",
    "This is referred to as the configuration-interaction method or shell-model diagonalization \n",
    "(or the interacting shell model). \n",
    "\n",
    "The first step in such codes--and in your project--is to construct the many-body basis.  \n",
    "\n",
    "While the formalism is independent of the choice of basis, the **effectiveness** of a calculation \n",
    "will certainly be basis dependent. \n",
    "\n",
    "Furthermore there are common conventions useful to know.\n",
    "\n",
    "\n",
    "\n",
    "\n",
    "## Building a many-body basis\n",
    "First, the single-particle basis has angular momentum as a good quantum number.  You can \n",
    "imagine the single-particle wavefunctions being generated by a one-body Hamiltonian, \n",
    "for example a harmonic oscillator.  Modifications include harmonic oscillator plus \n",
    "spin-orbit splitting, or self-consistent mean-field potentials, or the Woods-Saxon potential which mocks \n",
    "up the self-consistent mean-field. \n",
    "\n",
    "\n",
    "For nuclei, the harmonic oscillator, modified by spin-orbit splitting, provides a useful language \n",
    "for describing single-particle states.\n",
    "\n",
    "\n",
    "Each single-particle state is labeled by the following quantum numbers: \n",
    "\n",
    "* Orbital angular momentum $l$\n",
    "\n",
    "* Intrinsic spin $s$ = 1/2 for protons and neutrons\n",
    "\n",
    "* Angular momentum $j = l \\pm 1/2$\n",
    "\n",
    "* $z$-component $j_z$ (or $m$)\n",
    "\n",
    "* Some labeling of the radial wavefunction, typically $n$ the number of nodes in  the radial wavefunction, but in the case of harmonic oscillator one can also use the principal quantum number $N$, where the harmonic oscillator energy is $(N+3/2)\\hbar \\omega$.\n",
    "\n",
    "\n",
    "\n",
    "\n",
    "## Building a many-body basis\n",
    "In this format one labels states by $n(l)_j$, with $(l)$ replaced by a letter:\n",
    "$s$ for $l=0$, $p$ for $l=1$, $d$ for $l=2$, $f$ for $l=3$, and thenceforth alphabetical.\n",
    "\n",
    "\n",
    " In practice the single-particle space has to be severely truncated.  This truncation is \n",
    "typically based upon the single-particle energies, which is the effective energy \n",
    "from a mean-field potential. \n",
    "\n",
    "Sometimes we freeze the core and only consider a valence space. For example, one \n",
    "may assume a frozen ${}^{4}\\mbox{He}$ core, with two protons and two neutrons in the $0s_{1/2}$ \n",
    "shell, and then only allow active particles in the $0p_{1/2}$ and $0p_{3/2}$ orbits.\n",
    "\n",
    "\n",
    "\n",
    "## Building a many-body basis\n",
    "\n",
    "Another example is a frozen ${}^{16}\\mbox{O}$ core, with eight protons and eight neutrons filling the \n",
    "$0s_{1/2}$,  $0p_{1/2}$ and $0p_{3/2}$ orbits, with valence particles in the \n",
    "$0d_{5/2}, 1s_{1/2}$ and $0d_{3/2}$ orbits.\n",
    "\n",
    "\n",
    "Sometimes we refer to nuclei by the valence space where their last nucleons go.  \n",
    "So, for example, we call ${}^{12}\\mbox{C}$ a $p$-shell nucleus, while ${}^{26}\\mbox{Al}$ is an \n",
    "$sd$-shell nucleus and ${}^{56}\\mbox{Fe}$ is a $pf$-shell nucleus.\n",
    "\n",
    "\n",
    "\n",
    "\n",
    "\n",
    "## Building a many-body basis\n",
    "There are different kinds of truncations.\n",
    "\n",
    "* For example, one can start with `filled' orbits (almost always the lowest), and then  allow one, two, three... particles excited out of those filled orbits. These are called  1p-1h, 2p-2h, 3p-3h excitations. \n",
    "\n",
    "* Alternately, one can state a maximal orbit and allow all possible configurations with  particles occupying states up to that maximum. This is called *full configuration*.\n",
    "\n",
    "* Finally, for particular use in nuclear physics, there is the *energy* truncation, also  called the $N\\hbar\\Omega$ or $N_{max}$ truncation.\n",
    "\n",
    "\n",
    "\n",
    "## Building a many-body basis\n",
    " Here one works in a harmonic oscillator basis, with each major oscillator shell assigned \n",
    "a principal quantum number $N=0,1,2,3,...$. \n",
    "\n",
    "The $N\\hbar\\Omega$ or $N_{max}$ truncation: Any configuration is given an noninteracting energy, which is the sum \n",
    "of the single-particle harmonic oscillator energies. (Thus this ignores \n",
    "spin-orbit splitting.)\n",
    "\n",
    "\n",
    "\n",
    "\n",
    "## Building a many-body basis\n",
    "Excited state are labeled relative to the lowest configuration by the \n",
    "number of harmonic oscillator quanta.\n",
    "\n",
    "This truncation is useful because: if one includes *all* configuration up to \n",
    "some $N_{max}$, and has a translationally invariant interaction, then the intrinsic \n",
    "motion and the center-of-mass motion factor. In other words, we can know exactly \n",
    "the center-of-mass wavefunction.\n",
    "\n",
    "\n",
    "\n",
    "\n",
    "\n",
    "\n",
    "\n",
    "## Building a many-body basis\n",
    "In almost all cases, the many-body Hamiltonian is rotationally invariant. This means \n",
    "it commutes with the operators $\\hat{J}^2, \\hat{J}_z$ and so eigenstates will have \n",
    "good $J,M$. Furthermore, the eigenenergies do not depend upon the orientation $M$. \n",
    "\n",
    "\n",
    "Therefore we can choose to construct a many-body basis which has fixed $M$; this is \n",
    "called an $M$-scheme basis. \n",
    "\n",
    "\n",
    "Alternately, one can construct a many-body basis which has fixed $J$, or a $J$-scheme \n",
    "basis. \n",
    "\n",
    "The Hamiltonian matrix will have smaller dimensions (a factor of 10 or more)\n",
    " in the $J$-scheme than in the $M$-scheme. \n",
    "On the other hand, as we'll show in the next slide, the $M$-scheme is very easy to \n",
    "construct with Slater determinants, while the $J$-scheme basis states, and thus the \n",
    "matrix elements, are more complicated, almost always being linear combinations of \n",
    "$M$-scheme states. $J$-scheme bases are important and useful, but we'll focus on the \n",
    "simpler $M$-scheme.\n",
    "\n",
    "\n",
    "\n",
    "\n",
    "## Building a many-body basis\n",
    "The quantum number $m$ is additive (because the underlying group is Abelian): \n",
    "if a Slater determinant $\\hat{a}_i^\\dagger \\hat{a}^\\dagger_j \\hat{a}^\\dagger_k \\ldots | 0 \\rangle$ \n",
    "is built from single-particle states all with good $m$, then the total"
   ]
  },
  {
   "cell_type": "markdown",
   "metadata": {},
   "source": [
    "$$\n",
    "M = m_i + m_j + m_k + \\ldots\n",
    "$$"
   ]
  },
  {
   "cell_type": "markdown",
   "metadata": {},
   "source": [
    "This is *not* true of $J$, because the angular momentum group SU(2) is not Abelian.\n",
    "\n",
    "The upshot is that \n",
    "* It is easy to construct a Slater determinant with good total $M$;\n",
    "\n",
    "* It is trivial to calculate $M$ for each Slater determinant;\n",
    "\n",
    "* So it is easy to construct an $M$-scheme basis with fixed total $M$.\n",
    "\n",
    "Note that the individual $M$-scheme basis states will *not*, in general, \n",
    "have good total $J$. \n",
    "Because the Hamiltonian is rotationally invariant, however, the eigenstates will \n",
    "have good $J$. (The situation is muddied when one has states of different $J$ that are \n",
    "nonetheless degenerate.)\n",
    "\n",
    "\n",
    "\n",
    "\n",
    "## Building a many-body basis\n",
    "Example: two $j=1/2$ orbits\n",
    "\n",
    "<table border=\"1\">\n",
    "<thead>\n",
    "<tr><th align=\"center\">Index</th> <th align=\"center\">$n$</th> <th align=\"center\">$l$</th> <th align=\"center\">$j$</th> <th align=\"center\">$m_j$</th> </tr>\n",
    "</thead>\n",
    "<tbody>\n",
    "<tr><td align=\"center\">   1        </td> <td align=\"center\">   0      </td> <td align=\"center\">   0      </td> <td align=\"center\">   1/2    </td> <td align=\"center\">   -1/2     </td> </tr>\n",
    "<tr><td align=\"center\">   2        </td> <td align=\"center\">   0      </td> <td align=\"center\">   0      </td> <td align=\"center\">   1/2    </td> <td align=\"center\">   1/2      </td> </tr>\n",
    "<tr><td align=\"center\">   3        </td> <td align=\"center\">   1      </td> <td align=\"center\">   0      </td> <td align=\"center\">   1/2    </td> <td align=\"center\">   -1/2     </td> </tr>\n",
    "<tr><td align=\"center\">   4        </td> <td align=\"center\">   1      </td> <td align=\"center\">   0      </td> <td align=\"center\">   1/2    </td> <td align=\"center\">   1/2      </td> </tr>\n",
    "</tbody>\n",
    "</table>\n",
    "Note: the order is arbitrary.\n",
    "There are $\\left ( \\begin{array}{c} 4 \\\\ 2 \\end{array} \\right) = 6$ two-particle states, \n",
    "which we list with the total $M$:\n",
    "\n",
    "<table border=\"1\">\n",
    "<thead>\n",
    "<tr><th align=\"center\">Occupied</th> <th align=\"center\">$M$</th> </tr>\n",
    "</thead>\n",
    "<tbody>\n",
    "<tr><td align=\"center\">   1,2         </td> <td align=\"center\">   0      </td> </tr>\n",
    "<tr><td align=\"center\">   1,3         </td> <td align=\"center\">   -1     </td> </tr>\n",
    "<tr><td align=\"center\">   1,4         </td> <td align=\"center\">   0      </td> </tr>\n",
    "<tr><td align=\"center\">   2,3         </td> <td align=\"center\">   0      </td> </tr>\n",
    "<tr><td align=\"center\">   2,4         </td> <td align=\"center\">   1      </td> </tr>\n",
    "<tr><td align=\"center\">   3,4         </td> <td align=\"center\">   0      </td> </tr>\n",
    "</tbody>\n",
    "</table>\n",
    "There are 4 states with $M= 0$, \n",
    "and 1 each with $M = \\pm 1$.\n",
    "\n",
    "\n",
    "\n",
    "\n",
    "\n",
    "\n",
    "\n",
    "\n",
    "## Building a many-body basis\n",
    "\n",
    "Example: consider using only single particle states from the $0d_{5/2}$ space. \n",
    "They have the following quantum numbers\n",
    "\n",
    "<table border=\"1\">\n",
    "<thead>\n",
    "<tr><th align=\"center\">Index</th> <th align=\"center\">$n$</th> <th align=\"center\">$l$</th> <th align=\"center\">$j$</th> <th align=\"center\">$m_j$</th> </tr>\n",
    "</thead>\n",
    "<tbody>\n",
    "<tr><td align=\"center\">   1        </td> <td align=\"center\">   0      </td> <td align=\"center\">   2      </td> <td align=\"center\">   5/2    </td> <td align=\"center\">   -5/2     </td> </tr>\n",
    "<tr><td align=\"center\">   2        </td> <td align=\"center\">   0      </td> <td align=\"center\">   2      </td> <td align=\"center\">   5/2    </td> <td align=\"center\">   -3/2     </td> </tr>\n",
    "<tr><td align=\"center\">   3        </td> <td align=\"center\">   0      </td> <td align=\"center\">   2      </td> <td align=\"center\">   5/2    </td> <td align=\"center\">   -1/2     </td> </tr>\n",
    "<tr><td align=\"center\">   4        </td> <td align=\"center\">   0      </td> <td align=\"center\">   2      </td> <td align=\"center\">   5/2    </td> <td align=\"center\">   1/2      </td> </tr>\n",
    "<tr><td align=\"center\">   5        </td> <td align=\"center\">   0      </td> <td align=\"center\">   2      </td> <td align=\"center\">   5/2    </td> <td align=\"center\">   3/2      </td> </tr>\n",
    "<tr><td align=\"center\">   6        </td> <td align=\"center\">   0      </td> <td align=\"center\">   2      </td> <td align=\"center\">   5/2    </td> <td align=\"center\">   5/2      </td> </tr>\n",
    "</tbody>\n",
    "</table>\n",
    "There are $\\left ( \\begin{array}{c} 6 \\\\ 2 \\end{array} \\right) = 15$ two-particle states, \n",
    "which we list with the total $M$:\n",
    "\n",
    "<table border=\"1\">\n",
    "<thead>\n",
    "<tr><th align=\"center\">Occupied</th> <th align=\"center\">$M$</th> <th align=\"center\">Occupied</th> <th align=\"center\">$M$</th> <th align=\"center\">Occupied</th> <th align=\"center\">$M$</th> </tr>\n",
    "</thead>\n",
    "<tbody>\n",
    "<tr><td align=\"center\">   1,2         </td> <td align=\"center\">   -4     </td> <td align=\"center\">   2,3         </td> <td align=\"center\">   -2     </td> <td align=\"center\">   3,5         </td> <td align=\"center\">   1      </td> </tr>\n",
    "<tr><td align=\"center\">   1,3         </td> <td align=\"center\">   -3     </td> <td align=\"center\">   2,4         </td> <td align=\"center\">   -1     </td> <td align=\"center\">   3,6         </td> <td align=\"center\">   2      </td> </tr>\n",
    "<tr><td align=\"center\">   1,4         </td> <td align=\"center\">   -2     </td> <td align=\"center\">   2,5         </td> <td align=\"center\">   0      </td> <td align=\"center\">   4,5         </td> <td align=\"center\">   2      </td> </tr>\n",
    "<tr><td align=\"center\">   1,5         </td> <td align=\"center\">   -1     </td> <td align=\"center\">   2,6         </td> <td align=\"center\">   1      </td> <td align=\"center\">   4,6         </td> <td align=\"center\">   3      </td> </tr>\n",
    "<tr><td align=\"center\">   1,6         </td> <td align=\"center\">   0      </td> <td align=\"center\">   3,4         </td> <td align=\"center\">   0      </td> <td align=\"center\">   5,6         </td> <td align=\"center\">   4      </td> </tr>\n",
    "</tbody>\n",
    "</table>\n",
    "There are 3 states with $M= 0$, 2 with $M = 1$, and so on.\n",
    "\n",
    "\n",
    "\n",
    "## Project\n",
    "The basic goal of the project is for you to build your own configuration-interaction  shell-model \n",
    "code. The code will be fairly basic; it will assume that we have \n",
    "a single species of particles, e.g. only neutrons, \n",
    "and you could, if you wish to,  read in uncoupled two-body matrix elements.  Furthermore the pieces of the code will not \n",
    "be the most efficient.  Nonetheless it will be usable; most importantly, you will gain a good idea of what goes into a many-body shell-model code.\n",
    "\n",
    "\n",
    "\n",
    "\n",
    "\n",
    "## Project, step 1\n",
    "\n",
    "The first step  is to construct the $M$-scheme basis of Slater determinants.\n",
    "Here $M$-scheme means the total $J_z$ of the many-body states is fixed.\n",
    "\n",
    "The steps could be:\n",
    "\n",
    "* Read in a user-supplied file of single-particle states (examples can be given) or just code these internally;\n",
    "\n",
    "* Ask for the total $M$ of the system and the number of particles $N$;\n",
    "\n",
    "* Construct all the $N$-particle states with given $M$.  You will validate the code by  comparing both the number of states and specific states.\n",
    "\n",
    "\n",
    "\n",
    "## Project, step 1\n",
    "The format of a possible input  file could be\n",
    "<table border=\"1\">\n",
    "<thead>\n",
    "<tr><th align=\"center\">Index</th> <th align=\"center\">$n$</th> <th align=\"center\">$l$</th> <th align=\"center\">$2j$</th> <th align=\"center\">$2m_j$</th> </tr>\n",
    "</thead>\n",
    "<tbody>\n",
    "<tr><td align=\"center\">   1        </td> <td align=\"center\">   1      </td> <td align=\"center\">   0      </td> <td align=\"center\">   1       </td> <td align=\"center\">   -1        </td> </tr>\n",
    "<tr><td align=\"center\">   2        </td> <td align=\"center\">   1      </td> <td align=\"center\">   0      </td> <td align=\"center\">   1       </td> <td align=\"center\">   1         </td> </tr>\n",
    "<tr><td align=\"center\">   3        </td> <td align=\"center\">   0      </td> <td align=\"center\">   2      </td> <td align=\"center\">   3       </td> <td align=\"center\">   -3        </td> </tr>\n",
    "<tr><td align=\"center\">   4        </td> <td align=\"center\">   0      </td> <td align=\"center\">   2      </td> <td align=\"center\">   3       </td> <td align=\"center\">   -1        </td> </tr>\n",
    "<tr><td align=\"center\">   5        </td> <td align=\"center\">   0      </td> <td align=\"center\">   2      </td> <td align=\"center\">   3       </td> <td align=\"center\">   1         </td> </tr>\n",
    "<tr><td align=\"center\">   6        </td> <td align=\"center\">   0      </td> <td align=\"center\">   2      </td> <td align=\"center\">   3       </td> <td align=\"center\">   3         </td> </tr>\n",
    "<tr><td align=\"center\">   7        </td> <td align=\"center\">   0      </td> <td align=\"center\">   2      </td> <td align=\"center\">   5       </td> <td align=\"center\">   -5        </td> </tr>\n",
    "<tr><td align=\"center\">   8        </td> <td align=\"center\">   0      </td> <td align=\"center\">   2      </td> <td align=\"center\">   5       </td> <td align=\"center\">   -3        </td> </tr>\n",
    "<tr><td align=\"center\">   9        </td> <td align=\"center\">   0      </td> <td align=\"center\">   2      </td> <td align=\"center\">   5       </td> <td align=\"center\">   -1        </td> </tr>\n",
    "<tr><td align=\"center\">   10       </td> <td align=\"center\">   0      </td> <td align=\"center\">   2      </td> <td align=\"center\">   5       </td> <td align=\"center\">   1         </td> </tr>\n",
    "<tr><td align=\"center\">   11       </td> <td align=\"center\">   0      </td> <td align=\"center\">   2      </td> <td align=\"center\">   5       </td> <td align=\"center\">   3         </td> </tr>\n",
    "<tr><td align=\"center\">   12       </td> <td align=\"center\">   0      </td> <td align=\"center\">   2      </td> <td align=\"center\">   5       </td> <td align=\"center\">   5         </td> </tr>\n",
    "</tbody>\n",
    "</table>\n",
    "This represents the $1s_{1/2}0d_{3/2}0d_{5/2}$ valence space, or just the $sd$-space.  There are \n",
    "twelve single-particle states, labeled by an overall index, and which have associated quantum \n",
    "numbers the number of radial nodes, the orbital angular momentum $l$, and the \n",
    "angular momentum $j$ and third component $j_z$.  To keep everything as integers, we could store $2 \\times j$ and \n",
    "$2 \\times j_z$.\n",
    "\n",
    "\n",
    "\n",
    "## Project, step 1\n",
    "To read in the single-particle states you need to:\n",
    "* Open the file \n",
    "\n",
    " * Read the number of single-particle states (in the above example, 12);  allocate memory; all you need is a single array storing $2\\times j_z$ for each state, labeled by the index.\n",
    "\n",
    "\n",
    "* Read in the quantum numbers and store $2 \\times j_z$ (and anything else you happen to want).\n",
    "\n",
    "\n",
    "\n",
    "## Project, step 1\n",
    "\n",
    "The next step is to read in the number of particles $N$ and the fixed total $M$ (or, actually, $2 \\times M$). \n",
    "For this project we assume only a single species of particles, say neutrons, although this can be \n",
    "relaxed. **Note**: Although it is often a good idea to try to write a more general code, given the \n",
    "short time alloted we would suggest you keep your ambition in check, at least in the initial phases of the \n",
    "project.  \n",
    "\n",
    "\n",
    "You should probably write an error trap to make sure $N$ and $M$ are congruent; if $N$ is even, then \n",
    "$2 \\times M$ should be even, and if $N$ is odd then $2\\times M$ should be odd.\n",
    "\n",
    "\n",
    "\n",
    "## Project, step 1\n",
    "The final step is to generate the set of $N$-particle Slater determinants with fixed $M$. \n",
    "The Slater determinants will be stored in occupation representation.  Although in many codes\n",
    "this representation is done compactly in bit notation with ones and zeros, but for \n",
    "greater transparency and simplicity we will list the occupied single particle states.\n",
    "\n",
    " Hence we can \n",
    "store the Slater determinant basis states as $sd(i,j)$, that is an \n",
    "array of dimension $N_{SD}$, the number of Slater determinants, by $N$, the number of occupied \n",
    "state. So if for the 7th Slater determinant the 2nd, 3rd, and 9th single-particle states are occupied, \n",
    "then $sd(7,1) = 2$, $sd(7,2) = 3$, and $sd(7,3) = 9$.\n",
    "\n",
    "\n",
    "\n",
    "## Project , step 1\n",
    "\n",
    "We can construct an occupation representation of Slater determinants by the *odometer*\n",
    "method.  Consider $N_{sp} = 12$ and $N=4$. \n",
    "Start with the first 4 states occupied, that is:\n",
    "\n",
    "* $sd(1,:)= 1,2,3,4$ (also written as $|1,2,3,4 \\rangle$)\n",
    "\n",
    "Now increase the last occupancy recursively:\n",
    "* $sd(2,:)= 1,2,3,5$\n",
    "\n",
    "* $sd(3,:)= 1,2,3,6$\n",
    "\n",
    "* $sd(4,:)= 1,2,3,7$\n",
    "\n",
    "* $\\ldots$\n",
    "\n",
    "* $sd(9,:)= 1,2,3,12$\n",
    "\n",
    "Then start over with \n",
    "* $sd(10,:)= 1,2,4,5$\n",
    "\n",
    "and again increase the rightmost digit\n",
    "\n",
    "* $sd(11,:)= 1,2,4,6$\n",
    "\n",
    "* $sd(12,:)= 1,2,4,7$\n",
    "\n",
    "* $\\ldots$\n",
    "\n",
    "* $sd(17,:)= 1,2,4,12$\n",
    "\n",
    "\n",
    "\n",
    "## Project , step 1\n",
    "When we restrict ourselves to an $M$-scheme basis, we could choose two paths. \n",
    "The first is simplest (and simplest is often best, at \n",
    "least in the first draft of a code): generate all possible Slater determinants, \n",
    "and then extract from this initial list a list of those Slater determinants with a given \n",
    "$M$. (You will need to write a short function or routine that computes $M$ for any \n",
    "given occupation.)  \n",
    "\n",
    "\n",
    "Alternately, and not too difficult, is to run the odometer routine twice: each time, as \n",
    "as a Slater determinant is calculated, compute $M$, but do not store the Slater determinants \n",
    "except the current one. You can then count up the number of Slater determinants with a \n",
    "chosen $M$.  Then allocated storage for the Slater determinants, and run the odometer \n",
    "algorithm again, this time storing Slater determinants with the desired $M$ (this can be \n",
    "done with a simple logical flag).\n",
    "\n",
    "\n",
    "\n",
    "\n",
    "## Project , step 1\n",
    "\n",
    "*Some example solutions*:  Let's begin with a simple case, the $0d_{5/2}$ space containing six single-particle states\n",
    "\n",
    "<table border=\"1\">\n",
    "<thead>\n",
    "<tr><th align=\"center\">Index</th> <th align=\"center\">$n$</th> <th align=\"center\">$l$</th> <th align=\"center\">$j$</th> <th align=\"center\">$m_j$</th> </tr>\n",
    "</thead>\n",
    "<tbody>\n",
    "<tr><td align=\"center\">   1        </td> <td align=\"center\">   0      </td> <td align=\"center\">   2      </td> <td align=\"center\">   5/2    </td> <td align=\"center\">   -5/2     </td> </tr>\n",
    "<tr><td align=\"center\">   2        </td> <td align=\"center\">   0      </td> <td align=\"center\">   2      </td> <td align=\"center\">   5/2    </td> <td align=\"center\">   -3/2     </td> </tr>\n",
    "<tr><td align=\"center\">   3        </td> <td align=\"center\">   0      </td> <td align=\"center\">   2      </td> <td align=\"center\">   5/2    </td> <td align=\"center\">   -1/2     </td> </tr>\n",
    "<tr><td align=\"center\">   4        </td> <td align=\"center\">   0      </td> <td align=\"center\">   2      </td> <td align=\"center\">   5/2    </td> <td align=\"center\">   1/2      </td> </tr>\n",
    "<tr><td align=\"center\">   5        </td> <td align=\"center\">   0      </td> <td align=\"center\">   2      </td> <td align=\"center\">   5/2    </td> <td align=\"center\">   3/2      </td> </tr>\n",
    "<tr><td align=\"center\">   6        </td> <td align=\"center\">   0      </td> <td align=\"center\">   2      </td> <td align=\"center\">   5/2    </td> <td align=\"center\">   5/2      </td> </tr>\n",
    "</tbody>\n",
    "</table>\n",
    "For two particles, there are a total of 15 states, which we list here with the total $M$:\n",
    "* $| 1,2 \\rangle$, $M= -4$,  $| 1,3 \\rangle$, $M= -3$\n",
    "\n",
    "* $| 1,4 \\rangle$, $M= -2$, $| 1,5 \\rangle$, $M= -1$\n",
    "\n",
    "* $| 1,5 \\rangle$, $M= 0$, $| 2,3 \\rangle$, $M= -2$\n",
    "\n",
    "* $| 2,4 \\rangle$, $M= -1$, $| 2,5 \\rangle$, $M= 0$\n",
    "\n",
    "* $| 2,6 \\rangle$, $M= 1$, $| 3,4 \\rangle$, $M= 0$\n",
    "\n",
    "* $| 3,5 \\rangle$, $M= 1$, $| 3,6 \\rangle$, $M= 2$\n",
    "\n",
    "* $| 4,5 \\rangle$, $M= 2$, $ | 4,6 \\rangle$, $M= 3$\n",
    "\n",
    "* $| 5,6 \\rangle$, $M= 4$\n",
    "\n",
    "Of these, there are only 3 states with $M=0$.\n",
    "\n",
    "\n",
    "\n",
    "## Project , step 1\n",
    "*You should try* by hand to show that in this same single-particle space, that for \n",
    "$N=3$ there are 3 states with $M=1/2$ and for $N= 4$ there are also only 3 states with $M=0$. \n",
    "\n",
    "*To test your code*, confirm the above. \n",
    "\n",
    "Also, \n",
    "for the $sd$-space given above, for $N=2$ there are 14 states with $M=0$, for $N=3$ there are 37 \n",
    "states with $M=1/2$, for $N=4$ there are 81 states with $M=0$.\n",
    "\n",
    "\n",
    "\n",
    "## Project , step 1\n",
    "For our project, we will only consider the pairing model.\n",
    "A simple space is the $(1/2)^2$ space with four single-particle states\n",
    "\n",
    "<table border=\"1\">\n",
    "<thead>\n",
    "<tr><th align=\"center\">Index</th> <th align=\"center\">$n$</th> <th align=\"center\">$l$</th> <th align=\"center\">$s$</th> <th align=\"center\">$m_s$</th> </tr>\n",
    "</thead>\n",
    "<tbody>\n",
    "<tr><td align=\"center\">   1        </td> <td align=\"center\">   0      </td> <td align=\"center\">   0      </td> <td align=\"center\">   1/2    </td> <td align=\"center\">   -1/2     </td> </tr>\n",
    "<tr><td align=\"center\">   2        </td> <td align=\"center\">   0      </td> <td align=\"center\">   0      </td> <td align=\"center\">   1/2    </td> <td align=\"center\">   1/2      </td> </tr>\n",
    "<tr><td align=\"center\">   3        </td> <td align=\"center\">   1      </td> <td align=\"center\">   0      </td> <td align=\"center\">   1/2    </td> <td align=\"center\">   -1/2     </td> </tr>\n",
    "<tr><td align=\"center\">   4        </td> <td align=\"center\">   1      </td> <td align=\"center\">   0      </td> <td align=\"center\">   1/2    </td> <td align=\"center\">   1/2      </td> </tr>\n",
    "</tbody>\n",
    "</table>\n",
    "For $N=2$ there are 4 states with $M=0$; show this by hand and confirm your code reproduces it.\n",
    "\n",
    "\n",
    "\n",
    "## Project , step 1\n",
    "Another, slightly more challenging space is the $(1/2)^4$ space, that is, \n",
    "with eight  single-particle states we have\n",
    "\n",
    "<table border=\"1\">\n",
    "<thead>\n",
    "<tr><th align=\"center\">Index</th> <th align=\"center\">$n$</th> <th align=\"center\">$l$</th> <th align=\"center\">$s$</th> <th align=\"center\">$m_s$</th> </tr>\n",
    "</thead>\n",
    "<tbody>\n",
    "<tr><td align=\"center\">   1        </td> <td align=\"center\">   0      </td> <td align=\"center\">   0      </td> <td align=\"center\">   1/2    </td> <td align=\"center\">   -1/2     </td> </tr>\n",
    "<tr><td align=\"center\">   2        </td> <td align=\"center\">   0      </td> <td align=\"center\">   0      </td> <td align=\"center\">   1/2    </td> <td align=\"center\">   1/2      </td> </tr>\n",
    "<tr><td align=\"center\">   3        </td> <td align=\"center\">   1      </td> <td align=\"center\">   0      </td> <td align=\"center\">   1/2    </td> <td align=\"center\">   -1/2     </td> </tr>\n",
    "<tr><td align=\"center\">   4        </td> <td align=\"center\">   1      </td> <td align=\"center\">   0      </td> <td align=\"center\">   1/2    </td> <td align=\"center\">   1/2      </td> </tr>\n",
    "<tr><td align=\"center\">   5        </td> <td align=\"center\">   2      </td> <td align=\"center\">   0      </td> <td align=\"center\">   1/2    </td> <td align=\"center\">   -1/2     </td> </tr>\n",
    "<tr><td align=\"center\">   6        </td> <td align=\"center\">   2      </td> <td align=\"center\">   0      </td> <td align=\"center\">   1/2    </td> <td align=\"center\">   1/2      </td> </tr>\n",
    "<tr><td align=\"center\">   7        </td> <td align=\"center\">   3      </td> <td align=\"center\">   0      </td> <td align=\"center\">   1/2    </td> <td align=\"center\">   -1/2     </td> </tr>\n",
    "<tr><td align=\"center\">   8        </td> <td align=\"center\">   3      </td> <td align=\"center\">   0      </td> <td align=\"center\">   1/2    </td> <td align=\"center\">   1/2      </td> </tr>\n",
    "</tbody>\n",
    "</table>\n",
    "For $N=2$ there are 16 states with $M=0$; for $N=3$ there are 24 states with $M=1/2$, and for \n",
    "$N=4$ there are 36 states with $M=0$.\n",
    "\n",
    "\n",
    "\n",
    "## Project , step 1\n",
    "In the shell-model context we can interpret this as 4 $s_{1/2}$ levels, with $m = \\pm 1/2$, we can also think of these are simple four pairs,  $\\pm k, k = 1,2,3,4$. Later on we will \n",
    "assign single-particle energies,  depending on the radial quantum number $n$, that is, \n",
    "$\\epsilon_k = |k| \\delta$ so that they are equally spaced.\n",
    "\n",
    "\n",
    "\n",
    "## Project , step 1\n",
    "\n",
    "For application in the pairing model we can go further and consider only states with \n",
    "no \"broken pairs,\" that is, if $+k$ is filled (or $m = +1/2$, so is $-k$ ($m=-1/2$). \n",
    "If you want, you can write your code to accept only these, and obtain the following \n",
    "six states:\n",
    "\n",
    "* $|           1,           2 ,          3         ,       4  \\rangle , $\n",
    "\n",
    "* $|            1      ,     2        ,        5         ,       6 \\rangle , $\n",
    "\n",
    "* $|            1         ,       2     ,           7         ,       8  \\rangle , $\n",
    "\n",
    "* $|            3        ,        4      ,          5          ,      6  \\rangle , $\n",
    "\n",
    "* $|            3        ,        4      ,          7         ,       8  \\rangle , $\n",
    "\n",
    "* $|            5        ,        6     ,           7     ,           8  \\rangle $\n",
    "\n",
    "\n",
    "\n",
    "\n",
    "\n",
    "## Project , step 1\n",
    "**Hints for coding.**\n",
    "\n",
    "\n",
    "\n",
    "* Write small modules (routines/functions) ; avoid big functions  that do everything. (But not too small.)\n",
    "\n",
    "* Write lots of error traps, even for things that are `obvious.'\n",
    "\n",
    "* Document as you go along.  For each function write a header that includes: \n",
    "\n",
    "a. Main purpose of function\n",
    "\n",
    "b. names and  brief explanation of input variables, if any \n",
    "\n",
    "c. names and brief explanation of output variables, if any\n",
    "\n",
    "d. functions called by this function\n",
    "\n",
    "e. called by which functions\n",
    "\n",
    "\n",
    "\n",
    "## Project , step 1\n",
    "\n",
    "Hints for coding\n",
    "\n",
    "* When debugging, print out intermediate values. It's almost impossible to debug a  code by looking at it--the code will almost always win a `staring contest.'\n",
    "\n",
    "* Validate code with SIMPLE CASES. Validate early and often.   \n",
    "\n",
    "The number one mistake is using a too complex a system to test. For example ,\n",
    "if you are computing particles in a potential in a box, try removing the potential--you should get \n",
    "particles in a box. And start with one particle, then two, then three... Don't start with \n",
    "eight particles.\n",
    "\n",
    "\n",
    "\n",
    "## Project , step 1\n",
    "\n",
    "Our recommended occupation representation, e.g. $| 1,2,4,8 \\rangle$, is \n",
    "easy to code, but numerically inefficient when one has hundreds of \n",
    "millions of Slater determinants.\n",
    "\n",
    "\n",
    "In state-of-the-art shell-model codes, one generally uses bit \n",
    "representation, i.e. $|1101000100... \\rangle$ where one stores \n",
    "the Slater determinant as a single (or a small number of) integer.\n",
    "\n",
    "\n",
    "This is much more compact, but more intricate to code with considerable \n",
    "more overhead. There exist \n",
    "bit-manipulation functions. \n",
    "This is left as a challenge for those of you who would like to study this topic further for the final project to be presented for the oral examination.\n",
    "\n",
    "\n",
    "\n",
    "## Example case: pairing Hamiltonian\n",
    "\n",
    "We consider a space with $2\\Omega$ single-particle states, with each \n",
    "state labeled by \n",
    "$k = 1, 2, 3, \\Omega$ and $m = \\pm 1/2$. The convention is that \n",
    "the state with $k>0$ has $m = + 1/2$ while $-k$ has $m = -1/2$.\n",
    "\n",
    "\n",
    "The Hamiltonian we consider is"
   ]
  },
  {
   "cell_type": "markdown",
   "metadata": {},
   "source": [
    "$$\n",
    "\\hat{H} = -G \\hat{P}_+ \\hat{P}_-,\n",
    "$$"
   ]
  },
  {
   "cell_type": "markdown",
   "metadata": {},
   "source": [
    "where"
   ]
  },
  {
   "cell_type": "markdown",
   "metadata": {},
   "source": [
    "$$\n",
    "\\hat{P}_+ = \\sum_{k > 0} \\hat{a}^\\dagger_k \\hat{a}^\\dagger_{-{k}}.\n",
    "$$"
   ]
  },
  {
   "cell_type": "markdown",
   "metadata": {},
   "source": [
    "and $\\hat{P}_- = ( \\hat{P}_+)^\\dagger$.\n",
    "\n",
    "This problem can be solved using what is called the quasi-spin formalism to obtain the \n",
    "exact results. Thereafter we will try again using the explicit Slater determinant formalism.\n",
    "\n",
    "\n",
    "\n",
    "\n",
    "\n",
    "## Example case: pairing Hamiltonian\n",
    "\n",
    "One can show (and this is part of the project) that"
   ]
  },
  {
   "cell_type": "markdown",
   "metadata": {},
   "source": [
    "$$\n",
    "\\left [ \\hat{P}_+, \\hat{P}_- \\right ] = \\sum_{k> 0} \\left( \\hat{a}^\\dagger_k \\hat{a}_k \n",
    "+ \\hat{a}^\\dagger_{-{k}} \\hat{a}_{-{k}} - 1 \\right) = \\hat{N} - \\Omega.\n",
    "$$"
   ]
  },
  {
   "cell_type": "markdown",
   "metadata": {},
   "source": [
    "Now define"
   ]
  },
  {
   "cell_type": "markdown",
   "metadata": {},
   "source": [
    "$$\n",
    "\\hat{P}_z = \\frac{1}{2} ( \\hat{N} -\\Omega).\n",
    "$$"
   ]
  },
  {
   "cell_type": "markdown",
   "metadata": {},
   "source": [
    "Finally you can show"
   ]
  },
  {
   "cell_type": "markdown",
   "metadata": {},
   "source": [
    "$$\n",
    "\\left [ \\hat{P}_z , \\hat{P}_\\pm \\right ] = \\pm \\hat{P}_\\pm.\n",
    "$$"
   ]
  },
  {
   "cell_type": "markdown",
   "metadata": {},
   "source": [
    "This means the operators $\\hat{P}_\\pm, \\hat{P}_z$ form a so-called  $SU(2)$ algebra, and we can \n",
    "use all our insights about angular momentum, even though there is no actual \n",
    "angular momentum involved (this is similar to project 1).\n",
    "\n",
    "So we rewrite the Hamiltonian to make this explicit:"
   ]
  },
  {
   "cell_type": "markdown",
   "metadata": {},
   "source": [
    "$$\n",
    "\\hat{H} = -G \\hat{P}_+ \\hat{P}_- \n",
    "= -G \\left( \\hat{P}^2 - \\hat{P}_z^2 + \\hat{P}_z\\right)\n",
    "$$"
   ]
  },
  {
   "cell_type": "markdown",
   "metadata": {},
   "source": [
    "## Example case: pairing Hamiltonian\n",
    "\n",
    "Because of the SU(2) algebra, we know that the eigenvalues of \n",
    "$\\hat{P}^2$ must be of the form $p(p+1)$, with $p$ either integer or half-integer, and the eigenvalues of $\\hat{P}_z$ \n",
    "are $m_p$ with $p \\geq | m_p|$, with $m_p$ also integer or half-integer. \n",
    "\n",
    "\n",
    "But because $\\hat{P}_z = (1/2)(\\hat{N}-\\Omega)$, we know that for $N$ particles \n",
    "the value $m_p = (N-\\Omega)/2$. Furthermore, the values of $m_p$ range from \n",
    "$-\\Omega/2$ (for $N=0$) to $+\\Omega/2$ (for $N=2\\Omega$, with all states filled). \n",
    "\n",
    "We deduce the maximal $p = \\Omega/2$ and for a given $n$ the \n",
    "values range of $p$ range from $|N-\\Omega|/2$ to $\\Omega/2$ in steps of 1 \n",
    "(for an even number of particles) \n",
    "\n",
    "\n",
    "Following Racah we introduce the notation\n",
    "$p = (\\Omega - v)/2$\n",
    "where $v = 0, 2, 4,..., \\Omega - |N-\\Omega|$ \n",
    "With this it is easy to deduce that the eigenvalues of the pairing Hamiltonian are"
   ]
  },
  {
   "cell_type": "markdown",
   "metadata": {},
   "source": [
    "$$\n",
    "-G(N-v)(2\\Omega +2-N-v)/4\n",
    "$$"
   ]
  },
  {
   "cell_type": "markdown",
   "metadata": {},
   "source": [
    "This also works for $N$ odd, with $v= 1,3,5, \\dots$.\n",
    "\n",
    "\n",
    "\n",
    "\n",
    "## Example case: pairing Hamiltonian\n",
    "\n",
    "Let's take a specific example: $\\Omega = 3$ so there are 6 single-particle states, \n",
    "and $N = 3$, with $v= 1,3$. Therefore there are two distinct eigenvalues,"
   ]
  },
  {
   "cell_type": "markdown",
   "metadata": {},
   "source": [
    "$$\n",
    "E = -2G, 0\n",
    "$$"
   ]
  },
  {
   "cell_type": "markdown",
   "metadata": {},
   "source": [
    "Now let's work this out explicitly. The single particle degrees of freedom are defined as\n",
    "\n",
    "<table border=\"1\">\n",
    "<thead>\n",
    "<tr><th align=\"center\">Index</th> <th align=\"center\">$k$</th> <th align=\"center\">$m$ </th> </tr>\n",
    "</thead>\n",
    "<tbody>\n",
    "<tr><td align=\"center\">   1        </td> <td align=\"center\">   1      </td> <td align=\"center\">   -1/2    </td> </tr>\n",
    "<tr><td align=\"center\">   2        </td> <td align=\"center\">   -1     </td> <td align=\"center\">   1/2     </td> </tr>\n",
    "<tr><td align=\"center\">   3        </td> <td align=\"center\">   2      </td> <td align=\"center\">   -1/2    </td> </tr>\n",
    "<tr><td align=\"center\">   4        </td> <td align=\"center\">   -2     </td> <td align=\"center\">   1/2     </td> </tr>\n",
    "<tr><td align=\"center\">   5        </td> <td align=\"center\">   3      </td> <td align=\"center\">   -1/2    </td> </tr>\n",
    "<tr><td align=\"center\">   6        </td> <td align=\"center\">   -3     </td> <td align=\"center\">   1/2     </td> </tr>\n",
    "</tbody>\n",
    "</table>\n",
    " There are  $\\left( \\begin{array}{c}6 \\\\ 3 \\end{array} \\right) = 20$ three-particle states, but there \n",
    "are 9 states with $M = +1/2$, namely\n",
    "$| 1,2,3 \\rangle, |1,2,5\\rangle, | 1,4,6 \\rangle, | 2,3,4 \\rangle, |2,3,6 \\rangle, | 2,4,5 \\rangle, | 2, 5, 6 \\rangle, |3,4,6 \\rangle, | 4,5,6 \\rangle$.\n",
    "\n",
    "\n",
    "\n",
    "\n",
    "\n",
    "\n",
    "\n",
    "## Example case: pairing Hamiltonian\n",
    "\n",
    "In this basis, the operator"
   ]
  },
  {
   "cell_type": "markdown",
   "metadata": {},
   "source": [
    "$$\n",
    "\\hat{P}_+\n",
    "= \\hat{a}^\\dagger_1 \\hat{a}^\\dagger_2 + \\hat{a}^\\dagger_3 \\hat{a}^\\dagger_4 +\n",
    "\\hat{a}^\\dagger_5 \\hat{a}^\\dagger_6\n",
    "$$"
   ]
  },
  {
   "cell_type": "markdown",
   "metadata": {},
   "source": [
    "From this we can determine that"
   ]
  },
  {
   "cell_type": "markdown",
   "metadata": {},
   "source": [
    "$$\n",
    "\\hat{P}_- | 1, 4, 6 \\rangle = \\hat{P}_- | 2, 3, 6 \\rangle\n",
    "= \\hat{P}_- | 2, 4, 5 \\rangle = 0\n",
    "$$"
   ]
  },
  {
   "cell_type": "markdown",
   "metadata": {},
   "source": [
    "so those states all have eigenvalue 0.\n",
    "\n",
    "\n",
    "\n",
    "\n",
    "## Example case: pairing Hamiltonian\n",
    "Now for further example,"
   ]
  },
  {
   "cell_type": "markdown",
   "metadata": {},
   "source": [
    "$$\n",
    "\\hat{P}_- | 1,2,3 \\rangle = | 3 \\rangle\n",
    "$$"
   ]
  },
  {
   "cell_type": "markdown",
   "metadata": {},
   "source": [
    "so"
   ]
  },
  {
   "cell_type": "markdown",
   "metadata": {},
   "source": [
    "$$\n",
    "\\hat{P}_+ \\hat{P}_- | 1,2,3\\rangle = | 1,2,3\\rangle+ | 3,4,3\\rangle + | 5,6,3\\rangle\n",
    "$$"
   ]
  },
  {
   "cell_type": "markdown",
   "metadata": {},
   "source": [
    "The second term vanishes because state 3 is occupied twice, and reordering the last \n",
    "term we\n",
    "get"
   ]
  },
  {
   "cell_type": "markdown",
   "metadata": {},
   "source": [
    "$$\n",
    "\\hat{P}_+ \\hat{P}_- | 1,2,3\\rangle = | 1,2,3\\rangle+ |3, 5,6\\rangle\n",
    "$$"
   ]
  },
  {
   "cell_type": "markdown",
   "metadata": {},
   "source": [
    "without picking up a phase.\n",
    "\n",
    "\n",
    "\n",
    "## Example case: pairing Hamiltonian\n",
    "\n",
    "Continuing in this fashion, with the previous ordering of the many-body states\n",
    "(  $| 1,2,3 \\rangle, |1,2,5\\rangle, | 1,4,6 \\rangle, | 2,3,4 \\rangle, |2,3,6 \\rangle, | 2,4,5 \\rangle, | 2, 5, 6 \\rangle, |3,4,6 \\rangle, | 4,5,6 \\rangle$) the \n",
    "Hamiltonian matrix of this system is"
   ]
  },
  {
   "cell_type": "markdown",
   "metadata": {},
   "source": [
    "$$\n",
    "H = -G\\left( \n",
    "\\begin{array}{ccccccccc}\n",
    "1 & 0 & 0 & 0 & 0 & 0 & 0 & 0 & 1  \\\\\n",
    "0 & 1 & 0 & 0 & 0 & 0 & 0 & 1 & 0  \\\\\n",
    "0 & 0 & 0 & 0 & 0 & 0 & 0 & 0 & 0  \\\\\n",
    "0 & 0 & 0 & 1 & 0 & 0 & 1 & 0 & 0  \\\\\n",
    "0 & 0 & 0 & 0 & 0 & 0 & 0 & 0 & 0  \\\\\n",
    "0 & 0 & 0 & 0 & 0 & 0 & 0 & 0 & 0  \\\\\n",
    "0 & 0 & 0 & 1 & 0 & 0 & 1 & 0 & 0  \\\\\n",
    "0 & 0 & 0 & 0 & 0 & 0 & 0 & 0 & 0  \\\\\n",
    "0 & 1 & 0 & 0 & 0 & 0 & 0 & 1 & 0  \\\\\n",
    "1 & 0 & 0 & 0 & 0 & 0 & 0 & 0 & 1  \n",
    "\\end{array} \\right )\n",
    "$$"
   ]
  },
  {
   "cell_type": "markdown",
   "metadata": {},
   "source": [
    "This is useful for our project.  One can by hand confirm \n",
    "that there are 3 eigenvalues $-2G$ and 6 with value zero.\n",
    "\n",
    "\n",
    "\n",
    "## Example case: pairing Hamiltonian\n",
    "\n",
    "Another example\n",
    "Using the $(1/2)^4$ single-particle space, resulting in eight single-particle states\n",
    "\n",
    "<table border=\"1\">\n",
    "<thead>\n",
    "<tr><th align=\"center\">Index</th> <th align=\"center\">$n$</th> <th align=\"center\">$l$</th> <th align=\"center\">$s$</th> <th align=\"center\">$m_s$</th> </tr>\n",
    "</thead>\n",
    "<tbody>\n",
    "<tr><td align=\"center\">   1        </td> <td align=\"center\">   0      </td> <td align=\"center\">   0      </td> <td align=\"center\">   1/2    </td> <td align=\"center\">   -1/2     </td> </tr>\n",
    "<tr><td align=\"center\">   2        </td> <td align=\"center\">   0      </td> <td align=\"center\">   0      </td> <td align=\"center\">   1/2    </td> <td align=\"center\">   1/2      </td> </tr>\n",
    "<tr><td align=\"center\">   3        </td> <td align=\"center\">   1      </td> <td align=\"center\">   0      </td> <td align=\"center\">   1/2    </td> <td align=\"center\">   -1/2     </td> </tr>\n",
    "<tr><td align=\"center\">   4        </td> <td align=\"center\">   1      </td> <td align=\"center\">   0      </td> <td align=\"center\">   1/2    </td> <td align=\"center\">   1/2      </td> </tr>\n",
    "<tr><td align=\"center\">   5        </td> <td align=\"center\">   2      </td> <td align=\"center\">   0      </td> <td align=\"center\">   1/2    </td> <td align=\"center\">   -1/2     </td> </tr>\n",
    "<tr><td align=\"center\">   6        </td> <td align=\"center\">   2      </td> <td align=\"center\">   0      </td> <td align=\"center\">   1/2    </td> <td align=\"center\">   1/2      </td> </tr>\n",
    "<tr><td align=\"center\">   7        </td> <td align=\"center\">   3      </td> <td align=\"center\">   0      </td> <td align=\"center\">   1/2    </td> <td align=\"center\">   -1/2     </td> </tr>\n",
    "<tr><td align=\"center\">   8        </td> <td align=\"center\">   3      </td> <td align=\"center\">   0      </td> <td align=\"center\">   1/2    </td> <td align=\"center\">   1/2      </td> </tr>\n",
    "</tbody>\n",
    "</table>\n",
    "and then taking only 4-particle, $M=0$ states that have no `broken pairs', there are six basis Slater \n",
    "determinants:\n",
    "\n",
    "* $|           1,           2 ,          3         ,       4  \\rangle , $\n",
    "\n",
    "* $|            1      ,     2        ,        5         ,       6 \\rangle , $\n",
    "\n",
    "* $|            1         ,       2     ,           7         ,       8  \\rangle , $\n",
    "\n",
    "* $|            3        ,        4      ,          5          ,      6  \\rangle , $\n",
    "\n",
    "* $|            3        ,        4      ,          7         ,       8  \\rangle , $\n",
    "\n",
    "* $|            5        ,        6     ,           7     ,           8  \\rangle $\n",
    "\n",
    "\n",
    "\n",
    "## Example case: pairing Hamiltonian\n",
    "\n",
    "Now we take the following Hamiltonian"
   ]
  },
  {
   "cell_type": "markdown",
   "metadata": {},
   "source": [
    "$$\n",
    "\\hat{H} = \\sum_n n \\delta \\hat{N}_n  - G \\hat{P}^\\dagger \\hat{P}\n",
    "$$"
   ]
  },
  {
   "cell_type": "markdown",
   "metadata": {},
   "source": [
    "where"
   ]
  },
  {
   "cell_type": "markdown",
   "metadata": {},
   "source": [
    "$$\n",
    "\\hat{N}_n = \\hat{a}^\\dagger_{n, m=+1/2} \\hat{a}_{n, m=+1/2} +\n",
    "\\hat{a}^\\dagger_{n, m=-1/2} \\hat{a}_{n, m=-1/2}\n",
    "$$"
   ]
  },
  {
   "cell_type": "markdown",
   "metadata": {},
   "source": [
    "and"
   ]
  },
  {
   "cell_type": "markdown",
   "metadata": {},
   "source": [
    "$$\n",
    "\\hat{P}^\\dagger = \\sum_{n} \\hat{a}^\\dagger_{n, m=+1/2} \\hat{a}^\\dagger_{n, m=-1/2}\n",
    "$$"
   ]
  },
  {
   "cell_type": "markdown",
   "metadata": {},
   "source": [
    "We can write down the $ 6 \\times 6$  Hamiltonian in the basis from the prior slide:"
   ]
  },
  {
   "cell_type": "markdown",
   "metadata": {},
   "source": [
    "$$\n",
    "H = \\left ( \n",
    "\\begin{array}{cccccc}\n",
    "2\\delta -2G & -G & -G & -G & -G & 0 \\\\\n",
    " -G & 4\\delta -2G & -G & -G & -0 & -G \\\\\n",
    "-G & -G & 6\\delta -2G & 0 & -G & -G \\\\\n",
    " -G & -G & 0 & 6\\delta-2G & -G & -G \\\\\n",
    " -G & 0 & -G & -G & 8\\delta-2G & -G \\\\\n",
    "0 & -G & -G & -G & -G & 10\\delta -2G \n",
    "\\end{array} \\right )\n",
    "$$"
   ]
  },
  {
   "cell_type": "markdown",
   "metadata": {},
   "source": [
    "(You should check by hand that this is correct.) \n",
    "\n",
    "For $\\delta = 0$ we have the closed form solution of  the g.s. energy given by $-6G$.\n",
    "\n",
    "\n",
    "\n",
    "\n",
    "\n",
    "## Angular momentum algebra\n",
    "* We need to define the so-called $6j$ and $9j$ symbols\n",
    "\n",
    "* The Wigner-Eckart theorem\n",
    "\n",
    "* We will also study  some specific examples, like the calculation of the tensor force.\n",
    "\n",
    "Here you can look up Alex Brown's chapter 5 and Suhonen's chapters 1 and 2.\n",
    "\n",
    "\n",
    "\n",
    "\n",
    "## Angular momentum algebra, Wigner-Eckart theorem\n",
    "We define an irreducible  spherical tensor $T^{\\lambda}_{\\mu}$ of rank $\\lambda$ as an operator with $2\\lambda+1$ components $\\mu$ \n",
    "that satisfies the commutation relations ($\\hbar=1$)"
   ]
  },
  {
   "cell_type": "markdown",
   "metadata": {},
   "source": [
    "$$\n",
    "[J_{\\pm}, T^{\\lambda}_{\\mu}]= \\sqrt{(\\lambda\\mp \\mu)(\\lambda\\pm \\mu+1)}T^{\\lambda}_{\\mu\\pm 1},\n",
    "$$"
   ]
  },
  {
   "cell_type": "markdown",
   "metadata": {},
   "source": [
    "and"
   ]
  },
  {
   "cell_type": "markdown",
   "metadata": {},
   "source": [
    "$$\n",
    "[J_{z}, T^{\\lambda}_{\\mu}]=\\mu T^{\\lambda}_{\\mu}.\n",
    "$$"
   ]
  },
  {
   "cell_type": "markdown",
   "metadata": {},
   "source": [
    "## Angular momentum algebra, Wigner-Eckart theorem\n",
    "Our angular momentum coupled two-body wave function obeys clearly this definition, namely"
   ]
  },
  {
   "cell_type": "markdown",
   "metadata": {},
   "source": [
    "$$\n",
    "|(ab)JM\\rangle  = \\left\\{a^{\\dagger}_aa^{\\dagger}_b\\right\\}^J_M|\\Phi_0\\rangle=N_{ab}\\sum_{m_am_b}\\langle j_am_aj_bm_b|JM\\rangle|\\Phi^{ab}\\rangle,\n",
    "$$"
   ]
  },
  {
   "cell_type": "markdown",
   "metadata": {},
   "source": [
    "is a tensor of rank $J$ with $M$ components. Another well-known example is given by the spherical harmonics (see examples during today's lecture). \n",
    "\n",
    "The product of two irreducible tensor operators"
   ]
  },
  {
   "cell_type": "markdown",
   "metadata": {},
   "source": [
    "$$\n",
    "T^{\\lambda_3}_{\\mu_3}=\\sum_{\\mu_1\\mu_2}\\langle \\lambda_1\\mu_1\\lambda_2\\mu_2|\\lambda_3\\mu_3\\rangle T^{\\lambda_1}_{\\mu_1}T^{\\lambda_2}_{\\mu_2}\n",
    "$$"
   ]
  },
  {
   "cell_type": "markdown",
   "metadata": {},
   "source": [
    "is also a tensor operator of rank $\\lambda_3$.\n",
    "\n",
    "\n",
    "\n",
    "\n",
    "## Angular momentum algebra, Wigner-Eckart theorem\n",
    "We wish to apply the above definitions to the computations of a matrix element"
   ]
  },
  {
   "cell_type": "markdown",
   "metadata": {},
   "source": [
    "$$\n",
    "\\langle \\Phi^J_M|T^{\\lambda}_{\\mu}|\\Phi^{J'}_{M'}\\rangle,\n",
    "$$"
   ]
  },
  {
   "cell_type": "markdown",
   "metadata": {},
   "source": [
    "where we have skipped a reference to specific single-particle states. This is the expectation value for two specific states, labelled by angular momenta $J'$ and $J$. These states form an orthonormal basis.\n",
    "Using the properties of the Clebsch-Gordan coefficients we can write"
   ]
  },
  {
   "cell_type": "markdown",
   "metadata": {},
   "source": [
    "$$\n",
    "T^{\\lambda}_{\\mu}|\\Phi^{J'}_{M'}\\rangle=\\sum_{J''M''}\\langle \\lambda \\mu J'M'|J''M''\\rangle|\\Psi^{J''}_{M''}\\rangle,\n",
    "$$"
   ]
  },
  {
   "cell_type": "markdown",
   "metadata": {},
   "source": [
    "and assuming that states with different $J$ and $M$ are orthonormal we arrive at"
   ]
  },
  {
   "cell_type": "markdown",
   "metadata": {},
   "source": [
    "$$\n",
    "\\langle \\Phi^J_M|T^{\\lambda}_{\\mu}|\\Phi^{J'}_{M'}\\rangle= \\langle \\lambda \\mu J'M'|JM\\rangle \\langle \\Phi^J_M|\\Psi^{J}_{M}\\rangle.\n",
    "$$"
   ]
  },
  {
   "cell_type": "markdown",
   "metadata": {},
   "source": [
    "## Angular momentum algebra, Wigner-Eckart theorem\n",
    "We need to show that"
   ]
  },
  {
   "cell_type": "markdown",
   "metadata": {},
   "source": [
    "$$\n",
    "\\langle \\Phi^J_M|\\Psi^{J}_{M}\\rangle,\n",
    "$$"
   ]
  },
  {
   "cell_type": "markdown",
   "metadata": {},
   "source": [
    "is independent of $M$.\n",
    "To show that"
   ]
  },
  {
   "cell_type": "markdown",
   "metadata": {},
   "source": [
    "$$\n",
    "\\langle \\Phi^J_M|\\Psi^{J}_{M}\\rangle,\n",
    "$$"
   ]
  },
  {
   "cell_type": "markdown",
   "metadata": {},
   "source": [
    "is independent of $M$, we use the ladder operators for angular momentum.\n",
    "\n",
    "\n",
    "\n",
    "## Angular momentum algebra, Wigner-Eckart theorem\n",
    " We have that"
   ]
  },
  {
   "cell_type": "markdown",
   "metadata": {},
   "source": [
    "$$\n",
    "\\langle \\Phi^J_{M+1}|\\Psi^{J}_{M+1}\\rangle=\\left((J-M)(J+M+1)\\right)^{-1/2}\\langle \\hat{J}_{+}\\Phi^J_{M}|\\Psi^{J}_{M+1}\\rangle,\n",
    "$$"
   ]
  },
  {
   "cell_type": "markdown",
   "metadata": {},
   "source": [
    "but this is also equal to"
   ]
  },
  {
   "cell_type": "markdown",
   "metadata": {},
   "source": [
    "$$\n",
    "\\langle \\Phi^J_{M+1}|\\Psi^{J}_{M+1}\\rangle=\\left((J-M)(J+M+1)\\right)^{-1/2}\\langle \\Phi^J_{M}|\\hat{J}_{-}\\Psi^{J}_{M+1}\\rangle,\n",
    "$$"
   ]
  },
  {
   "cell_type": "markdown",
   "metadata": {},
   "source": [
    "meaning that"
   ]
  },
  {
   "cell_type": "markdown",
   "metadata": {},
   "source": [
    "$$\n",
    "\\langle \\Phi^J_{M+1}|\\Psi^{J}_{M+1}\\rangle=\\langle \\Phi^J_M|\\Psi^{J}_{M}\\rangle\\equiv\\langle \\Phi^J_{M}||T^{\\lambda}||\\Phi^{J'}_{M'}\\rangle.\n",
    "$$"
   ]
  },
  {
   "cell_type": "markdown",
   "metadata": {},
   "source": [
    "The double bars indicate that this expectation value is independent of the projection $M$.\n",
    "\n",
    "\n",
    "\n",
    "## Angular momentum algebra, Wigner-Eckart theorem\n",
    "The Wigner-Eckart theorem for an expectation value can then be written as"
   ]
  },
  {
   "cell_type": "markdown",
   "metadata": {},
   "source": [
    "$$\n",
    "\\langle \\Phi^J_M|T^{\\lambda}_{\\mu}|\\Phi^{J'}_{M'}\\rangle\\equiv\\langle \\lambda \\mu J'M'|JM\\rangle\\langle \\Phi^J||T^{\\lambda}||\\Phi^{J'}\\rangle.\n",
    "$$"
   ]
  },
  {
   "cell_type": "markdown",
   "metadata": {},
   "source": [
    "The double bars indicate that this expectation value is independent of the projection $M$.\n",
    "We can manipulate the Clebsch-Gordan coefficients using the relations"
   ]
  },
  {
   "cell_type": "markdown",
   "metadata": {},
   "source": [
    "$$\n",
    "\\langle \\lambda \\mu J'M'|JM\\rangle= (-1)^{\\lambda+J'-J}\\langle J'M'\\lambda \\mu |JM\\rangle\n",
    "$$"
   ]
  },
  {
   "cell_type": "markdown",
   "metadata": {},
   "source": [
    "and"
   ]
  },
  {
   "cell_type": "markdown",
   "metadata": {},
   "source": [
    "$$\n",
    "\\langle J'M'\\lambda \\mu |JM\\rangle =(-1)^{J'-M'}\\frac{\\sqrt{2J+1}}{\\sqrt{2\\lambda+1}}\\langle J'M'J-M |\\lambda-\\mu\\rangle,\n",
    "$$"
   ]
  },
  {
   "cell_type": "markdown",
   "metadata": {},
   "source": [
    "together with the so-called $3j$ symbols.\n",
    "It is then normal to encounter the Wigner-Eckart theorem in the form"
   ]
  },
  {
   "cell_type": "markdown",
   "metadata": {},
   "source": [
    "$$\n",
    "\\langle \\Phi^J_M|T^{\\lambda}_{\\mu}|\\Phi^{J'}_{M'}\\rangle\\equiv(-1)^{J-M}\\left(\\begin{array}{ccc}  J & \\lambda & J' \\\\ -M & \\mu & M'\\end{array}\\right)\\langle \\Phi^J||T^{\\lambda}||\\Phi^{J'}\\rangle,\n",
    "$$"
   ]
  },
  {
   "cell_type": "markdown",
   "metadata": {},
   "source": [
    "with the condition $\\mu+M'-M=0$.\n",
    "\n",
    "\n",
    "\n",
    "## Angular momentum algebra, Wigner-Eckart theorem\n",
    "The $3j$ symbols obey the symmetry relation"
   ]
  },
  {
   "cell_type": "markdown",
   "metadata": {},
   "source": [
    "$$\n",
    "\\left(\\begin{array}{ccc}  j_1 & j_2 & j_3 \\\\ m_1 & m_2 & m_3\\end{array}\\right)=(-1)^{p}\\left(\\begin{array}{ccc}  j_a & j_b & j_c \\\\ m_a & m_b & m_c\\end{array}\\right),\n",
    "$$"
   ]
  },
  {
   "cell_type": "markdown",
   "metadata": {},
   "source": [
    "with $(-1)^p=1$ when the columns $a,b, c$ are even permutations of the columns $1,2,3$, $p=j_1+j_2+j_3$ when the columns $a,b,c$ are odd permtations of the\n",
    "columns $1,2,3$ and $p=j_1+j_2+j_3$ when all the magnetic quantum numbers $m_i$ change sign. Their orthogonality is given by"
   ]
  },
  {
   "cell_type": "markdown",
   "metadata": {},
   "source": [
    "$$\n",
    "\\sum_{j_3m_3}(2j_3+1)\\left(\\begin{array}{ccc}  j_1 & j_2 & j_3 \\\\ m_1 & m_2 & m_3\\end{array}\\right)\\left(\\begin{array}{ccc}  j_1 & j_2 & j_3 \\\\ m_{1'} & m_{2'} & m_3\\end{array}\\right)=\\delta_{m_1m_{1'}}\\delta_{m_2m_{2'}},\n",
    "$$"
   ]
  },
  {
   "cell_type": "markdown",
   "metadata": {},
   "source": [
    "and"
   ]
  },
  {
   "cell_type": "markdown",
   "metadata": {},
   "source": [
    "$$\n",
    "\\sum_{m_1m_2}\\left(\\begin{array}{ccc}  j_1 & j_2 & j_3 \\\\ m_1 & m_2 & m_3\\end{array}\\right)\\left(\\begin{array}{ccc}  j_1 & j_2 & j_{3'} \\\\ m_{1} & m_{2} & m_{3'}\\end{array}\\right)=\\frac{1}{(2j_3+1)}\\delta_{j_3j_{3'}}\\delta_{m_3m_{3'}}.\n",
    "$$"
   ]
  },
  {
   "cell_type": "markdown",
   "metadata": {},
   "source": [
    "## Angular momentum algebra, Wigner-Eckart theorem\n",
    "For later use, the following special cases for the Clebsch-Gordan and $3j$ symbols are rather useful\n",
    "\\[\n",
    "\\langle JM J'M' |00\\rangle =\\frac{(-1)^{J-M}}{\\sqrt{2J+1}}\\delta_{JJ'}\\delta_{MM'}.\n",
    "\\] \n",
    "and \n",
    "\\[\n",
    "\\left(\\begin{array}{ccc}  J & 1 & J \\\\ -M & 0 & M'\\end{array}\\right)=(-1)^{J-M}\\frac{M}{\\sqrt{(2J+1)(J+1)}}\\delta_{MM'}.\n",
    "\\]\n",
    "\n",
    "\n",
    "## Angular momentum algebra, Wigner-Eckart theorem\n",
    "Using $3j$ symbols we rewrote the Wigner-Eckart theorem as"
   ]
  },
  {
   "cell_type": "markdown",
   "metadata": {},
   "source": [
    "$$\n",
    "\\langle \\Phi^J_M|T^{\\lambda}_{\\mu}|\\Phi^{J'}_{M'}\\rangle\\equiv(-1)^{J-M}\\left(\\begin{array}{ccc}  J & \\lambda & J' \\\\ -M & \\mu & M'\\end{array}\\right)\\langle \\Phi^J||T^{\\lambda}||\\Phi^{J'}\\rangle.\n",
    "$$"
   ]
  },
  {
   "cell_type": "markdown",
   "metadata": {},
   "source": [
    "Multiplying from the left with the same $3j$ symbol and summing over $M,\\mu,M'$ we obtain the equivalent relation"
   ]
  },
  {
   "cell_type": "markdown",
   "metadata": {},
   "source": [
    "$$\n",
    "\\langle \\Phi^J||T^{\\lambda}||\\Phi^{J'}\\rangle\\equiv\\sum_{M,\\mu,M'}(-1)^{J-M}\\left(\\begin{array}{ccc}  J & \\lambda & J' \\\\ -M & \\mu & M'\\end{array}\\right)\\langle \\Phi^J_M|T^{\\lambda}_{\\mu}|\\Phi^{J'}_{M'}\\rangle,\n",
    "$$"
   ]
  },
  {
   "cell_type": "markdown",
   "metadata": {},
   "source": [
    "where we used the orthogonality properties of the $3j$ symbols from the previous page.\n",
    "\n",
    "\n",
    "## Angular momentum algebra, Wigner-Eckart theorem\n",
    "This relation can in turn be used to compute the expectation value of some simple reduced matrix elements like"
   ]
  },
  {
   "cell_type": "markdown",
   "metadata": {},
   "source": [
    "$$\n",
    "\\langle \\Phi^J||{\\bf 1}||\\Phi^{J'}\\rangle=\\sum_{M,M'}(-1)^{J-M}\\left(\\begin{array}{ccc}  J & 0 & J' \\\\ -M & 0 & M'\\end{array}\\right)\\langle \\Phi^J_M|1|\\Phi^{J'}_{M'}\\rangle=\\sqrt{2J+1}\\delta_{JJ'}\\delta_{MM'},\n",
    "$$"
   ]
  },
  {
   "cell_type": "markdown",
   "metadata": {},
   "source": [
    "where we used"
   ]
  },
  {
   "cell_type": "markdown",
   "metadata": {},
   "source": [
    "$$\n",
    "\\langle JM J'M' |00\\rangle =\\frac{(-1)^{J-M}}{\\sqrt{2J+1}}\\delta_{JJ'}\\delta_{MM'}.\n",
    "$$"
   ]
  },
  {
   "cell_type": "markdown",
   "metadata": {},
   "source": [
    "## Angular momentum algebra, Wigner-Eckart theorem\n",
    "Similarly, using"
   ]
  },
  {
   "cell_type": "markdown",
   "metadata": {},
   "source": [
    "$$\n",
    "\\left(\\begin{array}{ccc}  J & 1 & J \\\\ -M & 0 & M'\\end{array}\\right)=(-1)^{J-M}\\frac{M}{\\sqrt{(2J+1)(J+1)}}\\delta_{MM'},\n",
    "$$"
   ]
  },
  {
   "cell_type": "markdown",
   "metadata": {},
   "source": [
    "we have that"
   ]
  },
  {
   "cell_type": "markdown",
   "metadata": {},
   "source": [
    "$$\n",
    "\\langle \\Phi^J||{\\bf J}||\\Phi^{J}\\rangle=\\sum_{M,M'}(-1)^{J-M}\\left(\\begin{array}{ccc}  J & 1 & J' \\\\ -M & 0 & M'\\end{array}\\right)\\langle \\Phi^J_M|j_Z|\\Phi^{J'}_{M'}\\rangle=\\sqrt{J(J+1)(2J+1)}\n",
    "$$"
   ]
  },
  {
   "cell_type": "markdown",
   "metadata": {},
   "source": [
    "With the Pauli spin matrices $\\sigma$ and a state with $J=1/2$, the reduced matrix element"
   ]
  },
  {
   "cell_type": "markdown",
   "metadata": {},
   "source": [
    "$$\n",
    "\\langle \\frac{1}{2}||{\\bf \\sigma}||\\frac{1}{2}\\rangle=\\sqrt{6}.\n",
    "$$"
   ]
  },
  {
   "cell_type": "markdown",
   "metadata": {},
   "source": [
    "Before we proceed with further examples, we need some other properties of the Wigner-Eckart theorem plus some additional angular momenta relations.\n",
    "\n",
    "\n",
    "## Angular momentum algebra, Wigner-Eckart theorem\n",
    "The Wigner-Eckart theorem states that the  expectation value for an irreducible spherical tensor can be written as"
   ]
  },
  {
   "cell_type": "markdown",
   "metadata": {},
   "source": [
    "$$\n",
    "\\langle \\Phi^J_M|T^{\\lambda}_{\\mu}|\\Phi^{J'}_{M'}\\rangle\\equiv\\langle \\lambda \\mu J'M'|JM\\rangle\\langle \\Phi^J||T^{\\lambda}||\\Phi^{J'}\\rangle.\n",
    "$$"
   ]
  },
  {
   "cell_type": "markdown",
   "metadata": {},
   "source": [
    "Since the Clebsch-Gordan coefficients themselves are easy to evaluate, the interesting quantity is the reduced matrix element. Note also that \n",
    "the Clebsch-Gordan coefficients limit via the triangular relation among $\\lambda$, $J$ and $J'$ the possible non-zero values.\n",
    "\n",
    "From the theorem we see also that"
   ]
  },
  {
   "cell_type": "markdown",
   "metadata": {},
   "source": [
    "$$\n",
    "\\langle \\Phi^J_M|T^{\\lambda}_{\\mu}|\\Phi^{J'}_{M'}\\rangle=\\frac{\\langle \\lambda \\mu J'M'|JM\\rangle\\langle }{\\langle \\lambda \\mu_0 J'M'_0|JM_0\\rangle\\langle }\\langle \\Phi^J_{M_0}|T^{\\lambda}_{\\mu_0}|\\Phi^{J'}_{M'_0}\\rangle,\n",
    "$$"
   ]
  },
  {
   "cell_type": "markdown",
   "metadata": {},
   "source": [
    "meaning that if we know the matrix elements for say some $\\mu=\\mu_0$, $M'=M'_0$ and $M=M_0$ we can calculate all other.\n",
    "\n",
    "\n",
    "\n",
    "## Angular momentum algebra, Wigner-Eckart theorem\n",
    "If we look at the hermitian adjoint of the operator $T^{\\lambda}_{\\mu}$, \n",
    "we see via the commutation relations that $(T^{\\lambda}_{\\mu})^{\\dagger}$ is not an irreducible tensor, that is"
   ]
  },
  {
   "cell_type": "markdown",
   "metadata": {},
   "source": [
    "$$\n",
    "[J_{\\pm}, (T^{\\lambda}_{\\mu})^{\\dagger}]= -\\sqrt{(\\lambda\\pm \\mu)(\\lambda\\mp \\mu+1)}(T^{\\lambda}_{\\mu\\mp 1})^{\\dagger},\n",
    "$$"
   ]
  },
  {
   "cell_type": "markdown",
   "metadata": {},
   "source": [
    "and"
   ]
  },
  {
   "cell_type": "markdown",
   "metadata": {},
   "source": [
    "$$\n",
    "[J_{z}, (T^{\\lambda}_{\\mu})^{\\dagger}]=-\\mu (T^{\\lambda}_{\\mu})^{\\dagger}.\n",
    "$$"
   ]
  },
  {
   "cell_type": "markdown",
   "metadata": {},
   "source": [
    "The hermitian adjoint $(T^{\\lambda}_{\\mu})^{\\dagger}$ is not an irreducible tensor. As an example, consider the spherical harmonics for \n",
    "$l=1$ and $m_l=\\pm 1$. These functions are"
   ]
  },
  {
   "cell_type": "markdown",
   "metadata": {},
   "source": [
    "$$\n",
    "Y^{l=1}_{m_l=1}(\\theta,\\phi)=-\\sqrt{\\frac{3}{8\\pi}}\\sin{(\\theta)}\\exp{\\imath\\phi},\n",
    "$$"
   ]
  },
  {
   "cell_type": "markdown",
   "metadata": {},
   "source": [
    "and"
   ]
  },
  {
   "cell_type": "markdown",
   "metadata": {},
   "source": [
    "$$\n",
    "Y^{l=1}_{m_l=-1}(\\theta,\\phi)=\\sqrt{\\frac{3}{8\\pi}}\\sin{(\\theta)}\\exp{-\\imath\\phi},\n",
    "$$"
   ]
  },
  {
   "cell_type": "markdown",
   "metadata": {},
   "source": [
    "## Angular momentum algebra, Wigner-Eckart theorem\n",
    "It is easy to see that the Hermitian adjoint of these two functions"
   ]
  },
  {
   "cell_type": "markdown",
   "metadata": {},
   "source": [
    "$$\n",
    "\\left[Y^{l=1}_{m_l=1}(\\theta,\\phi)\\right]^{\\dagger}=-\\sqrt{\\frac{3}{8\\pi}}\\sin{(\\theta)}\\exp{-\\imath\\phi},\n",
    "$$"
   ]
  },
  {
   "cell_type": "markdown",
   "metadata": {},
   "source": [
    "and"
   ]
  },
  {
   "cell_type": "markdown",
   "metadata": {},
   "source": [
    "$$\n",
    "\\left[Y^{l=1}_{m_l=-1}(\\theta,\\phi)\\right]^{\\dagger}=\\sqrt{\\frac{3}{8\\pi}}\\sin{(\\theta)}\\exp{\\imath\\phi},\n",
    "$$"
   ]
  },
  {
   "cell_type": "markdown",
   "metadata": {},
   "source": [
    "do not behave as a spherical tensor. However, the modified quantity"
   ]
  },
  {
   "cell_type": "markdown",
   "metadata": {},
   "source": [
    "$$\n",
    "\\tilde{T}^{\\lambda}_{\\mu}=(-1)^{\\lambda+\\mu}(T^{\\lambda}_{-\\mu})^{\\dagger},\n",
    "$$"
   ]
  },
  {
   "cell_type": "markdown",
   "metadata": {},
   "source": [
    "does satisfy the above commutation relations.\n",
    "\n",
    "\n",
    "## Angular momentum algebra, Wigner-Eckart theorem\n",
    "With the modified quantity"
   ]
  },
  {
   "cell_type": "markdown",
   "metadata": {},
   "source": [
    "$$\n",
    "\\tilde{T}^{\\lambda}_{\\mu}=(-1)^{\\lambda+\\mu}(T^{\\lambda}_{-\\mu})^{\\dagger},\n",
    "$$"
   ]
  },
  {
   "cell_type": "markdown",
   "metadata": {},
   "source": [
    "we can then define the expectation value"
   ]
  },
  {
   "cell_type": "markdown",
   "metadata": {},
   "source": [
    "$$\n",
    "\\langle \\Phi^J_M|T^{\\lambda}_{\\mu}|\\Phi^{J'}_{M'}\\rangle^{\\dagger} = \\langle \\lambda \\mu J'M'|JM\\rangle\\langle \\Phi^J||T^{\\lambda}||\\Phi^{J'}\\rangle^*,\n",
    "$$"
   ]
  },
  {
   "cell_type": "markdown",
   "metadata": {},
   "source": [
    "since the Clebsch-Gordan coefficients are real. The rhs is equivalent with"
   ]
  },
  {
   "cell_type": "markdown",
   "metadata": {},
   "source": [
    "$$\n",
    "\\langle \\lambda \\mu J'M'|JM\\rangle\\langle \\Phi^J||T^{\\lambda}||\\Phi^{J'}\\rangle^*=\\langle \\Phi^{J'}_{M'}|(T^{\\lambda}_{\\mu})^{\\dagger}|\\Phi^{J}_{M}\\rangle,\n",
    "$$"
   ]
  },
  {
   "cell_type": "markdown",
   "metadata": {},
   "source": [
    "which is equal to"
   ]
  },
  {
   "cell_type": "markdown",
   "metadata": {},
   "source": [
    "$$\n",
    "\\langle \\Phi^{J'}_{M'}|(T^{\\lambda}_{\\mu})^{\\dagger}|\\Phi^{J}_{M}\\rangle=(-1)^{-\\lambda+\\mu}\\langle \\lambda -\\mu JM|J'M'\\rangle\\langle \\Phi^{J'}||\\tilde{T}^{\\lambda}||\\Phi^{J}\\rangle.\n",
    "$$"
   ]
  },
  {
   "cell_type": "markdown",
   "metadata": {},
   "source": [
    "## Angular momentum algebra, Wigner-Eckart theorem, Examples\n",
    "We have till now seen the following definitions of a two-body matrix elements \n",
    "with quantum numbers $p=j_pm_p$ etc we have a two-body state defined as"
   ]
  },
  {
   "cell_type": "markdown",
   "metadata": {},
   "source": [
    "$$\n",
    "|(pq)M\\rangle  = a^{\\dagger}_pa^{\\dagger}_q|\\Phi_0\\rangle,\n",
    "$$"
   ]
  },
  {
   "cell_type": "markdown",
   "metadata": {},
   "source": [
    "where $|\\Phi_0\\rangle$ is a chosen reference state, say for example the Slater determinant which approximates \n",
    "${}^{16}\\mbox{O}$ with the $0s$ and the $0p$ shells being filled, and $M=m_p+m_q$. Recall that we label single-particle states above the Fermi level as $abcd\\dots$ and states below the Fermi level for $ijkl\\dots$.  \n",
    "In case of two-particles in the single-particle states $a$ and $b$ outside ${}^{16}\\mbox{O}$ as a closed shell core, say ${}^{18}\\mbox{O}$, \n",
    "we would write the representation of the Slater determinant as"
   ]
  },
  {
   "cell_type": "markdown",
   "metadata": {},
   "source": [
    "$$\n",
    "|^{18}\\mathrm{O}\\rangle =|(ab)M\\rangle  = a^{\\dagger}_aa^{\\dagger}_b|^{16}\\mathrm{O}\\rangle=|\\Phi^{ab}\\rangle.\n",
    "$$"
   ]
  },
  {
   "cell_type": "markdown",
   "metadata": {},
   "source": [
    "In case of two-particles removed from say ${}^{16}\\mbox{O}$, for example two neutrons in the single-particle states $i$ and $j$, we would write this as"
   ]
  },
  {
   "cell_type": "markdown",
   "metadata": {},
   "source": [
    "$$\n",
    "|^{14}\\mathrm{O}\\rangle =|(ij)M\\rangle  = a_ja_i|^{16}\\mathrm{O}\\rangle=|\\Phi_{ij}\\rangle.\n",
    "$$"
   ]
  },
  {
   "cell_type": "markdown",
   "metadata": {},
   "source": [
    "## Angular momentum algebra, Wigner-Eckart theorem, Examples\n",
    "For a one-hole-one-particle state we have"
   ]
  },
  {
   "cell_type": "markdown",
   "metadata": {},
   "source": [
    "$$\n",
    "|^{16}\\mathrm{O}\\rangle_{1p1h} =|(ai)M\\rangle  = a_a^{\\dagger}a_i|^{16}\\mathrm{O}\\rangle=|\\Phi_{i}^a\\rangle,\n",
    "$$"
   ]
  },
  {
   "cell_type": "markdown",
   "metadata": {},
   "source": [
    "and finally for a two-particle-two-hole state we"
   ]
  },
  {
   "cell_type": "markdown",
   "metadata": {},
   "source": [
    "$$\n",
    "|^{16}\\mathrm{O}\\rangle_{2p2h} =|(abij)M\\rangle  = a_a^{\\dagger}a_b^{\\dagger}a_ja_i|^{16}\\mathrm{O}\\rangle=|\\Phi_{ij}^{ab}\\rangle.\n",
    "$$"
   ]
  },
  {
   "cell_type": "markdown",
   "metadata": {},
   "source": [
    "## Angular momentum algebra, Wigner-Eckart theorem, Examples\n",
    "Let us go back to the case of two-particles in the single-particle states $a$ and $b$ outside ${}^{16}\\mbox{O}$ as a closed shell core, say ${}^{18}\\mbox{O}$.\n",
    "The representation of the Slater determinant is"
   ]
  },
  {
   "cell_type": "markdown",
   "metadata": {},
   "source": [
    "$$\n",
    "|^{18}\\mathrm{O}\\rangle =|(ab)M\\rangle  = a^{\\dagger}_aa^{\\dagger}_b|^{16}\\mathrm{O}\\rangle=|\\Phi^{ab}\\rangle.\n",
    "$$"
   ]
  },
  {
   "cell_type": "markdown",
   "metadata": {},
   "source": [
    "The anti-symmetrized matrix element is detailed as"
   ]
  },
  {
   "cell_type": "markdown",
   "metadata": {},
   "source": [
    "$$\n",
    "\\langle (ab) M | \\hat{V} | (cd) M \\rangle = \\langle (j_am_aj_bm_b)M=m_a+m_b |  \\hat{V} | (j_cm_cj_dm_d)M=m_a+m_b \\rangle,\n",
    "$$"
   ]
  },
  {
   "cell_type": "markdown",
   "metadata": {},
   "source": [
    "and note that anti-symmetrization means"
   ]
  },
  {
   "cell_type": "markdown",
   "metadata": {},
   "source": [
    "1\n",
    "1\n",
    "2\n",
    " \n",
    "<\n",
    "<\n",
    "<\n",
    "!\n",
    "!\n",
    "M\n",
    "A\n",
    "T\n",
    "H\n",
    "_\n",
    "B\n",
    "L\n",
    "O\n",
    "C\n",
    "K"
   ]
  },
  {
   "cell_type": "markdown",
   "metadata": {},
   "source": [
    "$$\n",
    "\\langle (ab) M | \\hat{V} | (cd) M \\rangle =-\\langle (ab) M | \\hat{V} | (dc) M \\rangle.\n",
    "$$"
   ]
  },
  {
   "cell_type": "markdown",
   "metadata": {},
   "source": [
    "## Angular momentum algebra, Wigner-Eckart theorem, Examples\n",
    "This matrix element is the expectation value of"
   ]
  },
  {
   "cell_type": "markdown",
   "metadata": {},
   "source": [
    "$$\n",
    "\\langle ^{16}\\mathrm{O}|a_ba_a\\frac{1}{4}\\sum_{pqrs}\\langle (pq) M | \\hat{V} | (rs) M' \\rangle a^{\\dagger}_pa^{\\dagger}_qa_sa_r a^{\\dagger}_ca^{\\dagger}_c|^{16}\\mathrm{O}\\rangle.\n",
    "$$"
   ]
  },
  {
   "cell_type": "markdown",
   "metadata": {},
   "source": [
    "## Angular momentum algebra, Wigner-Eckart theorem, Examples\n",
    "We have also defined matrix elements in the coupled basis, the so-called $J$-coupled scheme.\n",
    "In this case the two-body wave function for two neutrons outside ${}^{16}\\mbox{O}$ is written as"
   ]
  },
  {
   "cell_type": "markdown",
   "metadata": {},
   "source": [
    "$$\n",
    "|^{18}\\mathrm{O}\\rangle_J =|(ab)JM\\rangle  = \\left\\{a^{\\dagger}_aa^{\\dagger}_b\\right\\}^J_M|^{16}\\mathrm{O}\\rangle=N_{ab}\\sum_{m_am_b}\\langle j_am_aj_bm_b|JM\\rangle|\\Phi^{ab}\\rangle,\n",
    "$$"
   ]
  },
  {
   "cell_type": "markdown",
   "metadata": {},
   "source": [
    "with"
   ]
  },
  {
   "cell_type": "markdown",
   "metadata": {},
   "source": [
    "$$\n",
    "|\\Phi^{ab}\\rangle=a^{\\dagger}_aa^{\\dagger}_b|^{16}\\mathrm{O}\\rangle.\n",
    "$$"
   ]
  },
  {
   "cell_type": "markdown",
   "metadata": {},
   "source": [
    "We have now an explicit coupling order, where the angular momentum $j_a$ is coupled to the angular momentum $j_b$ to yield a final two-body angular momentum $J$. \n",
    "The normalization factor is"
   ]
  },
  {
   "cell_type": "markdown",
   "metadata": {},
   "source": [
    "$$\n",
    "N_{ab}=\\frac{\\sqrt{1+\\delta_{ab}\\times (-1)^J}}{1+\\delta_{ab}}.\n",
    "$$"
   ]
  },
  {
   "cell_type": "markdown",
   "metadata": {},
   "source": [
    "## Angular momentum algebra, Wigner-Eckart theorem, Examples\n",
    "The implementation of the Pauli principle looks different in the $J$-scheme compared with the $m$-scheme. In the latter, no two fermions or more can have the same set of quantum numbers. In the $J$-scheme, when we write a state with the shorthand"
   ]
  },
  {
   "cell_type": "markdown",
   "metadata": {},
   "source": [
    "$$\n",
    "|^{18}\\mathrm{O}\\rangle_J =|(ab)JM\\rangle,\n",
    "$$"
   ]
  },
  {
   "cell_type": "markdown",
   "metadata": {},
   "source": [
    "we do refer to the angular momenta only. This means that another way of writing the last state is"
   ]
  },
  {
   "cell_type": "markdown",
   "metadata": {},
   "source": [
    "$$\n",
    "|^{18}\\mathrm{O}\\rangle_J =|(j_aj_b)JM\\rangle.\n",
    "$$"
   ]
  },
  {
   "cell_type": "markdown",
   "metadata": {},
   "source": [
    "We will use this notation throughout when we refer to a two-body state in $J$-scheme. The Kronecker $\\delta$ function in the normalization factor \n",
    "refers thus to the values of $j_a$ and $j_b$. If two identical particles are in a state with the same $j$-value, then only even values of the total angular momentum apply.\n",
    "\n",
    "\n",
    "\n",
    "\n",
    "## Angular momentum algebra, Wigner-Eckart theorem, Examples\n",
    "Note also that, using the anti-commuting \n",
    "properties of the creation operators, we obtain"
   ]
  },
  {
   "cell_type": "markdown",
   "metadata": {},
   "source": [
    "$$\n",
    "N_{ab}\\sum_{m_am_b}\\langle j_am_aj_bm_b|JM>|\\Phi^{ab}\\rangle=-N_{ab}\\sum_{m_am_b}\\langle j_am_aj_bm_b|JM\\rangle|\\Phi^{ba}\\rangle.\n",
    "$$"
   ]
  },
  {
   "cell_type": "markdown",
   "metadata": {},
   "source": [
    "Furthermore, using the property of the Clebsch-Gordan coefficient"
   ]
  },
  {
   "cell_type": "markdown",
   "metadata": {},
   "source": [
    "$$\n",
    "\\langle j_am_aj_bm_b|JM>=(-1)^{j_a+j_b-J}\\langle j_bm_bj_am_a|JM\\rangle,\n",
    "$$"
   ]
  },
  {
   "cell_type": "markdown",
   "metadata": {},
   "source": [
    "which can be used to show that"
   ]
  },
  {
   "cell_type": "markdown",
   "metadata": {},
   "source": [
    "$$\n",
    "|(j_bj_a)JM\\rangle  = \\left\\{a^{\\dagger}_ba^{\\dagger}_a\\right\\}^J_M|^{16}\\mathrm{O}\\rangle=N_{ab}\\sum_{m_am_b}\\langle j_bm_bj_am_a|JM\\rangle|\\Phi^{ba}\\rangle,\n",
    "$$"
   ]
  },
  {
   "cell_type": "markdown",
   "metadata": {},
   "source": [
    "is equal to"
   ]
  },
  {
   "cell_type": "markdown",
   "metadata": {},
   "source": [
    "$$\n",
    "|(j_bj_a)JM\\rangle=(-1)^{j_a+j_b-J+1}|(j_aj_b)JM\\rangle.\n",
    "$$"
   ]
  },
  {
   "cell_type": "markdown",
   "metadata": {},
   "source": [
    "## Angular momentum algebra, Wigner-Eckart theorem, Examples\n",
    "The two-body matrix element is a scalar and since it obeys rotational symmetry, it is diagonal in $J$, \n",
    "meaning that the corresponding matrix element in $J$-scheme is"
   ]
  },
  {
   "cell_type": "markdown",
   "metadata": {},
   "source": [
    "1\n",
    "2\n",
    "4\n",
    " \n",
    "<\n",
    "<\n",
    "<\n",
    "!\n",
    "!\n",
    "M\n",
    "A\n",
    "T\n",
    "H\n",
    "_\n",
    "B\n",
    "L\n",
    "O\n",
    "C\n",
    "K"
   ]
  },
  {
   "cell_type": "markdown",
   "metadata": {},
   "source": [
    "$$\n",
    "\\times \\langle j_cm_cj_dm_d|JM\\rangle\\langle (j_am_aj_bm_b)M |  \\hat{V} | (j_cm_cj_dm_d)M \\rangle,\n",
    "$$"
   ]
  },
  {
   "cell_type": "markdown",
   "metadata": {},
   "source": [
    "and note that of the four $m$-values in the above sum, only three are independent due to the constraint $m_a+m_b=M=m_c+m_d$.\n",
    "\n",
    "\n",
    "\n",
    "## Angular momentum algebra, Wigner-Eckart theorem, Examples\n",
    "Since"
   ]
  },
  {
   "cell_type": "markdown",
   "metadata": {},
   "source": [
    "$$\n",
    "|(j_bj_a)JM\\rangle=(-1)^{j_a+j_b-J+1}|(j_aj_b)JM\\rangle,\n",
    "$$"
   ]
  },
  {
   "cell_type": "markdown",
   "metadata": {},
   "source": [
    "the anti-symmetrized matrix elements need now to obey the following relations"
   ]
  },
  {
   "cell_type": "markdown",
   "metadata": {},
   "source": [
    "1\n",
    "2\n",
    "7\n",
    " \n",
    "<\n",
    "<\n",
    "<\n",
    "!\n",
    "!\n",
    "M\n",
    "A\n",
    "T\n",
    "H\n",
    "_\n",
    "B\n",
    "L\n",
    "O\n",
    "C\n",
    "K"
   ]
  },
  {
   "cell_type": "markdown",
   "metadata": {},
   "source": [
    "1\n",
    "2\n",
    "8\n",
    " \n",
    "<\n",
    "<\n",
    "<\n",
    "!\n",
    "!\n",
    "M\n",
    "A\n",
    "T\n",
    "H\n",
    "_\n",
    "B\n",
    "L\n",
    "O\n",
    "C\n",
    "K"
   ]
  },
  {
   "cell_type": "markdown",
   "metadata": {},
   "source": [
    "$$\n",
    "\\langle (j_aj_b) JM | \\hat{V} | (j_cj_d) JM \\rangle = (-1)^{j_a+j_b+j_c+j_d}\\langle (j_bj_a) JM | \\hat{V} | (j_dj_c) JM \\rangle=\\langle (j_bj_a) JM | \\hat{V} | (j_dj_c) JM \\rangle,\n",
    "$$"
   ]
  },
  {
   "cell_type": "markdown",
   "metadata": {},
   "source": [
    "where the last relations follows from the fact that $J$ is an integer and $2J$ is always an even number.\n",
    "\n",
    "\n",
    "\n",
    "## Angular momentum algebra, Wigner-Eckart theorem, Examples\n",
    "Using the orthogonality properties of the Clebsch-Gordan coefficients,"
   ]
  },
  {
   "cell_type": "markdown",
   "metadata": {},
   "source": [
    "$$\n",
    "\\sum_{m_am_b}\\langle j_am_aj_bm_b|JM\\rangle\\langle j_am_aj_bm_b|J'M'\\rangle=\\delta_{JJ'}\\delta_{MM'},\n",
    "$$"
   ]
  },
  {
   "cell_type": "markdown",
   "metadata": {},
   "source": [
    "and"
   ]
  },
  {
   "cell_type": "markdown",
   "metadata": {},
   "source": [
    "$$\n",
    "\\sum_{JM}\\langle j_am_aj_bm_b|JM\\rangle\\langle j_am_a'j_bm_b'|JM\\rangle=\\delta_{m_am_a'}\\delta_{m_bm_b'},\n",
    "$$"
   ]
  },
  {
   "cell_type": "markdown",
   "metadata": {},
   "source": [
    "we can also express the two-body matrix element in $m$-scheme in terms of that in $J$-scheme, that is, if we multiply with"
   ]
  },
  {
   "cell_type": "markdown",
   "metadata": {},
   "source": [
    "$$\n",
    "\\sum_{JMJ'M'}\\langle j_am_a'j_bm_b'|JM\\rangle\\langle j_cm_c'j_dm_d'|J'M'\\rangle\n",
    "$$"
   ]
  },
  {
   "cell_type": "markdown",
   "metadata": {},
   "source": [
    "from left in"
   ]
  },
  {
   "cell_type": "markdown",
   "metadata": {},
   "source": [
    "1\n",
    "3\n",
    "3\n",
    " \n",
    "<\n",
    "<\n",
    "<\n",
    "!\n",
    "!\n",
    "M\n",
    "A\n",
    "T\n",
    "H\n",
    "_\n",
    "B\n",
    "L\n",
    "O\n",
    "C\n",
    "K"
   ]
  },
  {
   "cell_type": "markdown",
   "metadata": {},
   "source": [
    "$$\n",
    "\\times \\langle (j_am_aj_bm_b)M|  \\hat{V} | (j_cm_cj_dm_d)M\\rangle,\n",
    "$$"
   ]
  },
  {
   "cell_type": "markdown",
   "metadata": {},
   "source": [
    "we obtain"
   ]
  },
  {
   "cell_type": "markdown",
   "metadata": {},
   "source": [
    "1\n",
    "3\n",
    "5\n",
    " \n",
    "<\n",
    "<\n",
    "<\n",
    "!\n",
    "!\n",
    "M\n",
    "A\n",
    "T\n",
    "H\n",
    "_\n",
    "B\n",
    "L\n",
    "O\n",
    "C\n",
    "K"
   ]
  },
  {
   "cell_type": "markdown",
   "metadata": {},
   "source": [
    "$$\n",
    "\\times \\langle (j_aj_b) JM | \\hat{V} | (j_cj_d) JM \\rangle.\n",
    "$$"
   ]
  },
  {
   "cell_type": "markdown",
   "metadata": {},
   "source": [
    "## Angular momentum algebra, Wigner-Eckart theorem\n",
    "Let us now apply the theorem to some selected expectation values.\n",
    "In several of the expectation values we will meet when evaluating explicit matrix elements, we will have to deal with expectation values involving spherical harmonics. A general central interaction can be expanded in a complete set of functions like the Legendre polynomials, that is, we have an interaction, with $r_{ij}=|{\\bf r}_i-{\\bf r}_j|$,"
   ]
  },
  {
   "cell_type": "markdown",
   "metadata": {},
   "source": [
    "$$\n",
    "v(r_{ij})=\\sum_{\\nu=0}^{\\infty}v_{\\nu}(r_{ij})P_{\\nu}(\\cos{(\\theta_{ij})},\n",
    "$$"
   ]
  },
  {
   "cell_type": "markdown",
   "metadata": {},
   "source": [
    "with $P_{\\nu}$ being a Legendre polynomials"
   ]
  },
  {
   "cell_type": "markdown",
   "metadata": {},
   "source": [
    "$$\n",
    "P_{\\nu}(\\cos{(\\theta_{ij})}=\\sum_{\\mu}\\frac{4\\pi}{2\\mu+1}Y_{\\mu}^{\\nu *}(\\Omega_{i})Y_{\\mu}^{\\nu}(\\Omega_{j}).\n",
    "$$"
   ]
  },
  {
   "cell_type": "markdown",
   "metadata": {},
   "source": [
    "We will come back later to how we split the above into a contribution that involves only one of the coordinates.\n",
    "\n",
    "\n",
    "## Angular momentum algebra, Wigner-Eckart theorem\n",
    "This means that we will need matrix elements of the type"
   ]
  },
  {
   "cell_type": "markdown",
   "metadata": {},
   "source": [
    "$$\n",
    "\\langle Y^{l'}||Y^{\\lambda}|| Y^{l}\\rangle.\n",
    "$$"
   ]
  },
  {
   "cell_type": "markdown",
   "metadata": {},
   "source": [
    "We can rewrite the Wigner-Eckart theorem as"
   ]
  },
  {
   "cell_type": "markdown",
   "metadata": {},
   "source": [
    "$$\n",
    "\\langle Y^{l'}||Y^{\\lambda}|| Y^{l}\\rangle=\\sum_{m\\mu}\\langle \\lambda\\mu lm|l'm'\\rangle Y^{\\lambda}_{\\mu}Y^l_m,\n",
    "$$"
   ]
  },
  {
   "cell_type": "markdown",
   "metadata": {},
   "source": [
    "This equation is true for all values of $\\theta$ and $\\phi$. It must also hold for $\\theta=0$.\n",
    "\n",
    "\n",
    "## Angular momentum algebra, Wigner-Eckart theorem\n",
    "We have"
   ]
  },
  {
   "cell_type": "markdown",
   "metadata": {},
   "source": [
    "$$\n",
    "\\langle Y^{l'}||Y^{\\lambda}|| Y^{l}\\rangle=\\sum_{m\\mu}\\langle \\lambda\\mu lm|l'm'\\rangle Y^{\\lambda}_{\\mu}Y^l_m,\n",
    "$$"
   ]
  },
  {
   "cell_type": "markdown",
   "metadata": {},
   "source": [
    "and for $\\theta=0$, the spherical harmonic"
   ]
  },
  {
   "cell_type": "markdown",
   "metadata": {},
   "source": [
    "$$\n",
    "Y_m^l(\\theta=0,\\phi)=\\sqrt{\\frac{2l+1}{4\\pi}}\\delta_{m0},\n",
    "$$"
   ]
  },
  {
   "cell_type": "markdown",
   "metadata": {},
   "source": [
    "which results in"
   ]
  },
  {
   "cell_type": "markdown",
   "metadata": {},
   "source": [
    "$$\n",
    "\\langle Y^{l'}||Y^{\\lambda}|| Y^{l}\\rangle=\\left\\{\\frac{(2l+1)(2\\lambda+1)}{4\\pi(2l'+1)}\\right\\}^{1/2}\\langle \\lambda0 l0|l'0\\rangle.\n",
    "$$"
   ]
  },
  {
   "cell_type": "markdown",
   "metadata": {},
   "source": [
    "## Angular momentum algebra, Wigner-Eckart theorem\n",
    "Till now we have mainly been concerned with the coupling of two angular momenta $j_aj_b$to a final angular momentum $J$.\n",
    "If we wish to describe a three-body state with a final angular momentum $J$, we need to couple three angular momenta, say \n",
    "the two momenta $j_a,j_b$ to a third one $j_c$. The coupling order is important and leads to a less trivial implementation of the \n",
    "Pauli principle. With three angular momenta there are obviously $3!$ ways by which we can combine the angular momenta. \n",
    "In $m$-scheme a three-body Slater determinant is represented as (say for the case of $^{19}$O, three neutrons outside the core of $^{16}$O),"
   ]
  },
  {
   "cell_type": "markdown",
   "metadata": {},
   "source": [
    "$$\n",
    "|^{19}\\mathrm{O}\\rangle =|(abc)M\\rangle  = a^{\\dagger}_aa^{\\dagger}_ba^{\\dagger}_c|^{16}\\mathrm{O}\\rangle=|\\Phi^{abc}\\rangle.\n",
    "$$"
   ]
  },
  {
   "cell_type": "markdown",
   "metadata": {},
   "source": [
    "The Pauli principle is automagically implemented via the anti-commutation relations.\n",
    "\n",
    "\n",
    "## Angular momentum algebra, Wigner-Eckart theorem\n",
    "However, when we deal the same state in an angular momentum coupled basis, we need to be a little bit more careful. We can namely couple the states\n",
    "as follows"
   ]
  },
  {
   "cell_type": "markdown",
   "metadata": {},
   "source": [
    "<!-- Equation labels as ordinary links -->\n",
    "<div id=\"eq:fabc\"></div>\n",
    "\n",
    "$$\n",
    "| ([j_a\\rightarrow j_b]J_{ab}\\rightarrow j_c) J\\rangle= \\sum_{m_am_bm_c}\\langle j_am_aj_bm_b|J_{ab}M_{ab}\\rangle \\langle J_{ab}M_{ab}j_cm_c|JM\\rangle|j_am_a\\rangle\\otimes |j_bm_b\\rangle \\otimes |j_cm_c\\rangle \\ , \n",
    "\\label{eq:fabc} \\tag{2}\n",
    "$$"
   ]
  },
  {
   "cell_type": "markdown",
   "metadata": {},
   "source": [
    "that is, we couple first $j_a$ to $j_b$ to yield an intermediate angular momentum $J_{ab}$, then to $j_c$ yielding the final angular momentum $J$.\n",
    "\n",
    "\n",
    "\n",
    "## Angular momentum algebra, Wigner-Eckart theorem\n",
    "Now, nothing hinders us from recoupling this state by coupling $j_b$ to $j_c$, yielding an intermediate angular momentum $J_{bc}$ and then couple this angular momentum to $j_a$, resulting in the final angular momentum $J'$. \n",
    "\n",
    "That is, we can have"
   ]
  },
  {
   "cell_type": "markdown",
   "metadata": {},
   "source": [
    "$$\n",
    "| (j_a\\rightarrow [j_b\\rightarrow j_c]J_{bc}) J\\rangle = \\sum_{m_a'm_b'm_c'}\\langle j_bm_b'j_cm_c'|J_{bc}M_{bc}\\rangle \\langle j_am_a'J_{bc}M_{bc}|J'M'\\rangle|\\Phi^{abc}\\rangle .\n",
    "$$"
   ]
  },
  {
   "cell_type": "markdown",
   "metadata": {},
   "source": [
    "We will always assume that we work with orthornormal states, this means that when we compute the overlap betweem these two possible ways of coupling angular momenta, we get"
   ]
  },
  {
   "cell_type": "markdown",
   "metadata": {},
   "source": [
    "$$\n",
    "\\begin{eqnarray}\n",
    "\\nonumber\n",
    "\\lefteqn{ \\langle (j_a\\rightarrow [j_b\\rightarrow j_c]J_{bc}) J'M'| ([j_a\\rightarrow j_b]J_{ab}\\rightarrow j_c) JM\\rangle = } \\\\\n",
    "\\nonumber\n",
    "& & \\delta_{JJ'}\\delta_{MM'}\\sum_{m_am_bm_c}\\langle j_am_aj_bm_b|J_{ab}M_{ab}\\rangle \\langle J_{ab}M_{ab}j_cm_c|JM\\rangle \\\\\n",
    "& & \\times \\langle j_bm_bj_cm_c|J_{bc}M_{bc}\\rangle \\langle j_am_aJ_{bc}M_{bc}|JM\\rangle . \\nonumber\n",
    "\\end{eqnarray}\n",
    "$$"
   ]
  },
  {
   "cell_type": "markdown",
   "metadata": {},
   "source": [
    "## Angular momentum algebra, Wigner-Eckart theorem\n",
    "We use then the latter equation to define the so-called $6j$-symbols"
   ]
  },
  {
   "cell_type": "markdown",
   "metadata": {},
   "source": [
    "$$\n",
    "\\begin{eqnarray}\n",
    "\\nonumber\n",
    "\\lefteqn{ \\langle (j_a\\rightarrow [j_b\\rightarrow j_c]J_{bc}) J'M'| ([j_a\\rightarrow j_b]J_{ab}\\rightarrow j_c) JM\\rangle } \\\\ \\nonumber\n",
    "&= & \\delta_{JJ'}\\delta_{MM'}\\sum_{m_am_bm_c}\\langle j_am_aj_bm_b|J_{ab}M_{ab}\\rangle \\langle J_{ab}M_{ab}j_cm_c|JM\\rangle \\\\ \\nonumber\n",
    "& &  \\times \\langle j_bm_bj_cm_c|J_{bc}M_{bc}\\rangle \\langle j_am_aJ_{bc}M_{bc}|JM\\rangle  \\\\ \\nonumber\n",
    "&= & (-1)^{j_a+j_b+j_c+J}\\sqrt{(2J_{ab}+1)(2J_{bc}+1)}\\left\\{\\begin{array}{ccc} j_a & j_b& J_{ab} \\\\ j_c & J & J_{bc} \\end{array}\\right\\}\n",
    ", \\nonumber\n",
    "\\end{eqnarray}\n",
    "$$"
   ]
  },
  {
   "cell_type": "markdown",
   "metadata": {},
   "source": [
    "where the symbol in curly brackets $\\{\\}$ is the $6j$ symbol. \n",
    "A specific coupling order has to be respected in the symbol, that is, the so-called triangular relations between three angular momenta needs to be respected, that is"
   ]
  },
  {
   "cell_type": "markdown",
   "metadata": {},
   "source": [
    "$$\n",
    "\\left\\{\\begin{array}{ccc} x & x& x \\\\  &  &  \\end{array}\\right\\}\\hspace{0.1cm}\\left\\{\\begin{array}{ccc}  & & x \\\\  x& x &  \\end{array}\\right\\}\\hspace{0.1cm}\\left\\{\\begin{array}{ccc}  & x&  \\\\ x &  &x  \\end{array}\\right\\}\\hspace{0.1cm}\\left\\{\\begin{array}{ccc} x & &  \\\\  & x &x  \\end{array}\\right\\}\\hspace{0.1cm}\n",
    "$$"
   ]
  },
  {
   "cell_type": "markdown",
   "metadata": {},
   "source": [
    "## Angular momentum algebra, Wigner-Eckart theorem\n",
    "The $6j$ symbol is invariant under the permutation of any two columns"
   ]
  },
  {
   "cell_type": "markdown",
   "metadata": {},
   "source": [
    "$$\n",
    "\\begin{Bmatrix} j_1 & j_2 & j_3\\\\ j_4 & j_5 & j_6 \\end{Bmatrix} = \\begin{Bmatrix} j_2 & j_1 & j_3\\\\ j_5 & j_4 & j_6 \\end{Bmatrix} = \\begin{Bmatrix} j_1 & j_3 & j_2\\\\ j_4 & j_6 & j_5 \\end{Bmatrix} = \\begin{Bmatrix} j_3 & j_2 & j_1\\\\ j_6 & j_5 & j_4 \\end{Bmatrix}.\n",
    "$$"
   ]
  },
  {
   "cell_type": "markdown",
   "metadata": {},
   "source": [
    "The $6j$ symbol is also invariant if upper and lower arguments are interchanged in any two columns"
   ]
  },
  {
   "cell_type": "markdown",
   "metadata": {},
   "source": [
    "$$\n",
    "\\begin{Bmatrix} j_1 & j_2 & j_3\\\\ j_4 & j_5 & j_6 \\end{Bmatrix} = \\begin{Bmatrix} j_4 & j_5 & j_3\\\\ j_1 & j_2 & j_6 \\end{Bmatrix} = \\begin{Bmatrix} j_1 & j_5 & j_6\\\\ j_4 & j_2 & j_3 \\end{Bmatrix} = \\begin{Bmatrix} j_4 & j_2 & j_6\\\\ j_1 & j_5 & j_3 \\end{Bmatrix}.\n",
    "$$"
   ]
  },
  {
   "cell_type": "markdown",
   "metadata": {},
   "source": [
    "## Angular momentum algebra, Wigner-Eckart theorem\n",
    "The $6j$ symbols satisfy this orthogonality relation"
   ]
  },
  {
   "cell_type": "markdown",
   "metadata": {},
   "source": [
    "$$\n",
    "\\sum_{j_3} (2j_3+1) \\begin{Bmatrix} j_1 & j_2 & j_3\\\\ j_4 & j_5 & j_6 \\end{Bmatrix} \\begin{Bmatrix} j_1 & j_2 & j_3\\\\ j_4 & j_5 & j_6' \\end{Bmatrix} = \\frac{\\delta_{j_6^{}j_6'}}{2j_6+1} \\{j_1,j_5,j_6\\} \\{j_4,j_2,j_6\\}.\n",
    "$$"
   ]
  },
  {
   "cell_type": "markdown",
   "metadata": {},
   "source": [
    "The symbol $\\{j_1j_2j_3\\}$ (called the triangular delta) is equal to one if the triad $(j_1j_2j_3)$ satisfies the triangular conditions and zero otherwise.\n",
    "A useful value is given when say one of the angular momenta are zero, say $J_{bc}=0$, then we have"
   ]
  },
  {
   "cell_type": "markdown",
   "metadata": {},
   "source": [
    "$$\n",
    "\\left\\{\\begin{array}{ccc} j_a & j_b& J_{ab} \\\\ j_c & J & 0 \\end{array}\\right\\}=\\frac{(-1)^{j_a+j_b+J_{ab}}\\delta_{Jj_a}\\delta_{j_cj_b} }{\\sqrt{(2j_{a}+1)(2j_{b}+1)}}\n",
    "$$"
   ]
  },
  {
   "cell_type": "markdown",
   "metadata": {},
   "source": [
    "## Angular momentum algebra, Wigner-Eckart theorem\n",
    "With the $6j$ symbol defined, we can go back and and rewrite the overlap between the two ways of recoupling angular momenta in terms of the $6j$ symbol.\n",
    "That is, we can have"
   ]
  },
  {
   "cell_type": "markdown",
   "metadata": {},
   "source": [
    "$$\n",
    "\\begin{eqnarray}\n",
    "\\nonumber\n",
    "\\lefteqn{| (j_a\\rightarrow [j_b\\rightarrow j_c]J_{bc}) JM\\rangle = } \\\\\n",
    "\\nonumber\n",
    "& &\\sum_{J_{ab}}(-1)^{j_a+j_b+j_c+J}\\sqrt{(2J_{ab}+1)(2J_{bc}+1)}\\left\\{\\begin{array}{ccc} j_a & j_b& J_{ab} \\\\ j_c & J & J_{bc} \\end{array}\\right\\}| ([j_a\\rightarrow j_b]J_{ab}\\rightarrow j_c) JM\\rangle\n",
    ". \\nonumber\n",
    "\\end{eqnarray}\n",
    "$$"
   ]
  },
  {
   "cell_type": "markdown",
   "metadata": {},
   "source": [
    "Can you find the inverse relation?  \n",
    "These relations can in turn be used to write out the fully anti-symmetrized three-body wave function in a $J$-scheme coupled basis. \n",
    "If you opt then for a specific coupling order, say $| ([j_a\\rightarrow j_b]J_{ab}\\rightarrow j_c) JM\\rangle$, you need to express this representation in terms of the other coupling possibilities.\n",
    "\n",
    "\n",
    "## Angular momentum algebra, Wigner-Eckart theorem\n",
    "Note that the two-body intermediate state is assumed to be antisymmetric but\n",
    "not normalized, that is, the state which involves the quantum numbers \n",
    "$j_a$ and $j_b$. Assume that the intermediate \n",
    "two-body state is antisymmetric. With this coupling order, we can \n",
    "rewrite ( in a schematic way) the general three-particle Slater determinant as"
   ]
  },
  {
   "cell_type": "markdown",
   "metadata": {},
   "source": [
    "$$\n",
    "\\Phi(a,b,c) = {\\cal A} | ([j_a\\rightarrow j_b]J_{ab}\\rightarrow j_c) J\\rangle,\n",
    "$$"
   ]
  },
  {
   "cell_type": "markdown",
   "metadata": {},
   "source": [
    "with an implicit sum over $J_{ab}$.  The antisymmetrization operator ${\\cal A}$ is used here to indicate that we need to antisymmetrize the state. **Challenge**: Use the definition of the $6j$ symbol and find an explicit \n",
    "expression for the above three-body state using the coupling order $| ([j_a\\rightarrow j_b]J_{ab}\\rightarrow j_c) J\\rangle$.\n",
    "\n",
    "\n",
    "\n",
    "## Angular momentum algebra, Wigner-Eckart theorem\n",
    "We can also coupled together four angular momenta. Consider two four-body states, with single-particle angular momenta $j_a$, $j_b$, $j_c$ and $j_d$ we can have a state with final $J$"
   ]
  },
  {
   "cell_type": "markdown",
   "metadata": {},
   "source": [
    "$$\n",
    "|\\Phi(a,b,c,d)\\rangle_1 = | ([j_a\\rightarrow j_b]J_{ab}\\times [j_c\\rightarrow j_d]J_{cd}) JM\\rangle,\n",
    "$$"
   ]
  },
  {
   "cell_type": "markdown",
   "metadata": {},
   "source": [
    "where we read the coupling order as $j_a$ couples with $j_b$ to given and intermediate angular momentum $J_{ab}$. \n",
    "Moreover, $j_c$ couples with $j_d$ to given and intermediate angular momentum $J_{cd}$.  The two intermediate angular momenta $J_{ab}$ and $J_{cd}$\n",
    "are in turn coupled to a final $J$.  These operations involved three Clebsch-Gordan coefficients. \n",
    "\n",
    "Alternatively, we could couple in the following order"
   ]
  },
  {
   "cell_type": "markdown",
   "metadata": {},
   "source": [
    "$$\n",
    "|\\Phi(a,b,c,d)\\rangle_2 = | ([j_a\\rightarrow j_c]J_{ac}\\times [j_b\\rightarrow j_d]J_{bd}) JM\\rangle,\n",
    "$$"
   ]
  },
  {
   "cell_type": "markdown",
   "metadata": {},
   "source": [
    "## Angular momentum algebra, Wigner-Eckart theorem\n",
    "The overlap between these two states"
   ]
  },
  {
   "cell_type": "markdown",
   "metadata": {},
   "source": [
    "$$\n",
    "\\langle([j_a\\rightarrow j_c]J_{ac}\\times [j_b\\rightarrow j_d]J_{bd}) JM| ([j_a\\rightarrow j_b]J_{ab}\\times [j_c\\rightarrow j_d]J_{cd}) JM\\rangle,\n",
    "$$"
   ]
  },
  {
   "cell_type": "markdown",
   "metadata": {},
   "source": [
    "is equal to"
   ]
  },
  {
   "cell_type": "markdown",
   "metadata": {},
   "source": [
    "$$\n",
    "\\begin{eqnarray}\n",
    "\\nonumber\n",
    "& & \\sum_{m_iM_{ij}}\\langle j_am_aj_bm_b|J_{ab}M_{ab}\\rangle \\langle j_cm_cj_dm_d|J_{cd}M_{cd}\\rangle \\langle J_{ab}M_{ab}J_{cd}M_{cd}|JM\\rangle \\\\\n",
    "& & \\times\\langle j_am_aj_cm_c|J_{ac}M_{ac}\\rangle \\langle j_bm_bj_dm_d|J_{cd}M_{bd}\\rangle \\langle J_{ac}M_{ac}J_{bd}M_{bd}|JM\\rangle \\\\  \\nonumber\n",
    "&= & \\sqrt{(2J_{ab}+1)(2J_{cd}+1)(2J_{ac}+1)(2J_{bd}+1)}\\left\\{\\begin{array}{ccc} j_a & j_b& J_{ab} \\\\ j_c & j_d& J_{cd} \\\\J_{ac} & J_{bd}& J\\end{array}\\right\\}\n",
    ", \\nonumber\n",
    "\\end{eqnarray}\n",
    "$$"
   ]
  },
  {
   "cell_type": "markdown",
   "metadata": {},
   "source": [
    "with the symbol in curly brackets $\\{\\}$ being the $9j$-symbol. We see  that a $6j$ symbol  involves four Clebsch-Gordan coefficients, while the $9j$ symbol\n",
    "involves six.\n",
    "\n",
    "\n",
    "\n",
    "## Angular momentum algebra, Wigner-Eckart theorem\n",
    "A $9j$ symbol is invariant under reflection in either diagonal"
   ]
  },
  {
   "cell_type": "markdown",
   "metadata": {},
   "source": [
    "$$\n",
    "\\begin{Bmatrix} j_1 & j_2 & j_3\\\\ j_4 & j_5 & j_6\\\\ j_7 & j_8 & j_9 \\end{Bmatrix} = \\begin{Bmatrix} j_1 & j_4 & j_7\\\\ j_2 & j_5 & j_8\\\\ j_3 & j_6 & j_9 \\end{Bmatrix} = \\begin{Bmatrix} j_9 & j_6 & j_3\\\\ j_8 & j_5 & j_2\\\\ j_7 & j_4 & j_1 \\end{Bmatrix}.\n",
    "$$"
   ]
  },
  {
   "cell_type": "markdown",
   "metadata": {},
   "source": [
    "The permutation of any two rows or any two columns yields a phase factor $(-1)^S$, where"
   ]
  },
  {
   "cell_type": "markdown",
   "metadata": {},
   "source": [
    "$$\n",
    "S=\\sum_{i=1}^9 j_i.\n",
    "$$"
   ]
  },
  {
   "cell_type": "markdown",
   "metadata": {},
   "source": [
    "As an  example we have"
   ]
  },
  {
   "cell_type": "markdown",
   "metadata": {},
   "source": [
    "$$\n",
    "\\begin{Bmatrix} j_1 & j_2 & j_3\\\\ j_4 & j_5 & j_6\\\\ j_7 & j_8 & j_9 \\end{Bmatrix} = (-1)^S \\begin{Bmatrix} j_4 & j_5 & j_6\\\\ j_1 & j_2 & j_3\\\\ j_7 & j_8 & j_9 \\end{Bmatrix} = (-1)^S \\begin{Bmatrix} j_2 & j_1 & j_3\\\\ j_5 & j_4 & j_6\\\\ j_8 & j_7 & j_9 \\end{Bmatrix}.\n",
    "$$"
   ]
  },
  {
   "cell_type": "markdown",
   "metadata": {},
   "source": [
    "## Angular momentum algebra, Wigner-Eckart theorem\n",
    "A useful case is when say $J=0$ in"
   ]
  },
  {
   "cell_type": "markdown",
   "metadata": {},
   "source": [
    "$$\n",
    "\\left\\{\\begin{array}{ccc} j_a & j_b& J_{ab} \\\\ j_c & j_d & J_{cd} \\\\ J_{ac} & J_{bd}& 0\\end{array}\\right\\}=\\frac{\\delta_{J_{ab}J_{cd}} \\delta_{J_{ac}J_{bd}}}{\\sqrt{(2J_{ab}+1)(2J_{ac}+1)}} (-1)^{j_b+J_{ab}+j_c+J_{ac}} \\begin{Bmatrix} j_a & j_b & J_{ab}\\\\ j_d & j_c & J_{ac} \\end{Bmatrix}.\n",
    "$$"
   ]
  },
  {
   "cell_type": "markdown",
   "metadata": {},
   "source": [
    "## Angular momentum algebra, Wigner-Eckart theorem\n",
    "The tensor operator in the nucleon-nucleon potential\n",
    "is given by"
   ]
  },
  {
   "cell_type": "markdown",
   "metadata": {},
   "source": [
    "$$\n",
    "\\begin{array}{ll}\n",
    "&\\\\\n",
    "\\langle lSJ\\vert S_{12}\\vert l'S'J\\rangle =&\n",
    "(-)^{S+J}\\sqrt{30(2l+1)(2l'+1)(2S+1)(2S'+1)}\\\\\n",
    "&\\times\\left\\{\\begin{array}{ccc}J&S'&l'\\\\2&l&S\\end{array}\\right\\}\n",
    "\\left(\\begin{array}{ccc}l'&2&l\\\\0&0&0\\end{array}\\right)\n",
    "\\left\\{\\begin{array}{ccc}s_{1}&s_{2}&S\\\\s_{3}&s_{4}&S'\\\\\n",
    "1&1&2\\end{array}\n",
    "\\right\\}\\\\\n",
    "&\\times\\langle s_{1}\\vert\\vert \\sigma_{1}\\vert\\vert s_{3}\\rangle\n",
    "\\langle s_{2}\\vert\\vert \\sigma_{2}\\vert \\vert s_{4}\\rangle,\n",
    "\\end{array}\n",
    "$$"
   ]
  },
  {
   "cell_type": "markdown",
   "metadata": {},
   "source": [
    "and it is zero for the $^1S_0$ wave. \n",
    "\n",
    "How do we get here?\n",
    "\n",
    "\n",
    "## Angular momentum algebra, Wigner-Eckart theorem\n",
    "To derive the expectation value of the nuclear tensor force, we recall that \n",
    "the product of two irreducible tensor operators is"
   ]
  },
  {
   "cell_type": "markdown",
   "metadata": {},
   "source": [
    "$$\n",
    "W^{r}_{m_r}=\\sum_{m_pm_q}\\langle pm_pqm_q|rm_r\\rangle T^{p}_{m_p}U^{q}_{m_q},\n",
    "$$"
   ]
  },
  {
   "cell_type": "markdown",
   "metadata": {},
   "source": [
    "and using the orthogonality properties of the Clebsch-Gordan coefficients we can rewrite the above as"
   ]
  },
  {
   "cell_type": "markdown",
   "metadata": {},
   "source": [
    "$$\n",
    "T^{p}_{m_p}U^{q}_{m_q}=\\sum_{m_pm_q}\\langle pm_pqm_q|rm_r\\rangle W^{r}_{m_r}.\n",
    "$$"
   ]
  },
  {
   "cell_type": "markdown",
   "metadata": {},
   "source": [
    "Assume now that the operators $T$ and $U$ act on different parts of say a wave function. The operator $T$ could act on the spatial part only while the operator $U$ acts only on the spin part. This means also that these operators commute.\n",
    "The reduced matrix element of this operator is thus, using the Wigner-Eckart theorem,"
   ]
  },
  {
   "cell_type": "markdown",
   "metadata": {},
   "source": [
    "1\n",
    "6\n",
    "7\n",
    " \n",
    "<\n",
    "<\n",
    "<\n",
    "!\n",
    "!\n",
    "M\n",
    "A\n",
    "T\n",
    "H\n",
    "_\n",
    "B\n",
    "L\n",
    "O\n",
    "C\n",
    "K"
   ]
  },
  {
   "cell_type": "markdown",
   "metadata": {},
   "source": [
    "$$\n",
    "\\times\\langle (j_aj_bJM|\\left[ T^{p}_{m_p}U^{q}_{m_q} \\right]^{r}_{m_r}|(j_cj_d)J'M'\\rangle.\n",
    "$$"
   ]
  },
  {
   "cell_type": "markdown",
   "metadata": {},
   "source": [
    "## Angular momentum algebra, Wigner-Eckart theorem\n",
    "Starting with"
   ]
  },
  {
   "cell_type": "markdown",
   "metadata": {},
   "source": [
    "1\n",
    "6\n",
    "9\n",
    " \n",
    "<\n",
    "<\n",
    "<\n",
    "!\n",
    "!\n",
    "M\n",
    "A\n",
    "T\n",
    "H\n",
    "_\n",
    "B\n",
    "L\n",
    "O\n",
    "C\n",
    "K"
   ]
  },
  {
   "cell_type": "markdown",
   "metadata": {},
   "source": [
    "$$\n",
    "\\times\\langle (j_aj_bJM|\\left[ T^{p}_{m_p}U^{q}_{m_q} \\right]^{r}_{m_r}|(j_cj_d)J'M'\\rangle,\n",
    "$$"
   ]
  },
  {
   "cell_type": "markdown",
   "metadata": {},
   "source": [
    "we assume now that $T$ acts only on $j_a$ and $j_c$ and that $U$ acts only on $j_b$ and $j_d$. \n",
    "The matrix element $\\langle (j_aj_bJM|\\left[ T^{p}_{m_p}U^{q}_{m_q} \\right]^{r}_{m_r}|(j_cj_d)J'M'\\rangle$ can be written out,\n",
    "when we insert a complete set of states $|j_im_ij_jm_j\\rangle\\langle j_im_ij_jm_j|$ between $T$ and $U$ as"
   ]
  },
  {
   "cell_type": "markdown",
   "metadata": {},
   "source": [
    "1\n",
    "7\n",
    "1\n",
    " \n",
    "<\n",
    "<\n",
    "<\n",
    "!\n",
    "!\n",
    "M\n",
    "A\n",
    "T\n",
    "H\n",
    "_\n",
    "B\n",
    "L\n",
    "O\n",
    "C\n",
    "K"
   ]
  },
  {
   "cell_type": "markdown",
   "metadata": {},
   "source": [
    "$$\n",
    "\\times \\langle (j_am_aj_bm_b|\\left[ T^{p}_{m_p}\\right]^{r}_{m_r}|(j_cm_cj_bm_b)\\rangle\\langle (j_cm_cj_bm_b|\\left[ U^{q}_{m_q}\\right]^{r}_{m_r}|(j_cm_cj_dm_d)\\rangle.\n",
    "$$"
   ]
  },
  {
   "cell_type": "markdown",
   "metadata": {},
   "source": [
    "The complete set of states that was inserted between $T$ and $U$ reduces to $|j_cm_cj_bm_b\\rangle\\langle j_cm_cj_bm_b|$\n",
    "due to orthogonality of the states.\n",
    "\n",
    "\n",
    "\n",
    "## Angular momentum algebra, Wigner-Eckart theorem\n",
    "Combining the last two equations from the previous slide and \n",
    "and applying the Wigner-Eckart theorem, we arrive at (rearranging phase factors)"
   ]
  },
  {
   "cell_type": "markdown",
   "metadata": {},
   "source": [
    "1\n",
    "7\n",
    "3\n",
    " \n",
    "<\n",
    "<\n",
    "<\n",
    "!\n",
    "!\n",
    "M\n",
    "A\n",
    "T\n",
    "H\n",
    "_\n",
    "B\n",
    "L\n",
    "O\n",
    "C\n",
    "K"
   ]
  },
  {
   "cell_type": "markdown",
   "metadata": {},
   "source": [
    "1\n",
    "7\n",
    "4\n",
    " \n",
    "<\n",
    "<\n",
    "<\n",
    "!\n",
    "!\n",
    "M\n",
    "A\n",
    "T\n",
    "H\n",
    "_\n",
    "B\n",
    "L\n",
    "O\n",
    "C\n",
    "K"
   ]
  },
  {
   "cell_type": "markdown",
   "metadata": {},
   "source": [
    "$$\n",
    "\\times\\left(\\begin{array}{ccc} j_a  &j_c  &p  \\\\ m_a &-m_c &-m_p \\end{array}\\right)\\left(\\begin{array}{ccc} j_b  &j_d  &q  \\\\ m_b &-m_d &-m_q \\end{array}\\right)\\langle j_a||T^p||j_c\\rangle \\times \\langle j_b||U^q||j_d\\rangle\n",
    "$$"
   ]
  },
  {
   "cell_type": "markdown",
   "metadata": {},
   "source": [
    "which can be rewritten in terms of a $9j$ symbol as"
   ]
  },
  {
   "cell_type": "markdown",
   "metadata": {},
   "source": [
    "$$\n",
    "\\langle (j_aj_b)J||W^{r}||(j_cj_d)J'\\rangle=\\sqrt{(2J+1)(2r+1)(2J'+1)}\\langle j_a||T^p||j_c\\rangle  \\langle j_b||U^q||j_d\\rangle\\left\\{\\begin{array}{ccc} j_a & j_b& J \\\\ j_c & j_d & J' \\\\ p & q& r\\end{array}\\right\\}.\n",
    "$$"
   ]
  },
  {
   "cell_type": "markdown",
   "metadata": {},
   "source": [
    "## Angular momentum algebra, Wigner-Eckart theorem\n",
    "From this expression we can in turn compute for example the spin-spin operator of the tensor force.\n",
    "\n",
    "\n",
    "In case $r=0$, that is we two tensor operators coupled to a scalar, we can use (with $p=q$)"
   ]
  },
  {
   "cell_type": "markdown",
   "metadata": {},
   "source": [
    "$$\n",
    "\\left\\{\\begin{array}{ccc} j_a & j_b& J \\\\ j_c & j_d & J' \\\\ p &p & 0\\end{array}\\right\\}=\\frac{\\delta_{JJ'} \\delta_{pq}}{\\sqrt{(2J+1)(2J+1)}} (-1)^{j_b+j_c+2J} \\begin{Bmatrix} j_a & j_b & J\\\\ j_d & j_c & p \\end{Bmatrix},\n",
    "$$"
   ]
  },
  {
   "cell_type": "markdown",
   "metadata": {},
   "source": [
    "and obtain"
   ]
  },
  {
   "cell_type": "markdown",
   "metadata": {},
   "source": [
    "$$\n",
    "\\langle (j_aj_b)J||W^{0}||(j_cj_d)J'\\rangle=(-1)^{j_b+j_c+2J}\\langle j_a||T^p||j_c\\rangle\\langle j_b||U^p||j_d\\rangle \\begin{Bmatrix} j_a & j_b & J\\\\ j_d & j_c & p \\end{Bmatrix}.\n",
    "$$"
   ]
  },
  {
   "cell_type": "markdown",
   "metadata": {},
   "source": [
    "## Angular momentum algebra, Wigner-Eckart theorem\n",
    "Another very useful expression is the case where the operators act in just one space. We state here without \n",
    "showing that the reduced matrix element"
   ]
  },
  {
   "cell_type": "markdown",
   "metadata": {},
   "source": [
    "1\n",
    "7\n",
    "9\n",
    " \n",
    "<\n",
    "<\n",
    "<\n",
    "!\n",
    "!\n",
    "M\n",
    "A\n",
    "T\n",
    "H\n",
    "_\n",
    "B\n",
    "L\n",
    "O\n",
    "C\n",
    "K"
   ]
  },
  {
   "cell_type": "markdown",
   "metadata": {},
   "source": [
    "$$\n",
    "\\times \\langle j_a||T^p||j_c\\rangle \\langle j_c||T^q||j_b\\rangle.\n",
    "$$"
   ]
  },
  {
   "cell_type": "markdown",
   "metadata": {},
   "source": [
    "## Angular momentum algebra, Wigner-Eckart theorem\n",
    "The tensor operator in \n",
    "the nucleon-nucleon potential can be written as"
   ]
  },
  {
   "cell_type": "markdown",
   "metadata": {},
   "source": [
    "$$\n",
    "V=\\frac{3}{r^{2}}\\left[ \\left[ {\\bf \\sigma}_1 \\otimes {\\bf \\sigma}_2\\right]^\n",
    "{(2)} \\otimes\\left[{\\bf r} \\otimes {\\bf r} \\right]^{(2)}\\right]^{(0)}_0\n",
    "$$"
   ]
  },
  {
   "cell_type": "markdown",
   "metadata": {},
   "source": [
    "Since the irreducible tensor  \n",
    "$\\left[{\\bf r} \\otimes {\\bf r} \\right]^{(2)}$\n",
    "operates  only on the angular quantum numbers and\n",
    "$\\left[{\\bf \\sigma}_1 \\otimes {\\bf \\sigma}_2\\right]^{(2)}$ \n",
    "operates  only on \n",
    "the spin states we can write the matrix element"
   ]
  },
  {
   "cell_type": "markdown",
   "metadata": {},
   "source": [
    "$$\n",
    "\\begin{eqnarray*}\n",
    "\\langle lSJ\\vert V\\vert lSJ\\rangle & = &\n",
    "\\langle lSJ \\vert\\left[ \\left[{\\bf \\sigma}_1 \\otimes {\\bf \\sigma}_2\\right]^{(2)} \\otimes\n",
    "\\left[{\\bf r} \\otimes {\\bf r} \\right]^{(2)}\\right]^{(0)}_0\\vert l'S'J\\rangle \\\\\n",
    "&  = &\n",
    "(-1)^{J+l+S}\n",
    "\\left\\{\\begin{array}{ccc} l&S&J \\\\ l'&S'&2\\end{array}\\right\\}\n",
    "\\langle l \\vert\\vert\\left[{\\bf r} \\otimes {\\bf r} \\right]^{(2)} \\vert \\vert l'\\rangle\\\\\n",
    "& &\n",
    "\\times \\langle S\\vert\\vert\\left[{\\bf \\sigma}_1 \\otimes {\\bf \\sigma}_2\\right]^{(2)} \\vert\\vert S'\\rangle\n",
    "\\end{eqnarray*}\n",
    "$$"
   ]
  },
  {
   "cell_type": "markdown",
   "metadata": {},
   "source": [
    "## Angular momentum algebra, Wigner-Eckart theorem\n",
    "We need that\n",
    "the coordinate vector ${\\bf r}$ can be written in terms of spherical \n",
    "components as"
   ]
  },
  {
   "cell_type": "markdown",
   "metadata": {},
   "source": [
    "$$\n",
    "{\\bf r}_\\alpha = r\\sqrt{\\frac{4\\pi}{3}} Y_{1\\alpha}\n",
    "$$"
   ]
  },
  {
   "cell_type": "markdown",
   "metadata": {},
   "source": [
    "Using this expression we get"
   ]
  },
  {
   "cell_type": "markdown",
   "metadata": {},
   "source": [
    "$$\n",
    "\\begin{eqnarray*}\n",
    "\\left[{\\bf r} \\otimes {\\bf r} \\right]^{(2)}_\\mu &=& \\frac{4\\pi}{3}r^2\n",
    "\\sum_{\\alpha ,\\beta}\\langle 1\\alpha 1\\beta\\vert 2\\mu \\rangle Y_{1\\alpha} Y_{1\\beta}\n",
    "\\end{eqnarray*}\n",
    "$$"
   ]
  },
  {
   "cell_type": "markdown",
   "metadata": {},
   "source": [
    "## Angular momentum algebra, Wigner-Eckart theorem\n",
    "The product of two spherical harmonics can be written\n",
    "as"
   ]
  },
  {
   "cell_type": "markdown",
   "metadata": {},
   "source": [
    "1\n",
    "8\n",
    "5\n",
    " \n",
    "<\n",
    "<\n",
    "<\n",
    "!\n",
    "!\n",
    "M\n",
    "A\n",
    "T\n",
    "H\n",
    "_\n",
    "B\n",
    "L\n",
    "O\n",
    "C\n",
    "K"
   ]
  },
  {
   "cell_type": "markdown",
   "metadata": {},
   "source": [
    "$$\n",
    "\\times \\left(\\begin{array}{ccc} l_1&l_2&l \\\\ 0  &0  &0\\end{array}\\right)\n",
    "Y_{l-m}(-1)^m.\n",
    "$$"
   ]
  },
  {
   "cell_type": "markdown",
   "metadata": {},
   "source": [
    "## Angular momentum algebra, Wigner-Eckart theorem\n",
    "Using this relation we get"
   ]
  },
  {
   "cell_type": "markdown",
   "metadata": {},
   "source": [
    "$$\n",
    "\\begin{eqnarray*}\n",
    "\\left[{\\bf r} \\otimes {\\bf r} \\right]^{(2)}_\\mu &=& \n",
    "\\sqrt{4\\pi}r^2\n",
    "\\sum_{lm}\n",
    "\\sum_{\\alpha ,\\beta}   \\langle 1\\alpha 1\\beta\\vert 2\\mu \\rangle \\\\\n",
    "&&\\times \\langle 1\\alpha 1\\beta\\vert l-m \\rangle\n",
    "\\frac{(-1)^{1-1-m}}{\\sqrt{2l+1}} \n",
    "\\left(\\begin{array}{ccc} 1&1&l \\\\ 0  &0  &0\\end{array}\\right)Y_{l-m}(-1)^m\\\\\n",
    "&=& \\sqrt{4\\pi}r^2\n",
    "\\left(\\begin{array}{ccc} 1&1&2 \\\\ 0  &0  &0\\end{array}\\right)\n",
    "Y_{2-\\mu}\\\\\n",
    "&=& \\sqrt{4\\pi}r^2 \\sqrt{\\frac{2}{15}}Y_{2-\\mu}\n",
    "\\end{eqnarray*}\n",
    "$$"
   ]
  },
  {
   "cell_type": "markdown",
   "metadata": {},
   "source": [
    "## Angular momentum algebra, Wigner-Eckart theorem\n",
    "We can then  use this relation to rewrite the reduced matrix element containing the \n",
    "position vector as"
   ]
  },
  {
   "cell_type": "markdown",
   "metadata": {},
   "source": [
    "$$\n",
    "\\begin{eqnarray*}\n",
    "\\langle l \\vert\\vert\\left[{\\bf r} \\otimes {\\bf r} \\right]^{(2)} \\vert \\vert l'\\rangle\n",
    "& = & \n",
    "\\sqrt{4\\pi}\\sqrt{ \\frac{2}{15}}r^2 \\langle l \\vert\\vert Y_2 \\vert \\vert l'\\rangle \\\\\n",
    "& = &\\sqrt{4\\pi}\\sqrt{ \\frac{2}{15}}  r^2 (-1)^l\n",
    "\\sqrt{\\frac{(2l+1)5(2l'+1)}{4\\pi}}\n",
    "\\left(\\begin{array}{ccc} l&2&l' \\\\ 0&0&0\\end{array}\\right)\n",
    "\\end{eqnarray*}\n",
    "$$"
   ]
  },
  {
   "cell_type": "markdown",
   "metadata": {},
   "source": [
    "## Angular momentum algebra, Wigner-Eckart theorem\n",
    "Using the  reduced matrix element of the spin \n",
    "operators defined as"
   ]
  },
  {
   "cell_type": "markdown",
   "metadata": {},
   "source": [
    "$$\n",
    "\\begin{eqnarray*}\n",
    "\\langle S\\vert \\vert\\left[{\\bf \\sigma}_1 \\otimes {\\bf \\sigma}_2\\right]^{(2)} \\vert \\vert S' \\rangle\n",
    "& = & \n",
    "\\sqrt{(2S+1)(2S'+1)5}\n",
    "\\left\\{\\begin{array}{ccc} s_1&s_2&S \\\\s_3&s_4&S' \\\\ 1&1&2\\end{array}\\right\\}\\\\\n",
    "&\\times& \n",
    "\\langle s_1 \\vert \\vert {\\bf \\sigma}_1 \\vert \\vert s_3\\rangle\n",
    "\\langle s_2 \\vert\\vert {\\bf \\sigma}_2 \\vert \\vert s_4\\rangle\n",
    "\\end{eqnarray*}\n",
    "$$"
   ]
  },
  {
   "cell_type": "markdown",
   "metadata": {},
   "source": [
    "and inserting  these expressions for the two reduced matrix elements we get"
   ]
  },
  {
   "cell_type": "markdown",
   "metadata": {},
   "source": [
    "$$\n",
    "\\begin{array}{ll}\n",
    "&\\\\\n",
    "\\langle lSJ\\vert V\\vert l'S'J\\rangle =&(-1)^{S+J}\\sqrt{30(2l+1)(2l'+1)(2S+1)(2S'+1)}\\\\\n",
    "&\\times\\left\\{\\begin{array}{ccc}l&S &J \\\\l'&S&2\\end{array}\\right\\}\n",
    "\\left(\\begin{array}{ccc}l&2&l'\\\\0&0&0\\end{array}\\right)\n",
    "\\left\\{\\begin{array}{ccc}s_{1}&s_{2}&S\\\\s_{3}&s_{4}&S'\\\\\n",
    "1&1&2\\end{array}\n",
    "\\right\\}\\\\\n",
    "&\\times\\langle s_{1}\\vert\\vert \\sigma_{1}\\vert\\vert s_{3}\\rangle\n",
    "\\langle s_{2}\\vert\\vert \\sigma_{2}\\vert \\vert s_{4}\\rangle.\n",
    "\\end{array}\n",
    "$$"
   ]
  },
  {
   "cell_type": "markdown",
   "metadata": {},
   "source": [
    "## Angular momentum algebra, Wigner-Eckart theorem\n",
    "Normally, we start we a nucleon-nucleon interaction fitted to reproduce scattering data.\n",
    "It is common then to represent this interaction in terms relative momenta $k$, the center-of-mass momentum $K$\n",
    "and various partial wave quantum numbers like the spin $S$, the total relative angular  momentum ${\\cal J}$, isospin $T$ and relative orbital momentum $l$ and finally the corresponding center-of-mass $L$.  \n",
    "We can then write the  free interaction matrix $V$ as"
   ]
  },
  {
   "cell_type": "markdown",
   "metadata": {},
   "source": [
    "$$\n",
    "\\langle kKlL{\\cal J}ST\\vert\\hat{V}\\vert k'Kl'L{\\cal J}S'T\\rangle.\n",
    "$$"
   ]
  },
  {
   "cell_type": "markdown",
   "metadata": {},
   "source": [
    "Transformations from the relative and center-of-mass motion\n",
    "system to the lab system will be discussed\n",
    "below.\n",
    "\n",
    "\n",
    "\n",
    "## Angular momentum algebra, Wigner-Eckart theorem\n",
    "To obtain a $V$-matrix in a h.o. basis, we need  \n",
    "the transformation"
   ]
  },
  {
   "cell_type": "markdown",
   "metadata": {},
   "source": [
    "$$\n",
    "\\langle nNlL{\\cal J}ST\\vert\\hat{V}\\vert n'N'l'L'{\\cal J}S'T\\rangle,\n",
    "$$"
   ]
  },
  {
   "cell_type": "markdown",
   "metadata": {},
   "source": [
    "with $n$ and $N$ the principal quantum numbers of the relative and\n",
    "center-of-mass motion, respectively."
   ]
  },
  {
   "cell_type": "markdown",
   "metadata": {},
   "source": [
    "$$\n",
    "\\vert nlNL{\\cal J}ST\\rangle= \\int k^{2}K^{2}dkdKR_{nl}(\\sqrt{2}\\alpha k)\n",
    "R_{NL}(\\sqrt{1/2}\\alpha K)\n",
    "\\vert klKL{\\cal J}ST\\rangle.\n",
    "$$"
   ]
  },
  {
   "cell_type": "markdown",
   "metadata": {},
   "source": [
    "The parameter $\\alpha$ is the chosen oscillator length.\n",
    "\n",
    "\n",
    "\n",
    "## Angular momentum algebra, Wigner-Eckart theorem\n",
    "The most commonly employed sp basis is the harmonic oscillator, which\n",
    "in turn means that\n",
    "a two-particle wave function with total angular momentum $J$\n",
    "and isospin $T$\n",
    "can be expressed as"
   ]
  },
  {
   "cell_type": "markdown",
   "metadata": {},
   "source": [
    "<!-- Equation labels as ordinary links -->\n",
    "<div id=\"eq:hoho\"></div>\n",
    "\n",
    "$$\n",
    "\\begin{array}{ll}\n",
    "\\vert (n_{a}l_{a}j_{a})(n_{b}l_{b}j_{b})JT\\rangle =&\n",
    "{\\displaystyle\n",
    "\\frac{1}{\\sqrt{(1+\\delta_{12})}}\n",
    "\\sum_{\\lambda S{\\cal J}}\\sum_{nNlL}}\n",
    "F\\times \\langle ab|\\lambda SJ \\rangle\\\\\n",
    "&\\times (-1)^{\\lambda +{\\cal J}-L-S}\\hat{\\lambda}\n",
    "\\left\\{\\begin{array}{ccc}L&l&\\lambda\\\\S&J&{\\cal J}\n",
    "\\end{array}\\right\\}\\\\\n",
    "&\\times \\left\\langle nlNL| n_al_an_bl_b\\right\\rangle\n",
    "\\vert nlNL{\\cal J}ST\\rangle ,\\end{array}\n",
    "\\label{eq:hoho} \\tag{3}\n",
    "$$"
   ]
  },
  {
   "cell_type": "markdown",
   "metadata": {},
   "source": [
    "where the term\n",
    "$\\left\\langle nlNL| n_al_an_bl_b\\right\\rangle$\n",
    "is the so-called Moshinsky-Talmi transformation coefficient (see chapter 18 of Alex Brown's notes).\n",
    "\n",
    "\n",
    "\n",
    "## Angular momentum algebra, Wigner-Eckart theorem\n",
    "The term $\\langle ab|LSJ \\rangle $ is a shorthand\n",
    "for the $LS-jj$ transformation coefficient,"
   ]
  },
  {
   "cell_type": "markdown",
   "metadata": {},
   "source": [
    "$$\n",
    "\\langle ab|\\lambda SJ \\rangle = \\hat{j_{a}}\\hat{j_{b}}\n",
    "     \\hat{\\lambda}\\hat{S}\n",
    "     \\left\\{\n",
    "    \\begin{array}{ccc}\n",
    "       l_{a}&s_a&j_{a}\\\\\n",
    "       l_{b}&s_b&j_{b}\\\\\n",
    "       \\lambda    &S          &J\n",
    "    \\end{array}\n",
    "    \\right\\}.\n",
    "$$"
   ]
  },
  {
   "cell_type": "markdown",
   "metadata": {},
   "source": [
    "Here\n",
    "we use $\\hat{x} = \\sqrt{2x +1}$.\n",
    "The factor $F$ is defined as $F=\\frac{1-(-1)^{l+S+T}}{\\sqrt{2}}$ if\n",
    "$s_a = s_b$ and we .\n",
    "\n",
    "\n",
    "\n",
    "## Angular momentum algebra, Wigner-Eckart theorem\n",
    "The $\\hat{V}$-matrix in terms of harmonic oscillator wave functions reads"
   ]
  },
  {
   "cell_type": "markdown",
   "metadata": {},
   "source": [
    "1\n",
    "9\n",
    "6\n",
    " \n",
    "<\n",
    "<\n",
    "<\n",
    "!\n",
    "!\n",
    "M\n",
    "A\n",
    "T\n",
    "H\n",
    "_\n",
    "B\n",
    "L\n",
    "O\n",
    "C\n",
    "K"
   ]
  },
  {
   "cell_type": "markdown",
   "metadata": {},
   "source": [
    "1\n",
    "9\n",
    "7\n",
    " \n",
    "<\n",
    "<\n",
    "<\n",
    "!\n",
    "!\n",
    "M\n",
    "A\n",
    "T\n",
    "H\n",
    "_\n",
    "B\n",
    "L\n",
    "O\n",
    "C\n",
    "K"
   ]
  },
  {
   "cell_type": "markdown",
   "metadata": {},
   "source": [
    "1\n",
    "9\n",
    "8\n",
    " \n",
    "<\n",
    "<\n",
    "<\n",
    "!\n",
    "!\n",
    "M\n",
    "A\n",
    "T\n",
    "H\n",
    "_\n",
    "B\n",
    "L\n",
    "O\n",
    "C\n",
    "K"
   ]
  },
  {
   "cell_type": "markdown",
   "metadata": {},
   "source": [
    "$$\n",
    "\\times\\langle nNlL{\\cal J}ST\\vert\\hat{V}\\vert n'N'l'L'{\\cal J}S'T\\rangle.\n",
    "$$"
   ]
  },
  {
   "cell_type": "markdown",
   "metadata": {},
   "source": [
    "The label $a$ represents here all the single particle quantum numbers  \n",
    "$n_{a}l_{a}j_{a}$."
   ]
  }
 ],
 "metadata": {},
 "nbformat": 4,
 "nbformat_minor": 0
}
