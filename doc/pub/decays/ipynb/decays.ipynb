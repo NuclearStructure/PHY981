{
 "cells": [
  {
   "cell_type": "markdown",
   "metadata": {},
   "source": [
    "<!-- Slides for PHY981 -->\n",
    "<!-- dom:TITLE: Electromagnetic transitions and $\\beta$-decay -->\n",
    "# Electromagnetic transitions and $\\beta$-decay\n",
    "<!-- dom:AUTHOR: Morten Hjorth-Jensen at [National Superconducting Cyclotron Laboratory](http://www.nscl.msu.edu/) and [Department of Physics and Astronomy](https://www.pa.msu.edu/), [Michigan State University](http://www.msu.edu/), East Lansing, MI 48824, USA -->\n",
    "<!-- Author: --> **Morten Hjorth-Jensen**, [National Superconducting Cyclotron Laboratory](http://www.nscl.msu.edu/) and [Department of Physics and Astronomy](https://www.pa.msu.edu/), [Michigan State University](http://www.msu.edu/), East Lansing, MI 48824, USA\n",
    "\n",
    "Date: **Spring 2016**\n",
    "\n",
    "## Reminder on the Wigner-Eckart theorem\n",
    "In our angular momentum lectures on the Wigner-Eckart theorem we developed two equations. \n",
    "One for the general expectation value that depends also on the magnetic quantum numbers"
   ]
  },
  {
   "cell_type": "markdown",
   "metadata": {},
   "source": [
    "$$\n",
    "\\langle \\Phi^J_M|T^{\\lambda}_{\\mu}|\\Phi^{J'}_{M'}\\rangle\\equiv(-1)^{J-M}\\left(\\begin{array}{ccc}  J & \\lambda & J' \\\\ -M & \\mu & M'\\end{array}\\right)\\langle \\Phi^J||T^{\\lambda}||\\Phi^{J'}\\rangle,\n",
    "$$"
   ]
  },
  {
   "cell_type": "markdown",
   "metadata": {},
   "source": [
    "and one for the reduced matrix elements in terms of"
   ]
  },
  {
   "cell_type": "markdown",
   "metadata": {},
   "source": [
    "$$\n",
    "\\langle \\Phi^J||T^{\\lambda}||\\Phi^{J'}\\rangle\\equiv\\sum_{M,\\mu,M'}(-1)^{J-M}\\left(\\begin{array}{ccc}  J & \\lambda & J' \\\\ -M & \\mu & M'\\end{array}\\right)\\langle \\Phi^J_M|T^{\\lambda}_{\\mu}|\\Phi^{J'}_{M'}\\rangle.\n",
    "$$"
   ]
  },
  {
   "cell_type": "markdown",
   "metadata": {},
   "source": [
    "## Why the Wigner-Eckart theorem?\n",
    "Unless we have observables which depend on the magnetic quantum numbers, the degeneracy \n",
    "given by these quantum numbers is not seen experimentally. \n",
    "The typical situation when we perform shell-model calculations is that the results depend on the magnetic quantum numbers. The reason for this is that it is easy to implement the Pauli principle for many particles when we work in what we dubbed for $m$-scheme.\n",
    "\n",
    "A resulting state in a shell-model calculations will thus depend on the total value of $M$ defined as"
   ]
  },
  {
   "cell_type": "markdown",
   "metadata": {},
   "source": [
    "$$\n",
    "M=\\sum_{i=1}^{A}m_{j_i}.\n",
    "$$"
   ]
  },
  {
   "cell_type": "markdown",
   "metadata": {},
   "source": [
    "A shell model many-body state is given by a linear combination of Slater determinants $\\vert \\Phi_i\\rangle$. That is, for some conserved quantum numbers $\\lambda$  we have"
   ]
  },
  {
   "cell_type": "markdown",
   "metadata": {},
   "source": [
    "$$\n",
    "\\vert Psi_{\\lambda}\\rangle = \\sum_{i} C_i \\vert \\Phi_i\\rangle,\n",
    "$$"
   ]
  },
  {
   "cell_type": "markdown",
   "metadata": {},
   "source": [
    "where the coefficients are the overlaps between the many-body basis sets $\\Psi$ and $\\Phi$ and are the resulting eigenvectors from the shell-model calculations.\n",
    "\n",
    "\n",
    "\n",
    "\n",
    "## Why the Wigner-Eckart theorem, representing a shell-model state\n",
    "In second quantization, our ansatz for a state like the ground state is"
   ]
  },
  {
   "cell_type": "markdown",
   "metadata": {},
   "source": [
    "$$\n",
    "\\vert \\Phi_0\\rangle = \\left(\\prod_{i\\le F}\\hat{a}_{i}^{\\dagger}\\right)|0\\rangle,\n",
    "$$"
   ]
  },
  {
   "cell_type": "markdown",
   "metadata": {},
   "source": [
    "where the index $i$ defines different single-particle states up to the Fermi level. We have assumed that we have $N$ fermions.\n",
    "A given one-particle-one-hole ($1p1h$) state can be written as"
   ]
  },
  {
   "cell_type": "markdown",
   "metadata": {},
   "source": [
    "$$\n",
    "|\\Phi_i^a\\rangle = \\hat{a}_{a}^{\\dagger}\\hat{a}_i|\\Phi_0\\rangle,\n",
    "$$"
   ]
  },
  {
   "cell_type": "markdown",
   "metadata": {},
   "source": [
    "while a $2p2h$ state can be written as"
   ]
  },
  {
   "cell_type": "markdown",
   "metadata": {},
   "source": [
    "$$\n",
    "|\\Phi_{ij}^{ab}\\rangle = \\hat{a}_{a}^{\\dagger}\\hat{a}_{b}^{\\dagger}\\hat{a}_j\\hat{a}_i|\\Phi_0\\rangle,\n",
    "$$"
   ]
  },
  {
   "cell_type": "markdown",
   "metadata": {},
   "source": [
    "and a general $NpNh$ state as"
   ]
  },
  {
   "cell_type": "markdown",
   "metadata": {},
   "source": [
    "$$\n",
    "|\\Phi_{ijk\\dots}^{abc\\dots}\\rangle = \\hat{a}_{a}^{\\dagger}\\hat{a}_{b}^{\\dagger}\\hat{a}_{c}^{\\dagger}\\dots\\hat{a}_k\\hat{a}_j\\hat{a}_i|\\Phi_0\\rangle.\n",
    "$$"
   ]
  },
  {
   "cell_type": "markdown",
   "metadata": {},
   "source": [
    "## Representing a shell-model state\n",
    "A general shell-model many-body state"
   ]
  },
  {
   "cell_type": "markdown",
   "metadata": {},
   "source": [
    "$$\n",
    "\\vert Psi_{\\gamma}\\rangle = \\sum_{i} C_i \\vert \\Phi_i\\rangle,\n",
    "$$"
   ]
  },
  {
   "cell_type": "markdown",
   "metadata": {},
   "source": [
    "can be expanded as"
   ]
  },
  {
   "cell_type": "markdown",
   "metadata": {},
   "source": [
    "$$\n",
    "|\\Psi_{\\gamma}\\rangle=C_0|\\Phi_0\\rangle+\\sum_{ai}C_i^a|\\Phi_i^a\\rangle+\\sum_{abij}C_{ij}^{ab}|\\Phi_{ij}^{ab}\\rangle+\\dots.\n",
    "$$"
   ]
  },
  {
   "cell_type": "markdown",
   "metadata": {},
   "source": [
    "## Representing a shell-model state and one-body operators\n",
    "A one-body operator represented by a spherical tensor of rank $\\lambda$ is given as"
   ]
  },
  {
   "cell_type": "markdown",
   "metadata": {},
   "source": [
    "$$\n",
    "O_{\\mu}^{\\lambda} = \\sum_{pq} \\langle p \\vert O_{\\mu}^{\\lambda} \\vert q \\rangle a^{\\dagger}_pa_q,\n",
    "$$"
   ]
  },
  {
   "cell_type": "markdown",
   "metadata": {},
   "source": [
    "meaning that when we compute a transition amplitude"
   ]
  },
  {
   "cell_type": "markdown",
   "metadata": {},
   "source": [
    "$$\n",
    "\\langle \\Psi_{\\delta} \\vert   O_{\\mu}^{\\lambda}  \\vert \\Psi_{\\gamma} \\rangle = \\sum_{ij} C^{*}_{\\delta i} C_{\\gamma j}  \\langle \\Phi_i \\vert O_{\\mu}^{\\lambda} \\vert \\Phi_j\\rangle,\n",
    "$$"
   ]
  },
  {
   "cell_type": "markdown",
   "metadata": {},
   "source": [
    "we need to compute"
   ]
  },
  {
   "cell_type": "markdown",
   "metadata": {},
   "source": [
    "$$\n",
    "\\langle \\Phi_i \\vert O_{\\mu}^{\\lambda} \\vert \\Phi_j\\rangle.\n",
    "$$"
   ]
  },
  {
   "cell_type": "markdown",
   "metadata": {},
   "source": [
    "## Rewriting the transition amplitude\n",
    "We want to rewrite"
   ]
  },
  {
   "cell_type": "markdown",
   "metadata": {},
   "source": [
    "$$\n",
    "\\langle \\Phi_i \\vert O_{\\mu}^{\\lambda} \\vert \\Phi_j\\rangle,\n",
    "$$"
   ]
  },
  {
   "cell_type": "markdown",
   "metadata": {},
   "source": [
    "in terms of the reduced matrix element only. \n",
    "Let us introduce the relevant quantum numbers for the states $\\Phi_i$ and $\\Phi_j$. We include only the relevant ones. We have then in $m$-scheme"
   ]
  },
  {
   "cell_type": "markdown",
   "metadata": {},
   "source": [
    "$$\n",
    "\\langle \\Phi_i \\vert O_{\\mu}^{\\lambda} \\vert \\Phi_j\\rangle = \\sum_{pq} \\langle p \\vert O_{\\mu}^{\\lambda} \\vert q \\rangle \\langle \\Phi_{M}^{J} \\vert a^{\\dagger}_pa_q \\vert \\Phi_{M'}^{J'}\\rangle.\n",
    "$$"
   ]
  },
  {
   "cell_type": "markdown",
   "metadata": {},
   "source": [
    "With a shell-model $m$-scheme basis it is straightforward to compute these amplitudes. \n",
    "However, as mentioned above, if we wish to related these elements to experiment, we need to use the Wigner-Eckart theorem and express the amplitudes in terms of reduced matrix elements.\n",
    "\n",
    "\n",
    "\n",
    "## Rewriting the transition amplitude, first step\n",
    "We can rewrite the above transition amplitude using the Wigner-Eckart theorem. Our first step\n",
    "is to rewrite the one-body operator in terms of reduced matrix elements. Since the operator is a spherical tensor we need that the annihilation operator is rewritten as (where $q$ represents $j_q$, $m_q$ etc)"
   ]
  },
  {
   "cell_type": "markdown",
   "metadata": {},
   "source": [
    "$$\n",
    "\\tilde{a}_q=\\left(-1\\right)^{j_q-m_q}a_{j_q,m_q}.\n",
    "$$"
   ]
  },
  {
   "cell_type": "markdown",
   "metadata": {},
   "source": [
    "The operator"
   ]
  },
  {
   "cell_type": "markdown",
   "metadata": {},
   "source": [
    "$$\n",
    "O_{\\mu}^{\\lambda} = \\sum_{pq} \\langle p \\vert O_{\\mu}^{\\lambda} \\vert q \\rangle a^{\\dagger}_pa_q,\n",
    "$$"
   ]
  },
  {
   "cell_type": "markdown",
   "metadata": {},
   "source": [
    "is rewritten using the Wigner-Eckart theorem as"
   ]
  },
  {
   "cell_type": "markdown",
   "metadata": {},
   "source": [
    "$$\n",
    "O_{\\mu}^{\\lambda} = \\sum_{pq} \\langle p \\vert \\vert O^{\\lambda}\\vert \\vert q \\rangle (-1)^{j_p-m_p}\\left(\\begin{array}{ccc}  j_p & \\lambda & j_q \\\\ -m_p & \\mu & m_q\\end{array}\\right)a^{\\dagger}_pa_q.\n",
    "$$"
   ]
  },
  {
   "cell_type": "markdown",
   "metadata": {},
   "source": [
    "## Rewriting the transition amplitude, second step\n",
    "We have"
   ]
  },
  {
   "cell_type": "markdown",
   "metadata": {},
   "source": [
    "$$\n",
    "O_{\\mu}^{\\lambda} = \\sum_{pq} \\langle p \\vert \\vert O^{\\lambda}\\vert \\vert q \\rangle (-1)^{j_p-m_p}\\left(\\begin{array}{ccc}  j_p & \\lambda & j_q \\\\ -m_p & \\mu & m_q\\end{array}\\right)a^{\\dagger}_pa_q.\n",
    "$$"
   ]
  },
  {
   "cell_type": "markdown",
   "metadata": {},
   "source": [
    "We then single out the sum over $m_p$ and $m_q$ only and define the recoupled one-body part of the operator as"
   ]
  },
  {
   "cell_type": "markdown",
   "metadata": {},
   "source": [
    "$$\n",
    "\\lambda^{-1}\\left[ a_{j_p}^{\\dagger}\\tilde{a}_{j_q}\\right]^{\\lambda}_{\\mu} = \\sum_{m_p,m_q} (-1)^{j_p-m_p}\\left(\\begin{array}{ccc}  j_p & \\lambda & j_q \\\\ -m_p & \\mu & m_q\\end{array}\\right)a^{\\dagger}_pa_q,\n",
    "$$"
   ]
  },
  {
   "cell_type": "markdown",
   "metadata": {},
   "source": [
    "with $\\lambda=\\sqrt{2\\lambda+1}$.\n",
    "This gives the following expression for the one-body operator"
   ]
  },
  {
   "cell_type": "markdown",
   "metadata": {},
   "source": [
    "$$\n",
    "O_{\\mu}^{\\lambda} = \\sum_{j_pj_q} \\langle p \\vert \\vert O^{\\lambda}\\vert \\vert q \\rangle \\lambda^{-1}\\left[ a_{j_p}^{\\dagger}\\tilde{a}_{j_q}\\right]^{\\lambda}_{\\mu}.\n",
    "$$"
   ]
  },
  {
   "cell_type": "markdown",
   "metadata": {},
   "source": [
    "## Rewriting the transition amplitude, third step\n",
    "With"
   ]
  },
  {
   "cell_type": "markdown",
   "metadata": {},
   "source": [
    "$$\n",
    "O_{\\mu}^{\\lambda} = \\sum_{j_pj_q} \\langle p \\vert \\vert O^{\\lambda}\\vert \\vert q \\rangle \\lambda^{-1}\\left[ a_{j_p}^{\\dagger}\\tilde{a}_{j_q}\\right]^{\\lambda}_{\\mu},\n",
    "$$"
   ]
  },
  {
   "cell_type": "markdown",
   "metadata": {},
   "source": [
    "we can write"
   ]
  },
  {
   "cell_type": "markdown",
   "metadata": {},
   "source": [
    "$$\n",
    "\\langle \\Phi^J_M|O^{\\lambda}_{\\mu}|\\Phi^{J'}_{M'}\\rangle = \\sum_{pq} \\langle p \\vert O_{\\mu}^{\\lambda} \\vert q \\rangle \\langle \\Phi_{M}^{J} \\vert a^{\\dagger}_pa_q \\vert \\Phi_{M'}^{J'}\\rangle,\n",
    "$$"
   ]
  },
  {
   "cell_type": "markdown",
   "metadata": {},
   "source": [
    "as"
   ]
  },
  {
   "cell_type": "markdown",
   "metadata": {},
   "source": [
    "$$\n",
    "\\langle \\Phi^J_M|O^{\\lambda}_{\\mu}|\\Phi^{J'}_{M'}\\rangle = \\sum_{j_pj_q} \\langle p \\vert \\vert O^{\\lambda} \\vert\\vert q \\rangle \\langle \\Phi_{M}^{J}\\vert \\lambda^{-1}\\left[ a_{j_p}^{\\dagger}\\tilde{a}_{j_q}\\right]^{\\lambda}_{\\mu}  \\vert \\Phi_{M'}^{J'}\\rangle.\n",
    "$$"
   ]
  },
  {
   "cell_type": "markdown",
   "metadata": {},
   "source": [
    "We have suppressed the summation over quantum numbers like $n_p,n_q$ etc.\n",
    "\n",
    "\n",
    "\n",
    "\n",
    "## Rewriting the transition amplitude, final step\n",
    "Using the Wigner-Eckart theorem"
   ]
  },
  {
   "cell_type": "markdown",
   "metadata": {},
   "source": [
    "$$\n",
    "\\langle \\Phi^J_M|O^{\\lambda}_{\\mu}|\\Phi^{J'}_{M'}\\rangle\\equiv(-1)^{J-M}\\left(\\begin{array}{ccc}  J & \\lambda & J' \\\\ -M & \\mu & M'\\end{array}\\right)\\langle \\Phi^J||O^{\\lambda}||\\Phi^{J'}\\rangle,\n",
    "$$"
   ]
  },
  {
   "cell_type": "markdown",
   "metadata": {},
   "source": [
    "we can then define"
   ]
  },
  {
   "cell_type": "markdown",
   "metadata": {},
   "source": [
    "$$\n",
    "\\langle \\Phi^J||O^{\\lambda}||\\Phi^{J'}\\rangle = \\lambda^{-1}\\sum_{j_pj_q} \\langle p \\vert \\vert O^{\\lambda} \\vert\\vert q \\rangle \\langle \\Phi_{M}^{J}\\vert\\vert \\left[ a_{j_p}^{\\dagger}\\tilde{a}_{j_q}\\right]^{\\lambda}\\vert  \\vert \\Phi_{M'}^{J'}\\rangle.\n",
    "$$"
   ]
  },
  {
   "cell_type": "markdown",
   "metadata": {},
   "source": [
    "The quantity to the left in the last equation is normally called the transition amplitude or in case of a decay process, simply the decay amplitude.  The quantity \n",
    "$\\langle \\Phi_{M}^{J}\\vert \\lambda^{-1}\\left[ a_{j_p}^{\\dagger}\\tilde{a}_{j_q}\\right]^{\\lambda}_{\\mu}  \\vert \\Phi_{M'}^{J'}\\rangle$ is called the one-body transition density while the corresponding reduced one is simply called the reduced one-body transition density. \n",
    "The transition densities characterize the many-nucleon\n",
    "properties of the initial  and final states. They do not\n",
    "carry information about the transition operator beyond its one-body character. \n",
    "Finally, note that in a shell-model calculation it is actually $\\langle \\Phi^J_M|O^{\\lambda}_{\\mu}|\\Phi^{J'}_{M'}\\rangle$ which is calculated.\n",
    "\n",
    "\n",
    "\n",
    "\n",
    "\n",
    "\n",
    "\n",
    "## Electromagnetic multipole moments and transitions\n",
    "The reduced\n",
    "transition probability $B$ is defined in terms of reduced matrix\n",
    "elements of a one-body operator by"
   ]
  },
  {
   "cell_type": "markdown",
   "metadata": {},
   "source": [
    "$$\n",
    "B(i \\rightarrow f)= \\frac{\\langle J_{f}||{\\cal O}(\\lambda )||J_{i}\\rangle^{2}}{(2J_{i}+1)}.\n",
    "$$"
   ]
  },
  {
   "cell_type": "markdown",
   "metadata": {},
   "source": [
    "With our definition of the reduced matrix element,"
   ]
  },
  {
   "cell_type": "markdown",
   "metadata": {},
   "source": [
    "$$\n",
    "\\langle J_{f}||{\\cal O}(\\lambda )||J_{i}\\rangle^{2} =\\langle J_{i}||{\\cal O}(\\lambda )||J_{f}\\rangle^{2},\n",
    "$$"
   ]
  },
  {
   "cell_type": "markdown",
   "metadata": {},
   "source": [
    "the transition probability $B$ depends upon the direction of the transition by the factor\n",
    "of $(2J_{i}+1)$. For electromagnetic\n",
    "transitions $J_{i}$ is that for the higher-energy initial state. But in\n",
    "Coulomb excitation the initial state is usually\n",
    "taken as the ground state, and it is normal to use the notation $B(\\uparrow)$ for transitions from the ground state.\n",
    "\n",
    "\n",
    "\n",
    "## Electromagnetic multipole moments and transitions\n",
    "The one-body operators ${\\cal O}(\\lambda)$ represent a sum over\n",
    "the operators for the individual nucleon degrees of freedom  $i$"
   ]
  },
  {
   "cell_type": "markdown",
   "metadata": {},
   "source": [
    "$$\n",
    "{\\cal O}(\\lambda ) = \\sum_{i} O(\\lambda ,i).\n",
    "$$"
   ]
  },
  {
   "cell_type": "markdown",
   "metadata": {},
   "source": [
    "The electric transition operator is given by"
   ]
  },
  {
   "cell_type": "markdown",
   "metadata": {},
   "source": [
    "$$\n",
    "O(E\\lambda ) = r^{\\lambda } \\; Y^{\\lambda }_{\\mu }(\\hat{r}) \\; e_{q} e,\n",
    "$$"
   ]
  },
  {
   "cell_type": "markdown",
   "metadata": {},
   "source": [
    "were $Y^{\\lambda }_{\\mu }$ are the spherical harmonics\n",
    "and $q$ stands for proton $q=p$ or neutron $q=n$.\n",
    "\n",
    "\n",
    "\n",
    "\n",
    "## Electromagnetic multipole moments and transitions\n",
    "Gamma transitions\n",
    "with $\\lambda=0$ are forbidden because the photon must carry off\n",
    "at least one unit of angular momentum. The $e_{q}$\n",
    "are the electric charges for the proton and neutron in units of $e$.\n",
    "For the free-nucleon\n",
    "charge we would take $e_{p}=1$ and $e_{n}=0$, for the\n",
    "proton and neutron, respectively.\n",
    "Although the bare operator acts upon the protons,\n",
    "we will keep the general expression in terms of $e_{q}$ in order\n",
    "to incorporate the **effective charges** for the proton and\n",
    "neutron, which represent the center-of-mass corrections and the\n",
    "average effects of the renormalization from wavefunction\n",
    "admixtures outside the model space.\n",
    "\n",
    "\n",
    "\n",
    "## Electromagnetic multipole moments and transitions\n",
    "The magnetic transition operator is given by:"
   ]
  },
  {
   "cell_type": "markdown",
   "metadata": {},
   "source": [
    "3\n",
    "0\n",
    " \n",
    "<\n",
    "<\n",
    "<\n",
    "!\n",
    "!\n",
    "M\n",
    "A\n",
    "T\n",
    "H\n",
    "_\n",
    "B\n",
    "L\n",
    "O\n",
    "C\n",
    "K"
   ]
  },
  {
   "cell_type": "markdown",
   "metadata": {},
   "source": [
    "$$\n",
    "= \\sqrt{\\lambda (2\\lambda +1)}\\left[[Y^{\\lambda -1}(\\hat{r})\\otimes \\mathbf{l}\\,]^{\\lambda }_{\\mu }\\frac{2g^{l}_{q}}{(\\lambda +1)}\n",
    "+ [Y^{\\lambda -1}(\\hat{r})\\otimes \\mathbf{s}\\,]^{\\lambda }_{\\mu }g^{s}_{q}\\right]r^{\\lambda -1}\\mu _{N},\n",
    "$$"
   ]
  },
  {
   "cell_type": "markdown",
   "metadata": {},
   "source": [
    "where $\\mu_{N}$ is the nuclear magneton,"
   ]
  },
  {
   "cell_type": "markdown",
   "metadata": {},
   "source": [
    "$$\n",
    "\\mu _{N}=\\frac{e\\hbar }{2m_{p}c} = 0.105 \\; e {\\rm fm},\n",
    "$$"
   ]
  },
  {
   "cell_type": "markdown",
   "metadata": {},
   "source": [
    "and where $m_{p}$ is the mass of the proton.\n",
    "\n",
    "\n",
    "\n",
    "## Electromagnetic multipole moments and transitions\n",
    "The g-factors $g^{l}_{q}$ and $g^{s}_{q}$\n",
    "are the orbital and spin g-factors\n",
    "for the proton and neutron, respectively.\n",
    "The\n",
    "free-nucleon values for the g-factors are $g^{l}_{p}=1$, $g^{l}_{n}=0$,\n",
    "$g^{s}_{p}=5.586$ and $g^{s}_{n}=-3.826$. We may use effective values\n",
    "for these g-factors to take into account the truncation of the model\n",
    "space.\n",
    "\n",
    "\n",
    "\n",
    "## Electromagnetic multipole moments and transitions\n",
    "The most common types of transitions are $E1$, $E2$ and $M1$.\n",
    "The $E1$ transition operator is given by $\\lambda=1$"
   ]
  },
  {
   "cell_type": "markdown",
   "metadata": {},
   "source": [
    "$$\n",
    "O(E1) = rY^{(1)}_{\\mu }(\\hat{r})e_{q} e= \\sqrt{\\frac{3}{4\\pi }}\\mathbf{r}e_{q} e.\n",
    "$$"
   ]
  },
  {
   "cell_type": "markdown",
   "metadata": {},
   "source": [
    "The $E2$ transition operator with $\\lambda=2$"
   ]
  },
  {
   "cell_type": "markdown",
   "metadata": {},
   "source": [
    "$$\n",
    "O(E2) = r^{2}Y^{(2)}_{\\mu }(\\hat{r})e_{q} e,\n",
    "$$"
   ]
  },
  {
   "cell_type": "markdown",
   "metadata": {},
   "source": [
    "## Electromagnetic multipole moments and transitions\n",
    "The $M1$ transition operator with $\\lambda=1$ and with"
   ]
  },
  {
   "cell_type": "markdown",
   "metadata": {},
   "source": [
    "$$\n",
    "Y^{0}=1/\\sqrt{4\\pi },\n",
    "$$"
   ]
  },
  {
   "cell_type": "markdown",
   "metadata": {},
   "source": [
    "we have"
   ]
  },
  {
   "cell_type": "markdown",
   "metadata": {},
   "source": [
    "$$\n",
    "O(M1)=\\sqrt{\\frac{3}{4\\pi }}[\\mathbf{l}g^{l }_{q}+\\mathbf{s} \\; g^{s}_{q}]\\mu _{N}.\n",
    "$$"
   ]
  },
  {
   "cell_type": "markdown",
   "metadata": {},
   "source": [
    "## Electromagnetic multipole moments and transitions\n",
    "The selection rules are given by the triangle condition for the\n",
    "angular momenta, $\\Delta(J_{i},J_{f},\\lambda)$. \n",
    "\n",
    "The electromagnetic\n",
    "interaction conserves parity, and the elements of the\n",
    "operators for $E\\lambda$ and $M\\lambda$\n",
    "can be classified according to their transformation under parity\n",
    "change"
   ]
  },
  {
   "cell_type": "markdown",
   "metadata": {},
   "source": [
    "$$\n",
    "\\hat{P}\\hat{O}\\hat{P}^{-1}=\\pi_{O}\\hat{O},\n",
    "$$"
   ]
  },
  {
   "cell_type": "markdown",
   "metadata": {},
   "source": [
    "where we have $\\pi _{O}=(-1)^{\\lambda }$ for $Y^{\\lambda }$,\n",
    "$\\pi _{O}=-1$ for the vectors\n",
    "$\\mathbf{r}$, $\\mathbf{\\nabla}$ and $\\mathbf{p}$, and $\\pi _{O}=+1$ for the \n",
    "pseudo vectors\n",
    "$\\mathbf{l}=\\mathbf{r}\\times\\mathbf{p}$ and $\\mathbf{\\sigma}$. For a given matrix element we have:"
   ]
  },
  {
   "cell_type": "markdown",
   "metadata": {},
   "source": [
    "$$\n",
    "\\langle\\Psi _{f}\\vert {\\cal O}\\vert \\Psi _{i}\\rangle =\\langle\\Psi _{f}\\vert P^{-1}P{\\cal O}P^{-1}P\\vert \\Psi _{i}\\rangle=\\pi _{i}\\pi _{f}\\pi _{O} \\langle\\Psi _{f}\\vert {\\cal O}\\vert \\Psi _{i}\\rangle.\n",
    "$$"
   ]
  },
  {
   "cell_type": "markdown",
   "metadata": {},
   "source": [
    "The matrix element will vanish unless  $\\pi _{i}\\pi _{f}\\pi _{O}=+1$.\n",
    "\n",
    "\n",
    "\n",
    "## Electromagnetic multipole moments and transitions\n",
    "The transitions are divided into two classes, those\n",
    "which do not change parity change $\\pi _{i}\\pi _{f}=+1$ which go by the\n",
    "operators with $\\pi _{O}=+1$:"
   ]
  },
  {
   "cell_type": "markdown",
   "metadata": {},
   "source": [
    "$$\n",
    "\\pi _{i}\\pi _{f}=+1 \\; \\mathrm{for} \\; M1, E2, M3, E4 \\dots,\n",
    "$$"
   ]
  },
  {
   "cell_type": "markdown",
   "metadata": {},
   "source": [
    "and the ones which do change parity change $\\pi _{i}\\pi _{f}=-1$\n",
    "which go by the operators with $\\pi _{O}=-1$:"
   ]
  },
  {
   "cell_type": "markdown",
   "metadata": {},
   "source": [
    "$$\n",
    "\\pi _{i}\\pi _{f}=-1 \\; \\mathrm{for} \\; E1, M2, E3, M4 \\dots.\n",
    "$$"
   ]
  },
  {
   "cell_type": "markdown",
   "metadata": {},
   "source": [
    "## Electromagnetic multipole moments and transitions\n",
    "The \n",
    "electromagnetic moment operator can be expressed in terms of the\n",
    "electromagnetic transition operators.\n",
    "By the parity selection rule of the moments are nonzero\n",
    "only for $M1$, $E2$, $M3$, $E4,\\ldots$.\n",
    "The most common are:"
   ]
  },
  {
   "cell_type": "markdown",
   "metadata": {},
   "source": [
    "$$\n",
    "\\mu =\\sqrt{\\frac{4\\pi }{3}}\\langle J,M=J\\vert {\\cal O}(M1)\\vert J,M=J\\rangle= \\sqrt{\\frac{4\\pi }{3}}\\left\\{\\begin{array}{ccc} J & 1 &J \\\\  -J &  0 &  J \\end{array}\\right\\}\n",
    "\\langle J\\vert \\vert {\\cal O}(M1)\\vert \\vert J\\rangle,\n",
    "$$"
   ]
  },
  {
   "cell_type": "markdown",
   "metadata": {},
   "source": [
    "and"
   ]
  },
  {
   "cell_type": "markdown",
   "metadata": {},
   "source": [
    "$$\n",
    "Q = \\sqrt{\\frac{16\\pi }{5}}\\langle J,M=J\\vert {\\cal O}(E2)\\vert J,M=J\\rangle= \\sqrt{\\frac{16\\pi }{5}}\\,\n",
    "  \\left(\\begin{array}{ccc}  {J}&  {2} & {J}\\\\  {-J} & {0}&  {J}\\end{array}\\right)\\langle J\\vert\\vert {\\cal O}(E2)\\vert\\vert J\\rangle.\n",
    "$$"
   ]
  },
  {
   "cell_type": "markdown",
   "metadata": {},
   "source": [
    "## Electromagnetic multipole moments and transitions\n",
    "Electromagnetic transitions and moments depend upon the reduced nuclear\n",
    "matrix elements $\\langle f\\vert\\vert {\\cal O}(\\lambda )\\vert\\vert i\\rangle$. These can be expressed as a sum over one-body transition\n",
    "densities (OBTD) times single-particle matrix elements"
   ]
  },
  {
   "cell_type": "markdown",
   "metadata": {},
   "source": [
    "$$\n",
    "\\langle f\\vert\\vert {\\cal O}(\\lambda )\\vert\\vert i\\rangle\n",
    "=\\sum _{k_{\\alpha } k_{\\beta }}\\mathrm{OBTD}(f i k_{\\alpha } k_{\\beta } \\lambda )\n",
    " \\langle k_{\\alpha }\\vert\\vert O(\\lambda )\\vert\\vert k_{\\beta }\\rangle,\n",
    "$$"
   ]
  },
  {
   "cell_type": "markdown",
   "metadata": {},
   "source": [
    "where the OBTD is given by"
   ]
  },
  {
   "cell_type": "markdown",
   "metadata": {},
   "source": [
    "$$\n",
    "\\mathrm{OBTD}(f i k_{\\alpha} k_{\\beta}\\lambda)= \\frac{\\langle f\\vert\\vert [a^{+}_{k_{\\alpha }}\\otimes \\tilde{a}_{k_{\\beta }}]^{\\lambda }\\vert\\vert i\\rangle}{\\sqrt{(2\\lambda +1)}}.\n",
    "$$"
   ]
  },
  {
   "cell_type": "markdown",
   "metadata": {},
   "source": [
    "The labels $i$ and $f$ are a short-hand notation for the initial\n",
    "and final state quantum numbers $(n \\omega _{i}J_{i})$ and $(n\\omega_{f}J_{f})$,\n",
    "respectively. Thus the problem is divided into two parts, one\n",
    "involving the nuclear structure dependent one-body transition\n",
    "densities OBTD, and the other involving the reduced\n",
    "single-particle matrix\n",
    "elements (SPME).\n",
    "\n",
    "\n",
    "\n",
    "\n",
    "\n",
    "## Electromagnetic multipole moments and transitions\n",
    "The SPME for the $E\\lambda$ operator is given by"
   ]
  },
  {
   "cell_type": "markdown",
   "metadata": {},
   "source": [
    "4\n",
    "5\n",
    " \n",
    "<\n",
    "<\n",
    "<\n",
    "!\n",
    "!\n",
    "M\n",
    "A\n",
    "T\n",
    "H\n",
    "_\n",
    "B\n",
    "L\n",
    "O\n",
    "C\n",
    "K"
   ]
  },
  {
   "cell_type": "markdown",
   "metadata": {},
   "source": [
    "$$\n",
    "\\times\\sqrt{ {(2j_{a}+1)(2\\lambda +1)(2j_{b}+1)\\over4\\pi }}\\left(\\begin{array}{ccc}  {j_{a}}&  {\\lambda} &  {j_{b}}\\\\  {1/2} & {0}&  {-1/2}\\end{array}\\right)\\langle k_{a}\\vert r^{\\lambda }\\vert k_{b}\\rangle e_{q} e.\n",
    "$$"
   ]
  },
  {
   "cell_type": "markdown",
   "metadata": {},
   "source": [
    "## Electromagnetic multipole moments and transitions\n",
    "The SPME for the spin part of the magnetic operator is"
   ]
  },
  {
   "cell_type": "markdown",
   "metadata": {},
   "source": [
    "4\n",
    "7\n",
    " \n",
    "<\n",
    "<\n",
    "<\n",
    "!\n",
    "!\n",
    "M\n",
    "A\n",
    "T\n",
    "H\n",
    "_\n",
    "B\n",
    "L\n",
    "O\n",
    "C\n",
    "K"
   ]
  },
  {
   "cell_type": "markdown",
   "metadata": {},
   "source": [
    "4\n",
    "8\n",
    " \n",
    "<\n",
    "<\n",
    "<\n",
    "!\n",
    "!\n",
    "M\n",
    "A\n",
    "T\n",
    "H\n",
    "_\n",
    "B\n",
    "L\n",
    "O\n",
    "C\n",
    "K"
   ]
  },
  {
   "cell_type": "markdown",
   "metadata": {},
   "source": [
    "4\n",
    "9\n",
    " \n",
    "<\n",
    "<\n",
    "<\n",
    "!\n",
    "!\n",
    "M\n",
    "A\n",
    "T\n",
    "H\n",
    "_\n",
    "B\n",
    "L\n",
    "O\n",
    "C\n",
    "K"
   ]
  },
  {
   "cell_type": "markdown",
   "metadata": {},
   "source": [
    "$$\n",
    "\\times \\langle l _{a}\\vert\\vert Y^{\\lambda -1}(\\hat{r})\\vert\\vert l _{b}\\rangle\\langle\\vert\\vert \\mathbf{s}\\vert\\vert s\\rangle\\langle k_{a}\\vert r^{\\lambda -1}\\vert k_{b}\\rangle g^{s}_{q}\\mu _{N},\n",
    "$$"
   ]
  },
  {
   "cell_type": "markdown",
   "metadata": {},
   "source": [
    "where"
   ]
  },
  {
   "cell_type": "markdown",
   "metadata": {},
   "source": [
    "$$\n",
    "\\langle\\vert\\vert \\mathbf{s}\\vert\\vert s\\rangle = \\sqrt{3/2}.\n",
    "$$"
   ]
  },
  {
   "cell_type": "markdown",
   "metadata": {},
   "source": [
    "## Electromagnetic multipole moments and transitions\n",
    "The SPME for the orbital part of the magnetic operator is:"
   ]
  },
  {
   "cell_type": "markdown",
   "metadata": {},
   "source": [
    "5\n",
    "2\n",
    " \n",
    "<\n",
    "<\n",
    "<\n",
    "!\n",
    "!\n",
    "M\n",
    "A\n",
    "T\n",
    "H\n",
    "_\n",
    "B\n",
    "L\n",
    "O\n",
    "C\n",
    "K"
   ]
  },
  {
   "cell_type": "markdown",
   "metadata": {},
   "source": [
    "5\n",
    "3\n",
    " \n",
    "<\n",
    "<\n",
    "<\n",
    "!\n",
    "!\n",
    "M\n",
    "A\n",
    "T\n",
    "H\n",
    "_\n",
    "B\n",
    "L\n",
    "O\n",
    "C\n",
    "K"
   ]
  },
  {
   "cell_type": "markdown",
   "metadata": {},
   "source": [
    "5\n",
    "4\n",
    " \n",
    "<\n",
    "<\n",
    "<\n",
    "!\n",
    "!\n",
    "M\n",
    "A\n",
    "T\n",
    "H\n",
    "_\n",
    "B\n",
    "L\n",
    "O\n",
    "C\n",
    "K"
   ]
  },
  {
   "cell_type": "markdown",
   "metadata": {},
   "source": [
    "$$\n",
    "\\times\\left\\{\\begin{array}{ccc}  {l _{a}} &  {l _{b}} & {\\lambda} \\\\  {j_{b}}&  {j_{a}}&  {1/2}\\end{array}\\right\\}\n",
    "\\langle l _{a}\\vert\\vert [Y^{\\lambda -1}(\\hat{r})\\otimes\\mathbf{l}\\,]^{\\lambda }\\vert\\vert l _{b}\\rangle\n",
    "\\langle k_{a}\\vert r^{\\lambda -1}\\vert k_{b}\\rangle g^{l }_{q}\\mu _{N},\n",
    "$$"
   ]
  },
  {
   "cell_type": "markdown",
   "metadata": {},
   "source": [
    "## Electromagnetic multipole moments and transitions\n",
    "where we have defined"
   ]
  },
  {
   "cell_type": "markdown",
   "metadata": {},
   "source": [
    "5\n",
    "6\n",
    " \n",
    "<\n",
    "<\n",
    "<\n",
    "!\n",
    "!\n",
    "M\n",
    "A\n",
    "T\n",
    "H\n",
    "_\n",
    "B\n",
    "L\n",
    "O\n",
    "C\n",
    "K"
   ]
  },
  {
   "cell_type": "markdown",
   "metadata": {},
   "source": [
    "$$\n",
    "\\times\\left\\{\\begin{array}{ccc}  {\\lambda -1} & {1}&  {\\lambda}\\\\   {l _{b}}&  {l _{a}} &  {l _{b}} \\end{array}\\right\\}\n",
    "\\langle l _{a}\\vert\\vert Y^{\\lambda -1}(\\hat{r})\\vert\\vert l _{b}\\rangle,\n",
    "$$"
   ]
  },
  {
   "cell_type": "markdown",
   "metadata": {},
   "source": [
    "with"
   ]
  },
  {
   "cell_type": "markdown",
   "metadata": {},
   "source": [
    "$$\n",
    "\\langle l _{a}\\vert\\vert Y^{\\lambda -1}(\\hat{r})\\vert\\vert l _{b}\\rangle=(-1)^{l _{a}} \\sqrt{\\frac{(2l _{a}+1)(2l _{b}+1)(2\\lambda -1)}{4\\pi }}\\left(\\begin{array}{ccc}  {l _{a}} & {\\lambda -1} & {l _{b}}\\\\  {0} & {0}&  {0}\\end{array}\\right)\n",
    ".\n",
    "$$"
   ]
  },
  {
   "cell_type": "markdown",
   "metadata": {},
   "source": [
    "## Electromagnetic multipole moments and transitions\n",
    "For the $M1$ operator the radial matrix element is"
   ]
  },
  {
   "cell_type": "markdown",
   "metadata": {},
   "source": [
    "$$\n",
    "<k_{a}\\vert r^{0}\\vert k_{b}>\\, = \\delta _{n_{a},n_{b}},\n",
    "$$"
   ]
  },
  {
   "cell_type": "markdown",
   "metadata": {},
   "source": [
    "and the SPME simplify to:"
   ]
  },
  {
   "cell_type": "markdown",
   "metadata": {},
   "source": [
    "6\n",
    "0\n",
    " \n",
    "<\n",
    "<\n",
    "<\n",
    "!\n",
    "!\n",
    "M\n",
    "A\n",
    "T\n",
    "H\n",
    "_\n",
    "B\n",
    "L\n",
    "O\n",
    "C\n",
    "K"
   ]
  },
  {
   "cell_type": "markdown",
   "metadata": {},
   "source": [
    "6\n",
    "1\n",
    " \n",
    "<\n",
    "<\n",
    "<\n",
    "!\n",
    "!\n",
    "M\n",
    "A\n",
    "T\n",
    "H\n",
    "_\n",
    "B\n",
    "L\n",
    "O\n",
    "C\n",
    "K"
   ]
  },
  {
   "cell_type": "markdown",
   "metadata": {},
   "source": [
    "$$\n",
    "\\times\\langle s\\vert\\vert \\mathbf{s}\\vert\\vert s\\rangle \\delta _{l _{a},l _{b}} \\delta _{n_{a},n_{b}}g^{s}_{q}\\mu _{N},\n",
    "$$"
   ]
  },
  {
   "cell_type": "markdown",
   "metadata": {},
   "source": [
    "## Electromagnetic multipole moments and transitions\n",
    "where we have"
   ]
  },
  {
   "cell_type": "markdown",
   "metadata": {},
   "source": [
    "$$\n",
    "<s\\vert\\vert \\mathbf{s}\\,\\vert\\vert s>\\, = \\sqrt{3/2}\\, ,\n",
    "$$"
   ]
  },
  {
   "cell_type": "markdown",
   "metadata": {},
   "source": [
    "and"
   ]
  },
  {
   "cell_type": "markdown",
   "metadata": {},
   "source": [
    "6\n",
    "4\n",
    " \n",
    "<\n",
    "<\n",
    "<\n",
    "!\n",
    "!\n",
    "M\n",
    "A\n",
    "T\n",
    "H\n",
    "_\n",
    "B\n",
    "L\n",
    "O\n",
    "C\n",
    "K"
   ]
  },
  {
   "cell_type": "markdown",
   "metadata": {},
   "source": [
    "6\n",
    "5\n",
    " \n",
    "<\n",
    "<\n",
    "<\n",
    "!\n",
    "!\n",
    "M\n",
    "A\n",
    "T\n",
    "H\n",
    "_\n",
    "B\n",
    "L\n",
    "O\n",
    "C\n",
    "K"
   ]
  },
  {
   "cell_type": "markdown",
   "metadata": {},
   "source": [
    "$$\n",
    "\\times\\langle l _{a}\\vert\\vert \\mathbf{l}\\,\\vert\\vert l _{b}\\rangle \\delta _{n_{a},n_{b}}g^{l }_{q}\\mu _{N} ,\n",
    "$$"
   ]
  },
  {
   "cell_type": "markdown",
   "metadata": {},
   "source": [
    "where"
   ]
  },
  {
   "cell_type": "markdown",
   "metadata": {},
   "source": [
    "$$\n",
    "\\langle l _{a}\\vert\\vert \\mathbf{l}\\,\\vert\\vert l _{b}\\rangle = \\delta _{l _{a},l _{b}} \\sqrt{l _{a}(l_{a}+1)(2l _{a}+1)}.\n",
    "$$"
   ]
  },
  {
   "cell_type": "markdown",
   "metadata": {},
   "source": [
    "Thus the $M1$ operator connects only\n",
    "those orbitals which have the same $n$ and $l$ values.\n",
    "\n",
    "\n",
    "\n",
    "\n",
    "## $\\beta$-decay\n",
    "We will now focus on  allowed $\\beta$-decay.  \n",
    "Suhonen's chapter 7 and Alex Brown's chapter 29 cover much of the material to be discussed on $\\beta$-decay.\n",
    "\n",
    "\n",
    "\n",
    "## $\\beta$-decay\n",
    "The allowed beta decay rate $W$ between a specific set of\n",
    "initial and final states is given by"
   ]
  },
  {
   "cell_type": "markdown",
   "metadata": {},
   "source": [
    "$$\n",
    "W_{i,f} = (f/K_{o}) \\left[ g_{V}^{2} \\; B_{i,f}(F_{\\pm})+ g_{A}^{2}B_{i,f}(GT_{\\pm})\\right],\n",
    "$$"
   ]
  },
  {
   "cell_type": "markdown",
   "metadata": {},
   "source": [
    "where $f$ is dimensionless three-body\n",
    "phase-space factor which depends upon the\n",
    "beta-decay $Q$ value,\n",
    "and $K_{o}$ is a specific combination of fundamental constants"
   ]
  },
  {
   "cell_type": "markdown",
   "metadata": {},
   "source": [
    "$$\n",
    "K_{o}=\\frac{2\\pi^{3}\\hbar^{7}}{ m_{e}^{5} c^{4}}= 1.8844 \\times 10^{-94}\\mathrm{erg}^{2}\\mathrm{cm}^{6}\\mathrm{s}.\n",
    "$$"
   ]
  },
  {
   "cell_type": "markdown",
   "metadata": {},
   "source": [
    "The $\\pm$ signrefer to $\\beta_{\\pm}$ decay of nucleus\n",
    "$(A_{i},Z_{i})$ into nucleus $(A_{i},Z_{i} \\mp 1)  $.\n",
    "The weak-interaction vector ($V$) and axial-vector ($A$) coupling\n",
    "constants for the decay of neutron into a proton are denoted by $g_{V}$\n",
    "and $g_{A}$, respectively.\n",
    "\n",
    "\n",
    "\n",
    "## $\\beta$-decay\n",
    "The total decay rate for a given\n",
    "initial state is obtained by summing the partial rates over all\n",
    "final states"
   ]
  },
  {
   "cell_type": "markdown",
   "metadata": {},
   "source": [
    "$$\n",
    "W = \\displaystyle\\sum _{f} W_{if},\n",
    "$$"
   ]
  },
  {
   "cell_type": "markdown",
   "metadata": {},
   "source": [
    "with the branching fraction to a specific final state given by"
   ]
  },
  {
   "cell_type": "markdown",
   "metadata": {},
   "source": [
    "$$\n",
    "b_{if} = \\frac{W_{if}}{W}.\n",
    "$$"
   ]
  },
  {
   "cell_type": "markdown",
   "metadata": {},
   "source": [
    "Beta decay lifetime are usually given in terms of the half-life with\n",
    "a total half-life of"
   ]
  },
  {
   "cell_type": "markdown",
   "metadata": {},
   "source": [
    "$$\n",
    "T_{1/2} = \\frac{{\\rm ln}(2)}{W}.\n",
    "$$"
   ]
  },
  {
   "cell_type": "markdown",
   "metadata": {},
   "source": [
    "The partial half-life for a particular final state will be\n",
    "denoted by $t_{1/2}$"
   ]
  },
  {
   "cell_type": "markdown",
   "metadata": {},
   "source": [
    "$$\n",
    "t_{1/2} = \\frac{T_{1/2}}{b_{if}}.\n",
    "$$"
   ]
  },
  {
   "cell_type": "markdown",
   "metadata": {},
   "source": [
    "## $\\beta$-decay\n",
    "Historically\n",
    "one combines the partial half-life for a particular decay\n",
    "with the calculated\n",
    "phase-space factor $f$ to obtain  an **ft** value given by"
   ]
  },
  {
   "cell_type": "markdown",
   "metadata": {},
   "source": [
    "$$\n",
    "f t_{1/2}=\\frac{C }{\\left[B(F_{\\pm})+(g_{A}/g_{V})^{2} B(GT_{\\pm}) \\right] }\n",
    "$$"
   ]
  },
  {
   "cell_type": "markdown",
   "metadata": {},
   "source": [
    "where"
   ]
  },
  {
   "cell_type": "markdown",
   "metadata": {},
   "source": [
    "$$\n",
    "C = \\frac{{\\rm ln}(2)K_{o}}{(g_{V})^{2}}.\n",
    "$$"
   ]
  },
  {
   "cell_type": "markdown",
   "metadata": {},
   "source": [
    "## $\\beta$-decay\n",
    "One often compiles the allowed beta decay in terms of a **logft**\n",
    "which stands for log$_{10}$ of the $ft_{1/2}$ value.\n",
    "\n",
    "     The values of the coupling constants for Fermi decay,\n",
    "$g_{V}$, and Gamow-Teller decay, $g_{A}$ are obtained as follows.\n",
    "For a $0^{+} \\rightarrow  0^{+}$ nuclear transition $B(GT)=0$, and for a\n",
    "transition between $T=1$ analogue states with $B(F)=2$ we find"
   ]
  },
  {
   "cell_type": "markdown",
   "metadata": {},
   "source": [
    "$$\n",
    "C = 2 t_{1/2} f.\n",
    "$$"
   ]
  },
  {
   "cell_type": "markdown",
   "metadata": {},
   "source": [
    "The partial half-lives and $Q$ values for several $0^{+} \\rightarrow  0^{+}$ analogue\n",
    "transitions have been measured to an accuracy of about one part in\n",
    "10000. With  phase space factors one obtains"
   ]
  },
  {
   "cell_type": "markdown",
   "metadata": {},
   "source": [
    "$$\n",
    "C = 6170(4)\n",
    "$$"
   ]
  },
  {
   "cell_type": "markdown",
   "metadata": {},
   "source": [
    "This result, together with the value of $K_{o}$ can be used to obtain $g_{V}$.\n",
    "\n",
    "\n",
    "\n",
    "## $\\beta$-decay\n",
    "At the quark level $g_{V}=-g_{A}$.\n",
    "But for nuclear structure we use the value obtained from the\n",
    "neutron to proton beta decay"
   ]
  },
  {
   "cell_type": "markdown",
   "metadata": {},
   "source": [
    "$$\n",
    "\\vert g_{A}/g_{V}\\vert  = 1.261(8).\n",
    "$$"
   ]
  },
  {
   "cell_type": "markdown",
   "metadata": {},
   "source": [
    "## $\\beta$-decay\n",
    "The operator for Fermi beta decay in terms of sums\n",
    "over the nucleons is"
   ]
  },
  {
   "cell_type": "markdown",
   "metadata": {},
   "source": [
    "$$\n",
    "{\\cal O}(F_{\\pm}) =  \\displaystyle\\sum _{k} t_{k\\pm}.\n",
    "$$"
   ]
  },
  {
   "cell_type": "markdown",
   "metadata": {},
   "source": [
    "The matrix element is"
   ]
  },
  {
   "cell_type": "markdown",
   "metadata": {},
   "source": [
    "$$\n",
    "B(F) =\\, \\vert \\langle f\\vert  T_{\\pm} \\vert i\\rangle\\vert ^{2},\n",
    "$$"
   ]
  },
  {
   "cell_type": "markdown",
   "metadata": {},
   "source": [
    "where"
   ]
  },
  {
   "cell_type": "markdown",
   "metadata": {},
   "source": [
    "$$\n",
    "T_{\\pm} = \\sum _{k} t_{\\pm}\n",
    "$$"
   ]
  },
  {
   "cell_type": "markdown",
   "metadata": {},
   "source": [
    "is the total isospin raising and lowering operator for total\n",
    "isospin constructed out of the\n",
    "basic nucleon isospin raising and lowering operators"
   ]
  },
  {
   "cell_type": "markdown",
   "metadata": {},
   "source": [
    "$$\n",
    "t_{-}\\vert n\\rangle=\\vert p\\rangle \\hspace{1cm} t_{-}\\vert p\\rangle= 0,\n",
    "$$"
   ]
  },
  {
   "cell_type": "markdown",
   "metadata": {},
   "source": [
    "and"
   ]
  },
  {
   "cell_type": "markdown",
   "metadata": {},
   "source": [
    "$$\n",
    "t_{+}\\vert p\\rangle=\\vert n\\rangle, \\;\\; t_{+}\\vert n\\rangle= 0.\n",
    "$$"
   ]
  },
  {
   "cell_type": "markdown",
   "metadata": {},
   "source": [
    "## $\\beta$-decay\n",
    "The matrix elements obey the triangle\n",
    "conditions $J_{f}=J_{i}$ ($\\Delta J=0$). The Fermi operator has\n",
    "$\\pi _{O}=+1$, and thus the\n",
    "initial and final nuclear states must have $\\pi _{i}\\pi _{f}=+1$ for\n",
    "the matrix element to be\n",
    "nonzero under the parity transform.\n",
    "\n",
    "When isospin is conserved\n",
    "the Fermi matrix element must obey the isospin triangle condition\n",
    "$T_{f}=T_{i}$ $(\\Delta T=0)$, and the Fermi operator can only connect\n",
    "isobaric analogue states.\n",
    "\n",
    "\n",
    "\n",
    "## $\\beta$-decay\n",
    "For $\\beta_{-}$ decay"
   ]
  },
  {
   "cell_type": "markdown",
   "metadata": {},
   "source": [
    "8\n",
    "4\n",
    " \n",
    "<\n",
    "<\n",
    "<\n",
    "!\n",
    "!\n",
    "M\n",
    "A\n",
    "T\n",
    "H\n",
    "_\n",
    "B\n",
    "L\n",
    "O\n",
    "C\n",
    "K"
   ]
  },
  {
   "cell_type": "markdown",
   "metadata": {},
   "source": [
    "$$\n",
    "= \\sqrt{(T_{i}(T_{i}+1)-T_{zi}(T_{zi}-1)}\\vert \\omega _{i},J_{i},M_{i},T_{i},T_{zi}-1\\rangle,\n",
    "$$"
   ]
  },
  {
   "cell_type": "markdown",
   "metadata": {},
   "source": [
    "and"
   ]
  },
  {
   "cell_type": "markdown",
   "metadata": {},
   "source": [
    "8\n",
    "6\n",
    " \n",
    "<\n",
    "<\n",
    "<\n",
    "!\n",
    "!\n",
    "M\n",
    "A\n",
    "T\n",
    "H\n",
    "_\n",
    "B\n",
    "L\n",
    "O\n",
    "C\n",
    "K"
   ]
  },
  {
   "cell_type": "markdown",
   "metadata": {},
   "source": [
    "$$\n",
    "= [T_{i}(T_{i}+1)-T_{zi}(T_{zi}-1)]\n",
    "\\delta _{\\omega _{f},\\omega }\\;\\delta _{J_{i},J_{f}}\\;\\delta _{M_{i},M_{f}}\\;\\delta _{T_{i},T_{f}}.\n",
    "$$"
   ]
  },
  {
   "cell_type": "markdown",
   "metadata": {},
   "source": [
    "## $\\beta$-decay\n",
    "For $\\beta_{ + }$ we have"
   ]
  },
  {
   "cell_type": "markdown",
   "metadata": {},
   "source": [
    "8\n",
    "8\n",
    " \n",
    "<\n",
    "<\n",
    "<\n",
    "!\n",
    "!\n",
    "M\n",
    "A\n",
    "T\n",
    "H\n",
    "_\n",
    "B\n",
    "L\n",
    "O\n",
    "C\n",
    "K"
   ]
  },
  {
   "cell_type": "markdown",
   "metadata": {},
   "source": [
    "$$\n",
    "= [T_{i}(T_{i}+1)-T_{zi}(T_{zi}+1)]\n",
    "\\delta _{\\omega _{f},\\omega }\\;\\delta _{J_{i},J_{f}}\\delta _{M_{i},M_{f}}\\delta _{T_{i},T_{f}}.\n",
    "$$"
   ]
  },
  {
   "cell_type": "markdown",
   "metadata": {},
   "source": [
    "For neutron-rich nuclei ($N_{i}> Z_{i}$) we have $T_{i}=T_{zi}$ and thus"
   ]
  },
  {
   "cell_type": "markdown",
   "metadata": {},
   "source": [
    "$$\n",
    "B(F_{-})(N_{i}> Z_{i}) = 2T_{zi} = (N_{i}-Z_{i})\\delta _{\\omega _{f},\\omega }\\delta _{J_{i},J_{f}}\\;\\delta _{M_{i},M_{f}}\\;\\delta _{T_{i},T_{f}},\n",
    "$$"
   ]
  },
  {
   "cell_type": "markdown",
   "metadata": {},
   "source": [
    "and"
   ]
  },
  {
   "cell_type": "markdown",
   "metadata": {},
   "source": [
    "$$\n",
    "B(F_{+})(N_{i}> Z_{i}) = 0.\n",
    "$$"
   ]
  },
  {
   "cell_type": "markdown",
   "metadata": {},
   "source": [
    "## $\\beta$-decay\n",
    "The reduced single-particle\n",
    "matrix elements are given by"
   ]
  },
  {
   "cell_type": "markdown",
   "metadata": {},
   "source": [
    "$$\n",
    "\\langle k_{a},p\\vert\\vert \\sigma  t_{-}\\vert\\vert k_{b},n\\rangle=\\langle k_{a},n\\vert\\vert \\sigma  t_{+}\\vert\\vert k_{b},p\\rangle= 2\\langle k_{a}\\vert\\vert \\mathbf{s}\\vert\\vert k_{b}\\rangle,\n",
    "$$"
   ]
  },
  {
   "cell_type": "markdown",
   "metadata": {},
   "source": [
    "where the matrix elements of $\\mathbf{s}$ are given by"
   ]
  },
  {
   "cell_type": "markdown",
   "metadata": {},
   "source": [
    "9\n",
    "3\n",
    " \n",
    "<\n",
    "<\n",
    "<\n",
    "!\n",
    "!\n",
    "M\n",
    "A\n",
    "T\n",
    "H\n",
    "_\n",
    "B\n",
    "L\n",
    "O\n",
    "C\n",
    "K"
   ]
  },
  {
   "cell_type": "markdown",
   "metadata": {},
   "source": [
    "$$\n",
    "=(-1)^{l_{a}+j_{a}+3/2}\n",
    "\\sqrt{(2j_{a}+1)(2j_{b}+1)}\\left\\{\\begin{array}{ccc}  {1/2}&  {1/2}&  {1} \\\\ {j_{b}}&  {j_{a}}&  {l_{a}}\\end{array}\\right\\}\n",
    "\\langle s\\vert\\vert \\mathbf{s}\\,\\vert\\vert s\\rangle \\delta _{\\ell _{a},\\ell _{b}} \\delta_{n_{a},n_{b}}\n",
    ",\n",
    "$$"
   ]
  },
  {
   "cell_type": "markdown",
   "metadata": {},
   "source": [
    "with"
   ]
  },
  {
   "cell_type": "markdown",
   "metadata": {},
   "source": [
    "$$\n",
    "\\langle s\\vert\\vert \\mathbf{s}\\vert\\vert s\\rangle= \\sqrt{3/2}.\n",
    "$$"
   ]
  },
  {
   "cell_type": "markdown",
   "metadata": {},
   "source": [
    "## $\\beta$-decay\n",
    "The matrix elements of $\\mathbf{s}$ has the selection rules $\\delta_{ \\ell_{a} , \\ell_{b} }$\n",
    "and $\\delta_{n _{a} ,n _{b} }$. Thus the orbits which are connected by the GT operator\n",
    "are very selective; they are those in the same major oscillator shell\n",
    "with the same $\\ell$ value. The matrix elements such as\n",
    "$1s_{1/2}-0d_{3/2}$ which have the allowed $\\Delta j$ coupling but\n",
    "are zero due to the $\\Delta\\ell$ coupling are called $\\ell$-**forbidden** matrix\n",
    "elements.\n",
    "\n",
    "\n",
    "\n",
    "## $\\beta$-decay\n",
    "Sum rules for Fermi and Gamow-Teller matrix elements can be obtained easily.\n",
    "\n",
    "The sum rule for Fermi is obtained from the sum"
   ]
  },
  {
   "cell_type": "markdown",
   "metadata": {},
   "source": [
    "$$\n",
    "\\sum _{f} \\left[ B_{fi}(F_{-}) - B_{fi}(F_{+}) \\right]\n",
    "=\\sum _{f} \\left[ \\vert \\langle f\\vert  T_{-} \\vert i\\rangle\\vert ^{2} -  \\vert \\langle f\\vert  T_{+} \\vert \n",
    "i\\rangle\\vert ^{2} \\right]\n",
    "$$"
   ]
  },
  {
   "cell_type": "markdown",
   "metadata": {},
   "source": [
    "The final states $f$ in the $T_{-}$ matrix element go\n",
    "with the $Z_{f}=Z_{i}+1$ nucleus and those in the $T_{+}$ matrix element\n",
    "to with the $Z_{f}=Z_{i}-1$ nucleus. One can explicitly sum over the\n",
    "final states to obtain"
   ]
  },
  {
   "cell_type": "markdown",
   "metadata": {},
   "source": [
    "9\n",
    "7\n",
    " \n",
    "<\n",
    "<\n",
    "<\n",
    "!\n",
    "!\n",
    "M\n",
    "A\n",
    "T\n",
    "H\n",
    "_\n",
    "B\n",
    "L\n",
    "O\n",
    "C\n",
    "K"
   ]
  },
  {
   "cell_type": "markdown",
   "metadata": {},
   "source": [
    "$$\n",
    "= \\langle i\\vert  T_{+} T_{-} -  T_{-} T_{+}\\vert i\\rangle =\\langle i\\vert  2T_{z}\\vert i\\rangle  = (N_{i}-Z_{i}).\n",
    "$$"
   ]
  },
  {
   "cell_type": "markdown",
   "metadata": {},
   "source": [
    "## $\\beta$-decay\n",
    "The sum rule for Gamow-Teller is obtained as follows"
   ]
  },
  {
   "cell_type": "markdown",
   "metadata": {},
   "source": [
    "9\n",
    "9\n",
    " \n",
    "<\n",
    "<\n",
    "<\n",
    "!\n",
    "!\n",
    "M\n",
    "A\n",
    "T\n",
    "H\n",
    "_\n",
    "B\n",
    "L\n",
    "O\n",
    "C\n",
    "K"
   ]
  },
  {
   "cell_type": "markdown",
   "metadata": {},
   "source": [
    "1\n",
    "0\n",
    "0\n",
    " \n",
    "<\n",
    "<\n",
    "<\n",
    "!\n",
    "!\n",
    "M\n",
    "A\n",
    "T\n",
    "H\n",
    "_\n",
    "B\n",
    "L\n",
    "O\n",
    "C\n",
    "K"
   ]
  },
  {
   "cell_type": "markdown",
   "metadata": {},
   "source": [
    "1\n",
    "0\n",
    "1\n",
    " \n",
    "<\n",
    "<\n",
    "<\n",
    "!\n",
    "!\n",
    "M\n",
    "A\n",
    "T\n",
    "H\n",
    "_\n",
    "B\n",
    "L\n",
    "O\n",
    "C\n",
    "K"
   ]
  },
  {
   "cell_type": "markdown",
   "metadata": {},
   "source": [
    "1\n",
    "0\n",
    "2\n",
    " \n",
    "<\n",
    "<\n",
    "<\n",
    "!\n",
    "!\n",
    "M\n",
    "A\n",
    "T\n",
    "H\n",
    "_\n",
    "B\n",
    "L\n",
    "O\n",
    "C\n",
    "K"
   ]
  },
  {
   "cell_type": "markdown",
   "metadata": {},
   "source": [
    "1\n",
    "0\n",
    "3\n",
    " \n",
    "<\n",
    "<\n",
    "<\n",
    "!\n",
    "!\n",
    "M\n",
    "A\n",
    "T\n",
    "H\n",
    "_\n",
    "B\n",
    "L\n",
    "O\n",
    "C\n",
    "K"
   ]
  },
  {
   "cell_type": "markdown",
   "metadata": {},
   "source": [
    "$$\n",
    "=   3\\langle i\\vert  T_{+} T_{-} -  T_{-} T_{+}\\vert i\\rangle= 3\\langle i\\vert  2T_{z}\\vert i\\rangle  = 3(N_{i}-Z_{i}).\n",
    "$$"
   ]
  },
  {
   "cell_type": "markdown",
   "metadata": {},
   "source": [
    "## $\\beta$-decay\n",
    "We have used the fact that $\\sigma ^{2}_{x} = \\sigma ^{2}_{y}=\\sigma ^{2}_{z}=1$.\n",
    "When $k \\neq k'$ the operators commute and cancel.\n",
    "Thus"
   ]
  },
  {
   "cell_type": "markdown",
   "metadata": {},
   "source": [
    "$$\n",
    "\\sum_{f} \\left[B_{fi}(F_{-}) - B_{fi}(F_{+}) \\right] = (N_{i}-Z_{i}),\n",
    "$$"
   ]
  },
  {
   "cell_type": "markdown",
   "metadata": {},
   "source": [
    "and"
   ]
  },
  {
   "cell_type": "markdown",
   "metadata": {},
   "source": [
    "$$\n",
    "\\sum_{f} \\left[ B_{fi}(GT_{-}) - B_{fi}(GT_{+}) \\right] = 3(N_{i}-Z_{i}).\n",
    "$$"
   ]
  },
  {
   "cell_type": "markdown",
   "metadata": {},
   "source": [
    "The sum-rule for the Fermi matrix elements applies even\n",
    "when isospin is not conserved.\n",
    "\n",
    "\n",
    "\n",
    "## $\\beta$-decay\n",
    "For $N > Z$ we usually have\n",
    "$T_{i}=T_{zi}$ which means that $B(F_{+})=0$.\n",
    "\n",
    "For $N=Z (T_{zi}=0)$ and $T_{i}=0$ we get \n",
    "$B(F_{+})=B(F_{-})=0$, and for $T_{i}=1$ we\n",
    "have $B(F_{+}) = B(F_{-}) = 2$. Fermi transitions which would be zero\n",
    "if isospin is conserved are called isospin-forbidden Fermi transitions.\n",
    "\n",
    "When $N > Z$ there are some situations where one has $B(GT_{+})=0$,\n",
    "and then we obtain $B(GT_{-}) = 3(N_{i}-Z_{i})$. In particular\n",
    "for the $\\beta_{-}$ decay of the neutron we have $B(F_{-})=1$\n",
    "and $B(GT_{-})=3$.\n",
    "\n",
    "\n",
    "\n",
    "\n",
    "\n",
    "\n",
    "\n",
    "\n",
    "\n",
    "\n",
    "## Core-polarization\n",
    "We need to say something about so-called core-polarization effects.\n",
    "To do this, we have to introduce elements from many-body perturbation theory.\n",
    "\n",
    "We assume here that we are only interested in the ground state of the system and \n",
    "expand the exact wave function in term of a series of Slater determinants"
   ]
  },
  {
   "cell_type": "markdown",
   "metadata": {},
   "source": [
    "$$\n",
    "\\vert \\Psi_0\\rangle = \\vert \\Phi_0\\rangle + \\sum_{m=1}^{\\infty}C_m\\vert \\Phi_m\\rangle,\n",
    "$$"
   ]
  },
  {
   "cell_type": "markdown",
   "metadata": {},
   "source": [
    "where we have assumed that the true ground state is dominated by the \n",
    "solution of the unperturbed problem, that is"
   ]
  },
  {
   "cell_type": "markdown",
   "metadata": {},
   "source": [
    "$$\n",
    "\\hat{H}_0\\vert \\Phi_0\\rangle= W_0\\vert \\Phi_0\\rangle.\n",
    "$$"
   ]
  },
  {
   "cell_type": "markdown",
   "metadata": {},
   "source": [
    "The state $\\vert \\Psi_0\\rangle$ is not normalized, rather we have used an intermediate \n",
    "normalization $\\langle \\Phi_0 \\vert \\Psi_0\\rangle=1$ since we have $\\langle \\Phi_0\\vert \\Phi_0\\rangle=1$.\n",
    "\n",
    "\n",
    "\n",
    "## Electromagnetic multipole moments and transitions\n",
    "The Schroedinger equation is"
   ]
  },
  {
   "cell_type": "markdown",
   "metadata": {},
   "source": [
    "$$\n",
    "\\hat{H}\\vert \\Psi_0\\rangle = E\\vert \\Psi_0\\rangle,\n",
    "$$"
   ]
  },
  {
   "cell_type": "markdown",
   "metadata": {},
   "source": [
    "and multiplying the latter from the left with $\\langle \\Phi_0\\vert $ gives"
   ]
  },
  {
   "cell_type": "markdown",
   "metadata": {},
   "source": [
    "$$\n",
    "\\langle \\Phi_0\\vert \\hat{H}\\vert \\Psi_0\\rangle = E\\langle \\Phi_0\\vert \\Psi_0\\rangle=E,\n",
    "$$"
   ]
  },
  {
   "cell_type": "markdown",
   "metadata": {},
   "source": [
    "and subtracting from this equation"
   ]
  },
  {
   "cell_type": "markdown",
   "metadata": {},
   "source": [
    "$$\n",
    "\\langle \\Psi_0\\vert \\hat{H}_0\\vert \\Phi_0\\rangle= W_0\\langle \\Psi_0\\vert \\Phi_0\\rangle=W_0,\n",
    "$$"
   ]
  },
  {
   "cell_type": "markdown",
   "metadata": {},
   "source": [
    "and using the fact that the both operators $\\hat{H}$ and $\\hat{H}_0$ are hermitian \n",
    "results in"
   ]
  },
  {
   "cell_type": "markdown",
   "metadata": {},
   "source": [
    "$$\n",
    "\\Delta E=E-W_0=\\langle \\Phi_0\\vert \\hat{H}_I\\vert \\Psi_0\\rangle,\n",
    "$$"
   ]
  },
  {
   "cell_type": "markdown",
   "metadata": {},
   "source": [
    "which is an exact result. We call this quantity the correlation energy.\n",
    "\n",
    "\n",
    "\n",
    "## Electromagnetic multipole moments and transitions\n",
    "This equation forms the starting point for all perturbative derivations. However,\n",
    "as it stands it represents nothing but a mere formal rewriting of Schroedinger's equation and is not of much practical use. The exact wave function $\\vert \\Psi_0\\rangle$ is unknown. In order to obtain a perturbative expansion, we need to expand the exact wave function in terms of the interaction $\\hat{H}_I$. \n",
    "\n",
    "Here we have assumed that our model space defined by the operator $\\hat{P}$ is one-dimensional, meaning that"
   ]
  },
  {
   "cell_type": "markdown",
   "metadata": {},
   "source": [
    "$$\n",
    "\\hat{P}= \\vert \\Phi_0\\rangle \\langle \\Phi_0\\vert ,\n",
    "$$"
   ]
  },
  {
   "cell_type": "markdown",
   "metadata": {},
   "source": [
    "and"
   ]
  },
  {
   "cell_type": "markdown",
   "metadata": {},
   "source": [
    "$$\n",
    "\\hat{Q}=\\sum_{m=1}^{\\infty}\\vert \\Phi_m\\rangle \\langle \\Phi_m\\vert .\n",
    "$$"
   ]
  },
  {
   "cell_type": "markdown",
   "metadata": {},
   "source": [
    "## Electromagnetic multipole moments and transitions\n",
    "We can thus rewrite the exact wave function as"
   ]
  },
  {
   "cell_type": "markdown",
   "metadata": {},
   "source": [
    "$$\n",
    "\\vert \\Psi_0\\rangle= (\\hat{P}+\\hat{Q})\\vert \\Psi_0\\rangle=\\vert \\Phi_0\\rangle+\\hat{Q}\\vert \\Psi_0\\rangle.\n",
    "$$"
   ]
  },
  {
   "cell_type": "markdown",
   "metadata": {},
   "source": [
    "Going back to the Schr\\\"odinger equation, we can rewrite it as, adding and a subtracting a term $\\omega \\vert \\Psi_0\\rangle$ as"
   ]
  },
  {
   "cell_type": "markdown",
   "metadata": {},
   "source": [
    "$$\n",
    "\\left(\\omega-\\hat{H}_0\\right)\\vert \\Psi_0\\rangle=\\left(\\omega-E+\\hat{H}_I\\right)\\vert \\Psi_0\\rangle,\n",
    "$$"
   ]
  },
  {
   "cell_type": "markdown",
   "metadata": {},
   "source": [
    "where $\\omega$ is an energy variable to be specified later.\n",
    "\n",
    "\n",
    "\n",
    "## Electromagnetic multipole moments and transitions\n",
    "We assume also that the resolvent of $\\left(\\omega-\\hat{H}_0\\right)$ exits, that is\n",
    "it has an inverse which defined the unperturbed Green's function as"
   ]
  },
  {
   "cell_type": "markdown",
   "metadata": {},
   "source": [
    "$$\n",
    "\\left(\\omega-\\hat{H}_0\\right)^{-1}=\\frac{1}{\\left(\\omega-\\hat{H}_0\\right)}.\n",
    "$$"
   ]
  },
  {
   "cell_type": "markdown",
   "metadata": {},
   "source": [
    "We can rewrite Schroedinger's equation as"
   ]
  },
  {
   "cell_type": "markdown",
   "metadata": {},
   "source": [
    "$$\n",
    "\\vert \\Psi_0\\rangle=\\frac{1}{\\omega-\\hat{H}_0}\\left(\\omega-E+\\hat{H}_I\\right)\\vert \\Psi_0\\rangle,\n",
    "$$"
   ]
  },
  {
   "cell_type": "markdown",
   "metadata": {},
   "source": [
    "and multiplying from the left with $\\hat{Q}$ results in"
   ]
  },
  {
   "cell_type": "markdown",
   "metadata": {},
   "source": [
    "$$\n",
    "\\hat{Q}\\vert \\Psi_0\\rangle=\\frac{\\hat{Q}}{\\omega-\\hat{H}_0}\\left(\\omega-E+\\hat{H}_I\\right)\\vert \\Psi_0\\rangle,\n",
    "$$"
   ]
  },
  {
   "cell_type": "markdown",
   "metadata": {},
   "source": [
    "which is possible since we have defined the operator $\\hat{Q}$ in terms of the eigenfunctions of $\\hat{H}$.\n",
    "\n",
    "\n",
    "\n",
    "## Electromagnetic multipole moments and transitions\n",
    "These operators commute meaning that"
   ]
  },
  {
   "cell_type": "markdown",
   "metadata": {},
   "source": [
    "$$\n",
    "\\hat{Q}\\frac{1}{\\left(\\omega-\\hat{H}_0\\right)}\\hat{Q}=\\hat{Q}\\frac{1}{\\left(\\omega-\\hat{H}_0\\right)}=\\frac{\\hat{Q}}{\\left(\\omega-\\hat{H}_0\\right)}.\n",
    "$$"
   ]
  },
  {
   "cell_type": "markdown",
   "metadata": {},
   "source": [
    "With these definitions we can in turn define the wave function as"
   ]
  },
  {
   "cell_type": "markdown",
   "metadata": {},
   "source": [
    "$$\n",
    "\\vert \\Psi_0\\rangle=\\vert \\Phi_0\\rangle+\\frac{\\hat{Q}}{\\omega-\\hat{H}_0}\\left(\\omega-E+\\hat{H}_I\\right)\\vert \\Psi_0\\rangle.\n",
    "$$"
   ]
  },
  {
   "cell_type": "markdown",
   "metadata": {},
   "source": [
    "This equation is again nothing but a formal rewrite of Schr\\\"odinger's equation\n",
    "and does not represent a practical calculational scheme.  \n",
    "It is a non-linear equation in two unknown quantities, the energy $E$ and the exact\n",
    "wave function $\\vert \\Psi_0\\rangle$. We can however start with a guess for $\\vert \\Psi_0\\rangle$ on the right hand side of the last equation.\n",
    "\n",
    "\n",
    "\n",
    "## Electromagnetic multipole moments and transitions\n",
    " The most common choice is to start with the function which is expected to exhibit the largest overlap with the wave function we are searching after, namely $\\vert \\Phi_0\\rangle$. This can again be inserted in the solution for $\\vert \\Psi_0\\rangle$ in an iterative fashion and if we continue along these lines we end up with"
   ]
  },
  {
   "cell_type": "markdown",
   "metadata": {},
   "source": [
    "$$\n",
    "\\vert \\Psi_0\\rangle=\\sum_{i=0}^{\\infty}\\left\\{\\frac{\\hat{Q}}{\\omega-\\hat{H}_0}\\left(\\omega-E+\\hat{H}_I\\right)\\right\\}^i\\vert \\Phi_0\\rangle,\n",
    "$$"
   ]
  },
  {
   "cell_type": "markdown",
   "metadata": {},
   "source": [
    "for the wave function and"
   ]
  },
  {
   "cell_type": "markdown",
   "metadata": {},
   "source": [
    "$$\n",
    "\\Delta E=\\sum_{i=0}^{\\infty}\\langle \\Phi_0\\vert \\hat{H}_I\\left\\{\\frac{\\hat{Q}}{\\omega-\\hat{H}_0}\\left(\\omega-E+\\hat{H}_I\\right)\\right\\}^i\\vert \\Phi_0\\rangle,\n",
    "$$"
   ]
  },
  {
   "cell_type": "markdown",
   "metadata": {},
   "source": [
    "which is now  a perturbative expansion of the exact energy in terms of the interaction\n",
    "$\\hat{H}_I$ and the unperturbed wave function $\\vert \\Psi_0\\rangle$.\n",
    "\n",
    "\n",
    "\n",
    "## Electromagnetic multipole moments and transitions\n",
    "In our equations for $\\vert \\Psi_0\\rangle$ and $\\Delta E$ in terms of the unperturbed\n",
    "solutions $\\vert \\Phi_i\\rangle$  we have still an undetermined parameter $\\omega$\n",
    "and a dependecy on the exact energy $E$. Not much has been gained thus from a practical computational point of view. \n",
    "\n",
    "In Brilluoin-Wigner perturbation theory it is customary to set $\\omega=E$. This results in the following perturbative expansion for the energy $\\Delta E$"
   ]
  },
  {
   "cell_type": "markdown",
   "metadata": {},
   "source": [
    "1\n",
    "2\n",
    "4\n",
    " \n",
    "<\n",
    "<\n",
    "<\n",
    "!\n",
    "!\n",
    "M\n",
    "A\n",
    "T\n",
    "H\n",
    "_\n",
    "B\n",
    "L\n",
    "O\n",
    "C\n",
    "K"
   ]
  },
  {
   "cell_type": "markdown",
   "metadata": {},
   "source": [
    "$$\n",
    "\\langle \\Phi_0\\vert \\left(\\hat{H}_I+\\hat{H}_I\\frac{\\hat{Q}}{E-\\hat{H}_0}\\hat{H}_I+\n",
    "\\hat{H}_I\\frac{\\hat{Q}}{E-\\hat{H}_0}\\hat{H}_I\\frac{\\hat{Q}}{E-\\hat{H}_0}\\hat{H}_I+\\dots\\right)\\vert \\Phi_0\\rangle.\n",
    "$$"
   ]
  },
  {
   "cell_type": "markdown",
   "metadata": {},
   "source": [
    "## Electromagnetic multipole moments and transitions"
   ]
  },
  {
   "cell_type": "markdown",
   "metadata": {},
   "source": [
    "1\n",
    "2\n",
    "6\n",
    " \n",
    "<\n",
    "<\n",
    "<\n",
    "!\n",
    "!\n",
    "M\n",
    "A\n",
    "T\n",
    "H\n",
    "_\n",
    "B\n",
    "L\n",
    "O\n",
    "C\n",
    "K"
   ]
  },
  {
   "cell_type": "markdown",
   "metadata": {},
   "source": [
    "$$\n",
    "\\langle \\Phi_0\\vert \\left(\\hat{H}_I+\\hat{H}_I\\frac{\\hat{Q}}{E-\\hat{H}_0}\\hat{H}_I+\n",
    "\\hat{H}_I\\frac{\\hat{Q}}{E-\\hat{H}_0}\\hat{H}_I\\frac{\\hat{Q}}{E-\\hat{H}_0}\\hat{H}_I+\\dots\\right)\\vert \\Phi_0\\rangle.\n",
    "$$"
   ]
  },
  {
   "cell_type": "markdown",
   "metadata": {},
   "source": [
    "This expression depends however on the exact energy $E$ and is again not very convenient from a practical point of view. It can obviously be solved iteratively, by starting with a guess for  $E$ and then solve till some kind of self-consistency criterion has been reached. \n",
    "\n",
    "Actually, the above expression is nothing but a rewrite again of the full Schr\\\"odinger equation.\n",
    "\n",
    "\n",
    "Defining $e=E-\\hat{H}_0$ and recalling that $\\hat{H}_0$ commutes with \n",
    "$\\hat{Q}$ by construction and that $\\hat{Q}$ is an idempotent operator\n",
    "$\\hat{Q}^2=\\hat{Q}$. \n",
    "Using this equation in the above expansion for $\\Delta E$ we can write the denominator"
   ]
  },
  {
   "cell_type": "markdown",
   "metadata": {},
   "source": [
    "1\n",
    "2\n",
    "8\n",
    " \n",
    "<\n",
    "<\n",
    "<\n",
    "!\n",
    "!\n",
    "M\n",
    "A\n",
    "T\n",
    "H\n",
    "_\n",
    "B\n",
    "L\n",
    "O\n",
    "C\n",
    "K"
   ]
  },
  {
   "cell_type": "markdown",
   "metadata": {},
   "source": [
    "$$\n",
    "\\hat{Q}\\left[\\frac{1}{\\hat{e}}+\\frac{1}{\\hat{e}}\\hat{Q}\\hat{H}_I\\hat{Q}\n",
    "\\frac{1}{\\hat{e}}+\\frac{1}{\\hat{e}}\\hat{Q}\\hat{H}_I\\hat{Q}\n",
    "\\frac{1}{\\hat{e}}\\hat{Q}\\hat{H}_I\\hat{Q}\\frac{1}{\\hat{e}}+\\dots\\right]\\hat{Q}.\n",
    "$$"
   ]
  },
  {
   "cell_type": "markdown",
   "metadata": {},
   "source": [
    "## Electromagnetic multipole moments and transitions\n",
    "Inserted in the expression for $\\Delta E$ leads to"
   ]
  },
  {
   "cell_type": "markdown",
   "metadata": {},
   "source": [
    "$$\n",
    "\\Delta E=\n",
    "\\langle \\Phi_0\\vert \\hat{H}_I+\\hat{H}_I\\hat{Q}\\frac{1}{E-\\hat{H}_0-\\hat{Q}\\hat{H}_I\\hat{Q}}\\hat{Q}\\hat{H}_I\\vert \\Phi_0\\rangle.\n",
    "$$"
   ]
  },
  {
   "cell_type": "markdown",
   "metadata": {},
   "source": [
    "In RS perturbation theory we set $\\omega = W_0$ and obtain the following expression for the energy difference"
   ]
  },
  {
   "cell_type": "markdown",
   "metadata": {},
   "source": [
    "1\n",
    "3\n",
    "1\n",
    " \n",
    "<\n",
    "<\n",
    "<\n",
    "!\n",
    "!\n",
    "M\n",
    "A\n",
    "T\n",
    "H\n",
    "_\n",
    "B\n",
    "L\n",
    "O\n",
    "C\n",
    "K"
   ]
  },
  {
   "cell_type": "markdown",
   "metadata": {},
   "source": [
    "$$\n",
    "\\langle \\Phi_0\\vert \\left(\\hat{H}_I+\\hat{H}_I\\frac{\\hat{Q}}{W_0-\\hat{H}_0}(\\hat{H}_I-\\Delta E)+\n",
    "\\hat{H}_I\\frac{\\hat{Q}}{W_0-\\hat{H}_0}(\\hat{H}_I-\\Delta E)\\frac{\\hat{Q}}{W_0-\\hat{H}_0}(\\hat{H}_I-\\Delta E)+\\dots\\right)\\vert \\Phi_0\\rangle.\n",
    "$$"
   ]
  },
  {
   "cell_type": "markdown",
   "metadata": {},
   "source": [
    "## Electromagnetic multipole moments and transitions\n",
    "Recalling that $\\hat{Q}$ commutes with $\\hat{H_0}$ and since $\\Delta E$ is a constant we obtain that"
   ]
  },
  {
   "cell_type": "markdown",
   "metadata": {},
   "source": [
    "$$\n",
    "\\hat{Q}\\Delta E\\vert \\Phi_0\\rangle = \\hat{Q}\\Delta E\\vert \\hat{Q}\\Phi_0\\rangle = 0.\n",
    "$$"
   ]
  },
  {
   "cell_type": "markdown",
   "metadata": {},
   "source": [
    "Inserting this results in the expression for the energy results in"
   ]
  },
  {
   "cell_type": "markdown",
   "metadata": {},
   "source": [
    "$$\n",
    "\\Delta E=\\langle \\Phi_0\\vert \\left(\\hat{H}_I+\\hat{H}_I\\frac{\\hat{Q}}{W_0-\\hat{H}_0}\\hat{H}_I+\n",
    "\\hat{H}_I\\frac{\\hat{Q}}{W_0-\\hat{H}_0}(\\hat{H}_I-\\Delta E)\\frac{\\hat{Q}}{W_0-\\hat{H}_0}\\hat{H}_I+\\dots\\right)\\vert \\Phi_0\\rangle.\n",
    "$$"
   ]
  },
  {
   "cell_type": "markdown",
   "metadata": {},
   "source": [
    "## Electromagnetic multipole moments and transitions\n",
    "We can now this expression in terms of a perturbative expression in terms\n",
    "of $\\hat{H}_I$ where we iterate the last expression in terms of $\\Delta E$"
   ]
  },
  {
   "cell_type": "markdown",
   "metadata": {},
   "source": [
    "$$\n",
    "\\Delta E=\\sum_{i=1}^{\\infty}\\Delta E^{(i)}.\n",
    "$$"
   ]
  },
  {
   "cell_type": "markdown",
   "metadata": {},
   "source": [
    "We get the following expression for $\\Delta E^{(i)}$"
   ]
  },
  {
   "cell_type": "markdown",
   "metadata": {},
   "source": [
    "$$\n",
    "\\Delta E^{(1)}=\\langle \\Phi_0\\vert \\hat{H}_I\\vert \\Phi_0\\rangle,\n",
    "$$"
   ]
  },
  {
   "cell_type": "markdown",
   "metadata": {},
   "source": [
    "which is just the contribution to first order in perturbation theory,"
   ]
  },
  {
   "cell_type": "markdown",
   "metadata": {},
   "source": [
    "$$\n",
    "\\Delta E^{(2)}=\\langle\\Phi_0\\vert \\hat{H}_I\\frac{\\hat{Q}}{W_0-\\hat{H}_0}\\hat{H}_I\\vert \\Phi_0\\rangle,\n",
    "$$"
   ]
  },
  {
   "cell_type": "markdown",
   "metadata": {},
   "source": [
    "which is the contribution to second order.\n",
    "\n",
    "\n",
    "\n",
    "## Electromagnetic multipole moments and transitions"
   ]
  },
  {
   "cell_type": "markdown",
   "metadata": {},
   "source": [
    "$$\n",
    "\\Delta E^{(3)}=\\langle \\Phi_0\\vert \\hat{H}_I\\frac{\\hat{Q}}{W_0-\\hat{H}_0}\\hat{H}_I\\frac{\\hat{Q}}{W_0-\\hat{H}_0}\\hat{H}_I\\Phi_0\\rangle-\n",
    "\\langle\\Phi_0\\vert \\hat{H}_I\\frac{\\hat{Q}}{W_0-\\hat{H}_0}\\langle \\Phi_0\\vert \\hat{H}_I\\vert \\Phi_0\\rangle\\frac{\\hat{Q}}{W_0-\\hat{H}_0}\\hat{H}_I\\vert \\Phi_0\\rangle,\n",
    "$$"
   ]
  },
  {
   "cell_type": "markdown",
   "metadata": {},
   "source": [
    "being the third-order contribution.\n",
    "\n",
    "\n",
    "\n",
    "\n",
    "\n",
    "## Learning outcomes\n",
    "\n",
    "I hope this is not the case\n",
    "<!-- dom:FIGURE: [figures/exam2.jpg, width=500 frac=0.6] -->\n",
    "<!-- begin figure -->\n",
    "\n",
    "<p></p>\n",
    "<img src=\"figures/exam2.jpg\" width=500>\n",
    "\n",
    "<!-- end figure -->\n",
    "\n",
    "\n",
    "## Topics we have covered this year\n",
    "* Single-particle properties and mean-field and relation to data\n",
    "\n",
    "* How to set up basis states in second quantization and find expectation values\n",
    "\n",
    "* Angular momentum properties and the Wigner-Eckart theorem\n",
    "\n",
    "* Short survey of properties of nuclear forces\n",
    "\n",
    "* The nuclear shell model\n",
    "\n",
    "* And how to relate a shell-model calculation to decays and properties of decays.\n",
    "\n",
    "## Final presentation\n",
    "* Introduction with motivation\n",
    "\n",
    "* Explain an eventual experimental set up\n",
    "\n",
    "* Give a short overview of the theory employed and how it relates to the analysis of eventual data\n",
    "\n",
    "* Present and discuss your results\n",
    "\n",
    "* Summary, conclusions and perspectives\n",
    "\n",
    "* Anything else you think is important. Useful to have backup slides\n",
    "\n",
    "In total your talk should have a duration of 20-25 minutes, but longer is also ok. \n",
    "\n",
    "## What? Me worry?\n",
    "<!-- dom:FIGURE: [figures/exam1.jpeg, width=500 frac=0.6] -->\n",
    "<!-- begin figure -->\n",
    "\n",
    "<p></p>\n",
    "<img src=\"figures/exam1.jpeg\" width=500>\n",
    "\n",
    "<!-- end figure -->\n",
    "\n",
    "<!-- dom:FIGURE: [figures/whatmeworry.jpeg, width=500 frac=0.6] -->\n",
    "<!-- begin figure -->\n",
    "\n",
    "<p></p>\n",
    "<img src=\"figures/whatmeworry.jpeg\" width=500>\n",
    "\n",
    "<!-- end figure -->\n",
    "\n",
    "\n",
    "\n",
    "## Best wishes to you all and thanks so much for your efforts this semester\n",
    "\n",
    "<!-- dom:FIGURE: [figures/Nebbdyr2.png, width=500 frac=0.6] -->\n",
    "<!-- begin figure -->\n",
    "\n",
    "<p></p>\n",
    "<img src=\"figures/Nebbdyr2.png\" width=500>\n",
    "\n",
    "<!-- end figure -->"
   ]
  }
 ],
 "metadata": {},
 "nbformat": 4,
 "nbformat_minor": 0
}
