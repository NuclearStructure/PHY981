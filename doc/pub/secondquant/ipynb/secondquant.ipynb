{
 "metadata": {},
 "nbformat": 3,
 "nbformat_minor": 0,
 "worksheets": [
  {
   "cells": [
    {
     "cell_type": "markdown",
     "metadata": {},
     "source": [
      "<!-- Slides for PHY981 -->\n",
      "# Second Quantization\n",
      "**Spring 2015**\n",
      "\n",
      "### Second quantization\n",
      "\n",
      "**Second quantization.**\n",
      "\n",
      "* Second quantization and operators, two-body operator with examples \n",
      "\n",
      "* Wick's theorem (missing in html and ipython notebook but in pdf files)\n",
      "\n",
      "* Examples on how to use bit representations for Slater determinants\n",
      "\n",
      "\n",
      "\n",
      "\n",
      "\n",
      "### Second quantization\n",
      "We introduce the time-independent  operators\n",
      "$a_\\alpha^{\\dagger}$ and $a_\\alpha$   which create and annihilate, respectively, a particle \n",
      "in the single-particle state \n",
      "$\\varphi_\\alpha$. \n",
      "We define the fermion creation operator\n",
      "$a_\\alpha^{\\dagger}$"
     ]
    },
    {
     "cell_type": "markdown",
     "metadata": {},
     "source": [
      "<!-- Equation labels as ordinary links -->\n",
      "<div id=\"eq:2-1a\"></div>\n",
      "\n",
      "$$\n",
      "\\begin{equation}\n",
      "\ta_\\alpha^{\\dagger}|0\\rangle \\equiv  |\\alpha\\rangle  \\label{eq:2-1a} \\tag{1},\n",
      "\\end{equation}\n",
      "$$"
     ]
    },
    {
     "cell_type": "markdown",
     "metadata": {},
     "source": [
      "and"
     ]
    },
    {
     "cell_type": "markdown",
     "metadata": {},
     "source": [
      "<!-- Equation labels as ordinary links -->\n",
      "<div id=\"eq:2-1b\"></div>\n",
      "\n",
      "$$\n",
      "\\begin{equation}\n",
      "\ta_\\alpha^{\\dagger}|\\alpha_1\\dots \\alpha_n\\rangle_{\\mathrm{AS}} \\equiv  |\\alpha\\alpha_1\\dots \\alpha_n\\rangle_{\\mathrm{AS}} \\label{eq:2-1b} \\tag{2}\n",
      "\\end{equation}\n",
      "$$"
     ]
    },
    {
     "cell_type": "markdown",
     "metadata": {},
     "source": [
      "### Second quantization\n",
      "In Eq. [(1)](#eq:2-1a) \n",
      "the operator  $a_\\alpha^{\\dagger}$  acts on the vacuum state \n",
      "$|0\\rangle$, which does not contain any particles. Alternatively, we could define  a closed-shell nucleus or atom as our new vacuum, but then\n",
      "we need to introduce the particle-hole  formalism, see the discussion to come. \n",
      "\n",
      "In Eq. [(2)](#eq:2-1b) $a_\\alpha^{\\dagger}$ acts on an antisymmetric $n$-particle state and \n",
      "creates an antisymmetric $(n+1)$-particle state, where the one-body state \n",
      "$\\varphi_\\alpha$ is occupied, under the condition that\n",
      "$\\alpha \\ne \\alpha_1, \\alpha_2, \\dots, \\alpha_n$. \n",
      "It follows that we can express an antisymmetric state as the product of the creation\n",
      "operators acting on the vacuum state."
     ]
    },
    {
     "cell_type": "markdown",
     "metadata": {},
     "source": [
      "<!-- Equation labels as ordinary links -->\n",
      "<div id=\"eq:2-2\"></div>\n",
      "\n",
      "$$\n",
      "\\begin{equation}\n",
      "\t|\\alpha_1\\dots \\alpha_n\\rangle_{\\mathrm{AS}} = a_{\\alpha_1}^{\\dagger} a_{\\alpha_2}^{\\dagger} \\dots a_{\\alpha_n}^{\\dagger} |0\\rangle \\label{eq:2-2} \\tag{3}\n",
      "\\end{equation}\n",
      "$$"
     ]
    },
    {
     "cell_type": "markdown",
     "metadata": {},
     "source": [
      "### Second quantization\n",
      "It is easy to derive the commutation and anticommutation rules  for the fermionic creation operators \n",
      "$a_\\alpha^{\\dagger}$. Using the antisymmetry of the states \n",
      "[(3)](#eq:2-2)"
     ]
    },
    {
     "cell_type": "markdown",
     "metadata": {},
     "source": [
      "<!-- Equation labels as ordinary links -->\n",
      "<div id=\"eq:2-3a\"></div>\n",
      "\n",
      "$$\n",
      "\\begin{equation}\n",
      "\t|\\alpha_1\\dots \\alpha_i\\dots \\alpha_k\\dots \\alpha_n\\rangle_{\\mathrm{AS}} = \n",
      "\t\t- |\\alpha_1\\dots \\alpha_k\\dots \\alpha_i\\dots \\alpha_n\\rangle_{\\mathrm{AS}} \\label{eq:2-3a} \\tag{4}\n",
      "\\end{equation}\n",
      "$$"
     ]
    },
    {
     "cell_type": "markdown",
     "metadata": {},
     "source": [
      "we obtain"
     ]
    },
    {
     "cell_type": "markdown",
     "metadata": {},
     "source": [
      "<!-- Equation labels as ordinary links -->\n",
      "<div id=\"eq:2-3b\"></div>\n",
      "\n",
      "$$\n",
      "\\begin{equation}\n",
      "\t a_{\\alpha_i}^{\\dagger}  a_{\\alpha_k}^{\\dagger} = - a_{\\alpha_k}^{\\dagger} a_{\\alpha_i}^{\\dagger} \\label{eq:2-3b} \\tag{5}\n",
      "\\end{equation}\n",
      "$$"
     ]
    },
    {
     "cell_type": "markdown",
     "metadata": {},
     "source": [
      "### Second quantization\n",
      "Using the Pauli principle"
     ]
    },
    {
     "cell_type": "markdown",
     "metadata": {},
     "source": [
      "<!-- Equation labels as ordinary links -->\n",
      "<div id=\"eq:2-4a\"></div>\n",
      "\n",
      "$$\n",
      "\\begin{equation}\n",
      "\t|\\alpha_1\\dots \\alpha_i\\dots \\alpha_i\\dots \\alpha_n\\rangle_{\\mathrm{AS}} = 0 \\label{eq:2-4a} \\tag{6}\n",
      "\\end{equation}\n",
      "$$"
     ]
    },
    {
     "cell_type": "markdown",
     "metadata": {},
     "source": [
      "it follows that"
     ]
    },
    {
     "cell_type": "markdown",
     "metadata": {},
     "source": [
      "<!-- Equation labels as ordinary links -->\n",
      "<div id=\"eq:2-4b\"></div>\n",
      "\n",
      "$$\n",
      "\\begin{equation}\n",
      "\ta_{\\alpha_i}^{\\dagger}  a_{\\alpha_i}^{\\dagger} = 0. \\label{eq:2-4b} \\tag{7}\n",
      "\\end{equation}\n",
      "$$"
     ]
    },
    {
     "cell_type": "markdown",
     "metadata": {},
     "source": [
      "If we combine Eqs. [(5)](#eq:2-3b) and [(7)](#eq:2-4b), we obtain the well-known anti-commutation rule"
     ]
    },
    {
     "cell_type": "markdown",
     "metadata": {},
     "source": [
      "<!-- Equation labels as ordinary links -->\n",
      "<div id=\"eq:2-5\"></div>\n",
      "\n",
      "$$\n",
      "\\begin{equation}\n",
      "\ta_{\\alpha}^{\\dagger}  a_{\\beta}^{\\dagger} + a_{\\beta}^{\\dagger}  a_{\\alpha}^{\\dagger} \\equiv \n",
      "\t\t\\{a_{\\alpha}^{\\dagger},a_{\\beta}^{\\dagger}\\} = 0 \\label{eq:2-5} \\tag{8}\n",
      "\\end{equation}\n",
      "$$"
     ]
    },
    {
     "cell_type": "markdown",
     "metadata": {},
     "source": [
      "### Second quantization\n",
      "The hermitian conjugate  of $a_\\alpha^{\\dagger}$ is"
     ]
    },
    {
     "cell_type": "markdown",
     "metadata": {},
     "source": [
      "<!-- Equation labels as ordinary links -->\n",
      "<div id=\"eq:2-6\"></div>\n",
      "\n",
      "$$\n",
      "\\begin{equation}\n",
      "\ta_{\\alpha} = ( a_{\\alpha}^{\\dagger} )^{\\dagger} \\label{eq:2-6} \\tag{9}\n",
      "\\end{equation}\n",
      "$$"
     ]
    },
    {
     "cell_type": "markdown",
     "metadata": {},
     "source": [
      "If we take the hermitian conjugate of Eq. [(8)](#eq:2-5), we arrive at"
     ]
    },
    {
     "cell_type": "markdown",
     "metadata": {},
     "source": [
      "<!-- Equation labels as ordinary links -->\n",
      "<div id=\"eq:2-7\"></div>\n",
      "\n",
      "$$\n",
      "\\begin{equation}\n",
      "\t\\{a_{\\alpha},a_{\\beta}\\} = 0 \\label{eq:2-7} \\tag{10}\n",
      "\\end{equation}\n",
      "$$"
     ]
    },
    {
     "cell_type": "markdown",
     "metadata": {},
     "source": [
      "### Second quantization\n",
      "What is the physical interpretation of the operator $a_\\alpha$ and what is the effect of \n",
      "$a_\\alpha$ on a given state $|\\alpha_1\\alpha_2\\dots\\alpha_n\\rangle_{\\mathrm{AS}}$? \n",
      "Consider the following matrix element"
     ]
    },
    {
     "cell_type": "markdown",
     "metadata": {},
     "source": [
      "<!-- Equation labels as ordinary links -->\n",
      "<div id=\"eq:2-8\"></div>\n",
      "\n",
      "$$\n",
      "\\begin{equation}\n",
      "\t\\langle\\alpha_1\\alpha_2 \\dots \\alpha_n|a_\\alpha|\\alpha_1'\\alpha_2' \\dots \\alpha_m'\\rangle \\label{eq:2-8} \\tag{11}\n",
      "\\end{equation}\n",
      "$$"
     ]
    },
    {
     "cell_type": "markdown",
     "metadata": {},
     "source": [
      "where both sides are antisymmetric. We  distinguish between two cases. The first (1) is when\n",
      "$\\alpha \\in \\{\\alpha_i\\}$. Using the Pauli principle of Eq. [(6)](#eq:2-4a) it follows"
     ]
    },
    {
     "cell_type": "markdown",
     "metadata": {},
     "source": [
      "<!-- Equation labels as ordinary links -->\n",
      "<div id=\"eq:2-9a\"></div>\n",
      "\n",
      "$$\n",
      "\\begin{equation}\n",
      "\t\t\\langle\\alpha_1\\alpha_2 \\dots \\alpha_n|a_\\alpha = 0 \\label{eq:2-9a} \\tag{12}\n",
      "\\end{equation}\n",
      "$$"
     ]
    },
    {
     "cell_type": "markdown",
     "metadata": {},
     "source": [
      "The second (2) case is when $\\alpha \\notin \\{\\alpha_i\\}$. It follows that an hermitian conjugation"
     ]
    },
    {
     "cell_type": "markdown",
     "metadata": {},
     "source": [
      "<!-- Equation labels as ordinary links -->\n",
      "<div id=\"eq:2-9b\"></div>\n",
      "\n",
      "$$\n",
      "\\begin{equation}\n",
      "\t\t\\langle \\alpha_1\\alpha_2 \\dots \\alpha_n|a_\\alpha = \\langle\\alpha\\alpha_1\\alpha_2 \\dots \\alpha_n|  \\label{eq:2-9b} \\tag{13}\n",
      "\\end{equation}\n",
      "$$"
     ]
    },
    {
     "cell_type": "markdown",
     "metadata": {},
     "source": [
      "### Second quantization\n",
      "Eq. [(13)](#eq:2-9b) holds for case (1) since the lefthand side is zero due to the Pauli principle. We write\n",
      "Eq. [(11)](#eq:2-8) as"
     ]
    },
    {
     "cell_type": "markdown",
     "metadata": {},
     "source": [
      "<!-- Equation labels as ordinary links -->\n",
      "<div id=\"eq:2-10\"></div>\n",
      "\n",
      "$$\n",
      "\\begin{equation}\n",
      "\t\\langle\\alpha_1\\alpha_2 \\dots \\alpha_n|a_\\alpha|\\alpha_1'\\alpha_2' \\dots \\alpha_m'\\rangle = \n",
      "\t\\langle \\alpha_1\\alpha_2 \\dots \\alpha_n|\\alpha\\alpha_1'\\alpha_2' \\dots \\alpha_m'\\rangle \\label{eq:2-10} \\tag{14}\n",
      "\\end{equation}\n",
      "$$"
     ]
    },
    {
     "cell_type": "markdown",
     "metadata": {},
     "source": [
      "Here we must have $m = n+1$ if Eq. [(14)](#eq:2-10) has to be trivially different from zero.\n",
      "\n",
      "\n",
      "\n",
      "\n",
      "### Second quantization\n",
      "For the last case, the minus and plus signs apply when the sequence \n",
      "$\\alpha ,\\alpha_1, \\alpha_2, \\dots, \\alpha_n$ and \n",
      "$\\alpha_1', \\alpha_2', \\dots, \\alpha_{n+1}'$ are related to each other via even and odd permutations.\n",
      "If we assume that  $\\alpha \\notin \\{\\alpha_i\\}$ we obtain"
     ]
    },
    {
     "cell_type": "markdown",
     "metadata": {},
     "source": [
      "<!-- Equation labels as ordinary links -->\n",
      "<div id=\"eq:2-12\"></div>\n",
      "\n",
      "$$\n",
      "\\begin{equation}\n",
      "\t\\langle\\alpha_1\\alpha_2 \\dots \\alpha_n|a_\\alpha|\\alpha_1'\\alpha_2' \\dots \\alpha_{n+1}'\\rangle = 0 \\label{eq:2-12} \\tag{15}\n",
      "\\end{equation}\n",
      "$$"
     ]
    },
    {
     "cell_type": "markdown",
     "metadata": {},
     "source": [
      "when $\\alpha \\in \\{\\alpha_i'\\}$. If $\\alpha \\notin \\{\\alpha_i'\\}$, we obtain"
     ]
    },
    {
     "cell_type": "markdown",
     "metadata": {},
     "source": [
      "<!-- Equation labels as ordinary links -->\n",
      "<div id=\"eq:2-13a\"></div>\n",
      "\n",
      "$$\n",
      "\\begin{equation}\n",
      "\ta_\\alpha\\underbrace{|\\alpha_1'\\alpha_2' \\dots \\alpha_{n+1}'}\\rangle_{\\neq \\alpha} = 0 \\label{eq:2-13a} \\tag{16}\n",
      "\\end{equation}\n",
      "$$"
     ]
    },
    {
     "cell_type": "markdown",
     "metadata": {},
     "source": [
      "and in particular"
     ]
    },
    {
     "cell_type": "markdown",
     "metadata": {},
     "source": [
      "<!-- Equation labels as ordinary links -->\n",
      "<div id=\"eq:2-13b\"></div>\n",
      "\n",
      "$$\n",
      "\\begin{equation}\n",
      "\ta_\\alpha |0\\rangle = 0 \\label{eq:2-13b} \\tag{17}\n",
      "\\end{equation}\n",
      "$$"
     ]
    },
    {
     "cell_type": "markdown",
     "metadata": {},
     "source": [
      "### Second quantization\n",
      "If $\\{\\alpha\\alpha_i\\} = \\{\\alpha_i'\\}$, performing the right permutations, the sequence\n",
      "$\\alpha ,\\alpha_1, \\alpha_2, \\dots, \\alpha_n$ is identical with the sequence\n",
      "$\\alpha_1', \\alpha_2', \\dots, \\alpha_{n+1}'$. This results in"
     ]
    },
    {
     "cell_type": "markdown",
     "metadata": {},
     "source": [
      "<!-- Equation labels as ordinary links -->\n",
      "<div id=\"eq:2-14\"></div>\n",
      "\n",
      "$$\n",
      "\\begin{equation}\n",
      "\t\\langle\\alpha_1\\alpha_2 \\dots \\alpha_n|a_\\alpha|\\alpha\\alpha_1\\alpha_2 \\dots \\alpha_{n}\\rangle = 1 \\label{eq:2-14} \\tag{18}\n",
      "\\end{equation}\n",
      "$$"
     ]
    },
    {
     "cell_type": "markdown",
     "metadata": {},
     "source": [
      "and thus"
     ]
    },
    {
     "cell_type": "markdown",
     "metadata": {},
     "source": [
      "<!-- Equation labels as ordinary links -->\n",
      "<div id=\"eq:2-15\"></div>\n",
      "\n",
      "$$\n",
      "\\begin{equation}\n",
      "\ta_\\alpha |\\alpha\\alpha_1\\alpha_2 \\dots \\alpha_{n}\\rangle = |\\alpha_1\\alpha_2 \\dots \\alpha_{n}\\rangle \\label{eq:2-15} \\tag{19}\n",
      "\\end{equation}\n",
      "$$"
     ]
    },
    {
     "cell_type": "markdown",
     "metadata": {},
     "source": [
      "### Second quantization\n",
      "The action of the operator \n",
      "$a_\\alpha$ from the left on a state vector  is to to remove  one particle in the state\n",
      "$\\alpha$. \n",
      "If the state vector does not contain the single-particle state $\\alpha$, the outcome of the operation is zero.\n",
      "The operator  $a_\\alpha$ is normally called for a destruction or annihilation operator.\n",
      "\n",
      "The next step is to establish the  commutator algebra of $a_\\alpha^{\\dagger}$ and\n",
      "$a_\\beta$.\n",
      "\n",
      "\n",
      "\n",
      "\n",
      "### Second quantization\n",
      "The action of the anti-commutator \n",
      "$\\{a_\\alpha^{\\dagger}$,$a_\\alpha\\}$ on a given $n$-particle state is"
     ]
    },
    {
     "cell_type": "markdown",
     "metadata": {},
     "source": [
      "<!-- Equation labels as ordinary links -->\n",
      "<div id=\"eq:2-16a\"></div>\n",
      "\n",
      "$$\n",
      "\\begin{eqnarray}\n",
      "\ta_\\alpha^{\\dagger} a_\\alpha \\underbrace{|\\alpha_1\\alpha_2 \\dots \\alpha_{n}\\rangle}_{\\neq \\alpha} &=& 0 \\nonumber \\\\\n",
      "\ta_\\alpha a_\\alpha^{\\dagger} \\underbrace{|\\alpha_1\\alpha_2 \\dots \\alpha_{n}\\rangle}_{\\neq \\alpha} &=&\n",
      "\ta_\\alpha \\underbrace{|\\alpha \\alpha_1\\alpha_2 \\dots \\alpha_{n}\\rangle}_{\\neq \\alpha} = \n",
      "\t\\underbrace{|\\alpha_1\\alpha_2 \\dots \\alpha_{n}\\rangle}_{\\neq \\alpha} \\label{eq:2-16a} \\tag{20}\n",
      "\\end{eqnarray}\n",
      "$$"
     ]
    },
    {
     "cell_type": "markdown",
     "metadata": {},
     "source": [
      "if the single-particle state $\\alpha$ is not contained in the state.\n",
      "\n",
      "\n",
      "\n",
      "\n",
      "### Second quantization\n",
      " If it is present\n",
      "we arrive at"
     ]
    },
    {
     "cell_type": "markdown",
     "metadata": {},
     "source": [
      "<!-- Equation labels as ordinary links -->\n",
      "<div id=\"eq:2-16b\"></div>\n",
      "\n",
      "$$\n",
      "\\begin{eqnarray}\n",
      "\ta_\\alpha^{\\dagger} a_\\alpha |\\alpha_1\\alpha_2 \\dots \\alpha_{k}\\alpha \\alpha_{k+1} \\dots \\alpha_{n-1}\\rangle &=&\n",
      "\ta_\\alpha^{\\dagger} a_\\alpha (-1)^k |\\alpha \\alpha_1\\alpha_2 \\dots \\alpha_{n-1}\\rangle \\nonumber \\\\\n",
      "\t= (-1)^k |\\alpha \\alpha_1\\alpha_2 \\dots \\alpha_{n-1}\\rangle &=& \n",
      "\t|\\alpha_1\\alpha_2 \\dots \\alpha_{k}\\alpha \\alpha_{k+1} \\dots \\alpha_{n-1}\\rangle \\nonumber \\\\\n",
      "\ta_\\alpha a_\\alpha^{\\dagger}|\\alpha_1\\alpha_2 \\dots \\alpha_{k}\\alpha \\alpha_{k+1} \\dots \\alpha_{n-1}\\rangle &=& 0 \\label{eq:2-16b} \\tag{21}\n",
      "\\end{eqnarray}\n",
      "$$"
     ]
    },
    {
     "cell_type": "markdown",
     "metadata": {},
     "source": [
      "From Eqs. [(20)](#eq:2-16a) and  [(21)](#eq:2-16b) we arrive at"
     ]
    },
    {
     "cell_type": "markdown",
     "metadata": {},
     "source": [
      "<!-- Equation labels as ordinary links -->\n",
      "<div id=\"eq:2-17\"></div>\n",
      "\n",
      "$$\n",
      "\\begin{equation}\n",
      "\t\\{a_\\alpha^{\\dagger} , a_\\alpha \\} = a_\\alpha^{\\dagger} a_\\alpha + a_\\alpha a_\\alpha^{\\dagger} = 1 \\label{eq:2-17} \\tag{22}\n",
      "\\end{equation}\n",
      "$$"
     ]
    },
    {
     "cell_type": "markdown",
     "metadata": {},
     "source": [
      "### Second quantization\n",
      "The action of $\\left\\{a_\\alpha^{\\dagger}, a_\\beta\\right\\}$, with \n",
      "$\\alpha \\ne \\beta$ on a given state yields three possibilities. \n",
      "The first case is a state vector which contains both $\\alpha$ and $\\beta$, then either \n",
      "$\\alpha$ or $\\beta$ and finally none of them.\n",
      "\n",
      "\n",
      "\n",
      "\n",
      "### Second quantization\n",
      "The first case results in"
     ]
    },
    {
     "cell_type": "markdown",
     "metadata": {},
     "source": [
      "<!-- Equation labels as ordinary links -->\n",
      "<div id=\"eq:2-18a\"></div>\n",
      "\n",
      "$$\n",
      "\\begin{eqnarray}\n",
      "\ta_\\alpha^{\\dagger} a_\\beta |\\alpha\\beta\\alpha_1\\alpha_2 \\dots \\alpha_{n-2}\\rangle = 0 \\nonumber \\\\\n",
      "\ta_\\beta a_\\alpha^{\\dagger} |\\alpha\\beta\\alpha_1\\alpha_2 \\dots \\alpha_{n-2}\\rangle = 0 \\label{eq:2-18a} \\tag{23}\n",
      "\\end{eqnarray}\n",
      "$$"
     ]
    },
    {
     "cell_type": "markdown",
     "metadata": {},
     "source": [
      "while the second case gives"
     ]
    },
    {
     "cell_type": "markdown",
     "metadata": {},
     "source": [
      "<!-- Equation labels as ordinary links -->\n",
      "<div id=\"eq:2-18b\"></div>\n",
      "\n",
      "$$\n",
      "\\begin{eqnarray}\n",
      "\t a_\\alpha^{\\dagger} a_\\beta |\\beta \\underbrace{\\alpha_1\\alpha_2 \\dots \\alpha_{n-1}}_{\\neq \\alpha}\\rangle &=& \n",
      "\t \t|\\alpha \\underbrace{\\alpha_1\\alpha_2 \\dots \\alpha_{n-1}}_{\\neq  \\alpha}\\rangle \\nonumber \\\\\n",
      "\ta_\\beta a_\\alpha^{\\dagger} |\\beta \\underbrace{\\alpha_1\\alpha_2 \\dots \\alpha_{n-1}}_{\\neq \\alpha}\\rangle &=&\n",
      "\t\ta_\\beta |\\alpha\\beta\\underbrace{\\beta \\alpha_1\\alpha_2 \\dots \\alpha_{n-1}}_{\\neq \\alpha}\\rangle \\nonumber \\\\\n",
      "\t&=& - |\\alpha\\underbrace{\\alpha_1\\alpha_2 \\dots \\alpha_{n-1}}_{\\neq \\alpha}\\rangle \\label{eq:2-18b} \\tag{24}\n",
      "\\end{eqnarray}\n",
      "$$"
     ]
    },
    {
     "cell_type": "markdown",
     "metadata": {},
     "source": [
      "### Second quantization\n",
      "Finally if the state vector does not contain $\\alpha$ and $\\beta$"
     ]
    },
    {
     "cell_type": "markdown",
     "metadata": {},
     "source": [
      "<!-- Equation labels as ordinary links -->\n",
      "<div id=\"eq:2-18c\"></div>\n",
      "\n",
      "$$\n",
      "\\begin{eqnarray}\n",
      "\ta_\\alpha^{\\dagger} a_\\beta |\\underbrace{\\alpha_1\\alpha_2 \\dots \\alpha_{n}}_{\\neq \\alpha,\\beta}\\rangle &=& 0 \\nonumber \\\\\n",
      "\ta_\\beta a_\\alpha^{\\dagger} |\\underbrace{\\alpha_1\\alpha_2 \\dots \\alpha_{n}}_{\\neq \\alpha,\\beta}\\rangle &=& \n",
      "\t\ta_\\beta |\\alpha \\underbrace{\\alpha_1\\alpha_2 \\dots \\alpha_{n}}_{\\neq \\alpha,\\beta}\\rangle = 0 \\label{eq:2-18c} \\tag{25}\n",
      "\\end{eqnarray}\n",
      "$$"
     ]
    },
    {
     "cell_type": "markdown",
     "metadata": {},
     "source": [
      "For all three cases we have"
     ]
    },
    {
     "cell_type": "markdown",
     "metadata": {},
     "source": [
      "<!-- Equation labels as ordinary links -->\n",
      "<div id=\"eq:2-19\"></div>\n",
      "\n",
      "$$\n",
      "\\begin{equation}\n",
      "\t\\{a_\\alpha^{\\dagger},a_\\beta \\} = a_\\alpha^{\\dagger} a_\\beta + a_\\beta a_\\alpha^{\\dagger} = 0, \\quad \\alpha \\neq \\beta \\label{eq:2-19} \\tag{26}\n",
      "\\end{equation}\n",
      "$$"
     ]
    },
    {
     "cell_type": "markdown",
     "metadata": {},
     "source": [
      "### Second quantization\n",
      "We can summarize  our findings in Eqs. [(22)](#eq:2-17) and [(26)](#eq:2-19) as"
     ]
    },
    {
     "cell_type": "markdown",
     "metadata": {},
     "source": [
      "<!-- Equation labels as ordinary links -->\n",
      "<div id=\"eq:2-20\"></div>\n",
      "\n",
      "$$\n",
      "\\begin{equation}\n",
      "\t\\{a_\\alpha^{\\dagger},a_\\beta \\} = \\delta_{\\alpha\\beta} \\label{eq:2-20} \\tag{27}\n",
      "\\end{equation}\n",
      "$$"
     ]
    },
    {
     "cell_type": "markdown",
     "metadata": {},
     "source": [
      "with  $\\delta_{\\alpha\\beta}$ is the Kroenecker $\\delta$-symbol.\n",
      "\n",
      "The properties of the creation and annihilation operators can be summarized as (for fermions)"
     ]
    },
    {
     "cell_type": "markdown",
     "metadata": {},
     "source": [
      "$$\n",
      "a_\\alpha^{\\dagger}|0\\rangle \\equiv  |\\alpha\\rangle,\n",
      "$$"
     ]
    },
    {
     "cell_type": "markdown",
     "metadata": {},
     "source": [
      "and"
     ]
    },
    {
     "cell_type": "markdown",
     "metadata": {},
     "source": [
      "$$\n",
      "a_\\alpha^{\\dagger}|\\alpha_1\\dots \\alpha_n\\rangle_{\\mathrm{AS}} \\equiv  |\\alpha\\alpha_1\\dots \\alpha_n\\rangle_{\\mathrm{AS}}.\n",
      "$$"
     ]
    },
    {
     "cell_type": "markdown",
     "metadata": {},
     "source": [
      "from which follows"
     ]
    },
    {
     "cell_type": "markdown",
     "metadata": {},
     "source": [
      "$$\n",
      "|\\alpha_1\\dots \\alpha_n\\rangle_{\\mathrm{AS}} = a_{\\alpha_1}^{\\dagger} a_{\\alpha_2}^{\\dagger} \\dots a_{\\alpha_n}^{\\dagger} |0\\rangle.\n",
      "$$"
     ]
    },
    {
     "cell_type": "markdown",
     "metadata": {},
     "source": [
      "### Second quantization\n",
      "The hermitian conjugate has the folowing properties"
     ]
    },
    {
     "cell_type": "markdown",
     "metadata": {},
     "source": [
      "$$\n",
      "a_{\\alpha} = ( a_{\\alpha}^{\\dagger} )^{\\dagger}.\n",
      "$$"
     ]
    },
    {
     "cell_type": "markdown",
     "metadata": {},
     "source": [
      "Finally we found"
     ]
    },
    {
     "cell_type": "markdown",
     "metadata": {},
     "source": [
      "$$\n",
      "a_\\alpha\\underbrace{|\\alpha_1'\\alpha_2' \\dots \\alpha_{n+1}'}\\rangle_{\\neq \\alpha} = 0, \\quad\n",
      "\t\t\\textrm{in particular } a_\\alpha |0\\rangle = 0,\n",
      "$$"
     ]
    },
    {
     "cell_type": "markdown",
     "metadata": {},
     "source": [
      "and"
     ]
    },
    {
     "cell_type": "markdown",
     "metadata": {},
     "source": [
      "$$\n",
      "a_\\alpha |\\alpha\\alpha_1\\alpha_2 \\dots \\alpha_{n}\\rangle = |\\alpha_1\\alpha_2 \\dots \\alpha_{n}\\rangle,\n",
      "$$"
     ]
    },
    {
     "cell_type": "markdown",
     "metadata": {},
     "source": [
      "and the corresponding commutator algebra"
     ]
    },
    {
     "cell_type": "markdown",
     "metadata": {},
     "source": [
      "$$\n",
      "\\{a_{\\alpha}^{\\dagger},a_{\\beta}^{\\dagger}\\} = \\{a_{\\alpha},a_{\\beta}\\} = 0 \\hspace{0.5cm} \n",
      "\\{a_\\alpha^{\\dagger},a_\\beta \\} = \\delta_{\\alpha\\beta}.\n",
      "$$"
     ]
    },
    {
     "cell_type": "markdown",
     "metadata": {},
     "source": [
      "### Second quantization\n",
      "A very useful operator is the so-called number-operator.  Most physics cases  we will\n",
      "study in this text conserve the total number of particles.  The number operator is therefore\n",
      "a useful quantity which allows us to test that our many-body formalism  conserves the number of particles.\n",
      "In for example $(d,p)$ or $(p,d)$ reactions it is important to be able to describe quantum mechanical states\n",
      "where particles get added or removed.\n",
      "A creation operator $a_\\alpha^{\\dagger}$ adds one particle to the single-particle state\n",
      "$\\alpha$ of a give many-body state vector, while an annihilation operator $a_\\alpha$ \n",
      "removes a particle from a single-particle\n",
      "state $\\alpha$.\n",
      "\n",
      "\n",
      "\n",
      "\n",
      "\n",
      "### Second quantization\n",
      "Let us consider an operator proportional with $a_\\alpha^{\\dagger} a_\\beta$ and \n",
      "$\\alpha=\\beta$. It acts on an $n$-particle state \n",
      "resulting in"
     ]
    },
    {
     "cell_type": "markdown",
     "metadata": {},
     "source": [
      "$$\n",
      "\\begin{equation}\n",
      "\ta_\\alpha^{\\dagger} a_\\alpha |\\alpha_1\\alpha_2 \\dots \\alpha_{n}\\rangle = \n",
      "\t\\begin{cases}\n",
      "\t\t0  &\\alpha \\notin \\{\\alpha_i\\} \\\\\n",
      "\t\t\\\\\n",
      "\t\t|\\alpha_1\\alpha_2 \\dots \\alpha_{n}\\rangle & \\alpha \\in \\{\\alpha_i\\}\n",
      "\t\\end{cases}\n",
      "\\end{equation}\n",
      "$$"
     ]
    },
    {
     "cell_type": "markdown",
     "metadata": {},
     "source": [
      "Summing over all possible one-particle states we arrive at"
     ]
    },
    {
     "cell_type": "markdown",
     "metadata": {},
     "source": [
      "<!-- Equation labels as ordinary links -->\n",
      "<div id=\"eq:2-21\"></div>\n",
      "\n",
      "$$\n",
      "\\begin{equation}\n",
      "\t\\left( \\sum_\\alpha a_\\alpha^{\\dagger} a_\\alpha \\right) |\\alpha_1\\alpha_2 \\dots \\alpha_{n}\\rangle = \n",
      "\tn |\\alpha_1\\alpha_2 \\dots \\alpha_{n}\\rangle \\label{eq:2-21} \\tag{28}\n",
      "\\end{equation}\n",
      "$$"
     ]
    },
    {
     "cell_type": "markdown",
     "metadata": {},
     "source": [
      "### Second quantization\n",
      "The operator"
     ]
    },
    {
     "cell_type": "markdown",
     "metadata": {},
     "source": [
      "<!-- Equation labels as ordinary links -->\n",
      "<div id=\"eq:2-22\"></div>\n",
      "\n",
      "$$\n",
      "\\begin{equation}\n",
      "\t\\hat{N} = \\sum_\\alpha a_\\alpha^{\\dagger} a_\\alpha \\label{eq:2-22} \\tag{29}\n",
      "\\end{equation}\n",
      "$$"
     ]
    },
    {
     "cell_type": "markdown",
     "metadata": {},
     "source": [
      "is called the number operator since it counts the number of particles in a give state vector when it acts \n",
      "on the different single-particle states.  It acts on one single-particle state at the time and falls \n",
      "therefore under category one-body operators.\n",
      "Next we look at another important one-body operator, namely $\\hat{H}_0$ and study its operator form in the \n",
      "occupation number representation.\n",
      "\n",
      "\n",
      "\n",
      "\n",
      "### Second quantization\n",
      "We want to obtain an expression for a one-body operator which conserves the number of particles.\n",
      "Here we study the one-body operator for the kinetic energy plus an eventual external one-body potential.\n",
      "The action of this operator on a particular $n$-body state with its pertinent expectation value has already\n",
      "been studied in coordinate  space.\n",
      "In coordinate space the operator reads"
     ]
    },
    {
     "cell_type": "markdown",
     "metadata": {},
     "source": [
      "<!-- Equation labels as ordinary links -->\n",
      "<div id=\"eq:2-23\"></div>\n",
      "\n",
      "$$\n",
      "\\begin{equation}\n",
      "\t\\hat{H}_0 = \\sum_i \\hat{h}_0(x_i) \\label{eq:2-23} \\tag{30}\n",
      "\\end{equation}\n",
      "$$"
     ]
    },
    {
     "cell_type": "markdown",
     "metadata": {},
     "source": [
      "and the anti-symmetric $n$-particle Slater determinant is defined as"
     ]
    },
    {
     "cell_type": "markdown",
     "metadata": {},
     "source": [
      "$$\n",
      "\\Phi(x_1, x_2,\\dots ,x_n,\\alpha_1,\\alpha_2,\\dots, \\alpha_n)= \\frac{1}{\\sqrt{n!}} \\sum_p (-1)^p\\hat{P}\\psi_{\\alpha_1}(x_1)\\psi_{\\alpha_2}(x_2) \\dots \\psi_{\\alpha_n}(x_n).\n",
      "$$"
     ]
    },
    {
     "cell_type": "markdown",
     "metadata": {},
     "source": [
      "### Second quantization\n",
      "Defining"
     ]
    },
    {
     "cell_type": "markdown",
     "metadata": {},
     "source": [
      "<!-- Equation labels as ordinary links -->\n",
      "<div id=\"eq:2-25\"></div>\n",
      "\n",
      "$$\n",
      "\\begin{equation}\n",
      "\t\\hat{h}_0(x_i) \\psi_{\\alpha_i}(x_i) = \\sum_{\\alpha_k'} \\psi_{\\alpha_k'}(x_i) \\langle\\alpha_k'|\\hat{h}_0|\\alpha_k\\rangle \\label{eq:2-25} \\tag{31}\n",
      "\\end{equation}\n",
      "$$"
     ]
    },
    {
     "cell_type": "markdown",
     "metadata": {},
     "source": [
      "we can easily  evaluate the action of $\\hat{H}_0$ on each product of one-particle functions in Slater determinant.\n",
      "From Eq. [(31)](#eq:2-25)  we obtain the following result without  permuting any particle pair"
     ]
    },
    {
     "cell_type": "markdown",
     "metadata": {},
     "source": [
      "<!-- Equation labels as ordinary links -->\n",
      "<div id=\"eq:2-26\"></div>\n",
      "\n",
      "$$\n",
      "\\begin{eqnarray}\n",
      "\t&& \\left( \\sum_i \\hat{h}_0(x_i) \\right) \\psi_{\\alpha_1}(x_1)\\psi_{\\alpha_2}(x_2) \\dots \\psi_{\\alpha_n}(x_n) \\nonumber \\\\\n",
      "\t& =&\\sum_{\\alpha_1'} \\langle \\alpha_1'|\\hat{h}_0|\\alpha_1\\rangle \n",
      "\t\t\\psi_{\\alpha_1'}(x_1)\\psi_{\\alpha_2}(x_2) \\dots \\psi_{\\alpha_n}(x_n) \\nonumber \\\\\n",
      "\t&+&\\sum_{\\alpha_2'} \\langle \\alpha_2'|\\hat{h}_0|\\alpha_2\\rangle\n",
      "\t\t\\psi_{\\alpha_1}(x_1)\\psi_{\\alpha_2'}(x_2) \\dots \\psi_{\\alpha_n}(x_n) \\nonumber \\\\\n",
      "\t&+& \\dots \\nonumber \\\\\n",
      "\t&+&\\sum_{\\alpha_n'} \\langle \\alpha_n'|\\hat{h}_0|\\alpha_n\\rangle\n",
      "\t\t\\psi_{\\alpha_1}(x_1)\\psi_{\\alpha_2}(x_2) \\dots \\psi_{\\alpha_n'}(x_n) \\label{eq:2-26} \\tag{32}\n",
      "\\end{eqnarray}\n",
      "$$"
     ]
    },
    {
     "cell_type": "markdown",
     "metadata": {},
     "source": [
      "### Second quantization\n",
      "If we interchange particles $1$ and $2$  we obtain"
     ]
    },
    {
     "cell_type": "markdown",
     "metadata": {},
     "source": [
      "<!-- Equation labels as ordinary links -->\n",
      "<div id=\"eq:2-27\"></div>\n",
      "\n",
      "$$\n",
      "\\begin{eqnarray}\n",
      "\t&& \\left( \\sum_i \\hat{h}_0(x_i) \\right) \\psi_{\\alpha_1}(x_2)\\psi_{\\alpha_1}(x_2) \\dots \\psi_{\\alpha_n}(x_n) \\nonumber \\\\\n",
      "\t& =&\\sum_{\\alpha_2'} \\langle \\alpha_2'|\\hat{h}_0|\\alpha_2\\rangle \n",
      "\t\t\\psi_{\\alpha_1}(x_2)\\psi_{\\alpha_2'}(x_1) \\dots \\psi_{\\alpha_n}(x_n) \\nonumber \\\\\n",
      "\t&+&\\sum_{\\alpha_1'} \\langle \\alpha_1'|\\hat{h}_0|\\alpha_1\\rangle\n",
      "\t\t\\psi_{\\alpha_1'}(x_2)\\psi_{\\alpha_2}(x_1) \\dots \\psi_{\\alpha_n}(x_n) \\nonumber \\\\\n",
      "\t&+& \\dots \\nonumber \\\\\n",
      "\t&+&\\sum_{\\alpha_n'} \\langle \\alpha_n'|\\hat{h}_0|\\alpha_n\\rangle\n",
      "\t\t\\psi_{\\alpha_1}(x_2)\\psi_{\\alpha_1}(x_2) \\dots \\psi_{\\alpha_n'}(x_n) \\label{eq:2-27} \\tag{33}\n",
      "\\end{eqnarray}\n",
      "$$"
     ]
    },
    {
     "cell_type": "markdown",
     "metadata": {},
     "source": [
      "### Second quantization\n",
      "We can continue by computing all possible permutations. \n",
      "We rewrite also our Slater determinant in its second quantized form and skip the dependence on the quantum numbers $x_i.$\n",
      "Summing up all contributions and taking care of all phases\n",
      "$(-1)^p$ we arrive at"
     ]
    },
    {
     "cell_type": "markdown",
     "metadata": {},
     "source": [
      "<!-- Equation labels as ordinary links -->\n",
      "<div id=\"eq:2-28\"></div>\n",
      "\n",
      "$$\n",
      "\\begin{eqnarray}\n",
      "\t\\hat{H}_0|\\alpha_1,\\alpha_2,\\dots, \\alpha_n\\rangle &=& \\sum_{\\alpha_1'}\\langle \\alpha_1'|\\hat{h}_0|\\alpha_1\\rangle\n",
      "\t\t|\\alpha_1'\\alpha_2 \\dots \\alpha_{n}\\rangle \\nonumber \\\\\n",
      "\t&+& \\sum_{\\alpha_2'} \\langle \\alpha_2'|\\hat{h}_0|\\alpha_2\\rangle\n",
      "\t\t|\\alpha_1\\alpha_2' \\dots \\alpha_{n}\\rangle \\nonumber \\\\\n",
      "\t&+& \\dots \\nonumber \\\\\n",
      "\t&+& \\sum_{\\alpha_n'} \\langle \\alpha_n'|\\hat{h}_0|\\alpha_n\\rangle\n",
      "\t\t|\\alpha_1\\alpha_2 \\dots \\alpha_{n}'\\rangle \\label{eq:2-28} \\tag{34}\n",
      "\\end{eqnarray}\n",
      "$$"
     ]
    },
    {
     "cell_type": "markdown",
     "metadata": {},
     "source": [
      "### Second quantization\n",
      "In Eq. [(34)](#eq:2-28) \n",
      "we have expressed the action of the one-body operator\n",
      "of Eq. [(30)](#eq:2-23) on the  $n$-body state in its second quantized form.\n",
      "This equation can be further manipulated if we use the properties of the creation and annihilation operator\n",
      "on each primed quantum number, that is"
     ]
    },
    {
     "cell_type": "markdown",
     "metadata": {},
     "source": [
      "<!-- Equation labels as ordinary links -->\n",
      "<div id=\"eq:2-29\"></div>\n",
      "\n",
      "$$\n",
      "\\begin{equation}\n",
      "\t|\\alpha_1\\alpha_2 \\dots \\alpha_k' \\dots \\alpha_{n}\\rangle = \n",
      "\t\ta_{\\alpha_k'}^{\\dagger}  a_{\\alpha_k} |\\alpha_1\\alpha_2 \\dots \\alpha_k \\dots \\alpha_{n}\\rangle \\label{eq:2-29} \\tag{35}\n",
      "\\end{equation}\n",
      "$$"
     ]
    },
    {
     "cell_type": "markdown",
     "metadata": {},
     "source": [
      "Inserting this in the right-hand side of Eq. [(34)](#eq:2-28) results in"
     ]
    },
    {
     "cell_type": "markdown",
     "metadata": {},
     "source": [
      "<!-- Equation labels as ordinary links -->\n",
      "<div id=\"eq:2-30a\"></div>\n",
      "\n",
      "$$\n",
      "\\begin{eqnarray}\n",
      "\t\\hat{H}_0|\\alpha_1\\alpha_2 \\dots \\alpha_{n}\\rangle &=& \\sum_{\\alpha_1'}\\langle \\alpha_1'|\\hat{h}_0|\\alpha_1\\rangle\n",
      "\t\ta_{\\alpha_1'}^{\\dagger}  a_{\\alpha_1} |\\alpha_1\\alpha_2 \\dots \\alpha_{n}\\rangle \\nonumber \\\\\n",
      "\t&+& \\sum_{\\alpha_2'} \\langle \\alpha_2'|\\hat{h}_0|\\alpha_2\\rangle\n",
      "\t\ta_{\\alpha_2'}^{\\dagger}  a_{\\alpha_2} |\\alpha_1\\alpha_2 \\dots \\alpha_{n}\\rangle \\nonumber \\\\\n",
      "\t&+& \\dots \\nonumber \\\\\n",
      "\t&+& \\sum_{\\alpha_n'} \\langle \\alpha_n'|\\hat{h}_0|\\alpha_n\\rangle\n",
      "\t\ta_{\\alpha_n'}^{\\dagger}  a_{\\alpha_n} |\\alpha_1\\alpha_2 \\dots \\alpha_{n}\\rangle \\nonumber \\\\\n",
      "\t&=& \\sum_{\\alpha, \\beta} \\langle \\alpha|\\hat{h}_0|\\beta\\rangle a_\\alpha^{\\dagger} a_\\beta \n",
      "\t\t|\\alpha_1\\alpha_2 \\dots \\alpha_{n}\\rangle \\label{eq:2-30a} \\tag{36}\n",
      "\\end{eqnarray}\n",
      "$$"
     ]
    },
    {
     "cell_type": "markdown",
     "metadata": {},
     "source": [
      "### Second quantization\n",
      "In the number occupation representation or second quantization we get the following expression for a one-body \n",
      "operator which conserves the number of particles"
     ]
    },
    {
     "cell_type": "markdown",
     "metadata": {},
     "source": [
      "<!-- Equation labels as ordinary links -->\n",
      "<div id=\"eq:2-30b\"></div>\n",
      "\n",
      "$$\n",
      "\\begin{equation}\n",
      "\t\\hat{H}_0 = \\sum_{\\alpha\\beta} \\langle \\alpha|\\hat{h}_0|\\beta\\rangle a_\\alpha^{\\dagger} a_\\beta \\label{eq:2-30b} \\tag{37}\n",
      "\\end{equation}\n",
      "$$"
     ]
    },
    {
     "cell_type": "markdown",
     "metadata": {},
     "source": [
      "Obviously, $\\hat{H}_0$ can be replaced by any other one-body  operator which preserved the number\n",
      "of particles. The stucture of the operator is therefore not limited to say the kinetic or single-particle energy only.\n",
      "\n",
      "The opearator $\\hat{H}_0$ takes a particle from the single-particle state $\\beta$  to the single-particle state $\\alpha$ \n",
      "with a probability for the transition given by the expectation value $\\langle \\alpha|\\hat{h}_0|\\beta\\rangle$.\n",
      "\n",
      "\n",
      "\n",
      "\n",
      "### Second quantization\n",
      "It is instructive to verify Eq. [(37)](#eq:2-30b) by computing the expectation value of $\\hat{H}_0$ \n",
      "between two single-particle states"
     ]
    },
    {
     "cell_type": "markdown",
     "metadata": {},
     "source": [
      "<!-- Equation labels as ordinary links -->\n",
      "<div id=\"eq:2-30c\"></div>\n",
      "\n",
      "$$\n",
      "\\begin{equation}\n",
      "\t\\langle \\alpha_1|\\hat{h}_0|\\alpha_2\\rangle = \\sum_{\\alpha\\beta} \\langle \\alpha|\\hat{h}_0|\\beta\\rangle\n",
      "\t\t\\langle 0|a_{\\alpha_1}a_\\alpha^{\\dagger} a_\\beta a_{\\alpha_2}^{\\dagger}|0\\rangle \\label{eq:2-30c} \\tag{38}\n",
      "\\end{equation}\n",
      "$$"
     ]
    },
    {
     "cell_type": "markdown",
     "metadata": {},
     "source": [
      "### Second quantization\n",
      "Using the commutation relations for the creation and annihilation operators we have"
     ]
    },
    {
     "cell_type": "markdown",
     "metadata": {},
     "source": [
      "<!-- Equation labels as ordinary links -->\n",
      "<div id=\"eq:2-30d\"></div>\n",
      "\n",
      "$$\n",
      "\\begin{equation}\n",
      "a_{\\alpha_1}a_\\alpha^{\\dagger} a_\\beta a_{\\alpha_2}^{\\dagger} = (\\delta_{\\alpha \\alpha_1} - a_\\alpha^{\\dagger} a_{\\alpha_1} )(\\delta_{\\beta \\alpha_2} - a_{\\alpha_2}^{\\dagger} a_{\\beta} ), \\label{eq:2-30d} \\tag{39}\n",
      "\\end{equation}\n",
      "$$"
     ]
    },
    {
     "cell_type": "markdown",
     "metadata": {},
     "source": [
      "which results in"
     ]
    },
    {
     "cell_type": "markdown",
     "metadata": {},
     "source": [
      "<!-- Equation labels as ordinary links -->\n",
      "<div id=\"eq:2-30e\"></div>\n",
      "\n",
      "$$\n",
      "\\begin{equation}\n",
      "\\langle 0|a_{\\alpha_1}a_\\alpha^{\\dagger} a_\\beta a_{\\alpha_2}^{\\dagger}|0\\rangle = \\delta_{\\alpha \\alpha_1} \\delta_{\\beta \\alpha_2} \\label{eq:2-30e} \\tag{40}\n",
      "\\end{equation}\n",
      "$$"
     ]
    },
    {
     "cell_type": "markdown",
     "metadata": {},
     "source": [
      "and"
     ]
    },
    {
     "cell_type": "markdown",
     "metadata": {},
     "source": [
      "<!-- Equation labels as ordinary links -->\n",
      "<div id=\"eq:2-30f\"></div>\n",
      "\n",
      "$$\n",
      "\\begin{equation}\n",
      "\\langle \\alpha_1|\\hat{h}_0|\\alpha_2\\rangle = \\sum_{\\alpha\\beta} \\langle \\alpha|\\hat{h}_0|\\beta\\rangle\\delta_{\\alpha \\alpha_1} \\delta_{\\beta \\alpha_2} = \\langle \\alpha_1|\\hat{h}_0|\\alpha_2\\rangle \\label{eq:2-30f} \\tag{41}\n",
      "\\end{equation}\n",
      "$$"
     ]
    },
    {
     "cell_type": "markdown",
     "metadata": {},
     "source": [
      "### Two-body operators in second quantization\n",
      "Let us now derive the expression for our two-body interaction part, which also conserves the number of particles.\n",
      "We can proceed in exactly the same way as for the one-body operator. In the coordinate representation our\n",
      "two-body interaction part takes the following expression"
     ]
    },
    {
     "cell_type": "markdown",
     "metadata": {},
     "source": [
      "<!-- Equation labels as ordinary links -->\n",
      "<div id=\"eq:2-31\"></div>\n",
      "\n",
      "$$\n",
      "\\begin{equation}\n",
      "\t\\hat{H}_I = \\sum_{i < j} V(x_i,x_j) \\label{eq:2-31} \\tag{42}\n",
      "\\end{equation}\n",
      "$$"
     ]
    },
    {
     "cell_type": "markdown",
     "metadata": {},
     "source": [
      "where the summation runs over distinct pairs. The term $V$ can be an interaction model for the nucleon-nucleon interaction\n",
      "or the interaction between two electrons. It can also include additional two-body interaction terms. \n",
      "\n",
      "The action of this operator on a product of \n",
      "two single-particle functions is defined as"
     ]
    },
    {
     "cell_type": "markdown",
     "metadata": {},
     "source": [
      "<!-- Equation labels as ordinary links -->\n",
      "<div id=\"eq:2-32\"></div>\n",
      "\n",
      "$$\n",
      "\\begin{equation}\n",
      "\tV(x_i,x_j) \\psi_{\\alpha_k}(x_i) \\psi_{\\alpha_l}(x_j) = \\sum_{\\alpha_k'\\alpha_l'} \n",
      "\t\t\\psi_{\\alpha_k}'(x_i)\\psi_{\\alpha_l}'(x_j) \n",
      "\t\t\\langle \\alpha_k'\\alpha_l'|\\hat{v}|\\alpha_k\\alpha_l\\rangle \\label{eq:2-32} \\tag{43}\n",
      "\\end{equation}\n",
      "$$"
     ]
    },
    {
     "cell_type": "markdown",
     "metadata": {},
     "source": [
      "### Operators in second quantization\n",
      "We can now let $\\hat{H}_I$ act on all terms in the linear combination for $|\\alpha_1\\alpha_2\\dots\\alpha_n\\rangle$. Without any permutations we have"
     ]
    },
    {
     "cell_type": "markdown",
     "metadata": {},
     "source": [
      "<!-- Equation labels as ordinary links -->\n",
      "<div id=\"eq:2-33\"></div>\n",
      "\n",
      "$$\n",
      "\\begin{eqnarray}\n",
      "\t&& \\left( \\sum_{i < j} V(x_i,x_j) \\right) \\psi_{\\alpha_1}(x_1)\\psi_{\\alpha_2}(x_2)\\dots \\psi_{\\alpha_n}(x_n) \\nonumber \\\\\n",
      "\t&=& \\sum_{\\alpha_1'\\alpha_2'} \\langle \\alpha_1'\\alpha_2'|\\hat{v}|\\alpha_1\\alpha_2\\rangle\n",
      "\t\t\\psi_{\\alpha_1}'(x_1)\\psi_{\\alpha_2}'(x_2)\\dots \\psi_{\\alpha_n}(x_n) \\nonumber \\\\\n",
      "\t& +& \\dots \\nonumber \\\\\n",
      "\t&+& \\sum_{\\alpha_1'\\alpha_n'} \\langle \\alpha_1'\\alpha_n'|\\hat{v}|\\alpha_1\\alpha_n\\rangle\n",
      "\t\t\\psi_{\\alpha_1}'(x_1)\\psi_{\\alpha_2}(x_2)\\dots \\psi_{\\alpha_n}'(x_n) \\nonumber \\\\\n",
      "\t& +& \\dots \\nonumber \\\\\n",
      "\t&+& \\sum_{\\alpha_2'\\alpha_n'} \\langle \\alpha_2'\\alpha_n'|\\hat{v}|\\alpha_2\\alpha_n\\rangle\n",
      "\t\t\\psi_{\\alpha_1}(x_1)\\psi_{\\alpha_2}'(x_2)\\dots \\psi_{\\alpha_n}'(x_n) \\nonumber \\\\\n",
      "\t & +& \\dots \\label{eq:2-33} \\tag{44}\n",
      "\\end{eqnarray}\n",
      "$$"
     ]
    },
    {
     "cell_type": "markdown",
     "metadata": {},
     "source": [
      "where on the rhs we have a term for each distinct pairs.\n",
      "\n",
      "\n",
      "\n",
      "\n",
      "\n",
      "\n",
      "### Operators in second quantization\n",
      "For the other terms on the rhs we obtain similar expressions  and summing over all terms we obtain"
     ]
    },
    {
     "cell_type": "markdown",
     "metadata": {},
     "source": [
      "<!-- Equation labels as ordinary links -->\n",
      "<div id=\"eq:2-34\"></div>\n",
      "\n",
      "$$\n",
      "\\begin{eqnarray}\n",
      "\tH_I |\\alpha_1\\alpha_2\\dots\\alpha_n\\rangle &=& \\sum_{\\alpha_1', \\alpha_2'} \\langle \\alpha_1'\\alpha_2'|\\hat{v}|\\alpha_1\\alpha_2\\rangle\n",
      "\t\t|\\alpha_1'\\alpha_2'\\dots\\alpha_n\\rangle \\nonumber \\\\\n",
      "\t&+& \\dots \\nonumber \\\\\n",
      "\t&+& \\sum_{\\alpha_1', \\alpha_n'} \\langle \\alpha_1'\\alpha_n'|\\hat{v}|\\alpha_1\\alpha_n\\rangle\n",
      "\t\t|\\alpha_1'\\alpha_2\\dots\\alpha_n'\\rangle \\nonumber \\\\\n",
      "\t&+& \\dots \\nonumber \\\\\n",
      "\t&+& \\sum_{\\alpha_2', \\alpha_n'} \\langle \\alpha_2'\\alpha_n'|\\hat{v}|\\alpha_2\\alpha_n\\rangle\n",
      "\t\t|\\alpha_1\\alpha_2'\\dots\\alpha_n'\\rangle \\nonumber \\\\\n",
      "\t &+& \\dots \\label{eq:2-34} \\tag{45}\n",
      "\\end{eqnarray}\n",
      "$$"
     ]
    },
    {
     "cell_type": "markdown",
     "metadata": {},
     "source": [
      "### Operators in second quantization\n",
      "We introduce second quantization via the relation"
     ]
    },
    {
     "cell_type": "markdown",
     "metadata": {},
     "source": [
      "<!-- Equation labels as ordinary links -->\n",
      "<div id=\"eq:2-35\"></div>\n",
      "\n",
      "$$\n",
      "\\begin{eqnarray}\n",
      "\t&& a_{\\alpha_k'}^{\\dagger} a_{\\alpha_l'}^{\\dagger} a_{\\alpha_l} a_{\\alpha_k} \n",
      "\t\t|\\alpha_1\\alpha_2\\dots\\alpha_k\\dots\\alpha_l\\dots\\alpha_n\\rangle \\nonumber \\\\\n",
      "\t&=& (-1)^{k-1} (-1)^{l-2} a_{\\alpha_k'}^{\\dagger} a_{\\alpha_l'}^{\\dagger} a_{\\alpha_l} a_{\\alpha_k}\n",
      "\t\t|\\alpha_k\\alpha_l \\underbrace{\\alpha_1\\alpha_2\\dots\\alpha_n}_{\\neq \\alpha_k,\\alpha_l}\\rangle \\nonumber \\\\\n",
      "\t&=& (-1)^{k-1} (-1)^{l-2} \n",
      "\t|\\alpha_k'\\alpha_l' \\underbrace{\\alpha_1\\alpha_2\\dots\\alpha_n}_{\\neq \\alpha_k',\\alpha_l'}\\rangle \\nonumber \\\\\n",
      "\t&=& |\\alpha_1\\alpha_2\\dots\\alpha_k'\\dots\\alpha_l'\\dots\\alpha_n\\rangle \\label{eq:2-35} \\tag{46}\n",
      "\\end{eqnarray}\n",
      "$$"
     ]
    },
    {
     "cell_type": "markdown",
     "metadata": {},
     "source": [
      "### Operators in second quantization\n",
      "Inserting this in [(45)](#eq:2-34) gives"
     ]
    },
    {
     "cell_type": "markdown",
     "metadata": {},
     "source": [
      "<!-- Equation labels as ordinary links -->\n",
      "<div id=\"eq:2-36\"></div>\n",
      "\n",
      "$$\n",
      "\\begin{eqnarray}\n",
      "\tH_I |\\alpha_1\\alpha_2\\dots\\alpha_n\\rangle\n",
      "\t&=& \\sum_{\\alpha_1', \\alpha_2'} \\langle \\alpha_1'\\alpha_2'|\\hat{v}|\\alpha_1\\alpha_2\\rangle\n",
      "\t\ta_{\\alpha_1'}^{\\dagger} a_{\\alpha_2'}^{\\dagger} a_{\\alpha_2} a_{\\alpha_1}\n",
      "\t\t|\\alpha_1\\alpha_2\\dots\\alpha_n\\rangle \\nonumber \\\\\n",
      "\t&+& \\dots \\nonumber \\\\\n",
      "\t&=& \\sum_{\\alpha_1', \\alpha_n'} \\langle \\alpha_1'\\alpha_n'|\\hat{v}|\\alpha_1\\alpha_n\\rangle\n",
      "\t\ta_{\\alpha_1'}^{\\dagger} a_{\\alpha_n'}^{\\dagger} a_{\\alpha_n} a_{\\alpha_1}\n",
      "\t\t|\\alpha_1\\alpha_2\\dots\\alpha_n\\rangle \\nonumber \\\\\n",
      "\t&+& \\dots \\nonumber \\\\\n",
      "\t&=& \\sum_{\\alpha_2', \\alpha_n'} \\langle \\alpha_2'\\alpha_n'|\\hat{v}|\\alpha_2\\alpha_n\\rangle\n",
      "\t\ta_{\\alpha_2'}^{\\dagger} a_{\\alpha_n'}^{\\dagger} a_{\\alpha_n} a_{\\alpha_2}\n",
      "\t\t|\\alpha_1\\alpha_2\\dots\\alpha_n\\rangle \\nonumber \\\\\n",
      "\t&+& \\dots \\nonumber \\\\\n",
      "\t&=& \\sum_{\\alpha, \\beta, \\gamma, \\delta} ' \\langle \\alpha\\beta|\\hat{v}|\\gamma\\delta\\rangle\n",
      "\t\ta^{\\dagger}_\\alpha a^{\\dagger}_\\beta a_\\delta a_\\gamma\n",
      "\t\t|\\alpha_1\\alpha_2\\dots\\alpha_n\\rangle \\label{eq:2-36} \\tag{47}\n",
      "\\end{eqnarray}\n",
      "$$"
     ]
    },
    {
     "cell_type": "markdown",
     "metadata": {},
     "source": [
      "### Operators in second quantization\n",
      "Here we let $\\sum'$ indicate that the sums running over $\\alpha$ and $\\beta$ run over all\n",
      "single-particle states, while the summations  $\\gamma$ and $\\delta$ \n",
      "run over all pairs of single-particle states. We wish to remove this restriction and since"
     ]
    },
    {
     "cell_type": "markdown",
     "metadata": {},
     "source": [
      "<!-- Equation labels as ordinary links -->\n",
      "<div id=\"eq:2-37\"></div>\n",
      "\n",
      "$$\n",
      "\\begin{equation}\n",
      "\t\\langle \\alpha\\beta|\\hat{v}|\\gamma\\delta\\rangle = \\langle \\beta\\alpha|\\hat{v}|\\delta\\gamma\\rangle \\label{eq:2-37} \\tag{48}\n",
      "\\end{equation}\n",
      "$$"
     ]
    },
    {
     "cell_type": "markdown",
     "metadata": {},
     "source": [
      "we get"
     ]
    },
    {
     "cell_type": "markdown",
     "metadata": {},
     "source": [
      "<!-- Equation labels as ordinary links -->\n",
      "<div id=\"eq:2-38a\"></div> <div id=\"eq:2-38b\"></div>\n",
      "\n",
      "$$\n",
      "\\begin{eqnarray}\n",
      "\t\\sum_{\\alpha\\beta} \\langle \\alpha\\beta|\\hat{v}|\\gamma\\delta\\rangle a^{\\dagger}_\\alpha a^{\\dagger}_\\beta a_\\delta a_\\gamma &=& \n",
      "\t\t\\sum_{\\alpha\\beta} \\langle \\beta\\alpha|\\hat{v}|\\delta\\gamma\\rangle \n",
      "\t\ta^{\\dagger}_\\alpha a^{\\dagger}_\\beta a_\\delta a_\\gamma \\label{eq:2-38a} \\tag{49} \\\\\n",
      "\t&=& \\sum_{\\alpha\\beta}\\langle \\beta\\alpha|\\hat{v}|\\delta\\gamma\\rangle\n",
      "\t\ta^{\\dagger}_\\beta a^{\\dagger}_\\alpha a_\\gamma a_\\delta \\label{eq:2-38b} \\tag{50}\n",
      "\\end{eqnarray}\n",
      "$$"
     ]
    },
    {
     "cell_type": "markdown",
     "metadata": {},
     "source": [
      "where we  have used the anti-commutation rules.\n",
      "\n",
      "\n",
      "\n",
      "\n",
      "### Operators in second quantization\n",
      "Changing the summation indices \n",
      "$\\alpha$ and $\\beta$ in [(50)](#eq:2-38b) we obtain"
     ]
    },
    {
     "cell_type": "markdown",
     "metadata": {},
     "source": [
      "<!-- Equation labels as ordinary links -->\n",
      "<div id=\"eq:2-38c\"></div>\n",
      "\n",
      "$$\n",
      "\\begin{equation}\n",
      "\t\\sum_{\\alpha\\beta} \\langle \\alpha\\beta|\\hat{v}|\\gamma\\delta\\rangle a^{\\dagger}_\\alpha a^{\\dagger}_\\beta a_\\delta a_\\gamma =\n",
      "\t\t \\sum_{\\alpha\\beta} \\langle \\alpha\\beta|\\hat{v}|\\delta\\gamma\\rangle \n",
      "\t\t  a^{\\dagger}_\\alpha a^{\\dagger}_\\beta  a_\\gamma a_\\delta \\label{eq:2-38c} \\tag{51}\n",
      "\\end{equation}\n",
      "$$"
     ]
    },
    {
     "cell_type": "markdown",
     "metadata": {},
     "source": [
      "From this it follows that the restriction on the summation over $\\gamma$ and $\\delta$ can be removed if we multiply with a factor $\\frac{1}{2}$, resulting in"
     ]
    },
    {
     "cell_type": "markdown",
     "metadata": {},
     "source": [
      "<!-- Equation labels as ordinary links -->\n",
      "<div id=\"eq:2-39\"></div>\n",
      "\n",
      "$$\n",
      "\\begin{equation}\n",
      "\t\\hat{H}_I = \\frac{1}{2} \\sum_{\\alpha\\beta\\gamma\\delta} \\langle \\alpha\\beta|\\hat{v}|\\gamma\\delta\\rangle\n",
      "\t\ta^{\\dagger}_\\alpha a^{\\dagger}_\\beta a_\\delta a_\\gamma \\label{eq:2-39} \\tag{52}\n",
      "\\end{equation}\n",
      "$$"
     ]
    },
    {
     "cell_type": "markdown",
     "metadata": {},
     "source": [
      "where we sum freely over all single-particle states $\\alpha$, \n",
      "$\\beta$, $\\gamma$ og $\\delta$.\n",
      "\n",
      "\n",
      "\n",
      "\n",
      "\n",
      "### Operators in second quantization\n",
      "With this expression we can now verify that the second quantization form of $\\hat{H}_I$ in Eq. [(52)](#eq:2-39) \n",
      "results in the same matrix between two anti-symmetrized two-particle states as its corresponding coordinate\n",
      "space representation. We have"
     ]
    },
    {
     "cell_type": "markdown",
     "metadata": {},
     "source": [
      "<!-- Equation labels as ordinary links -->\n",
      "<div id=\"eq:2-40\"></div>\n",
      "\n",
      "$$\n",
      "\\begin{equation}\n",
      "\t\\langle \\alpha_1 \\alpha_2|\\hat{H}_I|\\beta_1 \\beta_2\\rangle =\n",
      "\t\t\\frac{1}{2} \\sum_{\\alpha\\beta\\gamma\\delta}\n",
      "\t\t\t\\langle \\alpha\\beta|\\hat{v}|\\gamma\\delta\\rangle \\langle 0|a_{\\alpha_2} a_{\\alpha_1} \n",
      "\t\t\t a^{\\dagger}_\\alpha a^{\\dagger}_\\beta a_\\delta a_\\gamma \n",
      "\t\t\t a_{\\beta_1}^{\\dagger} a_{\\beta_2}^{\\dagger}|0\\rangle. \\label{eq:2-40} \\tag{53}\n",
      "\\end{equation}\n",
      "$$"
     ]
    },
    {
     "cell_type": "markdown",
     "metadata": {},
     "source": [
      "### Operators in second quantization\n",
      "Using the commutation relations we get"
     ]
    },
    {
     "cell_type": "markdown",
     "metadata": {},
     "source": [
      "<!-- Equation labels as ordinary links -->\n",
      "<div id=\"eq:2-41\"></div>\n",
      "\n",
      "$$\n",
      "\\begin{eqnarray}\n",
      "\t&& a_{\\alpha_2} a_{\\alpha_1}a^{\\dagger}_\\alpha a^{\\dagger}_\\beta \n",
      "\t\ta_\\delta a_\\gamma a_{\\beta_1}^{\\dagger} a_{\\beta_2}^{\\dagger} \\nonumber \\\\\n",
      "\t&=& a_{\\alpha_2} a_{\\alpha_1}a^{\\dagger}_\\alpha a^{\\dagger}_\\beta \n",
      "\t\t( a_\\delta \\delta_{\\gamma \\beta_1} a_{\\beta_2}^{\\dagger} - \n",
      "\t\ta_\\delta  a_{\\beta_1}^{\\dagger} a_\\gamma a_{\\beta_2}^{\\dagger} ) \\nonumber \\\\\n",
      "\t&=& a_{\\alpha_2} a_{\\alpha_1}a^{\\dagger}_\\alpha a^{\\dagger}_\\beta \n",
      "\t\t(\\delta_{\\gamma \\beta_1} \\delta_{\\delta \\beta_2} - \\delta_{\\gamma \\beta_1} a_{\\beta_2}^{\\dagger} a_\\delta -\n",
      "\t\ta_\\delta a_{\\beta_1}^{\\dagger}\\delta_{\\gamma \\beta_2} +\n",
      "\t\ta_\\delta a_{\\beta_1}^{\\dagger} a_{\\beta_2}^{\\dagger} a_\\gamma ) \\nonumber \\\\\n",
      "\t&=& a_{\\alpha_2} a_{\\alpha_1}a^{\\dagger}_\\alpha a^{\\dagger}_\\beta \n",
      "\t\t(\\delta_{\\gamma \\beta_1} \\delta_{\\delta \\beta_2} - \\delta_{\\gamma \\beta_1} a_{\\beta_2}^{\\dagger} a_\\delta \\nonumber \\\\\n",
      "\t\t&& \\qquad - \\delta_{\\delta \\beta_1} \\delta_{\\gamma \\beta_2} + \\delta_{\\gamma \\beta_2} a_{\\beta_1}^{\\dagger} a_\\delta\n",
      "\t\t+ a_\\delta a_{\\beta_1}^{\\dagger} a_{\\beta_2}^{\\dagger} a_\\gamma ) \\label{eq:2-41} \\tag{54}\n",
      "\\end{eqnarray}\n",
      "$$"
     ]
    },
    {
     "cell_type": "markdown",
     "metadata": {},
     "source": [
      "### Operators in second quantization\n",
      "The vacuum expectation value of this product of operators becomes"
     ]
    },
    {
     "cell_type": "markdown",
     "metadata": {},
     "source": [
      "<!-- Equation labels as ordinary links -->\n",
      "<div id=\"eq:2-42b\"></div>\n",
      "\n",
      "$$\n",
      "\\begin{eqnarray}\n",
      "\t&& \\langle 0|a_{\\alpha_2} a_{\\alpha_1} a^{\\dagger}_\\alpha a^{\\dagger}_\\beta a_\\delta a_\\gamma \n",
      "\t\ta_{\\beta_1}^{\\dagger} a_{\\beta_2}^{\\dagger}|0\\rangle \\nonumber \\\\\n",
      "\t&=& (\\delta_{\\gamma \\beta_1} \\delta_{\\delta \\beta_2} -\n",
      "\t\t\\delta_{\\delta \\beta_1} \\delta_{\\gamma \\beta_2} ) \n",
      "\t\t\\langle 0|a_{\\alpha_2} a_{\\alpha_1}a^{\\dagger}_\\alpha a^{\\dagger}_\\beta|0\\rangle \\nonumber \\\\\n",
      "\t&=& (\\delta_{\\gamma \\beta_1} \\delta_{\\delta \\beta_2} -\\delta_{\\delta \\beta_1} \\delta_{\\gamma \\beta_2} )\n",
      "\t(\\delta_{\\alpha \\alpha_1} \\delta_{\\beta \\alpha_2} -\\delta_{\\beta \\alpha_1} \\delta_{\\alpha \\alpha_2} ) \\label{eq:2-42b} \\tag{55}\n",
      "\\end{eqnarray}\n",
      "$$"
     ]
    },
    {
     "cell_type": "markdown",
     "metadata": {},
     "source": [
      "### Operators in second quantization\n",
      "Insertion of \n",
      "Eq. [(55)](#eq:2-42b) in Eq. [(53)](#eq:2-40) results in"
     ]
    },
    {
     "cell_type": "markdown",
     "metadata": {},
     "source": [
      "<!-- Equation labels as ordinary links -->\n",
      "<div id=\"eq:2-43b\"></div>\n",
      "\n",
      "$$\n",
      "\\begin{eqnarray}\n",
      "\t\\langle \\alpha_1\\alpha_2|\\hat{H}_I|\\beta_1\\beta_2\\rangle &=& \\frac{1}{2} \\big[ \n",
      "\t\t\\langle \\alpha_1\\alpha_2|\\hat{v}|\\beta_1\\beta_2\\rangle- \\langle \\alpha_1\\alpha_2|\\hat{v}|\\beta_2\\beta_1\\rangle \\nonumber \\\\\n",
      "\t\t&& - \\langle \\alpha_2\\alpha_1|\\hat{v}|\\beta_1\\beta_2\\rangle + \\langle \\alpha_2\\alpha_1|\\hat{v}|\\beta_2\\beta_1\\rangle \\big] \\nonumber \\\\\n",
      "\t&=& \\langle \\alpha_1\\alpha_2|\\hat{v}|\\beta_1\\beta_2\\rangle - \\langle \\alpha_1\\alpha_2|\\hat{v}|\\beta_2\\beta_1\\rangle \\nonumber \\\\\n",
      "\t&=& \\langle \\alpha_1\\alpha_2|\\hat{v}|\\beta_1\\beta_2\\rangle_{\\mathrm{AS}}. \\label{eq:2-43b} \\tag{56}\n",
      "\\end{eqnarray}\n",
      "$$"
     ]
    },
    {
     "cell_type": "markdown",
     "metadata": {},
     "source": [
      "### Operators in second quantization\n",
      "The two-body operator can also be expressed in terms of the anti-symmetrized matrix elements we discussed previously as"
     ]
    },
    {
     "cell_type": "markdown",
     "metadata": {},
     "source": [
      "<!-- Equation labels as ordinary links -->\n",
      "<div id=\"eq:2-45\"></div>\n",
      "\n",
      "$$\n",
      "\\begin{eqnarray}\n",
      "\t\\hat{H}_I &=& \\frac{1}{2} \\sum_{\\alpha\\beta\\gamma\\delta}  \\langle \\alpha \\beta|\\hat{v}|\\gamma \\delta\\rangle\n",
      "\t\ta_\\alpha^{\\dagger} a_\\beta^{\\dagger} a_\\delta a_\\gamma \\nonumber \\\\\n",
      "\t&=& \\frac{1}{4} \\sum_{\\alpha\\beta\\gamma\\delta} \\left[ \\langle \\alpha \\beta|\\hat{v}|\\gamma \\delta\\rangle -\n",
      "\t\t\\langle \\alpha \\beta|\\hat{v}|\\delta\\gamma \\rangle \\right] \n",
      "\t\ta_\\alpha^{\\dagger} a_\\beta^{\\dagger} a_\\delta a_\\gamma \\nonumber \\\\\n",
      "\t&=& \\frac{1}{4} \\sum_{\\alpha\\beta\\gamma\\delta} \\langle \\alpha \\beta|\\hat{v}|\\gamma \\delta\\rangle_{\\mathrm{AS}}\n",
      "\t\ta_\\alpha^{\\dagger} a_\\beta^{\\dagger} a_\\delta a_\\gamma \\label{eq:2-45} \\tag{57}\n",
      "\\end{eqnarray}\n",
      "$$"
     ]
    },
    {
     "cell_type": "markdown",
     "metadata": {},
     "source": [
      "### Operators in second quantization\n",
      "The factors in front of the operator, either  $\\frac{1}{4}$ or \n",
      "$\\frac{1}{2}$ tells whether we use antisymmetrized matrix elements or not. \n",
      "\n",
      "We can now express the Hamiltonian operator for a many-fermion system  in the occupation basis representation\n",
      "as"
     ]
    },
    {
     "cell_type": "markdown",
     "metadata": {},
     "source": [
      "<!-- Equation labels as ordinary links -->\n",
      "<div id=\"eq:2-46b\"></div>\n",
      "\n",
      "$$\n",
      "\\begin{equation}\n",
      "\tH = \\sum_{\\alpha, \\beta} \\langle \\alpha|\\hat{t}+\\hat{u}_{\\mathrm{ext}}|\\beta\\rangle a_\\alpha^{\\dagger} a_\\beta + \\frac{1}{4} \\sum_{\\alpha\\beta\\gamma\\delta}\n",
      "\t\t\\langle \\alpha \\beta|\\hat{v}|\\gamma \\delta\\rangle a_\\alpha^{\\dagger} a_\\beta^{\\dagger} a_\\delta a_\\gamma. \\label{eq:2-46b} \\tag{58}\n",
      "\\end{equation}\n",
      "$$"
     ]
    },
    {
     "cell_type": "markdown",
     "metadata": {},
     "source": [
      "This is the form we will use in the rest of these lectures, assuming that we work with anti-symmetrized two-body matrix elements.\n",
      "\n",
      "\n",
      "\n",
      "\n",
      "\n",
      "### Particle-hole formalism\n",
      "Second quantization is a useful and elegant formalism  for constructing many-body  states and \n",
      "quantum mechanical operators. One can express and translate many physical processes\n",
      "into simple pictures such as Feynman diagrams. Expecation values of many-body states are also easily calculated.\n",
      "However, although the equations are seemingly easy to set up, from  a practical point of view, that is\n",
      "the solution of Schroedinger's equation, there is no particular gain.\n",
      "The many-body equation is equally hard to solve, irrespective of representation. \n",
      "The cliche that \n",
      "there is no free lunch brings us down to earth again.  \n",
      "Note however that a transformation to a particular\n",
      "basis, for cases where the interaction obeys specific symmetries, can ease the solution of Schroedinger's equation. \n",
      "\n",
      "But there is at least one important case where second quantization comes to our rescue.\n",
      "It is namely easy to introduce another reference state than the pure vacuum $|0\\rangle $, where all single-particle states are active.\n",
      "With many particles present it is often useful to introduce another reference state  than the vacuum state$|0\\rangle $. We will label this state $|c\\rangle$ ($c$ for core) and as we will see it can reduce \n",
      "considerably the complexity and thereby the dimensionality of the many-body problem. It allows us to sum up to infinite order specific many-body correlations.  The particle-hole representation is one of these handy representations.\n",
      "\n",
      "\n",
      "\n",
      "### Particle-hole formalism\n",
      "In the original particle representation these states are products of the creation operators  $a_{\\alpha_i}^\\dagger$ acting on the true vacuum $|0\\rangle $.\n",
      "Following Eq. [(3)](#eq:2-2) we have"
     ]
    },
    {
     "cell_type": "markdown",
     "metadata": {},
     "source": [
      "<!-- Equation labels as ordinary links -->\n",
      "<div id=\"eq:2-47a\"></div> <div id=\"eq:2-47b\"></div> <div id=\"eq:2-47c\"></div>\n",
      "\n",
      "$$\n",
      "\\begin{eqnarray}\n",
      " |\\alpha_1\\alpha_2\\dots\\alpha_{n-1}\\alpha_n\\rangle &=& a_{\\alpha_1}^\\dagger a_{\\alpha_2}^\\dagger \\dots\n",
      "\t\t\t\t\ta_{\\alpha_{n-1}}^\\dagger a_{\\alpha_n}^\\dagger |0\\rangle  \\label{eq:2-47a} \\tag{59} \\\\\n",
      "\t|\\alpha_1\\alpha_2\\dots\\alpha_{n-1}\\alpha_n\\alpha_{n+1}\\rangle &=&\n",
      "\t\ta_{\\alpha_1}^\\dagger a_{\\alpha_2}^\\dagger \\dots a_{\\alpha_{n-1}}^\\dagger a_{\\alpha_n}^\\dagger\n",
      "\t\ta_{\\alpha_{n+1}}^\\dagger |0\\rangle  \\label{eq:2-47b} \\tag{60} \\\\\n",
      "\t|\\alpha_1\\alpha_2\\dots\\alpha_{n-1}\\rangle &=& a_{\\alpha_1}^\\dagger a_{\\alpha_2}^\\dagger \\dots\n",
      "\t\ta_{\\alpha_{n-1}}^\\dagger |0\\rangle  \\label{eq:2-47c} \\tag{61}\n",
      "\\end{eqnarray}\n",
      "$$"
     ]
    },
    {
     "cell_type": "markdown",
     "metadata": {},
     "source": [
      "### Particle-hole formalism\n",
      "If we use Eq. [(59)](#eq:2-47a) as our new reference state, we can simplify considerably the representation of \n",
      "this state"
     ]
    },
    {
     "cell_type": "markdown",
     "metadata": {},
     "source": [
      "<!-- Equation labels as ordinary links -->\n",
      "<div id=\"eq:2-48a\"></div>\n",
      "\n",
      "$$\n",
      "\\begin{equation}\n",
      "\t|c\\rangle  \\equiv |\\alpha_1\\alpha_2\\dots\\alpha_{n-1}\\alpha_n\\rangle =\n",
      "\t\ta_{\\alpha_1}^\\dagger a_{\\alpha_2}^\\dagger \\dots a_{\\alpha_{n-1}}^\\dagger a_{\\alpha_n}^\\dagger |0\\rangle  \\label{eq:2-48a} \\tag{62}\n",
      "\\end{equation}\n",
      "$$"
     ]
    },
    {
     "cell_type": "markdown",
     "metadata": {},
     "source": [
      "The new reference states for the $n+1$ and $n-1$ states can then be written as"
     ]
    },
    {
     "cell_type": "markdown",
     "metadata": {},
     "source": [
      "<!-- Equation labels as ordinary links -->\n",
      "<div id=\"eq:2-48b\"></div> <div id=\"eq:2-48c\"></div>\n",
      "\n",
      "$$\n",
      "\\begin{eqnarray}\n",
      "\t|\\alpha_1\\alpha_2\\dots\\alpha_{n-1}\\alpha_n\\alpha_{n+1}\\rangle &=& (-1)^n a_{\\alpha_{n+1}}^\\dagger |c\\rangle \n",
      "\t\t\\equiv (-1)^n |\\alpha_{n+1}\\rangle_c \\label{eq:2-48b} \\tag{63} \\\\\n",
      "\t|\\alpha_1\\alpha_2\\dots\\alpha_{n-1}\\rangle &=& (-1)^{n-1} a_{\\alpha_n} |c\\rangle  \n",
      "\t\t\\equiv (-1)^{n-1} |\\alpha_{n-1}\\rangle_c \\label{eq:2-48c} \\tag{64} \n",
      "\\end{eqnarray}\n",
      "$$"
     ]
    },
    {
     "cell_type": "markdown",
     "metadata": {},
     "source": [
      "### Particle-hole formalism\n",
      "The first state has one additional particle with respect to the new vacuum state\n",
      "$|c\\rangle $  and is normally referred to as a one-particle state or one particle added to the \n",
      "many-body reference state. \n",
      "The second state has one particle less than the reference vacuum state  $|c\\rangle $ and is referred to as\n",
      "a one-hole state. \n",
      "When dealing with a new reference state it is often convenient to introduce \n",
      "new creation and annihilation operators since we have \n",
      "from Eq. [(64)](#eq:2-48c)"
     ]
    },
    {
     "cell_type": "markdown",
     "metadata": {},
     "source": [
      "<!-- Equation labels as ordinary links -->\n",
      "<div id=\"eq:2-49\"></div>\n",
      "\n",
      "$$\n",
      "\\begin{equation}\n",
      "\ta_\\alpha |c\\rangle  \\neq 0 \\label{eq:2-49} \\tag{65}\n",
      "\\end{equation}\n",
      "$$"
     ]
    },
    {
     "cell_type": "markdown",
     "metadata": {},
     "source": [
      "since  $\\alpha$ is contained  in $|c\\rangle $, while for the true vacuum we have \n",
      "$a_\\alpha |0\\rangle  = 0$ for all $\\alpha$.\n",
      "\n",
      "The new reference state leads to the definition of new creation and annihilation operators\n",
      "which satisfy the following relations"
     ]
    },
    {
     "cell_type": "markdown",
     "metadata": {},
     "source": [
      "<!-- Equation labels as ordinary links -->\n",
      "<div id=\"eq:2-50a\"></div> <div id=\"eq:2-50c\"></div>\n",
      "\n",
      "$$\n",
      "\\begin{eqnarray}\n",
      "\tb_\\alpha |c\\rangle  &=& 0 \\label{eq:2-50a} \\tag{66} \\\\\n",
      "\t\\{b_\\alpha^\\dagger , b_\\beta^\\dagger \\} = \\{b_\\alpha , b_\\beta \\} &=& 0 \\nonumber  \\\\\n",
      "\t\\{b_\\alpha^\\dagger , b_\\beta \\} &=& \\delta_{\\alpha \\beta} \\label{eq:2-50c} \\tag{67}\n",
      "\\end{eqnarray}\n",
      "$$"
     ]
    },
    {
     "cell_type": "markdown",
     "metadata": {},
     "source": [
      "We assume also that the new reference state is properly normalized"
     ]
    },
    {
     "cell_type": "markdown",
     "metadata": {},
     "source": [
      "<!-- Equation labels as ordinary links -->\n",
      "<div id=\"eq:2-51\"></div>\n",
      "\n",
      "$$\n",
      "\\begin{equation}\n",
      "\t\\langle c | c \\rangle = 1 \\label{eq:2-51} \\tag{68}\n",
      "\\end{equation}\n",
      "$$"
     ]
    },
    {
     "cell_type": "markdown",
     "metadata": {},
     "source": [
      "### Particle-hole formalism\n",
      "The physical interpretation of these new operators is that of so-called quasiparticle states.\n",
      "This means that a state defined by the addition of one extra particle to a reference state $|c\\rangle $ may not necesseraly be interpreted as one particle coupled to a core.\n",
      "We define now new creation operators that act on a state $\\alpha$ creating a new quasiparticle state"
     ]
    },
    {
     "cell_type": "markdown",
     "metadata": {},
     "source": [
      "<!-- Equation labels as ordinary links -->\n",
      "<div id=\"eq:2-52\"></div>\n",
      "\n",
      "$$\n",
      "\\begin{equation}\n",
      "\tb_\\alpha^\\dagger|c\\rangle  = \\Bigg\\{ \\begin{array}{ll}\n",
      "\t\ta_\\alpha^\\dagger |c\\rangle  = |\\alpha\\rangle, & \\alpha > F \\\\\n",
      "\t\t\\\\\n",
      "\t\ta_\\alpha |c\\rangle  = |\\alpha^{-1}\\rangle, & \\alpha \\leq F\n",
      "\t\\end{array} \\label{eq:2-52} \\tag{69}\n",
      "\\end{equation}\n",
      "$$"
     ]
    },
    {
     "cell_type": "markdown",
     "metadata": {},
     "source": [
      "where $F$ is the Fermi level representing the last  occupied single-particle orbit \n",
      "of the new reference state $|c\\rangle $. \n",
      "\n",
      "\n",
      "The annihilation is the hermitian conjugate of the creation operator"
     ]
    },
    {
     "cell_type": "markdown",
     "metadata": {},
     "source": [
      "$$\n",
      "b_\\alpha = (b_\\alpha^\\dagger)^\\dagger,\n",
      "$$"
     ]
    },
    {
     "cell_type": "markdown",
     "metadata": {},
     "source": [
      "resulting in"
     ]
    },
    {
     "cell_type": "markdown",
     "metadata": {},
     "source": [
      "<!-- Equation labels as ordinary links -->\n",
      "<div id=\"eq:2-54\"></div>\n",
      "\n",
      "$$\n",
      "\\begin{equation}\n",
      "\tb_\\alpha^\\dagger = \\Bigg\\{ \\begin{array}{ll}\n",
      "\t\ta_\\alpha^\\dagger & \\alpha > F \\\\\n",
      "\t\t\\\\\n",
      "\t\ta_\\alpha & \\alpha \\leq F\n",
      "\t\\end{array} \\qquad \n",
      "\tb_\\alpha = \\Bigg\\{ \\begin{array}{ll}\n",
      "\t\ta_\\alpha & \\alpha > F \\\\\n",
      "\t\t\\\\\n",
      "\t\t a_\\alpha^\\dagger & \\alpha \\leq F\n",
      "\t\\end{array} \\label{eq:2-54} \\tag{70}\n",
      "\\end{equation}\n",
      "$$"
     ]
    },
    {
     "cell_type": "markdown",
     "metadata": {},
     "source": [
      "### Particle-hole formalism\n",
      "With the new creation and annihilation operator  we can now construct \n",
      "many-body quasiparticle states, with one-particle-one-hole states, two-particle-two-hole\n",
      "states etc in the same fashion as we previously constructed many-particle states. \n",
      "We can write a general particle-hole state as"
     ]
    },
    {
     "cell_type": "markdown",
     "metadata": {},
     "source": [
      "<!-- Equation labels as ordinary links -->\n",
      "<div id=\"eq:2-56\"></div>\n",
      "\n",
      "$$\n",
      "\\begin{equation}\n",
      "\t|\\beta_1\\beta_2\\dots \\beta_{n_p} \\gamma_1^{-1} \\gamma_2^{-1} \\dots \\gamma_{n_h}^{-1}\\rangle \\equiv\n",
      "\t\t\\underbrace{b_{\\beta_1}^\\dagger b_{\\beta_2}^\\dagger \\dots b_{\\beta_{n_p}}^\\dagger}_{>F}\n",
      "\t\t\\underbrace{b_{\\gamma_1}^\\dagger b_{\\gamma_2}^\\dagger \\dots b_{\\gamma_{n_h}}^\\dagger}_{\\leq F} |c\\rangle \\label{eq:2-56} \\tag{71}\n",
      "\\end{equation}\n",
      "$$"
     ]
    },
    {
     "cell_type": "markdown",
     "metadata": {},
     "source": [
      "We can now rewrite our one-body and two-body operators in terms of the new creation and annihilation operators.\n",
      "The number operator becomes"
     ]
    },
    {
     "cell_type": "markdown",
     "metadata": {},
     "source": [
      "<!-- Equation labels as ordinary links -->\n",
      "<div id=\"eq:2-57b\"></div>\n",
      "\n",
      "$$\n",
      "\\begin{equation}\n",
      "\t\\hat{N} = \\sum_\\alpha a_\\alpha^\\dagger a_\\alpha= \n",
      "\\sum_{\\alpha > F} b_\\alpha^\\dagger b_\\alpha + n_c - \\sum_{\\alpha \\leq F} b_\\alpha^\\dagger b_\\alpha \\label{eq:2-57b} \\tag{72}\n",
      "\\end{equation}\n",
      "$$"
     ]
    },
    {
     "cell_type": "markdown",
     "metadata": {},
     "source": [
      "where $n_c$ is the number of particle in the new vacuum state $|c\\rangle $.  \n",
      "The action of $\\hat{N}$ on a many-body state results in"
     ]
    },
    {
     "cell_type": "markdown",
     "metadata": {},
     "source": [
      "<!-- Equation labels as ordinary links -->\n",
      "<div id=\"2-59\"></div>\n",
      "\n",
      "$$\n",
      "\\begin{equation}\n",
      "\tN |\\beta_1\\beta_2\\dots \\beta_{n_p} \\gamma_1^{-1} \\gamma_2^{-1} \\dots \\gamma_{n_h}^{-1}\\rangle = (n_p + n_c - n_h) |\\beta_1\\beta_2\\dots \\beta_{n_p} \\gamma_1^{-1} \\gamma_2^{-1} \\dots \\gamma_{n_h}^{-1}\\rangle \\label{2-59} \\tag{73}\n",
      "\\end{equation}\n",
      "$$"
     ]
    },
    {
     "cell_type": "markdown",
     "metadata": {},
     "source": [
      "Here  $n=n_p +n_c - n_h$ is the total number of particles in the quasi-particle state of \n",
      "Eq. [(71)](#eq:2-56). Note that  $\\hat{N}$ counts the total number of particles  present"
     ]
    },
    {
     "cell_type": "markdown",
     "metadata": {},
     "source": [
      "<!-- Equation labels as ordinary links -->\n",
      "<div id=\"eq:2-60\"></div>\n",
      "\n",
      "$$\n",
      "\\begin{equation}\n",
      "\tN_{qp} = \\sum_\\alpha b_\\alpha^\\dagger b_\\alpha, \\label{eq:2-60} \\tag{74}\n",
      "\\end{equation}\n",
      "$$"
     ]
    },
    {
     "cell_type": "markdown",
     "metadata": {},
     "source": [
      "gives us the number of quasi-particles as can be seen by computing"
     ]
    },
    {
     "cell_type": "markdown",
     "metadata": {},
     "source": [
      "<!-- Equation labels as ordinary links -->\n",
      "<div id=\"eq:2-61\"></div>\n",
      "\n",
      "$$\n",
      "\\begin{equation}\n",
      "\tN_{qp}= |\\beta_1\\beta_2\\dots \\beta_{n_p} \\gamma_1^{-1} \\gamma_2^{-1} \\dots \\gamma_{n_h}^{-1}\\rangle\n",
      "\t\t= (n_p + n_h)|\\beta_1\\beta_2\\dots \\beta_{n_p} \\gamma_1^{-1} \\gamma_2^{-1} \\dots \\gamma_{n_h}^{-1}\\rangle \\label{eq:2-61} \\tag{75}\n",
      "\\end{equation}\n",
      "$$"
     ]
    },
    {
     "cell_type": "markdown",
     "metadata": {},
     "source": [
      "where $n_{qp} = n_p + n_h$ is the total number of quasi-particles.\n",
      "\n",
      "\n",
      "\n",
      "### Particle-hole formalism\n",
      "We express the one-body operator $\\hat{H}_0$ in terms of the quasi-particle creation and annihilation operators, resulting in"
     ]
    },
    {
     "cell_type": "markdown",
     "metadata": {},
     "source": [
      "<!-- Equation labels as ordinary links -->\n",
      "<div id=\"eq:2-63b\"></div>\n",
      "\n",
      "$$\n",
      "\\begin{eqnarray}\n",
      "\t\\hat{H}_0 &=& \\sum_{\\alpha\\beta > F} \\langle \\alpha|\\hat{h}_0|\\beta\\rangle  b_\\alpha^\\dagger b_\\beta +\n",
      "\t\t\\sum_{\\begin{array}{c} \\alpha > F \\\\ \\beta \\leq F \\end{array}} \\left[\n",
      "\t\t\\langle \\alpha|\\hat{h}_0|\\beta\\rangle b_\\alpha^\\dagger b_\\beta^\\dagger + \n",
      "\t\t\\langle \\beta|\\hat{h}_0|\\alpha\\rangle b_\\beta  b_\\alpha \\right] \\nonumber \\\\\n",
      "\t&+& \\sum_{\\alpha \\leq F} \\langle \\alpha|\\hat{h}_0|\\alpha\\rangle - \n",
      "\t\t\\sum_{\\alpha\\beta \\leq F} \\langle \\beta|\\hat{h}_0|\\alpha\\rangle\n",
      "\t\tb_\\alpha^\\dagger b_\\beta \\label{eq:2-63b} \\tag{76}\n",
      "\\end{eqnarray}\n",
      "$$"
     ]
    },
    {
     "cell_type": "markdown",
     "metadata": {},
     "source": [
      "The first term  gives contribution only for particle states, while the last one\n",
      "contributes only for holestates. The second term can create or destroy a set of\n",
      "quasi-particles and \n",
      "the third term is the contribution  from the vacuum state $|c\\rangle$.\n",
      "\n",
      "\n",
      "\n",
      "\n",
      "\n",
      "### Particle-hole formalism\n",
      "Before we continue with the expressions for the two-body operator, we introduce a nomenclature we will use for the rest of this\n",
      "text. It is inspired by the notation used in quantum chemistry.\n",
      "We reserve the labels $i,j,k,\\dots$ for hole states and $a,b,c,\\dots$ for states above $F$, viz. particle states.\n",
      "This means also that we will skip the constraint $\\leq F$ or $> F$ in the summation symbols. \n",
      "Our operator $\\hat{H}_0$  reads now"
     ]
    },
    {
     "cell_type": "markdown",
     "metadata": {},
     "source": [
      "<!-- Equation labels as ordinary links -->\n",
      "<div id=\"eq:2-63b\"></div>\n",
      "\n",
      "$$\n",
      "\\begin{eqnarray}\n",
      "\t\\hat{H}_0 &=& \\sum_{ab} \\langle a|\\hat{h}|b\\rangle b_a^\\dagger b_b +\n",
      "\t\t\\sum_{ai} \\left[\n",
      "\t\t\\langle a|\\hat{h}|i\\rangle b_a^\\dagger b_i^\\dagger + \n",
      "\t\t\\langle i|\\hat{h}|a\\rangle b_i  b_a \\right] \\nonumber \\\\\n",
      "\t&+& \\sum_{i} \\langle i|\\hat{h}|i\\rangle - \n",
      "\t\t\\sum_{ij} \\langle j|\\hat{h}|i\\rangle\n",
      "\t\tb_i^\\dagger b_j \\label{eq:2-63b} \\tag{77}\n",
      "\\end{eqnarray}\n",
      "$$"
     ]
    },
    {
     "cell_type": "markdown",
     "metadata": {},
     "source": [
      "### Particle-hole formalism\n",
      "The two-particle operator in the particle-hole formalism  is more complicated since we have\n",
      "to translate four indices $\\alpha\\beta\\gamma\\delta$ to the possible combinations of particle and hole\n",
      "states.  When performing the commutator algebra we can regroup the operator in five different terms"
     ]
    },
    {
     "cell_type": "markdown",
     "metadata": {},
     "source": [
      "<!-- Equation labels as ordinary links -->\n",
      "<div id=\"eq:2-65\"></div>\n",
      "\n",
      "$$\n",
      "\\begin{equation}\n",
      "\t\\hat{H}_I = \\hat{H}_I^{(a)} + \\hat{H}_I^{(b)} + \\hat{H}_I^{(c)} + \\hat{H}_I^{(d)} + \\hat{H}_I^{(e)} \\label{eq:2-65} \\tag{78}\n",
      "\\end{equation}\n",
      "$$"
     ]
    },
    {
     "cell_type": "markdown",
     "metadata": {},
     "source": [
      "Using anti-symmetrized  matrix elements, \n",
      "bthe term  $\\hat{H}_I^{(a)}$ is"
     ]
    },
    {
     "cell_type": "markdown",
     "metadata": {},
     "source": [
      "<!-- Equation labels as ordinary links -->\n",
      "<div id=\"eq:2-66\"></div>\n",
      "\n",
      "$$\n",
      "\\begin{equation}\n",
      "\t\\hat{H}_I^{(a)} = \\frac{1}{4}\n",
      "\t\\sum_{abcd} \\langle ab|\\hat{V}|cd\\rangle \n",
      "\t\tb_a^\\dagger b_b^\\dagger b_d b_c \\label{eq:2-66} \\tag{79}\n",
      "\\end{equation}\n",
      "$$"
     ]
    },
    {
     "cell_type": "markdown",
     "metadata": {},
     "source": [
      "### Particle-hole formalism\n",
      "The next term $\\hat{H}_I^{(b)}$  reads"
     ]
    },
    {
     "cell_type": "markdown",
     "metadata": {},
     "source": [
      "<!-- Equation labels as ordinary links -->\n",
      "<div id=\"eq:2-67b\"></div>\n",
      "\n",
      "$$\n",
      "\\begin{equation}\n",
      "\t \\hat{H}_I^{(b)} = \\frac{1}{4} \\sum_{abci}\\left(\\langle ab|\\hat{V}|ci\\rangle b_a^\\dagger b_b^\\dagger b_i^\\dagger b_c +\\langle ai|\\hat{V}|cb\\rangle b_a^\\dagger b_i b_b b_c\\right) \\label{eq:2-67b} \\tag{80}\n",
      "\\end{equation}\n",
      "$$"
     ]
    },
    {
     "cell_type": "markdown",
     "metadata": {},
     "source": [
      "This term conserves the number of quasiparticles but creates or removes a \n",
      "three-particle-one-hole  state. \n",
      "For $\\hat{H}_I^{(c)}$  we have"
     ]
    },
    {
     "cell_type": "markdown",
     "metadata": {},
     "source": [
      "<!-- Equation labels as ordinary links -->\n",
      "<div id=\"eq:2-68c\"></div>\n",
      "\n",
      "$$\n",
      "\\begin{eqnarray}\n",
      "\t\\hat{H}_I^{(c)}& =& \\frac{1}{4}\n",
      "\t\t\\sum_{abij}\\left(\\langle ab|\\hat{V}|ij\\rangle b_a^\\dagger b_b^\\dagger b_j^\\dagger b_i^\\dagger +\n",
      "\t\t\\langle ij|\\hat{V}|ab\\rangle b_a  b_b b_j b_i \\right)+  \\nonumber \\\\\n",
      "\t&&\t\\frac{1}{2}\\sum_{abij}\\langle ai|\\hat{V}|bj\\rangle b_a^\\dagger b_j^\\dagger b_b b_i + \n",
      "\t\t\\frac{1}{2}\\sum_{abi}\\langle ai|\\hat{V}|bi\\rangle b_a^\\dagger b_b. \\label{eq:2-68c} \\tag{81}\n",
      "\\end{eqnarray}\n",
      "$$"
     ]
    },
    {
     "cell_type": "markdown",
     "metadata": {},
     "source": [
      "### Particle-hole formalism\n",
      "The first line stands for the creation of a two-particle-two-hole state, while the second line represents\n",
      "the creation to two one-particle-one-hole pairs\n",
      "while the last term represents a contribution to the particle single-particle energy\n",
      "from the hole states, that is an interaction between the particle states and the hole states\n",
      "within the new vacuum  state.\n",
      "The fourth term reads"
     ]
    },
    {
     "cell_type": "markdown",
     "metadata": {},
     "source": [
      "<!-- Equation labels as ordinary links -->\n",
      "<div id=\"eq:2-69d\"></div>\n",
      "\n",
      "$$\n",
      "\\begin{eqnarray}\n",
      "\t \\hat{H}_I^{(d)}& = &\\frac{1}{4} \n",
      "\t \t\\sum_{aijk}\\left(\\langle ai|\\hat{V}|jk\\rangle b_a^\\dagger b_k^\\dagger b_j^\\dagger b_i+\n",
      "\\langle ji|\\hat{V}|ak\\rangle b_k^\\dagger b_j b_i b_a\\right)+\\nonumber \\\\\n",
      "&&\\frac{1}{4}\\sum_{aij}\\left(\\langle ai|\\hat{V}|ji\\rangle b_a^\\dagger b_j^\\dagger+\n",
      "\\langle ji|\\hat{V}|ai\\rangle - \\langle ji|\\hat{V}|ia\\rangle b_j b_a \\right). \\label{eq:2-69d} \\tag{82} \n",
      "\\end{eqnarray}\n",
      "$$"
     ]
    },
    {
     "cell_type": "markdown",
     "metadata": {},
     "source": [
      "The terms in the first line  stand for the creation of a particle-hole state \n",
      "interacting with hole states, we will label this as a two-hole-one-particle contribution. \n",
      "The remaining terms are a particle-hole state interacting with the holes in the vacuum state. \n",
      "Finally we have"
     ]
    },
    {
     "cell_type": "markdown",
     "metadata": {},
     "source": [
      "<!-- Equation labels as ordinary links -->\n",
      "<div id=\"eq:2-70d\"></div>\n",
      "\n",
      "$$\n",
      "\\begin{equation}\n",
      "\t\\hat{H}_I^{(e)} = \\frac{1}{4}\n",
      "\t\t \\sum_{ijkl}\n",
      "\t\t \\langle kl|\\hat{V}|ij\\rangle b_i^\\dagger b_j^\\dagger b_l b_k+\n",
      "\t        \\frac{1}{2}\\sum_{ijk}\\langle ij|\\hat{V}|kj\\rangle b_k^\\dagger b_i\n",
      "\t        +\\frac{1}{2}\\sum_{ij}\\langle ij|\\hat{V}|ij\\rangle \\label{eq:2-70d} \\tag{83}\n",
      "\\end{equation}\n",
      "$$"
     ]
    },
    {
     "cell_type": "markdown",
     "metadata": {},
     "source": [
      "The first terms represents the \n",
      "interaction between two holes while the second stands for the interaction between a hole and the remaining holes in the vacuum state.\n",
      "It represents a contribution to single-hole energy  to first order.\n",
      "The last term collects all contributions to the energy of the ground state of a closed-shell system arising\n",
      "from hole-hole correlations.\n",
      "\n",
      "\n",
      "\n",
      "\n",
      "### Summarizing and defining a normal-ordered Hamiltonian"
     ]
    },
    {
     "cell_type": "markdown",
     "metadata": {},
     "source": [
      "$$\n",
      "\\Phi_{AS}(\\alpha_1, \\dots, \\alpha_A; x_1, \\dots x_A)=\n",
      "            \\frac{1}{\\sqrt{A}} \\sum_{\\hat{P}} (-1)^P \\hat{P} \\prod_{i=1}^A \\psi_{\\alpha_i}(x_i),\n",
      "$$"
     ]
    },
    {
     "cell_type": "markdown",
     "metadata": {},
     "source": [
      "which is equivalent with $|\\alpha_1 \\dots \\alpha_A\\rangle= a_{\\alpha_1}^{\\dagger} \\dots a_{\\alpha_A}^{\\dagger} |0\\rangle$. We have also"
     ]
    },
    {
     "cell_type": "markdown",
     "metadata": {},
     "source": [
      "8\n",
      "9\n",
      " \n",
      "<\n",
      "<\n",
      "<\n",
      "!\n",
      "!\n",
      "M\n",
      "A\n",
      "T\n",
      "H\n",
      "_\n",
      "B\n",
      "L\n",
      "O\n",
      "C\n",
      "K"
     ]
    },
    {
     "cell_type": "markdown",
     "metadata": {},
     "source": [
      "$$\n",
      "\\delta_{pq} = \\left\\{a_p, a_q^\\dagger \\right\\},\n",
      "$$"
     ]
    },
    {
     "cell_type": "markdown",
     "metadata": {},
     "source": [
      "and"
     ]
    },
    {
     "cell_type": "markdown",
     "metadata": {},
     "source": [
      "9\n",
      "1\n",
      " \n",
      "<\n",
      "<\n",
      "<\n",
      "!\n",
      "!\n",
      "M\n",
      "A\n",
      "T\n",
      "H\n",
      "_\n",
      "B\n",
      "L\n",
      "O\n",
      "C\n",
      "K"
     ]
    },
    {
     "cell_type": "markdown",
     "metadata": {},
     "source": [
      "$$\n",
      "|\\Phi_0\\rangle = |\\alpha_1 \\dots \\alpha_A\\rangle, \\quad \\alpha_1, \\dots, \\alpha_A \\leq \\alpha_F\n",
      "$$"
     ]
    },
    {
     "cell_type": "markdown",
     "metadata": {},
     "source": [
      "### Summarizing and defining a normal-ordered Hamiltonian"
     ]
    },
    {
     "cell_type": "markdown",
     "metadata": {},
     "source": [
      "9\n",
      "3\n",
      " \n",
      "<\n",
      "<\n",
      "<\n",
      "!\n",
      "!\n",
      "M\n",
      "A\n",
      "T\n",
      "H\n",
      "_\n",
      "B\n",
      "L\n",
      "O\n",
      "C\n",
      "K"
     ]
    },
    {
     "cell_type": "markdown",
     "metadata": {},
     "source": [
      "$$\n",
      "\\left\\{a_p, a_q^\\dagger \\right\\} = \\delta_{pq}, p, q > \\alpha_F\n",
      "$$"
     ]
    },
    {
     "cell_type": "markdown",
     "metadata": {},
     "source": [
      "with         $i,j,\\ldots \\leq \\alpha_F, \\quad a,b,\\ldots > \\alpha_F, \\quad p,q, \\ldots - \\textrm{any}$"
     ]
    },
    {
     "cell_type": "markdown",
     "metadata": {},
     "source": [
      "$$\n",
      "a_i|\\Phi_0\\rangle = |\\Phi_i\\rangle, \\hspace{0.5cm} a_a^\\dagger|\\Phi_0\\rangle = |\\Phi^a\\rangle\n",
      "$$"
     ]
    },
    {
     "cell_type": "markdown",
     "metadata": {},
     "source": [
      "and"
     ]
    },
    {
     "cell_type": "markdown",
     "metadata": {},
     "source": [
      "$$\n",
      "a_i^\\dagger|\\Phi_0\\rangle = 0 \\hspace{0.5cm}  a_a|\\Phi_0\\rangle = 0\n",
      "$$"
     ]
    },
    {
     "cell_type": "markdown",
     "metadata": {},
     "source": [
      "### Summarizing and defining a normal-ordered Hamiltonian\n",
      "**One- and two-body operators.**\n",
      "\n",
      "The one-body operator is defined as"
     ]
    },
    {
     "cell_type": "markdown",
     "metadata": {},
     "source": [
      "$$\n",
      "\\hat{F} = \\sum_{pq} \\langle p|\\hat{f}|q\\rangle a_p^\\dagger a_q\n",
      "$$"
     ]
    },
    {
     "cell_type": "markdown",
     "metadata": {},
     "source": [
      "while the two-body opreator is defined as"
     ]
    },
    {
     "cell_type": "markdown",
     "metadata": {},
     "source": [
      "$$\n",
      "\\hat{V} = \\frac{1}{4} \\sum_{pqrs} \\langle pq|\\hat{v}|rs\\rangle_{AS} a_p^\\dagger a_q^\\dagger a_s a_r\n",
      "$$"
     ]
    },
    {
     "cell_type": "markdown",
     "metadata": {},
     "source": [
      "where we have defined the antisymmetric matrix elements"
     ]
    },
    {
     "cell_type": "markdown",
     "metadata": {},
     "source": [
      "$$\n",
      "\\langle pq|\\hat{v}|rs\\rangle_{AS} = \\langle pq|\\hat{v}|rs\\rangle - \\langle pq|\\hat{v}|sr\\rangle.\n",
      "$$"
     ]
    },
    {
     "cell_type": "markdown",
     "metadata": {},
     "source": [
      "### Summarizing and defining a normal-ordered Hamiltonian\n",
      "We can also define a three-body operator"
     ]
    },
    {
     "cell_type": "markdown",
     "metadata": {},
     "source": [
      "$$\n",
      "\\hat{V}_3 = \\frac{1}{36} \\sum_{pqrstu} \\langle pqr|\\hat{v}_3|stu\\rangle_{AS} \n",
      "                a_p^\\dagger a_q^\\dagger a_r^\\dagger a_u a_t a_s\n",
      "$$"
     ]
    },
    {
     "cell_type": "markdown",
     "metadata": {},
     "source": [
      "with the antisymmetrized matrix element"
     ]
    },
    {
     "cell_type": "markdown",
     "metadata": {},
     "source": [
      "$$\n",
      "\\langle pqr|\\hat{v}_3|stu\\rangle_{AS} = \\langle pqr|\\hat{v}_3|stu\\rangle + \\langle pqr|\\hat{v}_3|tus\\rangle + \\langle pqr|\\hat{v}_3|ust\\rangle- \\langle pqr|\\hat{v}_3|sut\\rangle - \\langle pqr|\\hat{v}_3|tsu\\rangle - \\langle pqr|\\hat{v}_3|uts\\rangle.\n",
      "$$"
     ]
    },
    {
     "cell_type": "markdown",
     "metadata": {},
     "source": [
      "### Operators in second quantization\n",
      "In the build-up of a shell-model or FCI code that is meant to tackle large dimensionalities\n",
      "is the action of the Hamiltonian $\\hat{H}$ on a\n",
      "Slater determinant represented in second quantization as"
     ]
    },
    {
     "cell_type": "markdown",
     "metadata": {},
     "source": [
      "$$\n",
      "|\\alpha_1\\dots \\alpha_n\\rangle = a_{\\alpha_1}^{\\dagger} a_{\\alpha_2}^{\\dagger} \\dots a_{\\alpha_n}^{\\dagger} |0\\rangle.\n",
      "$$"
     ]
    },
    {
     "cell_type": "markdown",
     "metadata": {},
     "source": [
      "The time consuming part stems from the action of the Hamiltonian\n",
      "on the above determinant,"
     ]
    },
    {
     "cell_type": "markdown",
     "metadata": {},
     "source": [
      "$$\n",
      "\\left(\\sum_{\\alpha\\beta} \\langle \\alpha|t+u|\\beta\\rangle a_\\alpha^{\\dagger} a_\\beta + \\frac{1}{4} \\sum_{\\alpha\\beta\\gamma\\delta}\n",
      "                \\langle \\alpha \\beta|\\hat{v}|\\gamma \\delta\\rangle a_\\alpha^{\\dagger} a_\\beta^{\\dagger} a_\\delta a_\\gamma\\right)a_{\\alpha_1}^{\\dagger} a_{\\alpha_2}^{\\dagger} \\dots a_{\\alpha_n}^{\\dagger} |0\\rangle.\n",
      "$$"
     ]
    },
    {
     "cell_type": "markdown",
     "metadata": {},
     "source": [
      "A practically useful way to implement this action is to encode a Slater determinant as a bit pattern.\n",
      "\n",
      "\n",
      "\n",
      "\n",
      "### Operators in second quantization\n",
      "Assume that we have at our disposal $n$ different single-particle orbits\n",
      "$\\alpha_0,\\alpha_2,\\dots,\\alpha_{n-1}$ and that we can distribute  among these orbits $N\\le n$ particles.\n",
      "\n",
      "A Slater  determinant can then be coded as an integer of $n$ bits. As an example, if we have $n=16$ single-particle states\n",
      "$\\alpha_0,\\alpha_1,\\dots,\\alpha_{15}$ and $N=4$ fermions occupying the states $\\alpha_3$, $\\alpha_6$, $\\alpha_{10}$ and $\\alpha_{13}$\n",
      "we could write this Slater determinant as"
     ]
    },
    {
     "cell_type": "markdown",
     "metadata": {},
     "source": [
      "$$\n",
      "\\Phi_{\\Lambda} = a_{\\alpha_3}^{\\dagger} a_{\\alpha_6}^{\\dagger} a_{\\alpha_{10}}^{\\dagger} a_{\\alpha_{13}}^{\\dagger} |0\\rangle.\n",
      "$$"
     ]
    },
    {
     "cell_type": "markdown",
     "metadata": {},
     "source": [
      "The unoccupied single-particle states have bit value $0$ while the occupied ones are represented by bit state $1$. \n",
      "In the binary notation we would write this   16 bits long integer as"
     ]
    },
    {
     "cell_type": "markdown",
     "metadata": {},
     "source": [
      "$$\n",
      "\\begin{array}{cccccccccccccccc}\n",
      "{\\alpha_0}&{\\alpha_1}&{\\alpha_2}&{\\alpha_3}&{\\alpha_4}&{\\alpha_5}&{\\alpha_6}&{\\alpha_7} & {\\alpha_8} &{\\alpha_9} & {\\alpha_{10}} &{\\alpha_{11}} &{\\alpha_{12}} &{\\alpha_{13}} &{\\alpha_{14}} & {\\alpha_{15}} \\\\\n",
      "{0} & {0} &{0} &{1} &{0} &{0} &{1} &{0} &{0} &{0} &{1} &{0} &{0} &{1} &{0} & {0} \\\\\n",
      "\\end{array}\n",
      "$$"
     ]
    },
    {
     "cell_type": "markdown",
     "metadata": {},
     "source": [
      "which translates into the decimal number"
     ]
    },
    {
     "cell_type": "markdown",
     "metadata": {},
     "source": [
      "$$\n",
      "2^3+2^6+2^{10}+2^{13}=9288.\n",
      "$$"
     ]
    },
    {
     "cell_type": "markdown",
     "metadata": {},
     "source": [
      "We can thus encode a Slater determinant as a bit pattern.\n",
      "\n",
      "\n",
      "\n",
      "\n",
      "### Operators in second quantization\n",
      "With $N$ particles that can be distributed over $n$ single-particle states, the total number of Slater determinats (and defining thereby the dimensionality of the system) is"
     ]
    },
    {
     "cell_type": "markdown",
     "metadata": {},
     "source": [
      "$$\n",
      "\\mathrm{dim}(\\mathcal{H}) = \\left(\\begin{array}{c} n \\\\N\\end{array}\\right).\n",
      "$$"
     ]
    },
    {
     "cell_type": "markdown",
     "metadata": {},
     "source": [
      "The total number of bit patterns is $2^n$.\n",
      "\n",
      "\n",
      "\n",
      "### Operators in second quantization\n",
      "We assume again that we have at our disposal $n$ different single-particle orbits\n",
      "$\\alpha_0,\\alpha_2,\\dots,\\alpha_{n-1}$ and that we can distribute  among these orbits $N\\le n$ particles.\n",
      "The ordering among these states is important as it defines the order of the creation operators.\n",
      "We will write the determinant"
     ]
    },
    {
     "cell_type": "markdown",
     "metadata": {},
     "source": [
      "$$\n",
      "\\Phi_{\\Lambda} = a_{\\alpha_3}^{\\dagger} a_{\\alpha_6}^{\\dagger} a_{\\alpha_{10}}^{\\dagger} a_{\\alpha_{13}}^{\\dagger} |0\\rangle,\n",
      "$$"
     ]
    },
    {
     "cell_type": "markdown",
     "metadata": {},
     "source": [
      "in a more compact way as"
     ]
    },
    {
     "cell_type": "markdown",
     "metadata": {},
     "source": [
      "$$\n",
      "\\Phi_{3,6,10,13} = |0001001000100100\\rangle.\n",
      "$$"
     ]
    },
    {
     "cell_type": "markdown",
     "metadata": {},
     "source": [
      "The action of a creation operator is thus"
     ]
    },
    {
     "cell_type": "markdown",
     "metadata": {},
     "source": [
      "$$\n",
      "a^{\\dagger}_{\\alpha_4}\\Phi_{3,6,10,13} = a^{\\dagger}_{\\alpha_4}|0001001000100100\\rangle=a^{\\dagger}_{\\alpha_4}a_{\\alpha_3}^{\\dagger} a_{\\alpha_6}^{\\dagger} a_{\\alpha_{10}}^{\\dagger} a_{\\alpha_{13}}^{\\dagger} |0\\rangle,\n",
      "$$"
     ]
    },
    {
     "cell_type": "markdown",
     "metadata": {},
     "source": [
      "which becomes"
     ]
    },
    {
     "cell_type": "markdown",
     "metadata": {},
     "source": [
      "$$\n",
      "-a_{\\alpha_3}^{\\dagger} a^{\\dagger}_{\\alpha_4} a_{\\alpha_6}^{\\dagger} a_{\\alpha_{10}}^{\\dagger} a_{\\alpha_{13}}^{\\dagger} |0\\rangle=-|0001101000100100\\rangle.\n",
      "$$"
     ]
    },
    {
     "cell_type": "markdown",
     "metadata": {},
     "source": [
      "### Operators in second quantization\n",
      "Similarly"
     ]
    },
    {
     "cell_type": "markdown",
     "metadata": {},
     "source": [
      "$$\n",
      "a^{\\dagger}_{\\alpha_6}\\Phi_{3,6,10,13} = a^{\\dagger}_{\\alpha_6}|0001001000100100\\rangle=a^{\\dagger}_{\\alpha_6}a_{\\alpha_3}^{\\dagger} a_{\\alpha_6}^{\\dagger} a_{\\alpha_{10}}^{\\dagger} a_{\\alpha_{13}}^{\\dagger} |0\\rangle,\n",
      "$$"
     ]
    },
    {
     "cell_type": "markdown",
     "metadata": {},
     "source": [
      "which becomes"
     ]
    },
    {
     "cell_type": "markdown",
     "metadata": {},
     "source": [
      "$$\n",
      "-a^{\\dagger}_{\\alpha_4} (a_{\\alpha_6}^{\\dagger})^ 2 a_{\\alpha_{10}}^{\\dagger} a_{\\alpha_{13}}^{\\dagger} |0\\rangle=0!\n",
      "$$"
     ]
    },
    {
     "cell_type": "markdown",
     "metadata": {},
     "source": [
      "This gives a simple recipe:  \n",
      "* If one of the bits $b_j$ is $1$ and we act with a creation operator on this bit, we return a null vector\n",
      "\n",
      "* If $b_j=0$, we set it to $1$ and return a sign factor $(-1)^l$, where $l$ is the number of bits set before bit $j$.\n",
      "\n",
      "\n",
      "\n",
      "\n",
      "### Operators in second quantization\n",
      "Consider the action of $a^{\\dagger}_{\\alpha_2}$ on various slater determinants:"
     ]
    },
    {
     "cell_type": "markdown",
     "metadata": {},
     "source": [
      "$$\n",
      "\\begin{array}{ccc}\n",
      "a^{\\dagger}_{\\alpha_2}\\Phi_{00111}& = a^{\\dagger}_{\\alpha_2}|00111\\rangle&=0\\times |00111\\rangle\\\\\n",
      "a^{\\dagger}_{\\alpha_2}\\Phi_{01011}& = a^{\\dagger}_{\\alpha_2}|01011\\rangle&=(-1)\\times |01111\\rangle\\\\\n",
      "a^{\\dagger}_{\\alpha_2}\\Phi_{01101}& = a^{\\dagger}_{\\alpha_2}|01101\\rangle&=0\\times |01101\\rangle\\\\\n",
      "a^{\\dagger}_{\\alpha_2}\\Phi_{01110}& = a^{\\dagger}_{\\alpha_2}|01110\\rangle&=0\\times |01110\\rangle\\\\\n",
      "a^{\\dagger}_{\\alpha_2}\\Phi_{10011}& = a^{\\dagger}_{\\alpha_2}|10011\\rangle&=(-1)\\times |10111\\rangle\\\\\n",
      "a^{\\dagger}_{\\alpha_2}\\Phi_{10101}& = a^{\\dagger}_{\\alpha_2}|10101\\rangle&=0\\times |10101\\rangle\\\\\n",
      "a^{\\dagger}_{\\alpha_2}\\Phi_{10110}& = a^{\\dagger}_{\\alpha_2}|10110\\rangle&=0\\times |10110\\rangle\\\\\n",
      "a^{\\dagger}_{\\alpha_2}\\Phi_{11001}& = a^{\\dagger}_{\\alpha_2}|11001\\rangle&=(+1)\\times |11101\\rangle\\\\\n",
      "a^{\\dagger}_{\\alpha_2}\\Phi_{11010}& = a^{\\dagger}_{\\alpha_2}|11010\\rangle&=(+1)\\times |11110\\rangle\\\\\n",
      "\\end{array}\n",
      "$$"
     ]
    },
    {
     "cell_type": "markdown",
     "metadata": {},
     "source": [
      "What is the simplest way to obtain the phase when we act with one annihilation(creation) operator\n",
      "on the given Slater determinant representation?\n",
      "\n",
      "\n",
      "\n",
      "\n",
      "### Operators in second quantization\n",
      "We have an SD representation"
     ]
    },
    {
     "cell_type": "markdown",
     "metadata": {},
     "source": [
      "$$\n",
      "\\Phi_{\\Lambda} = a_{\\alpha_0}^{\\dagger} a_{\\alpha_3}^{\\dagger} a_{\\alpha_6}^{\\dagger} a_{\\alpha_{10}}^{\\dagger} a_{\\alpha_{13}}^{\\dagger} |0\\rangle,\n",
      "$$"
     ]
    },
    {
     "cell_type": "markdown",
     "metadata": {},
     "source": [
      "in a more compact way as"
     ]
    },
    {
     "cell_type": "markdown",
     "metadata": {},
     "source": [
      "$$\n",
      "\\Phi_{0,3,6,10,13} = |1001001000100100\\rangle.\n",
      "$$"
     ]
    },
    {
     "cell_type": "markdown",
     "metadata": {},
     "source": [
      "The action of"
     ]
    },
    {
     "cell_type": "markdown",
     "metadata": {},
     "source": [
      "$$\n",
      "a^{\\dagger}_{\\alpha_4}a_{\\alpha_0}\\Phi_{0,3,6,10,13} = a^{\\dagger}_{\\alpha_4}|0001001000100100\\rangle=a^{\\dagger}_{\\alpha_4}a_{\\alpha_3}^{\\dagger} a_{\\alpha_6}^{\\dagger} a_{\\alpha_{10}}^{\\dagger} a_{\\alpha_{13}}^{\\dagger} |0\\rangle,\n",
      "$$"
     ]
    },
    {
     "cell_type": "markdown",
     "metadata": {},
     "source": [
      "which becomes"
     ]
    },
    {
     "cell_type": "markdown",
     "metadata": {},
     "source": [
      "$$\n",
      "-a_{\\alpha_3}^{\\dagger} a^{\\dagger}_{\\alpha_4} a_{\\alpha_6}^{\\dagger} a_{\\alpha_{10}}^{\\dagger} a_{\\alpha_{13}}^{\\dagger} |0\\rangle=-|0001101000100100\\rangle.\n",
      "$$"
     ]
    },
    {
     "cell_type": "markdown",
     "metadata": {},
     "source": [
      "### Operators in second quantization\n",
      "The action"
     ]
    },
    {
     "cell_type": "markdown",
     "metadata": {},
     "source": [
      "$$\n",
      "a_{\\alpha_0}\\Phi_{0,3,6,10,13} = |0001001000100100\\rangle,\n",
      "$$"
     ]
    },
    {
     "cell_type": "markdown",
     "metadata": {},
     "source": [
      "can be obtained by subtracting the logical sum (AND operation) of $\\Phi_{0,3,6,10,13}$ and \n",
      "a word which represents only $\\alpha_0$, that is"
     ]
    },
    {
     "cell_type": "markdown",
     "metadata": {},
     "source": [
      "$$\n",
      "|1000000000000000\\rangle,\n",
      "$$"
     ]
    },
    {
     "cell_type": "markdown",
     "metadata": {},
     "source": [
      "from $\\Phi_{0,3,6,10,13}= |1001001000100100\\rangle$.\n",
      "\n",
      "This operation gives $|0001001000100100\\rangle$. \n",
      "\n",
      "Similarly, we can form $a^{\\dagger}_{\\alpha_4}a_{\\alpha_0}\\Phi_{0,3,6,10,13}$, say, by adding \n",
      "$|0000100000000000\\rangle$ to $a_{\\alpha_0}\\Phi_{0,3,6,10,13}$, first checking that their logical sum\n",
      "is zero in order to make sure that orbital $\\alpha_4$ is not already occupied.\n",
      "\n",
      "\n",
      "\n",
      "\n",
      "\n",
      "\n",
      "### Operators in second quantization\n",
      "It is trickier however to get the phase $(-1)^l$. \n",
      "One possibility is as follows\n",
      "* Let $S_1$ be a word that represents the $1-$bit to be removed and all others set to zero.\n",
      "\n",
      "In the previous example $S_1=|1000000000000000\\rangle$\n",
      "* Define $S_2$ as the similar word that represents the bit to be added, that is in our case\n",
      "\n",
      "$S_2=|0000100000000000\\rangle$.\n",
      "* Compute then $S=S_1-S_2$, which here becomes"
     ]
    },
    {
     "cell_type": "markdown",
     "metadata": {},
     "source": [
      "$$\n",
      "S=|0111000000000000\\rangle\n",
      "$$"
     ]
    },
    {
     "cell_type": "markdown",
     "metadata": {},
     "source": [
      "* Perform then the logical AND operation of $S$ with the word containing"
     ]
    },
    {
     "cell_type": "markdown",
     "metadata": {},
     "source": [
      "$$\n",
      "\\Phi_{0,3,6,10,13} = |1001001000100100\\rangle,\n",
      "$$"
     ]
    },
    {
     "cell_type": "markdown",
     "metadata": {},
     "source": [
      "which results in $|0001000000000000\\rangle$. Counting the number of $1-$bits gives the phase.  Here you need however an algorithm for bitcounting. Several efficient ones available.\n",
      "\n",
      "\n",
      "\n",
      "### Exercise 5\n",
      "This exercise serves to convince you about the relation between\n",
      "two different single-particle bases, where one could be our new Hartree-Fock basis and the other a harmonic oscillator basis.\n",
      "* Consider a Slater determinant built up of single-particle orbitals $\\psi_{\\lambda}$, \n",
      "\n",
      "with $\\lambda = 1,2,\\dots,A$. The unitary transformation"
     ]
    },
    {
     "cell_type": "markdown",
     "metadata": {},
     "source": [
      "$$\n",
      "\\psi_a  = \\sum_{\\lambda} C_{a\\lambda}\\phi_{\\lambda},\n",
      "$$"
     ]
    },
    {
     "cell_type": "markdown",
     "metadata": {},
     "source": [
      "brings us into the new basis.  \n",
      "The new basis has quantum numbers $a=1,2,\\dots,A$.\n",
      "Show that the new basis is orthonormal.\n",
      "Show that the new Slater determinant constructed from the new single-particle wave functions can be\n",
      "written as the determinant based on the previous basis and the determinant of the matrix $C$.\n",
      "Show that the old and the new Slater determinants are equal up to a complex constant with absolute value unity.\n",
      "(Hint, $C$ is a unitary matrix). \n",
      "* Starting with the second quantization representation of the Slater determinant"
     ]
    },
    {
     "cell_type": "markdown",
     "metadata": {},
     "source": [
      "$$\n",
      "\\Phi_{0}=\\prod_{i=1}^{n}a_{\\alpha_{i}}^{\\dagger}|0\\rangle,\n",
      "$$"
     ]
    },
    {
     "cell_type": "markdown",
     "metadata": {},
     "source": [
      "use Wick's theorem to compute the normalization integral\n",
      "$\\langle\\Phi_{0}|\\Phi_{0}\\rangle$.\n",
      "\n",
      "\n",
      "\n",
      "### Exercise 6\n",
      "Calculate the matrix elements"
     ]
    },
    {
     "cell_type": "markdown",
     "metadata": {},
     "source": [
      "$$\n",
      "\\langle \\alpha_{1}\\alpha_{2}|\\hat{F}|\\alpha_{1}\\alpha_{2}\\rangle\n",
      "$$"
     ]
    },
    {
     "cell_type": "markdown",
     "metadata": {},
     "source": [
      "and"
     ]
    },
    {
     "cell_type": "markdown",
     "metadata": {},
     "source": [
      "$$\n",
      "\\langle \\alpha_{1}\\alpha_{2}|\\hat{G}|\\alpha_{1}\\alpha_{2}\\rangle\n",
      "$$"
     ]
    },
    {
     "cell_type": "markdown",
     "metadata": {},
     "source": [
      "with"
     ]
    },
    {
     "cell_type": "markdown",
     "metadata": {},
     "source": [
      "1\n",
      "2\n",
      "7\n",
      " \n",
      "<\n",
      "<\n",
      "<\n",
      "!\n",
      "!\n",
      "M\n",
      "A\n",
      "T\n",
      "H\n",
      "_\n",
      "B\n",
      "L\n",
      "O\n",
      "C\n",
      "K"
     ]
    },
    {
     "cell_type": "markdown",
     "metadata": {},
     "source": [
      "1\n",
      "2\n",
      "8\n",
      " \n",
      "<\n",
      "<\n",
      "<\n",
      "!\n",
      "!\n",
      "M\n",
      "A\n",
      "T\n",
      "H\n",
      "_\n",
      "B\n",
      "L\n",
      "O\n",
      "C\n",
      "K"
     ]
    },
    {
     "cell_type": "markdown",
     "metadata": {},
     "source": [
      "1\n",
      "2\n",
      "9\n",
      " \n",
      "<\n",
      "<\n",
      "<\n",
      "!\n",
      "!\n",
      "M\n",
      "A\n",
      "T\n",
      "H\n",
      "_\n",
      "B\n",
      "L\n",
      "O\n",
      "C\n",
      "K"
     ]
    },
    {
     "cell_type": "markdown",
     "metadata": {},
     "source": [
      "$$\n",
      "\\hat{G} = \\frac{1}{2}\\sum_{\\alpha\\beta\\gamma\\delta}\n",
      "\\langle \\alpha\\beta |\\hat{g}|\\gamma\\delta\\rangle\n",
      "a_{\\alpha}^{\\dagger}a_{\\beta}^{\\dagger}a_{\\delta}a_{\\gamma} ,\n",
      "$$"
     ]
    },
    {
     "cell_type": "markdown",
     "metadata": {},
     "source": [
      "and"
     ]
    },
    {
     "cell_type": "markdown",
     "metadata": {},
     "source": [
      "$$\n",
      "\\langle \\alpha\\beta |\\hat{g}|\\gamma\\delta\\rangle=\n",
      "\\int\\int \\psi_{\\alpha}^{*}(x_{1})\\psi_{\\beta}^{*}(x_{2})g(x_{1},\n",
      "x_{2})\\psi_{\\gamma}(x_{1})\\psi_{\\delta}(x_{2})dx_{1}dx_{2}\n",
      "$$"
     ]
    },
    {
     "cell_type": "markdown",
     "metadata": {},
     "source": [
      "Compare these results with those from exercise 3c).\n",
      "\n",
      "\n",
      "\n",
      "### Exercise 7\n",
      "Show that the onebody part of the Hamiltonian"
     ]
    },
    {
     "cell_type": "markdown",
     "metadata": {},
     "source": [
      "$$\n",
      "\\hat{H}_0 = \\sum_{pq} \\langle p|\\hat{h}_0|q\\rangle a^{\\dagger}_p a_q,\n",
      "$$"
     ]
    },
    {
     "cell_type": "markdown",
     "metadata": {},
     "source": [
      "can be written, using standard annihilation and creation operators, in normal-ordered form as"
     ]
    },
    {
     "cell_type": "markdown",
     "metadata": {},
     "source": [
      "$$\n",
      "\\hat{H}_0 = \\sum_{pq} \\langle p|\\hat{h}_0|q\\rangle \\left\\{a^\\dagger_p a_q\\right\\} +\n",
      "             \\sum_i \\langle i|\\hat{h}_0|i\\rangle.\n",
      "$$"
     ]
    },
    {
     "cell_type": "markdown",
     "metadata": {},
     "source": [
      "Explain the meaning of the various symbols. Which reference \n",
      "vacuum has been used?\n",
      "\n",
      "  \n",
      "\n",
      "### Exercise 8\n",
      "Show that the twobody part of the Hamiltonian"
     ]
    },
    {
     "cell_type": "markdown",
     "metadata": {},
     "source": [
      "$$\n",
      "\\hat{H}_I = \\frac{1}{4} \\sum_{pqrs} \\langle pq|\\hat{v}|rs\\rangle a^\\dagger_p a^\\dagger_q a_s  a_r,\n",
      "$$"
     ]
    },
    {
     "cell_type": "markdown",
     "metadata": {},
     "source": [
      "can be written, using standard annihilation and creation operators, in normal-ordered form as"
     ]
    },
    {
     "cell_type": "markdown",
     "metadata": {},
     "source": [
      "$$\n",
      "\\hat{H}_I =\\frac{1}{4} \\sum_{pqrs} \\langle pq|\\hat{v}|rs\\rangle \\left\\{a^\\dagger_p a^\\dagger_q a_s  a_r\\right\\}\n",
      "            + \\sum_{pqi} \\langle pi|\\hat{v}|qi\\rangle \\left\\{a^\\dagger_p a_q\\right\\} \n",
      "            + \\frac{1}{2} \\sum_{ij}\\langle ij|\\hat{v}|ij\\rangle.\n",
      "$$"
     ]
    },
    {
     "cell_type": "markdown",
     "metadata": {},
     "source": [
      "Explain again the meaning of the various symbols.\n",
      "\n",
      "This exercise is optional: Derive the normal-ordered form of the threebody part of the Hamiltonian."
     ]
    },
    {
     "cell_type": "markdown",
     "metadata": {},
     "source": [
      "$$\n",
      "\\hat{H}_3 = \\frac{1}{36} \\sum_{\\substack{pqr \\\\ stu}}\n",
      "                 \\langle pqr|\\hat{v}_3|stu\\rangle a^\\dagger_p a^\\dagger_q a^\\dagger_r a_u a_t a_s,\n",
      "$$"
     ]
    },
    {
     "cell_type": "markdown",
     "metadata": {},
     "source": [
      "and specify the contributions to the twobody, onebody and the scalar part.\n",
      "\n",
      "\n",
      "\n",
      "\n",
      "### Exercises: Program to set up Slater determinants\n",
      "**Exercise 9.**\n",
      "\n",
      "\n",
      "Write a program which sets up all possible Slater determinants given $N=4$ eletrons which can occupy\n",
      "the atomic single-particle states defined by the $1s$, $2s2p$ and $3s3p3d$ shells. How many single-particle\n",
      "states $n$ are there in total?  Include the spin degrees of freedom as well.\n",
      "We include here a python program which may aid in this direction. It uses bit manipulation functions from <http://wiki.python.org/moin/BitManipulation>."
     ]
    },
    {
     "cell_type": "code",
     "collapsed": false,
     "input": [
      "import math\n",
      "\n",
      "\"\"\"\n",
      "A simple Python class for Slater determinant manipulation\n",
      "Bit-manipulation stolen from:\n",
      "\n",
      "http://wiki.python.org/moin/BitManipulation\n",
      "\"\"\"\n",
      "\n",
      "# bitCount() counts the number of bits set (not an optimal function)\n",
      "\n",
      "def bitCount(int_type):\n",
      "    \"\"\" Count bits set in integer \"\"\"\n",
      "    count = 0\n",
      "    while(int_type):\n",
      "        int_type &= int_type - 1\n",
      "        count += 1\n",
      "    return(count)\n",
      "\n",
      "\n",
      "# testBit() returns a nonzero result, 2**offset, if the bit at 'offset' is one.\n",
      "\n",
      "def testBit(int_type, offset):\n",
      "    mask = 1 << offset\n",
      "    return(int_type & mask) >> offset\n",
      "\n",
      "# setBit() returns an integer with the bit at 'offset' set to 1.\n",
      "\n",
      "def setBit(int_type, offset):\n",
      "    mask = 1 << offset\n",
      "    return(int_type | mask)\n",
      "\n",
      "# clearBit() returns an integer with the bit at 'offset' cleared.\n",
      "\n",
      "def clearBit(int_type, offset):\n",
      "    mask = ~(1 << offset)\n",
      "    return(int_type & mask)\n",
      "\n",
      "# toggleBit() returns an integer with the bit at 'offset' inverted, 0 -> 1 and 1 -> 0.\n",
      "\n",
      "def toggleBit(int_type, offset):\n",
      "    mask = 1 << offset\n",
      "    return(int_type ^ mask)\n",
      "\n",
      "# binary string made from number\n",
      "\n",
      "def bin0(s):\n",
      "    return str(s) if s<=1 else bin0(s>>1) + str(s&1)\n",
      "\n",
      "def bin(s, L = 0):\n",
      "    ss = bin0(s)\n",
      "    if L > 0:\n",
      "        return '0'*(L-len(ss)) + ss\n",
      "    else:\n",
      "        return ss\n",
      "    \n",
      "    \n",
      "\n",
      "class Slater:\n",
      "    \"\"\" Class for Slater determinants \"\"\"\n",
      "    def __init__(self):\n",
      "        self.word = int(0)\n",
      "\n",
      "    def create(self, j):\n",
      "        print \"c^+_\" + str(j) + \" |\" + bin(self.word) + \">  = \",\n",
      "        # Assume bit j is set, then we return zero.\n",
      "        s = 0\n",
      "        # Check if bit j is set.\n",
      "        isset = testBit(self.word, j)\n",
      "        if isset == 0:\n",
      "            bits = bitCount(self.word & ((1<<j)-1))\n",
      "            s = pow(-1, bits)\n",
      "            self.word = setBit(self.word, j)\n",
      "\n",
      "        print str(s) + \" x |\" + bin(self.word) + \">\"\n",
      "        return s\n",
      "        \n",
      "    def annihilate(self, j):\n",
      "        print \"c_\" + str(j) + \" |\" + bin(self.word) + \">  = \",\n",
      "        # Assume bit j is not set, then we return zero.\n",
      "        s = 0\n",
      "        # Check if bit j is set.\n",
      "        isset = testBit(self.word, j)\n",
      "        if isset == 1:\n",
      "            bits = bitCount(self.word & ((1<<j)-1))\n",
      "            s = pow(-1, bits)\n",
      "            self.word = clearBit(self.word, j)\n",
      "\n",
      "        print str(s) + \" x |\" + bin(self.word) + \">\"\n",
      "        return s\n",
      "\n",
      "\n",
      "\n",
      "# Do some testing:\n",
      "\n",
      "phi = Slater()\n",
      "phi.create(0)\n",
      "phi.create(1)\n",
      "phi.create(2)\n",
      "phi.create(3)\n",
      "\n",
      "print\n",
      "\n",
      "\n",
      "s = phi.annihilate(2)\n",
      "s = phi.create(7)\n",
      "s = phi.annihilate(0)\n",
      "s = phi.create(200)\n",
      "\n"
     ],
     "language": "python",
     "metadata": {},
     "outputs": [],
     "prompt_number": 1
    },
    {
     "cell_type": "markdown",
     "metadata": {},
     "source": [
      "### Exercises: Program to set up Slater determinants\n",
      "**Exercise 10.**\n",
      "\n",
      "Compute the matrix element"
     ]
    },
    {
     "cell_type": "markdown",
     "metadata": {},
     "source": [
      "$$\n",
      "\\langle\\alpha_{1}\\alpha_{2}\\alpha_{3}|\\hat{G}|\\alpha_{1}'\\alpha_{2}'\\alpha_{3}'\\rangle,\n",
      "$$"
     ]
    },
    {
     "cell_type": "markdown",
     "metadata": {},
     "source": [
      "using Wick's theorem and express the two-body operator\n",
      "$G$ in the occupation number (second quantization) \n",
      "representation.\n",
      "\n",
      "This exercise can be solve using the symbolic python package as follows"
     ]
    },
    {
     "cell_type": "code",
     "collapsed": false,
     "input": [
      "from sympy import symbols, Function, Dummy, latex\n",
      "from sympy.physics.secondquant import wicks, F, Fd, NO\n",
      "\n",
      "a1,a2,a3,b1,b2,b3,a,b,g,d = symbols('a1,a2,a3,b1,b2,b3,a,b,g,d',above_fermi=True)\n",
      "print(latex(wicks(F(a3)*F(a2)*F(a1)*Fd(a)*Fd(b)*F(d)*F(g)*Fd(b1)*Fd(b2)*Fd(b3),keep_only_fully_contracted=True)))\n"
     ],
     "language": "python",
     "metadata": {},
     "outputs": [],
     "prompt_number": 1
    }
   ],
   "metadata": {}
  }
 ]
}
