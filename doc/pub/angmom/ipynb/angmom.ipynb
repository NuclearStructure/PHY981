{
 "cells": [
  {
   "cell_type": "markdown",
   "metadata": {},
   "source": [
    "<!-- Slides for PHY981 -->\n",
    "<!-- dom:TITLE: Quantum numbers and Angular Momentum Algebra -->\n",
    "# Quantum numbers and Angular Momentum Algebra\n",
    "<!-- dom:AUTHOR: Morten Hjorth-Jensen at [National Superconducting Cyclotron Laboratory](http://www.nscl.msu.edu/) and [Department of Physics and Astronomy](https://www.pa.msu.edu/), [Michigan State University](http://www.msu.edu/), East Lansing, MI 48824, USA -->\n",
    "<!-- Author: --> **Morten Hjorth-Jensen**, [National Superconducting Cyclotron Laboratory](http://www.nscl.msu.edu/) and [Department of Physics and Astronomy](https://www.pa.msu.edu/), [Michigan State University](http://www.msu.edu/), East Lansing, MI 48824, USA\n",
    "\n",
    "Date: **Spring 2016**\n",
    "\n",
    "## Quantum numbers\n",
    "**Outline.**\n",
    "\n",
    "* Discussion of single-particle and two-particle quantum numbers, uncoupled and coupled schemes\n",
    "\n",
    "* Discussion of angular momentum recouplings and the Wigner-Eckart theorem\n",
    "\n",
    "* Applications to specific operators like the nuclear two-body tensor force\n",
    "\n",
    "For quantum numbers, chapter 1 on angular momentum and chapter 5 of Suhonen and chapters 5, 12 and 13 of Alex Brown. \n",
    "For a discussion of isospin, see for example Alex Brown's lecture notes chapter 12, 13 and 19.\n",
    "\n",
    "\n",
    "\n",
    "## Motivation\n",
    "When solving the Hartree-Fock project using a nucleon-nucleon interaction in an uncoupled basis (m-scheme), we found a high level of degeneracy. One sees clear from the table here that we have a  degeneracy in the angular momentum $j$, resulting in $2j+1$ states with the same energy. This reflects the rotational symmetry and spin symmetry of the nuclear forces. \n",
    "\n",
    "\n",
    "<table border=\"1\">\n",
    "<thead>\n",
    "<tr><th align=\"center\">Quantum numbers </th> <th align=\"center\">Energy [MeV]</th> </tr>\n",
    "</thead>\n",
    "<tbody>\n",
    "<tr><td align=\"center\">   $0s_{1/2}^{\\pi}$    </td> <td align=\"center\">   -40.4602        </td> </tr>\n",
    "<tr><td align=\"center\">   $0s_{1/2}^{\\pi}$    </td> <td align=\"center\">   -40.4602        </td> </tr>\n",
    "<tr><td align=\"center\">   $0s_{1/2}^{\\nu}$    </td> <td align=\"center\">   -40.6426        </td> </tr>\n",
    "<tr><td align=\"center\">   $0s_{1/2}^{\\nu}$    </td> <td align=\"center\">   -40.6426        </td> </tr>\n",
    "<tr><td align=\"center\">   $0p_{1/2}^{\\pi}$    </td> <td align=\"center\">   -6.7133         </td> </tr>\n",
    "<tr><td align=\"center\">   $0p_{1/2}^{\\pi}$    </td> <td align=\"center\">   -6.7133         </td> </tr>\n",
    "<tr><td align=\"center\">   $0p_{1/2}^{\\nu}$    </td> <td align=\"center\">   -6.8403         </td> </tr>\n",
    "<tr><td align=\"center\">   $0p_{1/2}^{\\nu}$    </td> <td align=\"center\">   -6.8403         </td> </tr>\n",
    "<tr><td align=\"center\">   $0p_{3/2}^{\\pi}$    </td> <td align=\"center\">   -11.5886        </td> </tr>\n",
    "<tr><td align=\"center\">   $0p_{3/2}^{\\pi}$    </td> <td align=\"center\">   -11.5886        </td> </tr>\n",
    "<tr><td align=\"center\">   $0p_{3/2}^{\\pi}$    </td> <td align=\"center\">   -11.5886        </td> </tr>\n",
    "<tr><td align=\"center\">   $0p_{3/2}^{\\pi}$    </td> <td align=\"center\">   -11.5886        </td> </tr>\n",
    "<tr><td align=\"center\">   $0p_{3/2}^{\\nu}$    </td> <td align=\"center\">   -11.7201        </td> </tr>\n",
    "<tr><td align=\"center\">   $0p_{3/2}^{\\nu}$    </td> <td align=\"center\">   -11.7201        </td> </tr>\n",
    "<tr><td align=\"center\">   $0p_{3/2}^{\\nu}$    </td> <td align=\"center\">   -11.7201        </td> </tr>\n",
    "<tr><td align=\"center\">   $0p_{3/2}^{\\nu}$    </td> <td align=\"center\">   -11.7201        </td> </tr>\n",
    "</tbody>\n",
    "</table>\n",
    "We observe that with increasing value of $j$ the degeneracy increases. For $j=3/2$ we end up diagonalizing\n",
    "the same matrix four times. With increasing value of $j$, it is rather obvious that our insistence on using\n",
    "an uncoupled scheme (or just m-scheme) will lead to unnecessary labor from our side (or more precisely, for the computer).   The obvious question we should pose ourselves then is whether we can use \n",
    "the underlying symmetries of the nuclear forces in order to reduce our efforts. \n",
    "\n",
    "## Single-particle and two-particle quantum numbers\n",
    "In order to understand the basics of the nucleon-nucleon interaction and the pertaining symmetries, we need to define the relevant quantum numbers and how we build up a single-particle state and a two-body state, and obviously our final holy grail, a many-boyd state. \n",
    "\n",
    "* For the single-particle states, due to the fact that we have the spin-orbit force, the quantum numbers for the projection of orbital momentum $l$, that is $m_l$, and for spin $s$, that is $m_s$, are no longer so-called good quantum numbers. The total angular momentum $j$ and its projection $m_j$ are then  so-called *good quantum numbers*.\n",
    "\n",
    "* This means that the operator $\\hat{J}^2$ does not commute with $\\hat{L}_z$  or $\\hat{S}_z$.  \n",
    "\n",
    "* We also start normally with single-particle state functions defined using say the harmonic oscillator. For these functions, we have no explicit dependence on $j$. How can we introduce single-particle wave functions which have $j$ and its projection $m_j$ as quantum numbers?\n",
    "\n",
    "\n",
    "\n",
    "\n",
    "## Single-particle and two-particle quantum numbers, brief review on angular momenta etc\n",
    "\n",
    "We have that the operators for the orbital momentum are given by"
   ]
  },
  {
   "cell_type": "markdown",
   "metadata": {},
   "source": [
    "0\n",
    " \n",
    "<\n",
    "<\n",
    "<\n",
    "!\n",
    "!\n",
    "M\n",
    "A\n",
    "T\n",
    "H\n",
    "_\n",
    "B\n",
    "L\n",
    "O\n",
    "C\n",
    "K"
   ]
  },
  {
   "cell_type": "markdown",
   "metadata": {},
   "source": [
    "1\n",
    " \n",
    "<\n",
    "<\n",
    "<\n",
    "!\n",
    "!\n",
    "M\n",
    "A\n",
    "T\n",
    "H\n",
    "_\n",
    "B\n",
    "L\n",
    "O\n",
    "C\n",
    "K"
   ]
  },
  {
   "cell_type": "markdown",
   "metadata": {},
   "source": [
    "$$\n",
    "L_z=-i\\hbar(x\\frac{\\partial }{\\partial y}-y\\frac{\\partial }{\\partial x})=xp_y-yp_x.\n",
    "$$"
   ]
  },
  {
   "cell_type": "markdown",
   "metadata": {},
   "source": [
    "## Single-particle and two-particle quantum numbers, brief review on angular momenta etc\n",
    "Since we have a spin orbit force which is strong, it is easy to show that \n",
    "the total angular momentum operator"
   ]
  },
  {
   "cell_type": "markdown",
   "metadata": {},
   "source": [
    "$$\n",
    "\\hat{J}=\\hat{L}+\\hat{S}\n",
    "$$"
   ]
  },
  {
   "cell_type": "markdown",
   "metadata": {},
   "source": [
    "does not commute with $\\hat{L}_z$ and $\\hat{S}_z$. To see this, we calculate for example"
   ]
  },
  {
   "cell_type": "markdown",
   "metadata": {},
   "source": [
    "$$\n",
    "\\begin{eqnarray} \n",
    "   [\\hat{L}_z,\\hat{J}^2]&=&[\\hat{L}_z,(\\hat{L}+\\hat{S})^2] \\\\ \\nonumber\n",
    "   &=&[\\hat{L}_z,\\hat{L}^2+\\hat{S}^2+2\\hat{L}\\hat{S}]\\\\ \\nonumber \n",
    "   &=& [\\hat{L}_z,\\hat{L}\\hat{S}]=[\\hat{L}_z,\\hat{L}_x\\hat{S}_x+\\hat{L}_y\\hat{S}_y+\\hat{L}_z\\hat{S}_z]\\ne 0, \n",
    "\\end{eqnarray}\n",
    "$$"
   ]
  },
  {
   "cell_type": "markdown",
   "metadata": {},
   "source": [
    "since we have that $[\\hat{L}_z,\\hat{L}_x]=i\\hbar\\hat{L}_y$ and $[\\hat{L}_z,\\hat{L}_y]=i\\hbar\\hat{L}_x$.\n",
    "\n",
    "\n",
    "\n",
    "## Single-particle and two-particle quantum numbers, brief review on angular momenta etc\n",
    "We have also"
   ]
  },
  {
   "cell_type": "markdown",
   "metadata": {},
   "source": [
    "$$\n",
    "|\\hat{J}|=\\hbar\\sqrt{J(J+1)},\n",
    "$$"
   ]
  },
  {
   "cell_type": "markdown",
   "metadata": {},
   "source": [
    "with the the following degeneracy"
   ]
  },
  {
   "cell_type": "markdown",
   "metadata": {},
   "source": [
    "$$\n",
    "M_J=-J, -J+1, \\dots, J-1, J.\n",
    "$$"
   ]
  },
  {
   "cell_type": "markdown",
   "metadata": {},
   "source": [
    "With a given value of  $L$ and $S$ we can then determine the possible values of \n",
    " $J$ by studying the $z$ component of  $\\hat{J}$. \n",
    "It is given by"
   ]
  },
  {
   "cell_type": "markdown",
   "metadata": {},
   "source": [
    "$$\n",
    "\\hat{J}_z=\\hat{L}_z+\\hat{S}_z.\n",
    "$$"
   ]
  },
  {
   "cell_type": "markdown",
   "metadata": {},
   "source": [
    "The operators $\\hat{L}_z$ and $\\hat{S}_z$ have the quantum numbers\n",
    "$L_z=M_L\\hbar$ and $S_z=M_S\\hbar$, respectively, meaning that"
   ]
  },
  {
   "cell_type": "markdown",
   "metadata": {},
   "source": [
    "$$\n",
    "M_J\\hbar=M_L\\hbar +M_S\\hbar,\n",
    "$$"
   ]
  },
  {
   "cell_type": "markdown",
   "metadata": {},
   "source": [
    "or"
   ]
  },
  {
   "cell_type": "markdown",
   "metadata": {},
   "source": [
    "$$\n",
    "M_J=M_L +M_S.\n",
    "$$"
   ]
  },
  {
   "cell_type": "markdown",
   "metadata": {},
   "source": [
    "Since the max value of  $M_L$ is $L$ and for  $M_S$ is $S$\n",
    "we obtain"
   ]
  },
  {
   "cell_type": "markdown",
   "metadata": {},
   "source": [
    "$$\n",
    "(M_J)_{\\mathrm{maks}}=L+S.\n",
    "$$"
   ]
  },
  {
   "cell_type": "markdown",
   "metadata": {},
   "source": [
    "## Single-particle and two-particle quantum numbers, brief review on angular momenta etc\n",
    "For nucleons we have that the maximum value of $M_S=m_s=1/2$, yielding"
   ]
  },
  {
   "cell_type": "markdown",
   "metadata": {},
   "source": [
    "$$\n",
    "(m_j)_{\\mathrm{max}}=l+\\frac{1}{2}.\n",
    "$$"
   ]
  },
  {
   "cell_type": "markdown",
   "metadata": {},
   "source": [
    "Using this and the fact that the maximum value of  $M_J=m_j$ is $j$ we have"
   ]
  },
  {
   "cell_type": "markdown",
   "metadata": {},
   "source": [
    "$$\n",
    "j=l+\\frac{1}{2}, l-\\frac{1}{2}, l-\\frac{3}{2}, l-\\frac{5}{2}, \\dots\n",
    "$$"
   ]
  },
  {
   "cell_type": "markdown",
   "metadata": {},
   "source": [
    "To decide where this series terminates, we use the vector inequality"
   ]
  },
  {
   "cell_type": "markdown",
   "metadata": {},
   "source": [
    "$$\n",
    "|\\hat{L}+\\hat{S}| \\ge \\left| |\\hat{L}|-|\\hat{S}|\\right|.\n",
    "$$"
   ]
  },
  {
   "cell_type": "markdown",
   "metadata": {},
   "source": [
    "## Single-particle and two-particle quantum numbers, brief review on angular momenta etc\n",
    "Using $\\hat{J}=\\hat{L}+\\hat{S}$ we get"
   ]
  },
  {
   "cell_type": "markdown",
   "metadata": {},
   "source": [
    "$$\n",
    "|\\hat{J}| \\ge |\\hat{L}|-|\\hat{S}|,\n",
    "$$"
   ]
  },
  {
   "cell_type": "markdown",
   "metadata": {},
   "source": [
    "or"
   ]
  },
  {
   "cell_type": "markdown",
   "metadata": {},
   "source": [
    "$$\n",
    "|\\hat{J}|=\\hbar\\sqrt{J(J+1)}\\ge |\\hbar\\sqrt{L(L+1)}-\n",
    "   \\hbar\\sqrt{S(S+1)}|.\n",
    "$$"
   ]
  },
  {
   "cell_type": "markdown",
   "metadata": {},
   "source": [
    "## Single-particle and two-particle quantum numbers, brief review on angular momenta etc\n",
    "If we limit ourselves to nucleons only with $s=1/2$ we find that"
   ]
  },
  {
   "cell_type": "markdown",
   "metadata": {},
   "source": [
    "$$\n",
    "|\\hat{J}|=\\hbar\\sqrt{j(j+1)}\\ge |\\hbar\\sqrt{l(l+1)}-\n",
    "   \\hbar\\sqrt{\\frac{1}{2}(\\frac{1}{2}+1)}|.\n",
    "$$"
   ]
  },
  {
   "cell_type": "markdown",
   "metadata": {},
   "source": [
    "It is then easy to show that for nucleons there are only two possible values of\n",
    "$j$ which satisfy the inequality, namely"
   ]
  },
  {
   "cell_type": "markdown",
   "metadata": {},
   "source": [
    "$$\n",
    "j=l+\\frac{1}{2}\\hspace{0.1cm} \\mathrm{or} \\hspace{0.1cm}j=l-\\frac{1}{2},\n",
    "$$"
   ]
  },
  {
   "cell_type": "markdown",
   "metadata": {},
   "source": [
    "and with $l=0$ we get"
   ]
  },
  {
   "cell_type": "markdown",
   "metadata": {},
   "source": [
    "$$\n",
    "j=\\frac{1}{2}.\n",
    "$$"
   ]
  },
  {
   "cell_type": "markdown",
   "metadata": {},
   "source": [
    "## Single-particle and two-particle quantum numbers, brief review on angular momenta etc\n",
    "Let us study some selected examples. We need also to keep in mind that parity is conserved.\n",
    "The strong and electromagnetic Hamiltonians conserve parity. Thus the eigenstates can be\n",
    "broken down into two classes of states labeled by their parity $\\pi= +1$ or $\\pi=-1$.\n",
    "The nuclear interactions do not mix states with different parity.\n",
    "\n",
    "For nuclear structure the total parity originates\n",
    "from the intrinsic parity of the nucleon which is $\\pi_{\\mathrm{intrinsic}}=+1$ \n",
    "and the parities associated with\n",
    "the orbital angular momenta $\\pi_l=(-1)^l$ . The total parity is the product over all nucleons\n",
    "$\\pi = \\prod_i \\pi_{\\mathrm{intrinsic}}(i)\\pi_l(i) = \\prod_i (-1)^{l_i}$\n",
    "\n",
    "The basis states we deal with are constructed so that they conserve parity and have thus a definite parity. \n",
    "\n",
    "Note that we do have parity violating processes, more on this later although our focus will be mainly on non-parity viloating processes\n",
    "\n",
    "\n",
    "\n",
    "\n",
    "## Single-particle and two-particle quantum numbers\n",
    "\n",
    "Consider now the single-particle orbits of the $1s0d$ shell. \n",
    "For a $0d$ state we have the quantum numbers $l=2$, $m_l=-2,-1,0,1,2$, $s+1/2$, $m_s=\\pm 1/2$,\n",
    "$n=0$ (the number of nodes of the wave function).   This means that we have positive parity and"
   ]
  },
  {
   "cell_type": "markdown",
   "metadata": {},
   "source": [
    "$$\n",
    "j=\\frac{3}{2}=l-s\\hspace{1cm} m_j=-\\frac{3}{2},-\\frac{1}{2},\\frac{1}{2},\\frac{3}{2}.\n",
    "$$"
   ]
  },
  {
   "cell_type": "markdown",
   "metadata": {},
   "source": [
    "and"
   ]
  },
  {
   "cell_type": "markdown",
   "metadata": {},
   "source": [
    "$$\n",
    "j=\\frac{5}{2}=l+s\\hspace{1cm} m_j=-\\frac{5}{2},-\\frac{3}{2},-\\frac{1}{2},\\frac{1}{2},\\frac{3}{2},\\frac{5}{2}.\n",
    "$$"
   ]
  },
  {
   "cell_type": "markdown",
   "metadata": {},
   "source": [
    "## Single-particle and two-particle quantum numbers\n",
    "Our single-particle wave functions, if we use the harmonic oscillator, do however not contain the quantum numbers $j$ and $m_j$.\n",
    "Normally what we have is an eigenfunction for the one-body problem defined as"
   ]
  },
  {
   "cell_type": "markdown",
   "metadata": {},
   "source": [
    "$$\n",
    "\\phi_{nlm_lsm_s}(r,\\theta,\\phi)=R_{nl}(r)Y_{lm_l}(\\theta,\\phi)\\xi_{sm_s},\n",
    "$$"
   ]
  },
  {
   "cell_type": "markdown",
   "metadata": {},
   "source": [
    "where we have used spherical coordinates (with a spherically symmetric potential) and the spherical harmonics"
   ]
  },
  {
   "cell_type": "markdown",
   "metadata": {},
   "source": [
    "$$\n",
    "Y_{lm_l}(\\theta,\\phi)=P(\\theta)F(\\phi)=\\sqrt{\\frac{(2l+1)(l-m_l)!}{4\\pi (l+m_l)!}}\n",
    "                      P_l^{m_l}(cos(\\theta))\\exp{(im_l\\phi)},\n",
    "$$"
   ]
  },
  {
   "cell_type": "markdown",
   "metadata": {},
   "source": [
    "with $P_l^{m_l}$ being the so-called associated Legendre polynomials.\n",
    "\n",
    "\n",
    "\n",
    "\n",
    "\n",
    "## Single-particle and two-particle quantum numbers\n",
    "Examples are"
   ]
  },
  {
   "cell_type": "markdown",
   "metadata": {},
   "source": [
    "$$\n",
    "Y_{00}=\\sqrt{\\frac{1}{4\\pi}},\n",
    "$$"
   ]
  },
  {
   "cell_type": "markdown",
   "metadata": {},
   "source": [
    "for $l=m_l=0$,"
   ]
  },
  {
   "cell_type": "markdown",
   "metadata": {},
   "source": [
    "$$\n",
    "Y_{10}=\\sqrt{\\frac{3}{4\\pi}}cos(\\theta),\n",
    "$$"
   ]
  },
  {
   "cell_type": "markdown",
   "metadata": {},
   "source": [
    "for $l=1$ and $m_l=0$,"
   ]
  },
  {
   "cell_type": "markdown",
   "metadata": {},
   "source": [
    "$$\n",
    "Y_{1\\pm 1}=\\sqrt{\\frac{3}{8\\pi}}sin(\\theta)exp(\\pm i\\phi),\n",
    "$$"
   ]
  },
  {
   "cell_type": "markdown",
   "metadata": {},
   "source": [
    "for  $l=1$ and $m_l=\\pm 1$,"
   ]
  },
  {
   "cell_type": "markdown",
   "metadata": {},
   "source": [
    "$$\n",
    "Y_{20}=\\sqrt{\\frac{5}{16\\pi}}(3cos^2(\\theta)-1)\n",
    "$$"
   ]
  },
  {
   "cell_type": "markdown",
   "metadata": {},
   "source": [
    "for $l=2$ and $m_l=0$ etc.\n",
    "\n",
    "\n",
    "\n",
    "\n",
    "\n",
    "\n",
    "## Single-particle and two-particle quantum numbers\n",
    "How can we get a function in terms of $j$ and $m_j$?\n",
    "Define now"
   ]
  },
  {
   "cell_type": "markdown",
   "metadata": {},
   "source": [
    "$$\n",
    "\\phi_{nlm_lsm_s}(r,\\theta,\\phi)=R_{nl}(r)Y_{lm_l}(\\theta,\\phi)\\xi_{sm_s},\n",
    "$$"
   ]
  },
  {
   "cell_type": "markdown",
   "metadata": {},
   "source": [
    "and"
   ]
  },
  {
   "cell_type": "markdown",
   "metadata": {},
   "source": [
    "$$\n",
    "\\psi_{njm_j;lm_lsm_s}(r,\\theta,\\phi),\n",
    "$$"
   ]
  },
  {
   "cell_type": "markdown",
   "metadata": {},
   "source": [
    "as the state with quantum numbers $jm_j$.\n",
    "Operating with"
   ]
  },
  {
   "cell_type": "markdown",
   "metadata": {},
   "source": [
    "$$\n",
    "\\hat{j}^2=(\\hat{l}+\\hat{s})^2=\\hat{l}^2+\\hat{s}^2+2\\hat{l}_z\\hat{s}_z+\\hat{l}_+\\hat{s}_{-}+\\hat{l}_{-}\\hat{s}_{+},\n",
    "$$"
   ]
  },
  {
   "cell_type": "markdown",
   "metadata": {},
   "source": [
    "on the latter state we will obtain admixtures from possible $\\phi_{nlm_lsm_s}(r,\\theta,\\phi)$ states.\n",
    "\n",
    "\n",
    "\n",
    "\n",
    "## Single-particle and two-particle quantum numbers\n",
    "To see this, we consider the following example and fix"
   ]
  },
  {
   "cell_type": "markdown",
   "metadata": {},
   "source": [
    "$$\n",
    "j=\\frac{3}{2}=l-s\\hspace{1cm} m_j=\\frac{3}{2}.\n",
    "$$"
   ]
  },
  {
   "cell_type": "markdown",
   "metadata": {},
   "source": [
    "and"
   ]
  },
  {
   "cell_type": "markdown",
   "metadata": {},
   "source": [
    "$$\n",
    "j=\\frac{5}{2}=l+s\\hspace{1cm} m_j=\\frac{3}{2}.\n",
    "$$"
   ]
  },
  {
   "cell_type": "markdown",
   "metadata": {},
   "source": [
    "It means we can have, with $l=2$ and $s=1/2$ being fixed, in order to have $m_j=3/2$ either $m_l=1$ and $m_s=1/2$ or\n",
    "$m_l=2$ and $m_s=-1/2$. The two states"
   ]
  },
  {
   "cell_type": "markdown",
   "metadata": {},
   "source": [
    "$$\n",
    "\\psi_{n=0j=5/2m_j=3/2;l=2s=1/2}\n",
    "$$"
   ]
  },
  {
   "cell_type": "markdown",
   "metadata": {},
   "source": [
    "and"
   ]
  },
  {
   "cell_type": "markdown",
   "metadata": {},
   "source": [
    "$$\n",
    "\\psi_{n=0j=3/2m_j=3/2;l=2s=1/2}\n",
    "$$"
   ]
  },
  {
   "cell_type": "markdown",
   "metadata": {},
   "source": [
    "will have admixtures from $\\phi_{n=0l=2m_l=2s=1/2m_s=-1/2}$ and $\\phi_{n=0l=2m_l=1s=1/2m_s=1/2}$. \n",
    "How do we find these admixtures? Note that we don't specify the values of $m_l$ and $m_s$ \n",
    "in the functions $\\psi$ since    \n",
    "$\\hat{j}^2$ does not commute with $\\hat{L}_z$ and $\\hat{S}_z$.\n",
    "\n",
    "\n",
    "\n",
    "## Single-particle and two-particle quantum numbers\n",
    "We operate with"
   ]
  },
  {
   "cell_type": "markdown",
   "metadata": {},
   "source": [
    "$$\n",
    "\\hat{j}^2=(\\hat{l}+\\hat{s})^2=\\hat{l}^2+\\hat{s}^2+2\\hat{l}_z\\hat{s}_z+\\hat{l}_+\\hat{s}_{-}+\\hat{l}_{-}\\hat{s}_{+}\n",
    "$$"
   ]
  },
  {
   "cell_type": "markdown",
   "metadata": {},
   "source": [
    "on the two $jm_j$ states, that is"
   ]
  },
  {
   "cell_type": "markdown",
   "metadata": {},
   "source": [
    "3\n",
    "5\n",
    " \n",
    "<\n",
    "<\n",
    "<\n",
    "!\n",
    "!\n",
    "M\n",
    "A\n",
    "T\n",
    "H\n",
    "_\n",
    "B\n",
    "L\n",
    "O\n",
    "C\n",
    "K"
   ]
  },
  {
   "cell_type": "markdown",
   "metadata": {},
   "source": [
    "$$\n",
    "\\beta\\hbar^2\\sqrt{l(l+1)-m_l(m_l-1)}\\phi_{n=0l=2m_l=1s=1/2m_s=1/2},\n",
    "$$"
   ]
  },
  {
   "cell_type": "markdown",
   "metadata": {},
   "source": [
    "and"
   ]
  },
  {
   "cell_type": "markdown",
   "metadata": {},
   "source": [
    "3\n",
    "7\n",
    " \n",
    "<\n",
    "<\n",
    "<\n",
    "!\n",
    "!\n",
    "M\n",
    "A\n",
    "T\n",
    "H\n",
    "_\n",
    "B\n",
    "L\n",
    "O\n",
    "C\n",
    "K"
   ]
  },
  {
   "cell_type": "markdown",
   "metadata": {},
   "source": [
    "$$\n",
    "\\beta\\hbar^2\\sqrt{l(l+1)-m_l(m_l+1)}\\phi_{n=0l=2m_l=2s=1/2m_s=-1/2}.\n",
    "$$"
   ]
  },
  {
   "cell_type": "markdown",
   "metadata": {},
   "source": [
    "## Single-particle and two-particle quantum numbers\n",
    "This means that the eigenvectors $\\phi_{n=0l=2m_l=2s=1/2m_s=-1/2}$ etc are not eigenvectors of $\\hat{j}^2$. The above problems gives a $2\\times2$ matrix that mixes the vectors $\\psi_{n=0j=5/2m_j3/2;l=2m_ls=1/2m_s}$ and $\\psi_{n=0j=3/2m_j3/2;l=2m_ls=1/2m_s}$ with the states  $\\phi_{n=0l=2m_l=2s=1/2m_s=-1/2}$ and\n",
    "$\\phi_{n=0l=2m_l=1s=1/2m_s=1/2}$. The unknown coefficients $\\alpha$ and $\\beta$ are the  eigenvectors of this matrix. That is, inserting all values $m_l,l,m_s,s$ we obtain the matrix"
   ]
  },
  {
   "cell_type": "markdown",
   "metadata": {},
   "source": [
    "$$\n",
    "\\left[ \\begin{array} {cc} 19/4 & 2 \\\\ 2 & 31/4 \\end{array} \\right]\n",
    "$$"
   ]
  },
  {
   "cell_type": "markdown",
   "metadata": {},
   "source": [
    "whose eigenvectors are the columns of"
   ]
  },
  {
   "cell_type": "markdown",
   "metadata": {},
   "source": [
    "$$\n",
    "\\left[ \\begin{array} {cc} 2/\\sqrt{5} &1/\\sqrt{5}  \\\\ 1/\\sqrt{5} & -2/\\sqrt{5} \\end{array}\\right]\n",
    "$$"
   ]
  },
  {
   "cell_type": "markdown",
   "metadata": {},
   "source": [
    "These numbers define the so-called Clebsch-Gordan coupling coefficients  (the overlaps between the two basis sets). We can thus write"
   ]
  },
  {
   "cell_type": "markdown",
   "metadata": {},
   "source": [
    "$$\n",
    "\\psi_{njm_j;ls}=\\sum_{m_lm_s}\\langle lm_lsm_s|jm_j\\rangle\\phi_{nlm_lsm_s},\n",
    "$$"
   ]
  },
  {
   "cell_type": "markdown",
   "metadata": {},
   "source": [
    "where the coefficients $\\langle lm_lsm_s|jm_j\\rangle$ are the so-called Clebsch-Gordan coeffficients.\n",
    "\n",
    "\n",
    "\n",
    "## Clebsch-Gordan coefficients\n",
    "The Clebsch-Gordan coeffficients $\\langle lm_lsm_s|jm_j\\rangle$ have some interesting properties for us, like the following  orthogonality relations"
   ]
  },
  {
   "cell_type": "markdown",
   "metadata": {},
   "source": [
    "4\n",
    "2\n",
    " \n",
    "<\n",
    "<\n",
    "<\n",
    "!\n",
    "!\n",
    "M\n",
    "A\n",
    "T\n",
    "H\n",
    "_\n",
    "B\n",
    "L\n",
    "O\n",
    "C\n",
    "K"
   ]
  },
  {
   "cell_type": "markdown",
   "metadata": {},
   "source": [
    "4\n",
    "3\n",
    " \n",
    "<\n",
    "<\n",
    "<\n",
    "!\n",
    "!\n",
    "M\n",
    "A\n",
    "T\n",
    "H\n",
    "_\n",
    "B\n",
    "L\n",
    "O\n",
    "C\n",
    "K"
   ]
  },
  {
   "cell_type": "markdown",
   "metadata": {},
   "source": [
    "$$\n",
    "\\langle j_1m_1j_2m_2|JM\\rangle=(-1)^{j_1+j_2-J}\\langle j_2m_2j_1m_1|JM\\rangle,\n",
    "$$"
   ]
  },
  {
   "cell_type": "markdown",
   "metadata": {},
   "source": [
    "and many others. The latter will turn extremely useful when we are going to define two-body states and interactions in a coupled basis.\n",
    "\n",
    "\n",
    "\n",
    "\n",
    "## Clebsch-Gordan coefficients, testing the orthogonality relations\n",
    "The orthogonality relation can be tested using the symbolic python package **wigner**. \n",
    "Let us test"
   ]
  },
  {
   "cell_type": "markdown",
   "metadata": {},
   "source": [
    "$$\n",
    "\\sum_{m_1m_2}\\langle j_1m_1j_2m_2|JM\\rangle\\langle j_1m_1j_2m_2|J'M'\\rangle=\\delta_{J,J'}\\delta_{M,M'},\n",
    "$$"
   ]
  },
  {
   "cell_type": "markdown",
   "metadata": {},
   "source": [
    "The following program tests this relation for the case of $j_1=3/2$ and $j_2=3/2$ meaning that $m_1$ and $m_2$ \n",
    "run from $-3/2$ to $3/2$."
   ]
  },
  {
   "cell_type": "code",
   "execution_count": 1,
   "metadata": {
    "collapsed": false
   },
   "outputs": [],
   "source": [
    "from sympy import S\n",
    "from sympy.physics.wigner import clebsch_gordan\n",
    "# Twice the values of j1 and j2\n",
    "j1 = 3\n",
    "j2 = 3\n",
    "J = 2\n",
    "Jp = 2\n",
    "M = 2\n",
    "Mp = 3\n",
    "sum = 0.0\n",
    "for m1 in range(-j1, j1+2, 2):\n",
    "    for m2 in range(-j2, j2+2, 2):\n",
    "        M = (m1+m2)/2.\n",
    "        \"\"\" Call j1, j2, J, m1, m2, m1+m2 \"\"\"\n",
    "        sum += clebsch_gordan(S(j1)/2, S(j2)/2, J, S(m1)/2, S(m2)/2, M)*clebsch_gordan(S(j1)/2, S(j2)/2, Jp, S(m1)/2, S(m2)/2, Mp)\n",
    "print sum"
   ]
  },
  {
   "cell_type": "markdown",
   "metadata": {},
   "source": [
    "## Quantum numbers and the Schroeodinger equation in relative and CM coordinates\n",
    "Summing up, for \n",
    "for the single-particle case, we have the following eigenfunctions"
   ]
  },
  {
   "cell_type": "markdown",
   "metadata": {},
   "source": [
    "$$\n",
    "\\psi_{njm_j;ls}=\\sum_{m_lm_s}\\langle lm_lsm_s|jm_j\\rangle\\phi_{nlm_lsm_s},\n",
    "$$"
   ]
  },
  {
   "cell_type": "markdown",
   "metadata": {},
   "source": [
    "where the coefficients $\\langle lm_lsm_s|jm_j\\rangle$ are the so-called Clebsch-Gordan coeffficients.\n",
    "The relevant quantum numbers are $n$ (related to the principal quantum number and the number of nodes of the wave function) and"
   ]
  },
  {
   "cell_type": "markdown",
   "metadata": {},
   "source": [
    "4\n",
    "7\n",
    " \n",
    "<\n",
    "<\n",
    "<\n",
    "!\n",
    "!\n",
    "M\n",
    "A\n",
    "T\n",
    "H\n",
    "_\n",
    "B\n",
    "L\n",
    "O\n",
    "C\n",
    "K"
   ]
  },
  {
   "cell_type": "markdown",
   "metadata": {},
   "source": [
    "4\n",
    "8\n",
    " \n",
    "<\n",
    "<\n",
    "<\n",
    "!\n",
    "!\n",
    "M\n",
    "A\n",
    "T\n",
    "H\n",
    "_\n",
    "B\n",
    "L\n",
    "O\n",
    "C\n",
    "K"
   ]
  },
  {
   "cell_type": "markdown",
   "metadata": {},
   "source": [
    "4\n",
    "9\n",
    " \n",
    "<\n",
    "<\n",
    "<\n",
    "!\n",
    "!\n",
    "M\n",
    "A\n",
    "T\n",
    "H\n",
    "_\n",
    "B\n",
    "L\n",
    "O\n",
    "C\n",
    "K"
   ]
  },
  {
   "cell_type": "markdown",
   "metadata": {},
   "source": [
    "$$\n",
    "\\hat{s}^2\\psi_{njm_j;ls}=\\hbar^2s(s+1)\\psi_{njm_j;ls},\n",
    "$$"
   ]
  },
  {
   "cell_type": "markdown",
   "metadata": {},
   "source": [
    "but $s_z$ and $l_z$ do not result in good quantum numbers in a basis where we\n",
    "use the angular momentum $j$.\n",
    "\n",
    "\n",
    "\n",
    "## Quantum numbers and the Schroedinger equation in relative and CM coordinates\n",
    "For a two-body state where we couple two angular momenta $j_1$ and $j_2$ to a final\n",
    "angular momentum $J$ with projection $M_J$, we can define a similar transformation in terms\n",
    "of the Clebsch-Gordan coeffficients"
   ]
  },
  {
   "cell_type": "markdown",
   "metadata": {},
   "source": [
    "$$\n",
    "\\psi_{(j_1j_2)JM_J}=\\sum_{m_{j_1}m_{j_2}}\\langle j_1m_{j_1}j_2m_{j_2}|JM_J\\rangle\\psi_{n_1j_1m_{j_1};l_1s_1}\\psi_{n_2j_2m_{j_2};l_2s_2}.\n",
    "$$"
   ]
  },
  {
   "cell_type": "markdown",
   "metadata": {},
   "source": [
    "We will write these functions in a more compact form hereafter, namely,"
   ]
  },
  {
   "cell_type": "markdown",
   "metadata": {},
   "source": [
    "$$\n",
    "|(j_1j_2)JM_J\\rangle=\\psi_{(j_1j_2)JM_J},\n",
    "$$"
   ]
  },
  {
   "cell_type": "markdown",
   "metadata": {},
   "source": [
    "and"
   ]
  },
  {
   "cell_type": "markdown",
   "metadata": {},
   "source": [
    "$$\n",
    "|j_im_{j_i}\\rangle=\\psi_{n_ij_im_{j_i};l_is_i},\n",
    "$$"
   ]
  },
  {
   "cell_type": "markdown",
   "metadata": {},
   "source": [
    "where we have skipped the explicit reference to $l$, $s$ and $n$. The spin of a nucleon is always $1/2$ while the value of $l$ can be deduced from the parity of the state.\n",
    "It is thus normal to label a state with a given total angular momentum as \n",
    "$j^{\\pi}$, where $\\pi=\\pm 1$.\n",
    "\n",
    "\n",
    "\n",
    "## Quantum numbers and the Schroedinger equation in relative and CM coordinates\n",
    "Our two-body state can thus be written as"
   ]
  },
  {
   "cell_type": "markdown",
   "metadata": {},
   "source": [
    "$$\n",
    "|(j_1j_2)JM_J\\rangle=\\sum_{m_{j_1}m_{j_2}}\\langle j_1m_{j_1}j_2m_{j_2}|JM_J\\rangle|j_1m_{j_1}\\rangle|j_2m_{j_2}\\rangle.\n",
    "$$"
   ]
  },
  {
   "cell_type": "markdown",
   "metadata": {},
   "source": [
    "Due to the coupling order of the Clebsch-Gordan coefficient it reads as \n",
    "$j_1$ coupled to $j_2$ to yield a final angular momentum $J$. If we invert the order of coupling we would have"
   ]
  },
  {
   "cell_type": "markdown",
   "metadata": {},
   "source": [
    "$$\n",
    "|(j_2j_1)JM_J\\rangle=\\sum_{m_{j_1}m_{j_2}}\\langle j_2m_{j_2}j_1m_{j_1}|JM_J\\rangle|j_1m_{j_1}\\rangle|j_2m_{j_2}\\rangle,\n",
    "$$"
   ]
  },
  {
   "cell_type": "markdown",
   "metadata": {},
   "source": [
    "and due to the symmetry properties of the Clebsch-Gordan coefficient we have"
   ]
  },
  {
   "cell_type": "markdown",
   "metadata": {},
   "source": [
    "$$\n",
    "|(j_2j_1)JM_J\\rangle=(-1)^{j_1+j_2-J}\\sum_{m_{j_1}m_{j_2}}\\langle j_1m_{j_1}j_2m_{j_2}|JM_J\\rangle|j_1m_{j_1}\\rangle|j_2m_{j_2}\\rangle=(-1)^{j_1+j_2-J}|(j_1j_2)JM_J\\rangle.\n",
    "$$"
   ]
  },
  {
   "cell_type": "markdown",
   "metadata": {},
   "source": [
    "We call the basis $|(j_1j_2)JM_J\\rangle$ for the **coupled basis**, or just $j$-coupled basis/scheme. The basis formed by the simple product of single-particle eigenstates \n",
    "$|j_1m_{j_1}\\rangle|j_2m_{j_2}\\rangle$ is called the **uncoupled-basis**, or just the $m$-scheme basis.\n",
    "\n",
    "\n",
    "\n",
    "## Quantum numbers\n",
    "We have thus the coupled basis"
   ]
  },
  {
   "cell_type": "markdown",
   "metadata": {},
   "source": [
    "$$\n",
    "|(j_1j_2)JM_J\\rangle=\\sum_{m_{j_1}m_{j_2}}\\langle j_1m_{j_1}j_2m_{j_2}|JM_J\\rangle|j_1m_{j_1}\\rangle|j_2m_{j_2}\\rangle.\n",
    "$$"
   ]
  },
  {
   "cell_type": "markdown",
   "metadata": {},
   "source": [
    "and the uncoupled basis"
   ]
  },
  {
   "cell_type": "markdown",
   "metadata": {},
   "source": [
    "$$\n",
    "|j_1m_{j_1}\\rangle|j_2m_{j_2}\\rangle.\n",
    "$$"
   ]
  },
  {
   "cell_type": "markdown",
   "metadata": {},
   "source": [
    "The latter can easily be generalized to many single-particle states whereas the first \n",
    "needs specific coupling coefficients and definitions of coupling orders. \n",
    "The $m$-scheme basis is easy to implement numerically and is used in most standard shell-model codes. \n",
    "Our coupled basis obeys also the following relations"
   ]
  },
  {
   "cell_type": "markdown",
   "metadata": {},
   "source": [
    "5\n",
    "9\n",
    " \n",
    "<\n",
    "<\n",
    "<\n",
    "!\n",
    "!\n",
    "M\n",
    "A\n",
    "T\n",
    "H\n",
    "_\n",
    "B\n",
    "L\n",
    "O\n",
    "C\n",
    "K"
   ]
  },
  {
   "cell_type": "markdown",
   "metadata": {},
   "source": [
    "$$\n",
    "\\hat{J}_z|(j_1j_2)JM_J\\rangle=\\hbar M_J|(j_1j_2)JM_J\\rangle,\n",
    "$$"
   ]
  },
  {
   "cell_type": "markdown",
   "metadata": {},
   "source": [
    "## Components of the force and isospin\n",
    " The nuclear forces are almost charge independent. If we assume they are, \n",
    "we can introduce a new quantum number which is conserved. For nucleons only, that is a proton and neutron, we can limit ourselves\n",
    "to two possible values which allow us to distinguish between the two particles. If we assign an isospin value of $\\tau=1/2$ for protons\n",
    "and neutrons (they belong to an isospin doublet, in the same way as we discussed the spin $1/2$ multiplet), we can define \n",
    "the neutron to have isospin projection $\\tau_z=+1/2$ and a proton to have $\\tau_z=-1/2$. These assignements are the standard choices in low-energy nuclear physics.\n",
    "\n",
    "\n",
    "\n",
    "## Isospin\n",
    "This leads to the introduction of an additional quantum number called isospin.\n",
    "We can define a single-nucleon\n",
    "state function in terms of the quantum numbers $n$, $j$, $m_j$, $l$, $s$, $\\tau$ and $\\tau_z$. Using our definitions in terms of an uncoupled basis, we had"
   ]
  },
  {
   "cell_type": "markdown",
   "metadata": {},
   "source": [
    "$$\n",
    "\\psi_{njm_j;ls}=\\sum_{m_lm_s}\\langle lm_lsm_s|jm_j\\rangle\\phi_{nlm_lsm_s},\n",
    "$$"
   ]
  },
  {
   "cell_type": "markdown",
   "metadata": {},
   "source": [
    "which we can now extend to"
   ]
  },
  {
   "cell_type": "markdown",
   "metadata": {},
   "source": [
    "$$\n",
    "\\psi_{njm_j;ls}\\xi_{\\tau\\tau_z}=\\sum_{m_lm_s}\\langle lm_lsm_s|jm_j\\rangle\\phi_{nlm_lsm_s}\\xi_{\\tau\\tau_z},\n",
    "$$"
   ]
  },
  {
   "cell_type": "markdown",
   "metadata": {},
   "source": [
    "with the isospin spinors defined as"
   ]
  },
  {
   "cell_type": "markdown",
   "metadata": {},
   "source": [
    "$$\n",
    "\\xi_{\\tau=1/2\\tau_z=+1/2}=\\left(\\begin{array}{c} 1  \\\\ 0\\end{array}\\right),\n",
    "$$"
   ]
  },
  {
   "cell_type": "markdown",
   "metadata": {},
   "source": [
    "and"
   ]
  },
  {
   "cell_type": "markdown",
   "metadata": {},
   "source": [
    "$$\n",
    "\\xi_{\\tau=1/2\\tau_z=-1/2}=\\left(\\begin{array}{c} 0  \\\\ 1\\end{array}\\right).\n",
    "$$"
   ]
  },
  {
   "cell_type": "markdown",
   "metadata": {},
   "source": [
    "We can then define the proton state function as"
   ]
  },
  {
   "cell_type": "markdown",
   "metadata": {},
   "source": [
    "$$\n",
    "\\psi^p(\\mathbf{r})  =\\psi_{njm_j;ls}(\\mathbf{r})\\left(\\begin{array}{c} 0  \\\\ 1\\end{array}\\right),\n",
    "$$"
   ]
  },
  {
   "cell_type": "markdown",
   "metadata": {},
   "source": [
    "and similarly for neutrons as"
   ]
  },
  {
   "cell_type": "markdown",
   "metadata": {},
   "source": [
    "$$\n",
    "\\psi^n(\\mathbf{r})  =\\psi_{njm_j;ls}(\\mathbf{r})\\left(\\begin{array}{c} 1  \\\\ 0\\end{array}\\right).\n",
    "$$"
   ]
  },
  {
   "cell_type": "markdown",
   "metadata": {},
   "source": [
    "## Isospin\n",
    "We can in turn define the isospin Pauli matrices (in the same as we define the spin matrices) as"
   ]
  },
  {
   "cell_type": "markdown",
   "metadata": {},
   "source": [
    "6\n",
    "7\n",
    " \n",
    "<\n",
    "<\n",
    "<\n",
    "!\n",
    "!\n",
    "M\n",
    "A\n",
    "T\n",
    "H\n",
    "_\n",
    "B\n",
    "L\n",
    "O\n",
    "C\n",
    "K"
   ]
  },
  {
   "cell_type": "markdown",
   "metadata": {},
   "source": [
    "$$\n",
    "\\hat{\\tau}_y =\\left(\\begin{array}{cc} 0 & -\\imath \\\\ \\imath & 0 \\end{array}\\right),\n",
    "$$"
   ]
  },
  {
   "cell_type": "markdown",
   "metadata": {},
   "source": [
    "and"
   ]
  },
  {
   "cell_type": "markdown",
   "metadata": {},
   "source": [
    "$$\n",
    "\\hat{\\tau}_z =\\left(\\begin{array}{cc} 1 & 0 \\\\ 0 & -1 \\end{array}\\right),\n",
    "$$"
   ]
  },
  {
   "cell_type": "markdown",
   "metadata": {},
   "source": [
    "and operating with $\\hat{\\tau}_z$ on the proton state function we have"
   ]
  },
  {
   "cell_type": "markdown",
   "metadata": {},
   "source": [
    "$$\n",
    "\\hat{\\tau}_z\\psi^p(\\mathbf{r})=-\\frac{1}{2}\\psi^p(\\mathbf{r}),\n",
    "$$"
   ]
  },
  {
   "cell_type": "markdown",
   "metadata": {},
   "source": [
    "and for neutrons we have"
   ]
  },
  {
   "cell_type": "markdown",
   "metadata": {},
   "source": [
    "$$\n",
    "\\hat{\\tau}\\psi^n(\\mathbf{r})=\\frac{1}{2}\\psi^n(\\mathbf{r}).\n",
    "$$"
   ]
  },
  {
   "cell_type": "markdown",
   "metadata": {},
   "source": [
    "## Isospin\n",
    "We can now define the so-called charge operator as"
   ]
  },
  {
   "cell_type": "markdown",
   "metadata": {},
   "source": [
    "$$\n",
    "\\frac{\\hat{Q}}{e} = \\frac{1}{2}\\left(1-\\hat{\\tau}_z\\right)=\\begin{Bmatrix} 0 & 0 \\\\ 0 & 1 \\end{Bmatrix},\n",
    "$$"
   ]
  },
  {
   "cell_type": "markdown",
   "metadata": {},
   "source": [
    "which results in"
   ]
  },
  {
   "cell_type": "markdown",
   "metadata": {},
   "source": [
    "$$\n",
    "\\frac{\\hat{Q}}{e}\\psi^p(\\mathbf{r})=\\psi^p(\\mathbf{r}),\n",
    "$$"
   ]
  },
  {
   "cell_type": "markdown",
   "metadata": {},
   "source": [
    "and"
   ]
  },
  {
   "cell_type": "markdown",
   "metadata": {},
   "source": [
    "$$\n",
    "\\frac{\\hat{Q}}{e}\\psi^n(\\mathbf{r})=0,\n",
    "$$"
   ]
  },
  {
   "cell_type": "markdown",
   "metadata": {},
   "source": [
    "as it should be.\n",
    "\n",
    "\n",
    "\n",
    "## Isospin\n",
    "The total isospin is defined as"
   ]
  },
  {
   "cell_type": "markdown",
   "metadata": {},
   "source": [
    "$$\n",
    "\\hat{T}=\\sum_{i=1}^A\\hat{\\tau}_i,\n",
    "$$"
   ]
  },
  {
   "cell_type": "markdown",
   "metadata": {},
   "source": [
    "and its corresponding isospin projection as"
   ]
  },
  {
   "cell_type": "markdown",
   "metadata": {},
   "source": [
    "$$\n",
    "\\hat{T}_z=\\sum_{i=1}^A\\hat{\\tau}_{z_i},\n",
    "$$"
   ]
  },
  {
   "cell_type": "markdown",
   "metadata": {},
   "source": [
    "with eigenvalues $T(T+1)$ for $\\hat{T}$ and $1/2(N-Z)$ for $\\hat{T}_z$, where $N$ is the number of neutrons and $Z$ the number of protons. \n",
    "\n",
    "If charge is conserved, the Hamiltonian $\\hat{H}$ commutes with $\\hat{T}_z$ and all members of a given isospin multiplet\n",
    "(that is the same value of $T$) have the same energy and there is no $T_z$ dependence and we say that $\\hat{H}$ is a scalar in isospin space.\n",
    "\n",
    "\n",
    "\n",
    "\n",
    "## Angular momentum algebra, Examples\n",
    "We have till now seen the following definitions of a two-body matrix elements \n",
    "with quantum numbers $p=j_pm_p$ etc we have a two-body state defined as"
   ]
  },
  {
   "cell_type": "markdown",
   "metadata": {},
   "source": [
    "$$\n",
    "|(pq)M\\rangle  = a^{\\dagger}_pa^{\\dagger}_q|\\Phi_0\\rangle,\n",
    "$$"
   ]
  },
  {
   "cell_type": "markdown",
   "metadata": {},
   "source": [
    "where $|\\Phi_0\\rangle$ is a chosen reference state, say for example the Slater determinant which approximates \n",
    "${}^{16}\\mbox{O}$ with the $0s$ and the $0p$ shells being filled, and $M=m_p+m_q$. Recall that we label single-particle states above the Fermi level as $abcd\\dots$ and states below the Fermi level for $ijkl\\dots$.  \n",
    "In case of two-particles in the single-particle states $a$ and $b$ outside ${}^{16}\\mbox{O}$ as a closed shell core, say ${}^{18}\\mbox{O}$, \n",
    "we would write the representation of the Slater determinant as"
   ]
  },
  {
   "cell_type": "markdown",
   "metadata": {},
   "source": [
    "$$\n",
    "|^{18}\\mathrm{O}\\rangle =|(ab)M\\rangle  = a^{\\dagger}_aa^{\\dagger}_b|^{16}\\mathrm{O}\\rangle=|\\Phi^{ab}\\rangle.\n",
    "$$"
   ]
  },
  {
   "cell_type": "markdown",
   "metadata": {},
   "source": [
    "In case of two-particles removed from say ${}^{16}\\mbox{O}$, for example two neutrons in the single-particle states $i$ and $j$, we would write this as"
   ]
  },
  {
   "cell_type": "markdown",
   "metadata": {},
   "source": [
    "$$\n",
    "|^{14}\\mathrm{O}\\rangle =|(ij)M\\rangle  = a_ja_i|^{16}\\mathrm{O}\\rangle=|\\Phi_{ij}\\rangle.\n",
    "$$"
   ]
  },
  {
   "cell_type": "markdown",
   "metadata": {},
   "source": [
    "## Angular momentum algebra and many-body states\n",
    "For a one-hole-one-particle state we have"
   ]
  },
  {
   "cell_type": "markdown",
   "metadata": {},
   "source": [
    "$$\n",
    "|^{16}\\mathrm{O}\\rangle_{1p1h} =|(ai)M\\rangle  = a_a^{\\dagger}a_i|^{16}\\mathrm{O}\\rangle=|\\Phi_{i}^a\\rangle,\n",
    "$$"
   ]
  },
  {
   "cell_type": "markdown",
   "metadata": {},
   "source": [
    "and finally for a two-particle-two-hole state we"
   ]
  },
  {
   "cell_type": "markdown",
   "metadata": {},
   "source": [
    "$$\n",
    "|^{16}\\mathrm{O}\\rangle_{2p2h} =|(abij)M\\rangle  = a_a^{\\dagger}a_b^{\\dagger}a_ja_i|^{16}\\mathrm{O}\\rangle=|\\Phi_{ij}^{ab}\\rangle.\n",
    "$$"
   ]
  },
  {
   "cell_type": "markdown",
   "metadata": {},
   "source": [
    "## Angular momentum algebra, two-body state and anti-symmetrized matrix elements\n",
    "Let us go back to the case of two-particles in the single-particle states $a$ and $b$ outside ${}^{16}\\mbox{O}$ as a closed shell core, say ${}^{18}\\mbox{O}$.\n",
    "The representation of the Slater determinant is"
   ]
  },
  {
   "cell_type": "markdown",
   "metadata": {},
   "source": [
    "$$\n",
    "|^{18}\\mathrm{O}\\rangle =|(ab)M\\rangle  = a^{\\dagger}_aa^{\\dagger}_b|^{16}\\mathrm{O}\\rangle=|\\Phi^{ab}\\rangle.\n",
    "$$"
   ]
  },
  {
   "cell_type": "markdown",
   "metadata": {},
   "source": [
    "The anti-symmetrized matrix element is detailed as"
   ]
  },
  {
   "cell_type": "markdown",
   "metadata": {},
   "source": [
    "$$\n",
    "\\langle (ab) M | \\hat{V} | (cd) M \\rangle = \\langle (j_am_aj_bm_b)M=m_a+m_b |  \\hat{V} | (j_cm_cj_dm_d)M=m_a+m_b \\rangle,\n",
    "$$"
   ]
  },
  {
   "cell_type": "markdown",
   "metadata": {},
   "source": [
    "and note that anti-symmetrization means"
   ]
  },
  {
   "cell_type": "markdown",
   "metadata": {},
   "source": [
    "8\n",
    "4\n",
    " \n",
    "<\n",
    "<\n",
    "<\n",
    "!\n",
    "!\n",
    "M\n",
    "A\n",
    "T\n",
    "H\n",
    "_\n",
    "B\n",
    "L\n",
    "O\n",
    "C\n",
    "K"
   ]
  },
  {
   "cell_type": "markdown",
   "metadata": {},
   "source": [
    "$$\n",
    "\\langle (ab) M | \\hat{V} | (cd) M \\rangle =-\\langle (ab) M | \\hat{V} | (dc) M \\rangle.\n",
    "$$"
   ]
  },
  {
   "cell_type": "markdown",
   "metadata": {},
   "source": [
    "## Angular momentum algebra, Wigner-Eckart theorem, Examples\n",
    "This matrix element is given by"
   ]
  },
  {
   "cell_type": "markdown",
   "metadata": {},
   "source": [
    "$$\n",
    "\\langle ^{16}\\mathrm{O}|a_ba_a\\frac{1}{4}\\sum_{pqrs}\\langle (pq) M | \\hat{V} | (rs) M' \\rangle a^{\\dagger}_pa^{\\dagger}_qa_sa_r a^{\\dagger}_ca^{\\dagger}_d|^{16}\\mathrm{O}\\rangle.\n",
    "$$"
   ]
  },
  {
   "cell_type": "markdown",
   "metadata": {},
   "source": [
    "We can compute this matrix element using Wick's theorem.\n",
    "\n",
    "\n",
    "\n",
    "\n",
    "## Angular momentum algebra, Wigner-Eckart theorem, Examples\n",
    "We have also defined matrix elements in the coupled basis, the so-called $J$-coupled scheme.\n",
    "In this case the two-body wave function for two neutrons outside ${}^{16}\\mbox{O}$ is written as"
   ]
  },
  {
   "cell_type": "markdown",
   "metadata": {},
   "source": [
    "$$\n",
    "|^{18}\\mathrm{O}\\rangle_J =|(ab)JM\\rangle  = \\left\\{a^{\\dagger}_aa^{\\dagger}_b\\right\\}^J_M|^{16}\\mathrm{O}\\rangle=N_{ab}\\sum_{m_am_b}\\langle j_am_aj_bm_b|JM\\rangle|\\Phi^{ab}\\rangle,\n",
    "$$"
   ]
  },
  {
   "cell_type": "markdown",
   "metadata": {},
   "source": [
    "with"
   ]
  },
  {
   "cell_type": "markdown",
   "metadata": {},
   "source": [
    "$$\n",
    "|\\Phi^{ab}\\rangle=a^{\\dagger}_aa^{\\dagger}_b|^{16}\\mathrm{O}\\rangle.\n",
    "$$"
   ]
  },
  {
   "cell_type": "markdown",
   "metadata": {},
   "source": [
    "We have now an explicit coupling order, where the angular momentum $j_a$ is coupled to the angular momentum $j_b$ to yield a final two-body angular momentum $J$. \n",
    "The normalization factor is"
   ]
  },
  {
   "cell_type": "markdown",
   "metadata": {},
   "source": [
    "$$\n",
    "N_{ab}=\\frac{\\sqrt{1+\\delta_{ab}\\times (-1)^J}}{1+\\delta_{ab}}.\n",
    "$$"
   ]
  },
  {
   "cell_type": "markdown",
   "metadata": {},
   "source": [
    "## Angular momentum algebra\n",
    "We\n",
    "note that, using the anti-commuting \n",
    "properties of the creation operators, we obtain"
   ]
  },
  {
   "cell_type": "markdown",
   "metadata": {},
   "source": [
    "$$\n",
    "N_{ab}\\sum_{m_am_b}\\langle j_am_aj_bm_b|JM\\rangle \\vert\\Phi^{ab}\\rangle=-N_{ab}\\sum_{m_am_b}\\langle j_am_aj_bm_b|JM\\rangle\\vert\\Phi^{ba}\\rangle.\n",
    "$$"
   ]
  },
  {
   "cell_type": "markdown",
   "metadata": {},
   "source": [
    "Furthermore, using the property of the Clebsch-Gordan coefficient"
   ]
  },
  {
   "cell_type": "markdown",
   "metadata": {},
   "source": [
    "$$\n",
    "\\langle j_am_aj_bm_b|JM>=(-1)^{j_a+j_b-J}\\langle j_bm_bj_am_a|JM\\rangle,\n",
    "$$"
   ]
  },
  {
   "cell_type": "markdown",
   "metadata": {},
   "source": [
    "which can be used to show that"
   ]
  },
  {
   "cell_type": "markdown",
   "metadata": {},
   "source": [
    "$$\n",
    "|(j_bj_a)JM\\rangle  = \\left\\{a^{\\dagger}_ba^{\\dagger}_a\\right\\}^J_M|^{16}\\mathrm{O}\\rangle=N_{ab}\\sum_{m_am_b}\\langle j_bm_bj_am_a|JM\\rangle|\\Phi^{ba}\\rangle,\n",
    "$$"
   ]
  },
  {
   "cell_type": "markdown",
   "metadata": {},
   "source": [
    "is equal to"
   ]
  },
  {
   "cell_type": "markdown",
   "metadata": {},
   "source": [
    "$$\n",
    "|(j_bj_a)JM\\rangle=(-1)^{j_a+j_b-J+1}|(j_aj_b)JM\\rangle.\n",
    "$$"
   ]
  },
  {
   "cell_type": "markdown",
   "metadata": {},
   "source": [
    "## Angular momentum algebra, Wigner-Eckart theorem, Examples\n",
    "The implementation of the Pauli principle looks different in the $J$-scheme compared with the $m$-scheme. In the latter, no two fermions or more can have the same set of quantum numbers. In the $J$-scheme, when we write a state with the shorthand"
   ]
  },
  {
   "cell_type": "markdown",
   "metadata": {},
   "source": [
    "$$\n",
    "|^{18}\\mathrm{O}\\rangle_J =|(ab)JM\\rangle,\n",
    "$$"
   ]
  },
  {
   "cell_type": "markdown",
   "metadata": {},
   "source": [
    "we do refer to the angular momenta only. This means that another way of writing the last state is"
   ]
  },
  {
   "cell_type": "markdown",
   "metadata": {},
   "source": [
    "$$\n",
    "|^{18}\\mathrm{O}\\rangle_J =|(j_aj_b)JM\\rangle.\n",
    "$$"
   ]
  },
  {
   "cell_type": "markdown",
   "metadata": {},
   "source": [
    "We will use this notation throughout when we refer to a two-body state in $J$-scheme. The Kronecker $\\delta$ function in the normalization factor \n",
    "refers thus to the values of $j_a$ and $j_b$. If two identical particles are in a state with the same $j$-value, then only even values of the total angular momentum apply.  In the notation below, when we label a state as $j_p$ it will actually represent all quantum numbers except $m_p$.\n",
    "\n",
    "\n",
    "\n",
    "\n",
    "\n",
    "\n",
    "## Angular momentum algebra, two-body matrix elements\n",
    "The two-body matrix element is a scalar and since it obeys rotational symmetry, it is diagonal in $J$, \n",
    "meaning that the corresponding matrix element in $J$-scheme is"
   ]
  },
  {
   "cell_type": "markdown",
   "metadata": {},
   "source": [
    "9\n",
    "6\n",
    " \n",
    "<\n",
    "<\n",
    "<\n",
    "!\n",
    "!\n",
    "M\n",
    "A\n",
    "T\n",
    "H\n",
    "_\n",
    "B\n",
    "L\n",
    "O\n",
    "C\n",
    "K"
   ]
  },
  {
   "cell_type": "markdown",
   "metadata": {},
   "source": [
    "$$\n",
    "\\times \\langle j_cm_cj_dm_d|JM\\rangle\\langle (j_am_aj_bm_b)M |  \\hat{V} | (j_cm_cj_dm_d)M \\rangle,\n",
    "$$"
   ]
  },
  {
   "cell_type": "markdown",
   "metadata": {},
   "source": [
    "and note that of the four $m$-values in the above sum, only three are independent due to the constraint $m_a+m_b=M=m_c+m_d$.\n",
    "\n",
    "\n",
    "\n",
    "## Angular momentum algebra, two-body matrix element\n",
    "Since"
   ]
  },
  {
   "cell_type": "markdown",
   "metadata": {},
   "source": [
    "$$\n",
    "|(j_bj_a)JM\\rangle=(-1)^{j_a+j_b-J+1}|(j_aj_b)JM\\rangle,\n",
    "$$"
   ]
  },
  {
   "cell_type": "markdown",
   "metadata": {},
   "source": [
    "the anti-symmetrized matrix elements need now to obey the following relations"
   ]
  },
  {
   "cell_type": "markdown",
   "metadata": {},
   "source": [
    "9\n",
    "9\n",
    " \n",
    "<\n",
    "<\n",
    "<\n",
    "!\n",
    "!\n",
    "M\n",
    "A\n",
    "T\n",
    "H\n",
    "_\n",
    "B\n",
    "L\n",
    "O\n",
    "C\n",
    "K"
   ]
  },
  {
   "cell_type": "markdown",
   "metadata": {},
   "source": [
    "1\n",
    "0\n",
    "0\n",
    " \n",
    "<\n",
    "<\n",
    "<\n",
    "!\n",
    "!\n",
    "M\n",
    "A\n",
    "T\n",
    "H\n",
    "_\n",
    "B\n",
    "L\n",
    "O\n",
    "C\n",
    "K"
   ]
  },
  {
   "cell_type": "markdown",
   "metadata": {},
   "source": [
    "$$\n",
    "\\langle (j_aj_b) JM | \\hat{V} | (j_cj_d) JM \\rangle = (-1)^{j_a+j_b+j_c+j_d}\\langle (j_bj_a) JM | \\hat{V} | (j_dj_c) JM \\rangle=\\langle (j_bj_a) JM | \\hat{V} | (j_dj_c) JM \\rangle,\n",
    "$$"
   ]
  },
  {
   "cell_type": "markdown",
   "metadata": {},
   "source": [
    "where the last relations follows from the fact that $J$ is an integer and $2J$ is always an even number.\n",
    "\n",
    "\n",
    "\n",
    "## Angular momentum algebra, two-body matrix element\n",
    "Using the orthogonality properties of the Clebsch-Gordan coefficients,"
   ]
  },
  {
   "cell_type": "markdown",
   "metadata": {},
   "source": [
    "$$\n",
    "\\sum_{m_am_b}\\langle j_am_aj_bm_b|JM\\rangle\\langle j_am_aj_bm_b|J'M'\\rangle=\\delta_{JJ'}\\delta_{MM'},\n",
    "$$"
   ]
  },
  {
   "cell_type": "markdown",
   "metadata": {},
   "source": [
    "and"
   ]
  },
  {
   "cell_type": "markdown",
   "metadata": {},
   "source": [
    "$$\n",
    "\\sum_{JM}\\langle j_am_aj_bm_b|JM\\rangle\\langle j_am_a'j_bm_b'|JM\\rangle=\\delta_{m_am_a'}\\delta_{m_bm_b'},\n",
    "$$"
   ]
  },
  {
   "cell_type": "markdown",
   "metadata": {},
   "source": [
    "we can also express the two-body matrix element in $m$-scheme in terms of that in $J$-scheme, that is, if we multiply with"
   ]
  },
  {
   "cell_type": "markdown",
   "metadata": {},
   "source": [
    "$$\n",
    "\\sum_{JMJ'M'}\\langle j_am_a'j_bm_b'|JM\\rangle\\langle j_cm_c'j_dm_d'|J'M'\\rangle\n",
    "$$"
   ]
  },
  {
   "cell_type": "markdown",
   "metadata": {},
   "source": [
    "from left in"
   ]
  },
  {
   "cell_type": "markdown",
   "metadata": {},
   "source": [
    "1\n",
    "0\n",
    "5\n",
    " \n",
    "<\n",
    "<\n",
    "<\n",
    "!\n",
    "!\n",
    "M\n",
    "A\n",
    "T\n",
    "H\n",
    "_\n",
    "B\n",
    "L\n",
    "O\n",
    "C\n",
    "K"
   ]
  },
  {
   "cell_type": "markdown",
   "metadata": {},
   "source": [
    "$$\n",
    "\\times \\langle (j_am_aj_bm_b)M|  \\hat{V} | (j_cm_cj_dm_d)M\\rangle,\n",
    "$$"
   ]
  },
  {
   "cell_type": "markdown",
   "metadata": {},
   "source": [
    "we obtain"
   ]
  },
  {
   "cell_type": "markdown",
   "metadata": {},
   "source": [
    "1\n",
    "0\n",
    "7\n",
    " \n",
    "<\n",
    "<\n",
    "<\n",
    "!\n",
    "!\n",
    "M\n",
    "A\n",
    "T\n",
    "H\n",
    "_\n",
    "B\n",
    "L\n",
    "O\n",
    "C\n",
    "K"
   ]
  },
  {
   "cell_type": "markdown",
   "metadata": {},
   "source": [
    "$$\n",
    "\\times \\langle (j_aj_b) JM | \\hat{V} | (j_cj_d) JM \\rangle.\n",
    "$$"
   ]
  },
  {
   "cell_type": "markdown",
   "metadata": {},
   "source": [
    "## The Hartree-Fock potential\n",
    "We can now use the above relations to compute the Hartre-Fock energy in $j$-scheme. \n",
    "In $m$-scheme we defined the Hartree-Fock energy as"
   ]
  },
  {
   "cell_type": "markdown",
   "metadata": {},
   "source": [
    "$$\n",
    "\\varepsilon_{pq}^{\\mathrm{HF}}=\\delta_{pq}\\varepsilon_p+  \\sum_{i\\le F} \\langle pi \\vert \\hat{V} \\vert qi\\rangle_{AS},\n",
    "$$"
   ]
  },
  {
   "cell_type": "markdown",
   "metadata": {},
   "source": [
    "where the single-particle states $pqi$ point to the quantum numbers in $m$-scheme. For a state with for example $j=5/2$, this results in six identical values for the above potential. We would obviously like to reduce this to one only by rewriting our equations in $j$-scheme. \n",
    "\n",
    "Our Hartree-Fock basis is orthogonal by definition, meaning that we have"
   ]
  },
  {
   "cell_type": "markdown",
   "metadata": {},
   "source": [
    "$$\n",
    "\\varepsilon_{p}^{\\mathrm{HF}}=\\varepsilon_p+  \\sum_{i\\le F} \\langle pi \\vert \\hat{V} \\vert pi\\rangle_{AS},\n",
    "$$"
   ]
  },
  {
   "cell_type": "markdown",
   "metadata": {},
   "source": [
    "## The Hartree-Fock potential\n",
    "We have"
   ]
  },
  {
   "cell_type": "markdown",
   "metadata": {},
   "source": [
    "$$\n",
    "\\varepsilon_{p}^{\\mathrm{HF}}=\\varepsilon_p+  \\sum_{i\\le F} \\langle pi \\vert \\hat{V} \\vert pi\\rangle_{AS},\n",
    "$$"
   ]
  },
  {
   "cell_type": "markdown",
   "metadata": {},
   "source": [
    "where the single-particle  states $p=[n_p,j_p,m_p,t_{z_{p}}]$. Let us assume that $p$ is a state above the Fermi level. The quantity $\\varepsilon_p$ could represent the harmonic oscillator single-particle energies. \n",
    "\n",
    "Let  $p\\rightarrow a$. \n",
    "\n",
    "The energies, as we have seen, are independent of $m_a$ and $m_i$. \n",
    "We sum now over all $m_a$ on both sides of the above equation and divide by $2j_a+1$, recalling that $\\sum_{m_a}=2j_a+1$.  This results in"
   ]
  },
  {
   "cell_type": "markdown",
   "metadata": {},
   "source": [
    "$$\n",
    "\\varepsilon_{a}^{\\mathrm{HF}}=\\varepsilon_a+  \\frac{1}{2j_a+1}\\sum_{i\\le F}\\sum_{m_a} \\langle ai \\vert \\hat{V}\\vert ai\\rangle_{AS},\n",
    "$$"
   ]
  },
  {
   "cell_type": "markdown",
   "metadata": {},
   "source": [
    "## The Hartree-Fock potential\n",
    "We rewrite"
   ]
  },
  {
   "cell_type": "markdown",
   "metadata": {},
   "source": [
    "$$\n",
    "\\varepsilon_{a}^{\\mathrm{HF}}=\\varepsilon_a+  \\frac{1}{2j_a+1}\\sum_{i\\le F}\\sum_{m_a} \\langle ai \\vert \\hat{V} \\vert ai\\rangle_{AS},\n",
    "$$"
   ]
  },
  {
   "cell_type": "markdown",
   "metadata": {},
   "source": [
    "as"
   ]
  },
  {
   "cell_type": "markdown",
   "metadata": {},
   "source": [
    "$$\n",
    "\\varepsilon_{a}^{\\mathrm{HF}}=\\varepsilon_a+  \\frac{1}{2j_a+1}\\sum_{n_i,j_i,t_{z_{i}}\\le F}\\sum_{m_im_a} \n",
    "\\langle (j_am_aj_im_i)M |  \\hat{V} | (j_am_aj_im_i)M\\rangle_{AS},\n",
    "$$"
   ]
  },
  {
   "cell_type": "markdown",
   "metadata": {},
   "source": [
    "where we have suppressed  the dependence on $n_p$ and $t_z$ in the matrix element. \n",
    "Using the definition"
   ]
  },
  {
   "cell_type": "markdown",
   "metadata": {},
   "source": [
    "$$\n",
    "\\langle (j_am_aj_bm_b)M \\vert  \\hat{V} \\vert (j_cm_cj_dm_d)M\\rangle=\\frac{1}{N_{ab}N_{cd}}\\sum_{JM}\\langle j_am_aj_bm_b|JM\\rangle\\langle j_cm_cj_dm_d|JM\\rangle \\langle (j_aj_b)J \\vert \\hat{V} \\vert (j_cj_d)M\\rangle_{AS},\n",
    "$$"
   ]
  },
  {
   "cell_type": "markdown",
   "metadata": {},
   "source": [
    "with the orthogonality properties of Glebsch-Gordan coefficients and that the  $j$-coupled two-body matrix element is a scalar and independent of $M$ we arrive at"
   ]
  },
  {
   "cell_type": "markdown",
   "metadata": {},
   "source": [
    "$$\n",
    "\\varepsilon_{a}^{\\mathrm{HF}}=\\varepsilon_a+  \\frac{1}{2j_a+1}\\sum_{j_i\\le F}\\sum_J (2J+1)\n",
    "\\langle (j_aj_i)J \\vert \\hat{V} \\vert (j_aj_i)M\\rangle_{AS},\n",
    "$$"
   ]
  },
  {
   "cell_type": "markdown",
   "metadata": {},
   "source": [
    "## First order in the potential energy\n",
    "In a similar way it is easy to show that the potential energy contribution to the ground state energy in $m$-scheme"
   ]
  },
  {
   "cell_type": "markdown",
   "metadata": {},
   "source": [
    "$$\n",
    "\\frac{1}{2}\\sum_{ij\\le F}\\langle (j_im_ij_jm_j)M |  \\hat{V} | (j_im_ij_jm_j)M\\rangle_{AS},\n",
    "$$"
   ]
  },
  {
   "cell_type": "markdown",
   "metadata": {},
   "source": [
    "can be rewritten as"
   ]
  },
  {
   "cell_type": "markdown",
   "metadata": {},
   "source": [
    "$$\n",
    "\\frac{1}{2}\\sum_{j_i,j_j\\le F}\\sum_J(2J+1)\n",
    "\\langle (j_ij_j)J |  \\hat{V} | (j_ij_j)J\\rangle_{AS},\n",
    "$$"
   ]
  },
  {
   "cell_type": "markdown",
   "metadata": {},
   "source": [
    "This reduces the number of floating point operations with an order of magnitude on average.\n",
    "\n",
    "\n",
    "\n",
    "\n",
    "\n",
    "\n",
    "\n",
    "\n",
    "\n",
    "\n",
    "## Angular momentum algebra\n",
    "We are now going to define two-body and many-body states in an angular momentum coupled basis, the so-called $j$-scheme basis.  In this connection\n",
    "* we need to define the so-called $6j$ and $9j$ symbols\n",
    "\n",
    "* as well as the the Wigner-Eckart theorem\n",
    "\n",
    "We will also study  some specific examples, like the calculation of the tensor force.\n",
    "\n",
    "\n",
    "\n",
    "\n",
    "## Angular momentum algebra, Wigner-Eckart theorem\n",
    "We define an irreducible  spherical tensor $T^{\\lambda}_{\\mu}$ of rank $\\lambda$ as an operator with $2\\lambda+1$ components $\\mu$ \n",
    "that satisfies the commutation relations ($\\hbar=1$)"
   ]
  },
  {
   "cell_type": "markdown",
   "metadata": {},
   "source": [
    "$$\n",
    "[J_{\\pm}, T^{\\lambda}_{\\mu}]= \\sqrt{(\\lambda\\mp \\mu)(\\lambda\\pm \\mu+1)}T^{\\lambda}_{\\mu\\pm 1},\n",
    "$$"
   ]
  },
  {
   "cell_type": "markdown",
   "metadata": {},
   "source": [
    "and"
   ]
  },
  {
   "cell_type": "markdown",
   "metadata": {},
   "source": [
    "$$\n",
    "[J_{z}, T^{\\lambda}_{\\mu}]=\\mu T^{\\lambda}_{\\mu}.\n",
    "$$"
   ]
  },
  {
   "cell_type": "markdown",
   "metadata": {},
   "source": [
    "## Angular momentum algebra, Wigner-Eckart theorem\n",
    "Our angular momentum coupled two-body wave function obeys clearly this definition, namely"
   ]
  },
  {
   "cell_type": "markdown",
   "metadata": {},
   "source": [
    "$$\n",
    "|(ab)JM\\rangle  = \\left\\{a^{\\dagger}_aa^{\\dagger}_b\\right\\}^J_M|\\Phi_0\\rangle=N_{ab}\\sum_{m_am_b}\\langle j_am_aj_bm_b|JM\\rangle|\\Phi^{ab}\\rangle,\n",
    "$$"
   ]
  },
  {
   "cell_type": "markdown",
   "metadata": {},
   "source": [
    "is a tensor of rank $J$ with $M$ components. Another well-known example is given by the spherical harmonics (see examples during today's lecture). \n",
    "\n",
    "The product of two irreducible tensor operators"
   ]
  },
  {
   "cell_type": "markdown",
   "metadata": {},
   "source": [
    "$$\n",
    "T^{\\lambda_3}_{\\mu_3}=\\sum_{\\mu_1\\mu_2}\\langle \\lambda_1\\mu_1\\lambda_2\\mu_2|\\lambda_3\\mu_3\\rangle T^{\\lambda_1}_{\\mu_1}T^{\\lambda_2}_{\\mu_2}\n",
    "$$"
   ]
  },
  {
   "cell_type": "markdown",
   "metadata": {},
   "source": [
    "is also a tensor operator of rank $\\lambda_3$.\n",
    "\n",
    "\n",
    "\n",
    "\n",
    "## Angular momentum algebra, Wigner-Eckart theorem\n",
    "We wish to apply the above definitions to the computations of a matrix element"
   ]
  },
  {
   "cell_type": "markdown",
   "metadata": {},
   "source": [
    "$$\n",
    "\\langle \\Phi^J_M|T^{\\lambda}_{\\mu}|\\Phi^{J'}_{M'}\\rangle,\n",
    "$$"
   ]
  },
  {
   "cell_type": "markdown",
   "metadata": {},
   "source": [
    "where we have skipped a reference to specific single-particle states. This is the expectation value for two specific states, labelled by angular momenta $J'$ and $J$. These states form an orthonormal basis.\n",
    "Using the properties of the Clebsch-Gordan coefficients we can write"
   ]
  },
  {
   "cell_type": "markdown",
   "metadata": {},
   "source": [
    "$$\n",
    "T^{\\lambda}_{\\mu}|\\Phi^{J'}_{M'}\\rangle=\\sum_{J''M''}\\langle \\lambda \\mu J'M'|J''M''\\rangle|\\Psi^{J''}_{M''}\\rangle,\n",
    "$$"
   ]
  },
  {
   "cell_type": "markdown",
   "metadata": {},
   "source": [
    "and assuming that states with different $J$ and $M$ are orthonormal we arrive at"
   ]
  },
  {
   "cell_type": "markdown",
   "metadata": {},
   "source": [
    "$$\n",
    "\\langle \\Phi^J_M|T^{\\lambda}_{\\mu}|\\Phi^{J'}_{M'}\\rangle= \\langle \\lambda \\mu J'M'|JM\\rangle \\langle \\Phi^J_M|\\Psi^{J}_{M}\\rangle.\n",
    "$$"
   ]
  },
  {
   "cell_type": "markdown",
   "metadata": {},
   "source": [
    "## Angular momentum algebra, Wigner-Eckart theorem\n",
    "We need to show that"
   ]
  },
  {
   "cell_type": "markdown",
   "metadata": {},
   "source": [
    "$$\n",
    "\\langle \\Phi^J_M|\\Psi^{J}_{M}\\rangle,\n",
    "$$"
   ]
  },
  {
   "cell_type": "markdown",
   "metadata": {},
   "source": [
    "is independent of $M$.\n",
    "To show that"
   ]
  },
  {
   "cell_type": "markdown",
   "metadata": {},
   "source": [
    "$$\n",
    "\\langle \\Phi^J_M|\\Psi^{J}_{M}\\rangle,\n",
    "$$"
   ]
  },
  {
   "cell_type": "markdown",
   "metadata": {},
   "source": [
    "is independent of $M$, we use the ladder operators for angular momentum.\n",
    "\n",
    "\n",
    "\n",
    "## Angular momentum algebra, Wigner-Eckart theorem\n",
    " We have that"
   ]
  },
  {
   "cell_type": "markdown",
   "metadata": {},
   "source": [
    "$$\n",
    "\\langle \\Phi^J_{M+1}|\\Psi^{J}_{M+1}\\rangle=\\left((J-M)(J+M+1)\\right)^{-1/2}\\langle \\hat{J}_{+}\\Phi^J_{M}|\\Psi^{J}_{M+1}\\rangle,\n",
    "$$"
   ]
  },
  {
   "cell_type": "markdown",
   "metadata": {},
   "source": [
    "but this is also equal to"
   ]
  },
  {
   "cell_type": "markdown",
   "metadata": {},
   "source": [
    "$$\n",
    "\\langle \\Phi^J_{M+1}|\\Psi^{J}_{M+1}\\rangle=\\left((J-M)(J+M+1)\\right)^{-1/2}\\langle \\Phi^J_{M}|\\hat{J}_{-}\\Psi^{J}_{M+1}\\rangle,\n",
    "$$"
   ]
  },
  {
   "cell_type": "markdown",
   "metadata": {},
   "source": [
    "meaning that"
   ]
  },
  {
   "cell_type": "markdown",
   "metadata": {},
   "source": [
    "$$\n",
    "\\langle \\Phi^J_{M+1}|\\Psi^{J}_{M+1}\\rangle=\\langle \\Phi^J_M|\\Psi^{J}_{M}\\rangle\\equiv\\langle \\Phi^J_{M}||T^{\\lambda}||\\Phi^{J'}_{M'}\\rangle.\n",
    "$$"
   ]
  },
  {
   "cell_type": "markdown",
   "metadata": {},
   "source": [
    "The double bars indicate that this expectation value is independent of the projection $M$.\n",
    "\n",
    "\n",
    "\n",
    "## Angular momentum algebra, Wigner-Eckart theorem\n",
    "The Wigner-Eckart theorem for an expectation value can then be written as"
   ]
  },
  {
   "cell_type": "markdown",
   "metadata": {},
   "source": [
    "$$\n",
    "\\langle \\Phi^J_M|T^{\\lambda}_{\\mu}|\\Phi^{J'}_{M'}\\rangle\\equiv\\langle \\lambda \\mu J'M'|JM\\rangle\\langle \\Phi^J||T^{\\lambda}||\\Phi^{J'}\\rangle.\n",
    "$$"
   ]
  },
  {
   "cell_type": "markdown",
   "metadata": {},
   "source": [
    "The double bars indicate that this expectation value is independent of the projection $M$.\n",
    "We can manipulate the Clebsch-Gordan coefficients using the relations"
   ]
  },
  {
   "cell_type": "markdown",
   "metadata": {},
   "source": [
    "$$\n",
    "\\langle \\lambda \\mu J'M'|JM\\rangle= (-1)^{\\lambda+J'-J}\\langle J'M'\\lambda \\mu |JM\\rangle\n",
    "$$"
   ]
  },
  {
   "cell_type": "markdown",
   "metadata": {},
   "source": [
    "and"
   ]
  },
  {
   "cell_type": "markdown",
   "metadata": {},
   "source": [
    "$$\n",
    "\\langle J'M'\\lambda \\mu |JM\\rangle =(-1)^{J'-M'}\\frac{\\sqrt{2J+1}}{\\sqrt{2\\lambda+1}}\\langle J'M'J-M |\\lambda-\\mu\\rangle,\n",
    "$$"
   ]
  },
  {
   "cell_type": "markdown",
   "metadata": {},
   "source": [
    "together with the so-called $3j$ symbols.\n",
    "It is then normal to encounter the Wigner-Eckart theorem in the form"
   ]
  },
  {
   "cell_type": "markdown",
   "metadata": {},
   "source": [
    "$$\n",
    "\\langle \\Phi^J_M|T^{\\lambda}_{\\mu}|\\Phi^{J'}_{M'}\\rangle\\equiv(-1)^{J-M}\\left(\\begin{array}{ccc}  J & \\lambda & J' \\\\ -M & \\mu & M'\\end{array}\\right)\\langle \\Phi^J||T^{\\lambda}||\\Phi^{J'}\\rangle,\n",
    "$$"
   ]
  },
  {
   "cell_type": "markdown",
   "metadata": {},
   "source": [
    "with the condition $\\mu+M'-M=0$.\n",
    "\n",
    "\n",
    "\n",
    "## Angular momentum algebra, Wigner-Eckart theorem\n",
    "The $3j$ symbols obey the symmetry relation"
   ]
  },
  {
   "cell_type": "markdown",
   "metadata": {},
   "source": [
    "$$\n",
    "\\left(\\begin{array}{ccc}  j_1 & j_2 & j_3 \\\\ m_1 & m_2 & m_3\\end{array}\\right)=(-1)^{p}\\left(\\begin{array}{ccc}  j_a & j_b & j_c \\\\ m_a & m_b & m_c\\end{array}\\right),\n",
    "$$"
   ]
  },
  {
   "cell_type": "markdown",
   "metadata": {},
   "source": [
    "with $(-1)^p=1$ when the columns $a,b, c$ are even permutations of the columns $1,2,3$, $p=j_1+j_2+j_3$ when the columns $a,b,c$ are odd permtations of the\n",
    "columns $1,2,3$ and $p=j_1+j_2+j_3$ when all the magnetic quantum numbers $m_i$ change sign. Their orthogonality is given by"
   ]
  },
  {
   "cell_type": "markdown",
   "metadata": {},
   "source": [
    "$$\n",
    "\\sum_{j_3m_3}(2j_3+1)\\left(\\begin{array}{ccc}  j_1 & j_2 & j_3 \\\\ m_1 & m_2 & m_3\\end{array}\\right)\\left(\\begin{array}{ccc}  j_1 & j_2 & j_3 \\\\ m_{1'} & m_{2'} & m_3\\end{array}\\right)=\\delta_{m_1m_{1'}}\\delta_{m_2m_{2'}},\n",
    "$$"
   ]
  },
  {
   "cell_type": "markdown",
   "metadata": {},
   "source": [
    "and"
   ]
  },
  {
   "cell_type": "markdown",
   "metadata": {},
   "source": [
    "$$\n",
    "\\sum_{m_1m_2}\\left(\\begin{array}{ccc}  j_1 & j_2 & j_3 \\\\ m_1 & m_2 & m_3\\end{array}\\right)\\left(\\begin{array}{ccc}  j_1 & j_2 & j_{3'} \\\\ m_{1} & m_{2} & m_{3'}\\end{array}\\right)=\\frac{1}{(2j_3+1)}\\delta_{j_3j_{3'}}\\delta_{m_3m_{3'}}.\n",
    "$$"
   ]
  },
  {
   "cell_type": "markdown",
   "metadata": {},
   "source": [
    "## Angular momentum algebra, Wigner-Eckart theorem\n",
    "For later use, the following special cases for the Clebsch-Gordan and $3j$ symbols are rather useful\n",
    "\\[\n",
    "\\langle JM J'M' |00\\rangle =\\frac{(-1)^{J-M}}{\\sqrt{2J+1}}\\delta_{JJ'}\\delta_{MM'}.\n",
    "\\] \n",
    "and \n",
    "\\[\n",
    "\\left(\\begin{array}{ccc}  J & 1 & J \\\\ -M & 0 & M'\\end{array}\\right)=(-1)^{J-M}\\frac{M}{\\sqrt{(2J+1)(J+1)}}\\delta_{MM'}.\n",
    "\\]\n",
    "\n",
    "\n",
    "## Angular momentum algebra, Wigner-Eckart theorem\n",
    "Using $3j$ symbols we rewrote the Wigner-Eckart theorem as"
   ]
  },
  {
   "cell_type": "markdown",
   "metadata": {},
   "source": [
    "$$\n",
    "\\langle \\Phi^J_M|T^{\\lambda}_{\\mu}|\\Phi^{J'}_{M'}\\rangle\\equiv(-1)^{J-M}\\left(\\begin{array}{ccc}  J & \\lambda & J' \\\\ -M & \\mu & M'\\end{array}\\right)\\langle \\Phi^J||T^{\\lambda}||\\Phi^{J'}\\rangle.\n",
    "$$"
   ]
  },
  {
   "cell_type": "markdown",
   "metadata": {},
   "source": [
    "Multiplying from the left with the same $3j$ symbol and summing over $M,\\mu,M'$ we obtain the equivalent relation"
   ]
  },
  {
   "cell_type": "markdown",
   "metadata": {},
   "source": [
    "$$\n",
    "\\langle \\Phi^J||T^{\\lambda}||\\Phi^{J'}\\rangle\\equiv\\sum_{M,\\mu,M'}(-1)^{J-M}\\left(\\begin{array}{ccc}  J & \\lambda & J' \\\\ -M & \\mu & M'\\end{array}\\right)\\langle \\Phi^J_M|T^{\\lambda}_{\\mu}|\\Phi^{J'}_{M'}\\rangle,\n",
    "$$"
   ]
  },
  {
   "cell_type": "markdown",
   "metadata": {},
   "source": [
    "where we used the orthogonality properties of the $3j$ symbols from the previous page.\n",
    "\n",
    "\n",
    "## Angular momentum algebra, Wigner-Eckart theorem\n",
    "This relation can in turn be used to compute the expectation value of some simple reduced matrix elements like"
   ]
  },
  {
   "cell_type": "markdown",
   "metadata": {},
   "source": [
    "$$\n",
    "\\langle \\Phi^J||{\\bf 1}||\\Phi^{J'}\\rangle=\\sum_{M,M'}(-1)^{J-M}\\left(\\begin{array}{ccc}  J & 0 & J' \\\\ -M & 0 & M'\\end{array}\\right)\\langle \\Phi^J_M|1|\\Phi^{J'}_{M'}\\rangle=\\sqrt{2J+1}\\delta_{JJ'}\\delta_{MM'},\n",
    "$$"
   ]
  },
  {
   "cell_type": "markdown",
   "metadata": {},
   "source": [
    "where we used"
   ]
  },
  {
   "cell_type": "markdown",
   "metadata": {},
   "source": [
    "$$\n",
    "\\langle JM J'M' |00\\rangle =\\frac{(-1)^{J-M}}{\\sqrt{2J+1}}\\delta_{JJ'}\\delta_{MM'}.\n",
    "$$"
   ]
  },
  {
   "cell_type": "markdown",
   "metadata": {},
   "source": [
    "## Angular momentum algebra, Wigner-Eckart theorem\n",
    "Similarly, using"
   ]
  },
  {
   "cell_type": "markdown",
   "metadata": {},
   "source": [
    "$$\n",
    "\\left(\\begin{array}{ccc}  J & 1 & J \\\\ -M & 0 & M'\\end{array}\\right)=(-1)^{J-M}\\frac{M}{\\sqrt{(2J+1)(J+1)}}\\delta_{MM'},\n",
    "$$"
   ]
  },
  {
   "cell_type": "markdown",
   "metadata": {},
   "source": [
    "we have that"
   ]
  },
  {
   "cell_type": "markdown",
   "metadata": {},
   "source": [
    "$$\n",
    "\\langle \\Phi^J||{\\bf J}||\\Phi^{J}\\rangle=\\sum_{M,M'}(-1)^{J-M}\\left(\\begin{array}{ccc}  J & 1 & J' \\\\ -M & 0 & M'\\end{array}\\right)\\langle \\Phi^J_M|j_Z|\\Phi^{J'}_{M'}\\rangle=\\sqrt{J(J+1)(2J+1)}\n",
    "$$"
   ]
  },
  {
   "cell_type": "markdown",
   "metadata": {},
   "source": [
    "With the Pauli spin matrices $\\sigma$ and a state with $J=1/2$, the reduced matrix element"
   ]
  },
  {
   "cell_type": "markdown",
   "metadata": {},
   "source": [
    "$$\n",
    "\\langle \\frac{1}{2}||{\\bf \\sigma}||\\frac{1}{2}\\rangle=\\sqrt{6}.\n",
    "$$"
   ]
  },
  {
   "cell_type": "markdown",
   "metadata": {},
   "source": [
    "Before we proceed with further examples, we need some other properties of the Wigner-Eckart theorem plus some additional angular momenta relations.\n",
    "\n",
    "\n",
    "## Angular momentum algebra, Wigner-Eckart theorem\n",
    "The Wigner-Eckart theorem states that the  expectation value for an irreducible spherical tensor can be written as"
   ]
  },
  {
   "cell_type": "markdown",
   "metadata": {},
   "source": [
    "$$\n",
    "\\langle \\Phi^J_M|T^{\\lambda}_{\\mu}|\\Phi^{J'}_{M'}\\rangle\\equiv\\langle \\lambda \\mu J'M'|JM\\rangle\\langle \\Phi^J||T^{\\lambda}||\\Phi^{J'}\\rangle.\n",
    "$$"
   ]
  },
  {
   "cell_type": "markdown",
   "metadata": {},
   "source": [
    "Since the Clebsch-Gordan coefficients themselves are easy to evaluate, the interesting quantity is the reduced matrix element. Note also that \n",
    "the Clebsch-Gordan coefficients limit via the triangular relation among $\\lambda$, $J$ and $J'$ the possible non-zero values.\n",
    "\n",
    "From the theorem we see also that"
   ]
  },
  {
   "cell_type": "markdown",
   "metadata": {},
   "source": [
    "$$\n",
    "\\langle \\Phi^J_M|T^{\\lambda}_{\\mu}|\\Phi^{J'}_{M'}\\rangle=\\frac{\\langle \\lambda \\mu J'M'|JM\\rangle\\langle }{\\langle \\lambda \\mu_0 J'M'_0|JM_0\\rangle\\langle }\\langle \\Phi^J_{M_0}|T^{\\lambda}_{\\mu_0}|\\Phi^{J'}_{M'_0}\\rangle,\n",
    "$$"
   ]
  },
  {
   "cell_type": "markdown",
   "metadata": {},
   "source": [
    "meaning that if we know the matrix elements for say some $\\mu=\\mu_0$, $M'=M'_0$ and $M=M_0$ we can calculate all other.\n",
    "\n",
    "\n",
    "\n",
    "## Angular momentum algebra, Wigner-Eckart theorem\n",
    "If we look at the hermitian adjoint of the operator $T^{\\lambda}_{\\mu}$, \n",
    "we see via the commutation relations that $(T^{\\lambda}_{\\mu})^{\\dagger}$ is not an irreducible tensor, that is"
   ]
  },
  {
   "cell_type": "markdown",
   "metadata": {},
   "source": [
    "$$\n",
    "[J_{\\pm}, (T^{\\lambda}_{\\mu})^{\\dagger}]= -\\sqrt{(\\lambda\\pm \\mu)(\\lambda\\mp \\mu+1)}(T^{\\lambda}_{\\mu\\mp 1})^{\\dagger},\n",
    "$$"
   ]
  },
  {
   "cell_type": "markdown",
   "metadata": {},
   "source": [
    "and"
   ]
  },
  {
   "cell_type": "markdown",
   "metadata": {},
   "source": [
    "$$\n",
    "[J_{z}, (T^{\\lambda}_{\\mu})^{\\dagger}]=-\\mu (T^{\\lambda}_{\\mu})^{\\dagger}.\n",
    "$$"
   ]
  },
  {
   "cell_type": "markdown",
   "metadata": {},
   "source": [
    "The hermitian adjoint $(T^{\\lambda}_{\\mu})^{\\dagger}$ is not an irreducible tensor. As an example, consider the spherical harmonics for \n",
    "$l=1$ and $m_l=\\pm 1$. These functions are"
   ]
  },
  {
   "cell_type": "markdown",
   "metadata": {},
   "source": [
    "$$\n",
    "Y^{l=1}_{m_l=1}(\\theta,\\phi)=-\\sqrt{\\frac{3}{8\\pi}}\\sin{(\\theta)}\\exp{\\imath\\phi},\n",
    "$$"
   ]
  },
  {
   "cell_type": "markdown",
   "metadata": {},
   "source": [
    "and"
   ]
  },
  {
   "cell_type": "markdown",
   "metadata": {},
   "source": [
    "$$\n",
    "Y^{l=1}_{m_l=-1}(\\theta,\\phi)=\\sqrt{\\frac{3}{8\\pi}}\\sin{(\\theta)}\\exp{-\\imath\\phi},\n",
    "$$"
   ]
  },
  {
   "cell_type": "markdown",
   "metadata": {},
   "source": [
    "## Angular momentum algebra, Wigner-Eckart theorem\n",
    "It is easy to see that the Hermitian adjoint of these two functions"
   ]
  },
  {
   "cell_type": "markdown",
   "metadata": {},
   "source": [
    "$$\n",
    "\\left[Y^{l=1}_{m_l=1}(\\theta,\\phi)\\right]^{\\dagger}=-\\sqrt{\\frac{3}{8\\pi}}\\sin{(\\theta)}\\exp{-\\imath\\phi},\n",
    "$$"
   ]
  },
  {
   "cell_type": "markdown",
   "metadata": {},
   "source": [
    "and"
   ]
  },
  {
   "cell_type": "markdown",
   "metadata": {},
   "source": [
    "$$\n",
    "\\left[Y^{l=1}_{m_l=-1}(\\theta,\\phi)\\right]^{\\dagger}=\\sqrt{\\frac{3}{8\\pi}}\\sin{(\\theta)}\\exp{\\imath\\phi},\n",
    "$$"
   ]
  },
  {
   "cell_type": "markdown",
   "metadata": {},
   "source": [
    "do not behave as a spherical tensor. However, the modified quantity"
   ]
  },
  {
   "cell_type": "markdown",
   "metadata": {},
   "source": [
    "$$\n",
    "\\tilde{T}^{\\lambda}_{\\mu}=(-1)^{\\lambda+\\mu}(T^{\\lambda}_{-\\mu})^{\\dagger},\n",
    "$$"
   ]
  },
  {
   "cell_type": "markdown",
   "metadata": {},
   "source": [
    "does satisfy the above commutation relations.\n",
    "\n",
    "\n",
    "## Angular momentum algebra, Wigner-Eckart theorem\n",
    "With the modified quantity"
   ]
  },
  {
   "cell_type": "markdown",
   "metadata": {},
   "source": [
    "$$\n",
    "\\tilde{T}^{\\lambda}_{\\mu}=(-1)^{\\lambda+\\mu}(T^{\\lambda}_{-\\mu})^{\\dagger},\n",
    "$$"
   ]
  },
  {
   "cell_type": "markdown",
   "metadata": {},
   "source": [
    "we can then define the expectation value"
   ]
  },
  {
   "cell_type": "markdown",
   "metadata": {},
   "source": [
    "$$\n",
    "\\langle \\Phi^J_M|T^{\\lambda}_{\\mu}|\\Phi^{J'}_{M'}\\rangle^{\\dagger} = \\langle \\lambda \\mu J'M'|JM\\rangle\\langle \\Phi^J||T^{\\lambda}||\\Phi^{J'}\\rangle^*,\n",
    "$$"
   ]
  },
  {
   "cell_type": "markdown",
   "metadata": {},
   "source": [
    "since the Clebsch-Gordan coefficients are real. The rhs is equivalent with"
   ]
  },
  {
   "cell_type": "markdown",
   "metadata": {},
   "source": [
    "$$\n",
    "\\langle \\lambda \\mu J'M'|JM\\rangle\\langle \\Phi^J||T^{\\lambda}||\\Phi^{J'}\\rangle^*=\\langle \\Phi^{J'}_{M'}|(T^{\\lambda}_{\\mu})^{\\dagger}|\\Phi^{J}_{M}\\rangle,\n",
    "$$"
   ]
  },
  {
   "cell_type": "markdown",
   "metadata": {},
   "source": [
    "which is equal to"
   ]
  },
  {
   "cell_type": "markdown",
   "metadata": {},
   "source": [
    "$$\n",
    "\\langle \\Phi^{J'}_{M'}|(T^{\\lambda}_{\\mu})^{\\dagger}|\\Phi^{J}_{M}\\rangle=(-1)^{-\\lambda+\\mu}\\langle \\lambda -\\mu JM|J'M'\\rangle\\langle \\Phi^{J'}||\\tilde{T}^{\\lambda}||\\Phi^{J}\\rangle.\n",
    "$$"
   ]
  },
  {
   "cell_type": "markdown",
   "metadata": {},
   "source": [
    "## Angular momentum algebra, Wigner-Eckart theorem\n",
    "Let us now apply the theorem to some selected expectation values.\n",
    "In several of the expectation values we will meet when evaluating explicit matrix elements, we will have to deal with expectation values involving spherical harmonics. A general central interaction can be expanded in a complete set of functions like the Legendre polynomials, that is, we have an interaction, with $r_{ij}=|{\\bf r}_i-{\\bf r}_j|$,"
   ]
  },
  {
   "cell_type": "markdown",
   "metadata": {},
   "source": [
    "$$\n",
    "v(r_{ij})=\\sum_{\\nu=0}^{\\infty}v_{\\nu}(r_{ij})P_{\\nu}(\\cos{(\\theta_{ij})},\n",
    "$$"
   ]
  },
  {
   "cell_type": "markdown",
   "metadata": {},
   "source": [
    "with $P_{\\nu}$ being a Legendre polynomials"
   ]
  },
  {
   "cell_type": "markdown",
   "metadata": {},
   "source": [
    "$$\n",
    "P_{\\nu}(\\cos{(\\theta_{ij})}=\\sum_{\\mu}\\frac{4\\pi}{2\\mu+1}Y_{\\mu}^{\\nu *}(\\Omega_{i})Y_{\\mu}^{\\nu}(\\Omega_{j}).\n",
    "$$"
   ]
  },
  {
   "cell_type": "markdown",
   "metadata": {},
   "source": [
    "We will come back later to how we split the above into a contribution that involves only one of the coordinates.\n",
    "\n",
    "\n",
    "## Angular momentum algebra, Wigner-Eckart theorem\n",
    "This means that we will need matrix elements of the type"
   ]
  },
  {
   "cell_type": "markdown",
   "metadata": {},
   "source": [
    "$$\n",
    "\\langle Y^{l'}||Y^{\\lambda}|| Y^{l}\\rangle.\n",
    "$$"
   ]
  },
  {
   "cell_type": "markdown",
   "metadata": {},
   "source": [
    "We can rewrite the Wigner-Eckart theorem as"
   ]
  },
  {
   "cell_type": "markdown",
   "metadata": {},
   "source": [
    "$$\n",
    "\\langle Y^{l'}||Y^{\\lambda}|| Y^{l}\\rangle=\\sum_{m\\mu}\\langle \\lambda\\mu lm|l'm'\\rangle Y^{\\lambda}_{\\mu}Y^l_m,\n",
    "$$"
   ]
  },
  {
   "cell_type": "markdown",
   "metadata": {},
   "source": [
    "This equation is true for all values of $\\theta$ and $\\phi$. It must also hold for $\\theta=0$.\n",
    "\n",
    "\n",
    "## Angular momentum algebra, Wigner-Eckart theorem\n",
    "We have"
   ]
  },
  {
   "cell_type": "markdown",
   "metadata": {},
   "source": [
    "$$\n",
    "\\langle Y^{l'}||Y^{\\lambda}|| Y^{l}\\rangle=\\sum_{m\\mu}\\langle \\lambda\\mu lm|l'm'\\rangle Y^{\\lambda}_{\\mu}Y^l_m,\n",
    "$$"
   ]
  },
  {
   "cell_type": "markdown",
   "metadata": {},
   "source": [
    "and for $\\theta=0$, the spherical harmonic"
   ]
  },
  {
   "cell_type": "markdown",
   "metadata": {},
   "source": [
    "$$\n",
    "Y_m^l(\\theta=0,\\phi)=\\sqrt{\\frac{2l+1}{4\\pi}}\\delta_{m0},\n",
    "$$"
   ]
  },
  {
   "cell_type": "markdown",
   "metadata": {},
   "source": [
    "which results in"
   ]
  },
  {
   "cell_type": "markdown",
   "metadata": {},
   "source": [
    "$$\n",
    "\\langle Y^{l'}||Y^{\\lambda}|| Y^{l}\\rangle=\\left\\{\\frac{(2l+1)(2\\lambda+1)}{4\\pi(2l'+1)}\\right\\}^{1/2}\\langle \\lambda0 l0|l'0\\rangle.\n",
    "$$"
   ]
  },
  {
   "cell_type": "markdown",
   "metadata": {},
   "source": [
    "## Angular momentum algebra, Wigner-Eckart theorem\n",
    "Till now we have mainly been concerned with the coupling of two angular momenta $j_{a}$ and $j_{b}$ to a final angular momentum $J$.\n",
    "If we wish to describe a three-body state with a final angular momentum $J$, we need to couple three angular momenta, say \n",
    "the two momenta $j_a,j_b$ to a third one $j_c$. The coupling order is important and leads to a less trivial implementation of the \n",
    "Pauli principle. With three angular momenta there are obviously $3!$ ways by which we can combine the angular momenta. \n",
    "In $m$-scheme a three-body Slater determinant is represented as (say for the case of ${}^{19}\\mbox{O}$, three neutrons outside the core of ${}^{16}\\mbox{O}$),"
   ]
  },
  {
   "cell_type": "markdown",
   "metadata": {},
   "source": [
    "$$\n",
    "|^{19}\\mathrm{O}\\rangle =|(abc)M\\rangle  = a^{\\dagger}_aa^{\\dagger}_ba^{\\dagger}_c|^{16}\\mathrm{O}\\rangle=|\\Phi^{abc}\\rangle.\n",
    "$$"
   ]
  },
  {
   "cell_type": "markdown",
   "metadata": {},
   "source": [
    "The Pauli principle is automagically implemented via the anti-commutation relations.\n",
    "\n",
    "\n",
    "## Angular momentum algebra, Wigner-Eckart theorem\n",
    "However, when we deal the same state in an angular momentum coupled basis, we need to be a little bit more careful. We can namely couple the states\n",
    "as follows"
   ]
  },
  {
   "cell_type": "markdown",
   "metadata": {},
   "source": [
    "<!-- Equation labels as ordinary links -->\n",
    "<div id=\"eq:fabc\"></div>\n",
    "\n",
    "$$\n",
    "\\vert([j_a\\rightarrow j_b]J_{ab}\\rightarrow j_c) J\\rangle= \\sum_{m_am_bm_c}\\langle j_am_aj_bm_b|J_{ab}M_{ab}\\rangle \\langle J_{ab}M_{ab}j_cm_c|JM\\rangle|j_am_a\\rangle\\otimes |j_bm_b\\rangle \\otimes |j_cm_c\\rangle \\ , \n",
    "\\label{eq:fabc} \\tag{1}\n",
    "$$"
   ]
  },
  {
   "cell_type": "markdown",
   "metadata": {},
   "source": [
    "that is, we couple first $j_a$ to $j_b$ to yield an intermediate angular momentum $J_{ab}$, then to $j_c$ yielding the final angular momentum $J$.\n",
    "\n",
    "\n",
    "## Angular momentum algebra, Wigner-Eckart theorem\n",
    "Now, nothing hinders us from recoupling this state by coupling $j_b$ to $j_c$, yielding an intermediate angular momentum $J_{bc}$ and then couple this angular momentum to $j_a$, resulting in the final angular momentum $J'$. \n",
    "\n",
    "That is, we can have"
   ]
  },
  {
   "cell_type": "markdown",
   "metadata": {},
   "source": [
    "$$\n",
    "\\vert(j_a\\rightarrow [j_b\\rightarrow j_c]J_{bc}) J\\rangle = \\sum_{m_a'm_b'm_c'}\\langle j_bm_b'j_cm_c'|J_{bc}M_{bc}\\rangle \\langle j_am_a'J_{bc}M_{bc}|J'M'\\rangle|\\Phi^{abc}\\rangle .\n",
    "$$"
   ]
  },
  {
   "cell_type": "markdown",
   "metadata": {},
   "source": [
    "We will always assume that we work with orthornormal states, this means that when we compute the overlap betweem these two possible ways of coupling angular momenta, we get"
   ]
  },
  {
   "cell_type": "markdown",
   "metadata": {},
   "source": [
    "<!-- Equation labels as ordinary links -->\n",
    "<div id=\"_auto1\"></div>\n",
    "\n",
    "$$\n",
    "\\begin{equation}\n",
    "\\langle (j_a\\rightarrow [j_b\\rightarrow j_c]J_{bc}) J'M'| ([j_a\\rightarrow j_b]J_{ab}\\rightarrow j_c) JM\\rangle = \n",
    "\\delta_{JJ'}\\delta_{MM'}\\sum_{m_am_bm_c}\\langle j_am_aj_bm_b|J_{ab}M_{ab}\\rangle \\langle J_{ab}M_{ab}j_cm_c|JM\\rangle \n",
    "\\label{_auto1} \\tag{2}\n",
    "\\end{equation}\n",
    "$$"
   ]
  },
  {
   "cell_type": "markdown",
   "metadata": {},
   "source": [
    "<!-- Equation labels as ordinary links -->\n",
    "<div id=\"_auto2\"></div>\n",
    "\n",
    "$$\n",
    "\\begin{equation} \n",
    " \\times \\langle j_bm_bj_cm_c|J_{bc}M_{bc}\\rangle \\langle j_am_aJ_{bc}M_{bc}|JM\\rangle . \n",
    "\\label{_auto2} \\tag{3}\n",
    "\\end{equation}\n",
    "$$"
   ]
  },
  {
   "cell_type": "markdown",
   "metadata": {},
   "source": [
    "## Angular momentum algebra, Wigner-Eckart theorem\n",
    "We use then the latter equation to define the so-called $6j$-symbols"
   ]
  },
  {
   "cell_type": "markdown",
   "metadata": {},
   "source": [
    "$$\n",
    "\\begin{eqnarray}\n",
    "\\langle (j_a\\rightarrow [j_b\\rightarrow j_c]J_{bc}) J'M'| ([j_a\\rightarrow j_b]J_{ab}\\rightarrow j_c) JM\\rangle & = & \\delta_{JJ'}\\delta_{MM'}\\sum_{m_am_bm_c}\\langle j_am_aj_bm_b|J_{ab}M_{ab}\\rangle \\langle J_{ab}M_{ab}j_cm_c|JM\\rangle \\\\ \\nonumber\n",
    "& & \\times \\langle j_bm_bj_cm_c|J_{bc}M_{bc}\\rangle \\langle j_am_aJ_{bc}M_{bc}|JM\\rangle  \\\\ \\nonumber\n",
    "& =&(-1)^{j_a+j_b+j_c+J}\\sqrt{(2J_{ab}+1)(2J_{bc}+1)}\\left\\{\\begin{array}{ccc} j_a & j_b& J_{ab} \\\\ j_c & J & J_{bc} \\end{array}\\right\\} , \n",
    "\\end{eqnarray}\n",
    "$$"
   ]
  },
  {
   "cell_type": "markdown",
   "metadata": {},
   "source": [
    "where the symbol in curly brackets is the $6j$ symbol. \n",
    "A specific coupling order has to be respected in the symbol, that is, the so-called triangular relations between three angular momenta needs to be respected, that is"
   ]
  },
  {
   "cell_type": "markdown",
   "metadata": {},
   "source": [
    "$$\n",
    "\\left\\{\\begin{array}{ccc} x & x& x \\\\  &  &  \\end{array}\\right\\}\\hspace{0.1cm}\\left\\{\\begin{array}{ccc}  & & x \\\\  x& x &  \\end{array}\\right\\}\\hspace{0.1cm}\\left\\{\\begin{array}{ccc}  & x&  \\\\ x &  &x  \\end{array}\\right\\}\\hspace{0.1cm}\\left\\{\\begin{array}{ccc} x & &  \\\\  & x &x  \\end{array}\\right\\}\\hspace{0.1cm}\n",
    "$$"
   ]
  },
  {
   "cell_type": "markdown",
   "metadata": {},
   "source": [
    "## Angular momentum algebra, Wigner-Eckart theorem\n",
    "The $6j$ symbol is invariant under the permutation of any two columns"
   ]
  },
  {
   "cell_type": "markdown",
   "metadata": {},
   "source": [
    "$$\n",
    "\\begin{Bmatrix} j_1 & j_2 & j_3\\\\ j_4 & j_5 & j_6 \\end{Bmatrix} = \\begin{Bmatrix} j_2 & j_1 & j_3\\\\ j_5 & j_4 & j_6 \\end{Bmatrix} = \\begin{Bmatrix} j_1 & j_3 & j_2\\\\ j_4 & j_6 & j_5 \\end{Bmatrix} = \\begin{Bmatrix} j_3 & j_2 & j_1\\\\ j_6 & j_5 & j_4 \\end{Bmatrix}.\n",
    "$$"
   ]
  },
  {
   "cell_type": "markdown",
   "metadata": {},
   "source": [
    "The $6j$ symbol is also invariant if upper and lower arguments are interchanged in any two columns"
   ]
  },
  {
   "cell_type": "markdown",
   "metadata": {},
   "source": [
    "$$\n",
    "\\begin{Bmatrix} j_1 & j_2 & j_3\\\\ j_4 & j_5 & j_6 \\end{Bmatrix} = \\begin{Bmatrix} j_4 & j_5 & j_3\\\\ j_1 & j_2 & j_6 \\end{Bmatrix} = \\begin{Bmatrix} j_1 & j_5 & j_6\\\\ j_4 & j_2 & j_3 \\end{Bmatrix} = \\begin{Bmatrix} j_4 & j_2 & j_6\\\\ j_1 & j_5 & j_3 \\end{Bmatrix}.\n",
    "$$"
   ]
  },
  {
   "cell_type": "markdown",
   "metadata": {},
   "source": [
    "## Testing properties of $6j$ symbols\n",
    "The above properties of $6j$ symbols can again be tested using the symbolic python package **wigner**. \n",
    "Let us test the invariance"
   ]
  },
  {
   "cell_type": "markdown",
   "metadata": {},
   "source": [
    "$$\n",
    "\\begin{Bmatrix} j_1 & j_2 & j_3\\\\ j_4 & j_5 & j_6 \\end{Bmatrix} = \\begin{Bmatrix} j_2 & j_1 & j_3\\\\ j_5 & j_4 & j_6 \\end{Bmatrix}.\n",
    "$$"
   ]
  },
  {
   "cell_type": "markdown",
   "metadata": {},
   "source": [
    "The following program tests this relation for the case of $j_1=3/2$, $j_2=3/2$, $j_3=3$, $j_4=1/2$, $j_5=1/2$, $j_6=1$"
   ]
  },
  {
   "cell_type": "code",
   "execution_count": 2,
   "metadata": {
    "collapsed": false
   },
   "outputs": [],
   "source": [
    "from sympy import S\n",
    "from sympy.physics.wigner import wigner_6j\n",
    "# Twice the values of all js\n",
    "j1 = 3\n",
    "j2 = 5\n",
    "j3 = 2\n",
    "j4 = 3\n",
    "j5 = 5\n",
    "j6 = 1\n",
    "\"\"\" The triangular relation has to be fulfilled \"\"\"\n",
    "print wigner_6j(S(j1)/2, S(j2)/2, j3, S(j4)/2, S(j5)/2, j6)\n",
    "\"\"\" Swapping columns 1 <==> 2 \"\"\"\n",
    "print wigner_6j(S(j2)/2, S(j1)/2, j3, S(j5)/2, S(j4)/2, j6)"
   ]
  },
  {
   "cell_type": "markdown",
   "metadata": {},
   "source": [
    "## Angular momentum algebra, Wigner-Eckart theorem\n",
    "The $6j$ symbols satisfy this orthogonality relation"
   ]
  },
  {
   "cell_type": "markdown",
   "metadata": {},
   "source": [
    "$$\n",
    "\\sum_{j_3} (2j_3+1) \\begin{Bmatrix} j_1 & j_2 & j_3\\\\ j_4 & j_5 & j_6 \\end{Bmatrix} \\begin{Bmatrix} j_1 & j_2 & j_3\\\\ j_4 & j_5 & j_6' \\end{Bmatrix} = \\frac{\\delta_{j_6^{}j_6'}}{2j_6+1} \\{j_1,j_5,j_6\\} \\{j_4,j_2,j_6\\}.\n",
    "$$"
   ]
  },
  {
   "cell_type": "markdown",
   "metadata": {},
   "source": [
    "The symbol $\\{j_1j_2j_3\\}$ (called the triangular delta) is equal to one if the triad $(j_1j_2j_3)$ satisfies the triangular conditions and zero otherwise.\n",
    "A useful value is given when say one of the angular momenta are zero, say $J_{bc}=0$, then we have"
   ]
  },
  {
   "cell_type": "markdown",
   "metadata": {},
   "source": [
    "$$\n",
    "\\left\\{\\begin{array}{ccc} j_a & j_b& J_{ab} \\\\ j_c & J & 0 \\end{array}\\right\\}=\\frac{(-1)^{j_a+j_b+J_{ab}}\\delta_{Jj_a}\\delta_{j_cj_b} }{\\sqrt{(2j_{a}+1)(2j_{b}+1)}}\n",
    "$$"
   ]
  },
  {
   "cell_type": "markdown",
   "metadata": {},
   "source": [
    "## Angular momentum algebra, Wigner-Eckart theorem\n",
    "With the $6j$ symbol defined, we can go back and and rewrite the overlap between the two ways of recoupling angular momenta in terms of the $6j$ symbol.\n",
    "That is, we can have"
   ]
  },
  {
   "cell_type": "markdown",
   "metadata": {},
   "source": [
    "$$\n",
    "\\vert (j_a\\rightarrow [j_b\\rightarrow j_c]J_{bc}) JM\\rangle =\\sum_{J_{ab}}(-1)^{j_a+j_b+j_c+J}\\sqrt{(2J_{ab}+1)(2J_{bc}+1)}\\left\\{\\begin{array}{ccc} j_a & j_b& J_{ab} \\\\ j_c & J & J_{bc} \\end{array}\\right\\}| ([j_a\\rightarrow j_b]J_{ab}\\rightarrow j_c) JM\\rangle.\n",
    "$$"
   ]
  },
  {
   "cell_type": "markdown",
   "metadata": {},
   "source": [
    "Can you find the inverse relation?  \n",
    "These relations can in turn be used to write out the fully anti-symmetrized three-body wave function in a $J$-scheme coupled basis. \n",
    "If you opt then for a specific coupling order, say $| ([j_a\\rightarrow j_b]J_{ab}\\rightarrow j_c) JM\\rangle$, you need to express this representation in terms of the other coupling possibilities. \n",
    "\n",
    "## Angular momentum algebra, Wigner-Eckart theorem\n",
    "Note that the two-body intermediate state is assumed to be antisymmetric but\n",
    "not normalized, that is, the state which involves the quantum numbers \n",
    "$j_a$ and $j_b$. Assume that the intermediate \n",
    "two-body state is antisymmetric. With this coupling order, we can \n",
    "rewrite ( in a schematic way) the general three-particle Slater determinant as"
   ]
  },
  {
   "cell_type": "markdown",
   "metadata": {},
   "source": [
    "$$\n",
    "\\Phi(a,b,c) = {\\cal A} | ([j_a\\rightarrow j_b]J_{ab}\\rightarrow j_c) J\\rangle,\n",
    "$$"
   ]
  },
  {
   "cell_type": "markdown",
   "metadata": {},
   "source": [
    "with an implicit sum over $J_{ab}$.  The antisymmetrization operator ${\\cal A}$ is used here to indicate that we need to antisymmetrize the state. **Challenge**: Use the definition of the $6j$ symbol and find an explicit \n",
    "expression for the above three-body state using the coupling order $| ([j_a\\rightarrow j_b]J_{ab}\\rightarrow j_c) J\\rangle$.\n",
    "\n",
    "\n",
    "\n",
    "## Angular momentum algebra, Wigner-Eckart theorem\n",
    "We can also coupled together four angular momenta. Consider two four-body states, with single-particle angular momenta $j_a$, $j_b$, $j_c$ and $j_d$ we can have a state with final $J$"
   ]
  },
  {
   "cell_type": "markdown",
   "metadata": {},
   "source": [
    "$$\n",
    "|\\Phi(a,b,c,d)\\rangle_1 = | ([j_a\\rightarrow j_b]J_{ab}\\times [j_c\\rightarrow j_d]J_{cd}) JM\\rangle,\n",
    "$$"
   ]
  },
  {
   "cell_type": "markdown",
   "metadata": {},
   "source": [
    "where we read the coupling order as $j_a$ couples with $j_b$ to given and intermediate angular momentum $J_{ab}$. \n",
    "Moreover, $j_c$ couples with $j_d$ to given and intermediate angular momentum $J_{cd}$.  The two intermediate angular momenta $J_{ab}$ and $J_{cd}$\n",
    "are in turn coupled to a final $J$.  These operations involved three Clebsch-Gordan coefficients. \n",
    "\n",
    "Alternatively, we could couple in the following order"
   ]
  },
  {
   "cell_type": "markdown",
   "metadata": {},
   "source": [
    "$$\n",
    "|\\Phi(a,b,c,d)\\rangle_2 = | ([j_a\\rightarrow j_c]J_{ac}\\times [j_b\\rightarrow j_d]J_{bd}) JM\\rangle,\n",
    "$$"
   ]
  },
  {
   "cell_type": "markdown",
   "metadata": {},
   "source": [
    "## Angular momentum algebra, Wigner-Eckart theorem\n",
    "The overlap between these two states"
   ]
  },
  {
   "cell_type": "markdown",
   "metadata": {},
   "source": [
    "$$\n",
    "\\langle([j_a\\rightarrow j_c]J_{ac}\\times [j_b\\rightarrow j_d]J_{bd}) JM| ([j_a\\rightarrow j_b]J_{ab}\\times [j_c\\rightarrow j_d]J_{cd}) JM\\rangle,\n",
    "$$"
   ]
  },
  {
   "cell_type": "markdown",
   "metadata": {},
   "source": [
    "is equal to"
   ]
  },
  {
   "cell_type": "markdown",
   "metadata": {},
   "source": [
    "$$\n",
    "\\begin{eqnarray}\n",
    "\\nonumber\n",
    "& & \\sum_{m_iM_{ij}}\\langle j_am_aj_bm_b|J_{ab}M_{ab}\\rangle \\langle j_cm_cj_dm_d|J_{cd}M_{cd}\\rangle \\langle J_{ab}M_{ab}J_{cd}M_{cd}|JM\\rangle \\\\\n",
    "& & \\times\\langle j_am_aj_cm_c|J_{ac}M_{ac}\\rangle \\langle j_bm_bj_dm_d|J_{cd}M_{bd}\\rangle \\langle J_{ac}M_{ac}J_{bd}M_{bd}|JM\\rangle \\\\  \\nonumber\n",
    "&= & \\sqrt{(2J_{ab}+1)(2J_{cd}+1)(2J_{ac}+1)(2J_{bd}+1)}\\left\\{\\begin{array}{ccc} j_a & j_b& J_{ab} \\\\ j_c & j_d& J_{cd} \\\\J_{ac} & J_{bd}& J\\end{array}\\right\\}\n",
    ", \\nonumber\n",
    "\\end{eqnarray}\n",
    "$$"
   ]
  },
  {
   "cell_type": "markdown",
   "metadata": {},
   "source": [
    "with the symbol in curly brackets $\\{\\}$ being the $9j$-symbol. We see  that a $6j$ symbol  involves four Clebsch-Gordan coefficients, while the $9j$ symbol\n",
    "involves six.\n",
    "\n",
    "\n",
    "\n",
    "## Angular momentum algebra, Wigner-Eckart theorem\n",
    "A $9j$ symbol is invariant under reflection in either diagonal"
   ]
  },
  {
   "cell_type": "markdown",
   "metadata": {},
   "source": [
    "$$\n",
    "\\begin{Bmatrix} j_1 & j_2 & j_3\\\\ j_4 & j_5 & j_6\\\\ j_7 & j_8 & j_9 \\end{Bmatrix} = \\begin{Bmatrix} j_1 & j_4 & j_7\\\\ j_2 & j_5 & j_8\\\\ j_3 & j_6 & j_9 \\end{Bmatrix} = \\begin{Bmatrix} j_9 & j_6 & j_3\\\\ j_8 & j_5 & j_2\\\\ j_7 & j_4 & j_1 \\end{Bmatrix}.\n",
    "$$"
   ]
  },
  {
   "cell_type": "markdown",
   "metadata": {},
   "source": [
    "The permutation of any two rows or any two columns yields a phase factor $(-1)^S$, where"
   ]
  },
  {
   "cell_type": "markdown",
   "metadata": {},
   "source": [
    "$$\n",
    "S=\\sum_{i=1}^9 j_i.\n",
    "$$"
   ]
  },
  {
   "cell_type": "markdown",
   "metadata": {},
   "source": [
    "As an  example we have"
   ]
  },
  {
   "cell_type": "markdown",
   "metadata": {},
   "source": [
    "$$\n",
    "\\begin{Bmatrix} j_1 & j_2 & j_3\\\\ j_4 & j_5 & j_6\\\\ j_7 & j_8 & j_9 \\end{Bmatrix} = (-1)^S \\begin{Bmatrix} j_4 & j_5 & j_6\\\\ j_1 & j_2 & j_3\\\\ j_7 & j_8 & j_9 \\end{Bmatrix} = (-1)^S \\begin{Bmatrix} j_2 & j_1 & j_3\\\\ j_5 & j_4 & j_6\\\\ j_8 & j_7 & j_9 \\end{Bmatrix}.\n",
    "$$"
   ]
  },
  {
   "cell_type": "markdown",
   "metadata": {},
   "source": [
    "## Angular momentum algebra, Wigner-Eckart theorem\n",
    "A useful case is when say $J=0$ in"
   ]
  },
  {
   "cell_type": "markdown",
   "metadata": {},
   "source": [
    "$$\n",
    "\\left\\{\\begin{array}{ccc} j_a & j_b& J_{ab} \\\\ j_c & j_d & J_{cd} \\\\ J_{ac} & J_{bd}& 0\\end{array}\\right\\}=\\frac{\\delta_{J_{ab}J_{cd}} \\delta_{J_{ac}J_{bd}}}{\\sqrt{(2J_{ab}+1)(2J_{ac}+1)}} (-1)^{j_b+J_{ab}+j_c+J_{ac}} \\begin{Bmatrix} j_a & j_b & J_{ab}\\\\ j_d & j_c & J_{ac} \\end{Bmatrix}.\n",
    "$$"
   ]
  },
  {
   "cell_type": "markdown",
   "metadata": {},
   "source": [
    "## Angular momentum algebra, Wigner-Eckart theorem\n",
    "The tensor operator in the nucleon-nucleon potential\n",
    "is given by"
   ]
  },
  {
   "cell_type": "markdown",
   "metadata": {},
   "source": [
    "$$\n",
    "\\begin{array}{ll}\n",
    "&\\\\\n",
    "\\langle lSJ\\vert S_{12}\\vert l'S'J\\rangle =&\n",
    "(-)^{S+J}\\sqrt{30(2l+1)(2l'+1)(2S+1)(2S'+1)}\\\\\n",
    "&\\times\\left\\{\\begin{array}{ccc}J&S'&l'\\\\2&l&S\\end{array}\\right\\}\n",
    "\\left(\\begin{array}{ccc}l'&2&l\\\\0&0&0\\end{array}\\right)\n",
    "\\left\\{\\begin{array}{ccc}s_{1}&s_{2}&S\\\\s_{3}&s_{4}&S'\\\\\n",
    "1&1&2\\end{array}\n",
    "\\right\\}\\\\\n",
    "&\\times\\langle s_{1}\\vert\\vert \\sigma_{1}\\vert\\vert s_{3}\\rangle\n",
    "\\langle s_{2}\\vert\\vert \\sigma_{2}\\vert \\vert s_{4}\\rangle,\n",
    "\\end{array}\n",
    "$$"
   ]
  },
  {
   "cell_type": "markdown",
   "metadata": {},
   "source": [
    "and it is zero for the $^1S_0$ wave. \n",
    "\n",
    "How do we get here?\n",
    "\n",
    "\n",
    "## Angular momentum algebra, Wigner-Eckart theorem\n",
    "To derive the expectation value of the nuclear tensor force, we recall that \n",
    "the product of two irreducible tensor operators is"
   ]
  },
  {
   "cell_type": "markdown",
   "metadata": {},
   "source": [
    "$$\n",
    "W^{r}_{m_r}=\\sum_{m_pm_q}\\langle pm_pqm_q|rm_r\\rangle T^{p}_{m_p}U^{q}_{m_q},\n",
    "$$"
   ]
  },
  {
   "cell_type": "markdown",
   "metadata": {},
   "source": [
    "and using the orthogonality properties of the Clebsch-Gordan coefficients we can rewrite the above as"
   ]
  },
  {
   "cell_type": "markdown",
   "metadata": {},
   "source": [
    "$$\n",
    "T^{p}_{m_p}U^{q}_{m_q}=\\sum_{m_pm_q}\\langle pm_pqm_q|rm_r\\rangle W^{r}_{m_r}.\n",
    "$$"
   ]
  },
  {
   "cell_type": "markdown",
   "metadata": {},
   "source": [
    "Assume now that the operators $T$ and $U$ act on different parts of say a wave function. The operator $T$ could act on the spatial part only while the operator $U$ acts only on the spin part. This means also that these operators commute.\n",
    "The reduced matrix element of this operator is thus, using the Wigner-Eckart theorem,"
   ]
  },
  {
   "cell_type": "markdown",
   "metadata": {},
   "source": [
    "1\n",
    "9\n",
    "0\n",
    " \n",
    "<\n",
    "<\n",
    "<\n",
    "!\n",
    "!\n",
    "M\n",
    "A\n",
    "T\n",
    "H\n",
    "_\n",
    "B\n",
    "L\n",
    "O\n",
    "C\n",
    "K"
   ]
  },
  {
   "cell_type": "markdown",
   "metadata": {},
   "source": [
    "$$\n",
    "\\times\\langle (j_aj_bJM|\\left[ T^{p}_{m_p}U^{q}_{m_q} \\right]^{r}_{m_r}|(j_cj_d)J'M'\\rangle.\n",
    "$$"
   ]
  },
  {
   "cell_type": "markdown",
   "metadata": {},
   "source": [
    "## Angular momentum algebra, Wigner-Eckart theorem\n",
    "Starting with"
   ]
  },
  {
   "cell_type": "markdown",
   "metadata": {},
   "source": [
    "1\n",
    "9\n",
    "2\n",
    " \n",
    "<\n",
    "<\n",
    "<\n",
    "!\n",
    "!\n",
    "M\n",
    "A\n",
    "T\n",
    "H\n",
    "_\n",
    "B\n",
    "L\n",
    "O\n",
    "C\n",
    "K"
   ]
  },
  {
   "cell_type": "markdown",
   "metadata": {},
   "source": [
    "$$\n",
    "\\times\\langle (j_aj_bJM|\\left[ T^{p}_{m_p}U^{q}_{m_q} \\right]^{r}_{m_r}|(j_cj_d)J'M'\\rangle,\n",
    "$$"
   ]
  },
  {
   "cell_type": "markdown",
   "metadata": {},
   "source": [
    "we assume now that $T$ acts only on $j_a$ and $j_c$ and that $U$ acts only on $j_b$ and $j_d$. \n",
    "The matrix element $\\langle (j_aj_bJM|\\left[ T^{p}_{m_p}U^{q}_{m_q} \\right]^{r}_{m_r}|(j_cj_d)J'M'\\rangle$ can be written out,\n",
    "when we insert a complete set of states $|j_im_ij_jm_j\\rangle\\langle j_im_ij_jm_j|$ between $T$ and $U$ as"
   ]
  },
  {
   "cell_type": "markdown",
   "metadata": {},
   "source": [
    "1\n",
    "9\n",
    "4\n",
    " \n",
    "<\n",
    "<\n",
    "<\n",
    "!\n",
    "!\n",
    "M\n",
    "A\n",
    "T\n",
    "H\n",
    "_\n",
    "B\n",
    "L\n",
    "O\n",
    "C\n",
    "K"
   ]
  },
  {
   "cell_type": "markdown",
   "metadata": {},
   "source": [
    "$$\n",
    "\\times \\langle (j_am_aj_bm_b|\\left[ T^{p}_{m_p}\\right]^{r}_{m_r}|(j_cm_cj_bm_b)\\rangle\\langle (j_cm_cj_bm_b|\\left[ U^{q}_{m_q}\\right]^{r}_{m_r}|(j_cm_cj_dm_d)\\rangle.\n",
    "$$"
   ]
  },
  {
   "cell_type": "markdown",
   "metadata": {},
   "source": [
    "The complete set of states that was inserted between $T$ and $U$ reduces to $|j_cm_cj_bm_b\\rangle\\langle j_cm_cj_bm_b|$\n",
    "due to orthogonality of the states.\n",
    "\n",
    "\n",
    "\n",
    "## Angular momentum algebra, Wigner-Eckart theorem\n",
    "Combining the last two equations from the previous slide and \n",
    "and applying the Wigner-Eckart theorem, we arrive at (rearranging phase factors)"
   ]
  },
  {
   "cell_type": "markdown",
   "metadata": {},
   "source": [
    "1\n",
    "9\n",
    "6\n",
    " \n",
    "<\n",
    "<\n",
    "<\n",
    "!\n",
    "!\n",
    "M\n",
    "A\n",
    "T\n",
    "H\n",
    "_\n",
    "B\n",
    "L\n",
    "O\n",
    "C\n",
    "K"
   ]
  },
  {
   "cell_type": "markdown",
   "metadata": {},
   "source": [
    "1\n",
    "9\n",
    "7\n",
    " \n",
    "<\n",
    "<\n",
    "<\n",
    "!\n",
    "!\n",
    "M\n",
    "A\n",
    "T\n",
    "H\n",
    "_\n",
    "B\n",
    "L\n",
    "O\n",
    "C\n",
    "K"
   ]
  },
  {
   "cell_type": "markdown",
   "metadata": {},
   "source": [
    "$$\n",
    "\\times\\left(\\begin{array}{ccc} j_a  &j_c  &p  \\\\ m_a &-m_c &-m_p \\end{array}\\right)\\left(\\begin{array}{ccc} j_b  &j_d  &q  \\\\ m_b &-m_d &-m_q \\end{array}\\right)\\langle j_a||T^p||j_c\\rangle \\times \\langle j_b||U^q||j_d\\rangle\n",
    "$$"
   ]
  },
  {
   "cell_type": "markdown",
   "metadata": {},
   "source": [
    "which can be rewritten in terms of a $9j$ symbol as"
   ]
  },
  {
   "cell_type": "markdown",
   "metadata": {},
   "source": [
    "$$\n",
    "\\langle (j_aj_b)J||W^{r}||(j_cj_d)J'\\rangle=\\sqrt{(2J+1)(2r+1)(2J'+1)}\\langle j_a||T^p||j_c\\rangle  \\langle j_b||U^q||j_d\\rangle\\left\\{\\begin{array}{ccc} j_a & j_b& J \\\\ j_c & j_d & J' \\\\ p & q& r\\end{array}\\right\\}.\n",
    "$$"
   ]
  },
  {
   "cell_type": "markdown",
   "metadata": {},
   "source": [
    "## Angular momentum algebra, Wigner-Eckart theorem\n",
    "From this expression we can in turn compute for example the spin-spin operator of the tensor force.\n",
    "\n",
    "\n",
    "In case $r=0$, that is we two tensor operators coupled to a scalar, we can use (with $p=q$)"
   ]
  },
  {
   "cell_type": "markdown",
   "metadata": {},
   "source": [
    "$$\n",
    "\\left\\{\\begin{array}{ccc} j_a & j_b& J \\\\ j_c & j_d & J' \\\\ p &p & 0\\end{array}\\right\\}=\\frac{\\delta_{JJ'} \\delta_{pq}}{\\sqrt{(2J+1)(2J+1)}} (-1)^{j_b+j_c+2J} \\begin{Bmatrix} j_a & j_b & J\\\\ j_d & j_c & p \\end{Bmatrix},\n",
    "$$"
   ]
  },
  {
   "cell_type": "markdown",
   "metadata": {},
   "source": [
    "and obtain"
   ]
  },
  {
   "cell_type": "markdown",
   "metadata": {},
   "source": [
    "$$\n",
    "\\langle (j_aj_b)J||W^{0}||(j_cj_d)J'\\rangle=(-1)^{j_b+j_c+2J}\\langle j_a||T^p||j_c\\rangle\\langle j_b||U^p||j_d\\rangle \\begin{Bmatrix} j_a & j_b & J\\\\ j_d & j_c & p \\end{Bmatrix}.\n",
    "$$"
   ]
  },
  {
   "cell_type": "markdown",
   "metadata": {},
   "source": [
    "## Angular momentum algebra, Wigner-Eckart theorem\n",
    "Another very useful expression is the case where the operators act in just one space. We state here without \n",
    "showing that the reduced matrix element"
   ]
  },
  {
   "cell_type": "markdown",
   "metadata": {},
   "source": [
    "2\n",
    "0\n",
    "2\n",
    " \n",
    "<\n",
    "<\n",
    "<\n",
    "!\n",
    "!\n",
    "M\n",
    "A\n",
    "T\n",
    "H\n",
    "_\n",
    "B\n",
    "L\n",
    "O\n",
    "C\n",
    "K"
   ]
  },
  {
   "cell_type": "markdown",
   "metadata": {},
   "source": [
    "$$\n",
    "\\times \\langle j_a||T^p||j_c\\rangle \\langle j_c||T^q||j_b\\rangle.\n",
    "$$"
   ]
  },
  {
   "cell_type": "markdown",
   "metadata": {},
   "source": [
    "## Angular momentum algebra, Wigner-Eckart theorem\n",
    "The tensor operator in \n",
    "the nucleon-nucleon potential can be written as"
   ]
  },
  {
   "cell_type": "markdown",
   "metadata": {},
   "source": [
    "$$\n",
    "V=\\frac{3}{r^{2}}\\left[ \\left[ {\\bf \\sigma}_1 \\otimes {\\bf \\sigma}_2\\right]^\n",
    "{(2)} \\otimes\\left[{\\bf r} \\otimes {\\bf r} \\right]^{(2)}\\right]^{(0)}_0\n",
    "$$"
   ]
  },
  {
   "cell_type": "markdown",
   "metadata": {},
   "source": [
    "Since the irreducible tensor  \n",
    "$\\left[{\\bf r} \\otimes {\\bf r} \\right]^{(2)}$\n",
    "operates  only on the angular quantum numbers and\n",
    "$\\left[{\\bf \\sigma}_1 \\otimes {\\bf \\sigma}_2\\right]^{(2)}$ \n",
    "operates  only on \n",
    "the spin states we can write the matrix element"
   ]
  },
  {
   "cell_type": "markdown",
   "metadata": {},
   "source": [
    "$$\n",
    "\\begin{eqnarray*}\n",
    "\\langle lSJ\\vert V\\vert lSJ\\rangle & = &\n",
    "\\langle lSJ \\vert\\left[ \\left[{\\bf \\sigma}_1 \\otimes {\\bf \\sigma}_2\\right]^{(2)} \\otimes\n",
    "\\left[{\\bf r} \\otimes {\\bf r} \\right]^{(2)}\\right]^{(0)}_0\\vert l'S'J\\rangle \\\\\n",
    "&  = &\n",
    "(-1)^{J+l+S}\n",
    "\\left\\{\\begin{array}{ccc} l&S&J \\\\ l'&S'&2\\end{array}\\right\\}\n",
    "\\langle l \\vert\\vert\\left[{\\bf r} \\otimes {\\bf r} \\right]^{(2)} \\vert \\vert l'\\rangle\\\\\n",
    "& &\n",
    "\\times \\langle S\\vert\\vert\\left[{\\bf \\sigma}_1 \\otimes {\\bf \\sigma}_2\\right]^{(2)} \\vert\\vert S'\\rangle\n",
    "\\end{eqnarray*}\n",
    "$$"
   ]
  },
  {
   "cell_type": "markdown",
   "metadata": {},
   "source": [
    "## Angular momentum algebra, Wigner-Eckart theorem\n",
    "We need that\n",
    "the coordinate vector ${\\bf r}$ can be written in terms of spherical \n",
    "components as"
   ]
  },
  {
   "cell_type": "markdown",
   "metadata": {},
   "source": [
    "$$\n",
    "{\\bf r}_\\alpha = r\\sqrt{\\frac{4\\pi}{3}} Y_{1\\alpha}\n",
    "$$"
   ]
  },
  {
   "cell_type": "markdown",
   "metadata": {},
   "source": [
    "Using this expression we get"
   ]
  },
  {
   "cell_type": "markdown",
   "metadata": {},
   "source": [
    "$$\n",
    "\\begin{eqnarray*}\n",
    "\\left[{\\bf r} \\otimes {\\bf r} \\right]^{(2)}_\\mu &=& \\frac{4\\pi}{3}r^2\n",
    "\\sum_{\\alpha ,\\beta}\\langle 1\\alpha 1\\beta\\vert 2\\mu \\rangle Y_{1\\alpha} Y_{1\\beta}\n",
    "\\end{eqnarray*}\n",
    "$$"
   ]
  },
  {
   "cell_type": "markdown",
   "metadata": {},
   "source": [
    "## Angular momentum algebra, Wigner-Eckart theorem\n",
    "The product of two spherical harmonics can be written\n",
    "as"
   ]
  },
  {
   "cell_type": "markdown",
   "metadata": {},
   "source": [
    "2\n",
    "0\n",
    "8\n",
    " \n",
    "<\n",
    "<\n",
    "<\n",
    "!\n",
    "!\n",
    "M\n",
    "A\n",
    "T\n",
    "H\n",
    "_\n",
    "B\n",
    "L\n",
    "O\n",
    "C\n",
    "K"
   ]
  },
  {
   "cell_type": "markdown",
   "metadata": {},
   "source": [
    "$$\n",
    "\\times \\left(\\begin{array}{ccc} l_1&l_2&l \\\\ 0  &0  &0\\end{array}\\right)\n",
    "Y_{l-m}(-1)^m.\n",
    "$$"
   ]
  },
  {
   "cell_type": "markdown",
   "metadata": {},
   "source": [
    "## Angular momentum algebra, Wigner-Eckart theorem\n",
    "Using this relation we get"
   ]
  },
  {
   "cell_type": "markdown",
   "metadata": {},
   "source": [
    "$$\n",
    "\\begin{eqnarray*}\n",
    "\\left[{\\bf r} \\otimes {\\bf r} \\right]^{(2)}_\\mu &=& \n",
    "\\sqrt{4\\pi}r^2\n",
    "\\sum_{lm}\n",
    "\\sum_{\\alpha ,\\beta}   \\langle 1\\alpha 1\\beta\\vert 2\\mu \\rangle \\\\\n",
    "&&\\times \\langle 1\\alpha 1\\beta\\vert l-m \\rangle\n",
    "\\frac{(-1)^{1-1-m}}{\\sqrt{2l+1}} \n",
    "\\left(\\begin{array}{ccc} 1&1&l \\\\ 0  &0  &0\\end{array}\\right)Y_{l-m}(-1)^m\\\\\n",
    "&=& \\sqrt{4\\pi}r^2\n",
    "\\left(\\begin{array}{ccc} 1&1&2 \\\\ 0  &0  &0\\end{array}\\right)\n",
    "Y_{2-\\mu}\\\\\n",
    "&=& \\sqrt{4\\pi}r^2 \\sqrt{\\frac{2}{15}}Y_{2-\\mu}\n",
    "\\end{eqnarray*}\n",
    "$$"
   ]
  },
  {
   "cell_type": "markdown",
   "metadata": {},
   "source": [
    "## Angular momentum algebra, Wigner-Eckart theorem\n",
    "We can then  use this relation to rewrite the reduced matrix element containing the \n",
    "position vector as"
   ]
  },
  {
   "cell_type": "markdown",
   "metadata": {},
   "source": [
    "$$\n",
    "\\begin{eqnarray*}\n",
    "\\langle l \\vert\\vert\\left[{\\bf r} \\otimes {\\bf r} \\right]^{(2)} \\vert \\vert l'\\rangle\n",
    "& = & \n",
    "\\sqrt{4\\pi}\\sqrt{ \\frac{2}{15}}r^2 \\langle l \\vert\\vert Y_2 \\vert \\vert l'\\rangle \\\\\n",
    "& = &\\sqrt{4\\pi}\\sqrt{ \\frac{2}{15}}  r^2 (-1)^l\n",
    "\\sqrt{\\frac{(2l+1)5(2l'+1)}{4\\pi}}\n",
    "\\left(\\begin{array}{ccc} l&2&l' \\\\ 0&0&0\\end{array}\\right)\n",
    "\\end{eqnarray*}\n",
    "$$"
   ]
  },
  {
   "cell_type": "markdown",
   "metadata": {},
   "source": [
    "## Angular momentum algebra, Wigner-Eckart theorem\n",
    "Using the  reduced matrix element of the spin \n",
    "operators defined as"
   ]
  },
  {
   "cell_type": "markdown",
   "metadata": {},
   "source": [
    "$$\n",
    "\\begin{eqnarray*}\n",
    "\\langle S\\vert \\vert\\left[{\\bf \\sigma}_1 \\otimes {\\bf \\sigma}_2\\right]^{(2)} \\vert \\vert S' \\rangle\n",
    "& = & \n",
    "\\sqrt{(2S+1)(2S'+1)5}\n",
    "\\left\\{\\begin{array}{ccc} s_1&s_2&S \\\\s_3&s_4&S' \\\\ 1&1&2\\end{array}\\right\\}\\\\\n",
    "&\\times& \n",
    "\\langle s_1 \\vert \\vert {\\bf \\sigma}_1 \\vert \\vert s_3\\rangle\n",
    "\\langle s_2 \\vert\\vert {\\bf \\sigma}_2 \\vert \\vert s_4\\rangle\n",
    "\\end{eqnarray*}\n",
    "$$"
   ]
  },
  {
   "cell_type": "markdown",
   "metadata": {},
   "source": [
    "and inserting  these expressions for the two reduced matrix elements we get"
   ]
  },
  {
   "cell_type": "markdown",
   "metadata": {},
   "source": [
    "$$\n",
    "\\begin{array}{ll}\n",
    "&\\\\\n",
    "\\langle lSJ\\vert V\\vert l'S'J\\rangle =&(-1)^{S+J}\\sqrt{30(2l+1)(2l'+1)(2S+1)(2S'+1)}\\\\\n",
    "&\\times\\left\\{\\begin{array}{ccc}l&S &J \\\\l'&S&2\\end{array}\\right\\}\n",
    "\\left(\\begin{array}{ccc}l&2&l'\\\\0&0&0\\end{array}\\right)\n",
    "\\left\\{\\begin{array}{ccc}s_{1}&s_{2}&S\\\\s_{3}&s_{4}&S'\\\\\n",
    "1&1&2\\end{array}\n",
    "\\right\\}\\\\\n",
    "&\\times\\langle s_{1}\\vert\\vert \\sigma_{1}\\vert\\vert s_{3}\\rangle\n",
    "\\langle s_{2}\\vert\\vert \\sigma_{2}\\vert \\vert s_{4}\\rangle.\n",
    "\\end{array}\n",
    "$$"
   ]
  },
  {
   "cell_type": "markdown",
   "metadata": {},
   "source": [
    "## Angular momentum algebra, Wigner-Eckart theorem\n",
    "Normally, we start we a nucleon-nucleon interaction fitted to reproduce scattering data.\n",
    "It is common then to represent this interaction in terms relative momenta $k$, the center-of-mass momentum $K$\n",
    "and various partial wave quantum numbers like the spin $S$, the total relative angular  momentum ${\\cal J}$, isospin $T$ and relative orbital momentum $l$ and finally the corresponding center-of-mass $L$.  \n",
    "We can then write the  free interaction matrix $V$ as"
   ]
  },
  {
   "cell_type": "markdown",
   "metadata": {},
   "source": [
    "$$\n",
    "\\langle kKlL{\\cal J}ST\\vert\\hat{V}\\vert k'Kl'L{\\cal J}S'T\\rangle.\n",
    "$$"
   ]
  },
  {
   "cell_type": "markdown",
   "metadata": {},
   "source": [
    "Transformations from the relative and center-of-mass motion\n",
    "system to the lab system will be discussed\n",
    "below.\n",
    "\n",
    "\n",
    "\n",
    "## Angular momentum algebra, Wigner-Eckart theorem\n",
    "To obtain a $V$-matrix in a h.o. basis, we need  \n",
    "the transformation"
   ]
  },
  {
   "cell_type": "markdown",
   "metadata": {},
   "source": [
    "$$\n",
    "\\langle nNlL{\\cal J}ST\\vert\\hat{V}\\vert n'N'l'L'{\\cal J}S'T\\rangle,\n",
    "$$"
   ]
  },
  {
   "cell_type": "markdown",
   "metadata": {},
   "source": [
    "with $n$ and $N$ the principal quantum numbers of the relative and\n",
    "center-of-mass motion, respectively."
   ]
  },
  {
   "cell_type": "markdown",
   "metadata": {},
   "source": [
    "$$\n",
    "\\vert nlNL{\\cal J}ST\\rangle= \\int k^{2}K^{2}dkdKR_{nl}(\\sqrt{2}\\alpha k)\n",
    "R_{NL}(\\sqrt{1/2}\\alpha K)\n",
    "\\vert klKL{\\cal J}ST\\rangle.\n",
    "$$"
   ]
  },
  {
   "cell_type": "markdown",
   "metadata": {},
   "source": [
    "The parameter $\\alpha$ is the chosen oscillator length.\n",
    "\n",
    "\n",
    "\n",
    "## Angular momentum algebra, Wigner-Eckart theorem\n",
    "The most commonly employed sp basis is the harmonic oscillator, which\n",
    "in turn means that\n",
    "a two-particle wave function with total angular momentum $J$\n",
    "and isospin $T$\n",
    "can be expressed as"
   ]
  },
  {
   "cell_type": "markdown",
   "metadata": {},
   "source": [
    "<!-- Equation labels as ordinary links -->\n",
    "<div id=\"eq:hoho\"></div>\n",
    "\n",
    "$$\n",
    "\\begin{array}{ll}\n",
    "\\vert (n_{a}l_{a}j_{a})(n_{b}l_{b}j_{b})JT\\rangle =&\n",
    "{\\displaystyle\n",
    "\\frac{1}{\\sqrt{(1+\\delta_{12})}}\n",
    "\\sum_{\\lambda S{\\cal J}}\\sum_{nNlL}}\n",
    "F\\times \\langle ab|\\lambda SJ \\rangle\\\\\n",
    "&\\times (-1)^{\\lambda +{\\cal J}-L-S}\\hat{\\lambda}\n",
    "\\left\\{\\begin{array}{ccc}L&l&\\lambda\\\\S&J&{\\cal J}\n",
    "\\end{array}\\right\\}\\\\\n",
    "&\\times \\left\\langle nlNL| n_al_an_bl_b\\right\\rangle\n",
    "\\vert nlNL{\\cal J}ST\\rangle ,\\end{array}\n",
    "\\label{eq:hoho} \\tag{4}\n",
    "$$"
   ]
  },
  {
   "cell_type": "markdown",
   "metadata": {},
   "source": [
    "where the term\n",
    "$\\left\\langle nlNL| n_al_an_bl_b\\right\\rangle$\n",
    "is the so-called Moshinsky-Talmi transformation coefficient (see chapter 18 of Alex Brown's notes).\n",
    "\n",
    "\n",
    "\n",
    "## Angular momentum algebra, Wigner-Eckart theorem\n",
    "The term $\\langle ab|LSJ \\rangle $ is a shorthand\n",
    "for the $LS-jj$ transformation coefficient,"
   ]
  },
  {
   "cell_type": "markdown",
   "metadata": {},
   "source": [
    "$$\n",
    "\\langle ab|\\lambda SJ \\rangle = \\hat{j_{a}}\\hat{j_{b}}\n",
    "     \\hat{\\lambda}\\hat{S}\n",
    "     \\left\\{\n",
    "    \\begin{array}{ccc}\n",
    "       l_{a}&s_a&j_{a}\\\\\n",
    "       l_{b}&s_b&j_{b}\\\\\n",
    "       \\lambda    &S          &J\n",
    "    \\end{array}\n",
    "    \\right\\}.\n",
    "$$"
   ]
  },
  {
   "cell_type": "markdown",
   "metadata": {},
   "source": [
    "Here\n",
    "we use $\\hat{x} = \\sqrt{2x +1}$.\n",
    "The factor $F$ is defined as $F=\\frac{1-(-1)^{l+S+T}}{\\sqrt{2}}$ if\n",
    "$s_a = s_b$ and we .\n",
    "\n",
    "\n",
    "\n",
    "## Angular momentum algebra, Wigner-Eckart theorem\n",
    "The $\\hat{V}$-matrix in terms of harmonic oscillator wave functions reads"
   ]
  },
  {
   "cell_type": "markdown",
   "metadata": {},
   "source": [
    "2\n",
    "1\n",
    "9\n",
    " \n",
    "<\n",
    "<\n",
    "<\n",
    "!\n",
    "!\n",
    "M\n",
    "A\n",
    "T\n",
    "H\n",
    "_\n",
    "B\n",
    "L\n",
    "O\n",
    "C\n",
    "K"
   ]
  },
  {
   "cell_type": "markdown",
   "metadata": {},
   "source": [
    "2\n",
    "2\n",
    "0\n",
    " \n",
    "<\n",
    "<\n",
    "<\n",
    "!\n",
    "!\n",
    "M\n",
    "A\n",
    "T\n",
    "H\n",
    "_\n",
    "B\n",
    "L\n",
    "O\n",
    "C\n",
    "K"
   ]
  },
  {
   "cell_type": "markdown",
   "metadata": {},
   "source": [
    "2\n",
    "2\n",
    "1\n",
    " \n",
    "<\n",
    "<\n",
    "<\n",
    "!\n",
    "!\n",
    "M\n",
    "A\n",
    "T\n",
    "H\n",
    "_\n",
    "B\n",
    "L\n",
    "O\n",
    "C\n",
    "K"
   ]
  },
  {
   "cell_type": "markdown",
   "metadata": {},
   "source": [
    "$$\n",
    "\\times\\langle nNlL{\\cal J}ST\\vert\\hat{V}\\vert n'N'l'L'{\\cal J}S'T\\rangle.\n",
    "$$"
   ]
  },
  {
   "cell_type": "markdown",
   "metadata": {},
   "source": [
    "The label $a$ represents here all the single particle quantum numbers  \n",
    "$n_{a}l_{a}j_{a}$."
   ]
  }
 ],
 "metadata": {},
 "nbformat": 4,
 "nbformat_minor": 0
}
