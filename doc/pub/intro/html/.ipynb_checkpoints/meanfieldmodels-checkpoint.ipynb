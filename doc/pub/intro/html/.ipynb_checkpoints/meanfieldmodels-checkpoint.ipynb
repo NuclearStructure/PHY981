{
 "metadata": {
  "name": ""
 },
 "nbformat": 3,
 "nbformat_minor": 0,
 "worksheets": [
  {
   "cells": [
    {
     "cell_type": "markdown",
     "metadata": {},
     "source": [
      "<!-- Slides for PHY981 -->\n",
      "# Single-particle properties and nuclear data\n",
      "<!-- DATE: -->\n",
      "\n",
      "\n",
      "<!-- !split  -->\n",
      "### Motivation\n",
      "**Do we understand the physics of dripline systems?**\n",
      "\n",
      "The oxygen isotopes are the heaviest isotopes for\n",
      "which the drip line is well established.\n",
      "* Two out of four\n",
      "\n",
      "stable even-even isotopes exhibit a doubly magic nature,\n",
      "namely $^{22}$O ($Z=8$, $N=14$) and $^{24}$O ($Z=8$, $N=16$).\n",
      "* The structure of $^{22}$O and $^{24}$O is assumed to be governed\n",
      "\n",
      "by the evolution of the $1s_{1/2}$ and $0d_{5/2}$  one-quasiparticle states.\n",
      "* The isotopes $^{25}$O\n",
      "\n",
      "$^{26}$O, $^{27}$O and $^{28}$O are outside the drip line, since the $0d_{3/2}$ orbit is not bound.\n",
      "\n",
      "<p></p>\n",
      "<img src=\"figslides/oxygens.jpg\" width=500>\n",
      "\n",
      "\n",
      "\n",
      "\n",
      "\n",
      "<!-- !split  -->\n",
      "### Recent articles in Oxygen isotopes\n",
      "**Many experiments worldwide!**\n",
      "\n",
      "* $^{24}$O and lighter:  C. R. Hoffman {\\em et al.}, Phys. Lett. B {\\bf 672}, 17 (2009); R. Kanungo {\\em et al.}, Phys. Rev. Lett. {\\bf 102}, 152501 (2009);C. R. Hoffman {\\em et al.}, Phys. Rev. C {\\bf 83}, 031303(R) (2011); Stanoiu {\\em et al.}, Phys. Rev. C {\\bf 69}, 034312 (2004)\n",
      "\n",
      "* $^{25}$O: C. R. Hoffman {\\em et al.}, Phys. Rev. Lett. {\\bf 102},152501  (2009). \n",
      "\n",
      "* $^{26}$O: E. Lunderberg {\\it et al.}, Phys. Rev. Lett., {\\bf 108}, 142503 (2012). \n",
      "\n",
      "* $^{26}$O: Z. Kohley  {\\it et al.}, Study of two-neutron radioactivity in the decay of 26O, Phys. Rev. Lett., {\\bf 110}, 152501 (2013). \n",
      "\n",
      "* Theory: Oxygen isotopes with three-body forces,  Otsuka {\\em et al.}, Phys. Rev. Lett., {\\bf 105}, 032501  (2010).  Hagen {\\em et al.,} Phys. Rev. Lett., {\\bf 108}, 242501 (2012).\n",
      "\n",
      "\n",
      "\n",
      "\n",
      "<!-- !split  -->\n",
      "### Motivation\n",
      "**Do we understand the physics of dripline systems?**\n",
      "\n",
      "Our first approach in analyzing data theoretically, is to see if we can use experimental information to \n",
      "* Extract information about a *so-called* single-particle  behavior\n",
      "\n",
      "* And interpret such a behavior in terms of the underlying forces and microscopic physics\n",
      "\n",
      "The next step is to see if we could use these interpretations to say something about shell closures and magic numbers. Since we focus on single-particle properties, a quantity we can extract from experiment is the separation energy for protons and neutrons. Before proceed in doing so, we need to define quantities like masses and binding energies.\n",
      "\n",
      "\n",
      "\n",
      "\n",
      "<!-- !split  -->\n",
      "### Masses and Binding energies\n",
      "A basic quantity which can be measured for the ground states of nuclei is the atomic mass\n",
      "$M(N, Z)$ of the neutral atom with atomic mass number $A$ and charge $Z$. The number of neutrons are $N$.\n",
      "\n",
      "Atomic masses are\n",
      "usually tabulated in terms of the mass excess defined by"
     ]
    },
    {
     "cell_type": "markdown",
     "metadata": {},
     "source": [
      "$$\n",
      "\\Delta M(N, Z) =  M(N, Z) - uA,\n",
      "$$"
     ]
    },
    {
     "cell_type": "markdown",
     "metadata": {},
     "source": [
      "where $u$ is the Atomic Mass Unit"
     ]
    },
    {
     "cell_type": "markdown",
     "metadata": {},
     "source": [
      "$$\n",
      "u = M(^{12}\\mathrm{C})/12 = 931.49386 \\hspace{0.1cm} \\mathrm{MeV}/c^2.\n",
      "$$"
     ]
    },
    {
     "cell_type": "markdown",
     "metadata": {},
     "source": [
      "In this course we will mainly use \n",
      "data from the 2003 compilation of Audi, Wapstra and Thibault.\n",
      "\n",
      "\n",
      "\n",
      "\n",
      "<!-- !split  -->\n",
      "### Masses and Binding energies\n",
      "The following python program reads in the experimental data on binding energies and, stored in the file bindingenergies.dat,  plots them as function of the mass number $A$."
     ]
    },
    {
     "cell_type": "code",
     "collapsed": false,
     "input": [
      "import numpy as np\n",
      "from  matplotlib import pyplot as plt\n",
      "\n",
      "# Load in data file\n",
      "data = np.loadtxt(\"datafiles/bindingenergies.dat\")\n",
      "# Make arrays containing x-axis and binding energies as function of\n",
      "x = data[:,2]\n",
      "bexpt = data[:,3]\n",
      "liquiddrop = data[:,4]\n",
      "\n",
      "plt.plot(x, bexpt ,'b-+', x, liquiddrop, 'r-o')\n",
      "plt.axis([0,270,-1, 10.0])\n",
      "plt.xlabel(r'$A$')\n",
      "plt.ylabel(r'Binding energies in [MeV]')\n",
      "plt.legend(('Experiment','Liquid Drop'), loc='upper right')\n",
      "plt.title(r'Binding energies from experiment and liquid drop')\n",
      "plt.savefig('bindingenergies.pdf')\n",
      "plt.savefig('bindingenergies.png')\n",
      "plt.show()\n"
     ],
     "language": "python",
     "metadata": {},
     "outputs": [
      {
       "ename": "ValueError",
       "evalue": "invalid literal for float(): 1   2   3      2.827267    0.368785    2.458482",
       "output_type": "pyerr",
       "traceback": [
        "\u001b[0;31m---------------------------------------------------------------------------\u001b[0m\n\u001b[0;31mValueError\u001b[0m                                Traceback (most recent call last)",
        "\u001b[0;32m<ipython-input-6-34eee16fae84>\u001b[0m in \u001b[0;36m<module>\u001b[0;34m()\u001b[0m\n\u001b[1;32m      3\u001b[0m \u001b[0;34m\u001b[0m\u001b[0m\n\u001b[1;32m      4\u001b[0m \u001b[0;31m# Load in data file\u001b[0m\u001b[0;34m\u001b[0m\u001b[0;34m\u001b[0m\u001b[0m\n\u001b[0;32m----> 5\u001b[0;31m \u001b[0mdata\u001b[0m \u001b[0;34m=\u001b[0m \u001b[0mnp\u001b[0m\u001b[0;34m.\u001b[0m\u001b[0mloadtxt\u001b[0m\u001b[0;34m(\u001b[0m\u001b[0;34m\"datafiles/bindingenergies.dat\"\u001b[0m\u001b[0;34m,\u001b[0m \u001b[0mdelimiter\u001b[0m\u001b[0;34m=\u001b[0m\u001b[0;34m','\u001b[0m\u001b[0;34m,\u001b[0m \u001b[0mskiprows\u001b[0m\u001b[0;34m=\u001b[0m\u001b[0;36m1\u001b[0m\u001b[0;34m)\u001b[0m\u001b[0;34m\u001b[0m\u001b[0m\n\u001b[0m\u001b[1;32m      6\u001b[0m \u001b[0;31m# Make arrays containing x-axis and binding energies as function of\u001b[0m\u001b[0;34m\u001b[0m\u001b[0;34m\u001b[0m\u001b[0m\n\u001b[1;32m      7\u001b[0m \u001b[0mx\u001b[0m \u001b[0;34m=\u001b[0m \u001b[0mdata\u001b[0m\u001b[0;34m[\u001b[0m\u001b[0;34m:\u001b[0m\u001b[0;34m,\u001b[0m\u001b[0;36m2\u001b[0m\u001b[0;34m]\u001b[0m\u001b[0;34m\u001b[0m\u001b[0m\n",
        "\u001b[0;32m/usr/lib/python2.7/dist-packages/numpy/lib/npyio.pyc\u001b[0m in \u001b[0;36mloadtxt\u001b[0;34m(fname, dtype, comments, delimiter, converters, skiprows, usecols, unpack, ndmin)\u001b[0m\n\u001b[1;32m    846\u001b[0m                 \u001b[0mvals\u001b[0m \u001b[0;34m=\u001b[0m \u001b[0;34m[\u001b[0m\u001b[0mvals\u001b[0m\u001b[0;34m[\u001b[0m\u001b[0mi\u001b[0m\u001b[0;34m]\u001b[0m \u001b[0;32mfor\u001b[0m \u001b[0mi\u001b[0m \u001b[0;32min\u001b[0m \u001b[0musecols\u001b[0m\u001b[0;34m]\u001b[0m\u001b[0;34m\u001b[0m\u001b[0m\n\u001b[1;32m    847\u001b[0m             \u001b[0;31m# Convert each value according to its column and store\u001b[0m\u001b[0;34m\u001b[0m\u001b[0;34m\u001b[0m\u001b[0m\n\u001b[0;32m--> 848\u001b[0;31m             \u001b[0mitems\u001b[0m \u001b[0;34m=\u001b[0m \u001b[0;34m[\u001b[0m\u001b[0mconv\u001b[0m\u001b[0;34m(\u001b[0m\u001b[0mval\u001b[0m\u001b[0;34m)\u001b[0m \u001b[0;32mfor\u001b[0m \u001b[0;34m(\u001b[0m\u001b[0mconv\u001b[0m\u001b[0;34m,\u001b[0m \u001b[0mval\u001b[0m\u001b[0;34m)\u001b[0m \u001b[0;32min\u001b[0m \u001b[0mzip\u001b[0m\u001b[0;34m(\u001b[0m\u001b[0mconverters\u001b[0m\u001b[0;34m,\u001b[0m \u001b[0mvals\u001b[0m\u001b[0;34m)\u001b[0m\u001b[0;34m]\u001b[0m\u001b[0;34m\u001b[0m\u001b[0m\n\u001b[0m\u001b[1;32m    849\u001b[0m             \u001b[0;31m# Then pack it according to the dtype's nesting\u001b[0m\u001b[0;34m\u001b[0m\u001b[0;34m\u001b[0m\u001b[0m\n\u001b[1;32m    850\u001b[0m             \u001b[0mitems\u001b[0m \u001b[0;34m=\u001b[0m \u001b[0mpack_items\u001b[0m\u001b[0;34m(\u001b[0m\u001b[0mitems\u001b[0m\u001b[0;34m,\u001b[0m \u001b[0mpacking\u001b[0m\u001b[0;34m)\u001b[0m\u001b[0;34m\u001b[0m\u001b[0m\n",
        "\u001b[0;31mValueError\u001b[0m: invalid literal for float(): 1   2   3      2.827267    0.368785    2.458482"
       ]
      }
     ],
     "prompt_number": 6
    },
    {
     "cell_type": "markdown",
     "metadata": {},
     "source": [
      "<!-- !split  -->\n",
      "### Masses and Binding energies\n",
      "The nucleon masses are\n",
      "\\[\n",
      "m_p = 938.27203(8)\\hspace{0.1cm} \\mathrm{MeV}/c^2 = 1.00727646688(13)u,\n",
      "\\]\n",
      "and \n",
      "\\[\n",
      "m_n = 939.56536(8)\\hspace{0.1cm} \\mathrm{MeV}/c^2 = 1.0086649156(6)u.\n",
      "\\]\n",
      "In the 2003 mass evaluation there are 2127 nuclei measured with an accuracy of 0.2\n",
      "MeV or better, and 101 nuclei measured with an accuracy of greater than 0.2 MeV. For\n",
      "heavy nuclei one observes several chains of nuclei with a constant $N-Z$ value whose masses\n",
      "are obtained from the energy released in $\\alpha$-decay.\n",
      "\n",
      "\n",
      "\n",
      "\n",
      "<!-- !split  -->\n",
      "### Masses and Binding energies\n",
      "Nuclear binding energy is defined as the energy required to break up a given nucleus\n",
      "into its constituent parts of $N$ neutrons and $Z$ protons. In terms of the atomic masses\n",
      "$M(N, Z)$ the binding energy is defined by:"
     ]
    },
    {
     "cell_type": "markdown",
     "metadata": {},
     "source": [
      "$$\n",
      "BE(N, Z) = ZM_H c^2 + Nm_n c^2 - M(N, Z)c^2 ,\n",
      "$$"
     ]
    },
    {
     "cell_type": "markdown",
     "metadata": {},
     "source": [
      "where $M_H$ is the mass of the hydrogen atom and $m_n$ is the mass of the neutron.\n",
      "In terms\n",
      "of the mass excess the binding energy is given by:"
     ]
    },
    {
     "cell_type": "markdown",
     "metadata": {},
     "source": [
      "$$\n",
      "BE(N, Z) = Z\\Delta_H c^2 + N\\Delta_n c^2 -\\Delta(N, Z)c^2 ,\n",
      "$$"
     ]
    },
    {
     "cell_type": "markdown",
     "metadata": {},
     "source": [
      "where $\\Delta_H c^2 = 7.2890$ MeV and $\\Delta_n c^2 = 8.0713$ MeV.\n",
      "\n",
      "\n",
      "\n",
      "\n",
      "<!-- !split  -->\n",
      "### $Q$-values and separation energies\n",
      "We consider energy conservation for nuclear transformations that include, for\n",
      "example, the fusion of two nuclei $a$ and $b$ into the combined system $c$"
     ]
    },
    {
     "cell_type": "markdown",
     "metadata": {},
     "source": [
      "$$\n",
      "{^{N_a+Z_a}}a+ {^{N_b+Z_b}}b\\rightarrow {^{N_c+Z_c}}c\n",
      "$$"
     ]
    },
    {
     "cell_type": "markdown",
     "metadata": {},
     "source": [
      "or the decay of nucleus $c$ into two other nuclei $a$ and $b$"
     ]
    },
    {
     "cell_type": "markdown",
     "metadata": {},
     "source": [
      "$$\n",
      "^{N_c+Z_c}c \\rightarrow  ^{N_a+Z_a}a+ ^{N_b+Z_b}b\n",
      "$$"
     ]
    },
    {
     "cell_type": "markdown",
     "metadata": {},
     "source": [
      "In general we have the reactions"
     ]
    },
    {
     "cell_type": "markdown",
     "metadata": {},
     "source": [
      "$$\n",
      "\\sum_i {^{N_i+Z_i}}i \\rightarrow  \\sum_f {^{N_f+Z_f}}f\n",
      "$$"
     ]
    },
    {
     "cell_type": "markdown",
     "metadata": {},
     "source": [
      "We require also that number of protons and neutrons are conserved in the initial stage and final stage, unless we have processes which violate baryon conservation,"
     ]
    },
    {
     "cell_type": "markdown",
     "metadata": {},
     "source": [
      "$$\n",
      "\\sum_iN_i = \\sum_f N_f \\hspace{0.2cm}\\mathrm{and} \\hspace{0.2cm}\\sum_iZ_i = \\sum_f Z_f.\n",
      "$$"
     ]
    },
    {
     "cell_type": "markdown",
     "metadata": {},
     "source": [
      "<!-- !split  -->\n",
      "### $Q$-values and separation energies\n",
      "This process is characterized by an energy difference called the $Q$ value:"
     ]
    },
    {
     "cell_type": "markdown",
     "metadata": {},
     "source": [
      "$$\n",
      "Q=\\sum_iM(N_i, Z_i)c^2-\\sum_fM(N_f, Z_f)c^2=\\sum_iBE(N_f, Z_f)-\\sum_iBE(N_i, Z_i)\n",
      "$$"
     ]
    },
    {
     "cell_type": "markdown",
     "metadata": {},
     "source": [
      "Spontaneous decay involves a single initial nuclear state and is allowed if $Q > 0$. In the\n",
      "decay, energy is released in the form of the kinetic energy of the final products. Reactions\n",
      "involving two initial nuclei and are endothermic (a net loss of energy) if $Q < 0$; the reactions\n",
      "are exothermic (a net release of energy) if $Q > 0$.\n",
      "\n",
      "\n",
      "\n",
      "\n",
      "<!-- !split  -->\n",
      "### $Q$-values and separation energies\n",
      "We can consider the Q values associated with the removal of one or two nucleons from\n",
      "a nucleus. These are conventionally defined in terms of the one-nucleon and two-nucleon\n",
      "separation energies"
     ]
    },
    {
     "cell_type": "markdown",
     "metadata": {},
     "source": [
      "9\n",
      " \n",
      "<\n",
      "<\n",
      "<\n",
      "!\n",
      "!\n",
      "M\n",
      "A\n",
      "T\n",
      "H\n",
      "_\n",
      "B\n",
      "L\n",
      "O\n",
      "C\n",
      "K"
     ]
    },
    {
     "cell_type": "markdown",
     "metadata": {},
     "source": [
      "1\n",
      "0\n",
      " \n",
      "<\n",
      "<\n",
      "<\n",
      "!\n",
      "!\n",
      "M\n",
      "A\n",
      "T\n",
      "H\n",
      "_\n",
      "B\n",
      "L\n",
      "O\n",
      "C\n",
      "K"
     ]
    },
    {
     "cell_type": "markdown",
     "metadata": {},
     "source": [
      "$$\n",
      "S_{2n}= -Q_{2n}= BE(N,Z)-BE(N-2,Z),\n",
      "$$"
     ]
    },
    {
     "cell_type": "markdown",
     "metadata": {},
     "source": [
      "and"
     ]
    },
    {
     "cell_type": "markdown",
     "metadata": {},
     "source": [
      "$$\n",
      "S_{2p}= -Q_{2p}= BE(N,Z)-BE(N,Z-2),\n",
      "$$"
     ]
    },
    {
     "cell_type": "markdown",
     "metadata": {},
     "source": [
      "<!-- !split  -->\n",
      "### Separation energies and energy gaps\n",
      "Using say the neutron separation energies (alternatively the proton separation energies)"
     ]
    },
    {
     "cell_type": "markdown",
     "metadata": {},
     "source": [
      "$$\n",
      "S_n= -Q_n= BE(N,Z)-BE(N-1,Z),\n",
      "$$"
     ]
    },
    {
     "cell_type": "markdown",
     "metadata": {},
     "source": [
      "we can define the so-called energy gap for neutrons (or protons) as"
     ]
    },
    {
     "cell_type": "markdown",
     "metadata": {},
     "source": [
      "$$\n",
      "\\Delta S_n= BE(N,Z)-BE(N-1,Z)-\\left(BE(N+1,Z)-BE(N,Z)\\right),\n",
      "$$"
     ]
    },
    {
     "cell_type": "markdown",
     "metadata": {},
     "source": [
      "or"
     ]
    },
    {
     "cell_type": "markdown",
     "metadata": {},
     "source": [
      "$$\n",
      "\\Delta S_n= 2BE(N,Z)-BE(N-1,Z)-BE(N+1,Z).\n",
      "$$"
     ]
    },
    {
     "cell_type": "markdown",
     "metadata": {},
     "source": [
      "This quantity can in turn be used to determine which nuclei are magic or not. \n",
      "For protons we would have"
     ]
    },
    {
     "cell_type": "markdown",
     "metadata": {},
     "source": [
      "$$\n",
      "\\Delta S_p= 2BE(N,Z)-BE(N,Z-1)-BE(N,Z+1).\n",
      "$$"
     ]
    },
    {
     "cell_type": "markdown",
     "metadata": {},
     "source": [
      "We can also define the two-neutron or two-proton gap as well.\n",
      "\n",
      "\n",
      "\n",
      "<!-- !split  -->\n",
      "### Definitions\n",
      "An operator is defined as $\\hat{O}$ throughout. Unless otherwise specified the number of particles is\n",
      "always $N$ and $d$ is the dimension of the system.  In nuclear physics\n",
      "we normally define the total number of particles to be $A=N+Z$, where\n",
      "$N$ is total number of neutrons and $Z$ the total number of\n",
      "protons. In case of other baryons such isobars $\\Delta$ or various\n",
      "hyperons such as $\\Lambda$ or $\\Sigma$, one needs to add their\n",
      "definitions.  Hereafter, $A$ is reserved for the total number of\n",
      "particles, unless otherwise specificied.  When we refer to a neutron we will use the label $n$ and when we refer to a proton we will use the label $p$. Unless otherwise specified, we will call these particles for nucleons.\n",
      "\n",
      "\n",
      "\n",
      "### Definitions\n",
      "The quantum numbers of a single-particle state in coordinate space are\n",
      "defined by the variable"
     ]
    },
    {
     "cell_type": "markdown",
     "metadata": {},
     "source": [
      "$$\n",
      "x=({\\bf r},\\sigma),\n",
      "$$"
     ]
    },
    {
     "cell_type": "markdown",
     "metadata": {},
     "source": [
      "where"
     ]
    },
    {
     "cell_type": "markdown",
     "metadata": {},
     "source": [
      "$$\n",
      "{\\bf r}\\in {\\mathbb{R}}^{d},\n",
      "$$"
     ]
    },
    {
     "cell_type": "markdown",
     "metadata": {},
     "source": [
      "with $d=1,2,3$ represents the spatial coordinates and $\\sigma$ is the eigenspin of the particle. For fermions with eigenspin $1/2$ this means that"
     ]
    },
    {
     "cell_type": "markdown",
     "metadata": {},
     "source": [
      "$$\n",
      "x\\in {\\mathbb{R}}^{d}\\oplus (\\frac{1}{2}),\n",
      "$$"
     ]
    },
    {
     "cell_type": "markdown",
     "metadata": {},
     "source": [
      "and the integral"
     ]
    },
    {
     "cell_type": "markdown",
     "metadata": {},
     "source": [
      "$$\n",
      "\\int dx = \\sum_{\\sigma}\\int d^dr = \\sum_{\\sigma}\\int d{\\bf r},\n",
      "$$"
     ]
    },
    {
     "cell_type": "markdown",
     "metadata": {},
     "source": [
      "and"
     ]
    },
    {
     "cell_type": "markdown",
     "metadata": {},
     "source": [
      "$$\n",
      "\\int d^Nx= \\int dx_1\\int dx_2\\dots\\int dx_N.\n",
      "$$"
     ]
    },
    {
     "cell_type": "markdown",
     "metadata": {},
     "source": [
      "### Definitions\n",
      "The quantum mechanical wave function of a given state with quantum numbers $\\lambda$ (encompassing all quantum numbers needed to specify the system), ignoring time, is"
     ]
    },
    {
     "cell_type": "markdown",
     "metadata": {},
     "source": [
      "$$\n",
      "\\Psi_{\\lambda}=\\Psi_{\\lambda}(x_1,x_2,\\dots,x_N),\n",
      "$$"
     ]
    },
    {
     "cell_type": "markdown",
     "metadata": {},
     "source": [
      "with $x_i=({\\bf r}_i,\\sigma_i)$ and the projection of $\\sigma_i$ takes the values\n",
      "$\\{-1/2,+1/2\\}$ for particles with spin $1/2$. \n",
      "We will hereafter always refer to $\\Psi_{\\lambda}$ as the exact wave function, and if the ground state is not degenerate we label it as"
     ]
    },
    {
     "cell_type": "markdown",
     "metadata": {},
     "source": [
      "$$\n",
      "\\Psi_0=\\Psi_0(x_1,x_2,\\dots,x_N).\n",
      "$$"
     ]
    },
    {
     "cell_type": "markdown",
     "metadata": {},
     "source": [
      "### Definitions\n",
      "Since the solution $\\Psi_{\\lambda}$ seldomly can be found in closed form, approximations are sought. In this text we define an approximative wave function or an ansatz to the exact wave function as"
     ]
    },
    {
     "cell_type": "markdown",
     "metadata": {},
     "source": [
      "$$\n",
      "\\Phi_{\\lambda}=\\Phi_{\\lambda}(x_1,x_2,\\dots,x_N),\n",
      "$$"
     ]
    },
    {
     "cell_type": "markdown",
     "metadata": {},
     "source": [
      "with\n",
      "!bt \n",
      "\\[\n",
      "\\Phi_0=\\Phi_0(x_1,x_2,\\dots,x_N),\n",
      "\\]\n",
      "!et\n",
      "being the ansatz to the ground state.\n",
      "\n",
      "\n",
      "\n",
      "\n",
      "### Definitions\n",
      "The wave function $\\Psi_{\\lambda}$ is sought in the Hilbert space of either symmetric or anti-symmetric $N$-body functions, namely"
     ]
    },
    {
     "cell_type": "markdown",
     "metadata": {},
     "source": [
      "$$\n",
      "\\Psi_{\\lambda}\\in {\\cal H}_N:= {\\cal H}_1\\oplus{\\cal H}_1\\oplus\\dots\\oplus{\\cal H}_1,\n",
      "$$"
     ]
    },
    {
     "cell_type": "markdown",
     "metadata": {},
     "source": [
      "where the single-particle Hilbert space $\\hat{H}_1$ is the space of square integrable functions over\n",
      "$\\in {\\mathbb{R}}^{d}\\oplus (\\sigma)$\n",
      "resulting in"
     ]
    },
    {
     "cell_type": "markdown",
     "metadata": {},
     "source": [
      "$$\n",
      "{\\cal H}_1:= L^2(\\mathbb{R}^{d}\\oplus (\\sigma)).\n",
      "$$"
     ]
    },
    {
     "cell_type": "markdown",
     "metadata": {},
     "source": [
      "### Definitions\n",
      "Our Hamiltonian is invariant under the permutation (interchange) of two particles.\n",
      "Since we deal with fermions however, the total wave function is antisymmetric.\n",
      "Let $\\hat{P}$ be an operator which interchanges two particles.\n",
      "Due to the symmetries we have ascribed to our Hamiltonian, this operator commutes with the total Hamiltonian,"
     ]
    },
    {
     "cell_type": "markdown",
     "metadata": {},
     "source": [
      "$$\n",
      "[\\hat{H},\\hat{P}] = 0,\n",
      "$$"
     ]
    },
    {
     "cell_type": "markdown",
     "metadata": {},
     "source": [
      "meaning that $\\Psi_{\\lambda}(x_1, x_2, \\dots , x_N)$ is an eigenfunction of \n",
      "$\\hat{P}$ as well, that is"
     ]
    },
    {
     "cell_type": "markdown",
     "metadata": {},
     "source": [
      "$$\n",
      "\\hat{P}_{ij}\\Psi_{\\lambda}(x_1, x_2, \\dots,x_i,\\dots,x_j,\\dots,x_N)=\n",
      "\\beta\\Psi_{\\lambda}(x_1, x_2, \\dots,x_j,\\dots,x_i,\\dots,x_N),\n",
      "$$"
     ]
    },
    {
     "cell_type": "markdown",
     "metadata": {},
     "source": [
      "where $\\beta$ is the eigenvalue of $\\hat{P}$. We have introduced the suffix $ij$ in order to indicate that we permute particles $i$ and $j$.\n",
      "The Pauli principle tells us that the total wave function for a system of fermions\n",
      "has to be antisymmetric, resulting in the eigenvalue $\\beta = -1$.\n",
      "\n",
      "\n",
      "\n",
      "\n",
      "### Definitions and notations\n",
      "The Schrodinger equation reads"
     ]
    },
    {
     "cell_type": "markdown",
     "metadata": {},
     "source": [
      "<!-- Equation labels as ordinary links -->\n",
      "<a name=\"eq:basicSE1\"/>\n",
      "\n",
      "$$\n",
      "\\begin{equation}\n",
      "\\hat{H}(x_1, x_2, \\dots , x_N) \\Psi_{\\lambda}(x_1, x_2, \\dots , x_N) = \n",
      "E_\\lambda  \\Psi_\\lambda(x_1, x_2, \\dots , x_N), \\label{eq:basicSE1} \\tag{1}\n",
      "\\end{equation}\n",
      "$$"
     ]
    },
    {
     "cell_type": "markdown",
     "metadata": {},
     "source": [
      "where the vector $x_i$ represents the coordinates (spatial and spin) of particle $i$, $\\lambda$ stands  for all the quantum\n",
      "numbers needed to classify a given $N$-particle state and $\\Psi_{\\lambda}$ is the pertaining eigenfunction.  Throughout this course,\n",
      "$\\Psi$ refers to the exact eigenfunction, unless otherwise stated.\n",
      "\n",
      "\n",
      "\n",
      "### Definitions and notations\n",
      "We write the Hamilton operator, or Hamiltonian,  in a generic way"
     ]
    },
    {
     "cell_type": "markdown",
     "metadata": {},
     "source": [
      "$$\n",
      "\\hat{H} = \\hat{T} + \\hat{V}\n",
      "$$"
     ]
    },
    {
     "cell_type": "markdown",
     "metadata": {},
     "source": [
      "where $\\hat{T}$  represents the kinetic energy of the system"
     ]
    },
    {
     "cell_type": "markdown",
     "metadata": {},
     "source": [
      "$$\n",
      "\\hat{T} = \\sum_{i=1}^N \\frac{\\mathbf{p}_i^2}{2m_i} = \\sum_{i=1}^N \\left( -\\frac{\\hbar^2}{2m_i} \\mathbf{\\nabla_i}^2 \\right) =\n",
      "\t\t\\sum_{i=1}^N t(x_i)\n",
      "$$"
     ]
    },
    {
     "cell_type": "markdown",
     "metadata": {},
     "source": [
      "while the operator $\\hat{V}$ for the potential energy is given by"
     ]
    },
    {
     "cell_type": "markdown",
     "metadata": {},
     "source": [
      "<!-- Equation labels as ordinary links -->\n",
      "<a name=\"eq:firstv\"/>\n",
      "\n",
      "$$\n",
      "\\begin{equation}\n",
      "\t\\hat{V} = \\sum_{i=1}^N \\hat{u}_{\\mathrm{ext}}(x_i) + \\sum_{ji=1}^N v(x_i,x_j)+\\sum_{ijk=1}^Nv(x_i,x_j,x_k)+\\dots\n",
      "\\label{eq:firstv} \\tag{2}\n",
      "\\end{equation}\n",
      "$$"
     ]
    },
    {
     "cell_type": "markdown",
     "metadata": {},
     "source": [
      "Hereafter we use natural units, viz. $\\hbar=c=e=1$, with $e$ the elementary charge and $c$ the speed of light. This means that momenta and masses\n",
      "have dimension energy.\n",
      "\n",
      "\n",
      "\n",
      "\n",
      "### Definitions and notations\n",
      "The potential energy term due to the attraction of the nucleus defines the onebody field $u_i=u_{\\mathrm{ext}}(x_i)$ of Eq. [(2)](#FunctionalEPhi).\n",
      "We have moved this term into the $\\hat{H}_0$ part of the Hamiltonian, instead of keeping  it in $\\hat{V}$ as in  Eq. [(2)](#FunctionalEPhi).\n",
      "The reason is that we will hereafter treat $\\hat{H}_0$ as our non-interacting  Hamiltonian. For a many-body wavefunction $\\Phi_{\\lambda}$ defined by an  \n",
      "appropriate single-particle basis, we may solve exactly the non-interacting eigenvalue problem \n",
      "!bt \n",
      "\\[\n",
      "\\hat{H}_0\\Phi_{\\lambda}= w_{\\lambda}\\Phi_{\\lambda},\n",
      "\\]\n",
      "!et\n",
      "with $w_{\\lambda}$ being the non-interacting energy. This energy is defined by the sum over single-particle energies to be defined below.\n",
      "For atoms the single-particle energies could be the hydrogen-like single-particle energies corrected for the charge $Z$. For nuclei and quantum\n",
      "dots, these energies could be given by the harmonic oscillator in three and two dimensions, respectively.\n",
      "\n",
      "\n",
      "\n",
      "### Definitions and notations\n",
      "We will assume that the interacting part of the Hamiltonian\n",
      "can be approximated by a two-body interaction.\n",
      "This means that our Hamiltonian is written as"
     ]
    },
    {
     "cell_type": "markdown",
     "metadata": {},
     "source": [
      "<!-- Equation labels as ordinary links -->\n",
      "<a name=\"Hnuclei\"/>\n",
      "\n",
      "$$\n",
      "\\begin{equation}\n",
      "    \\hat{H} = \\hat{H}_0 + \\hat{H}_I \n",
      "    = \\sum_{i=1}^N \\hat{h}_0(x_i) + \\sum_{i < j}^N V(r_{ij}),\n",
      "\\label{Hnuclei} \\tag{3}\n",
      "\\end{equation}\n",
      "$$"
     ]
    },
    {
     "cell_type": "markdown",
     "metadata": {},
     "source": [
      "with"
     ]
    },
    {
     "cell_type": "markdown",
     "metadata": {},
     "source": [
      "<!-- Equation labels as ordinary links -->\n",
      "<a name=\"hinuclei\"/>\n",
      "\n",
      "$$\n",
      "\\begin{equation}\n",
      "  H_0=\\sum_{i=1}^N \\hat{h}_0(x_i) =  \\sum_{i=1}^N\\left(\\hat{t}(x_i) + \\hat{u}_{\\mathrm{ext}}(x_i)\\right).\n",
      "\\label{hinuclei} \\tag{4}\n",
      "\\end{equation}\n",
      "$$"
     ]
    },
    {
     "cell_type": "markdown",
     "metadata": {},
     "source": [
      "The onebody part $u_{\\mathrm{ext}}(x_i)$ is normally approximated by a harmonic oscillator potential or the Coulomb interaction an electron feels from the nucleus. However, other potentials are fully possible, such as \n",
      "one derived from the self-consistent solution of the Hartree-Fock equations.\n",
      "\n",
      "\n",
      "\n",
      "\n",
      "### Definitions and notations\n",
      "Our Hamiltonian is invariant under the permutation (interchange) of two particles. % (exercise here, prove it)\n",
      "Since we deal with fermions however, the total wave function is antisymmetric.\n",
      "Let $\\hat{P}$ be an operator which interchanges two particles.\n",
      "Due to the symmetries we have ascribed to our Hamiltonian, this operator commutes with the total Hamiltonian,\n",
      "!bt \n",
      "\\[\n",
      "[\\hat{H},\\hat{P}] = 0,\n",
      " \\]\n",
      "!et\n",
      "meaning that $\\Psi_{\\lambda}(x_1, x_2, \\dots , x_N)$ is an eigenfunction of \n",
      "$\\hat{P}$ as well, that is\n",
      "!bt \n",
      "\\[\n",
      "\\hat{P}_{ij}\\Psi_{\\lambda}(x_1, x_2, \\dots,x_i,\\dots,x_j,\\dots,x_N)=\n",
      "\\beta\\Psi_{\\lambda}(x_1, x_2, \\dots,x_i,\\dots,x_j,\\dots,x_N),\n",
      "\\]\n",
      "!et\n",
      "where $\\beta$ is the eigenvalue of $\\hat{P}$. We have introduced the suffix $ij$ in order to indicate that we permute particles $i$ and $j$.\n",
      "The Pauli principle tells us that the total wave function for a system of fermions\n",
      "has to be antisymmetric, resulting in the eigenvalue $\\beta = -1$.\n",
      "\n",
      "\n",
      "\n",
      "### Definitions and notations\n",
      "In our case we assume that  we can approximate the exact eigenfunction with a Slater determinant"
     ]
    },
    {
     "cell_type": "markdown",
     "metadata": {},
     "source": [
      "<!-- Equation labels as ordinary links -->\n",
      "<a name=\"eq:HartreeFockDet\"/>\n",
      "\n",
      "$$\n",
      "\\begin{equation}\n",
      "   \\Phi(x_1, x_2,\\dots ,x_N,\\alpha,\\beta,\\dots, \\sigma)=\\frac{1}{\\sqrt{N!}}\n",
      "\\left| \\begin{array}{ccccc} \\psi_{\\alpha}(x_1)& \\psi_{\\alpha}(x_2)& \\dots & \\dots & \\psi_{\\alpha}(x_N)\\\\\n",
      "                            \\psi_{\\beta}(x_1)&\\psi_{\\beta}(x_2)& \\dots & \\dots & \\psi_{\\beta}(x_N)\\\\  \n",
      "                            \\dots & \\dots & \\dots & \\dots & \\dots \\\\\n",
      "                            \\dots & \\dots & \\dots & \\dots & \\dots \\\\\n",
      "                     \\psi_{\\sigma}(x_1)&\\psi_{\\sigma}(x_2)& \\dots & \\dots & \\psi_{\\sigma}(x_N)\\end{array} \\right|, \\label{eq:HartreeFockDet} \\tag{5}\n",
      "\\end{equation}\n",
      "$$"
     ]
    },
    {
     "cell_type": "markdown",
     "metadata": {},
     "source": [
      "where  $x_i$  stand for the coordinates and spin values of a particle $i$ and $\\alpha,\\beta,\\dots, \\gamma$ \n",
      "are quantum numbers needed to describe remaining quantum numbers.\n",
      "\n",
      "\n",
      "\n",
      "### Definitions and notations\n",
      "The single-particle function $\\psi_{\\alpha}(x_i)$  are eigenfunctions of the onebody\n",
      "Hamiltonian $h_i$, that is\n",
      "!bt \n",
      "\\[\n",
      "\\hat{h}_0(x_i)=\\hat{t}(x_i) + \\hat{u}_{\\mathrm{ext}}(x_i),\n",
      "\\]\n",
      "!et\n",
      "with eigenvalues \n",
      "!bt \n",
      "\\[\n",
      "\\hat{h}_0(x_i) \\psi_{\\alpha}(x_i)=\\left(\\hat{t}(x_i) + \\hat{u}_{\\mathrm{ext}}(x_i)\\right)\\psi_{\\alpha}(x_i)=\\varepsilon_{\\alpha}\\psi_{\\alpha}(x_i).\n",
      "\\]\n",
      "!et\n",
      "The energies $\\varepsilon_{\\alpha}$ are the so-called non-interacting single-particle energies, or unperturbed energies. \n",
      "The total energy is in this case the sum over all  single-particle energies, if no two-body or more complicated\n",
      "many-body interactions are present.\n",
      "\n",
      "\n",
      "\n",
      "### Definitions and notations\n",
      "Let us denote the ground state energy by $E_0$. According to the\n",
      "variational principle we have"
     ]
    },
    {
     "cell_type": "markdown",
     "metadata": {},
     "source": [
      "$$\n",
      "E_0 \\le E[\\Phi] = \\int \\Phi^*\\hat{H}\\Phi d\\mathbf{\\tau}\n",
      "$$"
     ]
    },
    {
     "cell_type": "markdown",
     "metadata": {},
     "source": [
      "where $\\Phi$ is a trial function which we assume to be normalized"
     ]
    },
    {
     "cell_type": "markdown",
     "metadata": {},
     "source": [
      "$$\n",
      "\\int \\Phi^*\\Phi d\\mathbf{\\tau} = 1,\n",
      "$$"
     ]
    },
    {
     "cell_type": "markdown",
     "metadata": {},
     "source": [
      "where we have used the shorthand $d\\mathbf{\\tau}=d\\mathbf{r}_1d\\mathbf{r}_2\\dots d\\mathbf{r}_N$.\n",
      "\n",
      "\n",
      "\n",
      "### Definitions and notations\n",
      "In the Hartree-Fock method the trial function is the Slater\n",
      "determinant of Eq. [(5)](#FunctionalEPhi) which can be rewritten as"
     ]
    },
    {
     "cell_type": "markdown",
     "metadata": {},
     "source": [
      "$$\n",
      "\\Phi(x_1,x_2,\\dots,x_N,\\alpha,\\beta,\\dots,\\nu) = \\frac{1}{\\sqrt{N!}}\\sum_{P} (-)^P\\hat{P}\\psi_{\\alpha}(x_1)\n",
      "    \\psi_{\\beta}(x_2)\\dots\\psi_{\\nu}(x_N)=\\sqrt{N!}\\hat{A}\\Phi_H,\n",
      "$$"
     ]
    },
    {
     "cell_type": "markdown",
     "metadata": {},
     "source": [
      "where we have introduced the antisymmetrization operator $\\hat{A}$ defined by the \n",
      "summation over all possible permutations of two particles.\n",
      "\n",
      "\n",
      "\n",
      "### Definitions and notations\n",
      "It is defined as"
     ]
    },
    {
     "cell_type": "markdown",
     "metadata": {},
     "source": [
      "<!-- Equation labels as ordinary links -->\n",
      "<a name=\"antiSymmetryOperator\"/>\n",
      "\n",
      "$$\n",
      "\\begin{equation}\n",
      "  \\hat{A} = \\frac{1}{N!}\\sum_{p} (-)^p\\hat{P},\n",
      "\\label{antiSymmetryOperator} \\tag{6}\n",
      "\\end{equation}\n",
      "$$"
     ]
    },
    {
     "cell_type": "markdown",
     "metadata": {},
     "source": [
      "with $p$ standing for the number of permutations. We have introduced for later use the so-called\n",
      "Hartree-function, defined by the simple product of all possible single-particle functions"
     ]
    },
    {
     "cell_type": "markdown",
     "metadata": {},
     "source": [
      "$$\n",
      "\\Phi_H(x_1,x_2,\\dots,x_N,\\alpha,\\beta,\\dots,\\nu) =\n",
      "  \\psi_{\\alpha}(x_1)\n",
      "    \\psi_{\\beta}(x_2)\\dots\\psi_{\\nu}(x_N).\n",
      "$$"
     ]
    },
    {
     "cell_type": "markdown",
     "metadata": {},
     "source": [
      "### Definitions and notations\n",
      "Both $\\hat{H}_0$ and $\\hat{H}_I$ are invariant under all possible permutations of any two particles\n",
      "and hence commute with $\\hat{A}$"
     ]
    },
    {
     "cell_type": "markdown",
     "metadata": {},
     "source": [
      "<!-- Equation labels as ordinary links -->\n",
      "<a name=\"commutionAntiSym\"/>\n",
      "\n",
      "$$\n",
      "\\begin{equation}\n",
      "  [H_0,\\hat{A}] = [H_I,\\hat{A}] = 0. \\label{commutionAntiSym} \\tag{7}\n",
      "\\end{equation}\n",
      "$$"
     ]
    },
    {
     "cell_type": "markdown",
     "metadata": {},
     "source": [
      "Furthermore, $\\hat{A}$ satisfies"
     ]
    },
    {
     "cell_type": "markdown",
     "metadata": {},
     "source": [
      "<!-- Equation labels as ordinary links -->\n",
      "<a name=\"AntiSymSquared\"/>\n",
      "\n",
      "$$\n",
      "\\begin{equation}\n",
      "  \\hat{A}^2 = \\hat{A},  \\label{AntiSymSquared} \\tag{8}\n",
      "\\end{equation}\n",
      "$$"
     ]
    },
    {
     "cell_type": "markdown",
     "metadata": {},
     "source": [
      "since every permutation of the Slater\n",
      "determinant reproduces it.\n",
      "\n",
      "\n",
      "\n",
      "### Definitions and notations\n",
      "The expectation value of $\\hat{H}_0$"
     ]
    },
    {
     "cell_type": "markdown",
     "metadata": {},
     "source": [
      "$$\n",
      "\\int \\Phi^*\\hat{H}_0\\Phi d\\mathbf{\\tau} \n",
      "  = N! \\int \\Phi_H^*\\hat{A}\\hat{H}_0\\hat{A}\\Phi_H d\\mathbf{\\tau}\n",
      "$$"
     ]
    },
    {
     "cell_type": "markdown",
     "metadata": {},
     "source": [
      "is readily reduced to"
     ]
    },
    {
     "cell_type": "markdown",
     "metadata": {},
     "source": [
      "$$\n",
      "\\int \\Phi^*\\hat{H}_0\\Phi d\\mathbf{\\tau} \n",
      "  = N! \\int \\Phi_H^*\\hat{H}_0\\hat{A}\\Phi_H d\\mathbf{\\tau},\n",
      "$$"
     ]
    },
    {
     "cell_type": "markdown",
     "metadata": {},
     "source": [
      "where we have used Eqs. [(7)](#FunctionalEPhi) and\n",
      "[(8)](#FunctionalEPhi). The next step is to replace the antisymmetrization\n",
      "operator by its definition and to\n",
      "replace $\\hat{H}_0$ with the sum of one-body operators"
     ]
    },
    {
     "cell_type": "markdown",
     "metadata": {},
     "source": [
      "$$\n",
      "\\int \\Phi^*\\hat{H}_0\\Phi  d\\mathbf{\\tau}\n",
      "  = \\sum_{i=1}^N \\sum_{p} (-)^p\\int \n",
      "  \\Phi_H^*\\hat{h}_0\\hat{P}\\Phi_H d\\mathbf{\\tau}.\n",
      "$$"
     ]
    },
    {
     "cell_type": "markdown",
     "metadata": {},
     "source": [
      "### Definitions and notations\n",
      "The integral vanishes if two or more particles are permuted in only one\n",
      "of the Hartree-functions $\\Phi_H$ because the individual single-particle wave functions are\n",
      "orthogonal. We obtain then"
     ]
    },
    {
     "cell_type": "markdown",
     "metadata": {},
     "source": [
      "$$\n",
      "\\int \\Phi^*\\hat{H}_0\\Phi  d\\mathbf{\\tau}= \\sum_{i=1}^N \\int \\Phi_H^*\\hat{h}_0\\Phi_H  d\\mathbf{\\tau}.\n",
      "$$"
     ]
    },
    {
     "cell_type": "markdown",
     "metadata": {},
     "source": [
      "Orthogonality of the single-particle functions allows us to further simplify the integral, and we\n",
      "arrive at the following expression for the expectation values of the\n",
      "sum of one-body Hamiltonians"
     ]
    },
    {
     "cell_type": "markdown",
     "metadata": {},
     "source": [
      "<!-- Equation labels as ordinary links -->\n",
      "<a name=\"H1Expectation\"/>\n",
      "\n",
      "$$\n",
      "\\begin{equation}\n",
      "  \\int \\Phi^*\\hat{H}_0\\Phi  d\\mathbf{\\tau}\n",
      "  = \\sum_{\\mu=1}^N \\int \\psi_{\\mu}^*(\\mathbf{r})\\hat{h}_0\\psi_{\\mu}(\\mathbf{r})\n",
      "  d\\mathbf{r}.\n",
      "  \\label{H1Expectation} \\tag{9}\n",
      "\\end{equation}\n",
      "$$"
     ]
    },
    {
     "cell_type": "markdown",
     "metadata": {},
     "source": [
      "### Definitions and notations\n",
      "We introduce the following shorthand for the above integral"
     ]
    },
    {
     "cell_type": "markdown",
     "metadata": {},
     "source": [
      "$$\n",
      "\\langle \\mu | \\hat{h}_0 | \\mu \\rangle = \\int \\psi_{\\mu}^*(\\mathbf{r})\\hat{h}_0\\psi_{\\mu}(\\mathbf{r}),\n",
      "$$"
     ]
    },
    {
     "cell_type": "markdown",
     "metadata": {},
     "source": [
      "and rewrite Eq. [(9)](#FunctionalEPhi) as"
     ]
    },
    {
     "cell_type": "markdown",
     "metadata": {},
     "source": [
      "<!-- Equation labels as ordinary links -->\n",
      "<a name=\"H1Expectation1\"/>\n",
      "\n",
      "$$\n",
      "\\begin{equation}\n",
      "  \\int \\Phi^*\\hat{H}_0\\Phi  d\\mathbf{\\tau}\n",
      "  = \\sum_{\\mu=1}^N \\langle \\mu | \\hat{h}_0 | \\mu \\rangle.\n",
      "  \\label{H1Expectation1} \\tag{10}\n",
      "\\end{equation}\n",
      "$$"
     ]
    },
    {
     "cell_type": "markdown",
     "metadata": {},
     "source": [
      "### Definitions and notations\n",
      "The expectation value of the two-body part of the Hamiltonian is obtained in a\n",
      "similar manner. We have"
     ]
    },
    {
     "cell_type": "markdown",
     "metadata": {},
     "source": [
      "$$\n",
      "\\int \\Phi^*\\hat{H}_I\\Phi d\\mathbf{\\tau} \n",
      "  = N! \\int \\Phi_H^*\\hat{A}\\hat{H}_I\\hat{A}\\Phi_H d\\mathbf{\\tau},\n",
      "$$"
     ]
    },
    {
     "cell_type": "markdown",
     "metadata": {},
     "source": [
      "which reduces to"
     ]
    },
    {
     "cell_type": "markdown",
     "metadata": {},
     "source": [
      "$$\n",
      "\\int \\Phi^*\\hat{H}_I\\Phi d\\mathbf{\\tau} \n",
      "  = \\sum_{i\\le j=1}^N \\sum_{p} (-)^p\\int \n",
      "  \\Phi_H^*V(r_{ij})\\hat{P}\\Phi_H d\\mathbf{\\tau},\n",
      "$$"
     ]
    },
    {
     "cell_type": "markdown",
     "metadata": {},
     "source": [
      "by following the same arguments as for the one-body\n",
      "Hamiltonian.\n",
      "\n",
      "\n",
      "\n",
      "### Definitions and notations\n",
      "Because of the dependence on the inter-particle distance $r_{ij}$,  permutations of\n",
      "any two particles no longer vanish, and we get"
     ]
    },
    {
     "cell_type": "markdown",
     "metadata": {},
     "source": [
      "$$\n",
      "\\int \\Phi^*\\hat{H}_I\\Phi d\\mathbf{\\tau} \n",
      "  = \\sum_{i < j=1}^N \\int  \n",
      "  \\Phi_H^*V(r_{ij})(1-P_{ij})\\Phi_H d\\mathbf{\\tau}.\n",
      "$$"
     ]
    },
    {
     "cell_type": "markdown",
     "metadata": {},
     "source": [
      "where $P_{ij}$ is the permutation operator that interchanges\n",
      "particle $i$ and particle $j$. Again we use the assumption that the single-particle wave functions\n",
      "are orthogonal.\n",
      "\n",
      "\n",
      "\n",
      "\n",
      "### Definitions and notations\n",
      "We obtain"
     ]
    },
    {
     "cell_type": "markdown",
     "metadata": {},
     "source": [
      "<!-- Equation labels as ordinary links -->\n",
      "<a name=\"H2Expectation\"/>\n",
      "\n",
      "$$\n",
      "\\begin{equation}\n",
      "\\begin{split}\n",
      "  \\int \\Phi^*\\hat{H}_I\\Phi d\\mathbf{\\tau} \n",
      "  = \\frac{1}{2}\\sum_{\\mu=1}^N\\sum_{\\nu=1}^N\n",
      "    &\\left[ \\int \\psi_{\\mu}^*(x_i)\\psi_{\\nu}^*(x_j)V(r_{ij})\\psi_{\\mu}(x_i)\\psi_{\\nu}(x_j)\n",
      "    dx_ix_j \\right.\\\\\n",
      "  &\\left.\n",
      "  - \\int \\psi_{\\mu}^*(x_i)\\psi_{\\nu}^*(x_j)\n",
      "  V(r_{ij})\\psi_{\\nu}(x_i)\\psi_{\\mu}(x_j)\n",
      "  dx_ix_j\n",
      "  \\right]. \\label{H2Expectation} \\tag{11}\n",
      "\\end{split}\n",
      "\\end{equation}\n",
      "$$"
     ]
    },
    {
     "cell_type": "markdown",
     "metadata": {},
     "source": [
      "The first term is the so-called direct term. It is frequently also called the  Hartree term, \n",
      "while the second is due to the Pauli principle and is called\n",
      "the exchange term or just the Fock term.\n",
      "The factor  $1/2$ is introduced because we now run over\n",
      "all pairs twice.\n",
      "\n",
      "\n",
      "\n",
      "### Definitions and notations\n",
      "The last equation allows us to  introduce some further definitions.  \n",
      "The single-particle wave functions $\\psi_{\\mu}(x)$, defined by the quantum numbers $\\mu$ and $x$\n",
      "are defined as the overlap"
     ]
    },
    {
     "cell_type": "markdown",
     "metadata": {},
     "source": [
      "$$\n",
      "\\psi_{\\alpha}(x)  = \\langle x | \\alpha \\rangle .\n",
      "$$"
     ]
    },
    {
     "cell_type": "markdown",
     "metadata": {},
     "source": [
      "### Definitions and notations\n",
      "We introduce the following shorthands for the above two integrals"
     ]
    },
    {
     "cell_type": "markdown",
     "metadata": {},
     "source": [
      "$$\n",
      "\\langle \\mu\\nu|\\hat{v}|\\mu\\nu\\rangle =  \\int \\psi_{\\mu}^*(x_i)\\psi_{\\nu}^*(x_j)V(r_{ij})\\psi_{\\mu}(x_i)\\psi_{\\nu}(x_j)\n",
      "    dx_ix_j,\n",
      "$$"
     ]
    },
    {
     "cell_type": "markdown",
     "metadata": {},
     "source": [
      "and\n",
      "!bt \n",
      "\\[\n",
      "\\langle \\mu\\nu|\\hat{v}|\\nu\\mu\\rangle = \\int \\psi_{\\mu}^*(x_i)\\psi_{\\nu}^*(x_j)\n",
      "  V(r_{ij})\\psi_{\\nu}(x_i)\\psi_{\\mu}(x_j)\n",
      "  dx_ix_j.  \n",
      "\\]\n",
      "!et\n",
      "\n",
      "\n",
      "\n",
      "### Definitions and notations\n",
      "The direct and exchange matrix elements can be  brought together if we define the antisymmetrized matrix element"
     ]
    },
    {
     "cell_type": "markdown",
     "metadata": {},
     "source": [
      "$$\n",
      "\\langle \\mu\\nu|\\hat{v}|\\mu\\nu\\rangle_{\\mathrm{AS}}= \\langle \\mu\\nu|\\hat{v}|\\mu\\nu\\rangle-\\langle \\mu\\nu|\\hat{v}|\\nu\\mu\\rangle,\n",
      "$$"
     ]
    },
    {
     "cell_type": "markdown",
     "metadata": {},
     "source": [
      "or for a general matrix element"
     ]
    },
    {
     "cell_type": "markdown",
     "metadata": {},
     "source": [
      "$$\n",
      "\\langle \\mu\\nu|\\hat{v}|\\sigma\\tau\\rangle_{\\mathrm{AS}}= \\langle \\mu\\nu|\\hat{v}|\\sigma\\tau\\rangle-\\langle \\mu\\nu|\\hat{v}|\\tau\\sigma\\rangle.\n",
      "$$"
     ]
    },
    {
     "cell_type": "markdown",
     "metadata": {},
     "source": [
      "It has the symmetry property"
     ]
    },
    {
     "cell_type": "markdown",
     "metadata": {},
     "source": [
      "$$\n",
      "\\langle \\mu\\nu|\\hat{v}|\\sigma\\tau\\rangle_{\\mathrm{AS}}= -\\langle \\mu\\nu|\\hat{v}|\\tau\\sigma\\rangle_{\\mathrm{AS}}=-\\langle \\nu\\mu|\\hat{v}|\\sigma\\tau\\rangle_{\\mathrm{AS}}.\n",
      "$$"
     ]
    },
    {
     "cell_type": "markdown",
     "metadata": {},
     "source": [
      "### Definitions and notations\n",
      "The antisymmetric matrix element is also hermitian, implying"
     ]
    },
    {
     "cell_type": "markdown",
     "metadata": {},
     "source": [
      "$$\n",
      "\\langle \\mu\\nu|\\hat{v}|\\sigma\\tau\\rangle_{\\mathrm{AS}}= \\langle \\sigma\\tau|\\hat{v}|\\mu\\nu\\rangle_{\\mathrm{AS}}.\n",
      "$$"
     ]
    },
    {
     "cell_type": "markdown",
     "metadata": {},
     "source": [
      "With these notations we rewrite Eq. [(11)](#FunctionalEPhi) as"
     ]
    },
    {
     "cell_type": "markdown",
     "metadata": {},
     "source": [
      "<!-- Equation labels as ordinary links -->\n",
      "<a name=\"H2Expectation2\"/>\n",
      "\n",
      "$$\n",
      "\\begin{equation}\n",
      "  \\int \\Phi^*\\hat{H}_I\\Phi d\\mathbf{\\tau} \n",
      "  = \\frac{1}{2}\\sum_{\\mu=1}^N\\sum_{\\nu=1}^N \\langle \\mu\\nu|\\hat{v}|\\mu\\nu\\rangle_{\\mathrm{AS}}.\n",
      "\\label{H2Expectation2} \\tag{12}\n",
      "\\end{equation}\n",
      "$$"
     ]
    },
    {
     "cell_type": "markdown",
     "metadata": {},
     "source": [
      "### Definitions and notations\n",
      "Combining Eqs. [(10)](#FunctionalEPhi) and\n",
      "[(12)](#FunctionalEPhi) we obtain the energy functional"
     ]
    },
    {
     "cell_type": "markdown",
     "metadata": {},
     "source": [
      "<!-- Equation labels as ordinary links -->\n",
      "<a name=\"FunctionalEPhi\"/>\n",
      "\n",
      "$$\n",
      "\\begin{equation}\n",
      "  E[\\Phi] \n",
      "  = \\sum_{\\mu=1}^N \\langle \\mu | \\hat{h}_0 | \\mu \\rangle +\n",
      "  \\frac{1}{2}\\sum_{{\\mu}=1}^N\\sum_{{\\nu}=1}^N \\langle \\mu\\nu|\\hat{v}|\\mu\\nu\\rangle_{\\mathrm{AS}}.\n",
      "\\label{FunctionalEPhi} \\tag{13}\n",
      "\\end{equation}\n",
      "$$"
     ]
    },
    {
     "cell_type": "markdown",
     "metadata": {},
     "source": [
      "which we will use as our starting point for the Hartree-Fock calculations later in this course.\n",
      "\n",
      "\n",
      "\n",
      "### Exercises week 35\n",
      "**Exercise 1.**\n",
      "\n",
      "Consider the Slater determinant\n",
      "!bt \n",
      "\\[\n",
      "\\Phi_{\\lambda}^{AS}(x_{1}x_{2}\\dots x_{N};\\alpha_{1}\\alpha_{2}\\dots\\alpha_{N})\n",
      "=\\frac{1}{\\sqrt{N!}}\\sum_{p}(-)^{p}P\\prod_{i=1}^{N}\\psi_{\\alpha_{i}}(x_{i}).\n",
      "\\]\n",
      "!et\n",
      "where $P$ is an operator which permutes the coordinates of two particles. We have assumed here that the \n",
      "number of particles is the same as the number of available single-particle states, represented by the\n",
      "greek letters $\\alpha_{1}\\alpha_{2}\\dots\\alpha_{N}$.\n",
      "* Write  out $\\Phi^{AS}$ for $N=3$.  \n",
      "\n",
      "* Show that"
     ]
    },
    {
     "cell_type": "markdown",
     "metadata": {},
     "source": [
      "$$\n",
      "\\int dx_{1}dx_{2}\\dots dx_{N}\\left\\vert\n",
      "\\Phi_{\\lambda}^{AS}(x_{1}x_{2}\\dots x_{N};\\alpha_{1}\\alpha_{2}\\dots\\alpha_{N})\n",
      "\\right\\vert^{2} = 1.\n",
      "$$"
     ]
    },
    {
     "cell_type": "markdown",
     "metadata": {},
     "source": [
      "* Define a general onebody operator $\\hat{F} = \\sum_{i}^N\\hat{f}(x_{i})$ and a general \n",
      "\n",
      "twobody operator $\\hat{G}=\\sum_{i>j}^N\\hat{g}(x_{i},x_{j})$\n",
      "with $g$ being invariant under the interchange of the coordinates of particles $i$ and $j$.\n",
      "Calculate the matrix elements for a two-particle Slater determinant"
     ]
    },
    {
     "cell_type": "markdown",
     "metadata": {},
     "source": [
      "$$\n",
      "\\langle\\Phi_{\\alpha_{1}\\alpha_{2}}^{AS}|\\hat{F}|\\Phi_{\\alpha_{1}\\alpha_{2}}^{AS} \\rangle,\n",
      "$$"
     ]
    },
    {
     "cell_type": "markdown",
     "metadata": {},
     "source": [
      "and"
     ]
    },
    {
     "cell_type": "markdown",
     "metadata": {},
     "source": [
      "$$\n",
      "\\langle \\Phi_{\\alpha_{1}\\alpha_{2}}^{AS}|\\hat{G}|\\Phi_{\\alpha_{1}\\alpha_{2}}^{AS}\\rangle.\n",
      "$$"
     ]
    },
    {
     "cell_type": "markdown",
     "metadata": {},
     "source": [
      "Explain the short-hand notation for the Slater determinant.\n",
      "Which properties do you expect these operators to have in addition to an eventual permutation\n",
      "symmetry?\n",
      "* Compute the corresponding matrix elements for $N$ particles which can occupy $N$ single particle states.\n",
      "\n",
      "\n",
      "\n",
      "\n",
      "### Exercises week 35\n",
      "**Exercise 2.**\n",
      "\n",
      "We will now consider a simple three-level problem, depicted in the figure below. \n",
      "The single-particle states are labelled by the quantum number $p$ and can accomodate up to two single particles, \n",
      "viz., every single-particle state \n",
      "is doubly degenerate (you could think of this as one state having spin up and the other spin down). \n",
      "We let the spacing between the doubly degenerate single-particle states be constant, with value $d$.  The first state\n",
      "has energy $d$. There are only three available single-particle states, $p=1$, $p=2$ and $p=3$, as illustrated\n",
      "in the figure. \n",
      "* How many two-particle Slater determinants can we construct in this space? \n",
      "\n",
      "* We limit ourselves to a system with only the two lowest single-particle orbits and two particles, $p=1$ and $p=2$.\n",
      "\n",
      "We assume that we can write the Hamiltonian as"
     ]
    },
    {
     "cell_type": "markdown",
     "metadata": {},
     "source": [
      "$$\n",
      "\\hat{H}=\\hat{H}_0+\\hat{H}_I,\n",
      "$$"
     ]
    },
    {
     "cell_type": "markdown",
     "metadata": {},
     "source": [
      "and that the onebody part of the Hamiltonian with single-particle operator $\\hat{h}_0$ has the property"
     ]
    },
    {
     "cell_type": "markdown",
     "metadata": {},
     "source": [
      "$$\n",
      "\\hat{h}_0\\psi_{p\\sigma} = p\\times d \\psi_{p\\sigma},\n",
      "$$"
     ]
    },
    {
     "cell_type": "markdown",
     "metadata": {},
     "source": [
      "where we have added a spin quantum number $\\sigma$. \n",
      "We assume also that the only two-particle states that can exist are those where two particles are in the \n",
      "same state $p$, as shown by the two possibilities to the left in the figure.\n",
      "The two-particle matrix elements of $\\hat{H}_I$ have all a constant value, $-g$.\n",
      "Show then that the Hamiltonian matrix can be written as"
     ]
    },
    {
     "cell_type": "markdown",
     "metadata": {},
     "source": [
      "$$\n",
      "\\left(\\begin{array}{cc}2d-g &-g \\\\\n",
      "-g &4d-g \\end{array}\\right),\n",
      "$$"
     ]
    },
    {
     "cell_type": "markdown",
     "metadata": {},
     "source": [
      "and find the eigenvalues and eigenvectors.  What is mixing of the state with two particles in $p=2$ \n",
      "to the wave function with two-particles in $p=1$? Discuss your results in terms of a linear combination\n",
      "of Slater determinants. \n",
      "* Add the possibility that the two particles can be in the state with $p=3$ as well and find the Hamiltonian\n",
      "\n",
      "matrix, the eigenvalues and the eigenvectors. We still insist that we only have two-particle states composed of two particles being in the same\n",
      "level $p$. You can diagonalize numerically your $3\\times 3$ matrix.\n",
      "\n",
      "This simple model catches several birds with a stone. It demonstrates how we can build linear combinations\n",
      "of Slater determinants and interpret these as different admixtures to a given state. It represents also the way we are going to interpret these contributions.  The two-particle states above $p=1$ will be interpreted as \n",
      "excitations from the ground state configuration, $p=1$ here.  The reliability of this ansatz for the ground state, \n",
      "with two particles in $p=1$,\n",
      "depends on the strength of the interaction $g$ and the single-particle spacing $d$.\n",
      "Finally, this model is a simple schematic ansatz for studies of pairing correlations and thereby superfluidity/superconductivity  \n",
      "in fermionic systems.\n",
      "\n",
      "\n",
      "\n",
      "### Python code for solving exercise 2"
     ]
    },
    {
     "cell_type": "code",
     "collapsed": false,
     "input": [
      "from numpy import *\n",
      "from numpy.linalg import eig\n",
      "from pylab import *\n",
      "from matplotlib import rc, rcParams\n",
      "import matplotlib.units as units\n",
      "import matplotlib.ticker as ticker\n",
      "import sys\n",
      "import os\n",
      "# set tickers etc\n",
      "rc('text',usetex=True)\n",
      "rc('font',**{'family':'serif','serif':['Energies']})\n",
      "title(r'{\\bf Energies}', fontsize=20)     \n",
      "\n",
      "\n",
      "def exercise2(g):\n",
      "    z = ones((3,3), dtype = float)*-.5*g\n",
      "    z[0,0] = 2-g\n",
      "    z[1,1] = 4-g\n",
      "    z[2,2] = 6-g\n",
      "    n1 = range(3)\n",
      "    n2 = range(3)\n",
      "    n2.reverse()\n",
      "    z[n2, n1] = 0\n",
      "    return z\n",
      "print exercise2(1)\n",
      "\n",
      "N = 1000\n",
      "Z = zeros((N,3), dtype = float)\n",
      "G = linspace(1,10,N)\n",
      "for i in range(N):\n",
      "    Z[i] = eig(exercise2(G[i]))[0]\n",
      "\n",
      "plot(G,Z[:,0])\n",
      "\n",
      "#Z2 = zeros((N,5), dtype = float)\n",
      "#for i in range(N):\n",
      "#    Z2[i] = eig(exercise2(G[i])[0:2,0:2])[0]\n",
      "#plot(G,Z)\n",
      "\n",
      "savefig('exercise2.pdf', format='pdf')\n",
      "# Draw the plot to screen\n",
      "show()\n"
     ],
     "language": "python",
     "metadata": {},
     "outputs": [],
     "prompt_number": 1
    }
   ],
   "metadata": {}
  }
 ]
}