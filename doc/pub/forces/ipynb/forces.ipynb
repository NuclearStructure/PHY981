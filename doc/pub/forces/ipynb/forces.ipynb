{
 "metadata": {},
 "nbformat": 3,
 "nbformat_minor": 0,
 "worksheets": [
  {
   "cells": [
    {
     "cell_type": "markdown",
     "metadata": {},
     "source": [
      "<!-- Slides for PHY981 -->\n",
      "# Quantum numbers and nuclear forces\n",
      "**Spring 2015**\n",
      "\n",
      "### Quantum numbers and nuclear forces\n",
      "**Outline.**\n",
      "\n",
      "* Discussion of single-particle and two-particle quantum numbers, uncoupled and coupled schemes\n",
      "\n",
      "* Discussion of nuclear forces and models thereof (this material will not be covered in depth this spring)\n",
      "\n",
      "For quantum numbers, chapter 1 on angular momentum and chapter 5 of Suhonen.\n",
      "See also chapters 5, 12 and 13 of Alex Brown. For models of the nuclear forces, see present lectures and pdf files.\n",
      "For a good discussion of isospin, see Alex Brown's lecture notes chapter 12, 13 and 19.\n",
      "\n",
      "\n",
      "\n",
      "\n",
      "\n",
      "### Single-particle and two-particle quantum numbers\n",
      "In order to understand the basics of the nucleon-nucleon interaction, we need to define the relevant quantum numbers and how we build up a single-particle state and a two-body state. \n",
      "\n",
      "* For the single-particle states, due to the fact that we have the spin-orbit force, the quantum numbers for the projection of orbital momentum $l$, that is $m_l$, and for spin $s$, that is $m_s$, are no longer so-called good quantum numbers. The total angular momentum $j$ and its projection $m_j$ are then  so-called *good quantum numbers*.\n",
      "\n",
      "* This means that the operator $\\hat{J}^2$ does not commute with $\\hat{L}_z$  or $\\hat{S}_z$.  \n",
      "\n",
      "* We also start normally with single-particle state functions defined using say the harmonic oscillator. For these functions, we have no explicit dependence on $j$. How can we introduce single-particle wave functions which have $j$ and its projection $m_j$ as quantum numbers?\n",
      "\n",
      "\n",
      "\n",
      "\n",
      "### Single-particle and two-particle quantum numbers, brief review on angular momenta etc\n",
      "\n",
      "We have that the operators for the orbital momentum are given by"
     ]
    },
    {
     "cell_type": "markdown",
     "metadata": {},
     "source": [
      "0\n",
      " \n",
      "<\n",
      "<\n",
      "<\n",
      "!\n",
      "!\n",
      "M\n",
      "A\n",
      "T\n",
      "H\n",
      "_\n",
      "B\n",
      "L\n",
      "O\n",
      "C\n",
      "K"
     ]
    },
    {
     "cell_type": "markdown",
     "metadata": {},
     "source": [
      "1\n",
      " \n",
      "<\n",
      "<\n",
      "<\n",
      "!\n",
      "!\n",
      "M\n",
      "A\n",
      "T\n",
      "H\n",
      "_\n",
      "B\n",
      "L\n",
      "O\n",
      "C\n",
      "K"
     ]
    },
    {
     "cell_type": "markdown",
     "metadata": {},
     "source": [
      "$$\n",
      "L_z=-i\\hbar(x\\frac{\\partial }{\\partial y}-y\\frac{\\partial }{\\partial x})=xp_y-yp_x.\n",
      "$$"
     ]
    },
    {
     "cell_type": "markdown",
     "metadata": {},
     "source": [
      "### Single-particle and two-particle quantum numbers, brief review on angular momenta etc\n",
      "Since we have a spin orbit force which is strong, it is easy to show that \n",
      "the total angular momentum operator"
     ]
    },
    {
     "cell_type": "markdown",
     "metadata": {},
     "source": [
      "$$\n",
      "\\hat{J}=\\hat{L}+\\hat{S}\n",
      "$$"
     ]
    },
    {
     "cell_type": "markdown",
     "metadata": {},
     "source": [
      "does not commute with $\\hat{L}_z$ and $\\hat{S}_z$. To see this, we calculate for example"
     ]
    },
    {
     "cell_type": "markdown",
     "metadata": {},
     "source": [
      "$$\n",
      "\\begin{eqnarray} \n",
      "   [\\hat{L}_z,\\hat{J}^2]&=&[\\hat{L}_z,(\\hat{L}+\\hat{S})^2] \\\\ \\nonumber\n",
      "   &=&[\\hat{L}_z,\\hat{L}^2+\\hat{S}^2+2\\hat{L}\\hat{S}]\\\\ \\nonumber \n",
      "   &=& [\\hat{L}_z,\\hat{L}\\hat{S}]=[\\hat{L}_z,\\hat{L}_x\\hat{S}_x+\\hat{L}_y\\hat{S}_y+\\hat{L}_z\\hat{S}_z]\\ne 0, \n",
      "\\end{eqnarray}\n",
      "$$"
     ]
    },
    {
     "cell_type": "markdown",
     "metadata": {},
     "source": [
      "since we have that $[\\hat{L}_z,\\hat{L}_x]=i\\hbar\\hat{L}_y$ and $[\\hat{L}_z,\\hat{L}_y]=i\\hbar\\hat{L}_x$.\n",
      "\n",
      "\n",
      "\n",
      "### Single-particle and two-particle quantum numbers, brief review on angular momenta etc\n",
      "We have also"
     ]
    },
    {
     "cell_type": "markdown",
     "metadata": {},
     "source": [
      "$$\n",
      "|\\hat{J}|=\\hbar\\sqrt{J(J+1)},\n",
      "$$"
     ]
    },
    {
     "cell_type": "markdown",
     "metadata": {},
     "source": [
      "with the the following degeneracy"
     ]
    },
    {
     "cell_type": "markdown",
     "metadata": {},
     "source": [
      "$$\n",
      "M_J=-J, -J+1, \\dots, J-1, J.\n",
      "$$"
     ]
    },
    {
     "cell_type": "markdown",
     "metadata": {},
     "source": [
      "With a given value of  $L$ and $S$ we can then determine the possible values of \n",
      " $J$ by studying the $z$ component of  $\\hat{J}$. \n",
      "It is given by"
     ]
    },
    {
     "cell_type": "markdown",
     "metadata": {},
     "source": [
      "$$\n",
      "\\hat{J}_z=\\hat{L}_z+\\hat{S}_z.\n",
      "$$"
     ]
    },
    {
     "cell_type": "markdown",
     "metadata": {},
     "source": [
      "The operators $\\hat{L}_z$ and $\\hat{S}_z$ have the quantum numbers\n",
      "$L_z=M_L\\hbar$ and $S_z=M_S\\hbar$, respectively, meaning that"
     ]
    },
    {
     "cell_type": "markdown",
     "metadata": {},
     "source": [
      "$$\n",
      "M_J\\hbar=M_L\\hbar +M_S\\hbar,\n",
      "$$"
     ]
    },
    {
     "cell_type": "markdown",
     "metadata": {},
     "source": [
      "or"
     ]
    },
    {
     "cell_type": "markdown",
     "metadata": {},
     "source": [
      "$$\n",
      "M_J=M_L +M_S.\n",
      "$$"
     ]
    },
    {
     "cell_type": "markdown",
     "metadata": {},
     "source": [
      "Since the max value of  $M_L$ is $L$ and for  $M_S$ is $S$\n",
      "we obtain"
     ]
    },
    {
     "cell_type": "markdown",
     "metadata": {},
     "source": [
      "$$\n",
      "(M_J)_{\\mathrm{maks}}=L+S.\n",
      "$$"
     ]
    },
    {
     "cell_type": "markdown",
     "metadata": {},
     "source": [
      "### Single-particle and two-particle quantum numbers, brief review on angular momenta etc\n",
      "For nucleons we have that the maximum value of $M_S=m_s=1/2$, yielding"
     ]
    },
    {
     "cell_type": "markdown",
     "metadata": {},
     "source": [
      "$$\n",
      "(m_j)_{\\mathrm{max}}=l+\\frac{1}{2}.\n",
      "$$"
     ]
    },
    {
     "cell_type": "markdown",
     "metadata": {},
     "source": [
      "Using this and the fact that the maximum value of  $M_J=m_j$ is $j$ we have"
     ]
    },
    {
     "cell_type": "markdown",
     "metadata": {},
     "source": [
      "$$\n",
      "j=l+\\frac{1}{2}, l-\\frac{1}{2}, l-\\frac{3}{2}, l-\\frac{5}{2}, \\dots\n",
      "$$"
     ]
    },
    {
     "cell_type": "markdown",
     "metadata": {},
     "source": [
      "To decide where this series terminates, we use the vector inequality"
     ]
    },
    {
     "cell_type": "markdown",
     "metadata": {},
     "source": [
      "$$\n",
      "|\\hat{L}+\\hat{S}| \\ge \\left| |\\hat{L}|-|\\hat{S}|\\right|.\n",
      "$$"
     ]
    },
    {
     "cell_type": "markdown",
     "metadata": {},
     "source": [
      "### Single-particle and two-particle quantum numbers, brief review on angular momenta etc\n",
      "Using $\\hat{J}=\\hat{L}+\\hat{S}$ we get"
     ]
    },
    {
     "cell_type": "markdown",
     "metadata": {},
     "source": [
      "$$\n",
      "|\\hat{J}| \\ge |\\hat{L}|-|\\hat{S}|,\n",
      "$$"
     ]
    },
    {
     "cell_type": "markdown",
     "metadata": {},
     "source": [
      "or"
     ]
    },
    {
     "cell_type": "markdown",
     "metadata": {},
     "source": [
      "$$\n",
      "|\\hat{J}|=\\hbar\\sqrt{J(J+1)}\\ge |\\hbar\\sqrt{L(L+1)}-\n",
      "   \\hbar\\sqrt{S(S+1)}|.\n",
      "$$"
     ]
    },
    {
     "cell_type": "markdown",
     "metadata": {},
     "source": [
      "### Single-particle and two-particle quantum numbers, brief review on angular momenta etc\n",
      "If we limit ourselves to nucleons only with $s=1/2$ we find that"
     ]
    },
    {
     "cell_type": "markdown",
     "metadata": {},
     "source": [
      "$$\n",
      "|\\hat{J}|=\\hbar\\sqrt{j(j+1)}\\ge |\\hbar\\sqrt{l(l+1)}-\n",
      "   \\hbar\\sqrt{\\frac{1}{2}(\\frac{1}{2}+1)}|.\n",
      "$$"
     ]
    },
    {
     "cell_type": "markdown",
     "metadata": {},
     "source": [
      "It is then easy to show that for nucleons there are only two possible values of\n",
      "$j$ which satisfy the inequality, namely"
     ]
    },
    {
     "cell_type": "markdown",
     "metadata": {},
     "source": [
      "$$\n",
      "j=l+\\frac{1}{2}\\hspace{0.1cm} \\mathrm{or} \\hspace{0.1cm}j=l-\\frac{1}{2},\n",
      "$$"
     ]
    },
    {
     "cell_type": "markdown",
     "metadata": {},
     "source": [
      "and with $l=0$ we get"
     ]
    },
    {
     "cell_type": "markdown",
     "metadata": {},
     "source": [
      "$$\n",
      "j=\\frac{1}{2}.\n",
      "$$"
     ]
    },
    {
     "cell_type": "markdown",
     "metadata": {},
     "source": [
      "### Single-particle and two-particle quantum numbers, brief review on angular momenta etc\n",
      "Let us study some selected examples. We need also to keep in mind that parity is conserved.\n",
      "The strong and electromagnetic Hamiltonians conserve parity. Thus the eigenstates can be\n",
      "broken down into two classes of states labeled by their parity $\\pi= +1$ or $\\pi=-1$.\n",
      "The nuclear interactions do not mix states with different parity.\n",
      "\n",
      "For nuclear structure the total parity originates\n",
      "from the intrinsic parity of the nucleon which is $\\pi_{\\mathrm{intrinsic}}=+1$ \n",
      "and the parities associated with\n",
      "the orbital angular momenta $\\pi_l=(-1)^l$ . The total parity is the product over all nucleons\n",
      "$\\pi = \\prod_i \\pi_{\\mathrm{intrinsic}}(i)\\pi_l(i) = \\prod_i (-1)^{l_i}$\n",
      "\n",
      "The basis states we deal with are constructed so that they conserve parity and have thus a definite parity. \n",
      "\n",
      "Note that we do have parity violating processes, more on this later although our focus will be mainly on non-parity viloating processes\n",
      "\n",
      "\n",
      "\n",
      "\n",
      "### Single-particle and two-particle quantum numbers\n",
      "\n",
      "Consider now the single-particle orbits of the $1s0d$ shell. \n",
      "For a $0d$ state we have the quantum numbers $l=2$, $m_l=-2,-1,0,1,2$, $s+1/2$, $m_s=\\pm 1/2$,\n",
      "$n=0$ (the number of nodes of the wave function).   This means that we have positive parity and"
     ]
    },
    {
     "cell_type": "markdown",
     "metadata": {},
     "source": [
      "$$\n",
      "j=\\frac{3}{2}=l-s\\hspace{1cm} m_j=-\\frac{3}{2},-\\frac{1}{2},\\frac{1}{2},\\frac{3}{2}.\n",
      "$$"
     ]
    },
    {
     "cell_type": "markdown",
     "metadata": {},
     "source": [
      "and"
     ]
    },
    {
     "cell_type": "markdown",
     "metadata": {},
     "source": [
      "$$\n",
      "j=\\frac{5}{2}=l+s\\hspace{1cm} m_j=-\\frac{5}{2},-\\frac{3}{2},-\\frac{1}{2},\\frac{1}{2},\\frac{3}{2},\\frac{5}{2}.\n",
      "$$"
     ]
    },
    {
     "cell_type": "markdown",
     "metadata": {},
     "source": [
      "### Single-particle and two-particle quantum numbers\n",
      "Our single-particle wave functions, if we use the harmonic oscillator, do however not contain the quantum numbers $j$ and $m_j$.\n",
      "Normally what we have is an eigenfunction for the one-body problem defined as"
     ]
    },
    {
     "cell_type": "markdown",
     "metadata": {},
     "source": [
      "$$\n",
      "\\phi_{nlm_lsm_s}(r,\\theta,\\phi)=R_{nl}(r)Y_{lm_l}(\\theta,\\phi)\\xi_{sm_s},\n",
      "$$"
     ]
    },
    {
     "cell_type": "markdown",
     "metadata": {},
     "source": [
      "where we have used spherical coordinates (with a spherically symmetric potential) and the spherical harmonics"
     ]
    },
    {
     "cell_type": "markdown",
     "metadata": {},
     "source": [
      "$$\n",
      "Y_{lm_l}(\\theta,\\phi)=P(\\theta)F(\\phi)=\\sqrt{\\frac{(2l+1)(l-m_l)!}{4\\pi (l+m_l)!}}\n",
      "                      P_l^{m_l}(cos(\\theta))\\exp{(im_l\\phi)},\n",
      "$$"
     ]
    },
    {
     "cell_type": "markdown",
     "metadata": {},
     "source": [
      "with $P_l^{m_l}$ being the so-called associated Legendre polynomials.\n",
      "\n",
      "\n",
      "\n",
      "\n",
      "\n",
      "### Single-particle and two-particle quantum numbers\n",
      "Examples are"
     ]
    },
    {
     "cell_type": "markdown",
     "metadata": {},
     "source": [
      "$$\n",
      "Y_{00}=\\sqrt{\\frac{1}{4\\pi}},\n",
      "$$"
     ]
    },
    {
     "cell_type": "markdown",
     "metadata": {},
     "source": [
      "for $l=m_l=0$,"
     ]
    },
    {
     "cell_type": "markdown",
     "metadata": {},
     "source": [
      "$$\n",
      "Y_{10}=\\sqrt{\\frac{3}{4\\pi}}cos(\\theta),\n",
      "$$"
     ]
    },
    {
     "cell_type": "markdown",
     "metadata": {},
     "source": [
      "for $l=1$ and $m_l=0$,"
     ]
    },
    {
     "cell_type": "markdown",
     "metadata": {},
     "source": [
      "$$\n",
      "Y_{1\\pm 1}=\\sqrt{\\frac{3}{8\\pi}}sin(\\theta)exp(\\pm i\\phi),\n",
      "$$"
     ]
    },
    {
     "cell_type": "markdown",
     "metadata": {},
     "source": [
      "for  $l=1$ and $m_l=\\pm 1$,"
     ]
    },
    {
     "cell_type": "markdown",
     "metadata": {},
     "source": [
      "$$\n",
      "Y_{20}=\\sqrt{\\frac{5}{16\\pi}}(3cos^2(\\theta)-1)\n",
      "$$"
     ]
    },
    {
     "cell_type": "markdown",
     "metadata": {},
     "source": [
      "for $l=2$ and $m_l=0$ etc.\n",
      "\n",
      "\n",
      "\n",
      "\n",
      "\n",
      "\n",
      "### Single-particle and two-particle quantum numbers\n",
      "How can we get a function in terms of $j$ and $m_j$?\n",
      "Define now"
     ]
    },
    {
     "cell_type": "markdown",
     "metadata": {},
     "source": [
      "$$\n",
      "\\phi_{nlm_lsm_s}(r,\\theta,\\phi)=R_{nl}(r)Y_{lm_l}(\\theta,\\phi)\\xi_{sm_s},\n",
      "$$"
     ]
    },
    {
     "cell_type": "markdown",
     "metadata": {},
     "source": [
      "and"
     ]
    },
    {
     "cell_type": "markdown",
     "metadata": {},
     "source": [
      "$$\n",
      "\\psi_{njm_j;lm_lsm_s}(r,\\theta,\\phi),\n",
      "$$"
     ]
    },
    {
     "cell_type": "markdown",
     "metadata": {},
     "source": [
      "as the state with quantum numbers $jm_j$.\n",
      "Operating with"
     ]
    },
    {
     "cell_type": "markdown",
     "metadata": {},
     "source": [
      "$$\n",
      "\\hat{j}^2=(\\hat{l}+\\hat{s})^2=\\hat{l}^2+\\hat{s}^2+2\\hat{l}_z\\hat{s}_z+\\hat{l}_+\\hat{s}_{-}+\\hat{l}_{-}\\hat{s}_{+},\n",
      "$$"
     ]
    },
    {
     "cell_type": "markdown",
     "metadata": {},
     "source": [
      "on the latter state we will obtain admixtures from possible $\\phi_{nlm_lsm_s}(r,\\theta,\\phi)$ states.\n",
      "\n",
      "\n",
      "\n",
      "\n",
      "### Single-particle and two-particle quantum numbers\n",
      "To see this, we consider the following example and fix"
     ]
    },
    {
     "cell_type": "markdown",
     "metadata": {},
     "source": [
      "$$\n",
      "j=\\frac{3}{2}=l-s\\hspace{1cm} m_j=\\frac{3}{2}.\n",
      "$$"
     ]
    },
    {
     "cell_type": "markdown",
     "metadata": {},
     "source": [
      "and"
     ]
    },
    {
     "cell_type": "markdown",
     "metadata": {},
     "source": [
      "$$\n",
      "j=\\frac{5}{2}=l+s\\hspace{1cm} m_j=\\frac{3}{2}.\n",
      "$$"
     ]
    },
    {
     "cell_type": "markdown",
     "metadata": {},
     "source": [
      "It means we can have, with $l=2$ and $s=1/2$ being fixed, in order to have $m_j=3/2$ either $m_l=1$ and $m_s=1/2$ or\n",
      "$m_l=2$ and $m_s=-1/2$. The two states"
     ]
    },
    {
     "cell_type": "markdown",
     "metadata": {},
     "source": [
      "$$\n",
      "\\psi_{n=0j=5/2m_j=3/2;l=2s=1/2}\n",
      "$$"
     ]
    },
    {
     "cell_type": "markdown",
     "metadata": {},
     "source": [
      "and"
     ]
    },
    {
     "cell_type": "markdown",
     "metadata": {},
     "source": [
      "$$\n",
      "\\psi_{n=0j=3/2m_j=3/2;l=2s=1/2}\n",
      "$$"
     ]
    },
    {
     "cell_type": "markdown",
     "metadata": {},
     "source": [
      "will have admixtures from $\\phi_{n=0l=2m_l=2s=1/2m_s=-1/2}$ and $\\phi_{n=0l=2m_l=1s=1/2m_s=1/2}$. \n",
      "How do we find these admixtures? Note that we don't specify the values of $m_l$ and $m_s$ \n",
      "in the functions $\\psi$ since    \n",
      "$\\hat{j}^2$ does not commute with $\\hat{L}_z$ and $\\hat{S}_z$.\n",
      "\n",
      "\n",
      "\n",
      "### Single-particle and two-particle quantum numbers\n",
      "We operate with"
     ]
    },
    {
     "cell_type": "markdown",
     "metadata": {},
     "source": [
      "$$\n",
      "\\hat{j}^2=(\\hat{l}+\\hat{s})^2=\\hat{l}^2+\\hat{s}^2+2\\hat{l}_z\\hat{s}_z+\\hat{l}_+\\hat{s}_{-}+\\hat{l}_{-}\\hat{s}_{+}\n",
      "$$"
     ]
    },
    {
     "cell_type": "markdown",
     "metadata": {},
     "source": [
      "on the two $jm_j$ states, that is"
     ]
    },
    {
     "cell_type": "markdown",
     "metadata": {},
     "source": [
      "3\n",
      "5\n",
      " \n",
      "<\n",
      "<\n",
      "<\n",
      "!\n",
      "!\n",
      "M\n",
      "A\n",
      "T\n",
      "H\n",
      "_\n",
      "B\n",
      "L\n",
      "O\n",
      "C\n",
      "K"
     ]
    },
    {
     "cell_type": "markdown",
     "metadata": {},
     "source": [
      "$$\n",
      "\\beta\\hbar^2\\sqrt{l(l+1)-m_l(m_l-1)}\\phi_{n=0l=2m_l=1s=1/2m_s=1/2},\n",
      "$$"
     ]
    },
    {
     "cell_type": "markdown",
     "metadata": {},
     "source": [
      "and"
     ]
    },
    {
     "cell_type": "markdown",
     "metadata": {},
     "source": [
      "3\n",
      "7\n",
      " \n",
      "<\n",
      "<\n",
      "<\n",
      "!\n",
      "!\n",
      "M\n",
      "A\n",
      "T\n",
      "H\n",
      "_\n",
      "B\n",
      "L\n",
      "O\n",
      "C\n",
      "K"
     ]
    },
    {
     "cell_type": "markdown",
     "metadata": {},
     "source": [
      "$$\n",
      "\\beta\\hbar^2\\sqrt{l(l+1)-m_l(m_l+1)}\\phi_{n=0l=2m_l=2s=1/2m_s=-1/2}.\n",
      "$$"
     ]
    },
    {
     "cell_type": "markdown",
     "metadata": {},
     "source": [
      "### Single-particle and two-particle quantum numbers\n",
      "This means that the eigenvectors $\\phi_{n=0l=2m_l=2s=1/2m_s=-1/2}$ etc are not eigenvectors of $\\hat{j}^2$. The above problems gives a $2\\times2$ matrix that mixes the vectors $\\psi_{n=0j=5/2m_j3/2;l=2m_ls=1/2m_s}$ and $\\psi_{n=0j=3/2m_j3/2;l=2m_ls=1/2m_s}$ with the states  $\\phi_{n=0l=2m_l=2s=1/2m_s=-1/2}$ and\n",
      "$\\phi_{n=0l=2m_l=1s=1/2m_s=1/2}$. The unknown coefficients $\\alpha$ and $\\beta$ results from eigenvectors of this matrix. That is, inserting all values $m_l,l,m_s,s$ we obtain the matrix"
     ]
    },
    {
     "cell_type": "markdown",
     "metadata": {},
     "source": [
      "$$\n",
      "\\left[ \\begin{array} {cc} 19/4 & 2 \\\\ 2 & 31/4 \\end{array} \\right]\n",
      "$$"
     ]
    },
    {
     "cell_type": "markdown",
     "metadata": {},
     "source": [
      "whose eigenvectors are the columns of"
     ]
    },
    {
     "cell_type": "markdown",
     "metadata": {},
     "source": [
      "$$\n",
      "\\left[ \\begin{array} {cc} 2/\\sqrt{5} &1/\\sqrt{5}  \\\\ 1/\\sqrt{5} & -2/\\sqrt{5} \\end{array}\\right]\n",
      "$$"
     ]
    },
    {
     "cell_type": "markdown",
     "metadata": {},
     "source": [
      "These numbers define the so-called Clebsch-Gordan coupling coefficients  (the overlaps between the two basis sets). We can thus write"
     ]
    },
    {
     "cell_type": "markdown",
     "metadata": {},
     "source": [
      "$$\n",
      "\\psi_{njm_j;ls}=\\sum_{m_lm_s}\\langle lm_lsm_s|jm_j\\rangle\\phi_{nlm_lsm_s},\n",
      "$$"
     ]
    },
    {
     "cell_type": "markdown",
     "metadata": {},
     "source": [
      "where the coefficients $\\langle lm_lsm_s|jm_j\\rangle$ are the so-called Clebsch-Gordan coeffficients.\n",
      "\n",
      "\n",
      "\n",
      "### Clebsch-Gordan coefficients\n",
      "The Clebsch-Gordan coeffficients $\\langle lm_lsm_s|jm_j\\rangle$ have some interesting properties for us, like the following  orthogonality relations"
     ]
    },
    {
     "cell_type": "markdown",
     "metadata": {},
     "source": [
      "4\n",
      "2\n",
      " \n",
      "<\n",
      "<\n",
      "<\n",
      "!\n",
      "!\n",
      "M\n",
      "A\n",
      "T\n",
      "H\n",
      "_\n",
      "B\n",
      "L\n",
      "O\n",
      "C\n",
      "K"
     ]
    },
    {
     "cell_type": "markdown",
     "metadata": {},
     "source": [
      "4\n",
      "3\n",
      " \n",
      "<\n",
      "<\n",
      "<\n",
      "!\n",
      "!\n",
      "M\n",
      "A\n",
      "T\n",
      "H\n",
      "_\n",
      "B\n",
      "L\n",
      "O\n",
      "C\n",
      "K"
     ]
    },
    {
     "cell_type": "markdown",
     "metadata": {},
     "source": [
      "$$\n",
      "\\langle j_1m_1j_2m_2|JM\\rangle=(-1)^{j_1+j_2-J}\\langle j_2m_2j_1m_1|JM\\rangle,\n",
      "$$"
     ]
    },
    {
     "cell_type": "markdown",
     "metadata": {},
     "source": [
      "and many others. The latter will turn extremely useful when we are going to define two-body states and interactions in a coupled basis.\n",
      "\n",
      "\n",
      "\n",
      "### Quantum numbers and the Schroeodinger equation in relative and CM coordinates\n",
      "Summing up, for \n",
      "for the single-particle case, we have the following eigenfunctions"
     ]
    },
    {
     "cell_type": "markdown",
     "metadata": {},
     "source": [
      "$$\n",
      "\\psi_{njm_j;ls}=\\sum_{m_lm_s}\\langle lm_lsm_s|jm_j\\rangle\\phi_{nlm_lsm_s},\n",
      "$$"
     ]
    },
    {
     "cell_type": "markdown",
     "metadata": {},
     "source": [
      "where the coefficients $\\langle lm_lsm_s|jm_j\\rangle$ are the so-called Clebsch-Gordan coeffficients.\n",
      "The relevant quantum numbers are $n$ (related to the principal quantum number and the number of nodes of the wave function) and"
     ]
    },
    {
     "cell_type": "markdown",
     "metadata": {},
     "source": [
      "4\n",
      "6\n",
      " \n",
      "<\n",
      "<\n",
      "<\n",
      "!\n",
      "!\n",
      "M\n",
      "A\n",
      "T\n",
      "H\n",
      "_\n",
      "B\n",
      "L\n",
      "O\n",
      "C\n",
      "K"
     ]
    },
    {
     "cell_type": "markdown",
     "metadata": {},
     "source": [
      "4\n",
      "7\n",
      " \n",
      "<\n",
      "<\n",
      "<\n",
      "!\n",
      "!\n",
      "M\n",
      "A\n",
      "T\n",
      "H\n",
      "_\n",
      "B\n",
      "L\n",
      "O\n",
      "C\n",
      "K"
     ]
    },
    {
     "cell_type": "markdown",
     "metadata": {},
     "source": [
      "4\n",
      "8\n",
      " \n",
      "<\n",
      "<\n",
      "<\n",
      "!\n",
      "!\n",
      "M\n",
      "A\n",
      "T\n",
      "H\n",
      "_\n",
      "B\n",
      "L\n",
      "O\n",
      "C\n",
      "K"
     ]
    },
    {
     "cell_type": "markdown",
     "metadata": {},
     "source": [
      "$$\n",
      "\\hat{s}^2\\psi_{njm_j;ls}=\\hbar^2s(s+1)\\psi_{njm_j;ls},\n",
      "$$"
     ]
    },
    {
     "cell_type": "markdown",
     "metadata": {},
     "source": [
      "but $s_z$ and $l_z$ do not result in good quantum numbers in a basis where we\n",
      "use the angular momentum $j$.\n",
      "\n",
      "\n",
      "\n",
      "### Quantum numbers and the Schroedinger equation in relative and CM coordinates\n",
      "For a two-body state where we couple two angular momenta $j_1$ and $j_2$ to a final\n",
      "angular momentum $J$ with projection $M_J$, we can define a similar transformation in terms\n",
      "of the Clebsch-Gordan coeffficients"
     ]
    },
    {
     "cell_type": "markdown",
     "metadata": {},
     "source": [
      "$$\n",
      "\\psi_{(j_1j_2)JM_J}=\\sum_{m_{j_1}m_{j_2}}\\langle j_1m_{j_1}j_2m_{j_2}|JM_J\\rangle\\psi_{n_1j_1m_{j_1};l_1s_1}\\psi_{n_2j_2m_{j_2};l_2s_2}.\n",
      "$$"
     ]
    },
    {
     "cell_type": "markdown",
     "metadata": {},
     "source": [
      "We will write these functions in a more compact form hereafter, namely,"
     ]
    },
    {
     "cell_type": "markdown",
     "metadata": {},
     "source": [
      "$$\n",
      "|(j_1j_2)JM_J\\rangle=\\psi_{(j_1j_2)JM_J},\n",
      "$$"
     ]
    },
    {
     "cell_type": "markdown",
     "metadata": {},
     "source": [
      "and"
     ]
    },
    {
     "cell_type": "markdown",
     "metadata": {},
     "source": [
      "$$\n",
      "|j_im_{j_i}\\rangle=\\psi_{n_ij_im_{j_i};l_is_i},\n",
      "$$"
     ]
    },
    {
     "cell_type": "markdown",
     "metadata": {},
     "source": [
      "where we have skipped the explicit reference to $l$, $s$ and $n$. The spin of a nucleon is always $1/2$ while the value of $l$ can be deduced from the parity of the state.\n",
      "It is thus normal to label a state with a given total angular momentum as \n",
      "$j^{\\pi}$, where $\\pi=\\pm 1$.\n",
      "\n",
      "\n",
      "\n",
      "### Quantum numbers and the Schroedinger equation in relative and CM coordinates\n",
      "Our two-body state can thus be written as"
     ]
    },
    {
     "cell_type": "markdown",
     "metadata": {},
     "source": [
      "$$\n",
      "|(j_1j_2)JM_J\\rangle=\\sum_{m_{j_1}m_{j_2}}\\langle j_1m_{j_1}j_2m_{j_2}|JM_J\\rangle|j_1m_{j_1}\\rangle|j_2m_{j_2}\\rangle.\n",
      "$$"
     ]
    },
    {
     "cell_type": "markdown",
     "metadata": {},
     "source": [
      "Due to the coupling order of the Clebsch-Gordan coefficient it reads as \n",
      "$j_1$ coupled to $j_2$ to yield a final angular momentum $J$. If we invert the order of coupling we would have"
     ]
    },
    {
     "cell_type": "markdown",
     "metadata": {},
     "source": [
      "$$\n",
      "|(j_2j_1)JM_J\\rangle=\\sum_{m_{j_1}m_{j_2}}\\langle j_2m_{j_2}j_1m_{j_1}|JM_J\\rangle|j_1m_{j_1}\\rangle|j_2m_{j_2}\\rangle,\n",
      "$$"
     ]
    },
    {
     "cell_type": "markdown",
     "metadata": {},
     "source": [
      "and due to the symmetry properties of the Clebsch-Gordan coefficient we have"
     ]
    },
    {
     "cell_type": "markdown",
     "metadata": {},
     "source": [
      "$$\n",
      "|(j_2j_1)JM_J\\rangle=(-1)^{j_1+j_2-J}\\sum_{m_{j_1}m_{j_2}}\\langle j_1m_{j_1}j_2m_{j_2}|JM_J\\rangle|j_1m_{j_1}\\rangle|j_2m_{j_2}\\rangle=(-1)^{j_1+j_2-J}|(j_1j_2)JM_J\\rangle.\n",
      "$$"
     ]
    },
    {
     "cell_type": "markdown",
     "metadata": {},
     "source": [
      "We call the basis $|(j_1j_2)JM_J\\rangle$ for the **coupled basis**, or just $j$-coupled basis/scheme. The basis formed by the simple product of single-particle eigenstates \n",
      "$|j_1m_{j_1}\\rangle|j_2m_{j_2}\\rangle$ is called the **uncoupled-basis**, or just the $m$-scheme basis.\n",
      "\n",
      "\n",
      "\n",
      "### Quantum numbers\n",
      "We have thus the coupled basis"
     ]
    },
    {
     "cell_type": "markdown",
     "metadata": {},
     "source": [
      "$$\n",
      "|(j_1j_2)JM_J\\rangle=\\sum_{m_{j_1}m_{j_2}}\\langle j_1m_{j_1}j_2m_{j_2}|JM_J\\rangle|j_1m_{j_1}\\rangle|j_2m_{j_2}\\rangle.\n",
      "$$"
     ]
    },
    {
     "cell_type": "markdown",
     "metadata": {},
     "source": [
      "and the uncoupled basis"
     ]
    },
    {
     "cell_type": "markdown",
     "metadata": {},
     "source": [
      "$$\n",
      "|j_1m_{j_1}\\rangle|j_2m_{j_2}\\rangle.\n",
      "$$"
     ]
    },
    {
     "cell_type": "markdown",
     "metadata": {},
     "source": [
      "The latter can easily be generalized to many single-particle states whereas the first \n",
      "needs specific coupling coefficients and definitions of coupling orders. \n",
      "The $m$-scheme basis is easy to implement numerically and is used in most standard shell-model codes. \n",
      "Our coupled basis obeys also the following relations"
     ]
    },
    {
     "cell_type": "markdown",
     "metadata": {},
     "source": [
      "5\n",
      "8\n",
      " \n",
      "<\n",
      "<\n",
      "<\n",
      "!\n",
      "!\n",
      "M\n",
      "A\n",
      "T\n",
      "H\n",
      "_\n",
      "B\n",
      "L\n",
      "O\n",
      "C\n",
      "K"
     ]
    },
    {
     "cell_type": "markdown",
     "metadata": {},
     "source": [
      "$$\n",
      "\\hat{J}_z|(j_1j_2)JM_J\\rangle=\\hbar M_J|(j_1j_2)JM_J\\rangle,\n",
      "$$"
     ]
    },
    {
     "cell_type": "markdown",
     "metadata": {},
     "source": [
      "### Components of the force and isospin\n",
      " The nuclear forces are almost charge independent. If we assume they are, \n",
      "we can introduce a new quantum number which is conserved. For nucleons only, that is a proton and neutron, we can limit ourselves\n",
      "to two possible values which allow us to distinguish between the two particles. If we assign an isospin value of $\\tau=1/2$ for protons\n",
      "and neutrons (they belong to an isospin doublet, in the same way as we discussed the spin $1/2$ multiplet), we can define \n",
      "the neutron to have isospin projection $\\tau_z=+1/2$ and a proton to have $\\tau_z=-1/2$. These assignements are the standard choices in low-energy nuclear physics.\n",
      "\n",
      "\n",
      "\n",
      "### Isospin\n",
      "This leads to the introduction of an additional quantum number called isospin.\n",
      "We can define a single-nucleon\n",
      "state function in terms of the quantum numbers $n$, $j$, $m_j$, $l$, $s$, $\\tau$ and $\\tau_z$. Using our definitions in terms of an uncoupled basis, we had"
     ]
    },
    {
     "cell_type": "markdown",
     "metadata": {},
     "source": [
      "$$\n",
      "\\psi_{njm_j;ls}=\\sum_{m_lm_s}\\langle lm_lsm_s|jm_j\\rangle\\phi_{nlm_lsm_s},\n",
      "$$"
     ]
    },
    {
     "cell_type": "markdown",
     "metadata": {},
     "source": [
      "which we can now extend to"
     ]
    },
    {
     "cell_type": "markdown",
     "metadata": {},
     "source": [
      "$$\n",
      "\\psi_{njm_j;ls}\\xi_{\\tau\\tau_z}=\\sum_{m_lm_s}\\langle lm_lsm_s|jm_j\\rangle\\phi_{nlm_lsm_s}\\xi_{\\tau\\tau_z},\n",
      "$$"
     ]
    },
    {
     "cell_type": "markdown",
     "metadata": {},
     "source": [
      "with the isospin spinors defined as"
     ]
    },
    {
     "cell_type": "markdown",
     "metadata": {},
     "source": [
      "$$\n",
      "\\xi_{\\tau=1/2\\tau_z=+1/2}=\\left(\\begin{array}{c} 1  \\\\ 0\\end{array}\\right),\n",
      "$$"
     ]
    },
    {
     "cell_type": "markdown",
     "metadata": {},
     "source": [
      "and"
     ]
    },
    {
     "cell_type": "markdown",
     "metadata": {},
     "source": [
      "$$\n",
      "\\xi_{\\tau=1/2\\tau_z=-1/2}=\\left(\\begin{array}{c} 0  \\\\ 1\\end{array}\\right).\n",
      "$$"
     ]
    },
    {
     "cell_type": "markdown",
     "metadata": {},
     "source": [
      "We can then define the proton state function as"
     ]
    },
    {
     "cell_type": "markdown",
     "metadata": {},
     "source": [
      "$$\n",
      "\\psi^p(\\mathbf{r})  =\\psi_{njm_j;ls}(\\mathbf{r})\\left(\\begin{array}{c} 0  \\\\ 1\\end{array}\\right),\n",
      "$$"
     ]
    },
    {
     "cell_type": "markdown",
     "metadata": {},
     "source": [
      "and similarly for neutrons as"
     ]
    },
    {
     "cell_type": "markdown",
     "metadata": {},
     "source": [
      "$$\n",
      "\\psi^n(\\mathbf{r})  =\\psi_{njm_j;ls}(\\mathbf{r})\\left(\\begin{array}{c} 1  \\\\ 0\\end{array}\\right).\n",
      "$$"
     ]
    },
    {
     "cell_type": "markdown",
     "metadata": {},
     "source": [
      "### Isospin\n",
      "We can in turn define the isospin Pauli matrices (in the same as we define the spin matrices) as"
     ]
    },
    {
     "cell_type": "markdown",
     "metadata": {},
     "source": [
      "6\n",
      "6\n",
      " \n",
      "<\n",
      "<\n",
      "<\n",
      "!\n",
      "!\n",
      "M\n",
      "A\n",
      "T\n",
      "H\n",
      "_\n",
      "B\n",
      "L\n",
      "O\n",
      "C\n",
      "K"
     ]
    },
    {
     "cell_type": "markdown",
     "metadata": {},
     "source": [
      "$$\n",
      "\\hat{\\tau}_y =\\left(\\begin{array}{cc} 0 & -\\imath \\\\ \\imath & 0 \\end{array}\\right),\n",
      "$$"
     ]
    },
    {
     "cell_type": "markdown",
     "metadata": {},
     "source": [
      "and"
     ]
    },
    {
     "cell_type": "markdown",
     "metadata": {},
     "source": [
      "$$\n",
      "\\hat{\\tau}_z =\\left(\\begin{array}{cc} 1 & 0 \\\\ 0 & -1 \\end{array}\\right),\n",
      "$$"
     ]
    },
    {
     "cell_type": "markdown",
     "metadata": {},
     "source": [
      "and operating with $\\hat{\\tau}_z$ on the proton state function we have"
     ]
    },
    {
     "cell_type": "markdown",
     "metadata": {},
     "source": [
      "$$\n",
      "\\hat{\\tau}_z\\psi^p(\\mathbf{r})=-\\frac{1}{2}\\psi^p(\\mathbf{r}),\n",
      "$$"
     ]
    },
    {
     "cell_type": "markdown",
     "metadata": {},
     "source": [
      "and for neutrons we have"
     ]
    },
    {
     "cell_type": "markdown",
     "metadata": {},
     "source": [
      "$$\n",
      "\\hat{\\tau}\\psi^n(\\mathbf{r})=\\frac{1}{2}\\psi^n(\\mathbf{r}).\n",
      "$$"
     ]
    },
    {
     "cell_type": "markdown",
     "metadata": {},
     "source": [
      "### Isospin\n",
      "We can now define the so-called charge operator as"
     ]
    },
    {
     "cell_type": "markdown",
     "metadata": {},
     "source": [
      "$$\n",
      "\\frac{\\hat{Q}}{e} = \\frac{1}{2}\\left(1-\\hat{\\tau}_z\\right)=\\begin{Bmatrix} 0 & 0 \\\\ 0 & 1 \\end{Bmatrix},\n",
      "$$"
     ]
    },
    {
     "cell_type": "markdown",
     "metadata": {},
     "source": [
      "which results in"
     ]
    },
    {
     "cell_type": "markdown",
     "metadata": {},
     "source": [
      "$$\n",
      "\\frac{\\hat{Q}}{e}\\psi^p(\\mathbf{r})=\\psi^p(\\mathbf{r}),\n",
      "$$"
     ]
    },
    {
     "cell_type": "markdown",
     "metadata": {},
     "source": [
      "and"
     ]
    },
    {
     "cell_type": "markdown",
     "metadata": {},
     "source": [
      "$$\n",
      "\\frac{\\hat{Q}}{e}\\psi^n(\\mathbf{r})=0,\n",
      "$$"
     ]
    },
    {
     "cell_type": "markdown",
     "metadata": {},
     "source": [
      "as it should be.\n",
      "\n",
      "\n",
      "\n",
      "### Isospin\n",
      "The total isospin is defined as"
     ]
    },
    {
     "cell_type": "markdown",
     "metadata": {},
     "source": [
      "$$\n",
      "\\hat{T}=\\sum_{i=1}^A\\hat{\\tau}_i,\n",
      "$$"
     ]
    },
    {
     "cell_type": "markdown",
     "metadata": {},
     "source": [
      "and its corresponding isospin projection as"
     ]
    },
    {
     "cell_type": "markdown",
     "metadata": {},
     "source": [
      "$$\n",
      "\\hat{T}_z=\\sum_{i=1}^A\\hat{\\tau}_{z_i},\n",
      "$$"
     ]
    },
    {
     "cell_type": "markdown",
     "metadata": {},
     "source": [
      "with eigenvalues $T(T+1)$ for $\\hat{T}$ and $1/2(N-Z)$ for $\\hat{T}_z$, where $N$ is the number of neutrons and $Z$ the number of protons. \n",
      "\n",
      "If charge is conserved, the Hamiltonian $\\hat{H}$ commutes with $\\hat{T}_z$ and all members of a given isospin multiplet\n",
      "(that is the same value of $T$) have the same energy and there is no $T_z$ dependence and we say that $\\hat{H}$ is a scalar in isospin space.\n",
      "\n",
      "\n",
      "\n",
      "\n",
      "### Two-body matrix elements\n",
      "Till now we have not said anything about the explicit calculation of two-body matrix elements. It is time to amend this deficiency.\n",
      "We have till now seen the following definitions of a two-body matrix elements. In $m$-scheme\n",
      "with quantum numbers $p=j_pm_p$ etc we have a two-body state defined as"
     ]
    },
    {
     "cell_type": "markdown",
     "metadata": {},
     "source": [
      "$$\n",
      "|(pq)M\\rangle  = a^{\\dagger}_pa^{\\dagger}_q|\\Phi_0\\rangle,\n",
      "$$"
     ]
    },
    {
     "cell_type": "markdown",
     "metadata": {},
     "source": [
      "where $|\\Phi_0\\rangle$ is a chosen reference state, say for example the Slater determinant which approximates ${}^{16}\\mbox{O}$ with the $0s$ and the $0p$ shells being filled, and $M=m_p+m_q$. Recall that we label single-particle states above the Fermi level as $abcd\\dots$ and states below the Fermi level for $ijkl\\dots$.  \n",
      "In case of two-particles in the single-particle states $a$ and $b$ outside ${}^{16}\\mbox{O}$ as a closed shell core, say ${}^{18}\\mbox{O}$, \n",
      "we would write the representation of the Slater determinant as"
     ]
    },
    {
     "cell_type": "markdown",
     "metadata": {},
     "source": [
      "$$\n",
      "|^{18}\\mathrm{O}\\rangle =|(ab)M\\rangle  = a^{\\dagger}_aa^{\\dagger}_b|^{16}\\mathrm{O}\\rangle=|\\Phi^{ab}\\rangle.\n",
      "$$"
     ]
    },
    {
     "cell_type": "markdown",
     "metadata": {},
     "source": [
      "In case of two-particles removed from say ${}^{16}\\mbox{O}$, for example two neutrons in the single-particle states $i$ and $j$, we would write this as"
     ]
    },
    {
     "cell_type": "markdown",
     "metadata": {},
     "source": [
      "$$\n",
      "|^{14}\\mathrm{O}\\rangle =|(ij)M\\rangle  = a_ja_i|^{16}\\mathrm{O}\\rangle=|\\Phi_{ij}\\rangle.\n",
      "$$"
     ]
    },
    {
     "cell_type": "markdown",
     "metadata": {},
     "source": [
      "### Two-body matrix elementsin $m$-scheme\n",
      "For a one-hole-one-particle state we have"
     ]
    },
    {
     "cell_type": "markdown",
     "metadata": {},
     "source": [
      "$$\n",
      "|^{16}\\mathrm{O}\\rangle_{1p1h} =|(ai)M\\rangle  = a_a^{\\dagger}a_i|^{16}\\mathrm{O}\\rangle=|\\Phi_{i}^a\\rangle,\n",
      "$$"
     ]
    },
    {
     "cell_type": "markdown",
     "metadata": {},
     "source": [
      "and finally for a two-particle-two-hole state we"
     ]
    },
    {
     "cell_type": "markdown",
     "metadata": {},
     "source": [
      "$$\n",
      "|^{16}\\mathrm{O}\\rangle_{2p2h} =|(abij)M\\rangle  = a_a^{\\dagger}a_b^{\\dagger}a_ja_i|^{16}\\mathrm{O}\\rangle=|\\Phi_{ij}^{ab}\\rangle.\n",
      "$$"
     ]
    },
    {
     "cell_type": "markdown",
     "metadata": {},
     "source": [
      "### Two-body matrix elements in $m$-scheme\n",
      "Let us go back to the case of two-particles in the single-particle states $a$ and $b$ outside ${}^{16}\\mbox{O}$ as a closed shell core, say ${}^{18}\\mbox{O}$.\n",
      "The representation of the Slater determinant is"
     ]
    },
    {
     "cell_type": "markdown",
     "metadata": {},
     "source": [
      "$$\n",
      "|^{18}\\mathrm{O}\\rangle =|(ab)M\\rangle  = a^{\\dagger}_aa^{\\dagger}_b|^{16}\\mathrm{O}\\rangle=|\\Phi^{ab}\\rangle.\n",
      "$$"
     ]
    },
    {
     "cell_type": "markdown",
     "metadata": {},
     "source": [
      "The anti-symmetrized matrix element is detailed as"
     ]
    },
    {
     "cell_type": "markdown",
     "metadata": {},
     "source": [
      "$$\n",
      "\\langle (ab) M | \\hat{V} | (cd) M \\rangle = \\langle (j_am_aj_bm_b)M=m_a+m_b |  \\hat{V} | (j_cm_cj_dm_d)M=m_a+m_b \\rangle,\n",
      "$$"
     ]
    },
    {
     "cell_type": "markdown",
     "metadata": {},
     "source": [
      "and note that anti-symmetrization means"
     ]
    },
    {
     "cell_type": "markdown",
     "metadata": {},
     "source": [
      "8\n",
      "3\n",
      " \n",
      "<\n",
      "<\n",
      "<\n",
      "!\n",
      "!\n",
      "M\n",
      "A\n",
      "T\n",
      "H\n",
      "_\n",
      "B\n",
      "L\n",
      "O\n",
      "C\n",
      "K"
     ]
    },
    {
     "cell_type": "markdown",
     "metadata": {},
     "source": [
      "$$\n",
      "\\langle (ab) M | \\hat{V} | (cd) M \\rangle =-\\langle (ab) M | \\hat{V} | (dc) M \\rangle.\n",
      "$$"
     ]
    },
    {
     "cell_type": "markdown",
     "metadata": {},
     "source": [
      "This matrix element is the expectation value of"
     ]
    },
    {
     "cell_type": "markdown",
     "metadata": {},
     "source": [
      "$$\n",
      "\\langle ^{16}\\mathrm{O}|a_ba_a\\frac{1}{4}\\sum_{pqrs}\\langle (pq) M | \\hat{V} | (rs) M' \\rangle a^{\\dagger}_pa^{\\dagger}_qa_sa_r a^{\\dagger}_ca^{\\dagger}_c|^{16}\\mathrm{O}\\rangle.\n",
      "$$"
     ]
    },
    {
     "cell_type": "markdown",
     "metadata": {},
     "source": [
      "### Two-body matrix elements in $J$-scheme\n",
      "We have also defined matrix elements in the coupled basis, the so-called $J$-coupled scheme.\n",
      "In this case the two-body wave function for two neutrons outside ${}^{16}\\mbox{O}$ is written as"
     ]
    },
    {
     "cell_type": "markdown",
     "metadata": {},
     "source": [
      "$$\n",
      "|^{18}\\mathrm{O}\\rangle_J =|(ab)JM\\rangle  = \\left\\{a^{\\dagger}_aa^{\\dagger}_b\\right\\}^J_M|^{16}\\mathrm{O}\\rangle=N_{ab}\\sum_{m_am_b}\\langle j_am_aj_bm_b|JM\\rangle|\\Phi^{ab}\\rangle,\n",
      "$$"
     ]
    },
    {
     "cell_type": "markdown",
     "metadata": {},
     "source": [
      "with"
     ]
    },
    {
     "cell_type": "markdown",
     "metadata": {},
     "source": [
      "$$\n",
      "|\\Phi^{ab}\\rangle=a^{\\dagger}_aa^{\\dagger}_b|^{16}\\mathrm{O}\\rangle.\n",
      "$$"
     ]
    },
    {
     "cell_type": "markdown",
     "metadata": {},
     "source": [
      "We have now an explicit coupling order, where the angular momentum $j_a$ is coupled to the angular momentum $j_b$ to yield a final two-body angular momentum $J$. \n",
      "The normalization factor (to be derived below) is"
     ]
    },
    {
     "cell_type": "markdown",
     "metadata": {},
     "source": [
      "$$\n",
      "N_{ab}=\\frac{\\sqrt{1+\\delta_{ab}\\times (-1)^J}}{1+\\delta_{ab}}.\n",
      "$$"
     ]
    },
    {
     "cell_type": "markdown",
     "metadata": {},
     "source": [
      "### Two-body matrix elements in $J$-scheme\n",
      "The implementation of the Pauli principle looks different in the $J$-scheme compared with the $m$-scheme. In the latter, no two fermions or more can have the same set of quantum numbers. In the $J$-scheme, when we write a state with the shorthand"
     ]
    },
    {
     "cell_type": "markdown",
     "metadata": {},
     "source": [
      "$$\n",
      "|^{18}\\mathrm{O}\\rangle_J =|(ab)JM\\rangle,\n",
      "$$"
     ]
    },
    {
     "cell_type": "markdown",
     "metadata": {},
     "source": [
      "we do refer to the angular momenta only. This means that another way of writing the last state is"
     ]
    },
    {
     "cell_type": "markdown",
     "metadata": {},
     "source": [
      "$$\n",
      "|^{18}\\mathrm{O}\\rangle_J =|(j_aj_b)JM\\rangle.\n",
      "$$"
     ]
    },
    {
     "cell_type": "markdown",
     "metadata": {},
     "source": [
      "We will use this notation throughout when we refer to a two-body state in $J$-scheme. The Kronecker $\\delta$ function in the normalization factor \n",
      "refers thus to the values of $j_a$ and $j_b$. If two identical particles are in a state with the same $j$-value, then only even values of the total angular momentum apply.\n",
      "\n",
      "\n",
      "\n",
      "\n",
      "### Two-body matrix elements in $J$-scheme\n",
      "Note also that, using the anti-commuting properties of the creation operators, we obtain"
     ]
    },
    {
     "cell_type": "markdown",
     "metadata": {},
     "source": [
      "$$\n",
      "N_{ab}\\sum_{m_am_b}\\langle j_am_aj_bm_b|JM>|\\Phi^{ab}\\rangle=-N_{ab}\\sum_{m_am_b}\\langle j_am_aj_bm_b|JM\\rangle|\\Phi^{ba}\\rangle.\n",
      "$$"
     ]
    },
    {
     "cell_type": "markdown",
     "metadata": {},
     "source": [
      "Furthermore, using the property of the Clebsch-Gordan coefficient"
     ]
    },
    {
     "cell_type": "markdown",
     "metadata": {},
     "source": [
      "$$\n",
      "\\langle j_am_aj_bm_b|JM>=(-1)^{j_a+j_b-J}\\langle j_bm_bj_am_a|JM\\rangle,\n",
      "$$"
     ]
    },
    {
     "cell_type": "markdown",
     "metadata": {},
     "source": [
      "which can be used to show that"
     ]
    },
    {
     "cell_type": "markdown",
     "metadata": {},
     "source": [
      "$$\n",
      "|(j_bj_a)JM\\rangle  = \\left\\{a^{\\dagger}_ba^{\\dagger}_a\\right\\}^J_M|^{16}\\mathrm{O}\\rangle=N_{ab}\\sum_{m_am_b}\\langle j_bm_bj_am_a|JM\\rangle|\\Phi^{ba}\\rangle,\n",
      "$$"
     ]
    },
    {
     "cell_type": "markdown",
     "metadata": {},
     "source": [
      "is equal to"
     ]
    },
    {
     "cell_type": "markdown",
     "metadata": {},
     "source": [
      "$$\n",
      "|(j_bj_a)JM\\rangle=(-1)^{j_a+j_b-J+1}|(j_aj_b)JM\\rangle.\n",
      "$$"
     ]
    },
    {
     "cell_type": "markdown",
     "metadata": {},
     "source": [
      "This relation is important since we will need it when using anti-symmetrized matrix elements in $J$-scheme.\n",
      "\n",
      "\n",
      "\n",
      "### Two-body matrix elements in $J$-scheme\n",
      "The two-body matrix element is a scalar and since it obeys rotational symmetry, it is diagonal in $J$, \n",
      "meaning that the corresponding matrix element in $J$-scheme is"
     ]
    },
    {
     "cell_type": "markdown",
     "metadata": {},
     "source": [
      "9\n",
      "5\n",
      " \n",
      "<\n",
      "<\n",
      "<\n",
      "!\n",
      "!\n",
      "M\n",
      "A\n",
      "T\n",
      "H\n",
      "_\n",
      "B\n",
      "L\n",
      "O\n",
      "C\n",
      "K"
     ]
    },
    {
     "cell_type": "markdown",
     "metadata": {},
     "source": [
      "$$\n",
      "\\times \\langle j_cm_cj_dm_d|JM\\rangle\\langle (j_am_aj_bm_b)M |  \\hat{V} | (j_cm_cj_dm_d)M \\rangle,\n",
      "$$"
     ]
    },
    {
     "cell_type": "markdown",
     "metadata": {},
     "source": [
      "and note that of the four $m$-values in the above sum, only three are independent due to the constraint $m_a+m_b=M=m_c+m_d$.\n",
      "Since"
     ]
    },
    {
     "cell_type": "markdown",
     "metadata": {},
     "source": [
      "$$\n",
      "|(j_bj_a)JM\\rangle=(-1)^{j_a+j_b-J+1}|(j_aj_b)JM\\rangle,\n",
      "$$"
     ]
    },
    {
     "cell_type": "markdown",
     "metadata": {},
     "source": [
      "the anti-symmetrized matrix elements need now to obey the following relations"
     ]
    },
    {
     "cell_type": "markdown",
     "metadata": {},
     "source": [
      "9\n",
      "8\n",
      " \n",
      "<\n",
      "<\n",
      "<\n",
      "!\n",
      "!\n",
      "M\n",
      "A\n",
      "T\n",
      "H\n",
      "_\n",
      "B\n",
      "L\n",
      "O\n",
      "C\n",
      "K"
     ]
    },
    {
     "cell_type": "markdown",
     "metadata": {},
     "source": [
      "9\n",
      "9\n",
      " \n",
      "<\n",
      "<\n",
      "<\n",
      "!\n",
      "!\n",
      "M\n",
      "A\n",
      "T\n",
      "H\n",
      "_\n",
      "B\n",
      "L\n",
      "O\n",
      "C\n",
      "K"
     ]
    },
    {
     "cell_type": "markdown",
     "metadata": {},
     "source": [
      "$$\n",
      "\\langle (j_aj_b) JM | \\hat{V} | (j_cj_d) JM \\rangle = (-1)^{j_a+j_b+j_c+j_d}\\langle (j_bj_a) JM | \\hat{V} | (j_dj_c) JM \\rangle=\\langle (j_bj_a) JM | \\hat{V} | (j_dj_c) JM \\rangle,\n",
      "$$"
     ]
    },
    {
     "cell_type": "markdown",
     "metadata": {},
     "source": [
      "where the last relations follows from the fact that $J$ is an integer and $2J$ is always an even number.\n",
      "\n",
      "\n",
      "\n",
      "### Two-body matrix elements in $J$-scheme\n",
      "Using the orthogonality properties of the Clebsch-Gordan coefficients,"
     ]
    },
    {
     "cell_type": "markdown",
     "metadata": {},
     "source": [
      "$$\n",
      "\\sum_{m_am_b}\\langle j_am_aj_bm_b|JM\\rangle\\langle j_am_aj_bm_b|J'M'\\rangle=\\delta_{JJ'}\\delta_{MM'},\n",
      "$$"
     ]
    },
    {
     "cell_type": "markdown",
     "metadata": {},
     "source": [
      "and"
     ]
    },
    {
     "cell_type": "markdown",
     "metadata": {},
     "source": [
      "$$\n",
      "\\sum_{JM}\\langle j_am_aj_bm_b|JM\\rangle\\langle j_am_a'j_bm_b'|JM\\rangle=\\delta_{m_am_a'}\\delta_{m_bm_b'},\n",
      "$$"
     ]
    },
    {
     "cell_type": "markdown",
     "metadata": {},
     "source": [
      "we can also express the two-body matrix element in $m$-scheme in terms of that in $J$-scheme, that is, if we multiply with"
     ]
    },
    {
     "cell_type": "markdown",
     "metadata": {},
     "source": [
      "$$\n",
      "\\sum_{JMJ'M'}\\langle j_am_a'j_bm_b'|JM\\rangle\\langle j_cm_c'j_dm_d'|J'M'\\rangle\n",
      "$$"
     ]
    },
    {
     "cell_type": "markdown",
     "metadata": {},
     "source": [
      "from left in"
     ]
    },
    {
     "cell_type": "markdown",
     "metadata": {},
     "source": [
      "1\n",
      "0\n",
      "4\n",
      " \n",
      "<\n",
      "<\n",
      "<\n",
      "!\n",
      "!\n",
      "M\n",
      "A\n",
      "T\n",
      "H\n",
      "_\n",
      "B\n",
      "L\n",
      "O\n",
      "C\n",
      "K"
     ]
    },
    {
     "cell_type": "markdown",
     "metadata": {},
     "source": [
      "$$\n",
      "\\times \\langle (j_am_aj_bm_b)M|  \\hat{V} | (j_cm_cj_dm_d)M\\rangle,\n",
      "$$"
     ]
    },
    {
     "cell_type": "markdown",
     "metadata": {},
     "source": [
      "we obtain\n",
      "\n",
      "\n",
      "\n",
      "### Two-body matrix elements in $J$-scheme\n",
      "we obtain"
     ]
    },
    {
     "cell_type": "markdown",
     "metadata": {},
     "source": [
      "1\n",
      "0\n",
      "6\n",
      " \n",
      "<\n",
      "<\n",
      "<\n",
      "!\n",
      "!\n",
      "M\n",
      "A\n",
      "T\n",
      "H\n",
      "_\n",
      "B\n",
      "L\n",
      "O\n",
      "C\n",
      "K"
     ]
    },
    {
     "cell_type": "markdown",
     "metadata": {},
     "source": [
      "$$\n",
      "\\times \\langle (j_aj_b) JM | \\hat{V} | (j_cj_d) JM \\rangle.\n",
      "$$"
     ]
    },
    {
     "cell_type": "markdown",
     "metadata": {},
     "source": [
      "### Phenomenology of nuclear forces\n",
      "**From Yukawa to Lattice QCD and Effective Field Theory.**\n",
      "\n",
      "\n",
      "* Chadwick (1932) discovers the neutron and Heisenberg (1932) proposes the first Phenomenology (Isospin).  \n",
      "\n",
      "* Yukawa (1935) and his Meson Hypothesis       \n",
      "\n",
      "* Discovery of the pion in cosmic ray (1947) and in the Berkeley Cyclotron Lab (1948).\n",
      "\n",
      "* Nobelprize awarded to Yukawa (1949).  Rabi (1948) measures quadrupole moment of the deuteron.\n",
      "\n",
      "* Taketani, Nakamura, Sasaki (1951): 3 ranges.      One-Pion-Exchange (OPE): o.k.\n",
      "\n",
      "* Multi-pion exchanges: Problems!   Taketani, Machida, Onuma (1952);\n",
      "\n",
      "* *Pion Theories* Brueckner, Watson (1953).\n",
      "\n",
      "\n",
      "\n",
      "### Phenomenology of nuclear forces\n",
      "**From Yukawa to Lattice QCD and Effective Field Theory.**\n",
      "\n",
      "\n",
      "* Many pions = multi-pion resonances: $\\sigma(600)$,  $\\rho(770)$,  $\\omega(782)$ etc. One-Boson-Exchange Model.\n",
      "\n",
      "* Refined Meson Theories\n",
      "\n",
      "* Sophisticated models for two-pion exchange:\n",
      "\n",
      "      * Paris Potential (Lacombe et al., Phys. Rev. C **21**, 861 (1980))\n",
      "\n",
      "      * Bonn potential (Machleidt et al., Phys. Rep. **149**, 1 (1987))\n",
      "\n",
      "\n",
      "*Quark cluster models. Begin of effective field theory studies.\n",
      "\n",
      "\n",
      "\n",
      "### Phenomenology of nuclear forces\n",
      "**From Yukawa to Lattice QCD and Effective Field Theory.**\n",
      "\n",
      "\n",
      "* 1990's\n",
      "\n",
      "  * 1993-2001: High-precision NN potentials: Nijmegen I, II, '93, Reid93 (Stoks et al. 1994), \n",
      "\n",
      "  * Argonne V18 (Wiringa et al, 1995), CD-Bonn (Machleidt et al. 1996 and 2001. \n",
      "\n",
      "  * Advances in effective field theory: Weinberg (1990); Ordonez, Ray, van Kolck and many more.\n",
      "\n",
      "\n",
      "* 3rd Millenium\n",
      "\n",
      "  * Another \"pion theory\"; but now right: constrained by chiral symmetry. Three-body and higher-body forces appear naturally at a given order of the chiral expansion. \n",
      "\n",
      "\n",
      "Nucleon-nucleon interaction from Lattice QCD, final confirmation of meson hypothesis of Yukawa?  See for example Ishii *et al*, PRL 2007\n",
      "\n",
      "\n",
      "\n",
      "\n",
      "### Phenomenology of nuclear forces\n",
      "**Features of the Nucleon-Nucleon (NN) Force.**\n",
      "\n",
      "\n",
      "The aim is to give you an overview over central features of the nucleon-nucleon interaction and how it is constructed, with both technical and theoretical approaches. \n",
      "\n",
      "* The existence of the deuteron with $J^{\\pi}=1^+$ indicates that the force between protons and neutrons is attractive at least for the $^3S_1$ partial wave. Interference between Coulomb and nuclear scattering for the proton-proton partial wave $^1S_0$ shows that  the NN force is attractive at least for the $^1S_0$ partial wave. \n",
      "\n",
      "* It has a short range and strong intermediate attraction.\n",
      "\n",
      "* Spin dependent, scattering lengths for triplet and singlet states are different,\n",
      "\n",
      "* Spin-orbit force. Observation of large polarizations of scattered nucleons perpendicular to the plane of scattering.\n",
      "\n",
      "\n",
      "\n",
      "### Phenomenology of nuclear forces\n",
      "\n",
      "* Strongly repulsive core. The $s$-wave phase shift becomes negative at $\\approx 250$ MeV implying that the singlet $S$ has a hard core with range $0.4-0.5$ fm. \n",
      "\n",
      "* Charge independence (almost). Two nucleons in a given two-body state always (almost) experience the same force. Modern interactions break charge and isospin symmetry lightly. That means that the pp, neutron-neutron and pn parts of the interaction will be different for the same quantum numbers. \n",
      "\n",
      "* Non-central. There is a tensor force. First indications from the quadrupole moment of the deuteron pointing to an admixture in the ground state of both $l=2$ ($^3D_1$) and $l=0$ ($^3S_1$) orbital momenta.\n",
      "\n",
      "\n",
      "\n",
      "### Phenomenology of nuclear forces\n",
      "**Short Range Evidence.**\n",
      "\n",
      "Comparison of the binding energies of\n",
      "${}^2\\mbox{H}$ (deuteron), ${}^3\\mbox{H}$ (triton), ${}^4\\mbox{He}$ (alpha - particle) show that the nuclear force is of finite range ($1-2$ fm) and very strong within that range.\n",
      "\n",
      "For nuclei with $A>4$, the energy saturates: Volume and binding energies of nuclei are proportional to the mass number $A$ (as we saw from exercise 1).\n",
      "\n",
      "Nuclei are also bound. The average distance\n",
      "between nucleons in nuclei is about $2$ fm which\n",
      "must roughly correspond to the range of the\n",
      "attractive part.\n",
      "\n",
      "\n",
      "\n",
      "### Phenomenology of nuclear forces\n",
      "**Charge Dependence.**\n",
      "\n",
      "\n",
      " * After correcting for the electromagnetic interaction, the forces between nucleons (pp, nn, or np) in the same state are almost the same.\n",
      "\n",
      " * *Almost the same*: Charge-independence is slightly broken.\n",
      "\n",
      " * Equality between the pp and nn forces: Charge symmetry.\n",
      "\n",
      " * Equality between pp/nn force and np force: Charge independence.\n",
      "\n",
      " * Better notation: Isospin symmetry, invariance under rotations in isospin\n",
      "\n",
      "\n",
      "\n",
      "### Phenomenology of nuclear forces\n",
      "**Charge Dependence, $^1S_0$ Scattering Lengths.**\n",
      "\n",
      "\n",
      "Charge-symmetry breaking (CSB), after electromagnetic effects\n",
      "have been removed:\n",
      "* $a_{pp}=  -17.3 \\pm 0.4 \\hspace{0.cm} \\mathrm{fm}$\n",
      "\n",
      "* $a_{nn}=-18.8 \\pm 0.5 \\hspace{0.cm} \\mathrm{fm}$. Note however discrepancy from $nd$ breakup reactions resulting in  $a_{nn}=-18.72 \\pm 0.13 \\pm 0.65 \\hspace{0.cm} \\mathrm{fm}$ and $\\pi^- + d \\rightarrow \\gamma + 2n$ reactions giving  $a_{nn}=-18.93 \\pm 0.27 \\pm 0.3 \\hspace{0.cm} \\mathrm{fm}$.\n",
      "\n",
      "Charge-independence breaking (CIB)\n",
      "* $a_{pn}=  -23.74 \\pm 0.02 \\hspace{0.cm} \\mathrm{fm}$\n",
      "\n",
      "\n",
      "\n",
      "\n",
      "\n",
      "### Symmetries of the Nucleon-Nucleon (NN) Force\n",
      "* Translation invariance\n",
      "\n",
      "* Galilean invariance\n",
      "\n",
      "* Rotation invariance in space\n",
      "\n",
      "* Space reflection invariance\n",
      "\n",
      "* Time reversal invariance\n",
      "\n",
      "* Invariance under the interchange of particle $1$ and $2$\n",
      "\n",
      "* Almost isospin symmetry\n",
      "\n",
      "\n",
      "\n",
      "\n",
      "\n",
      "### A typical form of the nuclear force\n",
      "Here we display a typical way to parametrize (non-relativistic expression) the nuclear two-body force\n",
      "in terms of some operators, the central part, the spin-spin part and the central force."
     ]
    },
    {
     "cell_type": "markdown",
     "metadata": {},
     "source": [
      "1\n",
      "0\n",
      "8\n",
      " \n",
      "<\n",
      "<\n",
      "<\n",
      "!\n",
      "!\n",
      "M\n",
      "A\n",
      "T\n",
      "H\n",
      "_\n",
      "B\n",
      "L\n",
      "O\n",
      "C\n",
      "K"
     ]
    },
    {
     "cell_type": "markdown",
     "metadata": {},
     "source": [
      "$$\n",
      "\\left. + C_{SL} \\left( {1\\over m_\\alpha r} + {1\\over \\left( m_\\alpha r\\right)^2}\n",
      "\\right) \\mathbf{L}\\cdot \\mathbf{S}\n",
      "\\right\\} \\frac{e^{-m_\\alpha r}}{m_\\alpha r}\n",
      "$$"
     ]
    },
    {
     "cell_type": "markdown",
     "metadata": {},
     "source": [
      "How do we derive such terms?  (Note: no isospin dependence and that the above is an approximation)\n",
      "\n",
      "\n",
      "\n",
      "\n",
      "### Nuclear forces\n",
      "To derive the above famous form of the nuclear force using field theoretical concepts, we will need some \n",
      "elements from relativistic quantum mechanics. These derivations will be given below. \n",
      "The material here gives some background to this.\n",
      "I know that many of you have not taken a course in quantum field theory. I hope however that you can see the basic ideas leading to the famous non-relativistic expressions for the nuclear force. \n",
      "\n",
      "**Furthermore, when we analyze nuclear data, we will actually try to explain properties like spectra, single-particle energies etc in terms of the various terms of the nuclear force. Moreover, many of you will hear about these terms at various talks, workshops, seminars etc. Then, it is good to have an idea of what people actually mean!!**\n",
      "\n",
      "  \n",
      "\n",
      "### Dramatis Personae\n",
      "\n",
      "<table border=\"1\">\n",
      "<thead>\n",
      "<tr><th align=\"center\"> Baryons </th> <th align=\"center\">Mass (MeV)</th> <th align=\"center\">   Mesons  </th> <th align=\"center\">   Mass (MeV)  </th> </tr>\n",
      "</thead>\n",
      "<tbody>\n",
      "<tr><td align=\"center\">   $p,n$        </td> <td align=\"center\">   938.926       </td> <td align=\"center\">   $\\pi$          </td> <td align=\"center\">   138.03             </td> </tr>\n",
      "<tr><td align=\"center\">   $\\Lambda$    </td> <td align=\"center\">   1116.0        </td> <td align=\"center\">   $\\eta$         </td> <td align=\"center\">   548.8              </td> </tr>\n",
      "<tr><td align=\"center\">   $\\Sigma$     </td> <td align=\"center\">   1197.3        </td> <td align=\"center\">   $\\sigma$       </td> <td align=\"center\">   $\\approx 550.0$    </td> </tr>\n",
      "<tr><td align=\"center\">   $\\Delta$     </td> <td align=\"center\">   1232.0        </td> <td align=\"center\">   $\\rho$         </td> <td align=\"center\">   770                </td> </tr>\n",
      "<tr><td align=\"center\">                </td> <td align=\"center\">                 </td> <td align=\"center\">   $\\omega$       </td> <td align=\"center\">   782.6              </td> </tr>\n",
      "<tr><td align=\"center\">                </td> <td align=\"center\">                 </td> <td align=\"center\">   $\\delta$       </td> <td align=\"center\">   983.0              </td> </tr>\n",
      "<tr><td align=\"center\">                </td> <td align=\"center\">                 </td> <td align=\"center\">   $K$            </td> <td align=\"center\">   495.8              </td> </tr>\n",
      "<tr><td align=\"center\">                </td> <td align=\"center\">                 </td> <td align=\"center\">   $K^{\\star}$    </td> <td align=\"center\">   895.0              </td> </tr>\n",
      "</tbody>\n",
      "</table>\n",
      "\n",
      "\n",
      "\n",
      "\n",
      "### Components of the force and quantum numbers\n",
      "But before we proceed, we will look into specific quantum numbers of the relative system and study \n",
      "expectation vaues of the various terms of"
     ]
    },
    {
     "cell_type": "markdown",
     "metadata": {},
     "source": [
      "1\n",
      "1\n",
      "0\n",
      " \n",
      "<\n",
      "<\n",
      "<\n",
      "!\n",
      "!\n",
      "M\n",
      "A\n",
      "T\n",
      "H\n",
      "_\n",
      "B\n",
      "L\n",
      "O\n",
      "C\n",
      "K"
     ]
    },
    {
     "cell_type": "markdown",
     "metadata": {},
     "source": [
      "$$\n",
      "\\left. + C_{SL} \\left( {1\\over m_\\alpha r} + {1\\over \\left( m_\\alpha r\\right)^2}\n",
      "\\right) \\mathbf{L}\\cdot \\mathbf{S}\n",
      "\\right\\} \\frac{e^{-m_\\alpha r}}{m_\\alpha r}\n",
      "$$"
     ]
    },
    {
     "cell_type": "markdown",
     "metadata": {},
     "source": [
      "### Relative and CoM system, quantum numbers\n",
      "\n",
      "When solving the scattering equation or solving the two-nucleon problem, it is convenient to rewrite the Schroedinger equation, due to\n",
      "the spherical symmetry of the Hamiltonian, in relative and center-of-mass coordinates. This will also define the quantum numbers of the relative and center-of-mass system and will aid us later in solving\n",
      "the so-called Lippman-Schwinger equation for the scattering problem. \n",
      "\n",
      "We define the center-of-mass (CoM)  momentum as"
     ]
    },
    {
     "cell_type": "markdown",
     "metadata": {},
     "source": [
      "$$\n",
      "\\mathbf{K}=\\sum_{i=1}^A\\mathbf{k}_i,\n",
      "$$"
     ]
    },
    {
     "cell_type": "markdown",
     "metadata": {},
     "source": [
      "with $\\hbar=c=1$ the wave number $k_i=p_i$, with $p_i$ the pertinent momentum of a single-particle state. \n",
      "We have also the relative momentum"
     ]
    },
    {
     "cell_type": "markdown",
     "metadata": {},
     "source": [
      "$$\n",
      "\\mathbf{k}_{ij}=\\frac{1}{2}(\\mathbf{k}_i-\\mathbf{k}_j).\n",
      "$$"
     ]
    },
    {
     "cell_type": "markdown",
     "metadata": {},
     "source": [
      "We will below skip the indices $ij$ and simply write $\\mathbf{k}$\n",
      "\n",
      "\n",
      "\n",
      "### Relative and CoM system, quantum numbers\n",
      "\n",
      "In a similar fashion we can define the CoM coordinate"
     ]
    },
    {
     "cell_type": "markdown",
     "metadata": {},
     "source": [
      "$$\n",
      "\\mathbf{R}=\\frac{1}{A}\\sum_{i=1}^{A}\\mathbf{r}_i,\n",
      "$$"
     ]
    },
    {
     "cell_type": "markdown",
     "metadata": {},
     "source": [
      "and the relative distance"
     ]
    },
    {
     "cell_type": "markdown",
     "metadata": {},
     "source": [
      "$$\n",
      "\\mathbf{r}_{ij}=(\\mathbf{r}_i-\\mathbf{r}_j).\n",
      "$$"
     ]
    },
    {
     "cell_type": "markdown",
     "metadata": {},
     "source": [
      "### Relative and CoM system, quantum numbers\n",
      "With the definitions"
     ]
    },
    {
     "cell_type": "markdown",
     "metadata": {},
     "source": [
      "$$\n",
      "\\mathbf{K}=\\sum_{i=1}^A\\mathbf{k}_i,\n",
      "$$"
     ]
    },
    {
     "cell_type": "markdown",
     "metadata": {},
     "source": [
      "and"
     ]
    },
    {
     "cell_type": "markdown",
     "metadata": {},
     "source": [
      "$$\n",
      "\\mathbf{k}_{ij}=\\frac{1}{2}(\\mathbf{k}_i-\\mathbf{k}_j).\n",
      "$$"
     ]
    },
    {
     "cell_type": "markdown",
     "metadata": {},
     "source": [
      "we can rewrite the two-particle kinetic energy (note that we use $\\hbar=c=1$ as"
     ]
    },
    {
     "cell_type": "markdown",
     "metadata": {},
     "source": [
      "$$\n",
      "\\frac{\\mathbf{k}_1^2}{2m_n}+\\frac{\\mathbf{k}_2^2}{2m_n}=\\frac{\\mathbf{k}^2}{m_n}+\\frac{\\mathbf{K}^2}{4m_n},\n",
      "$$"
     ]
    },
    {
     "cell_type": "markdown",
     "metadata": {},
     "source": [
      "where $m_n$ is the average of the proton and the neutron masses.\n",
      "\n",
      "\n",
      "\n",
      "\n",
      "### Relative and CoM system, quantum numbers\n",
      "\n",
      "Since the two-nucleon interaction depends only on the relative distance, this means that we can separate Schroedinger's equation in an equation for the center-of-mass motion and one for the relative motion.\n",
      "\n",
      "With an equation for the relative motion only and a separate one for the center-of-mass motion we need to redefine the two-body quantum numbers.\n",
      "\n",
      "Previously we had a two-body state vector defined as $|(j_1j_2)JM_J\\rangle$ in a coupled basis. \n",
      "We will now define the quantum numbers for the relative motion. Here we need to define new orbital momenta (since these are the quantum numbers which change). \n",
      "We define"
     ]
    },
    {
     "cell_type": "markdown",
     "metadata": {},
     "source": [
      "$$\n",
      "\\hat{l}_1+\\hat{l}_2=\\hat{\\lambda}=\\hat{l}+\\hat{L},\n",
      "$$"
     ]
    },
    {
     "cell_type": "markdown",
     "metadata": {},
     "source": [
      "where $\\hat{l}$ is the orbital momentum associated with the relative motion and\n",
      "$\\hat{L}$ the corresponding one linked with the CoM. The total spin $S$ is unchanged since it acts in a different space. We have thus that"
     ]
    },
    {
     "cell_type": "markdown",
     "metadata": {},
     "source": [
      "$$\n",
      "\\hat{J}=\\hat{l}+\\hat{L}+\\hat{S},\n",
      "$$"
     ]
    },
    {
     "cell_type": "markdown",
     "metadata": {},
     "source": [
      "which allows us to define the angular momentum of the relative motion"
     ]
    },
    {
     "cell_type": "markdown",
     "metadata": {},
     "source": [
      "$$\n",
      "{ \\cal J} =  \\hat{l}+\\hat{S},\n",
      "$$"
     ]
    },
    {
     "cell_type": "markdown",
     "metadata": {},
     "source": [
      "where ${ \\cal J}$ is the total angular momentum of the relative motion.\n",
      "\n",
      "\n",
      "\n",
      "### Phenomenology of nuclear forces\n",
      "\n",
      "The total two-nucleon state function has to be anti-symmetric. The total function contains a spatial part, a spin part and an isospin part. If isospin is conserved, this leads to in case we have an $s$-wave with spin $S=0$ to an isospin \n",
      "two-body state with $T=1$ since the spatial part is symmetric and the spin part is anti-symmetric. \n",
      "\n",
      "Since the projections for $T$ are $T_z=-1,0,1$, we can have a $pp$, an $nn$ and a $pn$ state.\n",
      "\n",
      "For $l=0$ and $S=1$, a so-called triplet state, $^3S_1$, we must have $T=0$, meaning that we have only one state, a $pn$ state. For other partial waves, the following table lists states up to $f$ waves.\n",
      "We can systemize this in a table as follows, recalling that $|\\mathbf{l}-\\mathbf{S}| \\le |\\mathbf{J}| \\le |\\mathbf{l}+\\mathbf{S}|$,  \n",
      "\n",
      "<table border=\"1\">\n",
      "<thead>\n",
      "<tr><th align=\"center\">$^{2S+1}l_J$</th> <th align=\"center\">$J$</th> <th align=\"center\">$l$</th> <th align=\"center\">$S$</th> <th align=\"center\">$T$</th> <th align=\"center\">$\\vert pp\\rangle$</th> <th align=\"center\">$\\vert pn\\rangle$</th> <th align=\"center\">$\\vert nn\\rangle$</th> </tr>\n",
      "</thead>\n",
      "<tbody>\n",
      "<tr><td align=\"center\">   $^{1}S_0$       </td> <td align=\"center\">   0      </td> <td align=\"center\">   0      </td> <td align=\"center\">   0      </td> <td align=\"center\">   1      </td> <td align=\"center\">   yes                  </td> <td align=\"center\">   yes                  </td> <td align=\"center\">   yes                  </td> </tr>\n",
      "<tr><td align=\"center\">   $^{3}S_1$       </td> <td align=\"center\">   1      </td> <td align=\"center\">   0      </td> <td align=\"center\">   1      </td> <td align=\"center\">   0      </td> <td align=\"center\">   no                   </td> <td align=\"center\">   yes                  </td> <td align=\"center\">   no                   </td> </tr>\n",
      "<tr><td align=\"center\">   $^{3}P_0$       </td> <td align=\"center\">   0      </td> <td align=\"center\">   1      </td> <td align=\"center\">   1      </td> <td align=\"center\">   1      </td> <td align=\"center\">   yes                  </td> <td align=\"center\">   yes                  </td> <td align=\"center\">   yes                  </td> </tr>\n",
      "<tr><td align=\"center\">   $^{1}P_1$       </td> <td align=\"center\">   1      </td> <td align=\"center\">   1      </td> <td align=\"center\">   0      </td> <td align=\"center\">   0      </td> <td align=\"center\">   no                   </td> <td align=\"center\">   yes                  </td> <td align=\"center\">   no                   </td> </tr>\n",
      "<tr><td align=\"center\">   $^{3}P_1$       </td> <td align=\"center\">   1      </td> <td align=\"center\">   1      </td> <td align=\"center\">   1      </td> <td align=\"center\">   1      </td> <td align=\"center\">   yes                  </td> <td align=\"center\">   yes                  </td> <td align=\"center\">   yes                  </td> </tr>\n",
      "<tr><td align=\"center\">   $^{3}P_2$       </td> <td align=\"center\">   2      </td> <td align=\"center\">   1      </td> <td align=\"center\">   1      </td> <td align=\"center\">   1      </td> <td align=\"center\">   yes                  </td> <td align=\"center\">   yes                  </td> <td align=\"center\">   yes                  </td> </tr>\n",
      "<tr><td align=\"center\">   $^{3}D_1$       </td> <td align=\"center\">   1      </td> <td align=\"center\">   2      </td> <td align=\"center\">   1      </td> <td align=\"center\">   0      </td> <td align=\"center\">   no                   </td> <td align=\"center\">   yes                  </td> <td align=\"center\">   no                   </td> </tr>\n",
      "<tr><td align=\"center\">   $^{3}F_2$       </td> <td align=\"center\">   2      </td> <td align=\"center\">   3      </td> <td align=\"center\">   1      </td> <td align=\"center\">   1      </td> <td align=\"center\">   yes                  </td> <td align=\"center\">   yes                  </td> <td align=\"center\">   yes                  </td> </tr>\n",
      "</tbody>\n",
      "</table>\n",
      "\n",
      "\n",
      "\n",
      "\n",
      "\n",
      "### Components of the force and quantum numbers\n",
      "The tensor force is given by"
     ]
    },
    {
     "cell_type": "markdown",
     "metadata": {},
     "source": [
      "$$\n",
      "S_{12} (\\hat r) = \\frac{3}{r^2}\\left(\\mathbf{\\sigma}_1\\cdot \\mathbf{r}\\right) \\left(\\mathbf{\\sigma}_2\\cdot \\mathbf{r}\\right) -\\mathbf{\\sigma}_1\\cdot\\mathbf{\\sigma}_2\n",
      "$$"
     ]
    },
    {
     "cell_type": "markdown",
     "metadata": {},
     "source": [
      "where the Pauli matrices are defined as"
     ]
    },
    {
     "cell_type": "markdown",
     "metadata": {},
     "source": [
      "1\n",
      "2\n",
      "3\n",
      " \n",
      "<\n",
      "<\n",
      "<\n",
      "!\n",
      "!\n",
      "M\n",
      "A\n",
      "T\n",
      "H\n",
      "_\n",
      "B\n",
      "L\n",
      "O\n",
      "C\n",
      "K"
     ]
    },
    {
     "cell_type": "markdown",
     "metadata": {},
     "source": [
      "$$\n",
      "\\sigma_y =\\begin{Bmatrix} 0 & -\\imath \\\\ \\imath & 0 \\end{Bmatrix},\n",
      "$$"
     ]
    },
    {
     "cell_type": "markdown",
     "metadata": {},
     "source": [
      "and"
     ]
    },
    {
     "cell_type": "markdown",
     "metadata": {},
     "source": [
      "$$\n",
      "\\sigma_z =\\begin{Bmatrix} 1 & 0 \\\\ 0 & -1 \\end{Bmatrix},\n",
      "$$"
     ]
    },
    {
     "cell_type": "markdown",
     "metadata": {},
     "source": [
      "with the properties $\\sigma = 2\\mathbf{S}$ (the spin of the system, being $1/2$ for nucleons), \n",
      "$\\sigma^2_x=\\sigma^2_y=\\sigma_z=\\mathbf{1}$ and\n",
      "obeying the commutation and anti-commutation relations $\\{\\sigma_x,\\sigma_y\\} =0$\n",
      "$[\\sigma_x,\\sigma_y] =\\imath\\sigma_z$ etc.\n",
      "\n",
      "\n",
      "\n",
      "### Components of the force and quantum numbers\n",
      "When we look at the expectation value of \n",
      "$\\langle \\mathbf{\\sigma}_1\\cdot\\mathbf{\\sigma}_2\\rangle$, we can rewrite this expression in terms of the\n",
      "spin $\\mathbf{S}=\\mathbf{s}_1+\\mathbf{s}_2$, resulting in"
     ]
    },
    {
     "cell_type": "markdown",
     "metadata": {},
     "source": [
      "$$\n",
      "\\langle\\mathbf{\\sigma}_1\\cdot\\mathbf{\\sigma}_2\\rangle=2(S^2-s_1^2-s_2^2)=2S(S+1)-3,\n",
      "$$"
     ]
    },
    {
     "cell_type": "markdown",
     "metadata": {},
     "source": [
      "where we $s_1=s_2=1/2$ leading to"
     ]
    },
    {
     "cell_type": "markdown",
     "metadata": {},
     "source": [
      "$$\n",
      "\\left\\{ \\begin{array}{cc} \\langle\\mathbf{\\sigma}_1\\cdot\\mathbf{\\sigma}_2\\rangle=1 &  \\mathrm{if} \\hspace{0.2cm} S=1\\\\\n",
      "\\langle\\mathbf{\\sigma}_1\\cdot\\mathbf{\\sigma}_2\\rangle=-3 & \\mathrm{if} \\hspace{0.2cm} S=0\\\\\\end{array}\\right.\n",
      "$$"
     ]
    },
    {
     "cell_type": "markdown",
     "metadata": {},
     "source": [
      "### Components of the force and quantum numbers\n",
      "\n",
      "Similarly, the expectation value of the spin-orbit term is"
     ]
    },
    {
     "cell_type": "markdown",
     "metadata": {},
     "source": [
      "$$\n",
      "\\langle \\mathbf{l}\\mathbf{S} \\rangle = \\frac{1}{2}\\left( J(J+1)-l(l+1)-S(S+1)\\right),\n",
      "$$"
     ]
    },
    {
     "cell_type": "markdown",
     "metadata": {},
     "source": [
      "which means that for $s$-waves with either $S=0$ and thereby $J=0$ or $S=1$ and $J=1$, \n",
      "the expectation value for the\n",
      "spin-orbit force is zero. With the above phenomenological model, the\n",
      "only contributions to the expectation value of the potential energy for $s$-waves\n",
      "stem  from the central and the spin-spin components since the\n",
      "expectation value of the tensor force is also zero.\n",
      "\n",
      "\n",
      "\n",
      "### Components of the force and quantum numbers\n",
      " For $s=1/2$ spin values only for two nucleons, the expectation value of the tensor force operator is \n",
      "\n",
      "<table border=\"1\">\n",
      "<thead>\n",
      "<tr><th align=\"center\">     </th> <th align=\"center\">             $l'$            </th> <th align=\"center\">   </th> <th align=\"center\">                             </th> </tr>\n",
      "</thead>\n",
      "<tbody>\n",
      "<tr><td align=\"center\">   $l$      </td> <td align=\"center\">   $J+1$                            </td> <td align=\"center\">   $J$    </td> <td align=\"center\">   $J-1$                            </td> </tr>\n",
      "<tr><td align=\"center\">            </td> <td align=\"center\">                                    </td> <td align=\"center\">          </td> <td align=\"center\">                                    </td> </tr>\n",
      "<tr><td align=\"center\">   $J+1$    </td> <td align=\"center\">   $-\\frac{2J(J+2)}{2J+1}$          </td> <td align=\"center\">   0      </td> <td align=\"center\">   $\\frac{6\\sqrt{J(J+1)}}{2J+1}$    </td> </tr>\n",
      "<tr><td align=\"center\">            </td> <td align=\"center\">                                    </td> <td align=\"center\">          </td> <td align=\"center\">                                    </td> </tr>\n",
      "<tr><td align=\"center\">   $J$      </td> <td align=\"center\">   0                                </td> <td align=\"center\">   2      </td> <td align=\"center\">   0                                </td> </tr>\n",
      "<tr><td align=\"center\">            </td> <td align=\"center\">                                    </td> <td align=\"center\">          </td> <td align=\"center\">                                    </td> </tr>\n",
      "<tr><td align=\"center\">   $J-1$    </td> <td align=\"center\">   $\\frac{6\\sqrt{J(J+1)}}{2J+1}$    </td> <td align=\"center\">   0      </td> <td align=\"center\">   $-\\frac{2(2J+1)}{2J+1}$          </td> </tr>\n",
      "<tr><td align=\"center\">            </td> <td align=\"center\">                                    </td> <td align=\"center\">          </td> <td align=\"center\">                                    </td> </tr>\n",
      "</tbody>\n",
      "</table>\n",
      "We will derive these expressions after we have discussed the Wigner-Eckart theorem.\n",
      "\n",
      "\n",
      "\n",
      "\n",
      "\n",
      "\n",
      "### Components of the force and isospin\n",
      "If we now add isospin to our simple $V_4$ interaction model, we end up with $8$ operators, popularly dubbed $V_8$ interaction model. The explicit form reads"
     ]
    },
    {
     "cell_type": "markdown",
     "metadata": {},
     "source": [
      "1\n",
      "2\n",
      "9\n",
      " \n",
      "<\n",
      "<\n",
      "<\n",
      "!\n",
      "!\n",
      "M\n",
      "A\n",
      "T\n",
      "H\n",
      "_\n",
      "B\n",
      "L\n",
      "O\n",
      "C\n",
      "K"
     ]
    },
    {
     "cell_type": "markdown",
     "metadata": {},
     "source": [
      "1\n",
      "3\n",
      "0\n",
      " \n",
      "<\n",
      "<\n",
      "<\n",
      "!\n",
      "!\n",
      "M\n",
      "A\n",
      "T\n",
      "H\n",
      "_\n",
      "B\n",
      "L\n",
      "O\n",
      "C\n",
      "K"
     ]
    },
    {
     "cell_type": "markdown",
     "metadata": {},
     "source": [
      "1\n",
      "3\n",
      "1\n",
      " \n",
      "<\n",
      "<\n",
      "<\n",
      "!\n",
      "!\n",
      "M\n",
      "A\n",
      "T\n",
      "H\n",
      "_\n",
      "B\n",
      "L\n",
      "O\n",
      "C\n",
      "K"
     ]
    },
    {
     "cell_type": "markdown",
     "metadata": {},
     "source": [
      "$$\n",
      "\\left. + C_{SL\\tau} \\left( {1\\over m_\\alpha r} + {1\\over \\left( m_\\alpha r\\right)^2}\n",
      "\\right) \\mathbf{L}\\cdot \\mathbf{S}\n",
      "\\right\\}\\mathbf{\\tau}_1\\cdot\\mathbf{\\tau}_2 \\frac{e^{-m_\\alpha r}}{m_\\alpha r}\n",
      "$$"
     ]
    },
    {
     "cell_type": "markdown",
     "metadata": {},
     "source": [
      "### Phenomenology of nuclear forces\n",
      "**References for Various Phenomenological Interactions.**\n",
      "\n",
      "\n",
      "From 1950 till approximately 2000: One-Boson-Exchange (OBE) models dominate. These are models which typically include several low-mass mesons, that is with masses below 1 GeV.   Potentials which are based upon the standard non-relativistic operator structure\n",
      " are called \"Phenomenological Potentials\" Some historically important examples are   \n",
      "* Gammel-Thaler potential ( Phys. Rev. **107**, 291, 1339 (1957) and the \n",
      "\n",
      "* Hamada-Johnston potential, Nucl. Phys. **34**, 382 (1962)), both with a hard core.\n",
      "\n",
      "* Reid potential (Ann. Phys. (N.Y.) **50**, 411 (1968)), soft core.\n",
      "\n",
      "* Argonne $V_{14}$ potential (Wiringa et al., Phys. Rev. C **29**, 1207 (1984)) with 14 operators and  the  Argonne $V_{18}$ potential (Wiringa et al., Phys. Rev. C **51**, 38 (1995)), uses 18 operators\n",
      "\n",
      "* A good historical reference: R. Machleidt, Adv. Nucl. Phys.  **19**, 189 (1989).\n",
      "\n",
      "Now: models based on chiral perturbation theory. These are effective models with nucleons and pions as degrees of freedom only. The other mesons which appeared in standard one-boson model appear as multi-pion resonances.\n",
      "\n",
      "\n",
      "\n",
      "\n",
      "\n",
      "\n",
      "### Phenomenology of nuclear forces\n",
      "The total two-nucleon state function has to be anti-symmetric. The total function contains a spatial part, a spin part and an isospin part. If isospin is conserved, this leads to in case we have an $s$-wave with spin $S=0$ to an isospin \n",
      "two-body state with $T=1$ since the spatial part is symmetric and the spin part is anti-symmetric. \n",
      "\n",
      "Since the projections for $T$ are $T_z=-1,0,1$, we can have a $pp$, an $nn$ and a $pn$ state.\n",
      "\n",
      "For $l=0$ and $S=1$, a so-called triplet state, $^3S_1$, we must have $T=0$, meaning that we have only one state, a $pn$ state. For other partial waves, see exercises below.\n",
      "\n",
      "\n",
      "\n",
      "### Phenomenology of nuclear forces\n",
      "**Phenomenology of one-pion exchange.**\n",
      "\n",
      "\n",
      "The one-pion exchange contribution (see derivation below), can be written as"
     ]
    },
    {
     "cell_type": "markdown",
     "metadata": {},
     "source": [
      "$$\n",
      "V_{\\pi}(\\mathbf{r})= -\\frac{f_{\\pi}^{2}}{4\\pi m_{\\pi}^{2}}\\mathbf{ \\tau}_1\\cdot\\mathbf{\\tau}_2\n",
      "\\frac{1}{3}\\left\\{\\mathbf{ \\sigma}_1\\cdot\\mathbf{ \\sigma}_2+\\left( 1 + {3\\over m_\\pi r} + {3\\over\\left(m_\\pi r\\right)^2}\\right) S_{12} (\\hat r)\\right\\} \\frac{e^{-m_\\pi r}}{m_\\pi r}.\n",
      "$$"
     ]
    },
    {
     "cell_type": "markdown",
     "metadata": {},
     "source": [
      "Here the constant $f_{\\pi}^{2}/4\\pi\\approx 0.08$ and the mass of the pion is $m_\\pi\\approx 140$ MeV/$\\mbox{c}^2$.\n",
      "\n",
      "\n",
      "### Phenomenology of nuclear forces\n",
      "Let us look closer at specific partial waves for which one-pion exchange is applicable. If we have $S=0$ and $T=0$, the \n",
      "orbital momentum has to be an odd number in order for the total anti-symmetry to be obeyed. For $S=0$, the tensor force component is zero, meaning that \n",
      "the only contribution is"
     ]
    },
    {
     "cell_type": "markdown",
     "metadata": {},
     "source": [
      "$$\n",
      "V_{\\pi}(\\mathbf{r})=\\frac{3f_{\\pi}^{2}}{4\\pi m_{\\pi}^{2}}\\frac{e^{-m_\\pi r}}{m_\\pi r},\n",
      "$$"
     ]
    },
    {
     "cell_type": "markdown",
     "metadata": {},
     "source": [
      "since $\\langle\\mathbf{ \\sigma}_1\\cdot\\mathbf{ \\sigma}_2\\rangle=-3$, that is we obtain a repulsive contribution to partial waves like \n",
      "$^1P_0$.\n",
      "\n",
      "\n",
      "### Phenomenology of nuclear forces\n",
      "Since $S=0$ yields always a zero tensor force contribution, for the combination of $T=1$ and then even $l$ values, we get an attractive contribution"
     ]
    },
    {
     "cell_type": "markdown",
     "metadata": {},
     "source": [
      "$$\n",
      "V_{\\pi}(\\mathbf{r})=-\\frac{f_{\\pi}^{2}}{4\\pi m_{\\pi}^{2}}\\frac{e^{-m_\\pi r}}{m_\\pi r}.\n",
      "$$"
     ]
    },
    {
     "cell_type": "markdown",
     "metadata": {},
     "source": [
      "With $S=1$ and $T=0$, $l$ can only take even values in order to obey the anti-symmetry requirements and we get"
     ]
    },
    {
     "cell_type": "markdown",
     "metadata": {},
     "source": [
      "$$\n",
      "V_{\\pi}(\\mathbf{r})= -\\frac{f_{\\pi}^{2}}{4\\pi m_{\\pi}^{2}}\n",
      "\\left(1+( 1 + {3\\over m_\\pi r} + {3\\over\\left(m_\\pi r\\right))^2}) S_{12} (\\hat r)\\right) \\frac{e^{-m_\\pi r}}{m_\\pi r},\n",
      "$$"
     ]
    },
    {
     "cell_type": "markdown",
     "metadata": {},
     "source": [
      "while for $S=1$ and $T=1$, $l$ can only take odd values, resulting in a repulsive contribution"
     ]
    },
    {
     "cell_type": "markdown",
     "metadata": {},
     "source": [
      "$$\n",
      "V_{\\pi}(\\mathbf{r})= \\frac{1}{3}\\frac{f_{\\pi}^{2}}{4\\pi m_{\\pi}^{2}}\\left(1+( 1 + {3\\over m_\\pi r} + {3\\over\\left(m_\\pi r\\right)^2}) S_{12} (\\hat r)\\right) \\frac{e^{-m_\\pi r}}{m_\\pi r}.\n",
      "$$"
     ]
    },
    {
     "cell_type": "markdown",
     "metadata": {},
     "source": [
      "### Phenomenology of nuclear forces\n",
      "\n",
      "The central part of one-pion exchange interaction, arising from the spin-spin term,  \n",
      "is thus attractive for $s$-waves and all even $l$ values. For $p$-waves and all other odd values\n",
      "it is repulsive. However, its overall strength is weak. This is discussed further in one of exercises below.\n",
      "\n",
      "\n",
      "\n",
      "\n",
      "\n",
      "### Models for nuclear forces and derivation of non-relativistic expressions\n",
      "To describe the interaction between the various baryons and mesons of the previous\n",
      "table we choose the following phenomenological\n",
      "lagrangians\n",
      "for spin $1/2$ baryons"
     ]
    },
    {
     "cell_type": "markdown",
     "metadata": {},
     "source": [
      "1\n",
      "3\n",
      "8\n",
      " \n",
      "<\n",
      "<\n",
      "<\n",
      "!\n",
      "!\n",
      "M\n",
      "A\n",
      "T\n",
      "H\n",
      "_\n",
      "B\n",
      "L\n",
      "O\n",
      "C\n",
      "K"
     ]
    },
    {
     "cell_type": "markdown",
     "metadata": {},
     "source": [
      "$$\n",
      "{\\cal L}_{s} =g^{s}\\overline{\\Psi}\\Psi\\phi^{(s)},\n",
      "$$"
     ]
    },
    {
     "cell_type": "markdown",
     "metadata": {},
     "source": [
      "and"
     ]
    },
    {
     "cell_type": "markdown",
     "metadata": {},
     "source": [
      "$$\n",
      "{\\cal L}_{v} =g^{v}\\overline{\\Psi}\\gamma_{\\mu}\\Psi\\phi_{\\mu}^{(v)}\n",
      "   +g^{t}\\overline{\\Psi}\\sigma^{\\mu\\nu}\\Psi\\left\n",
      "   (\\partial_{\\mu}\\phi_{\\nu}^{(v)}\n",
      "   -\\partial_{\\nu}\\phi_{\\mu}^{(v)}\\right),\n",
      "$$"
     ]
    },
    {
     "cell_type": "markdown",
     "metadata": {},
     "source": [
      "for pseudoscalar (ps), scalar (s) and vector (v) coupling, respectively.\n",
      "The factors $g^{v}$ and $g^{t}$ are the vector\n",
      "and tensor coupling constants, respectively.\n",
      "\n",
      "\n",
      "\n",
      "### Models for nuclear forces and derivation of non-relativistic expressions\n",
      "For spin $1/2$ baryons, the fields $\\Psi$ are expanded\n",
      "in terms of the Dirac spinors (positive energy\n",
      "solution shown here with $\\overline{u}u=1$)"
     ]
    },
    {
     "cell_type": "markdown",
     "metadata": {},
     "source": [
      "$$\n",
      "u(k\\sigma)=\\sqrt{\\frac{E(k)+m}{2m}}\n",
      "\t  \\left(\\begin{array}{c} \\chi\\\\ \\\\\n",
      "\t  \\frac{\\mathbf{\\sigma}\\mathbf{k}}{E(k)+m}\\chi\n",
      "\t  \\end{array}\\right),\n",
      "$$"
     ]
    },
    {
     "cell_type": "markdown",
     "metadata": {},
     "source": [
      "with $\\chi$ the familiar Pauli spinor and $E(k) =\\sqrt{m^2 +|\\mathbf{k}|^2}$. \n",
      "The positive energy part of the field $\\Psi$ reads"
     ]
    },
    {
     "cell_type": "markdown",
     "metadata": {},
     "source": [
      "$$\n",
      "\\Psi (x)={\\displaystyle \\frac{1}{(2\\pi )^{3/2}}\n",
      "        \\sum_{\\mathbf{k}\\mathbf{\\sigma}}u(k\\mathbf{\\sigma})\\exp{-(ikx)}a_{\\mathbf{k}\\mathbf{\\sigma}}},\n",
      "$$"
     ]
    },
    {
     "cell_type": "markdown",
     "metadata": {},
     "source": [
      "with $a$ being a fermion annihilation operator.\n",
      "\n",
      "\n",
      "\n",
      "### Models for nuclear forces and derivation of non-relativistic expressions\n",
      "Expanding the free Dirac spinors\n",
      "in terms of $1/m$ ($m$ is here the mass of the relevant baryon) \n",
      "results, to lowest order, in the familiar non-relativistic\n",
      "expressions for baryon-baryon potentials.\n",
      "The configuration space version of the interaction can be approximated as"
     ]
    },
    {
     "cell_type": "markdown",
     "metadata": {},
     "source": [
      "1\n",
      "4\n",
      "3\n",
      " \n",
      "<\n",
      "<\n",
      "<\n",
      "!\n",
      "!\n",
      "M\n",
      "A\n",
      "T\n",
      "H\n",
      "_\n",
      "B\n",
      "L\n",
      "O\n",
      "C\n",
      "K"
     ]
    },
    {
     "cell_type": "markdown",
     "metadata": {},
     "source": [
      "$$\n",
      "+ C_{SL}\\left. \\left( {1\\over m_\\alpha r} + {1\\over \\left( m_\\alpha r\\right)^2}\n",
      "\\right) \\mathbf{L}\\cdot \\mathbf{S}\n",
      "\\right\\} \\frac{\\exp{-(m_\\alpha r)}}{m_\\alpha r},\n",
      "$$"
     ]
    },
    {
     "cell_type": "markdown",
     "metadata": {},
     "source": [
      "where $m_{\\alpha}$ is the mass of the relevant meson and\n",
      "$S_{12}$ is the familiar tensor term.\n",
      "\n",
      "\n",
      "\n",
      "### Models for nuclear forces and derivation of non-relativistic expressions\n",
      "We derive now the non-relativistic one-pion exchange interaction.\n",
      "\n",
      "Here $p_{1}$, $p_{1}'$, $p_{2}$, $p_{2}'$ and $k=p_{1}-p_{1}'$ denote \n",
      "four-momenta.  \n",
      "The vertices are \n",
      "given by the pseudovector Lagrangian"
     ]
    },
    {
     "cell_type": "markdown",
     "metadata": {},
     "source": [
      "$$\n",
      "{\\cal L}_{pv}=\\frac{f_{\\pi}}{m_{\\pi}}\\overline{\\psi}\\gamma_{5}\\gamma_{\\mu}\n",
      "\\psi\\partial^{\\mu}\\phi_{\\pi}.\n",
      "$$"
     ]
    },
    {
     "cell_type": "markdown",
     "metadata": {},
     "source": [
      "From the Feynman diagram rules we can write the two-body interaction as"
     ]
    },
    {
     "cell_type": "markdown",
     "metadata": {},
     "source": [
      "$$\n",
      "V^{pv}=\\frac{f_{\\pi}^{2}}{m_{\\pi}^{2}}\\frac{\\overline{u}(p_{1}')\\gamma_{5}\n",
      "\\gamma_{\\mu}(p_{1}-p_{1}')^{\\mu}u(p_{1})\\overline{u}(p_{2}')\\gamma_{5}\n",
      "\\gamma_{\\nu}(p_{2}'-p_{2})^{\\nu}u(p_{2})}{(p_{1}-p_{1}')^{2}-m_{\\pi}^{2}}.\n",
      "$$"
     ]
    },
    {
     "cell_type": "markdown",
     "metadata": {},
     "source": [
      "### Models for nuclear forces and derivation of non-relativistic expressions\n",
      "The factors $p_{1}-p_{1}'=p_{2}'-p_{2}$ are both the four-momentum of the \n",
      "exchanged meson and come from the derivative of the meson field in \n",
      "the interaction Lagrangian. \n",
      "The Dirac spinors obey"
     ]
    },
    {
     "cell_type": "markdown",
     "metadata": {},
     "source": [
      "$$\n",
      "\\begin{eqnarray*}\n",
      "\\gamma_{\\mu}p^{\\mu}u(p)&=&mu(p) \\nonumber \\\\\n",
      "\\overline{u}(p)\\gamma_{\\mu}p^{\\mu}&=&m\\overline{u}(p). \\nonumber\n",
      "\\end{eqnarray*}\n",
      "$$"
     ]
    },
    {
     "cell_type": "markdown",
     "metadata": {},
     "source": [
      "### Models for nuclear forces and derivation of non-relativistic expressions\n",
      "Using these relations, together with $\\{\\gamma_{5},\\gamma_{\\mu}\\}=0$, we find"
     ]
    },
    {
     "cell_type": "markdown",
     "metadata": {},
     "source": [
      "$$\n",
      "\\begin{eqnarray*}\n",
      "\\overline{u}(p_{1}')\\gamma_{5}\\gamma_{\\mu}(p_{1}-p_{1}')^{\\mu}u(p_{1})\n",
      "&=&m\\overline{u}(p_{1}')\\gamma_{5}u(p_{1})+\\overline{u}(p_{1}')\\gamma_{\\mu}\n",
      "p_{1}'^{\\mu}\\gamma_{5}u(p_{1}) \\nonumber \\\\\n",
      " &=&2m\\overline{u}(p_{1}')\\gamma_{5}u(p_{1}) \\nonumber\n",
      "\\end{eqnarray*}\n",
      "$$"
     ]
    },
    {
     "cell_type": "markdown",
     "metadata": {},
     "source": [
      "and"
     ]
    },
    {
     "cell_type": "markdown",
     "metadata": {},
     "source": [
      "$$\n",
      "\\overline{u}(p_{2}')\\gamma_{5}\\gamma_{\\mu}(p_{2}'-p_{2})^{\\mu}=\n",
      "-2m\\overline{u}(p_{2}')\\gamma_{5}u(p_{1}).\n",
      "$$"
     ]
    },
    {
     "cell_type": "markdown",
     "metadata": {},
     "source": [
      "### Models for nuclear forces and derivation of non-relativistic expressions\n",
      "We get"
     ]
    },
    {
     "cell_type": "markdown",
     "metadata": {},
     "source": [
      "$$\n",
      "V^{pv}=-\\frac{f_{\\pi}^{2}}{m_{\\pi}^{2}}4m^{2}\\frac{\\overline{u}(p_{1}')\n",
      "\\gamma_{5}u(p_{1})\\overline{u}(p_{2}')\\gamma_{5}u(p_{2})}{(p_{1}-p_{1}')\n",
      "^{2}-m_{\\pi}^{2}}.\n",
      "$$"
     ]
    },
    {
     "cell_type": "markdown",
     "metadata": {},
     "source": [
      "By inserting expressions for the Dirac spinors, we find"
     ]
    },
    {
     "cell_type": "markdown",
     "metadata": {},
     "source": [
      "$$\n",
      "\\begin{eqnarray*}\n",
      "\\overline{u}(p_{1}')\\gamma_{5}u(p_{1})&=&\\sqrt{\\frac{(E_{1}'+m)(E_{1}+m)}\n",
      "{4m^{2}}}\\left(\\begin{array}{cc}\\chi^{\\dagger}&-\\frac{\\sigma_{1}\\cdot{\n",
      "\\bf p_{1}}}{E_{1}'\n",
      "+m}\\chi^{\\dagger}\\end{array}\\right)\\left(\\begin{array}{cc}0&1\\\\1&0\\end{array}\n",
      "\\right)\\nonumber \\\\\n",
      " &&\\times \\left(\\begin{array}{c}\\chi\\\\ \\frac{\\sigma_{1}\\cdot\\mathbf{p_{1}}}{E_{1}+m}\\chi\n",
      "\\end{array}\\right) \n",
      "\\nonumber \\\\\n",
      " &=&\\sqrt{\\frac{(E_{1}'+m)(E_{1}+m)}{4m^{2}}}\\left(\\frac{\\sigma_{1}\\cdot\n",
      "\\mathbf{p_{1}}}{E_{1}+m}-\\frac{\\sigma_{1}\\cdot\\mathbf{p_{1}'}}{E_{1}'+m}\\right) \n",
      "\\nonumber \n",
      "\\end{eqnarray*}\n",
      "$$"
     ]
    },
    {
     "cell_type": "markdown",
     "metadata": {},
     "source": [
      "### Models for nuclear forces and derivation of non-relativistic expressions\n",
      "Similarly"
     ]
    },
    {
     "cell_type": "markdown",
     "metadata": {},
     "source": [
      "$$\n",
      "\\overline{u}(p_{2}')\\gamma_{5}u(p_{2})=\\sqrt{\\frac{(E_{2}'+m)(E_{2}+m)}\n",
      "{4m^{2}}}\\left(\\frac{\\sigma_{2}\\cdot \\mathbf{p}_{2}}{E_{2}+m}-\n",
      "\\frac{\\sigma_{2}\\cdot\\mathbf{p'}_{2}}{E_{2}'+m}\\right).\n",
      "$$"
     ]
    },
    {
     "cell_type": "markdown",
     "metadata": {},
     "source": [
      "In the CM system we have $\\mathbf{p}_{2}=-\\mathbf{p}_{1}$, $\\mathbf{p'}_{2}=\n",
      "-\\mathbf{p'}_{1}$ and so $E_{2}=E_{1}$, $E_{2}'=E_{1}'$.  \n",
      "We can then write down the relativistic contribution \n",
      "to the NN potential in the CM system:"
     ]
    },
    {
     "cell_type": "markdown",
     "metadata": {},
     "source": [
      "$$\n",
      "\\begin{eqnarray}\n",
      "V^{pv}&=&-\\frac{f_{\\pi}^{2}}{m_{\\pi}^{2}}4m^{2}\\frac{1}{(p_{1}-p_{1}')^{2}-\n",
      "m_{\\pi}^{2}}\\frac{(E_{1}+m)(E_{1}'+m)}{4m^{2}} \\nonumber \\\\ \n",
      " &\\times&\\left(\\frac{\\sigma_{1}\\cdot\\mathbf{p}_{1}}{E_{1}+m}-\\frac{\\sigma_{1}\n",
      "\\cdot\\mathbf{p'}_{1}}{E_{1}'+m}\\right)\\left(\\frac{\\sigma_{2}\\cdot\\mathbf{p}_{1}}\n",
      "{E_{1}+m}-\\frac{\\sigma_{2}\\cdot\\mathbf{p'}_{1}}{E_{1}'+m}\\right). \\nonumber\n",
      "\\end{eqnarray}\n",
      "$$"
     ]
    },
    {
     "cell_type": "markdown",
     "metadata": {},
     "source": [
      "### Models for nuclear forces and derivation of non-relativistic expressions\n",
      "In the non-relativistic limit we have to lowest order"
     ]
    },
    {
     "cell_type": "markdown",
     "metadata": {},
     "source": [
      "$$\n",
      "E_{1}=\\sqrt{\\mathbf{p}_{1}^{2}+m^{2}}\\approx m \\approx E_{1}'\n",
      "$$"
     ]
    },
    {
     "cell_type": "markdown",
     "metadata": {},
     "source": [
      "and then $(p_{1}-p_{1}')^{2}=-\\mathbf{k}^{2}$, so we get \n",
      "for the contribution to the NN potential"
     ]
    },
    {
     "cell_type": "markdown",
     "metadata": {},
     "source": [
      "$$\n",
      "\\begin{eqnarray}\n",
      "V^{pv}&=&-\\frac{f_{\\pi}^{2}}{m_{\\pi}^{2}}4m^{2}\\frac{1}{\\mathbf{k}^{2}+m^{2}}\n",
      "\\frac{2m\\cdot 2m}{4m^{2}}\\frac{\\sigma_{1}}{2m}\\cdot(\\mathbf{p}_{1}-\\mathbf{p'}_{1})\n",
      "\\frac{\\sigma_{2}}{2m}\\cdot (\\mathbf{p}_{1}-\\mathbf{p'}_{1}) \\nonumber \\\\ \n",
      " &=&-\\frac{f_{\\pi}^{2}}{m_{\\pi}^{2}}\n",
      "\\frac{(\\sigma_{1}\\cdot\\mathbf{k})(\\sigma_{2}\\cdot\\mathbf{k})}{\\mathbf{k}^{2}+m_{\\pi}^{2}}.\n",
      "\\nonumber\n",
      "\\end{eqnarray}\n",
      "$$"
     ]
    },
    {
     "cell_type": "markdown",
     "metadata": {},
     "source": [
      "We have omitted exchange terms and the isospin term $\\mathbf{\\tau}_1\\cdot\\mathbf{\\tau}_2$.\n",
      "\n",
      "\n",
      "\n",
      "### Models for nuclear forces and derivation of non-relativistic expressions\n",
      "We have"
     ]
    },
    {
     "cell_type": "markdown",
     "metadata": {},
     "source": [
      "$$\n",
      "V^{pv}(k)=-\\frac{f_{\\pi}^{2}}{m_{\\pi}^{2}}\n",
      "\\frac{(\\sigma_{1}\\cdot\\mathbf{k})(\\sigma_{2}\\cdot\\mathbf{k})}{\\mathbf{k}^{2}+m_{\\pi}^{2}}.\n",
      "$$"
     ]
    },
    {
     "cell_type": "markdown",
     "metadata": {},
     "source": [
      "In coordinate space we have"
     ]
    },
    {
     "cell_type": "markdown",
     "metadata": {},
     "source": [
      "$$\n",
      "V^{pv}(r)=\\int\\frac{d^3k}{(2\\pi)^3}e^{i\\mathbf{kr}}V^{pv}(k)\n",
      "$$"
     ]
    },
    {
     "cell_type": "markdown",
     "metadata": {},
     "source": [
      "resulting in"
     ]
    },
    {
     "cell_type": "markdown",
     "metadata": {},
     "source": [
      "$$\n",
      "V^{pv}(r)=-\\frac{f_{\\pi}^{2}}{m_{\\pi}^{2}}\n",
      "\\sigma_{1}\\cdot{\\nabla}\\sigma_{2}\\cdot{\\nabla}\n",
      "\\int\\frac{d^3k}{(2\\pi)^3}e^{i\\mathbf{kr}}\\frac{1}{\\mathbf{k}^{2}+m_{\\pi}^{2}}.\n",
      "$$"
     ]
    },
    {
     "cell_type": "markdown",
     "metadata": {},
     "source": [
      "### Models for nuclear forces and derivation of non-relativistic expressions\n",
      "We obtain"
     ]
    },
    {
     "cell_type": "markdown",
     "metadata": {},
     "source": [
      "$$\n",
      "V^{pv}(r)=-\\frac{f_{\\pi}^{2}}{m_{\\pi}^{2}}\\sigma_{1}\\cdot{\\nabla}\\sigma_{2}\\cdot{\\nabla}\\frac{e^{-m_{\\pi}r}}{r}.\n",
      "$$"
     ]
    },
    {
     "cell_type": "markdown",
     "metadata": {},
     "source": [
      "Carrying out the differentation of"
     ]
    },
    {
     "cell_type": "markdown",
     "metadata": {},
     "source": [
      "$$\n",
      "V^{pv}(r)=-\\frac{f_{\\pi}^{2}}{m_{\\pi}^{2}}\\sigma_{1}\\cdot{\\nabla}\\sigma_{2}\\cdot{\\nabla}\\frac{e^{-m_{\\pi}r}}{r}.\n",
      "$$"
     ]
    },
    {
     "cell_type": "markdown",
     "metadata": {},
     "source": [
      "we arrive at the famous one-pion exchange potential with central and tensor parts"
     ]
    },
    {
     "cell_type": "markdown",
     "metadata": {},
     "source": [
      "$$\n",
      "V(\\mathbf{r})= -\\frac{f_{\\pi}^{2}}{m_{\\pi}^{2}}\\left\\{C_{\\sigma}\\mathbf{\\sigma}_1\\cdot\\mathbf{\\sigma}_2+ C_T \\left( 1 + \\frac{3}{m_\\alpha r} + \\frac{3}{\\left(m_\\alpha r\\right)^2}\\right) S_{12}(\\hat r)\\right\\}\\frac{\\exp{-m_\\pi r}}{m_\\pi r}.\n",
      "$$"
     ]
    },
    {
     "cell_type": "markdown",
     "metadata": {},
     "source": [
      "For the full potential add the exchange part and the $\\mathbf{\\tau}_1\\cdot\\mathbf{\\tau}_2$ term as well. (Subtle point: there is a divergence which gets cancelled by using cutoffs) This leads to coefficients $C_{\\sigma}$ and $C_T$ which are fitted to data.\n",
      "\n",
      "\n",
      "\n",
      "### Models for nuclear forces and derivation of non-relativistic expressions\n",
      "When we perform similar non-relativistic expansions for scalar and vector mesons we obtain\n",
      "for the $\\sigma$ meson"
     ]
    },
    {
     "cell_type": "markdown",
     "metadata": {},
     "source": [
      "$$\n",
      "V^{\\sigma}= g_{\\sigma NN}^{2}\\frac{1}{\\mathbf{k}^{2}+m_{\\sigma}^{2}}\\left (-1+\\frac{\\mathbf{q}^{2}}{2M_N^2}\n",
      "-\\frac{\\mathbf{k}^{2}}{8M_N^2}-\\frac{\\mathbf{LS}}{2M_N^2}\\right).\n",
      "$$"
     ]
    },
    {
     "cell_type": "markdown",
     "metadata": {},
     "source": [
      "We note an attractive central force and spin-orbit force. This term has an intermediate range.\n",
      "We have defined $1/2(p_{1}+p_{1}')=\\mathbf{q}$.\n",
      "For the full potential add the exchange part and the isospin dependence as well.\n",
      "\n",
      "\n",
      "\n",
      "### Models for nuclear forces and derivation of non-relativistic expressions\n",
      "We obtain\n",
      "for the $\\omega$ meson"
     ]
    },
    {
     "cell_type": "markdown",
     "metadata": {},
     "source": [
      "$$\n",
      "V^{\\omega}= g_{\\omega NN}^{2}\\frac{1}{\\mathbf{k}^{2}+m_{\\omega}^{2}}\\left (1-3\\frac{\\mathbf{LS}}{2M_N^2}\\right).\n",
      "$$"
     ]
    },
    {
     "cell_type": "markdown",
     "metadata": {},
     "source": [
      "We note a repulsive central force and an attractive spin-orbit force. This term has  short range.\n",
      "For the full potential add the exchange part and the isospin dependence as well.\n",
      "\n",
      "\n",
      "\n",
      "### Models for nuclear forces and derivation of non-relativistic expressions\n",
      "Finally \n",
      "for the $\\rho$ meson"
     ]
    },
    {
     "cell_type": "markdown",
     "metadata": {},
     "source": [
      "$$\n",
      "V^{\\rho}= g_{\\rho NN}^{2}\\frac{\\mathbf{k}^{2}}{\\mathbf{k}^{2}+m_{\\rho}^{2}}\\left (\n",
      "-2\\sigma_{1}\\sigma_{2}+S_{12}(\\hat{k})\\right)\\tau_{1}\\tau_{2}.\n",
      "$$"
     ]
    },
    {
     "cell_type": "markdown",
     "metadata": {},
     "source": [
      "We note a tensor force with sign opposite to that of the pion. This term has  short range. For the full potential add the exchange part and the isospin dependence as well.\n",
      "\n",
      "\n",
      "\n",
      "\n",
      "\n",
      "### Models for nuclear forces and derivation of non-relativistic expressions\n",
      "\n",
      "* Can use a one-boson exchange picture to construct a nucleon-nucleon interaction a la QED\n",
      "\n",
      "* Non-relativistic approximation yields amongst other things a spin-orbit force which is much stronger than in atoms.\n",
      "\n",
      "* At large intermediate distances pion exchange dominates while  pion resonances (other mesons) dominate at intermediate and short range \n",
      "\n",
      " * Potentials are parameterized to fit selected two-nucleon data, binding energies and scattering phase shifts.\n",
      "\n",
      "\n",
      "* Nowaydays, chiral perturbation theory gives an effective theory that allows a systematic expansion in terms of contrallable parameters. Good basis for many-body physics\n",
      "\n",
      "\n",
      "\n",
      "\n",
      "\n",
      "### The Lippman-Schwinger equation for two-nucleon scattering\n",
      "What follows now is a more technical discussion on how we can solve the two-nucleon problem.\n",
      "This will lead us to the so-called Lippman-Schwinger equation for the scattering problem and a rewrite of Schroedinger's equation in relative and center-of-mass coordinates. \n",
      "\n",
      "\n",
      "Before we break down the Schroedinger equation into a partial wave decomposition, we derive now the so-called Lippman-Schwinger equation. We will do this in an operator form first.\n",
      "Thereafter, we rewrite it in terms of various quantum numbers such as relative momenta, orbital momenta etc. \n",
      "The Schroedinger equation in abstract vector representation is"
     ]
    },
    {
     "cell_type": "markdown",
     "metadata": {},
     "source": [
      "$$\n",
      "\\left( \\hat{H}_0 + \\hat{V} \\right) \\vert \\psi_n \\rangle = E_n \\vert\\psi_n \\rangle.\n",
      "$$"
     ]
    },
    {
     "cell_type": "markdown",
     "metadata": {},
     "source": [
      "In our case for the two-body problem $\\hat{H}_0$ is just the kinetic energy. \n",
      "We rewrite it as"
     ]
    },
    {
     "cell_type": "markdown",
     "metadata": {},
     "source": [
      "$$\n",
      "\\left( \\hat{H}_0 -E_n \\right)\\vert\\psi_n \\rangle =-\\hat{V}\\vert \\psi_n \\rangle .\n",
      "$$"
     ]
    },
    {
     "cell_type": "markdown",
     "metadata": {},
     "source": [
      "We assume that the invers of $\\left( \\hat{H}_0 -E_n\\right)$ exists and rewrite this equation as"
     ]
    },
    {
     "cell_type": "markdown",
     "metadata": {},
     "source": [
      "$$\n",
      "\\vert\\psi_n \\rangle =\\frac{1}{\\left( E_n -\\hat{H}_0\\right)}\\hat{V}\\vert \\psi_n \\rangle .\n",
      "$$"
     ]
    },
    {
     "cell_type": "markdown",
     "metadata": {},
     "source": [
      "### The Lippman-Schwinger equation for two-nucleon scattering\n",
      "The equation"
     ]
    },
    {
     "cell_type": "markdown",
     "metadata": {},
     "source": [
      "$$\n",
      "\\vert \\psi_n \\rangle =\\frac{1}{\\left( E_n -\\hat{H}_0\\right)}\\hat{V}\\vert \\psi_n \\rangle,\n",
      "$$"
     ]
    },
    {
     "cell_type": "markdown",
     "metadata": {},
     "source": [
      "is normally solved in an iterative fashion. \n",
      "We assume first that"
     ]
    },
    {
     "cell_type": "markdown",
     "metadata": {},
     "source": [
      "$$\n",
      "\\vert\\psi_n \\rangle = \\vert\\phi_n \\rangle,\n",
      "$$"
     ]
    },
    {
     "cell_type": "markdown",
     "metadata": {},
     "source": [
      "where $\\vert\\phi_n \\rangle$ are the eigenfunctions of"
     ]
    },
    {
     "cell_type": "markdown",
     "metadata": {},
     "source": [
      "$$\n",
      "\\hat{H}_0\\vert \\phi_n \\rangle=\\omega_n\\vert \\phi_n \\rangle\n",
      "$$"
     ]
    },
    {
     "cell_type": "markdown",
     "metadata": {},
     "source": [
      "the so-called unperturbed problem. In our case, these will simply be the kinetic energies of the relative motion.\n",
      "\n",
      "\n",
      "\n",
      "### The Lippman-Schwinger equation for two-nucleon scattering\n",
      "Inserting  $\\vert\\phi_n \\rangle$  on the right-hand side of"
     ]
    },
    {
     "cell_type": "markdown",
     "metadata": {},
     "source": [
      "$$\n",
      "\\vert \\psi_n \\rangle =\\frac{1}{( E_n -\\hat{H}_0)}\\hat{V}\\vert \\psi_n \\rangle,\n",
      "$$"
     ]
    },
    {
     "cell_type": "markdown",
     "metadata": {},
     "source": [
      "yields"
     ]
    },
    {
     "cell_type": "markdown",
     "metadata": {},
     "source": [
      "$$\n",
      "\\vert \\psi_n \\rangle =\\vert\\phi_n \\rangle+\\frac{1}{\\left( E_n -\\hat{H}_0\\right)}\\hat{V}\\vert \\phi_n \\rangle,\n",
      "$$"
     ]
    },
    {
     "cell_type": "markdown",
     "metadata": {},
     "source": [
      "as our first iteration. \n",
      "Reinserting again gives"
     ]
    },
    {
     "cell_type": "markdown",
     "metadata": {},
     "source": [
      "$$\n",
      "\\vert \\psi_n \\rangle =\\vert\\phi_n \\rangle+\\frac{1}{\\left( E_n -\\hat{H}_0\\right)}\\hat{V}\\vert \\phi_n \\rangle+\\frac{1}{( E_n -\\hat{H}_0)}\\hat{V}\\frac{1}{\\left( E_n -\\hat{H}_0\\right)}\\hat{V}\\vert \\phi_n \\rangle,\n",
      "$$"
     ]
    },
    {
     "cell_type": "markdown",
     "metadata": {},
     "source": [
      "and continuing we obtain"
     ]
    },
    {
     "cell_type": "markdown",
     "metadata": {},
     "source": [
      "$$\n",
      "\\vert \\psi_n \\rangle =\\sum_{i=0}^{\\infty}\\left[\\frac{1}{( E_n -\\hat{H}_0)}\\hat{V}\\right]^i\\vert \\phi_n \\rangle.\n",
      "$$"
     ]
    },
    {
     "cell_type": "markdown",
     "metadata": {},
     "source": [
      "### The Lippman-Schwinger equation for two-nucleon scattering\n",
      "It is easy to see that"
     ]
    },
    {
     "cell_type": "markdown",
     "metadata": {},
     "source": [
      "$$\n",
      "\\vert \\psi_n \\rangle =\\sum_{i=0}^{\\infty}\\left[\\frac{1}{(E_n -\\hat{H}_0)}\\hat{V}\\right]^i\\vert \\phi_n \\rangle,\n",
      "$$"
     ]
    },
    {
     "cell_type": "markdown",
     "metadata": {},
     "source": [
      "can be rewritten as"
     ]
    },
    {
     "cell_type": "markdown",
     "metadata": {},
     "source": [
      "$$\n",
      "\\vert \\psi_n \\rangle =\\vert\\phi_n \\rangle+\\frac{1}{( E_n -\\hat{H}_0)}\n",
      "\\hat{V}\\left(1+ \\frac{1}{(E_n -\\hat{H}_0)}\\hat{V}+\\frac{1}{(E_n -\\hat{H}_0)}\\hat{V}\\frac{1}{(E_n -\\hat{H}_0)}\\hat{V}+\\dots\\right]\\vert \\phi_n \\rangle,\n",
      "$$"
     ]
    },
    {
     "cell_type": "markdown",
     "metadata": {},
     "source": [
      "which we rewrite as"
     ]
    },
    {
     "cell_type": "markdown",
     "metadata": {},
     "source": [
      "$$\n",
      "\\vert \\psi_n \\rangle =\\vert\\phi_n \\rangle+\\frac{1}{(E_n -\\hat{H}_0)}\\hat{V}\\vert \\psi_n \\rangle.\n",
      "$$"
     ]
    },
    {
     "cell_type": "markdown",
     "metadata": {},
     "source": [
      "### The Lippman-Schwinger equation for two-nucleon scattering\n",
      "In operator form we have thus"
     ]
    },
    {
     "cell_type": "markdown",
     "metadata": {},
     "source": [
      "$$\n",
      "\\vert \\psi_n \\rangle =\\vert\\phi_n \\rangle+\\frac{1}{(E_n -\\hat{H}_0)}\\hat{V}\\vert \\psi_n \\rangle.\n",
      "$$"
     ]
    },
    {
     "cell_type": "markdown",
     "metadata": {},
     "source": [
      "We multiply from the left with $\\hat{V}$ and $\\langle \\phi_m \\vert$ and obtain"
     ]
    },
    {
     "cell_type": "markdown",
     "metadata": {},
     "source": [
      "$$\n",
      "\\langle \\phi_m \\vert\\hat{V}\\vert \\psi_n \\rangle =\\langle \\phi_m \\vert\\hat{V}\\vert\\phi_n \\rangle+\\langle \\phi_m \\vert\\hat{V}\\frac{1}{(E_n -\\hat{H}_0)}\\hat{V}\\vert \\psi_n \\rangle.\n",
      "$$"
     ]
    },
    {
     "cell_type": "markdown",
     "metadata": {},
     "source": [
      "We define thereafter the so-called $T$-matrix as"
     ]
    },
    {
     "cell_type": "markdown",
     "metadata": {},
     "source": [
      "$$\n",
      "\\langle \\phi_m \\vert\\hat{T}\\vert \\phi_n \\rangle=\\langle \\phi_m \\vert\\hat{V}\\vert \\psi_n \\rangle.\n",
      "$$"
     ]
    },
    {
     "cell_type": "markdown",
     "metadata": {},
     "source": [
      "We can rewrite our equation as"
     ]
    },
    {
     "cell_type": "markdown",
     "metadata": {},
     "source": [
      "$$\n",
      "\\langle \\phi_m \\vert\\hat{T}\\vert \\phi_n \\rangle =\\langle \\phi_m \\vert\\hat{V}\\vert\\phi_n \\rangle+\\langle \\phi_m \\vert\\hat{V}\\frac{1}{(E_n -\\hat{H}_0)}\\hat{T}\\vert \\phi_n \\rangle.\n",
      "$$"
     ]
    },
    {
     "cell_type": "markdown",
     "metadata": {},
     "source": [
      "### The Lippman-Schwinger equation for two-nucleon scattering\n",
      "The equation"
     ]
    },
    {
     "cell_type": "markdown",
     "metadata": {},
     "source": [
      "$$\n",
      "\\langle \\phi_m \\vert\\hat{T}\\vert \\phi_n \\rangle =\\langle \\phi_m \\vert\\hat{V}\\vert\\phi_n \\rangle+\\langle \\phi_m \\vert\\hat{V}\\frac{1}{(E_n -\\hat{H}_0)}\\hat{T}\\vert \\phi_n \\rangle,\n",
      "$$"
     ]
    },
    {
     "cell_type": "markdown",
     "metadata": {},
     "source": [
      "is called the Lippman-Schwinger equation. Inserting the completeness relation"
     ]
    },
    {
     "cell_type": "markdown",
     "metadata": {},
     "source": [
      "$$\n",
      "\\mathbf{1} = \\sum_n \\vert \\phi_n\\rangle\\langle \\phi_n \\vert, \\:\\: \\langle \\phi_n\\vert \\phi_{n'} \\rangle = \\delta_{n,n'}\n",
      "$$"
     ]
    },
    {
     "cell_type": "markdown",
     "metadata": {},
     "source": [
      "we have"
     ]
    },
    {
     "cell_type": "markdown",
     "metadata": {},
     "source": [
      "$$\n",
      "\\langle \\phi_m \\vert\\hat{T}\\vert \\phi_n \\rangle =\\langle \\phi_m \\vert\\hat{V}\\vert\\phi_n \\rangle+\\sum_k \\langle \\phi_m \\vert\\hat{V}\\vert \\phi_k\\rangle\\frac{1}{(E_n -\\omega_k)}\\langle \\phi_k \\vert\\hat{T}\\vert \\phi_n \\rangle,\n",
      "$$"
     ]
    },
    {
     "cell_type": "markdown",
     "metadata": {},
     "source": [
      "which is (when we specify the state $\\vert\\phi_n \\rangle$) an integral equation that can actually be solved by matrix inversion easily! The unknown quantity is the $T$-matrix.\n",
      "\n",
      "\n",
      "\n",
      "### The Lippman-Schwinger equation for two-nucleon scattering\n",
      "Now we wish to introduce a partial wave decomposition in order to solve the Lippman-Schwinger equation. With a partial wave decomposition we can reduce a three-dimensional integral equation to a one-dimensional one. \n",
      "\n",
      "Let us continue with our Schroedinger equation in the abstract vector representation"
     ]
    },
    {
     "cell_type": "markdown",
     "metadata": {},
     "source": [
      "$$\n",
      "\\left(T + V\\right)\\vert\\psi_n\\rangle = E_n\\vert\\psi_n \\rangle\n",
      "$$"
     ]
    },
    {
     "cell_type": "markdown",
     "metadata": {},
     "source": [
      "Here $T$ is the kinetic energy operator and $V$ is the potential operator. \n",
      "The eigenstates form a complete orthonormal set according to"
     ]
    },
    {
     "cell_type": "markdown",
     "metadata": {},
     "source": [
      "$$\n",
      "\\mathbf{1}=\\sum_n\\vert\\psi_n\\rangle\\langle\\psi_n\\vert, \\:\\: \\langle\\psi_n\\vert\\psi_{n'}\\rangle =\\delta_{n,n'}\n",
      "$$"
     ]
    },
    {
     "cell_type": "markdown",
     "metadata": {},
     "source": [
      "### The Lippman-Schwinger equation for two-nucleon scattering\n",
      "The most commonly used representations are the coordinate and\n",
      "the momentum space representations. They define the completeness relations"
     ]
    },
    {
     "cell_type": "markdown",
     "metadata": {},
     "source": [
      "$$\n",
      "\\begin{eqnarray*}\n",
      " \\mathbf{1}&=&  \\int d\\mathbf{r} \\:\\vert\\mathbf{r} \\rangle \\langle \\mathbf{r}\\vert, \\:\\: \\langle  \\mathbf{r}\\vert  \\mathbf{r'} \\rangle = \\delta ( \\mathbf{r}-\\mathbf{r'}) \\\\\n",
      "\\mathbf{1} &=& \\int d\\mathbf{k} \\:\\vert  \\mathbf{k}\\rangle \\langle \\mathbf{k}\\vert, \\:\\: \\langle\\mathbf{k}\\vert  \\mathbf{k'} \\rangle = \\delta ( \\mathbf{k}-\\mathbf{k'}) \n",
      "\\end{eqnarray*}\n",
      "$$"
     ]
    },
    {
     "cell_type": "markdown",
     "metadata": {},
     "source": [
      "Here the basis states in  both $\\mathbf{r}$- and $\\mathbf{k}$-space are dirac-delta \n",
      "function normalized. From this it follows that the plane-wave states are given by,"
     ]
    },
    {
     "cell_type": "markdown",
     "metadata": {},
     "source": [
      "$$\n",
      "\\langle\\mathbf{r}\\vert\\mathbf{k} \\rangle =\\left(\\frac{1}{2\\pi}\\right)^{3/2}\\exp\\left(i\\mathbf{k\\cdot r} \\right)\n",
      "$$"
     ]
    },
    {
     "cell_type": "markdown",
     "metadata": {},
     "source": [
      "which is a transformation function defining the mapping from the abstract \n",
      "$\\vert\\mathbf{k}\\rangle$ to the abstract $\\vert\\mathbf{r}\\rangle $ space.\n",
      "\n",
      "\n",
      "\n",
      "### The Lippman-Schwinger equation for two-nucleon scattering\n",
      "That the $\\mathbf{r}$-space basis states are \n",
      "delta-function normalized follows from"
     ]
    },
    {
     "cell_type": "markdown",
     "metadata": {},
     "source": [
      "$$\n",
      "\\delta ( \\mathbf{r}-\\mathbf{r'}) = \\langle \\mathbf{r} \\vert \\mathbf{r}'\\rangle = \\langle \\mathbf{r} \\vert \\mathbf{1} \\vert \\mathbf{r}'\\rangle = \\int d\\mathbf{k} \\langle \\mathbf{r}\\vert \\mathbf{k} \\rangle \\langle \\mathbf{k}\\vert \\mathbf{r}' \\rangle =\\left( {1\\over 2\\pi}\\right)^3 \\int d\\mathbf{k} e^{i \\mathbf{k}(\\mathbf{r} - \\mathbf{r}')}\n",
      "$$"
     ]
    },
    {
     "cell_type": "markdown",
     "metadata": {},
     "source": [
      "and the same for the momentum space basis states,"
     ]
    },
    {
     "cell_type": "markdown",
     "metadata": {},
     "source": [
      "$$\n",
      "\\delta ( \\mathbf{k}-\\mathbf{k'}) = \\langle \\mathbf{k} \\vert \\mathbf{k}'\\rangle = \\langle \\mathbf{k} \\vert \\mathbf{1} \\vert \\mathbf{k}'\\rangle =\\int d\\mathbf{r} \\langle \\mathbf{k}\\vert \\mathbf{r} \\rangle \\langle \\mathbf{r}\\vert \\mathbf{k}' \\rangle = \\left( {1\\over 2\\pi}\\right)^3 \\int d\\mathbf{r} e^{i \\mathbf{r}(\\mathbf{k} - \\mathbf{k}')}\n",
      "$$"
     ]
    },
    {
     "cell_type": "markdown",
     "metadata": {},
     "source": [
      "### The Lippman-Schwinger equation for two-nucleon scattering\n",
      "Projecting  on momentum states, we obtain the momentum space Schroedinger equation as"
     ]
    },
    {
     "cell_type": "markdown",
     "metadata": {},
     "source": [
      "<!-- Equation labels as ordinary links -->\n",
      "<div id=\"eq:momspace1\"></div>\n",
      "\n",
      "$$\n",
      "\\begin{equation}\n",
      "\\frac{\\hbar^2}{2\\mu}k^2\\psi_n(\\mathbf{k})+\\int d\\mathbf{k'}V(\\mathbf{k}, \\mathbf{k'}) \\psi_n(\\mathbf{k'})=E_n \\psi_n(\\mathbf{k})\n",
      "\\label{eq:momspace1} \\tag{1}\n",
      "\\end{equation}\n",
      "$$"
     ]
    },
    {
     "cell_type": "markdown",
     "metadata": {},
     "source": [
      "Here the notation $\\psi_n(\\mathbf{k}) =\\langle\\mathbf{k}\\vert\\psi_n\\rangle $ and \n",
      "$\\langle\\mathbf{k}\\vert V\\vert\\mathbf{k}' \\rangle =V(\\mathbf{k}, \\mathbf{k'})$ has been introduced.\n",
      "The potential in momentum space is given by a double Fourier-transform \n",
      "of the potential in coordinate space, i.e."
     ]
    },
    {
     "cell_type": "markdown",
     "metadata": {},
     "source": [
      "$$\n",
      "V(\\mathbf{k},\\mathbf{k'}) = \\left( \\frac{1}{2\\pi}\\right)^3\\int d\\mathbf{r}\\int d\\mathbf{r}'\\exp{-i\\mathbf{kr}}V(\\mathbf{r},\\mathbf{r}')\\exp{i\\mathbf{k}'\\mathbf{r}'}\n",
      "$$"
     ]
    },
    {
     "cell_type": "markdown",
     "metadata": {},
     "source": [
      "### The Lippman-Schwinger equation for two-nucleon scattering\n",
      "Here it is assumed that the potential interaction does not contain any spin dependence. \n",
      "Instead of a differential equation in coordinate space, the Schroedinger\n",
      "equation becomes an integral equation in momentum space. This has \n",
      "many tractable features. Firstly, most realistic \n",
      "nucleon-nucleon interactions derived from field-theory are given \n",
      "explicitly in momentum space. Secondly, the boundary conditions imposed\n",
      "on the differential equation in coordinate space are automatically built into the\n",
      "integral equation. And last, but not least, integral equations are easy to numerically \n",
      "implement, and convergence is obtained by just increasing the number of integration\n",
      "points.\n",
      "Instead of solving the three-dimensional integral equation, an \n",
      "infinite set of 1-dimensional equations can be obtained via a  partial wave\n",
      "expansion.\n",
      "\n",
      "\n",
      "\n",
      "### The Lippman-Schwinger equation for two-nucleon scattering\n",
      "The wave function $\\psi_n(\\mathbf{k})$ can be expanded in a complete set of spherical harmonics, that is"
     ]
    },
    {
     "cell_type": "markdown",
     "metadata": {},
     "source": [
      "<!-- Equation labels as ordinary links -->\n",
      "<div id=\"eq:part_wave1\"></div>\n",
      "\n",
      "$$\n",
      "\\begin{equation}\n",
      "  \\psi_n(\\mathbf{k}) = \\sum _{lm} \\psi_{nlm}(k)Y_{lm}(\\hat{k}) \\hspace{1cm} \\psi_{nlm}(k) = \\int d\\hat{k} Y_{lm}^*(\\hat{k})\\psi_n(\\mathbf{k}).   , \n",
      "  \\label{eq:part_wave1} \\tag{2}\n",
      "\\end{equation}\n",
      "$$"
     ]
    },
    {
     "cell_type": "markdown",
     "metadata": {},
     "source": [
      "By inserting equation [(2)](#eq:part_wave1) in equation [(1)](#eq:momspace1), and projecting from the left\n",
      "$Y_{lm}(\\hat{k})$, the three-dimensional Schroedinger equation [(1)](#eq:momspace1) is reduced\n",
      "to an infinite set of  1-dimensional angular momentum coupled integral equations,"
     ]
    },
    {
     "cell_type": "markdown",
     "metadata": {},
     "source": [
      "<!-- Equation labels as ordinary links -->\n",
      "<div id=\"eq:part_wave2\"></div>\n",
      "\n",
      "$$\n",
      "\\begin{equation}\n",
      "  \\left( \\frac{\\hbar^2}{2\\mu} k^2-E_{nlm}\\right)\\psi_{nlm}(k) = -\\sum_{l'm'}\\int_{0}^\\infty dk' {k'}^2 V_{lm, l'm'}(k,k') \\psi_{nl'm'}(k') \n",
      "  \\label{eq:part_wave2} \\tag{3}\n",
      "\\end{equation}\n",
      "$$"
     ]
    },
    {
     "cell_type": "markdown",
     "metadata": {},
     "source": [
      "where the angular momentum projected potential takes the form,"
     ]
    },
    {
     "cell_type": "markdown",
     "metadata": {},
     "source": [
      "<!-- Equation labels as ordinary links -->\n",
      "<div id=\"eq:pot1\"></div>\n",
      "\n",
      "$$\n",
      "\\begin{equation}\n",
      "  V_{lm, l'm'}(k,k') = \\int d{\\hat{k}} \\int d{\\hat{k}'}Y_{lm}^*(\\hat{k})V(\\mathbf{k}\\mathbf{k'})Y_{l'm'}(\\hat{k}')\n",
      "  \\label{eq:pot1} \\tag{4}\n",
      "\\end{equation}\n",
      "$$"
     ]
    },
    {
     "cell_type": "markdown",
     "metadata": {},
     "source": [
      "here $d\\hat{k} = d\\theta\\sin(\\theta)d\\varphi$.\n",
      "Note that we discuss only the orbital momentum, we will include angular momentum and spin later.\n",
      "\n",
      "\n",
      "\n",
      "### The Lippman-Schwinger equation for two-nucleon scattering\n",
      "\n",
      "The potential is often given in position space. It is then convenient to establish \n",
      "the connection between $V_{lm, l'm'}(k,k')$ and $V_{lm, l'm'}(r,r')$. Inserting \n",
      "the completeness relation for the position quantum numbers in equation [(4)](#eq:pot1) results in"
     ]
    },
    {
     "cell_type": "markdown",
     "metadata": {},
     "source": [
      "<!-- Equation labels as ordinary links -->\n",
      "<div id=\"eq:pot2\"></div>\n",
      "\n",
      "$$\n",
      "\\begin{equation}\n",
      "V =\\int d\\mathbf{r}\\int d\\mathbf{r}'\\left\\{\\int d{\\hat{k}}Y_{lm}^*(\\hat{k})\\langle \\mathbf{k}\\vert \\mathbf{r}\\rangle\\right\\}\\langle\\mathbf{r}\\vert V\\vert\\mathbf{r}'\\rangle\\left\\{\\int d\\hat{k}'Y_{lm}(\\hat{k}')\\langle\\mathbf{r'}\\vert\\mathbf{k}'\\rangle\\right\\}\n",
      "\\label{eq:pot2} \\tag{5}\n",
      "\\end{equation}\n",
      "$$"
     ]
    },
    {
     "cell_type": "markdown",
     "metadata": {},
     "source": [
      "### The Lippman-Schwinger equation for two-nucleon scattering\n",
      "Since the plane waves depend only on the absolute values of position and momentum, $\\vert\\mathbf{k}\\vert$ and \n",
      "$\\vert\\mathbf{r}\\vert$,\n",
      "and the angle between them, $\\theta_{kr}$, they may be expanded in terms of bipolar harmonics of \n",
      "zero rank, i.e."
     ]
    },
    {
     "cell_type": "markdown",
     "metadata": {},
     "source": [
      "$$\n",
      "\\exp{(i \\mathbf{k}\\cdot \\mathbf{r})} = 4\\pi\\sum_{l=0}^{\\infty} i^l j_l(kr)\\left( Y_l(\\hat{k}) \\cdot Y_l(\\hat{r}) \\right)= \\sum_{l=0}^{\\infty} (2l+1)i^l j_l(kr) P_l(\\cos \\theta_{kr})\n",
      "$$"
     ]
    },
    {
     "cell_type": "markdown",
     "metadata": {},
     "source": [
      "where the addition theorem for spherical harmonics has been used in order to write\n",
      "the expansion in terms of Legendre polynomials. The spherical Bessel functions, $j_l(z)$,  \n",
      "are given in terms of Bessel functions of the first kind with half integer orders,"
     ]
    },
    {
     "cell_type": "markdown",
     "metadata": {},
     "source": [
      "$$\n",
      "j_l(z) = \\sqrt{\\pi \\over 2 z} J_{l+1/2}(z).\n",
      "$$"
     ]
    },
    {
     "cell_type": "markdown",
     "metadata": {},
     "source": [
      "### The Lippman-Schwinger equation for two-nucleon scattering\n",
      "Inserting the plane-wave expansion\n",
      "into the brackets of equation [(5)](#eq:pot2) yields,"
     ]
    },
    {
     "cell_type": "markdown",
     "metadata": {},
     "source": [
      "$$\n",
      "\\begin{eqnarray*}\n",
      "  \\nonumber\n",
      "  \\int d{\\hat{k}}  Y_{lm}^*(\\hat{k})\\langle \\mathbf{k}\\vert \\mathbf{r} \\rangle & = &  \n",
      "  \\left( {1\\over 2\\pi} \\right) ^{3/2}4\\pi i^{-l} j_l(kr) Y_{lm}^*(\\hat{r}), \\\\  \n",
      "  \\nonumber\n",
      "  \\int d{\\hat{k}'}\\:   Y_{lm}(\\hat{k}') \\langle \\mathbf{r'}\\vert \\mathbf{k}' \\rangle & = &  \n",
      "  \\left( {1\\over 2\\pi} \\right) ^{3/2}4\\pi i^{l'} j_{l'}(k'r') Y_{l'm'}(\\hat{r}). \n",
      "\\end{eqnarray*}\n",
      "$$"
     ]
    },
    {
     "cell_type": "markdown",
     "metadata": {},
     "source": [
      "### The Lippman-Schwinger equation for two-nucleon scattering\n",
      "The connection between the momentum- and position space angular momentum \n",
      "projected potentials are then given,"
     ]
    },
    {
     "cell_type": "markdown",
     "metadata": {},
     "source": [
      "<!-- Equation labels as ordinary links -->\n",
      "<div id=\"eq:pot3\"></div>\n",
      "\n",
      "$$\n",
      "V_{lm, l'm'}(k,k')=\\frac{2}{\\pi}i^{l'-l}\\int_0^\\infty drr^2 \\int_0^\\infty dr'{r'}^2j_l(kr) V_{lm,l'm'}(r,r') j_{l'}(k'r')\n",
      "  \\label{eq:pot3} \\tag{6}\n",
      "$$"
     ]
    },
    {
     "cell_type": "markdown",
     "metadata": {},
     "source": [
      "which is known as a double Fourier-Bessel transform. The position space angular \n",
      "momentum projected potential is given by"
     ]
    },
    {
     "cell_type": "markdown",
     "metadata": {},
     "source": [
      "<!-- Equation labels as ordinary links -->\n",
      "<div id=\"eq:pot4\"></div>\n",
      "\n",
      "$$\n",
      "V_{lm, l'm'}(r,r') = \\int d{\\hat{r}} \\int d{\\hat{r}'}Y_{lm}^*(\\hat{r})V(\\mathbf{r}, \\mathbf{r'})Y_{l'm'}(\\hat{r}').\n",
      "  \\label{eq:pot4} \\tag{7}\n",
      "$$"
     ]
    },
    {
     "cell_type": "markdown",
     "metadata": {},
     "source": [
      "### The Lippman-Schwinger equation for two-nucleon scattering\n",
      "No assumptions of locality/non-locality and deformation of the interaction has so far been made, \n",
      "and the result in equation [(6)](#eq:pot3) is general. In position space the Schroedinger equation \n",
      "takes form of an integro-differential equation in case of a non-local interaction, \n",
      "in momentum space the Schroedinger equation is an ordinary integral equation of the Fredholm type, \n",
      "see equation [(3)](#eq:part_wave2). This is a further advantage of the momentum space approach as compared to \n",
      "the standard position space approach.  \n",
      "If we assume that the \n",
      "interaction is of local character, i.e."
     ]
    },
    {
     "cell_type": "markdown",
     "metadata": {},
     "source": [
      "$$\n",
      "\\langle \\mathbf{r}\\vert V \\vert \\mathbf{r'}\\rangle = V(\\mathbf{r}) \\delta( \\mathbf{r}-\\mathbf{r}' ) = \n",
      "  V(\\mathbf{r}) {\\delta( { r}-{r}' ) \\over r^2} \\delta ( \\cos \\theta - \\cos \\theta' ) \\delta (\\varphi-\\varphi'),\n",
      "$$"
     ]
    },
    {
     "cell_type": "markdown",
     "metadata": {},
     "source": [
      "then equation [(7)](#eq:pot4) reduces to"
     ]
    },
    {
     "cell_type": "markdown",
     "metadata": {},
     "source": [
      "<!-- Equation labels as ordinary links -->\n",
      "<div id=\"eq:pot5\"></div>\n",
      "\n",
      "$$\n",
      "\\begin{equation}\n",
      "  V_{lm, l'm'}(r,r') = \\frac{\\delta({r}-{r}')}{r^2}\\int d{\\hat{r}}\\:\n",
      "  Y_{lm}^*(\\hat{r})V(\\mathbf{r})Y_{l'm'}(\\hat{r}),\n",
      "  \\label{eq:pot5} \\tag{8}\n",
      "\\end{equation}\n",
      "$$"
     ]
    },
    {
     "cell_type": "markdown",
     "metadata": {},
     "source": [
      "### The Lippman-Schwinger equation for two-nucleon scattering\n",
      "and equation [(6)](#eq:pot3) reduces to"
     ]
    },
    {
     "cell_type": "markdown",
     "metadata": {},
     "source": [
      "<!-- Equation labels as ordinary links -->\n",
      "<div id=\"eq:pot6\"></div>\n",
      "\n",
      "$$\n",
      "\\begin{equation}\n",
      "  V_{lm, l'm'}(k,k') = \\frac{2}{\\pi}i^{l' -l}\\int_0^\\infty drr^2j_l(kr) V_{lm,l'm'}(r) j_{l'}(k'r)\n",
      "  \\label{eq:pot6} \\tag{9}\n",
      "\\end{equation}\n",
      "$$"
     ]
    },
    {
     "cell_type": "markdown",
     "metadata": {},
     "source": [
      "where"
     ]
    },
    {
     "cell_type": "markdown",
     "metadata": {},
     "source": [
      "<!-- Equation labels as ordinary links -->\n",
      "<div id=\"eq:pot10\"></div>\n",
      "\n",
      "$$\n",
      "\\begin{equation}\n",
      "  V_{lm, l'm'}(r) = \\int d{\\hat{r}}Y_{lm}^*(\\hat{r})V(\\mathbf{r})Y_{l'm'}(\\hat{r}),\n",
      "  \\label{eq:pot10} \\tag{10}\n",
      "\\end{equation}\n",
      "$$"
     ]
    },
    {
     "cell_type": "markdown",
     "metadata": {},
     "source": [
      "### The Lippman-Schwinger equation for two-nucleon scattering\n",
      "In the case that the interaction is central, $V(\\mathbf{r}) = V(r)$, then"
     ]
    },
    {
     "cell_type": "markdown",
     "metadata": {},
     "source": [
      "<!-- Equation labels as ordinary links -->\n",
      "<div id=\"eq:pot7\"></div>\n",
      "\n",
      "$$\n",
      "\\begin{equation}\n",
      "  V_{lm, l'm'}(r) = V(r) \\int d{\\hat{r}}Y_{lm}^*(\\hat{r})Y_{l'm'}(\\hat{r}) = V(r) \\delta_{l,l'}\\delta_{m,m'},\n",
      "  \\label{eq:pot7} \\tag{11}\n",
      "\\end{equation}\n",
      "$$"
     ]
    },
    {
     "cell_type": "markdown",
     "metadata": {},
     "source": [
      "and"
     ]
    },
    {
     "cell_type": "markdown",
     "metadata": {},
     "source": [
      "<!-- Equation labels as ordinary links -->\n",
      "<div id=\"eq:pot8\"></div>\n",
      "\n",
      "$$\n",
      "\\begin{equation}\n",
      "  V_{lm, l'm'}(k,k') = \\frac{2}{\\pi} \\int_0^\\infty drr^2j_l(kr) V(r) j_{l'}(k'r)\\delta_{l,l'}\\delta_{m,m'} = V_l(k,k') \\delta_{l,l'}\\delta_{m,m'}\n",
      "  \\label{eq:pot8} \\tag{12}\n",
      "\\end{equation}\n",
      "$$"
     ]
    },
    {
     "cell_type": "markdown",
     "metadata": {},
     "source": [
      "where the momentum space representation of the interaction finally reads,"
     ]
    },
    {
     "cell_type": "markdown",
     "metadata": {},
     "source": [
      "<!-- Equation labels as ordinary links -->\n",
      "<div id=\"eq:pot9\"></div>\n",
      "\n",
      "$$\n",
      "\\begin{equation}\n",
      "  V_{l}(k,k') = {2 \\over \\pi} \\int_0^\\infty dr\\: r^2 \\:\n",
      "  j_l(kr) V(r) j_{l}(k'r).\n",
      "  \\label{eq:pot9} \\tag{13}\n",
      "\\end{equation}\n",
      "$$"
     ]
    },
    {
     "cell_type": "markdown",
     "metadata": {},
     "source": [
      "### The Lippman-Schwinger equation for two-nucleon scattering\n",
      "For a local and spherical symmetric potential, \n",
      "the coupled momentum space Schroedinger equations given in equation [(3)](#eq:part_wave2)\n",
      "decouples in angular momentum, \n",
      "giving"
     ]
    },
    {
     "cell_type": "markdown",
     "metadata": {},
     "source": [
      "<!-- Equation labels as ordinary links -->\n",
      "<div id=\"eq:momentum_space\"></div>\n",
      "\n",
      "$$\n",
      "\\begin{equation}\n",
      "\\frac{\\hbar^2}{2\\mu} k^2 \\psi_{n l}(k) +\\int_{0}^\\infty dk' {k'}^2 V_{l}(k,k') \\psi_{n l }(k')=E_{n l} \\psi_{n l}(k) \n",
      "  \\label{eq:momentum_space} \\tag{14}\n",
      "\\end{equation}\n",
      "$$"
     ]
    },
    {
     "cell_type": "markdown",
     "metadata": {},
     "source": [
      "Where we have written $\\psi_{n l }(k)=\\psi_{nlm}(k)$, since the \n",
      "equation becomes independent of the projection $m$ for spherical symmetric interactions. \n",
      "The momentum space wave functions $\\psi_{n l}(k)$ defines a complete orthogonal set \n",
      "of functions, which spans the space of functions with a positive finite Euclidean norm \n",
      " (also called $l^2$-norm), $\\sqrt{\\langle\\psi_n\\vert\\psi_n\\rangle}$, which \n",
      "is a Hilbert space. The corresponding normalized wave function in coordinate space\n",
      "is given by the Fourier-Bessel transform"
     ]
    },
    {
     "cell_type": "markdown",
     "metadata": {},
     "source": [
      "$$\n",
      "\\phi_{n l}(r)  = \\sqrt{\\frac{2}{\\pi}}\\int dk k^2 j_l(kr) \\psi_{n l}(k)\n",
      "$$"
     ]
    },
    {
     "cell_type": "markdown",
     "metadata": {},
     "source": [
      "### The Lippman-Schwinger equation for two-nucleon scattering\n",
      "We will thus assume that the interaction is spherically symmetric and use\n",
      "the partial wave expansion of the plane waves in\n",
      "terms of spherical harmonics.\n",
      "This means that we can separate the radial part of the wave function from its\n",
      "angular dependence. The wave function of the relative motion is described\n",
      "in terms of plane waves as"
     ]
    },
    {
     "cell_type": "markdown",
     "metadata": {},
     "source": [
      "$$\n",
      "\\exp{(\\imath \\mathbf{kr})}=\\langle\\mathbf{r}\\vert\\mathbf{k}\\rangle=4\\pi\\sum_{lm}\\imath^{l}j_{l}(kr)Y_{lm}^{*}(\\mathbf{\\hat{k}})Y_{lm}(\\mathbf{\\hat{r}}),\n",
      "$$"
     ]
    },
    {
     "cell_type": "markdown",
     "metadata": {},
     "source": [
      "where $j_l$ is a spherical Bessel function and $Y_{lm}$ the\n",
      "spherical harmonics.\n",
      "\n",
      "\n",
      "\n",
      "### The Lippman-Schwinger equation for two-nucleon scattering\n",
      "In terms of the relative and center-of-mass momenta $\\mathbf{k}$ and\n",
      "$\\mathbf{K}$, the potential in momentum space is related to the nonlocal operator\n",
      "$V(\\mathbf{r},\\mathbf{r}')$ by"
     ]
    },
    {
     "cell_type": "markdown",
     "metadata": {},
     "source": [
      "$$\n",
      "\\langle\\mathbf{k'K'}\\vert V \\vert \\mathbf{kK}\\rangle =\\int d\\mathbf{r}d \\mathbf{r'}\n",
      "        \\exp{-(\\imath \\mathbf{k'r'})}V(\\mathbf{r'},\\mathbf{r})\\exp{\\imath \\mathbf{kr}}\\delta(\\mathbf{K},\\mathbf{K'}).\n",
      "$$"
     ]
    },
    {
     "cell_type": "markdown",
     "metadata": {},
     "source": [
      "We will assume that the interaction is spherically symmetric.\n",
      "Can separate the radial part of the wave function from its\n",
      "angular dependence. The wave function of the relative motion is described\n",
      "in terms of plane waves as"
     ]
    },
    {
     "cell_type": "markdown",
     "metadata": {},
     "source": [
      "$$\n",
      "\\exp{(\\imath \\mathbf{kr})} =\\langle\\mathbf{r}\\vert\\mathbf{k}\\rangle= 4\\pi\\sum_{lm}\\imath^{l}j_{l}(kr)Y_{lm}^{*}(\\mathbf{\\hat{k}})Y_{lm}(\\mathbf{\\hat{r}}),\n",
      "$$"
     ]
    },
    {
     "cell_type": "markdown",
     "metadata": {},
     "source": [
      "where $j_l$ is a spherical Bessel function and $Y_{lm}$ the\n",
      "spherical harmonic.\n",
      "\n",
      "\n",
      "\n",
      "### The Lippman-Schwinger equation for two-nucleon scattering\n",
      "This partial wave basis is useful for defining the operator for\n",
      "the nucleon-nucleon interaction, which\n",
      "is symmetric with respect to rotations, parity and\n",
      "isospin transformations. These symmetries imply that the interaction is\n",
      "diagonal with respect to the quantum numbers of total relative angular\n",
      "momentum ${\\cal J}$, spin $S$ and isospin $T$ (we skip isospin for the moment). Using the above plane wave expansion,\n",
      "and coupling to final ${\\cal J}$ and $S$ and $T$ we get"
     ]
    },
    {
     "cell_type": "markdown",
     "metadata": {},
     "source": [
      "2\n",
      "1\n",
      "4\n",
      " \n",
      "<\n",
      "<\n",
      "<\n",
      "!\n",
      "!\n",
      "M\n",
      "A\n",
      "T\n",
      "H\n",
      "_\n",
      "B\n",
      "L\n",
      "O\n",
      "C\n",
      "K"
     ]
    },
    {
     "cell_type": "markdown",
     "metadata": {},
     "source": [
      "$$\n",
      "\\langle lm_lSm_S|{\\cal J}M\\rangle \\langle l'm_{l'}Sm_S|{\\cal J}M\\rangle\\langle k'l'S{\\cal J}M\\vert V \\vert klS{\\cal J}M\\rangle,\n",
      "$$"
     ]
    },
    {
     "cell_type": "markdown",
     "metadata": {},
     "source": [
      "where we have defined"
     ]
    },
    {
     "cell_type": "markdown",
     "metadata": {},
     "source": [
      "$$\n",
      "\\langle k'l'S{\\cal J}M\\vert V \\vert klS{\\cal J}M\\rangle=\\int j_{l'}(k'r')\\langle l'S{\\cal J}M\\vert V(r',r)\\vert lS{\\cal J}M\\rangle j_l(kr) {r'}^2 dr' r^2 dr.\n",
      "$$"
     ]
    },
    {
     "cell_type": "markdown",
     "metadata": {},
     "source": [
      "We have omitted the momentum of the center-of-mass motion $\\mathbf{K}$ and the \n",
      "corresponding orbital momentum $L$, since the interaction is diagonal\n",
      "in these variables.\n",
      "\n",
      "\n",
      "\n",
      "\n",
      "### The Lippman-Schwinger equation for two-nucleon scattering\n",
      "We wrote the Lippman-Schwinger equation as"
     ]
    },
    {
     "cell_type": "markdown",
     "metadata": {},
     "source": [
      "$$\n",
      "\\langle \\phi_m \\vert\\hat{T}\\vert \\phi_n \\rangle =\\langle \\phi_m \\vert\\hat{V}\\vert\\phi_n \\rangle+\\sum_k \\langle \\phi_m \\vert\\hat{V}\\vert \\phi_k\\rangle\\frac{1}{(E_n -\\omega_k)}\\langle \\phi_k \\vert\\hat{T}\\vert \\phi_n \\rangle.\n",
      "$$"
     ]
    },
    {
     "cell_type": "markdown",
     "metadata": {},
     "source": [
      "How do we rewrite it in a partial wave expansion with momenta $k$?\n",
      "\n",
      "\n",
      "\n",
      "### The Lippman-Schwinger equation for two-nucleon scattering\n",
      "The general structure of the $T$-matrix in partial waves is"
     ]
    },
    {
     "cell_type": "markdown",
     "metadata": {},
     "source": [
      "2\n",
      "1\n",
      "8\n",
      " \n",
      "<\n",
      "<\n",
      "<\n",
      "!\n",
      "!\n",
      "M\n",
      "A\n",
      "T\n",
      "H\n",
      "_\n",
      "B\n",
      "L\n",
      "O\n",
      "C\n",
      "K"
     ]
    },
    {
     "cell_type": "markdown",
     "metadata": {},
     "source": [
      "<!-- Equation labels as ordinary links -->\n",
      "<div id=\"eq:bspartial\"></div>\n",
      "\n",
      "$$\n",
      "\\begin{equation}\n",
      "   +{\\displaystyle \\frac{2}{\\pi}\\sum_{l''m_{l''}M_S}\\int_{0}^{\\infty} d \\mathbf{q}\n",
      "   (\\langle l''m_{l''}Sm_S|{\\cal J}M\\rangle)^2\n",
      "   \\frac{Y_{l''m_{l''}}^*(\\hat{\\mathbf{q}})\n",
      "   Y_{l''m_{l''}}(\\hat{\\mathbf{q}}) V_{ll''}^{\\alpha}(kq)\n",
      "   T_{l''l'}^{\\alpha}(qk'K\\omega)}\n",
      "   {\\omega -H_0}},\n",
      "   \\label{eq:bspartial} \\tag{15}\n",
      "\\end{equation}\n",
      "$$"
     ]
    },
    {
     "cell_type": "markdown",
     "metadata": {},
     "source": [
      "### The Lippman-Schwinger equation for two-nucleon scattering\n",
      "The  shorthand notation"
     ]
    },
    {
     "cell_type": "markdown",
     "metadata": {},
     "source": [
      "$$\n",
      "T_{ll'}^{\\alpha}(kk'K\\omega)=\n",
      "   \\langle kKlL{\\cal J}S\\vert T(\\omega)\\vert k'Kl'L{\\cal J}S\\rangle,\n",
      "$$"
     ]
    },
    {
     "cell_type": "markdown",
     "metadata": {},
     "source": [
      "denotes the $T$-matrix\n",
      "with momenta $k$ and $k'$ and orbital momenta $l$ and $l'$\n",
      "of the relative motion, and\n",
      "$K$ is the corresponding momentum of\n",
      "the center-of-mass motion. Further, $L$, ${\\cal J}$, $S$ and $T$\n",
      "are the orbital momentum of the center-of-mass motion, the\n",
      "total angular momentum,\n",
      "spin and isospin, respectively. \n",
      "Due to the nuclear tensor force, the interaction is not diagonal in $ll'$.\n",
      "\n",
      "\n",
      "\n",
      "### The Lippman-Schwinger equation for two-nucleon scattering\n",
      "Using the orthogonality\n",
      "properties of the Clebsch-Gordan coefficients and the spherical harmonics,\n",
      "we obtain the well-known\n",
      "one-dimensional angle independent\n",
      "integral equation"
     ]
    },
    {
     "cell_type": "markdown",
     "metadata": {},
     "source": [
      "$$\n",
      "T_{ll'}^{\\alpha}(kk'K\\omega)=V_{ll'}^{\\alpha}(kk')\n",
      "   +\\frac{2}{\\pi}\\sum_{l''}\\int_{0}^{\\infty} dqq^2\n",
      "   \\frac{V_{ll''}^{\\alpha}(kq)\n",
      "   T_{l''l'}^{\\alpha}(qk'K\\omega)}\n",
      "   {\\omega -H_0}.\n",
      "$$"
     ]
    },
    {
     "cell_type": "markdown",
     "metadata": {},
     "source": [
      "Inserting the denominator we arrive at"
     ]
    },
    {
     "cell_type": "markdown",
     "metadata": {},
     "source": [
      "$$\n",
      "\\hat{T}_{ll'}^{\\alpha}(kk'K)=\\hat{V}_{ll'}^{\\alpha}(kk')\n",
      "   +\\frac{2}{\\pi}\\sum_{l''}\\int_{0}^{\\infty} dqq^2\n",
      "   \\hat{V}_{ll''}^{\\alpha}(kq)\n",
      "   \\frac{1}{k^2-q^2 +i\\epsilon}\n",
      "   \\hat{T}_{l''l'}^{\\alpha}(qk'K).\n",
      "$$"
     ]
    },
    {
     "cell_type": "markdown",
     "metadata": {},
     "source": [
      "### The Lippman-Schwinger equation for two-nucleon scattering\n",
      "To parameterize the nucleon-nucleon interaction we solve the Lippman-Scwhinger\n",
      "equation"
     ]
    },
    {
     "cell_type": "markdown",
     "metadata": {},
     "source": [
      "$$\n",
      "T_{ll'}^{\\alpha}(kk'K)=V_{ll'}^{\\alpha}(kk')\n",
      "   +\\frac{2}{\\pi}\\sum_{l''}\\int_{0}^{\\infty} dqq^2\n",
      "   V_{ll''}^{\\alpha}(kq)\n",
      "   \\frac{1}{k^2-q^2 +i\\epsilon}\n",
      "   T_{l''l'}^{\\alpha}(qk'K).\n",
      "$$"
     ]
    },
    {
     "cell_type": "markdown",
     "metadata": {},
     "source": [
      "The  shorthand notation"
     ]
    },
    {
     "cell_type": "markdown",
     "metadata": {},
     "source": [
      "$$\n",
      "T(\\hat{V})_{ll'}^{\\alpha}(kk'K\\omega)=\\langle kKlL{\\cal J}S\\vert T(\\omega)\\vert k'Kl'L{\\cal J}S\\rangle,\n",
      "$$"
     ]
    },
    {
     "cell_type": "markdown",
     "metadata": {},
     "source": [
      "denotes the $T(V)$-matrix\n",
      "with momenta $k$ and $k'$ and orbital momenta $l$ and $l'$\n",
      "of the relative motion, and\n",
      "$K$ is the corresponding momentum of\n",
      "the center-of-mass motion. Further, $L$, ${\\cal J}$, and $S$\n",
      "are the orbital momentum of the center-of-mass motion, the\n",
      "total angular momentum and\n",
      "spin, respectively. We skip for the moment isospin.\n",
      "\n",
      "\n",
      "\n",
      "### The Lippman-Schwinger equation for two-nucleon scattering\n",
      "For scattering states, the energy is positive, $E>0$. \n",
      "The Lippman-Schwinger equation (a rewrite of the Schroedinger equation)\n",
      "is an integral equation\n",
      "where we have to deal with the amplitude \n",
      "$R(k,k')$ (reaction matrix, which is the real part of  the full\n",
      "complex $T$-matrix)\n",
      "defined through the integral equation for one partial wave (no coupled-channels)"
     ]
    },
    {
     "cell_type": "markdown",
     "metadata": {},
     "source": [
      "<!-- Equation labels as ordinary links -->\n",
      "<div id=\"eq:ls1\"></div>\n",
      "\n",
      "$$\n",
      "\\begin{equation}\n",
      "    R_l(k,k') = V_l(k,k') +\\frac{2}{\\pi}{\\cal P}\n",
      "                \\int_0^{\\infty}dqq^2V_l(k,q)\\frac{1}{E-q^2/m}R_l(q,k').\n",
      "   \\label{eq:ls1} \\tag{16}\n",
      "\\end{equation}\n",
      "$$"
     ]
    },
    {
     "cell_type": "markdown",
     "metadata": {},
     "source": [
      "For negative energies (bound states) and intermediate states scattering states blocked\n",
      "by  occupied states below the Fermi level.\n",
      "\n",
      "\n",
      "\n",
      "### The Lippman-Schwinger equation for two-nucleon scattering\n",
      "The symbol ${\\cal P}$ in the previous slide indicates that Cauchy's principal-value prescription\n",
      "is used in order to avoid the singularity arising from the zero of the denominator.\n",
      "\n",
      "\n",
      "The total kinetic energy of the two \n",
      "incoming particles in the center-of-mass system\n",
      "is"
     ]
    },
    {
     "cell_type": "markdown",
     "metadata": {},
     "source": [
      "$$\n",
      "E=\\frac{k_0^2}{m_n}.\n",
      "$$"
     ]
    },
    {
     "cell_type": "markdown",
     "metadata": {},
     "source": [
      "### The Lippman-Schwinger equation for two-nucleon scattering\n",
      "The matrix $R_l(k,k')$ relates to the \n",
      "the  phase shifts through its diagonal elements as"
     ]
    },
    {
     "cell_type": "markdown",
     "metadata": {},
     "source": [
      "<!-- Equation labels as ordinary links -->\n",
      "<div id=\"eq:shifts\"></div>\n",
      "\n",
      "$$\n",
      "\\begin{equation}\n",
      "     R_l(k_0,k_0)=-\\frac{tan\\delta_l}{mk_0}.\n",
      "     \\label{eq:shifts} \\tag{17}\n",
      "\\end{equation}\n",
      "$$"
     ]
    },
    {
     "cell_type": "markdown",
     "metadata": {},
     "source": [
      "### The Lippman-Schwinger equation for two-nucleon scattering\n",
      "From now on we will drop the subscript $l$ in all equations.\n",
      "In order to solve the Lippman-Schwinger equation \n",
      "in momentum space, we need first to write \n",
      "a function which sets up the mesh points. \n",
      "We need to do that since we are going to approximate an integral\n",
      "through"
     ]
    },
    {
     "cell_type": "markdown",
     "metadata": {},
     "source": [
      "$$\n",
      "\\int_a^bf(x)dx\\approx\\sum_{i=1}^Nw_if(x_i),\n",
      "$$"
     ]
    },
    {
     "cell_type": "markdown",
     "metadata": {},
     "source": [
      "where we have fixed $N$ lattice points through the corresponding weights\n",
      "$w_i$ and points $x_i$. Typically obtained via methods like Gaussian quadrature.\n",
      "\n",
      "\n",
      "\n",
      "### The Lippman-Schwinger equation for two-nucleon scattering\n",
      "If you use Gauss-Legendre the points are determined for the interval $x_i\\in [-1,1]$\n",
      "You map these points over to the limits in your integral. You can then\n",
      "use the following mapping"
     ]
    },
    {
     "cell_type": "markdown",
     "metadata": {},
     "source": [
      "$$\n",
      "k_i=const\\times tan\\left\\{\\frac{\\pi}{4}(1+x_i)\\right\\},\n",
      "$$"
     ]
    },
    {
     "cell_type": "markdown",
     "metadata": {},
     "source": [
      "and"
     ]
    },
    {
     "cell_type": "markdown",
     "metadata": {},
     "source": [
      "$$\n",
      "\\omega_i= const\\frac{\\pi}{4}\\frac{w_i}{cos^2\\left(\\frac{\\pi}{4}(1+x_i)\\right)}.\n",
      "$$"
     ]
    },
    {
     "cell_type": "markdown",
     "metadata": {},
     "source": [
      "If you choose units fm$^{-1}$ for $k$, set $const=1$. If you choose to work\n",
      "with MeV, set $const\\sim 200$ ($\\hbar c=197$ MeVfm).\n",
      "\n",
      "\n",
      "\n",
      "### The Lippman-Schwinger equation for two-nucleon scattering\n",
      "The principal value integral is rather tricky\n",
      "to evaluate numerically, mainly since computers have limited\n",
      "precision. We will here use a subtraction trick often used\n",
      "when dealing with singular integrals in numerical calculations.\n",
      "We introduce first the calculus relation"
     ]
    },
    {
     "cell_type": "markdown",
     "metadata": {},
     "source": [
      "$$\n",
      "\\int_{-\\infty}^{\\infty} \\frac{dk}{k-k_0} =0.\n",
      "$$"
     ]
    },
    {
     "cell_type": "markdown",
     "metadata": {},
     "source": [
      "It means that the curve $1/(k-k_0)$ has equal and opposite\n",
      "areas on both sides of the singular point $k_0$. If we break\n",
      "the integral into one over positive $k$ and one over \n",
      "negative $k$, a change of variable $k\\rightarrow -k$ \n",
      "allows us to rewrite the last equation as"
     ]
    },
    {
     "cell_type": "markdown",
     "metadata": {},
     "source": [
      "$$\n",
      "\\int_{0}^{\\infty} \\frac{dk}{k^2-k_0^2} =0.\n",
      "$$"
     ]
    },
    {
     "cell_type": "markdown",
     "metadata": {},
     "source": [
      "### The Lippman-Schwinger equation for two-nucleon scattering\n",
      "We can then express a principal values integral\n",
      "as"
     ]
    },
    {
     "cell_type": "markdown",
     "metadata": {},
     "source": [
      "<!-- Equation labels as ordinary links -->\n",
      "<div id=\"eq:trick\"></div>\n",
      "\n",
      "$$\n",
      "\\begin{equation}\n",
      "  {\\cal P}\\int_{0}^{\\infty} \\frac{f(k)dk}{k^2-k_0^2} =\n",
      "  \\int_{0}^{\\infty} \\frac{(f(k)-f(k_0))dk}{k^2-k_0^2},\n",
      "   \\label{eq:trick} \\tag{18}\n",
      "\\end{equation}\n",
      "$$"
     ]
    },
    {
     "cell_type": "markdown",
     "metadata": {},
     "source": [
      "where the right-hand side is no longer singular at \n",
      "$k=k_0$, it is proportional to the derivative $df/dk$,\n",
      "and can be evaluated numerically as any other integral.\n",
      "\n",
      "\n",
      "\n",
      "### The Lippman-Schwinger equation for two-nucleon scattering\n",
      "We can then use this trick to obtain"
     ]
    },
    {
     "cell_type": "markdown",
     "metadata": {},
     "source": [
      "<!-- Equation labels as ordinary links -->\n",
      "<div id=\"eq:ls2\"></div>\n",
      "\n",
      "$$\n",
      "\\begin{equation}\n",
      "    R(k,k') = V(k,k') +\\frac{2}{\\pi}\n",
      "                \\int_0^{\\infty}dq\n",
      "                \\frac{q^2V(k,q)R(q,k')-k_0^2V(k,k_0)R(k_0,k')  }\n",
      "                     {(k_0^2-q^2)/m}.\n",
      "   \\label{eq:ls2} \\tag{19}\n",
      "\\end{equation}\n",
      "$$"
     ]
    },
    {
     "cell_type": "markdown",
     "metadata": {},
     "source": [
      "This is the equation to solve numerically in order\n",
      "to calculate the phase shifts. We are interested in obtaining\n",
      "$R(k_0,k_0)$.\n",
      "\n",
      "\n",
      "\n",
      "### The Lippman-Schwinger equation for two-nucleon scattering\n",
      "How do we proceed?\n",
      "\n",
      "Using the mesh points $k_j$ and the weights $\\omega_j$,\n",
      "         we reach"
     ]
    },
    {
     "cell_type": "markdown",
     "metadata": {},
     "source": [
      "$$\n",
      "R(k,k') = V(k,k') +\\frac{2}{\\pi}\n",
      "          \\sum_{j=1}^N\\frac{\\omega_jk_j^2V(k,k_j)R(k_j,k')}\n",
      "                           {(k_0^2-k_j^2)/m}\n",
      "           -\\frac{2}{\\pi}k_0^2V(k,k_0)R(k_0,k')\n",
      "          \\sum_{n=1}^N\\frac{\\omega_n}\n",
      "                           {(k_0^2-k_n^2)/m}.\n",
      "$$"
     ]
    },
    {
     "cell_type": "markdown",
     "metadata": {},
     "source": [
      "### The Lippman-Schwinger equation for two-nucleon scattering\n",
      "This equation contains now the unknowns $R(k_i,k_j)$\n",
      "(with dimension $N\\times N$) and $R(k_0,k_0)$.\n",
      "\n",
      "We can turn it into an equation\n",
      "with dimension $(N+1)\\times (N+1)$ with  a mesh\n",
      "which contains the original mesh points $k_j$ for $j=1,N$\n",
      "and the point which corresponds to the energy $k_0$.\n",
      "Consider the latter as the 'observable' point.\n",
      "The mesh points become then $k_j$ for $j=1,n$ and\n",
      "$k_{N+1}=k_0$. \n",
      "\n",
      "With these new mesh points we define the matrix"
     ]
    },
    {
     "cell_type": "markdown",
     "metadata": {},
     "source": [
      "<!-- Equation labels as ordinary links -->\n",
      "<div id=\"eq:aeq\"></div>\n",
      "\n",
      "$$\n",
      "\\begin{equation}\n",
      "      A_{i,j}=\\delta_{i,j}-V(k_i,k_j)u_j,\n",
      "      \\label{eq:aeq} \\tag{20}\n",
      "\\end{equation}\n",
      "$$"
     ]
    },
    {
     "cell_type": "markdown",
     "metadata": {},
     "source": [
      "### The Lippman-Schwinger equation for two-nucleon scattering\n",
      "where $\\delta$ is the Kronecker $\\delta$\n",
      "and"
     ]
    },
    {
     "cell_type": "markdown",
     "metadata": {},
     "source": [
      "$$\n",
      "u_j=\\frac{2}{\\pi}\\frac{\\omega_jk_j^2}{(k_0^2-k_j^2)/m}\\hspace{1cm} j=1,N\n",
      "$$"
     ]
    },
    {
     "cell_type": "markdown",
     "metadata": {},
     "source": [
      "and"
     ]
    },
    {
     "cell_type": "markdown",
     "metadata": {},
     "source": [
      "$$\n",
      "u_{N+1}=-\\frac{2}{\\pi}\\sum_{j=1}^N\\frac{k_0^2\\omega_j}{(k_0^2-k_j^2)/m}.\n",
      "$$"
     ]
    },
    {
     "cell_type": "markdown",
     "metadata": {},
     "source": [
      "### The Lippman-Schwinger equation for two-nucleon scattering\n",
      "The first task is then to \n",
      "set up the matrix $A$ for a given $k_0$. This is an\n",
      "$(N+1)\\times (N+1)$ matrix. It can be convenient\n",
      "to have an outer loop which runs over the chosen\n",
      "observable values for the energy $k_0^2/m$.\n",
      "{\\em Note that all mesh points $k_j$ for $j=1,N$ must be\n",
      "different from $k_0$. Note also that\n",
      "$V(k_i,k_j)$ is an\n",
      "$(N+1)\\times (N+1)$ matrix}. \n",
      "\n",
      "With the matrix $A$ we can rewrite the problem as a matrix problem of dimension $(N+1)\\times (N+1)$.\n",
      "All matrices $R$, $A$ and $V$ have this dimension and we get"
     ]
    },
    {
     "cell_type": "markdown",
     "metadata": {},
     "source": [
      "$$\n",
      "A_{i,l}R_{l,j}=V_{i,j},\n",
      "$$"
     ]
    },
    {
     "cell_type": "markdown",
     "metadata": {},
     "source": [
      "or just"
     ]
    },
    {
     "cell_type": "markdown",
     "metadata": {},
     "source": [
      "$$\n",
      "AR=V.\n",
      "$$"
     ]
    },
    {
     "cell_type": "markdown",
     "metadata": {},
     "source": [
      "### The Lippman-Schwinger equation for two-nucleon scattering\n",
      "Since you already have defined $A$ and $V$\n",
      "(these are stored as $(N+1)\\times (N+1)$ matrices) \n",
      "The final equation involves only the unknown\n",
      "$R$. We obtain it by matrix inversion, i.e.,"
     ]
    },
    {
     "cell_type": "markdown",
     "metadata": {},
     "source": [
      "<!-- Equation labels as ordinary links -->\n",
      "<div id=\"eq:final2\"></div>\n",
      "\n",
      "$$\n",
      "\\begin{equation}\n",
      "    R=A^{-1}V.\n",
      "    \\label{eq:final2} \\tag{21}\n",
      "\\end{equation}\n",
      "$$"
     ]
    },
    {
     "cell_type": "markdown",
     "metadata": {},
     "source": [
      "Thus, to obtain $R$, you will need to set up the matrices\n",
      "$A$ and $V$ and invert the matrix $A$. \n",
      "With the inverse $A^{-1}$, perform\n",
      "a matrix multiplication with $V$ results in $R$.\n",
      "\n",
      "\n",
      "\n",
      "### The Lippman-Schwinger equation for two-nucleon scattering\n",
      "With $R$ you can then evaluate the phase shifts\n",
      "by noting that"
     ]
    },
    {
     "cell_type": "markdown",
     "metadata": {},
     "source": [
      "$$\n",
      "R(k_{N+1},k_{N+1})=R(k_0,k_0)=-\\frac{tan\\delta}{mk_0},\n",
      "$$"
     ]
    },
    {
     "cell_type": "markdown",
     "metadata": {},
     "source": [
      "where $\\delta$ are the phase shifts.\n",
      "\n",
      "\n",
      "\n",
      "### The Lippman-Schwinger equation for two-nucleon scattering\n",
      "For elastic scattering, the scattering potential can only change the outgoing spherical wave function up to a phase. In the asymptotic limit, far away from the scattering potential, we get for the spherical bessel function"
     ]
    },
    {
     "cell_type": "markdown",
     "metadata": {},
     "source": [
      "$$\n",
      "j_l(kr) \\xrightarrow[]{ r \\gg 1} \\frac{\\sin(kr -l\\pi/2)}{kr} =  \\frac{1}{2ik}\\left( \\frac{e^{i(kr-l\\pi/2)}}{r} - \\frac{e^{-i(kr-l\\pi/2)}}{r}\\right)\n",
      "$$"
     ]
    },
    {
     "cell_type": "markdown",
     "metadata": {},
     "source": [
      "The outgoing wave will change by a phase shift $\\delta_l$, from which we can define the S-matrix $S_l(k) = e^{2i\\delta_l(k)}$. Thus, we have"
     ]
    },
    {
     "cell_type": "markdown",
     "metadata": {},
     "source": [
      "$$\n",
      "\\frac{e^{i(kr-l\\pi/2)}}{r} \\xrightarrow[]{\\mathrm{phase change}}  \\frac{S_l(k)e^{i(kr-l\\pi/2)}}{r}\n",
      "$$"
     ]
    },
    {
     "cell_type": "markdown",
     "metadata": {},
     "source": [
      "### The Lippman-Schwinger equation for two-nucleon scattering\n",
      "The solution to the Schrodinger equation for a spherically symmetric potential, will have the form"
     ]
    },
    {
     "cell_type": "markdown",
     "metadata": {},
     "source": [
      "$$\n",
      "\\psi_k(r) = e^{ikr} + f(\\theta)\\frac{e^{ikr}}{r}\n",
      "$$"
     ]
    },
    {
     "cell_type": "markdown",
     "metadata": {},
     "source": [
      "where $f(\\theta)$ is the scattering amplitude, and related to the differential cross section as"
     ]
    },
    {
     "cell_type": "markdown",
     "metadata": {},
     "source": [
      "$$\n",
      "\\frac{d\\sigma}{d\\Omega} = |f(\\theta)|^2\n",
      "$$"
     ]
    },
    {
     "cell_type": "markdown",
     "metadata": {},
     "source": [
      "Using the expansion of a plane wave in spherical waves, we can relate the scattering amplitude $f(\\theta)$ with the partial wave phase shifts $\\delta_l$ by identifying the outgoing wave"
     ]
    },
    {
     "cell_type": "markdown",
     "metadata": {},
     "source": [
      "$$\n",
      "\\psi_k(r) = e^{ikr} + \\left[\\frac{1}{2ik}\\sum_l i^l (2l+1) (S_l(k)-1)P_l(\\cos(\\theta))e^{-il\\pi/2}\\right] \\frac{e^{ikr}}{r}\n",
      "$$"
     ]
    },
    {
     "cell_type": "markdown",
     "metadata": {},
     "source": [
      "which can be simplified further by cancelling $i^l$ with $e^{-il\\pi/2}$\n",
      "\n",
      "\n",
      "\n",
      "### The Lippman-Schwinger equation for two-nucleon scattering\n",
      "We have"
     ]
    },
    {
     "cell_type": "markdown",
     "metadata": {},
     "source": [
      "$$\n",
      "\\psi_k(r) = e^{ikr} + f(\\theta) \\frac{e^{ikr}}{r}\n",
      "$$"
     ]
    },
    {
     "cell_type": "markdown",
     "metadata": {},
     "source": [
      "with"
     ]
    },
    {
     "cell_type": "markdown",
     "metadata": {},
     "source": [
      "$$\n",
      "f(\\theta) = \\sum_l (2l+1)f_l(\\theta) P_l(\\cos(\\theta))\n",
      "$$"
     ]
    },
    {
     "cell_type": "markdown",
     "metadata": {},
     "source": [
      "where the partial wave scattering amplitude is given by"
     ]
    },
    {
     "cell_type": "markdown",
     "metadata": {},
     "source": [
      "$$\n",
      "f_l(\\theta) = \\frac{1}{k}\\frac{(S_l(k)-1)}{2i} = \\frac{1}{k}\\sin\\delta_l(k) e^{i\\delta_l(k)}\n",
      "$$"
     ]
    },
    {
     "cell_type": "markdown",
     "metadata": {},
     "source": [
      "With Eulers formula for the cotangent, this can also be written as"
     ]
    },
    {
     "cell_type": "markdown",
     "metadata": {},
     "source": [
      "$$\n",
      "f_l(\\theta) = \\frac{1}{k}\\frac{1}{\\cot \\delta_l(k) - i}.\n",
      "$$"
     ]
    },
    {
     "cell_type": "markdown",
     "metadata": {},
     "source": [
      "### The Lippman-Schwinger equation for two-nucleon scattering\n",
      "**Interpretation of phase shifts.**\n",
      "\n",
      "\n",
      "<p>Examples of negative and positive phase shifts for repulsive and attractive potentials, respectively.</p>\n",
      "<img src=\"figslides/phase.png\" width=700>\n",
      "\n",
      "\n",
      "\n",
      "### The Lippman-Schwinger equation for two-nucleon scattering\n",
      "The integrated cross section is given by\n",
      "\\[\n",
      "\\sigma = 2\\pi \\int_0^{\\pi} |f(\\theta)|^2 \\sin \\theta d\\theta \n",
      "\\]\n",
      "\\[\n",
      "=2\\pi \\sum_l |\\frac{(2l+1)}{k} \\sin(\\delta_l)|^2 \\int_0^{\\pi} (P_l(\\cos(\\theta)))^2 \\sin(\\theta) d\\theta\\]\n",
      "\\[ \n",
      "= \\frac{4\\pi}{k^2} \\sum_l (2l+1) \\sin^2\\delta_l(k) = 4\\pi \\sum_l (2l+1)|f_l(\\theta)|^2, \n",
      "\\]\n",
      "where the orthogonality of the Legendre polynomials was used to evaluate the last integral\n",
      "\\[\n",
      "\\int_0^{\\pi} P_l(\\cos \\theta)^2 \\sin \\theta d\\theta = \\frac{2}{2l+1}.\n",
      "\\]\n",
      "Thus, the **total** cross section is the sum of the partial-wave cross sections. Note that the differential cross section contains cross-terms from different partial waves. The integral over the full sphere enables the use of the legendre orthogonality, and this kills the cross-terms.\n",
      "\n",
      "\n",
      "\n",
      "### The Lippman-Schwinger equation for two-nucleon scattering\n",
      "\n",
      "At low energy, $k \\rightarrow 0$, S-waves are most important. In this region we can define the scattering length $a$ and the effective range $r$. The $S-$wave scattering amplitude is given by\n",
      "\\[\n",
      "f_l(\\theta) = \\frac{1}{k}\\frac{1}{\\cot \\delta_l(k) - i}.\n",
      "\\]\n",
      "Taking the limit $k \\rightarrow 0$, gives us the expansion\n",
      "\\[\n",
      "k \\cot \\delta_0 = -\\frac{1}{a} + \\frac{1}{2}r_0 k^2 + \\ldots\n",
      "\\]\n",
      "Thus the low energy cross section is given by\n",
      "\\[\n",
      "\\sigma = 4\\pi a^2.\n",
      "\\]\n",
      "If the system contains a bound state, the scattering length will become positive (neutron-proton in $^3S_1$). For the $^1S_0$ wave, the scattering length is negative and large. This indicates that the wave function of the system is at the verge of turning over to get a node, but cannot create a bound state in this wave.\n",
      "\n",
      "\n",
      "\n",
      "### The Lippman-Schwinger equation for two-nucleon scattering\n",
      "**Low energy scattering length.**\n",
      "\n",
      "\n",
      "<p>Examples of scattering lengths.</p>\n",
      "<img src=\"figslides/scattering_length.png\" width=700>\n",
      "\n",
      "\n",
      "\n",
      "### The Lippman-Schwinger equation for two-nucleon scattering\n",
      "It is important to realize that the phase shifts themselves are not\n",
      "observables. The measurable scattering quantity is the cross section,\n",
      "or the differential cross section. The partial wave phase shifts can\n",
      "be thought of as a parameterization of the (experimental) cross\n",
      "sections. The phase shifts provide insights into the physics of\n",
      "partial wave projected nuclear interactions, and are thus important\n",
      "quantities to know.\n",
      "\n",
      "The nucleon-nucleon differential cross section\n",
      "have been measured at almost all energies up to the pion production\n",
      "threshold (290 MeV in the Lab frame), and this experimental data base\n",
      "is what provides us with the constraints on our nuclear interaction\n",
      "models. In order to pin down the unknown coupling constants of the\n",
      "theory, a statistical optimization with respect to cross sections need\n",
      "to be carried out. This is how we constrain the nucleon-nucleon\n",
      "interaction in practice!\n",
      "\n",
      "\n",
      "\n",
      "### The Lippman-Schwinger equation for two-nucleon scattering\n",
      "**Nijmegen multi-energy $pp$ PWA phase shifts.**\n",
      "\n",
      "\n",
      "\n",
      "<p>Nijmegen phase shifts for selected partial waves.</p>\n",
      "<img src=\"figslides/nijmegen_pp_phase_shifts.png\" width=700>\n",
      "\n",
      "\n",
      "\n",
      "The $pp$-data is more accurate than the $np$-data, and for $nn$ there is no data. The quality of a potential is gauged by the $\\chi^2$/datum with respect to the scattering data base\n",
      "\n",
      "\n",
      "\n",
      "### The Lippman-Schwinger equation for two-nucleon scattering\n",
      "**Nijmegen multi-energy $pp$ PWA phase shifts.**\n",
      "\n",
      "\n",
      "<table border=\"1\">\n",
      "<thead>\n",
      "<tr><th align=\"center\">$T_{\\mathrm{lab}}$ bin (MeV)</th> <th align=\"center\">    N3LO$^1$   </th> <th align=\"center\">   NNLO$^2$  </th> <th align=\"center\">   NLO$^2$   </th> <th align=\"center\">    AV18$^3$   </th> </tr>\n",
      "</thead>\n",
      "<tbody>\n",
      "<tr><td align=\"center\">                                   </td> <td align=\"center\">                      </td> <td align=\"center\">                    </td> <td align=\"center\">                    </td> <td align=\"center\">                      </td> </tr>\n",
      "<tr><td align=\"center\">   0-100                           </td> <td align=\"center\">   1.05               </td> <td align=\"center\">   1.7              </td> <td align=\"center\">   4.5              </td> <td align=\"center\">   0.95               </td> </tr>\n",
      "<tr><td align=\"center\">   100-190                         </td> <td align=\"center\">   1.08               </td> <td align=\"center\">   22               </td> <td align=\"center\">   100              </td> <td align=\"center\">   1.10               </td> </tr>\n",
      "<tr><td align=\"center\">   190-290                         </td> <td align=\"center\">   1.15               </td> <td align=\"center\">   47               </td> <td align=\"center\">   180              </td> <td align=\"center\">   1.11               </td> </tr>\n",
      "<tr><td align=\"center\">   $\\mathbf{0-290}$                </td> <td align=\"center\">   $\\mathbf{1.10}$    </td> <td align=\"center\">   $\\mathbf{20}$    </td> <td align=\"center\">   $\\mathbf{86}$    </td> <td align=\"center\">   $\\mathbf{1.04}$    </td> </tr>\n",
      "</tbody>\n",
      "</table>\n",
      "* R. Machleidt et al., Phys. Rev. C68, 041001(R) (2003)\n",
      "\n",
      "* E. Epelbaum et al., Eur. Phys. J. A19, 401 (2004)\n",
      "\n",
      "* R. B. Wiringa et al., Phys. Rev. C5, 38 (1995)\n",
      "\n",
      "\n",
      "\n",
      "\n",
      "### The Lippman-Schwinger equation for two-nucleon scattering\n",
      "**An example: chiral twobody interactions.**"
     ]
    },
    {
     "cell_type": "markdown",
     "metadata": {},
     "source": [
      "$$\n",
      "\\mathcal{L_{\\mathrm{eff}}} = \\mathcal{L}_{\\pi \\pi}(f_\\pi,m_{\\pi}) + \\mathcal{L}_{\\pi N}(f_{\\pi},M_{N},g_A,c_i,d_i,...) + \\mathcal{L}_{NN}(C_{i},\\tilde{C}_{i},D_{i},...) + \\ldots\n",
      "$$"
     ]
    },
    {
     "cell_type": "markdown",
     "metadata": {},
     "source": [
      "* R. Machleidt, D. R. Entem, Phys. Rep. 503, 1 (2011)\n",
      "\n",
      "* E. Epelbaum, H.-W. Hammer, Ulf-G. Mei\\ss{}ner, Rev. Mod. Phys. 81, 1773 (2009)\n",
      "\n",
      "\n",
      "### The Lippman-Schwinger equation for two-nucleon scattering\n",
      "**Proton-neutron $^1S_0$ phase shift.**\n",
      "\n",
      "\n",
      "Note that the Nijm93 PWA phase shift becomes negative at T$_{\\mathrm{lab}}> 250$MeV. This indicates that the nucleon-nucleon potential is repulsive at short distances \n",
      "\n",
      "<p>Proton-neutron $^1S_0$ phase shift.</p>\n",
      "<img src=\"figslides/phase-pn-1s0_IDAHO_JUELICH.pdf\" width=700>\n",
      "\n",
      "\n",
      "### The Lippman-Schwinger equation for two-nucleon scattering\n",
      "**Differential cross section.**\n",
      "\n",
      "\n",
      "<p>Proton-neutron $^1S_0$ phase shift.</p>\n",
      "<img src=\"figslides/pnDSG_at_199MeV.pdf\" width=800>\n",
      "\n",
      "\n",
      "\n",
      "\n",
      "### Exercise 10\n",
      "List all **allowed** according to the Pauli principle partial waves with isospin $T$, their \n",
      "projection $T_z$, spin $S$, orbital angular momentum $l$ and total spin $J$ for $J\\le 3$.\n",
      "Use the standard spectroscopic notation $^{2S+1}L_J$ to label different partial waves. A proton-proton state\n",
      "has $T_Z=-1$, a proton-neutron state has $T_z=0$ and a neutron-neutron state has $T_z=1$.\n",
      "\n",
      "\n",
      "\n",
      "### Exercise 11\n",
      "1. Find the closed form expression for the spin-orbit force. Show that the spin-orbit force {\\bf LS} gives a zero\n",
      "\n",
      "contribution for $S$-waves (orbital angular momentum $l=0$).   What is the value of the spin-orbit force for spin-singlet states ($S=0$)?  \n",
      "1. Find thereafter the expectation value of $\\mathbf{\\sigma}_1\\cdot\\mathbf{\\sigma}_2$, where $\\mathbf{\\sigma}_i$ are so-called Pauli matrices. \n",
      "\n",
      "2. Add thereafter isospin and find the expectation value of $\\mathbf{\\sigma}_1\\cdot\\mathbf{\\sigma}_2\\mathbf{\\tau}_1\\cdot\\mathbf{\\tau}_2$, where $\\mathbf{\\tau}_i$ are also so-called Pauli matrices. List all the cases with $S=0,1$ and $T=0,1$.\n",
      "\n",
      "\n",
      "\n",
      "\n",
      "### Exercise 12\n",
      "A simple parametrization of the nucleon-nucleon force is given by what is called the $V_8$ potential model,\n",
      "where we have kept eight different operators. These operators contain a central force, a spin-orbit force,\n",
      "a spin-spin force and a tensor force. Several features of the nuclei can be explained in terms of these four components. Without the Pauli matrices for isospin the final form of such an interaction model results in the following form:"
     ]
    },
    {
     "cell_type": "markdown",
     "metadata": {},
     "source": [
      "2\n",
      "5\n",
      "3\n",
      " \n",
      "<\n",
      "<\n",
      "<\n",
      "!\n",
      "!\n",
      "M\n",
      "A\n",
      "T\n",
      "H\n",
      "_\n",
      "B\n",
      "L\n",
      "O\n",
      "C\n",
      "K"
     ]
    },
    {
     "cell_type": "markdown",
     "metadata": {},
     "source": [
      "$$\n",
      "\\left. + C_{SL} \\left( {1\\over m_\\alpha r} + {1\\over \\left( m_\\alpha r\\right)^2}\n",
      "\\right) \\mathbf{L}\\cdot \\mathbf{S}\n",
      "\\right\\} \\frac{e^{-m_\\alpha r}}{m_\\alpha r}\n",
      "$$"
     ]
    },
    {
     "cell_type": "markdown",
     "metadata": {},
     "source": [
      "where $m_{\\alpha}$ is the mass of the relevant meson and\n",
      "$S_{12}$ is the familiar tensor term. The various coefficients $C_i$ are normally fitted so that the potential reproduces experimental scattering cross sections. By adding terms which include the isospin Pauli matrices \n",
      "results in an interaction model with eight operators.\n",
      "\n",
      "The expectaction value of the tensor operator is non-zero only for $S=1$. We will show this in a forthcoming lecture, after that we have derived the Wigner-Eckart theorem. \n",
      "Here it suffices to know that the expectaction value of the tensor force for different partial values is  (with $l$ the orbital angular momentum and ${\\cal J}$ the total angular momentum in the relative and center-of-mass frame of motion)"
     ]
    },
    {
     "cell_type": "markdown",
     "metadata": {},
     "source": [
      "2\n",
      "5\n",
      "5\n",
      " \n",
      "<\n",
      "<\n",
      "<\n",
      "!\n",
      "!\n",
      "M\n",
      "A\n",
      "T\n",
      "H\n",
      "_\n",
      "B\n",
      "L\n",
      "O\n",
      "C\n",
      "K"
     ]
    },
    {
     "cell_type": "markdown",
     "metadata": {},
     "source": [
      "2\n",
      "5\n",
      "6\n",
      " \n",
      "<\n",
      "<\n",
      "<\n",
      "!\n",
      "!\n",
      "M\n",
      "A\n",
      "T\n",
      "H\n",
      "_\n",
      "B\n",
      "L\n",
      "O\n",
      "C\n",
      "K"
     ]
    },
    {
     "cell_type": "markdown",
     "metadata": {},
     "source": [
      "2\n",
      "5\n",
      "7\n",
      " \n",
      "<\n",
      "<\n",
      "<\n",
      "!\n",
      "!\n",
      "M\n",
      "A\n",
      "T\n",
      "H\n",
      "_\n",
      "B\n",
      "L\n",
      "O\n",
      "C\n",
      "K"
     ]
    },
    {
     "cell_type": "markdown",
     "metadata": {},
     "source": [
      "2\n",
      "5\n",
      "8\n",
      " \n",
      "<\n",
      "<\n",
      "<\n",
      "!\n",
      "!\n",
      "M\n",
      "A\n",
      "T\n",
      "H\n",
      "_\n",
      "B\n",
      "L\n",
      "O\n",
      "C\n",
      "K"
     ]
    },
    {
     "cell_type": "markdown",
     "metadata": {},
     "source": [
      "$$\n",
      "\\langle l {\\cal J}S=1| S_{12} | l' {\\cal J}S=1\\rangle = 2 \\hspace{0.5cm} l= {\\cal J} \\hspace{0.1cm}\\mathrm{and} \\hspace{0.1cm} l'={\\cal J},\n",
      "$$"
     ]
    },
    {
     "cell_type": "markdown",
     "metadata": {},
     "source": [
      "and zero else.   \n",
      "\n",
      "In this exercise we will focus only on the one-pion exchange term of the nuclear force, namely"
     ]
    },
    {
     "cell_type": "markdown",
     "metadata": {},
     "source": [
      "$$\n",
      "V_{\\pi}(\\mathbf{r})= -\\frac{f_{\\pi}^{2}}{4\\pi m_{\\pi}^{2}}\\mathbf{ \\tau}_1\\cdot\\mathbf{\\tau}_2\n",
      "\\frac{1}{3}\\left\\{\\mathbf{ \\sigma}_1\\cdot\\mathbf{ \\sigma}_2+\\left( 1 + {3\\over m_\\pi r} + {3\\over\\left(m_\\pi r\\right)^2}\\right) S_{12} (\\hat r)\\right\\} \\frac{e^{-m_\\pi r}}{m_\\pi r}.\n",
      "$$"
     ]
    },
    {
     "cell_type": "markdown",
     "metadata": {},
     "source": [
      "Here the constant $f_{\\pi}^{2}/4\\pi\\approx 0.08$ and the mass of the pion is $m_\\pi\\approx 140$ MeV/c${}^{2}$. \n",
      "\n",
      "1. Compute the expectation value of the tensor force and the spin-spin  and isospin operators for the one-pion exchange potential for all partial waves you found in exercise 9. Comment your results. How does the one-pion exchange part behave as function of different $l$, ${\\cal J}$ and $S$ values? Do you see some patterns?\n",
      "\n",
      "2. For the binding energy of the deuteron, with the ground state defined by the quantum numbers $l=0$, $S=1$ and ${\\cal J}=1$, the tensor force plays an important role due to the admixture from the $l=2$ state. Use the expectation values of the different operators of the one-pion exchange potential and plot the ratio of the tensor force component over the spin-spin component of the one-pion exchange part as function of $x=m_\\pi r$ for the $l=2$ state (that is the case $l,l'={\\cal J}+1$). Comment your results."
     ]
    }
   ],
   "metadata": {}
  }
 ]
}
