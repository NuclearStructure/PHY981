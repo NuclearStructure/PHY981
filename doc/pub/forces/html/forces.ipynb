{
 "metadata": {},
 "nbformat": 3,
 "nbformat_minor": 0,
 "worksheets": [
  {
   "cells": [
    {
     "cell_type": "markdown",
     "metadata": {},
     "source": [
      "<!-- Slides for PHY981 -->\n",
      "# Quantum numbers and nuclear forces\n",
      "**Spring 2015**\n",
      "\n",
      "### Quantum numbers and nuclear forces\n",
      "**Outline.**\n",
      "\n",
      "* Discussion of single-particle and two-particle quantum numbers, uncoupled and coupled schemes\n",
      "\n",
      "* Discussion of nuclear forces and models thereof (this material will not be covered in depth this spring)\n",
      "\n",
      "For quantum numbers, chapter 1 on angular momentum and chapter 5 of Suhonen.\n",
      "See also chapters 5, 12 and 13 of Alex Brown. For models of the nuclear forces, see present lectures and pdf files.\n",
      "For a good discussion of isospin, see Alex Brown's lecture notes chapter 12, 13 and 19.\n",
      "\n",
      "\n",
      "\n",
      "\n",
      "\n",
      "### Single-particle and two-particle quantum numbers\n",
      "In order to understand the basics of the nucleon-nucleon interaction, we need to define the relevant quantum numbers and how we build up a single-particle state and a two-body state. \n",
      "\n",
      "* For the single-particle states, due to the fact that we have the spin-orbit force, the quantum numbers for the projection of orbital momentum $l$, that is $m_l$, and for spin $s$, that is $m_s$, are no longer so-called good quantum numbers. The total angular momentum $j$ and its projection $m_j$ are then  so-called *good quantum numbers*.\n",
      "\n",
      "* This means that the operator $\\hat{J}^2$ does not commute with $\\hat{L}_z$  or $\\hat{S}_z$.  \n",
      "\n",
      "* We also start normally with single-particle state functions defined using say the harmonic oscillator. For these functions, we have no explicit dependence on $j$. How can we introduce single-particle wave functions which have $j$ and its projection $m_j$ as quantum numbers?\n",
      "\n",
      "\n",
      "\n",
      "\n",
      "### Single-particle and two-particle quantum numbers, brief review on angular momenta etc\n",
      "\n",
      "We have that the operators for the orbital momentum are given by"
     ]
    },
    {
     "cell_type": "markdown",
     "metadata": {},
     "source": [
      "0\n",
      " \n",
      "<\n",
      "<\n",
      "<\n",
      "!\n",
      "!\n",
      "M\n",
      "A\n",
      "T\n",
      "H\n",
      "_\n",
      "B\n",
      "L\n",
      "O\n",
      "C\n",
      "K"
     ]
    },
    {
     "cell_type": "markdown",
     "metadata": {},
     "source": [
      "1\n",
      " \n",
      "<\n",
      "<\n",
      "<\n",
      "!\n",
      "!\n",
      "M\n",
      "A\n",
      "T\n",
      "H\n",
      "_\n",
      "B\n",
      "L\n",
      "O\n",
      "C\n",
      "K"
     ]
    },
    {
     "cell_type": "markdown",
     "metadata": {},
     "source": [
      "$$\n",
      "L_z=-i\\hbar(x\\frac{\\partial }{\\partial y}-y\\frac{\\partial }{\\partial x})=xp_y-yp_x.\n",
      "$$"
     ]
    },
    {
     "cell_type": "markdown",
     "metadata": {},
     "source": [
      "### Single-particle and two-particle quantum numbers, brief review on angular momenta etc\n",
      "Since we have a spin orbit force which is strong, it is easy to show that \n",
      "the total angular momentum operator"
     ]
    },
    {
     "cell_type": "markdown",
     "metadata": {},
     "source": [
      "$$\n",
      "\\hat{J}=\\hat{L}+\\hat{S}\n",
      "$$"
     ]
    },
    {
     "cell_type": "markdown",
     "metadata": {},
     "source": [
      "does not commute with $\\hat{L}_z$ and $\\hat{S}_z$. To see this, we calculate for example"
     ]
    },
    {
     "cell_type": "markdown",
     "metadata": {},
     "source": [
      "$$\n",
      "\\begin{eqnarray} \n",
      "   [\\hat{L}_z,\\hat{J}^2]&=&[\\hat{L}_z,(\\hat{L}+\\hat{S})^2] \\\\ \\nonumber\n",
      "   &=&[\\hat{L}_z,\\hat{L}^2+\\hat{S}^2+2\\hat{L}\\hat{S}]\\\\ \\nonumber \n",
      "   &=& [\\hat{L}_z,\\hat{L}\\hat{S}]=[\\hat{L}_z,\\hat{L}_x\\hat{S}_x+\\hat{L}_y\\hat{S}_y+\\hat{L}_z\\hat{S}_z]\\ne 0, \n",
      "\\end{eqnarray}\n",
      "$$"
     ]
    },
    {
     "cell_type": "markdown",
     "metadata": {},
     "source": [
      "since we have that $[\\hat{L}_z,\\hat{L}_x]=i\\hbar\\hat{L}_y$ and $[\\hat{L}_z,\\hat{L}_y]=i\\hbar\\hat{L}_x$.\n",
      "\n",
      "\n",
      "\n",
      "### Single-particle and two-particle quantum numbers, brief review on angular momenta etc\n",
      "We have also"
     ]
    },
    {
     "cell_type": "markdown",
     "metadata": {},
     "source": [
      "$$\n",
      "|\\hat{J}|=\\hbar\\sqrt{J(J+1)},\n",
      "$$"
     ]
    },
    {
     "cell_type": "markdown",
     "metadata": {},
     "source": [
      "with the the following degeneracy"
     ]
    },
    {
     "cell_type": "markdown",
     "metadata": {},
     "source": [
      "$$\n",
      "M_J=-J, -J+1, \\dots, J-1, J.\n",
      "$$"
     ]
    },
    {
     "cell_type": "markdown",
     "metadata": {},
     "source": [
      "With a given value of  $L$ and $S$ we can then determine the possible values of \n",
      " $J$ by studying the $z$ component of  $\\hat{J}$. \n",
      "It is given by"
     ]
    },
    {
     "cell_type": "markdown",
     "metadata": {},
     "source": [
      "$$\n",
      "\\hat{J}_z=\\hat{L}_z+\\hat{S}_z.\n",
      "$$"
     ]
    },
    {
     "cell_type": "markdown",
     "metadata": {},
     "source": [
      "The operators $\\hat{L}_z$ and $\\hat{S}_z$ have the quantum numbers\n",
      "$L_z=M_L\\hbar$ and $S_z=M_S\\hbar$, respectively, meaning that"
     ]
    },
    {
     "cell_type": "markdown",
     "metadata": {},
     "source": [
      "$$\n",
      "M_J\\hbar=M_L\\hbar +M_S\\hbar,\n",
      "$$"
     ]
    },
    {
     "cell_type": "markdown",
     "metadata": {},
     "source": [
      "or"
     ]
    },
    {
     "cell_type": "markdown",
     "metadata": {},
     "source": [
      "$$\n",
      "M_J=M_L +M_S.\n",
      "$$"
     ]
    },
    {
     "cell_type": "markdown",
     "metadata": {},
     "source": [
      "Since the max value of  $M_L$ is $L$ and for  $M_S$ is $S$\n",
      "we obtain"
     ]
    },
    {
     "cell_type": "markdown",
     "metadata": {},
     "source": [
      "$$\n",
      "(M_J)_{\\mathrm{maks}}=L+S.\n",
      "$$"
     ]
    },
    {
     "cell_type": "markdown",
     "metadata": {},
     "source": [
      "### Single-particle and two-particle quantum numbers, brief review on angular momenta etc\n",
      "For nucleons we have that the maximum value of $M_S=m_s=1/2$, yielding"
     ]
    },
    {
     "cell_type": "markdown",
     "metadata": {},
     "source": [
      "$$\n",
      "(m_j)_{\\mathrm{max}}=l+\\frac{1}{2}.\n",
      "$$"
     ]
    },
    {
     "cell_type": "markdown",
     "metadata": {},
     "source": [
      "Using this and the fact that the maximum value of  $M_J=m_j$ is $j$ we have"
     ]
    },
    {
     "cell_type": "markdown",
     "metadata": {},
     "source": [
      "$$\n",
      "j=l+\\frac{1}{2}, l-\\frac{1}{2}, l-\\frac{3}{2}, l-\\frac{5}{2}, \\dots\n",
      "$$"
     ]
    },
    {
     "cell_type": "markdown",
     "metadata": {},
     "source": [
      "To decide where this series terminates, we use the vector inequality"
     ]
    },
    {
     "cell_type": "markdown",
     "metadata": {},
     "source": [
      "$$\n",
      "|\\hat{L}+\\hat{S}| \\ge \\left| |\\hat{L}|-|\\hat{S}|\\right|.\n",
      "$$"
     ]
    },
    {
     "cell_type": "markdown",
     "metadata": {},
     "source": [
      "### Single-particle and two-particle quantum numbers, brief review on angular momenta etc\n",
      "Using $\\hat{J}=\\hat{L}+\\hat{S}$ we get"
     ]
    },
    {
     "cell_type": "markdown",
     "metadata": {},
     "source": [
      "$$\n",
      "|\\hat{J}| \\ge |\\hat{L}|-|\\hat{S}|,\n",
      "$$"
     ]
    },
    {
     "cell_type": "markdown",
     "metadata": {},
     "source": [
      "or"
     ]
    },
    {
     "cell_type": "markdown",
     "metadata": {},
     "source": [
      "$$\n",
      "|\\hat{J}|=\\hbar\\sqrt{J(J+1)}\\ge |\\hbar\\sqrt{L(L+1)}-\n",
      "   \\hbar\\sqrt{S(S+1)}|.\n",
      "$$"
     ]
    },
    {
     "cell_type": "markdown",
     "metadata": {},
     "source": [
      "### Single-particle and two-particle quantum numbers, brief review on angular momenta etc\n",
      "If we limit ourselves to nucleons only with $s=1/2$ we find that"
     ]
    },
    {
     "cell_type": "markdown",
     "metadata": {},
     "source": [
      "$$\n",
      "|\\hat{J}|=\\hbar\\sqrt{j(j+1)}\\ge |\\hbar\\sqrt{l(l+1)}-\n",
      "   \\hbar\\sqrt{\\frac{1}{2}(\\frac{1}{2}+1)}|.\n",
      "$$"
     ]
    },
    {
     "cell_type": "markdown",
     "metadata": {},
     "source": [
      "It is then easy to show that for nucleons there are only two possible values of\n",
      "$j$ which satisfy the inequality, namely"
     ]
    },
    {
     "cell_type": "markdown",
     "metadata": {},
     "source": [
      "$$\n",
      "j=l+\\frac{1}{2}\\hspace{0.1cm} \\mathrm{or} \\hspace{0.1cm}j=l-\\frac{1}{2},\n",
      "$$"
     ]
    },
    {
     "cell_type": "markdown",
     "metadata": {},
     "source": [
      "and with $l=0$ we get"
     ]
    },
    {
     "cell_type": "markdown",
     "metadata": {},
     "source": [
      "$$\n",
      "j=\\frac{1}{2}.\n",
      "$$"
     ]
    },
    {
     "cell_type": "markdown",
     "metadata": {},
     "source": [
      "### Single-particle and two-particle quantum numbers, brief review on angular momenta etc\n",
      "Let us study some selected examples. We need also to keep in mind that parity is conserved.\n",
      "The strong and electromagnetic Hamiltonians conserve parity. Thus the eigenstates can be\n",
      "broken down into two classes of states labeled by their parity $\\pi= +1$ or $\\pi=-1$.\n",
      "The nuclear interactions do not mix states with different parity.\n",
      "\n",
      "For nuclear structure the total parity originates\n",
      "from the intrinsic parity of the nucleon which is $\\pi_{\\mathrm{intrinsic}}=+1$ \n",
      "and the parities associated with\n",
      "the orbital angular momenta $\\pi_l=(-1)^l$ . The total parity is the product over all nucleons\n",
      "$\\pi = \\prod_i \\pi_{\\mathrm{intrinsic}}(i)\\pi_l(i) = \\prod_i (-1)^{l_i}$\n",
      "\n",
      "The basis states we deal with are constructed so that they conserve parity and have thus a definite parity. \n",
      "\n",
      "Note that we do have parity violating processes, more on this later although our focus will be mainly on non-parity viloating processes\n",
      "\n",
      "\n",
      "\n",
      "\n",
      "### Single-particle and two-particle quantum numbers\n",
      "\n",
      "Consider now the single-particle orbits of the $1s0d$ shell. \n",
      "For a $0d$ state we have the quantum numbers $l=2$, $m_l=-2,-1,0,1,2$, $s+1/2$, $m_s=\\pm 1/2$,\n",
      "$n=0$ (the number of nodes of the wave function).   This means that we have positive parity and"
     ]
    },
    {
     "cell_type": "markdown",
     "metadata": {},
     "source": [
      "$$\n",
      "j=\\frac{3}{2}=l-s\\hspace{1cm} m_j=-\\frac{3}{2},-\\frac{1}{2},\\frac{1}{2},\\frac{3}{2}.\n",
      "$$"
     ]
    },
    {
     "cell_type": "markdown",
     "metadata": {},
     "source": [
      "and"
     ]
    },
    {
     "cell_type": "markdown",
     "metadata": {},
     "source": [
      "$$\n",
      "j=\\frac{5}{2}=l+s\\hspace{1cm} m_j=-\\frac{5}{2},-\\frac{3}{2},-\\frac{1}{2},\\frac{1}{2},\\frac{3}{2},\\frac{5}{2}.\n",
      "$$"
     ]
    },
    {
     "cell_type": "markdown",
     "metadata": {},
     "source": [
      "### Single-particle and two-particle quantum numbers\n",
      "Our single-particle wave functions, if we use the harmonic oscillator, do however not contain the quantum numbers $j$ and $m_j$.\n",
      "Normally what we have is an eigenfunction for the one-body problem defined as"
     ]
    },
    {
     "cell_type": "markdown",
     "metadata": {},
     "source": [
      "$$\n",
      "\\phi_{nlm_lsm_s}(r,\\theta,\\phi)=R_{nl}(r)Y_{lm_l}(\\theta,\\phi)\\xi_{sm_s},\n",
      "$$"
     ]
    },
    {
     "cell_type": "markdown",
     "metadata": {},
     "source": [
      "where we have used spherical coordinates (with a spherically symmetric potential) and the spherical harmonics"
     ]
    },
    {
     "cell_type": "markdown",
     "metadata": {},
     "source": [
      "$$\n",
      "Y_{lm_l}(\\theta,\\phi)=P(\\theta)F(\\phi)=\\sqrt{\\frac{(2l+1)(l-m_l)!}{4\\pi (l+m_l)!}}\n",
      "                      P_l^{m_l}(cos(\\theta))\\exp{(im_l\\phi)},\n",
      "$$"
     ]
    },
    {
     "cell_type": "markdown",
     "metadata": {},
     "source": [
      "with $P_l^{m_l}$ being the so-called associated Legendre polynomials.\n",
      "\n",
      "\n",
      "\n",
      "\n",
      "\n",
      "### Single-particle and two-particle quantum numbers\n",
      "Examples are"
     ]
    },
    {
     "cell_type": "markdown",
     "metadata": {},
     "source": [
      "$$\n",
      "Y_{00}=\\sqrt{\\frac{1}{4\\pi}},\n",
      "$$"
     ]
    },
    {
     "cell_type": "markdown",
     "metadata": {},
     "source": [
      "for $l=m_l=0$,"
     ]
    },
    {
     "cell_type": "markdown",
     "metadata": {},
     "source": [
      "$$\n",
      "Y_{10}=\\sqrt{\\frac{3}{4\\pi}}cos(\\theta),\n",
      "$$"
     ]
    },
    {
     "cell_type": "markdown",
     "metadata": {},
     "source": [
      "for $l=1$ and $m_l=0$,"
     ]
    },
    {
     "cell_type": "markdown",
     "metadata": {},
     "source": [
      "$$\n",
      "Y_{1\\pm 1}=\\sqrt{\\frac{3}{8\\pi}}sin(\\theta)exp(\\pm i\\phi),\n",
      "$$"
     ]
    },
    {
     "cell_type": "markdown",
     "metadata": {},
     "source": [
      "for  $l=1$ and $m_l=\\pm 1$,"
     ]
    },
    {
     "cell_type": "markdown",
     "metadata": {},
     "source": [
      "$$\n",
      "Y_{20}=\\sqrt{\\frac{5}{16\\pi}}(3cos^2(\\theta)-1)\n",
      "$$"
     ]
    },
    {
     "cell_type": "markdown",
     "metadata": {},
     "source": [
      "for $l=2$ and $m_l=0$ etc.\n",
      "\n",
      "\n",
      "\n",
      "\n",
      "\n",
      "\n",
      "### Single-particle and two-particle quantum numbers\n",
      "How can we get a function in terms of $j$ and $m_j$?\n",
      "Define now"
     ]
    },
    {
     "cell_type": "markdown",
     "metadata": {},
     "source": [
      "$$\n",
      "\\phi_{nlm_lsm_s}(r,\\theta,\\phi)=R_{nl}(r)Y_{lm_l}(\\theta,\\phi)\\xi_{sm_s},\n",
      "$$"
     ]
    },
    {
     "cell_type": "markdown",
     "metadata": {},
     "source": [
      "and"
     ]
    },
    {
     "cell_type": "markdown",
     "metadata": {},
     "source": [
      "$$\n",
      "\\psi_{njm_j;lm_lsm_s}(r,\\theta,\\phi),\n",
      "$$"
     ]
    },
    {
     "cell_type": "markdown",
     "metadata": {},
     "source": [
      "as the state with quantum numbers $jm_j$.\n",
      "Operating with"
     ]
    },
    {
     "cell_type": "markdown",
     "metadata": {},
     "source": [
      "$$\n",
      "\\hat{j}^2=(\\hat{l}+\\hat{s})^2=\\hat{l}^2+\\hat{s}^2+2\\hat{l}_z\\hat{s}_z+\\hat{l}_+\\hat{s}_{-}+\\hat{l}_{-}\\hat{s}_{+},\n",
      "$$"
     ]
    },
    {
     "cell_type": "markdown",
     "metadata": {},
     "source": [
      "on the latter state we will obtain admixtures from possible $\\phi_{nlm_lsm_s}(r,\\theta,\\phi)$ states.\n",
      "\n",
      "\n",
      "\n",
      "\n",
      "### Single-particle and two-particle quantum numbers\n",
      "To see this, we consider the following example and fix"
     ]
    },
    {
     "cell_type": "markdown",
     "metadata": {},
     "source": [
      "$$\n",
      "j=\\frac{3}{2}=l-s\\hspace{1cm} m_j=\\frac{3}{2}.\n",
      "$$"
     ]
    },
    {
     "cell_type": "markdown",
     "metadata": {},
     "source": [
      "and"
     ]
    },
    {
     "cell_type": "markdown",
     "metadata": {},
     "source": [
      "$$\n",
      "j=\\frac{5}{2}=l+s\\hspace{1cm} m_j=\\frac{3}{2}.\n",
      "$$"
     ]
    },
    {
     "cell_type": "markdown",
     "metadata": {},
     "source": [
      "It means we can have, with $l=2$ and $s=1/2$ being fixed, in order to have $m_j=3/2$ either $m_l=1$ and $m_s=1/2$ or\n",
      "$m_l=2$ and $m_s=-1/2$. The two states"
     ]
    },
    {
     "cell_type": "markdown",
     "metadata": {},
     "source": [
      "$$\n",
      "\\psi_{n=0j=5/2m_j=3/2;l=2s=1/2}\n",
      "$$"
     ]
    },
    {
     "cell_type": "markdown",
     "metadata": {},
     "source": [
      "and"
     ]
    },
    {
     "cell_type": "markdown",
     "metadata": {},
     "source": [
      "$$\n",
      "\\psi_{n=0j=3/2m_j=3/2;l=2s=1/2}\n",
      "$$"
     ]
    },
    {
     "cell_type": "markdown",
     "metadata": {},
     "source": [
      "will have admixtures from $\\phi_{n=0l=2m_l=2s=1/2m_s=-1/2}$ and $\\phi_{n=0l=2m_l=1s=1/2m_s=1/2}$. \n",
      "How do we find these admixtures? Note that we don't specify the values of $m_l$ and $m_s$ \n",
      "in the functions $\\psi$ since    \n",
      "$\\hat{j}^2$ does not commute with $\\hat{L}_z$ and $\\hat{S}_z$.\n",
      "\n",
      "\n",
      "\n",
      "### Single-particle and two-particle quantum numbers\n",
      "We operate with"
     ]
    },
    {
     "cell_type": "markdown",
     "metadata": {},
     "source": [
      "$$\n",
      "\\hat{j}^2=(\\hat{l}+\\hat{s})^2=\\hat{l}^2+\\hat{s}^2+2\\hat{l}_z\\hat{s}_z+\\hat{l}_+\\hat{s}_{-}+\\hat{l}_{-}\\hat{s}_{+}\n",
      "$$"
     ]
    },
    {
     "cell_type": "markdown",
     "metadata": {},
     "source": [
      "on the two $jm_j$ states, that is"
     ]
    },
    {
     "cell_type": "markdown",
     "metadata": {},
     "source": [
      "3\n",
      "5\n",
      " \n",
      "<\n",
      "<\n",
      "<\n",
      "!\n",
      "!\n",
      "M\n",
      "A\n",
      "T\n",
      "H\n",
      "_\n",
      "B\n",
      "L\n",
      "O\n",
      "C\n",
      "K"
     ]
    },
    {
     "cell_type": "markdown",
     "metadata": {},
     "source": [
      "$$\n",
      "\\beta\\hbar^2\\sqrt{l(l+1)-m_l(m_l-1)}\\phi_{n=0l=2m_l=1s=1/2m_s=1/2},\n",
      "$$"
     ]
    },
    {
     "cell_type": "markdown",
     "metadata": {},
     "source": [
      "and"
     ]
    },
    {
     "cell_type": "markdown",
     "metadata": {},
     "source": [
      "3\n",
      "7\n",
      " \n",
      "<\n",
      "<\n",
      "<\n",
      "!\n",
      "!\n",
      "M\n",
      "A\n",
      "T\n",
      "H\n",
      "_\n",
      "B\n",
      "L\n",
      "O\n",
      "C\n",
      "K"
     ]
    },
    {
     "cell_type": "markdown",
     "metadata": {},
     "source": [
      "$$\n",
      "\\beta\\hbar^2\\sqrt{l(l+1)-m_l(m_l+1)}\\phi_{n=0l=2m_l=2s=1/2m_s=-1/2}.\n",
      "$$"
     ]
    },
    {
     "cell_type": "markdown",
     "metadata": {},
     "source": [
      "### Single-particle and two-particle quantum numbers\n",
      "This means that the eigenvectors $\\phi_{n=0l=2m_l=2s=1/2m_s=-1/2}$ etc are not eigenvectors of $\\hat{j}^2$. The above problems gives a $2\\times2$ matrix that mixes the vectors $\\psi_{n=0j=5/2m_j3/2;l=2m_ls=1/2m_s}$ and $\\psi_{n=0j=3/2m_j3/2;l=2m_ls=1/2m_s}$ with the states  $\\phi_{n=0l=2m_l=2s=1/2m_s=-1/2}$ and\n",
      "$\\phi_{n=0l=2m_l=1s=1/2m_s=1/2}$. The unknown coefficients $\\alpha$ and $\\beta$ results from eigenvectors of this matrix. That is, inserting all values $m_l,l,m_s,s$ we obtain the matrix"
     ]
    },
    {
     "cell_type": "markdown",
     "metadata": {},
     "source": [
      "$$\n",
      "\\left[ \\begin{array} {cc} 19/4 & 2 \\\\ 2 & 31/4 \\end{array} \\right]\n",
      "$$"
     ]
    },
    {
     "cell_type": "markdown",
     "metadata": {},
     "source": [
      "whose eigenvectors are the columns of"
     ]
    },
    {
     "cell_type": "markdown",
     "metadata": {},
     "source": [
      "$$\n",
      "\\left[ \\begin{array} {cc} 2/\\sqrt{5} &1/\\sqrt{5}  \\\\ 1/\\sqrt{5} & -2/\\sqrt{5} \\end{array}\\right]\n",
      "$$"
     ]
    },
    {
     "cell_type": "markdown",
     "metadata": {},
     "source": [
      "These numbers define the so-called Clebsch-Gordan coupling coefficients  (the overlaps between the two basis sets). We can thus write"
     ]
    },
    {
     "cell_type": "markdown",
     "metadata": {},
     "source": [
      "$$\n",
      "\\psi_{njm_j;ls}=\\sum_{m_lm_s}\\langle lm_lsm_s|jm_j\\rangle\\phi_{nlm_lsm_s},\n",
      "$$"
     ]
    },
    {
     "cell_type": "markdown",
     "metadata": {},
     "source": [
      "where the coefficients $\\langle lm_lsm_s|jm_j\\rangle$ are the so-called Clebsch-Gordan coeffficients.\n",
      "\n",
      "\n",
      "\n",
      "### Clebsch-Gordan coefficients\n",
      "The Clebsch-Gordan coeffficients $\\langle lm_lsm_s|jm_j\\rangle$ have some interesting properties for us, like the following  orthogonality relations"
     ]
    },
    {
     "cell_type": "markdown",
     "metadata": {},
     "source": [
      "4\n",
      "2\n",
      " \n",
      "<\n",
      "<\n",
      "<\n",
      "!\n",
      "!\n",
      "M\n",
      "A\n",
      "T\n",
      "H\n",
      "_\n",
      "B\n",
      "L\n",
      "O\n",
      "C\n",
      "K"
     ]
    },
    {
     "cell_type": "markdown",
     "metadata": {},
     "source": [
      "4\n",
      "3\n",
      " \n",
      "<\n",
      "<\n",
      "<\n",
      "!\n",
      "!\n",
      "M\n",
      "A\n",
      "T\n",
      "H\n",
      "_\n",
      "B\n",
      "L\n",
      "O\n",
      "C\n",
      "K"
     ]
    },
    {
     "cell_type": "markdown",
     "metadata": {},
     "source": [
      "$$\n",
      "\\langle j_1m_1j_2m_2|JM\\rangle=(-1)^{j_1+j_2-J}\\langle j_2m_2j_1m_1|JM\\rangle,\n",
      "$$"
     ]
    },
    {
     "cell_type": "markdown",
     "metadata": {},
     "source": [
      "and many others. The latter will turn extremely useful when we are going to define two-body states and interactions in a coupled basis.\n",
      "\n",
      "\n",
      "\n",
      "### Quantum numbers and the Schroeodinger equation in relative and CM coordinates\n",
      "Summing up, for \n",
      "for the single-particle case, we have the following eigenfunctions"
     ]
    },
    {
     "cell_type": "markdown",
     "metadata": {},
     "source": [
      "$$\n",
      "\\psi_{njm_j;ls}=\\sum_{m_lm_s}\\langle lm_lsm_s|jm_j\\rangle\\phi_{nlm_lsm_s},\n",
      "$$"
     ]
    },
    {
     "cell_type": "markdown",
     "metadata": {},
     "source": [
      "where the coefficients $\\langle lm_lsm_s|jm_j\\rangle$ are the so-called Clebsch-Gordan coeffficients.\n",
      "The relevant quantum numbers are $n$ (related to the principal quantum number and the number of nodes of the wave function) and"
     ]
    },
    {
     "cell_type": "markdown",
     "metadata": {},
     "source": [
      "4\n",
      "6\n",
      " \n",
      "<\n",
      "<\n",
      "<\n",
      "!\n",
      "!\n",
      "M\n",
      "A\n",
      "T\n",
      "H\n",
      "_\n",
      "B\n",
      "L\n",
      "O\n",
      "C\n",
      "K"
     ]
    },
    {
     "cell_type": "markdown",
     "metadata": {},
     "source": [
      "4\n",
      "7\n",
      " \n",
      "<\n",
      "<\n",
      "<\n",
      "!\n",
      "!\n",
      "M\n",
      "A\n",
      "T\n",
      "H\n",
      "_\n",
      "B\n",
      "L\n",
      "O\n",
      "C\n",
      "K"
     ]
    },
    {
     "cell_type": "markdown",
     "metadata": {},
     "source": [
      "4\n",
      "8\n",
      " \n",
      "<\n",
      "<\n",
      "<\n",
      "!\n",
      "!\n",
      "M\n",
      "A\n",
      "T\n",
      "H\n",
      "_\n",
      "B\n",
      "L\n",
      "O\n",
      "C\n",
      "K"
     ]
    },
    {
     "cell_type": "markdown",
     "metadata": {},
     "source": [
      "$$\n",
      "\\hat{s}^2\\psi_{njm_j;ls}=\\hbar^2s(s+1)\\psi_{njm_j;ls},\n",
      "$$"
     ]
    },
    {
     "cell_type": "markdown",
     "metadata": {},
     "source": [
      "but $s_z$ and $l_z$ do not result in good quantum numbers in a basis where we\n",
      "use the angular momentum $j$.\n",
      "\n",
      "\n",
      "\n",
      "### Quantum numbers and the Schroedinger equation in relative and CM coordinates\n",
      "For a two-body state where we couple two angular momenta $j_1$ and $j_2$ to a final\n",
      "angular momentum $J$ with projection $M_J$, we can define a similar transformation in terms\n",
      "of the Clebsch-Gordan coeffficients"
     ]
    },
    {
     "cell_type": "markdown",
     "metadata": {},
     "source": [
      "$$\n",
      "\\psi_{(j_1j_2)JM_J}=\\sum_{m_{j_1}m_{j_2}}\\langle j_1m_{j_1}j_2m_{j_2}|JM_J\\rangle\\psi_{n_1j_1m_{j_1};l_1s_1}\\psi_{n_2j_2m_{j_2};l_2s_2}.\n",
      "$$"
     ]
    },
    {
     "cell_type": "markdown",
     "metadata": {},
     "source": [
      "We will write these functions in a more compact form hereafter, namely,"
     ]
    },
    {
     "cell_type": "markdown",
     "metadata": {},
     "source": [
      "$$\n",
      "|(j_1j_2)JM_J\\rangle=\\psi_{(j_1j_2)JM_J},\n",
      "$$"
     ]
    },
    {
     "cell_type": "markdown",
     "metadata": {},
     "source": [
      "and"
     ]
    },
    {
     "cell_type": "markdown",
     "metadata": {},
     "source": [
      "$$\n",
      "|j_im_{j_i}\\rangle=\\psi_{n_ij_im_{j_i};l_is_i},\n",
      "$$"
     ]
    },
    {
     "cell_type": "markdown",
     "metadata": {},
     "source": [
      "where we have skipped the explicit reference to $l$, $s$ and $n$. The spin of a nucleon is always $1/2$ while the value of $l$ can be deduced from the parity of the state.\n",
      "It is thus normal to label a state with a given total angular momentum as \n",
      "$j^{\\pi}$, where $\\pi=\\pm 1$.\n",
      "\n",
      "\n",
      "\n",
      "### Quantum numbers and the Schroedinger equation in relative and CM coordinates\n",
      "Our two-body state can thus be written as"
     ]
    },
    {
     "cell_type": "markdown",
     "metadata": {},
     "source": [
      "$$\n",
      "|(j_1j_2)JM_J\\rangle=\\sum_{m_{j_1}m_{j_2}}\\langle j_1m_{j_1}j_2m_{j_2}|JM_J\\rangle|j_1m_{j_1}\\rangle|j_2m_{j_2}\\rangle.\n",
      "$$"
     ]
    },
    {
     "cell_type": "markdown",
     "metadata": {},
     "source": [
      "Due to the coupling order of the Clebsch-Gordan coefficient it reads as \n",
      "$j_1$ coupled to $j_2$ to yield a final angular momentum $J$. If we invert the order of coupling we would have"
     ]
    },
    {
     "cell_type": "markdown",
     "metadata": {},
     "source": [
      "$$\n",
      "|(j_2j_1)JM_J\\rangle=\\sum_{m_{j_1}m_{j_2}}\\langle j_2m_{j_2}j_1m_{j_1}|JM_J\\rangle|j_1m_{j_1}\\rangle|j_2m_{j_2}\\rangle,\n",
      "$$"
     ]
    },
    {
     "cell_type": "markdown",
     "metadata": {},
     "source": [
      "and due to the symmetry properties of the Clebsch-Gordan coefficient we have"
     ]
    },
    {
     "cell_type": "markdown",
     "metadata": {},
     "source": [
      "$$\n",
      "|(j_2j_1)JM_J\\rangle=(-1)^{j_1+j_2-J}\\sum_{m_{j_1}m_{j_2}}\\langle j_1m_{j_1}j_2m_{j_2}|JM_J\\rangle|j_1m_{j_1}\\rangle|j_2m_{j_2}\\rangle=(-1)^{j_1+j_2-J}|(j_1j_2)JM_J\\rangle.\n",
      "$$"
     ]
    },
    {
     "cell_type": "markdown",
     "metadata": {},
     "source": [
      "We call the basis $|(j_1j_2)JM_J\\rangle$ for the **coupled basis**, or just $j$-coupled basis/scheme. The basis formed by the simple product of single-particle eigenstates \n",
      "$|j_1m_{j_1}\\rangle|j_2m_{j_2}\\rangle$ is called the **uncoupled-basis**, or just the $m$-scheme basis.\n",
      "\n",
      "\n",
      "\n",
      "### Quantum numbers\n",
      "We have thus the coupled basis"
     ]
    },
    {
     "cell_type": "markdown",
     "metadata": {},
     "source": [
      "$$\n",
      "|(j_1j_2)JM_J\\rangle=\\sum_{m_{j_1}m_{j_2}}\\langle j_1m_{j_1}j_2m_{j_2}|JM_J\\rangle|j_1m_{j_1}\\rangle|j_2m_{j_2}\\rangle.\n",
      "$$"
     ]
    },
    {
     "cell_type": "markdown",
     "metadata": {},
     "source": [
      "and the uncoupled basis"
     ]
    },
    {
     "cell_type": "markdown",
     "metadata": {},
     "source": [
      "$$\n",
      "|j_1m_{j_1}\\rangle|j_2m_{j_2}\\rangle.\n",
      "$$"
     ]
    },
    {
     "cell_type": "markdown",
     "metadata": {},
     "source": [
      "The latter can easily be generalized to many single-particle states whereas the first \n",
      "needs specific coupling coefficients and definitions of coupling orders. \n",
      "The $m$-scheme basis is easy to implement numerically and is used in most standard shell-model codes. \n",
      "Our coupled basis obeys also the following relations"
     ]
    },
    {
     "cell_type": "markdown",
     "metadata": {},
     "source": [
      "5\n",
      "8\n",
      " \n",
      "<\n",
      "<\n",
      "<\n",
      "!\n",
      "!\n",
      "M\n",
      "A\n",
      "T\n",
      "H\n",
      "_\n",
      "B\n",
      "L\n",
      "O\n",
      "C\n",
      "K"
     ]
    },
    {
     "cell_type": "markdown",
     "metadata": {},
     "source": [
      "$$\n",
      "\\hat{J}_z|(j_1j_2)JM_J\\rangle=\\hbar M_J|(j_1j_2)JM_J\\rangle,\n",
      "$$"
     ]
    },
    {
     "cell_type": "markdown",
     "metadata": {},
     "source": [
      "### Components of the force and isospin\n",
      " The nuclear forces are almost charge independent. If we assume they are, \n",
      "we can introduce a new quantum number which is conserved. For nucleons only, that is a proton and neutron, we can limit ourselves\n",
      "to two possible values which allow us to distinguish between the two particles. If we assign an isospin value of $\\tau=1/2$ for protons\n",
      "and neutrons (they belong to an isospin doublet, in the same way as we discussed the spin $1/2$ multiplet), we can define \n",
      "the neutron to have isospin projection $\\tau_z=+1/2$ and a proton to have $\\tau_z=-1/2$. These assignements are the standard choices in low-energy nuclear physics.\n",
      "\n",
      "\n",
      "\n",
      "### Isospin\n",
      "This leads to the introduction of an additional quantum number called isospin.\n",
      "We can define a single-nucleon\n",
      "state function in terms of the quantum numbers $n$, $j$, $m_j$, $l$, $s$, $\\tau$ and $\\tau_z$. Using our definitions in terms of an uncoupled basis, we had"
     ]
    },
    {
     "cell_type": "markdown",
     "metadata": {},
     "source": [
      "$$\n",
      "\\psi_{njm_j;ls}=\\sum_{m_lm_s}\\langle lm_lsm_s|jm_j\\rangle\\phi_{nlm_lsm_s},\n",
      "$$"
     ]
    },
    {
     "cell_type": "markdown",
     "metadata": {},
     "source": [
      "which we can now extend to"
     ]
    },
    {
     "cell_type": "markdown",
     "metadata": {},
     "source": [
      "$$\n",
      "\\psi_{njm_j;ls}\\xi_{\\tau\\tau_z}=\\sum_{m_lm_s}\\langle lm_lsm_s|jm_j\\rangle\\phi_{nlm_lsm_s}\\xi_{\\tau\\tau_z},\n",
      "$$"
     ]
    },
    {
     "cell_type": "markdown",
     "metadata": {},
     "source": [
      "with the isospin spinors defined as"
     ]
    },
    {
     "cell_type": "markdown",
     "metadata": {},
     "source": [
      "$$\n",
      "\\xi_{\\tau=1/2\\tau_z=+1/2}=\\left(\\begin{array}{c} 1  \\\\ 0\\end{array}\\right),\n",
      "$$"
     ]
    },
    {
     "cell_type": "markdown",
     "metadata": {},
     "source": [
      "and"
     ]
    },
    {
     "cell_type": "markdown",
     "metadata": {},
     "source": [
      "$$\n",
      "\\xi_{\\tau=1/2\\tau_z=-1/2}=\\left(\\begin{array}{c} 0  \\\\ 1\\end{array}\\right).\n",
      "$$"
     ]
    },
    {
     "cell_type": "markdown",
     "metadata": {},
     "source": [
      "We can then define the proton state function as"
     ]
    },
    {
     "cell_type": "markdown",
     "metadata": {},
     "source": [
      "$$\n",
      "\\psi^p(\\mathbf{r})  =\\psi_{njm_j;ls}(\\mathbf{r})\\left(\\begin{array}{c} 0  \\\\ 1\\end{array}\\right),\n",
      "$$"
     ]
    },
    {
     "cell_type": "markdown",
     "metadata": {},
     "source": [
      "and similarly for neutrons as"
     ]
    },
    {
     "cell_type": "markdown",
     "metadata": {},
     "source": [
      "$$\n",
      "\\psi^n(\\mathbf{r})  =\\psi_{njm_j;ls}(\\mathbf{r})\\left(\\begin{array}{c} 1  \\\\ 0\\end{array}\\right).\n",
      "$$"
     ]
    },
    {
     "cell_type": "markdown",
     "metadata": {},
     "source": [
      "### Isospin\n",
      "We can in turn define the isospin Pauli matrices (in the same as we define the spin matrices) as"
     ]
    },
    {
     "cell_type": "markdown",
     "metadata": {},
     "source": [
      "6\n",
      "6\n",
      " \n",
      "<\n",
      "<\n",
      "<\n",
      "!\n",
      "!\n",
      "M\n",
      "A\n",
      "T\n",
      "H\n",
      "_\n",
      "B\n",
      "L\n",
      "O\n",
      "C\n",
      "K"
     ]
    },
    {
     "cell_type": "markdown",
     "metadata": {},
     "source": [
      "$$\n",
      "\\hat{\\tau}_y =\\left(\\begin{array}{cc} 0 & -\\imath \\\\ \\imath & 0 \\end{array}\\right),\n",
      "$$"
     ]
    },
    {
     "cell_type": "markdown",
     "metadata": {},
     "source": [
      "and"
     ]
    },
    {
     "cell_type": "markdown",
     "metadata": {},
     "source": [
      "$$\n",
      "\\hat{\\tau}_z =\\left(\\begin{array}{cc} 1 & 0 \\\\ 0 & -1 \\end{array}\\right),\n",
      "$$"
     ]
    },
    {
     "cell_type": "markdown",
     "metadata": {},
     "source": [
      "and operating with $\\hat{\\tau}_z$ on the proton state function we have"
     ]
    },
    {
     "cell_type": "markdown",
     "metadata": {},
     "source": [
      "$$\n",
      "\\hat{\\tau}_z\\psi^p(\\mathbf{r})=-\\frac{1}{2}\\psi^p(\\mathbf{r}),\n",
      "$$"
     ]
    },
    {
     "cell_type": "markdown",
     "metadata": {},
     "source": [
      "and for neutrons we have"
     ]
    },
    {
     "cell_type": "markdown",
     "metadata": {},
     "source": [
      "$$\n",
      "\\hat{\\tau}\\psi^n(\\mathbf{r})=\\frac{1}{2}\\psi^n(\\mathbf{r}).\n",
      "$$"
     ]
    },
    {
     "cell_type": "markdown",
     "metadata": {},
     "source": [
      "### Isospin\n",
      "We can now define the so-called charge operator as"
     ]
    },
    {
     "cell_type": "markdown",
     "metadata": {},
     "source": [
      "$$\n",
      "\\frac{\\hat{Q}}{e} = \\frac{1}{2}\\left(1-\\hat{\\tau}_z\\right)=\\begin{Bmatrix} 0 & 0 \\\\ 0 & 1 \\end{Bmatrix},\n",
      "$$"
     ]
    },
    {
     "cell_type": "markdown",
     "metadata": {},
     "source": [
      "which results in"
     ]
    },
    {
     "cell_type": "markdown",
     "metadata": {},
     "source": [
      "$$\n",
      "\\frac{\\hat{Q}}{e}\\psi^p(\\mathbf{r})=\\psi^p(\\mathbf{r}),\n",
      "$$"
     ]
    },
    {
     "cell_type": "markdown",
     "metadata": {},
     "source": [
      "and"
     ]
    },
    {
     "cell_type": "markdown",
     "metadata": {},
     "source": [
      "$$\n",
      "\\frac{\\hat{Q}}{e}\\psi^n(\\mathbf{r})=0,\n",
      "$$"
     ]
    },
    {
     "cell_type": "markdown",
     "metadata": {},
     "source": [
      "as it should be.\n",
      "\n",
      "\n",
      "\n",
      "### Isospin\n",
      "The total isospin is defined as"
     ]
    },
    {
     "cell_type": "markdown",
     "metadata": {},
     "source": [
      "$$\n",
      "\\hat{T}=\\sum_{i=1}^A\\hat{\\tau}_i,\n",
      "$$"
     ]
    },
    {
     "cell_type": "markdown",
     "metadata": {},
     "source": [
      "and its corresponding isospin projection as"
     ]
    },
    {
     "cell_type": "markdown",
     "metadata": {},
     "source": [
      "$$\n",
      "\\hat{T}_z=\\sum_{i=1}^A\\hat{\\tau}_{z_i},\n",
      "$$"
     ]
    },
    {
     "cell_type": "markdown",
     "metadata": {},
     "source": [
      "with eigenvalues $T(T+1)$ for $\\hat{T}$ and $1/2(N-Z)$ for $\\hat{T}_z$, where $N$ is the number of neutrons and $Z$ the number of protons. \n",
      "\n",
      "If charge is conserved, the Hamiltonian $\\hat{H}$ commutes with $\\hat{T}_z$ and all members of a given isospin multiplet\n",
      "(that is the same value of $T$) have the same energy and there is no $T_z$ dependence and we say that $\\hat{H}$ is a scalar in isospin space.\n",
      "\n",
      "\n",
      "\n",
      "\n",
      "### Two-body matrix elements\n",
      "Till now we have not said anything about the explicit calculation of two-body matrix elements. It is time to amend this deficiency.\n",
      "We have till now seen the following definitions of a two-body matrix elements. In $m$-scheme\n",
      "with quantum numbers $p=j_pm_p$ etc we have a two-body state defined as"
     ]
    },
    {
     "cell_type": "markdown",
     "metadata": {},
     "source": [
      "$$\n",
      "|(pq)M\\rangle  = a^{\\dagger}_pa^{\\dagger}_q|\\Phi_0\\rangle,\n",
      "$$"
     ]
    },
    {
     "cell_type": "markdown",
     "metadata": {},
     "source": [
      "where $|\\Phi_0\\rangle$ is a chosen reference state, say for example the Slater determinant which approximates ${}^{16}\\mbox{O}$ with the $0s$ and the $0p$ shells being filled, and $M=m_p+m_q$. Recall that we label single-particle states above the Fermi level as $abcd\\dots$ and states below the Fermi level for $ijkl\\dots$.  \n",
      "In case of two-particles in the single-particle states $a$ and $b$ outside ${}^{16}\\mbox{O}$ as a closed shell core, say ${}^{18}\\mbox{O}$, \n",
      "we would write the representation of the Slater determinant as"
     ]
    },
    {
     "cell_type": "markdown",
     "metadata": {},
     "source": [
      "$$\n",
      "|^{18}\\mathrm{O}\\rangle =|(ab)M\\rangle  = a^{\\dagger}_aa^{\\dagger}_b|^{16}\\mathrm{O}\\rangle=|\\Phi^{ab}\\rangle.\n",
      "$$"
     ]
    },
    {
     "cell_type": "markdown",
     "metadata": {},
     "source": [
      "In case of two-particles removed from say ${}^{16}\\mbox{O}$, for example two neutrons in the single-particle states $i$ and $j$, we would write this as"
     ]
    },
    {
     "cell_type": "markdown",
     "metadata": {},
     "source": [
      "$$\n",
      "|^{14}\\mathrm{O}\\rangle =|(ij)M\\rangle  = a_ja_i|^{16}\\mathrm{O}\\rangle=|\\Phi_{ij}\\rangle.\n",
      "$$"
     ]
    },
    {
     "cell_type": "markdown",
     "metadata": {},
     "source": [
      "### Two-body matrix elementsin $m$-scheme\n",
      "For a one-hole-one-particle state we have"
     ]
    },
    {
     "cell_type": "markdown",
     "metadata": {},
     "source": [
      "$$\n",
      "|^{16}\\mathrm{O}\\rangle_{1p1h} =|(ai)M\\rangle  = a_a^{\\dagger}a_i|^{16}\\mathrm{O}\\rangle=|\\Phi_{i}^a\\rangle,\n",
      "$$"
     ]
    },
    {
     "cell_type": "markdown",
     "metadata": {},
     "source": [
      "and finally for a two-particle-two-hole state we"
     ]
    },
    {
     "cell_type": "markdown",
     "metadata": {},
     "source": [
      "$$\n",
      "|^{16}\\mathrm{O}\\rangle_{2p2h} =|(abij)M\\rangle  = a_a^{\\dagger}a_b^{\\dagger}a_ja_i|^{16}\\mathrm{O}\\rangle=|\\Phi_{ij}^{ab}\\rangle.\n",
      "$$"
     ]
    },
    {
     "cell_type": "markdown",
     "metadata": {},
     "source": [
      "### Two-body matrix elements in $m$-scheme\n",
      "Let us go back to the case of two-particles in the single-particle states $a$ and $b$ outside ${}^{16}\\mbox{O}$ as a closed shell core, say ${}^{18}\\mbox{O}$.\n",
      "The representation of the Slater determinant is"
     ]
    },
    {
     "cell_type": "markdown",
     "metadata": {},
     "source": [
      "$$\n",
      "|^{18}\\mathrm{O}\\rangle =|(ab)M\\rangle  = a^{\\dagger}_aa^{\\dagger}_b|^{16}\\mathrm{O}\\rangle=|\\Phi^{ab}\\rangle.\n",
      "$$"
     ]
    },
    {
     "cell_type": "markdown",
     "metadata": {},
     "source": [
      "The anti-symmetrized matrix element is detailed as"
     ]
    },
    {
     "cell_type": "markdown",
     "metadata": {},
     "source": [
      "$$\n",
      "\\langle (ab) M | \\hat{V} | (cd) M \\rangle = \\langle (j_am_aj_bm_b)M=m_a+m_b |  \\hat{V} | (j_cm_cj_dm_d)M=m_a+m_b \\rangle,\n",
      "$$"
     ]
    },
    {
     "cell_type": "markdown",
     "metadata": {},
     "source": [
      "and note that anti-symmetrization means"
     ]
    },
    {
     "cell_type": "markdown",
     "metadata": {},
     "source": [
      "8\n",
      "3\n",
      " \n",
      "<\n",
      "<\n",
      "<\n",
      "!\n",
      "!\n",
      "M\n",
      "A\n",
      "T\n",
      "H\n",
      "_\n",
      "B\n",
      "L\n",
      "O\n",
      "C\n",
      "K"
     ]
    },
    {
     "cell_type": "markdown",
     "metadata": {},
     "source": [
      "$$\n",
      "\\langle (ab) M | \\hat{V} | (cd) M \\rangle =-\\langle (ab) M | \\hat{V} | (dc) M \\rangle.\n",
      "$$"
     ]
    },
    {
     "cell_type": "markdown",
     "metadata": {},
     "source": [
      "This matrix element is the expectation value of"
     ]
    },
    {
     "cell_type": "markdown",
     "metadata": {},
     "source": [
      "$$\n",
      "\\langle ^{16}\\mathrm{O}|a_ba_a\\frac{1}{4}\\sum_{pqrs}\\langle (pq) M | \\hat{V} | (rs) M' \\rangle a^{\\dagger}_pa^{\\dagger}_qa_sa_r a^{\\dagger}_ca^{\\dagger}_c|^{16}\\mathrm{O}\\rangle.\n",
      "$$"
     ]
    },
    {
     "cell_type": "markdown",
     "metadata": {},
     "source": [
      "### Two-body matrix elements in $J$-scheme\n",
      "We have also defined matrix elements in the coupled basis, the so-called $J$-coupled scheme.\n",
      "In this case the two-body wave function for two neutrons outside ${}^{16}\\mbox{O}$ is written as"
     ]
    },
    {
     "cell_type": "markdown",
     "metadata": {},
     "source": [
      "$$\n",
      "|^{18}\\mathrm{O}\\rangle_J =|(ab)JM\\rangle  = \\left\\{a^{\\dagger}_aa^{\\dagger}_b\\right\\}^J_M|^{16}\\mathrm{O}\\rangle=N_{ab}\\sum_{m_am_b}\\langle j_am_aj_bm_b|JM\\rangle|\\Phi^{ab}\\rangle,\n",
      "$$"
     ]
    },
    {
     "cell_type": "markdown",
     "metadata": {},
     "source": [
      "with"
     ]
    },
    {
     "cell_type": "markdown",
     "metadata": {},
     "source": [
      "$$\n",
      "|\\Phi^{ab}\\rangle=a^{\\dagger}_aa^{\\dagger}_b|^{16}\\mathrm{O}\\rangle.\n",
      "$$"
     ]
    },
    {
     "cell_type": "markdown",
     "metadata": {},
     "source": [
      "We have now an explicit coupling order, where the angular momentum $j_a$ is coupled to the angular momentum $j_b$ to yield a final two-body angular momentum $J$. \n",
      "The normalization factor (to be derived below) is"
     ]
    },
    {
     "cell_type": "markdown",
     "metadata": {},
     "source": [
      "$$\n",
      "N_{ab}=\\frac{\\sqrt{1+\\delta_{ab}\\times (-1)^J}}{1+\\delta_{ab}}.\n",
      "$$"
     ]
    },
    {
     "cell_type": "markdown",
     "metadata": {},
     "source": [
      "### Two-body matrix elements in $J$-scheme\n",
      "The implementation of the Pauli principle looks different in the $J$-scheme compared with the $m$-scheme. In the latter, no two fermions or more can have the same set of quantum numbers. In the $J$-scheme, when we write a state with the shorthand"
     ]
    },
    {
     "cell_type": "markdown",
     "metadata": {},
     "source": [
      "$$\n",
      "|^{18}\\mathrm{O}\\rangle_J =|(ab)JM\\rangle,\n",
      "$$"
     ]
    },
    {
     "cell_type": "markdown",
     "metadata": {},
     "source": [
      "we do refer to the angular momenta only. This means that another way of writing the last state is"
     ]
    },
    {
     "cell_type": "markdown",
     "metadata": {},
     "source": [
      "$$\n",
      "|^{18}\\mathrm{O}\\rangle_J =|(j_aj_b)JM\\rangle.\n",
      "$$"
     ]
    },
    {
     "cell_type": "markdown",
     "metadata": {},
     "source": [
      "We will use this notation throughout when we refer to a two-body state in $J$-scheme. The Kronecker $\\delta$ function in the normalization factor \n",
      "refers thus to the values of $j_a$ and $j_b$. If two identical particles are in a state with the same $j$-value, then only even values of the total angular momentum apply.\n",
      "\n",
      "\n",
      "\n",
      "\n",
      "### Two-body matrix elements in $J$-scheme\n",
      "Note also that, using the anti-commuting properties of the creation operators, we obtain"
     ]
    },
    {
     "cell_type": "markdown",
     "metadata": {},
     "source": [
      "$$\n",
      "N_{ab}\\sum_{m_am_b}\\langle j_am_aj_bm_b|JM>|\\Phi^{ab}\\rangle=-N_{ab}\\sum_{m_am_b}\\langle j_am_aj_bm_b|JM\\rangle|\\Phi^{ba}\\rangle.\n",
      "$$"
     ]
    },
    {
     "cell_type": "markdown",
     "metadata": {},
     "source": [
      "Furthermore, using the property of the Clebsch-Gordan coefficient"
     ]
    },
    {
     "cell_type": "markdown",
     "metadata": {},
     "source": [
      "$$\n",
      "\\langle j_am_aj_bm_b|JM>=(-1)^{j_a+j_b-J}\\langle j_bm_bj_am_a|JM\\rangle,\n",
      "$$"
     ]
    },
    {
     "cell_type": "markdown",
     "metadata": {},
     "source": [
      "which can be used to show that"
     ]
    },
    {
     "cell_type": "markdown",
     "metadata": {},
     "source": [
      "$$\n",
      "|(j_bj_a)JM\\rangle  = \\left\\{a^{\\dagger}_ba^{\\dagger}_a\\right\\}^J_M|^{16}\\mathrm{O}\\rangle=N_{ab}\\sum_{m_am_b}\\langle j_bm_bj_am_a|JM\\rangle|\\Phi^{ba}\\rangle,\n",
      "$$"
     ]
    },
    {
     "cell_type": "markdown",
     "metadata": {},
     "source": [
      "is equal to"
     ]
    },
    {
     "cell_type": "markdown",
     "metadata": {},
     "source": [
      "$$\n",
      "|(j_bj_a)JM\\rangle=(-1)^{j_a+j_b-J+1}|(j_aj_b)JM\\rangle.\n",
      "$$"
     ]
    },
    {
     "cell_type": "markdown",
     "metadata": {},
     "source": [
      "This relation is important since we will need it when using anti-symmetrized matrix elements in $J$-scheme.\n",
      "\n",
      "\n",
      "\n",
      "### Two-body matrix elements in $J$-scheme\n",
      "The two-body matrix element is a scalar and since it obeys rotational symmetry, it is diagonal in $J$, \n",
      "meaning that the corresponding matrix element in $J$-scheme is"
     ]
    },
    {
     "cell_type": "markdown",
     "metadata": {},
     "source": [
      "9\n",
      "5\n",
      " \n",
      "<\n",
      "<\n",
      "<\n",
      "!\n",
      "!\n",
      "M\n",
      "A\n",
      "T\n",
      "H\n",
      "_\n",
      "B\n",
      "L\n",
      "O\n",
      "C\n",
      "K"
     ]
    },
    {
     "cell_type": "markdown",
     "metadata": {},
     "source": [
      "$$\n",
      "\\times \\langle j_cm_cj_dm_d|JM\\rangle\\langle (j_am_aj_bm_b)M |  \\hat{V} | (j_cm_cj_dm_d)M \\rangle,\n",
      "$$"
     ]
    },
    {
     "cell_type": "markdown",
     "metadata": {},
     "source": [
      "and note that of the four $m$-values in the above sum, only three are independent due to the constraint $m_a+m_b=M=m_c+m_d$.\n",
      "Since"
     ]
    },
    {
     "cell_type": "markdown",
     "metadata": {},
     "source": [
      "$$\n",
      "|(j_bj_a)JM\\rangle=(-1)^{j_a+j_b-J+1}|(j_aj_b)JM\\rangle,\n",
      "$$"
     ]
    },
    {
     "cell_type": "markdown",
     "metadata": {},
     "source": [
      "the anti-symmetrized matrix elements need now to obey the following relations"
     ]
    },
    {
     "cell_type": "markdown",
     "metadata": {},
     "source": [
      "9\n",
      "8\n",
      " \n",
      "<\n",
      "<\n",
      "<\n",
      "!\n",
      "!\n",
      "M\n",
      "A\n",
      "T\n",
      "H\n",
      "_\n",
      "B\n",
      "L\n",
      "O\n",
      "C\n",
      "K"
     ]
    },
    {
     "cell_type": "markdown",
     "metadata": {},
     "source": [
      "9\n",
      "9\n",
      " \n",
      "<\n",
      "<\n",
      "<\n",
      "!\n",
      "!\n",
      "M\n",
      "A\n",
      "T\n",
      "H\n",
      "_\n",
      "B\n",
      "L\n",
      "O\n",
      "C\n",
      "K"
     ]
    },
    {
     "cell_type": "markdown",
     "metadata": {},
     "source": [
      "$$\n",
      "\\langle (j_aj_b) JM | \\hat{V} | (j_cj_d) JM \\rangle = (-1)^{j_a+j_b+j_c+j_d}\\langle (j_bj_a) JM | \\hat{V} | (j_dj_c) JM \\rangle=\\langle (j_bj_a) JM | \\hat{V} | (j_dj_c) JM \\rangle,\n",
      "$$"
     ]
    },
    {
     "cell_type": "markdown",
     "metadata": {},
     "source": [
      "where the last relations follows from the fact that $J$ is an integer and $2J$ is always an even number.\n",
      "\n",
      "\n",
      "\n",
      "### Two-body matrix elements in $J$-scheme\n",
      "Using the orthogonality properties of the Clebsch-Gordan coefficients,"
     ]
    },
    {
     "cell_type": "markdown",
     "metadata": {},
     "source": [
      "$$\n",
      "\\sum_{m_am_b}\\langle j_am_aj_bm_b|JM\\rangle\\langle j_am_aj_bm_b|J'M'\\rangle=\\delta_{JJ'}\\delta_{MM'},\n",
      "$$"
     ]
    },
    {
     "cell_type": "markdown",
     "metadata": {},
     "source": [
      "and"
     ]
    },
    {
     "cell_type": "markdown",
     "metadata": {},
     "source": [
      "$$\n",
      "\\sum_{JM}\\langle j_am_aj_bm_b|JM\\rangle\\langle j_am_a'j_bm_b'|JM\\rangle=\\delta_{m_am_a'}\\delta_{m_bm_b'},\n",
      "$$"
     ]
    },
    {
     "cell_type": "markdown",
     "metadata": {},
     "source": [
      "we can also express the two-body matrix element in $m$-scheme in terms of that in $J$-scheme, that is, if we multiply with"
     ]
    },
    {
     "cell_type": "markdown",
     "metadata": {},
     "source": [
      "$$\n",
      "\\sum_{JMJ'M'}\\langle j_am_a'j_bm_b'|JM\\rangle\\langle j_cm_c'j_dm_d'|J'M'\\rangle\n",
      "$$"
     ]
    },
    {
     "cell_type": "markdown",
     "metadata": {},
     "source": [
      "from left in"
     ]
    },
    {
     "cell_type": "markdown",
     "metadata": {},
     "source": [
      "1\n",
      "0\n",
      "4\n",
      " \n",
      "<\n",
      "<\n",
      "<\n",
      "!\n",
      "!\n",
      "M\n",
      "A\n",
      "T\n",
      "H\n",
      "_\n",
      "B\n",
      "L\n",
      "O\n",
      "C\n",
      "K"
     ]
    },
    {
     "cell_type": "markdown",
     "metadata": {},
     "source": [
      "$$\n",
      "\\times \\langle (j_am_aj_bm_b)M|  \\hat{V} | (j_cm_cj_dm_d)M\\rangle,\n",
      "$$"
     ]
    },
    {
     "cell_type": "markdown",
     "metadata": {},
     "source": [
      "we obtain\n",
      "\n",
      "\n",
      "\n",
      "### Two-body matrix elements in $J$-scheme\n",
      "we obtain"
     ]
    },
    {
     "cell_type": "markdown",
     "metadata": {},
     "source": [
      "1\n",
      "0\n",
      "6\n",
      " \n",
      "<\n",
      "<\n",
      "<\n",
      "!\n",
      "!\n",
      "M\n",
      "A\n",
      "T\n",
      "H\n",
      "_\n",
      "B\n",
      "L\n",
      "O\n",
      "C\n",
      "K"
     ]
    },
    {
     "cell_type": "markdown",
     "metadata": {},
     "source": [
      "$$\n",
      "\\times \\langle (j_aj_b) JM | \\hat{V} | (j_cj_d) JM \\rangle.\n",
      "$$"
     ]
    },
    {
     "cell_type": "markdown",
     "metadata": {},
     "source": [
      "### Phenomenology of nuclear forces\n",
      "**From Yukawa to Lattice QCD and Effective Field Theory.**\n",
      "\n",
      "\n",
      "* Chadwick (1932) discovers the neutron and Heisenberg (1932) proposes the first Phenomenology (Isospin).  \n",
      "\n",
      "* Yukawa (1935) and his Meson Hypothesis       \n",
      "\n",
      "* Discovery of the pion in cosmic ray (1947) and in the Berkeley Cyclotron Lab (1948).\n",
      "\n",
      "* Nobelprize awarded to Yukawa (1949).  Rabi (1948) measures quadrupole moment of the deuteron.\n",
      "\n",
      "* Taketani, Nakamura, Sasaki (1951): 3 ranges.      One-Pion-Exchange (OPE): o.k.\n",
      "\n",
      "* Multi-pion exchanges: Problems!   Taketani, Machida, Onuma (1952);\n",
      "\n",
      "* *Pion Theories* Brueckner, Watson (1953).\n",
      "\n",
      "\n",
      "\n",
      "### Phenomenology of nuclear forces\n",
      "**From Yukawa to Lattice QCD and Effective Field Theory.**\n",
      "\n",
      "\n",
      "* Many pions = multi-pion resonances: $\\sigma(600)$,  $\\rho(770)$,  $\\omega(782)$ etc. One-Boson-Exchange Model.\n",
      "\n",
      "* Refined Meson Theories\n",
      "\n",
      "* Sophisticated models for two-pion exchange:\n",
      "\n",
      "      * Paris Potential (Lacombe et al., Phys. Rev. C **21**, 861 (1980))\n",
      "\n",
      "      * Bonn potential (Machleidt et al., Phys. Rep. **149**, 1 (1987))\n",
      "\n",
      "\n",
      "*Quark cluster models. Begin of effective field theory studies.\n",
      "\n",
      "\n",
      "\n",
      "### Phenomenology of nuclear forces\n",
      "**From Yukawa to Lattice QCD and Effective Field Theory.**\n",
      "\n",
      "\n",
      "* 1990's\n",
      "\n",
      "  * 1993-2001: High-precision NN potentials: Nijmegen I, II, '93, Reid93 (Stoks et al. 1994), \n",
      "\n",
      "  * Argonne V18 (Wiringa et al, 1995), CD-Bonn (Machleidt et al. 1996 and 2001. \n",
      "\n",
      "  * Advances in effective field theory: Weinberg (1990); Ordonez, Ray, van Kolck and many more.\n",
      "\n",
      "\n",
      "* 3rd Millenium\n",
      "\n",
      "  * Another \"pion theory\"; but now right: constrained by chiral symmetry. Three-body and higher-body forces appear naturally at a given order of the chiral expansion. \n",
      "\n",
      "\n",
      "Nucleon-nucleon interaction from Lattice QCD, final confirmation of meson hypothesis of Yukawa?  See for example Ishii *et al*, PRL 2007\n",
      "\n",
      "\n",
      "\n",
      "\n",
      "### Phenomenology of nuclear forces\n",
      "**Features of the Nucleon-Nucleon (NN) Force.**\n",
      "\n",
      "\n",
      "The aim is to give you an overview over central features of the nucleon-nucleon interaction and how it is constructed, with both technical and theoretical approaches. \n",
      "\n",
      "* The existence of the deuteron with $J^{\\pi}=1^+$ indicates that the force between protons and neutrons is attractive at least for the $^3S_1$ partial wave. Interference between Coulomb and nuclear scattering for the proton-proton partial wave $^1S_0$ shows that  the NN force is attractive at least for the $^1S_0$ partial wave. \n",
      "\n",
      "* It has a short range and strong intermediate attraction.\n",
      "\n",
      "* Spin dependent, scattering lengths for triplet and singlet states are different,\n",
      "\n",
      "* Spin-orbit force. Observation of large polarizations of scattered nucleons perpendicular to the plane of scattering.\n",
      "\n",
      "\n",
      "\n",
      "### Phenomenology of nuclear forces\n",
      "\n",
      "* Strongly repulsive core. The $s$-wave phase shift becomes negative at $\\approx 250$ MeV implying that the singlet $S$ has a hard core with range $0.4-0.5$ fm. \n",
      "\n",
      "* Charge independence (almost). Two nucleons in a given two-body state always (almost) experience the same force. Modern interactions break charge and isospin symmetry lightly. That means that the pp, neutron-neutron and pn parts of the interaction will be different for the same quantum numbers. \n",
      "\n",
      "* Non-central. There is a tensor force. First indications from the quadrupole moment of the deuteron pointing to an admixture in the ground state of both $l=2$ ($^3D_1$) and $l=0$ ($^3S_1$) orbital momenta.\n",
      "\n",
      "\n",
      "\n",
      "### Phenomenology of nuclear forces\n",
      "**Short Range Evidence.**\n",
      "\n",
      "Comparison of the binding energies of\n",
      "${}^2\\mbox{H}$ (deuteron), ${}^3\\mbox{H}$ (triton), ${}^4\\mbox{He}$ (alpha - particle) show that the nuclear force is of finite range ($1-2$ fm) and very strong within that range.\n",
      "\n",
      "For nuclei with $A>4$, the energy saturates: Volume and binding energies of nuclei are proportional to the mass number $A$ (as we saw from exercise 1).\n",
      "\n",
      "Nuclei are also bound. The average distance\n",
      "between nucleons in nuclei is about $2$ fm which\n",
      "must roughly correspond to the range of the\n",
      "attractive part.\n",
      "\n",
      "\n",
      "\n",
      "### Phenomenology of nuclear forces\n",
      "**Charge Dependence.**\n",
      "\n",
      "\n",
      " * After correcting for the electromagnetic interaction, the forces between nucleons (pp, nn, or np) in the same state are almost the same.\n",
      "\n",
      " * *Almost the same*: Charge-independence is slightly broken.\n",
      "\n",
      " * Equality between the pp and nn forces: Charge symmetry.\n",
      "\n",
      " * Equality between pp/nn force and np force: Charge independence.\n",
      "\n",
      " * Better notation: Isospin symmetry, invariance under rotations in isospin\n",
      "\n",
      "\n",
      "\n",
      "### Phenomenology of nuclear forces\n",
      "**Charge Dependence, $^1S_0$ Scattering Lengths.**\n",
      "\n",
      "\n",
      "Charge-symmetry breaking (CSB), after electromagnetic effects\n",
      "have been removed:\n",
      "* $a_{pp}=  -17.3 \\pm 0.4 \\hspace{0.cm} \\mathrm{fm}$\n",
      "\n",
      "* $a_{nn}=-18.8 \\pm 0.5 \\hspace{0.cm} \\mathrm{fm}$. Note however discrepancy from $nd$ breakup reactions resulting in  $a_{nn}=-18.72 \\pm 0.13 \\pm 0.65 \\hspace{0.cm} \\mathrm{fm}$ and $\\pi^- + d \\rightarrow \\gamma + 2n$ reactions giving  $a_{nn}=-18.93 \\pm 0.27 \\pm 0.3 \\hspace{0.cm} \\mathrm{fm}$.\n",
      "\n",
      "Charge-independence breaking (CIB)\n",
      "* $a_{pn}=  -23.74 \\pm 0.02 \\hspace{0.cm} \\mathrm{fm}$\n",
      "\n",
      "\n",
      "\n",
      "\n",
      "\n",
      "### Symmetries of the Nucleon-Nucleon (NN) Force\n",
      "* Translation invariance\n",
      "\n",
      "* Galilean invariance\n",
      "\n",
      "* Rotation invariance in space\n",
      "\n",
      "* Space reflection invariance\n",
      "\n",
      "* Time reversal invariance\n",
      "\n",
      "* Invariance under the interchange of particle $1$ and $2$\n",
      "\n",
      "* Almost isospin symmetry\n",
      "\n",
      "\n",
      "\n",
      "\n",
      "\n",
      "### A typical form of the nuclear force\n",
      "Here we display a typical way to parametrize (non-relativistic expression) the nuclear two-body force\n",
      "in terms of some operators, the central part, the spin-spin part and the central force."
     ]
    },
    {
     "cell_type": "markdown",
     "metadata": {},
     "source": [
      "1\n",
      "0\n",
      "8\n",
      " \n",
      "<\n",
      "<\n",
      "<\n",
      "!\n",
      "!\n",
      "M\n",
      "A\n",
      "T\n",
      "H\n",
      "_\n",
      "B\n",
      "L\n",
      "O\n",
      "C\n",
      "K"
     ]
    },
    {
     "cell_type": "markdown",
     "metadata": {},
     "source": [
      "$$\n",
      "\\left. + C_{SL} \\left( {1\\over m_\\alpha r} + {1\\over \\left( m_\\alpha r\\right)^2}\n",
      "\\right) \\mathbf{L}\\cdot \\mathbf{S}\n",
      "\\right\\} \\frac{e^{-m_\\alpha r}}{m_\\alpha r}\n",
      "$$"
     ]
    },
    {
     "cell_type": "markdown",
     "metadata": {},
     "source": [
      "How do we derive such terms?  (Note: no isospin dependence and that the above is an approximation)\n",
      "\n",
      "\n",
      "\n",
      "\n",
      "### Nuclear forces\n",
      "To derive the above famous form of the nuclear force using field theoretical concepts, we will need some \n",
      "elements from relativistic quantum mechanics. These derivations will be given below. \n",
      "The material here gives some background to this.\n",
      "I know that many of you have not taken a course in quantum field theory. I hope however that you can see the basic ideas leading to the famous non-relativistic expressions for the nuclear force. \n",
      "\n",
      "**Furthermore, when we analyze nuclear data, we will actually try to explain properties like spectra, single-particle energies etc in terms of the various terms of the nuclear force. Moreover, many of you will hear about these terms at various talks, workshops, seminars etc. Then, it is good to have an idea of what people actually mean!!**\n",
      "\n",
      "  \n",
      "\n",
      "### Dramatis Personae\n",
      "\n",
      "<table border=\"1\">\n",
      "<thead>\n",
      "<tr><th align=\"center\"> Baryons </th> <th align=\"center\">Mass (MeV)</th> <th align=\"center\">   Mesons  </th> <th align=\"center\">   Mass (MeV)  </th> </tr>\n",
      "</thead>\n",
      "<tbody>\n",
      "<tr><td align=\"center\">   $p,n$        </td> <td align=\"center\">   938.926       </td> <td align=\"center\">   $\\pi$          </td> <td align=\"center\">   138.03             </td> </tr>\n",
      "<tr><td align=\"center\">   $\\Lambda$    </td> <td align=\"center\">   1116.0        </td> <td align=\"center\">   $\\eta$         </td> <td align=\"center\">   548.8              </td> </tr>\n",
      "<tr><td align=\"center\">   $\\Sigma$     </td> <td align=\"center\">   1197.3        </td> <td align=\"center\">   $\\sigma$       </td> <td align=\"center\">   $\\approx 550.0$    </td> </tr>\n",
      "<tr><td align=\"center\">   $\\Delta$     </td> <td align=\"center\">   1232.0        </td> <td align=\"center\">   $\\rho$         </td> <td align=\"center\">   770                </td> </tr>\n",
      "<tr><td align=\"center\">                </td> <td align=\"center\">                 </td> <td align=\"center\">   $\\omega$       </td> <td align=\"center\">   782.6              </td> </tr>\n",
      "<tr><td align=\"center\">                </td> <td align=\"center\">                 </td> <td align=\"center\">   $\\delta$       </td> <td align=\"center\">   983.0              </td> </tr>\n",
      "<tr><td align=\"center\">                </td> <td align=\"center\">                 </td> <td align=\"center\">   $K$            </td> <td align=\"center\">   495.8              </td> </tr>\n",
      "<tr><td align=\"center\">                </td> <td align=\"center\">                 </td> <td align=\"center\">   $K^{\\star}$    </td> <td align=\"center\">   895.0              </td> </tr>\n",
      "</tbody>\n",
      "</table>\n",
      "\n",
      "\n",
      "\n",
      "\n",
      "### Components of the force and quantum numbers\n",
      "But before we proceed, we will look into specific quantum numbers of the relative system and study \n",
      "expectation vaues of the various terms of"
     ]
    },
    {
     "cell_type": "markdown",
     "metadata": {},
     "source": [
      "1\n",
      "1\n",
      "0\n",
      " \n",
      "<\n",
      "<\n",
      "<\n",
      "!\n",
      "!\n",
      "M\n",
      "A\n",
      "T\n",
      "H\n",
      "_\n",
      "B\n",
      "L\n",
      "O\n",
      "C\n",
      "K"
     ]
    },
    {
     "cell_type": "markdown",
     "metadata": {},
     "source": [
      "$$\n",
      "\\left. + C_{SL} \\left( {1\\over m_\\alpha r} + {1\\over \\left( m_\\alpha r\\right)^2}\n",
      "\\right) \\mathbf{L}\\cdot \\mathbf{S}\n",
      "\\right\\} \\frac{e^{-m_\\alpha r}}{m_\\alpha r}\n",
      "$$"
     ]
    },
    {
     "cell_type": "markdown",
     "metadata": {},
     "source": [
      "### Relative and CoM system, quantum numbers\n",
      "\n",
      "When solving the scattering equation or solving the two-nucleon problem, it is convenient to rewrite the Schroedinger equation, due to\n",
      "the spherical symmetry of the Hamiltonian, in relative and center-of-mass coordinates. This will also define the quantum numbers of the relative and center-of-mass system and will aid us later in solving\n",
      "the so-called Lippman-Schwinger equation for the scattering problem. \n",
      "\n",
      "We define the center-of-mass (CoM)  momentum as"
     ]
    },
    {
     "cell_type": "markdown",
     "metadata": {},
     "source": [
      "$$\n",
      "\\mathbf{K}=\\sum_{i=1}^A\\mathbf{k}_i,\n",
      "$$"
     ]
    },
    {
     "cell_type": "markdown",
     "metadata": {},
     "source": [
      "with $\\hbar=c=1$ the wave number $k_i=p_i$, with $p_i$ the pertinent momentum of a single-particle state. \n",
      "We have also the relative momentum"
     ]
    },
    {
     "cell_type": "markdown",
     "metadata": {},
     "source": [
      "$$\n",
      "\\mathbf{k}_{ij}=\\frac{1}{2}(\\mathbf{k}_i-\\mathbf{k}_j).\n",
      "$$"
     ]
    },
    {
     "cell_type": "markdown",
     "metadata": {},
     "source": [
      "We will below skip the indices $ij$ and simply write $\\mathbf{k}$\n",
      "\n",
      "\n",
      "\n",
      "### Relative and CoM system, quantum numbers\n",
      "\n",
      "In a similar fashion we can define the CoM coordinate"
     ]
    },
    {
     "cell_type": "markdown",
     "metadata": {},
     "source": [
      "$$\n",
      "\\mathbf{R}=\\frac{1}{A}\\sum_{i=1}^{A}\\mathbf{r}_i,\n",
      "$$"
     ]
    },
    {
     "cell_type": "markdown",
     "metadata": {},
     "source": [
      "and the relative distance"
     ]
    },
    {
     "cell_type": "markdown",
     "metadata": {},
     "source": [
      "$$\n",
      "\\mathbf{r}_{ij}=(\\mathbf{r}_i-\\mathbf{r}_j).\n",
      "$$"
     ]
    },
    {
     "cell_type": "markdown",
     "metadata": {},
     "source": [
      "### Relative and CoM system, quantum numbers\n",
      "With the definitions"
     ]
    },
    {
     "cell_type": "markdown",
     "metadata": {},
     "source": [
      "$$\n",
      "\\mathbf{K}=\\sum_{i=1}^A\\mathbf{k}_i,\n",
      "$$"
     ]
    },
    {
     "cell_type": "markdown",
     "metadata": {},
     "source": [
      "and"
     ]
    },
    {
     "cell_type": "markdown",
     "metadata": {},
     "source": [
      "$$\n",
      "\\mathbf{k}_{ij}=\\frac{1}{2}(\\mathbf{k}_i-\\mathbf{k}_j).\n",
      "$$"
     ]
    },
    {
     "cell_type": "markdown",
     "metadata": {},
     "source": [
      "we can rewrite the two-particle kinetic energy (note that we use $\\hbar=c=1$ as"
     ]
    },
    {
     "cell_type": "markdown",
     "metadata": {},
     "source": [
      "$$\n",
      "\\frac{\\mathbf{k}_1^2}{2m_n}+\\frac{\\mathbf{k}_2^2}{2m_n}=\\frac{\\mathbf{k}^2}{m_n}+\\frac{\\mathbf{K}^2}{4m_n},\n",
      "$$"
     ]
    },
    {
     "cell_type": "markdown",
     "metadata": {},
     "source": [
      "where $m_n$ is the average of the proton and the neutron masses.\n",
      "\n",
      "\n",
      "\n",
      "\n",
      "### Relative and CoM system, quantum numbers\n",
      "\n",
      "Since the two-nucleon interaction depends only on the relative distance, this means that we can separate Schroedinger's equation in an equation for the center-of-mass motion and one for the relative motion.\n",
      "\n",
      "With an equation for the relative motion only and a separate one for the center-of-mass motion we need to redefine the two-body quantum numbers.\n",
      "\n",
      "Previously we had a two-body state vector defined as $|(j_1j_2)JM_J\\rangle$ in a coupled basis. \n",
      "We will now define the quantum numbers for the relative motion. Here we need to define new orbital momenta (since these are the quantum numbers which change). \n",
      "We define"
     ]
    },
    {
     "cell_type": "markdown",
     "metadata": {},
     "source": [
      "$$\n",
      "\\hat{l}_1+\\hat{l}_2=\\hat{\\lambda}=\\hat{l}+\\hat{L},\n",
      "$$"
     ]
    },
    {
     "cell_type": "markdown",
     "metadata": {},
     "source": [
      "where $\\hat{l}$ is the orbital momentum associated with the relative motion and\n",
      "$\\hat{L}$ the corresponding one linked with the CoM. The total spin $S$ is unchanged since it acts in a different space. We have thus that"
     ]
    },
    {
     "cell_type": "markdown",
     "metadata": {},
     "source": [
      "$$\n",
      "\\hat{J}=\\hat{l}+\\hat{L}+\\hat{S},\n",
      "$$"
     ]
    },
    {
     "cell_type": "markdown",
     "metadata": {},
     "source": [
      "which allows us to define the angular momentum of the relative motion"
     ]
    },
    {
     "cell_type": "markdown",
     "metadata": {},
     "source": [
      "$$\n",
      "{ \\cal J} =  \\hat{l}+\\hat{S},\n",
      "$$"
     ]
    },
    {
     "cell_type": "markdown",
     "metadata": {},
     "source": [
      "where ${ \\cal J}$ is the total angular momentum of the relative motion.\n",
      "\n",
      "\n",
      "\n",
      "### Phenomenology of nuclear forces\n",
      "\n",
      "The total two-nucleon state function has to be anti-symmetric. The total function contains a spatial part, a spin part and an isospin part. If isospin is conserved, this leads to in case we have an $s$-wave with spin $S=0$ to an isospin \n",
      "two-body state with $T=1$ since the spatial part is symmetric and the spin part is anti-symmetric. \n",
      "\n",
      "Since the projections for $T$ are $T_z=-1,0,1$, we can have a $pp$, an $nn$ and a $pn$ state.\n",
      "\n",
      "For $l=0$ and $S=1$, a so-called triplet state, $^3S_1$, we must have $T=0$, meaning that we have only one state, a $pn$ state. For other partial waves, the following table lists states up to $f$ waves.\n",
      "We can systemize this in a table as follows, recalling that $|\\mathbf{l}-\\mathbf{S}| \\le |\\mathbf{J}| \\le |\\mathbf{l}+\\mathbf{S}|$,  \n",
      "\n",
      "<table border=\"1\">\n",
      "<thead>\n",
      "<tr><th align=\"center\">$^{2S+1}l_J$</th> <th align=\"center\">$J$</th> <th align=\"center\">$l$</th> <th align=\"center\">$S$</th> <th align=\"center\">$T$</th> <th align=\"center\">$\\vert pp\\rangle$</th> <th align=\"center\">$\\vert pn\\rangle$</th> <th align=\"center\">$\\vert nn\\rangle$</th> </tr>\n",
      "</thead>\n",
      "<tbody>\n",
      "<tr><td align=\"center\">   $^{1}S_0$       </td> <td align=\"center\">   0      </td> <td align=\"center\">   0      </td> <td align=\"center\">   0      </td> <td align=\"center\">   1      </td> <td align=\"center\">   yes                  </td> <td align=\"center\">   yes                  </td> <td align=\"center\">   yes                  </td> </tr>\n",
      "<tr><td align=\"center\">   $^{3}S_1$       </td> <td align=\"center\">   1      </td> <td align=\"center\">   0      </td> <td align=\"center\">   1      </td> <td align=\"center\">   0      </td> <td align=\"center\">   no                   </td> <td align=\"center\">   yes                  </td> <td align=\"center\">   no                   </td> </tr>\n",
      "<tr><td align=\"center\">   $^{3}P_0$       </td> <td align=\"center\">   0      </td> <td align=\"center\">   1      </td> <td align=\"center\">   1      </td> <td align=\"center\">   1      </td> <td align=\"center\">   yes                  </td> <td align=\"center\">   yes                  </td> <td align=\"center\">   yes                  </td> </tr>\n",
      "<tr><td align=\"center\">   $^{1}P_1$       </td> <td align=\"center\">   1      </td> <td align=\"center\">   1      </td> <td align=\"center\">   0      </td> <td align=\"center\">   0      </td> <td align=\"center\">   no                   </td> <td align=\"center\">   yes                  </td> <td align=\"center\">   no                   </td> </tr>\n",
      "<tr><td align=\"center\">   $^{3}P_1$       </td> <td align=\"center\">   1      </td> <td align=\"center\">   1      </td> <td align=\"center\">   1      </td> <td align=\"center\">   1      </td> <td align=\"center\">   yes                  </td> <td align=\"center\">   yes                  </td> <td align=\"center\">   yes                  </td> </tr>\n",
      "<tr><td align=\"center\">   $^{3}P_2$       </td> <td align=\"center\">   2      </td> <td align=\"center\">   1      </td> <td align=\"center\">   1      </td> <td align=\"center\">   1      </td> <td align=\"center\">   yes                  </td> <td align=\"center\">   yes                  </td> <td align=\"center\">   yes                  </td> </tr>\n",
      "<tr><td align=\"center\">   $^{3}D_1$       </td> <td align=\"center\">   1      </td> <td align=\"center\">   2      </td> <td align=\"center\">   1      </td> <td align=\"center\">   0      </td> <td align=\"center\">   no                   </td> <td align=\"center\">   yes                  </td> <td align=\"center\">   no                   </td> </tr>\n",
      "<tr><td align=\"center\">   $^{3}F_2$       </td> <td align=\"center\">   2      </td> <td align=\"center\">   3      </td> <td align=\"center\">   1      </td> <td align=\"center\">   1      </td> <td align=\"center\">   yes                  </td> <td align=\"center\">   yes                  </td> <td align=\"center\">   yes                  </td> </tr>\n",
      "</tbody>\n",
      "</table>\n",
      "\n",
      "\n",
      "\n",
      "\n",
      "\n",
      "### Components of the force and quantum numbers\n",
      "The tensor force is given by"
     ]
    },
    {
     "cell_type": "markdown",
     "metadata": {},
     "source": [
      "$$\n",
      "S_{12} (\\hat r) = \\frac{3}{r^2}\\left(\\mathbf{\\sigma}_1\\cdot \\mathbf{r}\\right) \\left(\\mathbf{\\sigma}_2\\cdot \\mathbf{r}\\right) -\\mathbf{\\sigma}_1\\cdot\\mathbf{\\sigma}_2\n",
      "$$"
     ]
    },
    {
     "cell_type": "markdown",
     "metadata": {},
     "source": [
      "where the Pauli matrices are defined as"
     ]
    },
    {
     "cell_type": "markdown",
     "metadata": {},
     "source": [
      "1\n",
      "2\n",
      "3\n",
      " \n",
      "<\n",
      "<\n",
      "<\n",
      "!\n",
      "!\n",
      "M\n",
      "A\n",
      "T\n",
      "H\n",
      "_\n",
      "B\n",
      "L\n",
      "O\n",
      "C\n",
      "K"
     ]
    },
    {
     "cell_type": "markdown",
     "metadata": {},
     "source": [
      "$$\n",
      "\\sigma_y =\\begin{Bmatrix} 0 & -\\imath \\\\ \\imath & 0 \\end{Bmatrix},\n",
      "$$"
     ]
    },
    {
     "cell_type": "markdown",
     "metadata": {},
     "source": [
      "and"
     ]
    },
    {
     "cell_type": "markdown",
     "metadata": {},
     "source": [
      "$$\n",
      "\\sigma_z =\\begin{Bmatrix} 1 & 0 \\\\ 0 & -1 \\end{Bmatrix},\n",
      "$$"
     ]
    },
    {
     "cell_type": "markdown",
     "metadata": {},
     "source": [
      "with the properties $\\sigma = 2\\mathbf{S}$ (the spin of the system, being $1/2$ for nucleons), \n",
      "$\\sigma^2_x=\\sigma^2_y=\\sigma_z=\\mathbf{1}$ and\n",
      "obeying the commutation and anti-commutation relations $\\{\\sigma_x,\\sigma_y\\} =0$\n",
      "$[\\sigma_x,\\sigma_y] =\\imath\\sigma_z$ etc.\n",
      "\n",
      "\n",
      "\n",
      "### Components of the force and quantum numbers\n",
      "When we look at the expectation value of \n",
      "$\\langle \\mathbf{\\sigma}_1\\cdot\\mathbf{\\sigma}_2\\rangle$, we can rewrite this expression in terms of the\n",
      "spin $\\mathbf{S}=\\mathbf{s}_1+\\mathbf{s}_2$, resulting in"
     ]
    },
    {
     "cell_type": "markdown",
     "metadata": {},
     "source": [
      "$$\n",
      "\\langle\\mathbf{\\sigma}_1\\cdot\\mathbf{\\sigma}_2\\rangle=2(S^2-s_1^2-s_2^2)=2S(S+1)-3,\n",
      "$$"
     ]
    },
    {
     "cell_type": "markdown",
     "metadata": {},
     "source": [
      "where we $s_1=s_2=1/2$ leading to"
     ]
    },
    {
     "cell_type": "markdown",
     "metadata": {},
     "source": [
      "$$\n",
      "\\left\\{ \\begin{array}{cc} \\langle\\mathbf{\\sigma}_1\\cdot\\mathbf{\\sigma}_2\\rangle=1 &  \\mathrm{if} \\hspace{0.2cm} S=1\\\\\n",
      "\\langle\\mathbf{\\sigma}_1\\cdot\\mathbf{\\sigma}_2\\rangle=-3 & \\mathrm{if} \\hspace{0.2cm} S=0\\\\\\end{array}\\right.\n",
      "$$"
     ]
    },
    {
     "cell_type": "markdown",
     "metadata": {},
     "source": [
      "### Components of the force and quantum numbers\n",
      "\n",
      "Similarly, the expectation value of the spin-orbit term is"
     ]
    },
    {
     "cell_type": "markdown",
     "metadata": {},
     "source": [
      "$$\n",
      "\\langle \\mathbf{l}\\mathbf{S} \\rangle = \\frac{1}{2}\\left( J(J+1)-l(l+1)-S(S+1)\\right),\n",
      "$$"
     ]
    },
    {
     "cell_type": "markdown",
     "metadata": {},
     "source": [
      "which means that for $s$-waves with either $S=0$ and thereby $J=0$ or $S=1$ and $J=1$, \n",
      "the expectation value for the\n",
      "spin-orbit force is zero. With the above phenomenological model, the\n",
      "only contributions to the expectation value of the potential energy for $s$-waves\n",
      "stem  from the central and the spin-spin components since the\n",
      "expectation value of the tensor force is also zero.\n",
      "\n",
      "\n",
      "\n",
      "### Components of the force and quantum numbers\n",
      " For $s=1/2$ spin values only for two nucleons, the expectation value of the tensor force operator is \n",
      "\n",
      "<table border=\"1\">\n",
      "<thead>\n",
      "<tr><th align=\"center\">     </th> <th align=\"center\">             $l'$            </th> <th align=\"center\">   </th> <th align=\"center\">                             </th> </tr>\n",
      "</thead>\n",
      "<tbody>\n",
      "<tr><td align=\"center\">   $l$      </td> <td align=\"center\">   $J+1$                            </td> <td align=\"center\">   $J$    </td> <td align=\"center\">   $J-1$                            </td> </tr>\n",
      "<tr><td align=\"center\">            </td> <td align=\"center\">                                    </td> <td align=\"center\">          </td> <td align=\"center\">                                    </td> </tr>\n",
      "<tr><td align=\"center\">   $J+1$    </td> <td align=\"center\">   $-\\frac{2J(J+2)}{2J+1}$          </td> <td align=\"center\">   0      </td> <td align=\"center\">   $\\frac{6\\sqrt{J(J+1)}}{2J+1}$    </td> </tr>\n",
      "<tr><td align=\"center\">            </td> <td align=\"center\">                                    </td> <td align=\"center\">          </td> <td align=\"center\">                                    </td> </tr>\n",
      "<tr><td align=\"center\">   $J$      </td> <td align=\"center\">   0                                </td> <td align=\"center\">   2      </td> <td align=\"center\">   0                                </td> </tr>\n",
      "<tr><td align=\"center\">            </td> <td align=\"center\">                                    </td> <td align=\"center\">          </td> <td align=\"center\">                                    </td> </tr>\n",
      "<tr><td align=\"center\">   $J-1$    </td> <td align=\"center\">   $\\frac{6\\sqrt{J(J+1)}}{2J+1}$    </td> <td align=\"center\">   0      </td> <td align=\"center\">   $-\\frac{2(2J+1)}{2J+1}$          </td> </tr>\n",
      "<tr><td align=\"center\">            </td> <td align=\"center\">                                    </td> <td align=\"center\">          </td> <td align=\"center\">                                    </td> </tr>\n",
      "</tbody>\n",
      "</table>\n",
      "We will derive these expressions after we have discussed the Wigner-Eckart theorem.\n",
      "\n",
      "\n",
      "\n",
      "\n",
      "\n",
      "\n",
      "### Components of the force and isospin\n",
      "If we now add isospin to our simple $V_4$ interaction model, we end up with $8$ operators, popularly dubbed $V_8$ interaction model. The explicit form reads"
     ]
    },
    {
     "cell_type": "markdown",
     "metadata": {},
     "source": [
      "1\n",
      "2\n",
      "9\n",
      " \n",
      "<\n",
      "<\n",
      "<\n",
      "!\n",
      "!\n",
      "M\n",
      "A\n",
      "T\n",
      "H\n",
      "_\n",
      "B\n",
      "L\n",
      "O\n",
      "C\n",
      "K"
     ]
    },
    {
     "cell_type": "markdown",
     "metadata": {},
     "source": [
      "1\n",
      "3\n",
      "0\n",
      " \n",
      "<\n",
      "<\n",
      "<\n",
      "!\n",
      "!\n",
      "M\n",
      "A\n",
      "T\n",
      "H\n",
      "_\n",
      "B\n",
      "L\n",
      "O\n",
      "C\n",
      "K"
     ]
    },
    {
     "cell_type": "markdown",
     "metadata": {},
     "source": [
      "1\n",
      "3\n",
      "1\n",
      " \n",
      "<\n",
      "<\n",
      "<\n",
      "!\n",
      "!\n",
      "M\n",
      "A\n",
      "T\n",
      "H\n",
      "_\n",
      "B\n",
      "L\n",
      "O\n",
      "C\n",
      "K"
     ]
    },
    {
     "cell_type": "markdown",
     "metadata": {},
     "source": [
      "$$\n",
      "\\left. + C_{SL\\tau} \\left( {1\\over m_\\alpha r} + {1\\over \\left( m_\\alpha r\\right)^2}\n",
      "\\right) \\mathbf{L}\\cdot \\mathbf{S}\n",
      "\\right\\}\\mathbf{\\tau}_1\\cdot\\mathbf{\\tau}_2 \\frac{e^{-m_\\alpha r}}{m_\\alpha r}\n",
      "$$"
     ]
    },
    {
     "cell_type": "markdown",
     "metadata": {},
     "source": [
      "### Phenomenology of nuclear forces\n",
      "**References for Various Phenomenological Interactions.**\n",
      "\n",
      "\n",
      "From 1950 till approximately 2000: One-Boson-Exchange (OBE) models dominate. These are models which typically include several low-mass mesons, that is with masses below 1 GeV.   Potentials which are based upon the standard non-relativistic operator structure\n",
      " are called \"Phenomenological Potentials\" Some historically important examples are   \n",
      "* Gammel-Thaler potential ( Phys. Rev. **107**, 291, 1339 (1957) and the \n",
      "\n",
      "* Hamada-Johnston potential, Nucl. Phys. **34**, 382 (1962)), both with a hard core.\n",
      "\n",
      "* Reid potential (Ann. Phys. (N.Y.) **50**, 411 (1968)), soft core.\n",
      "\n",
      "* Argonne $V_{14}$ potential (Wiringa et al., Phys. Rev. C **29**, 1207 (1984)) with 14 operators and  the  Argonne $V_{18}$ potential (Wiringa et al., Phys. Rev. C **51**, 38 (1995)), uses 18 operators\n",
      "\n",
      "* A good historical reference: R. Machleidt, Adv. Nucl. Phys.  **19**, 189 (1989).\n",
      "\n",
      "Now: models based on chiral perturbation theory. These are effective models with nucleons and pions as degrees of freedom only. The other mesons which appeared in standard one-boson model appear as multi-pion resonances.\n",
      "\n",
      "\n",
      "\n",
      "\n",
      "\n",
      "\n",
      "### Phenomenology of nuclear forces\n",
      "The total two-nucleon state function has to be anti-symmetric. The total function contains a spatial part, a spin part and an isospin part. If isospin is conserved, this leads to in case we have an $s$-wave with spin $S=0$ to an isospin \n",
      "two-body state with $T=1$ since the spatial part is symmetric and the spin part is anti-symmetric. \n",
      "\n",
      "Since the projections for $T$ are $T_z=-1,0,1$, we can have a $pp$, an $nn$ and a $pn$ state.\n",
      "\n",
      "For $l=0$ and $S=1$, a so-called triplet state, $^3S_1$, we must have $T=0$, meaning that we have only one state, a $pn$ state. For other partial waves, see exercises below.\n",
      "\n",
      "\n",
      "\n",
      "### Phenomenology of nuclear forces\n",
      "**Phenomenology of one-pion exchange.**\n",
      "\n",
      "\n",
      "The one-pion exchange contribution (see derivation below), can be written as"
     ]
    },
    {
     "cell_type": "markdown",
     "metadata": {},
     "source": [
      "$$\n",
      "V_{\\pi}(\\mathbf{r})= -\\frac{f_{\\pi}^{2}}{4\\pi m_{\\pi}^{2}}\\mathbf{ \\tau}_1\\cdot\\mathbf{\\tau}_2\n",
      "\\frac{1}{3}\\left\\{\\mathbf{ \\sigma}_1\\cdot\\mathbf{ \\sigma}_2+\\left( 1 + {3\\over m_\\pi r} + {3\\over\\left(m_\\pi r\\right)^2}\\right) S_{12} (\\hat r)\\right\\} \\frac{e^{-m_\\pi r}}{m_\\pi r}.\n",
      "$$"
     ]
    },
    {
     "cell_type": "markdown",
     "metadata": {},
     "source": [
      "Here the constant $f_{\\pi}^{2}/4\\pi\\approx 0.08$ and the mass of the pion is $m_\\pi\\approx 140$ MeV$/\\mbox{c}^2$.\n",
      "\n",
      "\n",
      "### Phenomenology of nuclear forces\n",
      "Let us look closer at specific partial waves for which one-pion exchange is applicable. If we have $S=0$ and $T=0$, the \n",
      "orbital momentum has to be an odd number in order for the total anti-symmetry to be obeyed. For $S=0$, the tensor force component is zero, meaning that \n",
      "the only contribution is"
     ]
    },
    {
     "cell_type": "markdown",
     "metadata": {},
     "source": [
      "$$\n",
      "V_{\\pi}(\\mathbf{r})=\\frac{3f_{\\pi}^{2}}{4\\pi m_{\\pi}^{2}}\\frac{e^{-m_\\pi r}}{m_\\pi r},\n",
      "$$"
     ]
    },
    {
     "cell_type": "markdown",
     "metadata": {},
     "source": [
      "since $\\langle\\mathbf{ \\sigma}_1\\cdot\\mathbf{ \\sigma}_2\\rangle=-3$, that is we obtain a repulsive contribution to partial waves like \n",
      "$^1P_0$.\n",
      "\n",
      "\n",
      "### Phenomenology of nuclear forces\n",
      "Since $S=0$ yields always a zero tensor force contribution, for the combination of $T=1$ and then even $l$ values, we get an attractive contribution"
     ]
    },
    {
     "cell_type": "markdown",
     "metadata": {},
     "source": [
      "$$\n",
      "V_{\\pi}(\\mathbf{r})=-\\frac{f_{\\pi}^{2}}{4\\pi m_{\\pi}^{2}}\\frac{e^{-m_\\pi r}}{m_\\pi r}.\n",
      "$$"
     ]
    },
    {
     "cell_type": "markdown",
     "metadata": {},
     "source": [
      "With $S=1$ and $T=0$, $l$ can only take even values in order to obey the anti-symmetry requirements and we get"
     ]
    },
    {
     "cell_type": "markdown",
     "metadata": {},
     "source": [
      "$$\n",
      "V_{\\pi}(\\mathbf{r})= -\\frac{f_{\\pi}^{2}}{4\\pi m_{\\pi}^{2}}\n",
      "\\left(1+( 1 + {3\\over m_\\pi r} + {3\\over\\left(m_\\pi r\\right))^2}) S_{12} (\\hat r)\\right) \\frac{e^{-m_\\pi r}}{m_\\pi r},\n",
      "$$"
     ]
    },
    {
     "cell_type": "markdown",
     "metadata": {},
     "source": [
      "while for $S=1$ and $T=1$, $l$ can only take odd values, resulting in a repulsive contribution"
     ]
    },
    {
     "cell_type": "markdown",
     "metadata": {},
     "source": [
      "$$\n",
      "V_{\\pi}(\\mathbf{r})= \\frac{1}{3}\\frac{f_{\\pi}^{2}}{4\\pi m_{\\pi}^{2}}\\left(1+( 1 + {3\\over m_\\pi r} + {3\\over\\left(m_\\pi r\\right)^2}) S_{12} (\\hat r)\\right) \\frac{e^{-m_\\pi r}}{m_\\pi r}.\n",
      "$$"
     ]
    },
    {
     "cell_type": "markdown",
     "metadata": {},
     "source": [
      "### Phenomenology of nuclear forces\n",
      "\n",
      "The central part of one-pion exchange interaction, arising from the spin-spin term,  \n",
      "is thus attractive for $s$-waves and all even $l$ values. For $p$-waves and all other odd values\n",
      "it is repulsive. However, its overall strength is weak. This is discussed further in one of exercises below.\n",
      "\n",
      "\n",
      "\n",
      "### The Lippman-Schwinger equation for two-nucleon scattering\n",
      "What follows now is a more technical discussion on how we can solve the two-nucleon problem.\n",
      "This will lead us to the so-called Lippman-Schwinger equation for the scattering problem and a rewrite of Schroedinger's equation in relative and center-of-mass coordinates. \n",
      "\n",
      "\n",
      "Before we break down the Schroedinger equation into a partial wave decomposition, we derive now the so-called Lippman-Schwinger equation. We will do this in an operator form first.\n",
      "Thereafter, we rewrite it in terms of various quantum numbers such as relative momenta, orbital momenta etc. \n",
      "The Schr\\\"odinger equation in abstract vector representation is"
     ]
    },
    {
     "cell_type": "markdown",
     "metadata": {},
     "source": [
      "$$\n",
      "\\left( \\hat{H}_0 + \\hat{V} \\right) \\vert \\psi_n \\rangle = E_n \\vert\\psi_n \\rangle.\n",
      "$$"
     ]
    },
    {
     "cell_type": "markdown",
     "metadata": {},
     "source": [
      "In our case for the two-body problem $\\hat{H}_0$ is just the kinetic energy. \n",
      "We rewrite it as"
     ]
    },
    {
     "cell_type": "markdown",
     "metadata": {},
     "source": [
      "$$\n",
      "\\left( \\hat{H}_0 -E_n \\right)\\vert\\psi_n \\rangle =-\\hat{V}\\vert \\psi_n \\rangle .\n",
      "$$"
     ]
    },
    {
     "cell_type": "markdown",
     "metadata": {},
     "source": [
      "We assume that the invers of $\\left( \\hat{H}_0 -E_n\\right)$ exists and rewrite this equation as"
     ]
    },
    {
     "cell_type": "markdown",
     "metadata": {},
     "source": [
      "$$\n",
      "\\vert\\psi_n \\rangle =\\frac{1}{\\left( E_n -\\hat{H}_0\\right)}\\hat{V}\\vert \\psi_n \\rangle .\n",
      "$$"
     ]
    },
    {
     "cell_type": "markdown",
     "metadata": {},
     "source": [
      "### The Lippman-Schwinger equation for two-nucleon scattering\n",
      "The equation"
     ]
    },
    {
     "cell_type": "markdown",
     "metadata": {},
     "source": [
      "$$\n",
      "\\vert \\psi_n \\rangle =\\frac{1}{\\left( E_n -\\hat{H}_0\\right)}\\hat{V}\\vert \\psi_n \\rangle,\n",
      "$$"
     ]
    },
    {
     "cell_type": "markdown",
     "metadata": {},
     "source": [
      "is normally solved in an iterative fashion. \n",
      "We assume first that"
     ]
    },
    {
     "cell_type": "markdown",
     "metadata": {},
     "source": [
      "$$\n",
      "\\vert\\psi_n \\rangle = \\vert\\phi_n \\rangle,\n",
      "$$"
     ]
    },
    {
     "cell_type": "markdown",
     "metadata": {},
     "source": [
      "where $\\vert\\phi_n \\rangle$ are the eigenfunctions of"
     ]
    },
    {
     "cell_type": "markdown",
     "metadata": {},
     "source": [
      "$$\n",
      "\\hat{H}_0\\vert \\phi_n \\rangle=\\omega_n\\vert \\phi_n \\rangle\n",
      "$$"
     ]
    },
    {
     "cell_type": "markdown",
     "metadata": {},
     "source": [
      "the so-called unperturbed problem. In our case, these will simply be the kinetic energies of the relative motion.\n",
      "\n",
      "\n",
      "\n",
      "### The Lippman-Schwinger equation for two-nucleon scattering\n",
      "Inserting  $\\vert\\phi_n \\rangle$  on the right-hand side of"
     ]
    },
    {
     "cell_type": "markdown",
     "metadata": {},
     "source": [
      "$$\n",
      "\\vert \\psi_n \\rangle =\\frac{1}{( E_n -\\hat{H}_0)}\\hat{V}\\vert \\psi_n \\rangle,\n",
      "$$"
     ]
    },
    {
     "cell_type": "markdown",
     "metadata": {},
     "source": [
      "yields"
     ]
    },
    {
     "cell_type": "markdown",
     "metadata": {},
     "source": [
      "$$\n",
      "\\vert \\psi_n \\rangle =\\vert\\phi_n \\rangle+\\frac{1}{\\left( E_n -\\hat{H}_0\\right)}\\hat{V}\\vert \\phi_n \\rangle,\n",
      "$$"
     ]
    },
    {
     "cell_type": "markdown",
     "metadata": {},
     "source": [
      "as our first iteration. \n",
      "Reinserting again gives"
     ]
    },
    {
     "cell_type": "markdown",
     "metadata": {},
     "source": [
      "$$\n",
      "\\vert \\psi_n \\rangle =\\vert\\phi_n \\rangle+\\frac{1}{\\left( E_n -\\hat{H}_0\\right)}\\hat{V}\\vert \\phi_n \\rangle+\\frac{1}{( E_n -\\hat{H}_0)}\\hat{V}\\frac{1}{\\left( E_n -\\hat{H}_0\\right)}\\hat{V}\\vert \\phi_n \\rangle,\n",
      "$$"
     ]
    },
    {
     "cell_type": "markdown",
     "metadata": {},
     "source": [
      "and continuing we obtain"
     ]
    },
    {
     "cell_type": "markdown",
     "metadata": {},
     "source": [
      "$$\n",
      "\\vert \\psi_n \\rangle =\\sum_{i=0}^{\\infty}\\left[\\frac{1}{( E_n -\\hat{H}_0)}\\hat{V}\\right]^i\\vert \\phi_n \\rangle.\n",
      "$$"
     ]
    },
    {
     "cell_type": "markdown",
     "metadata": {},
     "source": [
      "### The Lippman-Schwinger equation for two-nucleon scattering\n",
      "It is easy to see that"
     ]
    },
    {
     "cell_type": "markdown",
     "metadata": {},
     "source": [
      "$$\n",
      "\\vert \\psi_n \\rangle =\\sum_{i=0}^{\\infty}\\left[\\frac{1}{(E_n -\\hat{H}_0)}\\hat{V}\\right]^i\\vert \\phi_n \\rangle,\n",
      "$$"
     ]
    },
    {
     "cell_type": "markdown",
     "metadata": {},
     "source": [
      "can be rewritten as"
     ]
    },
    {
     "cell_type": "markdown",
     "metadata": {},
     "source": [
      "$$\n",
      "\\vert \\psi_n \\rangle =\\vert\\phi_n \\rangle+\\frac{1}{( E_n -\\hat{H}_0)}\n",
      "\\hat{V}\\left(1+ \\frac{1}{(E_n -\\hat{H}_0)}\\hat{V}+\\frac{1}{(E_n -\\hat{H}_0)}\\hat{V}\\frac{1}{(E_n -\\hat{H}_0)}\\hat{V}+\\dots\\right]\\vert \\phi_n \\rangle,\n",
      "$$"
     ]
    },
    {
     "cell_type": "markdown",
     "metadata": {},
     "source": [
      "which we rewrite as"
     ]
    },
    {
     "cell_type": "markdown",
     "metadata": {},
     "source": [
      "$$\n",
      "\\vert \\psi_n \\rangle =\\vert\\phi_n \\rangle+\\frac{1}{(E_n -\\hat{H}_0)}\\hat{V}\\vert \\psi_n \\rangle.\n",
      "$$"
     ]
    },
    {
     "cell_type": "markdown",
     "metadata": {},
     "source": [
      "### The Lippman-Schwinger equation for two-nucleon scattering\n",
      "In operator form we have thus"
     ]
    },
    {
     "cell_type": "markdown",
     "metadata": {},
     "source": [
      "$$\n",
      "\\vert \\psi_n \\rangle =\\vert\\phi_n \\rangle+\\frac{1}{(E_n -\\hat{H}_0)}\\hat{V}\\vert \\psi_n \\rangle.\n",
      "$$"
     ]
    },
    {
     "cell_type": "markdown",
     "metadata": {},
     "source": [
      "We multiply from the left with $\\hat{V}$ and $\\langle \\phi_m \\vert$ and obtain"
     ]
    },
    {
     "cell_type": "markdown",
     "metadata": {},
     "source": [
      "$$\n",
      "\\langle \\phi_m \\vert\\hat{V}\\vert \\psi_n \\rangle =\\langle \\phi_m \\vert\\hat{V}\\vert\\phi_n \\rangle+\\langle \\phi_m \\vert\\hat{V}\\frac{1}{(E_n -\\hat{H}_0)}\\hat{V}\\vert \\psi_n \\rangle.\n",
      "$$"
     ]
    },
    {
     "cell_type": "markdown",
     "metadata": {},
     "source": [
      "We define thereafter the so-called $T$-matrix as"
     ]
    },
    {
     "cell_type": "markdown",
     "metadata": {},
     "source": [
      "$$\n",
      "\\langle \\phi_m \\vert\\hat{T}\\vert \\phi_n \\rangle=\\langle \\phi_m \\vert\\hat{V}\\vert \\psi_n \\rangle.\n",
      "$$"
     ]
    },
    {
     "cell_type": "markdown",
     "metadata": {},
     "source": [
      "We can rewrite our equation as"
     ]
    },
    {
     "cell_type": "markdown",
     "metadata": {},
     "source": [
      "$$\n",
      "\\langle \\phi_m \\vert\\hat{T}\\vert \\phi_n \\rangle =\\langle \\phi_m \\vert\\hat{V}\\vert\\phi_n \\rangle+\\langle \\phi_m \\vert\\hat{V}\\frac{1}{(E_n -\\hat{H}_0)}\\hat{T}\\vert \\phi_n \\rangle.\n",
      "$$"
     ]
    },
    {
     "cell_type": "markdown",
     "metadata": {},
     "source": [
      "### The Lippman-Schwinger equation for two-nucleon scattering\n",
      "The equation"
     ]
    },
    {
     "cell_type": "markdown",
     "metadata": {},
     "source": [
      "$$\n",
      "\\langle \\phi_m \\vert\\hat{T}\\vert \\phi_n \\rangle =\\langle \\phi_m \\vert\\hat{V}\\vert\\phi_n \\rangle+\\langle \\phi_m \\vert\\hat{V}\\frac{1}{(E_n -\\hat{H}_0)}\\hat{T}\\vert \\phi_n \\rangle,\n",
      "$$"
     ]
    },
    {
     "cell_type": "markdown",
     "metadata": {},
     "source": [
      "is called the Lippman-Schwinger equation. Inserting the completeness relation"
     ]
    },
    {
     "cell_type": "markdown",
     "metadata": {},
     "source": [
      "$$\n",
      "\\mathbf{1} = \\sum_n \\vert \\phi_n\\rangle\\langle \\phi_n \\vert, \\:\\: \\langle \\phi_n\\vert \\phi_{n'} \\rangle = \\delta_{n,n'}\n",
      "$$"
     ]
    },
    {
     "cell_type": "markdown",
     "metadata": {},
     "source": [
      "we have"
     ]
    },
    {
     "cell_type": "markdown",
     "metadata": {},
     "source": [
      "$$\n",
      "\\langle \\phi_m \\vert\\hat{T}\\vert \\phi_n \\rangle =\\langle \\phi_m \\vert\\hat{V}\\vert\\phi_n \\rangle+\\sum_k \\langle \\phi_m \\vert\\hat{V}\\vert \\phi_k\\rangle\\frac{1}{(E_n -\\omega_k)}\\langle \\phi_k \\vert\\hat{T}\\vert \\phi_n \\rangle,\n",
      "$$"
     ]
    },
    {
     "cell_type": "markdown",
     "metadata": {},
     "source": [
      "which is (when we specify the state $\\vert\\phi_n \\rangle$) an integral equation that can actually be solved by matrix inversion easily! The unknown quantity is the $T$-matrix.\n",
      "\n",
      "\n",
      "\n",
      "### The Lippman-Schwinger equation for two-nucleon scattering\n",
      "Now we wish to introduce a partial wave decomposition in order to solve the Lippman-Schwinger equation. With a partial wave decomposition we can reduce a three-dimensional integral equation to a one-dimensional one. \n",
      "\n",
      "Let us continue with our Schroedinger equation in the abstract vector representation"
     ]
    },
    {
     "cell_type": "markdown",
     "metadata": {},
     "source": [
      "$$\n",
      "\\left(T + V \\right) \\vert \\psi_n \\rangle = E_n \\vert\\psi_n \\rangle\n",
      "$$"
     ]
    },
    {
     "cell_type": "markdown",
     "metadata": {},
     "source": [
      "Here $T$ is the kinetic energy operator and $V$ is the potential operator. \n",
      "The eigenstates form a complete orthonormal set according to"
     ]
    },
    {
     "cell_type": "markdown",
     "metadata": {},
     "source": [
      "$$\n",
      "\\mathbf{1} = \\sum_n \\vert \\psi_n\\rangle\\langle \\psi_n \\vert, \\:\\: \\langle \\psi_n\\vert \\psi_{n'} \\rangle = \\delta_{n,n'}\n",
      "$$"
     ]
    },
    {
     "cell_type": "markdown",
     "metadata": {},
     "source": [
      "### The Lippman-Schwinger equation for two-nucleon scattering\n",
      "The most commonly used representations are the coordinate and\n",
      "the momentum space representations. They define the completeness relations"
     ]
    },
    {
     "cell_type": "markdown",
     "metadata": {},
     "source": [
      "$$\n",
      "\\begin{eqnarray*}\n",
      " \\mathbf{1}&=&  \\int d\\mathbf{r} \\:\\vert\\mathbf{r} \\rangle \\langle \\mathbf{r}\\vert, \\:\\: \\langle  \\mathbf{r}\\vert  \\mathbf{r'} \\rangle = \\delta ( \\mathbf{r}-\\mathbf{r'}) \\\\\n",
      "\\mathbf{1} &=& \\int d\\mathbf{k} \\:\\vert  \\mathbf{k}\\rangle \\langle \\mathbf{k}\\vert, \\:\\: \\langle\\mathbf{k}\\vert  \\mathbf{k'} \\rangle = \\delta ( \\mathbf{k}-\\mathbf{k'}) \n",
      "\\end{eqnarray*}\n",
      "$$"
     ]
    },
    {
     "cell_type": "markdown",
     "metadata": {},
     "source": [
      "Here the basis states in  both $\\mathbf{r}$- and $\\mathbf{k}$-space are dirac-delta \n",
      "function normalized. From this it follows that the plane-wave states are given by,"
     ]
    },
    {
     "cell_type": "markdown",
     "metadata": {},
     "source": [
      "$$\n",
      "\\langle\\mathbf{r}\\vert\\mathbf{k} \\rangle =\\left(\\frac{1}{2\\pi}\\right)^{3/2}\\exp\\left(i\\mathbf{k\\cdot r} \\right)\n",
      "$$"
     ]
    },
    {
     "cell_type": "markdown",
     "metadata": {},
     "source": [
      "which is a transformation function defining the mapping from the abstract \n",
      "$\\vert\\mathbf{k}\\rangle$ to the abstract $\\vert\\mathbf{r}\\rangle $ space.\n",
      "\n",
      "\n",
      "\n",
      "### The Lippman-Schwinger equation for two-nucleon scattering\n",
      "That the $\\mathbf{r}$-space basis states are \n",
      "delta-function normalized follows from"
     ]
    },
    {
     "cell_type": "markdown",
     "metadata": {},
     "source": [
      "$$\n",
      "\\delta ( \\mathbf{r}-\\mathbf{r'}) = \\langle \\mathbf{r} \\vert \\mathbf{r}'\\rangle = \\langle \\mathbf{r} \\vert \\mathbf{1} \\vert \\mathbf{r}'\\rangle = \\int \\mathrm{d}\\mathbf{k} \\langle \\mathbf{r}\\vert \\mathbf{k} \\rangle \\langle \\mathbf{k}\\vert \\mathbf{r}' \\rangle =\\left( {1\\over 2\\pi}\\right)^3 \\int \\mathrm{d}\\mathbf{k} e^{i \\mathbf{k}(\\mathbf{r} - \\mathbf{r}')}\n",
      "$$"
     ]
    },
    {
     "cell_type": "markdown",
     "metadata": {},
     "source": [
      "and the same for the momentum space basis states,"
     ]
    },
    {
     "cell_type": "markdown",
     "metadata": {},
     "source": [
      "$$\n",
      "\\delta ( \\mathbf{k}-\\mathbf{k'}) = \\langle \\mathbf{k} \\vert \\mathbf{k}'\\rangle = \\langle \\mathbf{k} \\vert \\mathbf{1} \\vert \\mathbf{k}'\\rangle =\\int \\mathrm{d}\\mathbf{r} \\langle \\mathbf{k}\\vert \\mathbf{r} \\rangle \\langle \\mathbf{r}\\vert \\mathbf{k}' \\rangle = \\left( {1\\over 2\\pi}\\right)^3 \\int \\mathrm{d}\\mathbf{r} e^{i \\mathbf{r}(\\mathbf{k} - \\mathbf{k}')}\n",
      "$$"
     ]
    }
   ],
   "metadata": {}
  }
 ]
}
