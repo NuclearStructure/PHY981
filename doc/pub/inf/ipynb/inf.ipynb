{
 "metadata": {
  "name": "inf.ipynb"
 },
 "nbformat": 3,
 "nbformat_minor": 0,
 "worksheets": [
  {
   "cells": [
    {
     "cell_type": "markdown",
     "metadata": {},
     "source": [
      "<!-- Slides for PHY981 -->\n",
      "# Infinite matter\n",
      "**Spring 2015**\n",
      "\n",
      "### Studies of infinite matter\n",
      "\n",
      "Studies of infinite nuclear matter play an important role  in nuclear physics. The aim of this part of the lectures is to provide the necessary ingredients for perfoming studies of neutron star matter (or matter in $\\beta$-equilibrium) and symmetric nuclear matter. We start however with the electron gas in two and three dimensions for both historical and pedagogical reasons. Since there are several benchmark calculations for the electron gas, this small detour will allow us to establish the necessary formalism. Thereafter we will study infinite nuclear matter \n",
      "* at the Hartree-Fock with realistic nuclear forces and\n",
      "\n",
      "* using many-body methods like coupled-cluster theory or in-medium SRG as discussed in our previous sections.\n",
      "\n",
      "\n",
      "\n",
      "\n",
      "\n",
      "### The infinite electron gas\n",
      "The electron gas is perhaps the only realistic model of a \n",
      "system of many interacting particles that allows for a solution\n",
      "of the Hartree-Fock equations on a closed form. Furthermore, to first order in the interaction, one can also\n",
      "compute on a closed form the total energy and several other properties of a many-particle systems. \n",
      "The model gives a very good approximation to the properties of valence electrons in metals.\n",
      "The assumptions are\n",
      "\n",
      " * System of electrons that is not influenced by external forces except by an attraction provided by a uniform background of ions. These ions give rise to a uniform background charge. The ions are stationary.\n",
      "\n",
      " * The system as a whole is neutral.\n",
      "\n",
      " * We assume we have $N_e$ electrons in a cubic box of length $L$ and volume $\\Omega=L^3$. This volume contains also a uniform distribution of positive charge with density $N_ee/\\Omega$.\n",
      "\n",
      "\n",
      "\n",
      "\n",
      "### The electron gas\n",
      "The homogeneous electron gas is one of the few examples of a system of many\n",
      "interacting particles that allows for a solution of the mean-field\n",
      "Hartree-Fock equations on a closed form.  To first order in the\n",
      "electron-electron interaction, this applies to ground state properties\n",
      "like the energy and its pertinent equation of state as well.  The\n",
      "homogeneus electron gas is a system of electrons that is not\n",
      "influenced by external forces except by an attraction provided by a\n",
      "uniform background of ions. These ions give rise to a uniform\n",
      "background charge.  The ions are stationary and the system as a whole\n",
      "is neutral.\n",
      "Irrespective of this simplicity, this system, in both two and\n",
      "three-dimensions, has eluded a proper description of correlations in\n",
      "terms of various first principle methods, except perhaps for quantum\n",
      "Monte Carlo methods. In particular, the diffusion Monte Carlo\n",
      "calculations of [Ceperley](http://journals.aps.org/prl/abstract/10.1103/PhysRevLett.45.566) \n",
      "and [Ceperley and Tanatar](http://journals.aps.org/prb/abstract/10.1103/PhysRevB.39.5005) \n",
      "are presently still considered as the\n",
      "best possible benchmarks for the two- and three-dimensional electron\n",
      "gas.\n",
      "\n",
      "\n",
      "\n",
      "\n",
      "### The electron gas\n",
      "The electron gas, in \n",
      "two or three dimensions is thus interesting as a test-bed for \n",
      "electron-electron correlations. The three-dimensional \n",
      "electron gas is particularly important as a cornerstone \n",
      "of the local-density approximation in density-functional \n",
      "theory. In the physical world, systems \n",
      "similar to the three-dimensional electron gas can be \n",
      "found in, for example, alkali metals and doped \n",
      "semiconductors. Two-dimensional electron fluids are \n",
      "observed on metal and liquid-helium surfaces, as well as \n",
      "at metal-oxide-semiconductor interfaces. However, the Coulomb \n",
      "interaction has an infinite range, and therefore \n",
      "long-range correlations play an essential role in the\n",
      "electron gas.\n",
      "\n",
      "\n",
      "\n",
      "\n",
      "### The electron gas\n",
      "At low densities, the electrons become \n",
      "localized and form a lattice. This so-called Wigner \n",
      "crystallization is a direct consequence \n",
      "of the long-ranged repulsive interaction. At higher\n",
      "densities, the electron gas is better described as a\n",
      "liquid.\n",
      "When using, for example, Monte Carlo methods the electron gas must be approximated \n",
      "by a finite system. The long-range Coulomb interaction \n",
      "in the electron gas causes additional finite-size effects  that are not\n",
      "present in other infinite systems like nuclear matter or neutron star matter.\n",
      "This poses additional challenges to many-body methods when applied \n",
      "to the electron gas.\n",
      "\n",
      "\n",
      "\n",
      "\n",
      "\n",
      "### The infinite electron gas as a homogenous system\n",
      "This is a homogeneous system and the one-particle wave functions are given by plane wave functions normalized to a volume $\\Omega$ \n",
      "for a box with length $L$ (the limit $L\\rightarrow \\infty$ is to be taken after we have computed various expectation values)"
     ]
    },
    {
     "cell_type": "markdown",
     "metadata": {},
     "source": [
      "$$\n",
      "\\psi_{\\mathbf{k}\\sigma}(\\mathbf{r})= \\frac{1}{\\sqrt{\\Omega}}\\exp{(i\\mathbf{kr})}\\xi_{\\sigma}\n",
      "$$"
     ]
    },
    {
     "cell_type": "markdown",
     "metadata": {},
     "source": [
      "where $\\mathbf{k}$ is the wave number and  $\\xi_{\\sigma}$ is a spin function for either spin up or down"
     ]
    },
    {
     "cell_type": "markdown",
     "metadata": {},
     "source": [
      "$$\n",
      "\\xi_{\\sigma=+1/2}=\\left(\\begin{array}{c} 1 \\\\ 0 \\end{array}\\right) \\hspace{0.5cm}\n",
      "\\xi_{\\sigma=-1/2}=\\left(\\begin{array}{c} 0 \\\\ 1 \\end{array}\\right).\n",
      "$$"
     ]
    },
    {
     "cell_type": "markdown",
     "metadata": {},
     "source": [
      "### Periodic boundary conditions\n",
      "\n",
      "We assume that we have periodic boundary conditions which limit the allowed wave numbers to"
     ]
    },
    {
     "cell_type": "markdown",
     "metadata": {},
     "source": [
      "$$\n",
      "k_i=\\frac{2\\pi n_i}{L}\\hspace{0.5cm} i=x,y,z \\hspace{0.5cm} n_i=0,\\pm 1,\\pm 2, \\dots\n",
      "$$"
     ]
    },
    {
     "cell_type": "markdown",
     "metadata": {},
     "source": [
      "We assume first that the electrons interact via a central, symmetric and translationally invariant\n",
      "interaction  $V(r_{12})$ with\n",
      "$r_{12}=|\\mathbf{r}_1-\\mathbf{r}_2|$.  The interaction is spin independent.\n",
      "\n",
      "The total Hamiltonian consists then of kinetic and potential energy"
     ]
    },
    {
     "cell_type": "markdown",
     "metadata": {},
     "source": [
      "$$\n",
      "\\hat{H} = \\hat{T}+\\hat{V}.\n",
      "$$"
     ]
    },
    {
     "cell_type": "markdown",
     "metadata": {},
     "source": [
      "The operator for the kinetic energy can be written as"
     ]
    },
    {
     "cell_type": "markdown",
     "metadata": {},
     "source": [
      "$$\n",
      "\\hat{T}=\\sum_{\\mathbf{k}\\sigma}\\frac{\\hbar^2k^2}{2m}a_{\\mathbf{k}\\sigma}^{\\dagger}a_{\\mathbf{k}\\sigma}.\n",
      "$$"
     ]
    },
    {
     "cell_type": "markdown",
     "metadata": {},
     "source": [
      "### Defining the Hamiltonian operator\n",
      "The Hamiltonian operator is given by"
     ]
    },
    {
     "cell_type": "markdown",
     "metadata": {},
     "source": [
      "$$\n",
      "\\hat{H}=\\hat{H}_{el}+\\hat{H}_{b}+\\hat{H}_{el-b},\n",
      "$$"
     ]
    },
    {
     "cell_type": "markdown",
     "metadata": {},
     "source": [
      "with the electronic part"
     ]
    },
    {
     "cell_type": "markdown",
     "metadata": {},
     "source": [
      "$$\n",
      "\\hat{H}_{el}=\\sum_{i=1}^N\\frac{p_i^2}{2m}+\\frac{e^2}{2}\\sum_{i\\ne j}\\frac{e^{-\\mu |\\mathbf{r}_i-\\mathbf{r}_j|}}{|\\mathbf{r}_i-\\mathbf{r}_j|},\n",
      "$$"
     ]
    },
    {
     "cell_type": "markdown",
     "metadata": {},
     "source": [
      "where we have introduced an explicit convergence factor\n",
      "(the limit $\\mu\\rightarrow 0$ is performed after having calculated the various integrals).\n",
      "Correspondingly, we have"
     ]
    },
    {
     "cell_type": "markdown",
     "metadata": {},
     "source": [
      "$$\n",
      "\\hat{H}_{b}=\\frac{e^2}{2}\\int\\int d\\mathbf{r}d\\mathbf{r}'\\frac{n(\\mathbf{r})n(\\mathbf{r}')e^{-\\mu |\\mathbf{r}-\\mathbf{r}'|}}{|\\mathbf{r}-\\mathbf{r}'|},\n",
      "$$"
     ]
    },
    {
     "cell_type": "markdown",
     "metadata": {},
     "source": [
      "which is the energy contribution from the positive background charge with density\n",
      "$n(\\mathbf{r})=N/\\Omega$. Finally,"
     ]
    },
    {
     "cell_type": "markdown",
     "metadata": {},
     "source": [
      "$$\n",
      "\\hat{H}_{el-b}=-\\frac{e^2}{2}\\sum_{i=1}^N\\int d\\mathbf{r}\\frac{n(\\mathbf{r})e^{-\\mu |\\mathbf{r}-\\mathbf{x}_i|}}{|\\mathbf{r}-\\mathbf{x}_i|},\n",
      "$$"
     ]
    },
    {
     "cell_type": "markdown",
     "metadata": {},
     "source": [
      "is the interaction between the electrons and the positive background.\n",
      "\n",
      "\n",
      "\n",
      "### Single-particle Hartree-Fock energy\n",
      "In the first exercise below we show that the Hartree-Fock energy can be written as"
     ]
    },
    {
     "cell_type": "markdown",
     "metadata": {},
     "source": [
      "$$\n",
      "\\varepsilon_{k}^{HF}=\\frac{\\hbar^{2}k^{2}}{2m_e}-\\frac{e^{2}}\n",
      "{\\Omega^{2}}\\sum_{k'\\leq\n",
      "k_{F}}\\int d\\mathbf{r}e^{i(\\mathbf{k}'-\\mathbf{k})\\mathbf{r}}\\int\n",
      "d\\mathbf{r'}\\frac{e^{i(\\mathbf{k}-\\mathbf{k}')\\mathbf{r}'}}\n",
      "{\\vert\\mathbf{r}-\\mathbf{r}'\\vert}\n",
      "$$"
     ]
    },
    {
     "cell_type": "markdown",
     "metadata": {},
     "source": [
      "resulting in"
     ]
    },
    {
     "cell_type": "markdown",
     "metadata": {},
     "source": [
      "$$\n",
      "\\varepsilon_{k}^{HF}=\\frac{\\hbar^{2}k^{2}}{2m_e}-\\frac{e^{2}\n",
      "k_{F}}{2\\pi}\n",
      "\\left[\n",
      "2+\\frac{k_{F}^{2}-k^{2}}{kk_{F}}ln\\left\\vert\\frac{k+k_{F}}\n",
      "{k-k_{F}}\\right\\vert\n",
      "\\right]\n",
      "$$"
     ]
    },
    {
     "cell_type": "markdown",
     "metadata": {},
     "source": [
      "### Single-particle Hartree-Fock energy in a more compact form\n",
      "\n",
      "The previous result can be rewritten in terms of the density"
     ]
    },
    {
     "cell_type": "markdown",
     "metadata": {},
     "source": [
      "$$\n",
      "n= \\frac{k_F^3}{3\\pi^2}=\\frac{3}{4\\pi r_s^3},\n",
      "$$"
     ]
    },
    {
     "cell_type": "markdown",
     "metadata": {},
     "source": [
      "where $n=N_e/\\Omega$, $N_e$ being the number of electrons, and $r_s$ is the radius of a sphere which represents the volum per conducting electron.  \n",
      "It can be convenient to use the Bohr radius $a_0=\\hbar^2/e^2m_e$.\n",
      "For most metals we have a relation $r_s/a_0\\sim 2-6$.  The quantity $r_s$ is dimensionless.\n",
      "\n",
      "\n",
      "\n",
      "### Total Hartree-Fock energy\n",
      "\n",
      "In the second exercise below  we find that\n",
      "the total energy\n",
      "$E_0/N_e=\\langle\\Phi_{0}|\\hat{H}|\\Phi_{0}\\rangle/N_e$ for\n",
      "for this system to first order in the interaction is given as"
     ]
    },
    {
     "cell_type": "markdown",
     "metadata": {},
     "source": [
      "$$\n",
      "E_0/N_e=\\frac{e^2}{2a_0}\\left[\\frac{2.21}{r_s^2}-\\frac{0.916}{r_s}\\right].\n",
      "$$"
     ]
    },
    {
     "cell_type": "markdown",
     "metadata": {},
     "source": [
      "### Exercises: Hartree-Fock single-particle solution for the electron gas\n",
      "**Exercise 1.**\n",
      "\n",
      "The electron gas model allows closed form solutions for quantities like the \n",
      "single-particle Hartree-Fock energy.  The latter quantity is given by the following expression"
     ]
    },
    {
     "cell_type": "markdown",
     "metadata": {},
     "source": [
      "$$\n",
      "\\varepsilon_{k}^{HF}=\\frac{\\hbar^{2}k^{2}}{2m}-\\frac{e^{2}}\n",
      "{V^{2}}\\sum_{k'\\leq\n",
      "k_{F}}\\int d\\mathbf{r}e^{i(\\mathbf{k'}-\\mathbf{k})\\mathbf{r}}\\int\n",
      "d\\mathbf{r}'\\frac{e^{i(\\mathbf{k}-\\mathbf{k'})\\mathbf{r}'}}\n",
      "{\\vert\\mathbf{r}-\\mathbf{r'}\\vert}\n",
      "$$"
     ]
    },
    {
     "cell_type": "markdown",
     "metadata": {},
     "source": [
      "Show first that"
     ]
    },
    {
     "cell_type": "markdown",
     "metadata": {},
     "source": [
      "$$\n",
      "\\varepsilon_{k}^{HF}=\\frac{\\hbar^{2}k^{2}}{2m}-\\frac{e^{2}\n",
      "k_{F}}{2\\pi}\n",
      "\\left[\n",
      "2+\\frac{k_{F}^{2}-k^{2}}{kk_{F}}ln\\left\\vert\\frac{k+k_{F}}\n",
      "{k-k_{F}}\\right\\vert\n",
      "\\right]\n",
      "$$"
     ]
    },
    {
     "cell_type": "markdown",
     "metadata": {},
     "source": [
      "(Hint: Introduce the convergence factor \n",
      "$e^{-\\mu\\vert\\mathbf{r}-\\mathbf{r}'\\vert}$\n",
      "in the potential and use  $\\sum_{\\mathbf{k}}\\rightarrow\n",
      "\\frac{V}{(2\\pi)^{3}}\\int d\\mathbf{k}$ )\n",
      "\n",
      "Rewrite the above result as a function of the density"
     ]
    },
    {
     "cell_type": "markdown",
     "metadata": {},
     "source": [
      "$$\n",
      "n= \\frac{k_F^3}{3\\pi^2}=\\frac{3}{4\\pi r_s^3},\n",
      "$$"
     ]
    },
    {
     "cell_type": "markdown",
     "metadata": {},
     "source": [
      "where $n=N/V$, $N$ being the number of particles, and $r_s$ is the radius of a sphere which represents the volum per conducting electron.\n",
      "\n",
      "\n",
      "\n",
      "### Exercises: Hartree-Fock single-particle solution for the electron gas\n",
      "**Exercise 1.**\n",
      "\n",
      "It can be convenient to use the Bohr radius $a_0=\\hbar^2/e^2m$.\n",
      "For most metals we have a relation $r_s/a_0\\sim 2-6$.\n",
      "\n",
      "Make a plot of the free electron energy and the Hartree-Fock energy and discuss the behavior around the Fermi surface. Extract also   the Hartree-Fock band width $\\Delta\\varepsilon^{HF}$ defined as"
     ]
    },
    {
     "cell_type": "markdown",
     "metadata": {},
     "source": [
      "$$\n",
      "\\Delta\\varepsilon^{HF}=\\varepsilon_{k_{F}}^{HF}-\n",
      "\\varepsilon_{0}^{HF}.\n",
      "$$"
     ]
    },
    {
     "cell_type": "markdown",
     "metadata": {},
     "source": [
      "Compare this results with the corresponding one for a free electron and comment your results. How large is the contribution due to the exchange term in the Hartree-Fock equation?\n",
      "\n",
      "\n",
      "\n",
      "\n",
      "### Exercises: Hartree-Fock single-particle solution for the electron gas\n",
      "**Exercise 1.**\n",
      "\n",
      "\n",
      "We will now define a quantity called the effective mass.\n",
      "For $\\vert\\mathbf{k}\\vert$ near $k_{F}$, we can Taylor expand the Hartree-Fock energy as"
     ]
    },
    {
     "cell_type": "markdown",
     "metadata": {},
     "source": [
      "$$\n",
      "\\varepsilon_{k}^{HF}=\\varepsilon_{k_{F}}^{HF}+\n",
      "\\left(\\frac{\\partial\\varepsilon_{k}^{HF}}{\\partial k}\\right)_{k_{F}}(k-k_{F})+\\dots\n",
      "$$"
     ]
    },
    {
     "cell_type": "markdown",
     "metadata": {},
     "source": [
      "If we compare the latter with the corresponding expressiyon for the non-interacting system"
     ]
    },
    {
     "cell_type": "markdown",
     "metadata": {},
     "source": [
      "$$\n",
      "\\varepsilon_{k}^{(0)}=\\frac{\\hbar^{2}k^{2}_{F}}{2m}+\n",
      "\\frac{\\hbar^{2}k_{F}}{m}\\left(k-k_{F}\\right)+\\dots ,\n",
      "$$"
     ]
    },
    {
     "cell_type": "markdown",
     "metadata": {},
     "source": [
      "we can define the so-called effective Hartree-Fock mass as"
     ]
    },
    {
     "cell_type": "markdown",
     "metadata": {},
     "source": [
      "$$\n",
      "m_{HF}^{*}\\equiv\\hbar^{2}k_{F}\\left(\n",
      "\\frac{\\partial\\varepsilon_{k}^{HF}}\n",
      "{\\partial k}\\right)_{k_{F}}^{-1}\n",
      "$$"
     ]
    },
    {
     "cell_type": "markdown",
     "metadata": {},
     "source": [
      "Compute $m_{HF}^{*}$ and comment your results.\n",
      "\n",
      "\n",
      "\n",
      "### Exercises: Hartree-Fock single-particle solution for the electron gas\n",
      "**Exercise 1.**\n",
      "\n",
      "Show that the level density (the number of single-electron states per unit energy) can be written as"
     ]
    },
    {
     "cell_type": "markdown",
     "metadata": {},
     "source": [
      "$$\n",
      "n(\\varepsilon)=\\frac{Vk^{2}}{2\\pi^{2}}\\left(\n",
      "\\frac{\\partial\\varepsilon}{\\partial k}\\right)^{-1}\n",
      "$$"
     ]
    },
    {
     "cell_type": "markdown",
     "metadata": {},
     "source": [
      "Calculate $n(\\varepsilon_{F}^{HF})$ and comment the results.\n",
      "\n",
      "\n",
      "\n",
      "\n",
      "\n",
      "### Hartree-Fock ground state energy for the  electron gas in three dimensions\n",
      "**Partial solution to exercise 1.**\n",
      "\n",
      "We want to show that, given the Hartree-Fock equation for the electron gas"
     ]
    },
    {
     "cell_type": "markdown",
     "metadata": {},
     "source": [
      "$$\n",
      "\\varepsilon_{k}^{HF}=\\frac{\\hbar^{2}k^{2}}{2m}-\\frac{e^{2}}\n",
      "{V^{2}}\\sum_{p\\leq\n",
      "k_{F}}\\int d\\mathbf{r}\\exp{(i(\\mathbf{p}-\\mathbf{k})\\mathbf{r})}\\int\n",
      "d\\mathbf{r}'\\frac{\\exp{(i(\\mathbf{k}-\\mathbf{p})\\mathbf{r}'})}\n",
      "{\\vert\\mathbf{r}-\\mathbf{r'}\\vert}\n",
      "$$"
     ]
    },
    {
     "cell_type": "markdown",
     "metadata": {},
     "source": [
      "the single-particle energy can be written as"
     ]
    },
    {
     "cell_type": "markdown",
     "metadata": {},
     "source": [
      "$$\n",
      "\\varepsilon_{k}^{HF}=\\frac{\\hbar^{2}k^{2}}{2m}-\\frac{e^{2}\n",
      "k_{F}}{2\\pi}\n",
      "\\left[\n",
      "2+\\frac{k_{F}^{2}-k^{2}}{kk_{F}}ln\\left\\vert\\frac{k+k_{F}}\n",
      "{k-k_{F}}\\right\\vert\n",
      "\\right].\n",
      "$$"
     ]
    },
    {
     "cell_type": "markdown",
     "metadata": {},
     "source": [
      "### Hartree-Fock ground state energy for the  electron gas in three dimensions\n",
      "\n",
      "We introduce the convergence factor \n",
      "$e^{-\\mu\\vert\\mathbf{r}-\\mathbf{r}'\\vert}$\n",
      "in the potential and use  $\\sum_{\\mathbf{k}}\\rightarrow\n",
      "\\frac{V}{(2\\pi)^{3}}\\int d\\mathbf{k}$. We can then rewrite the integral as"
     ]
    },
    {
     "cell_type": "markdown",
     "metadata": {},
     "source": [
      "$$\n",
      "\\begin{equation}\n",
      "\\frac{e^{2}}\n",
      "{V^{2}}\\sum_{k'\\leq\n",
      "k_{F}}\\int d\\mathbf{r}\\exp{(i(\\mathbf{k'}-\\mathbf{k})\\mathbf{r})}\\int\n",
      "d\\mathbf{r}'\\frac{\\exp{(i(\\mathbf{k}-\\mathbf{p})\\mathbf{r}'})}\n",
      "{\\vert\\mathbf{r}-\\mathbf{r'}\\vert}=  \n",
      "\\end{equation}\n",
      "$$"
     ]
    },
    {
     "cell_type": "markdown",
     "metadata": {},
     "source": [
      "$$\n",
      "\\begin{equation} \n",
      "\\frac{e^{2}}{V (2\\pi)^3}  \\int d\\mathbf{r}\\int\n",
      "\\frac{d\\mathbf{r}'}{\\vert\\mathbf{r}-\\mathbf{r'}\\vert}\\exp{(-i\\mathbf{k}(\\mathbf{r}-\\mathbf{r}'))}\\int d\\mathbf{p}\\exp{(i\\mathbf{p}(\\mathbf{r}-\\mathbf{r}'))},\n",
      "\\end{equation}\n",
      "$$"
     ]
    },
    {
     "cell_type": "markdown",
     "metadata": {},
     "source": [
      "and introducing the abovementioned convergence factor we have"
     ]
    },
    {
     "cell_type": "markdown",
     "metadata": {},
     "source": [
      "$$\n",
      "\\begin{equation}\n",
      "\\lim_{\\mu \\to 0}\\frac{e^{2}}{V (2\\pi)^3}  \\int d\\mathbf{r}\\int d\\mathbf{r}'\\frac{\\exp{(-\\mu\\vert\\mathbf{r}-\\mathbf{r}'\\vert})}{\\vert\\mathbf{r}-\\mathbf{r'}\\vert}\\int d\\mathbf{p}\\exp{(i(\\mathbf{p}-\\mathbf{k})(\\mathbf{r}-\\mathbf{r}'))}.\n",
      "\\end{equation}\n",
      "$$"
     ]
    },
    {
     "cell_type": "markdown",
     "metadata": {},
     "source": [
      "### Hartree-Fock ground state energy for the  electron gas in three dimensions\n",
      "With a change variables to $\\mathbf{x} = \\mathbf{r}-\\mathbf{r}'$ and $\\mathbf{y}=\\mathbf{r}'$ we rewrite the last integral as"
     ]
    },
    {
     "cell_type": "markdown",
     "metadata": {},
     "source": [
      "$$\n",
      "\\lim_{\\mu \\to 0}\\frac{e^{2}}{V (2\\pi)^3}  \\int d\\mathbf{p}\\int d\\mathbf{y}\\int d\\mathbf{x}\\exp{(i(\\mathbf{p}-\\mathbf{k})\\mathbf{x})}\\frac{\\exp{(-\\mu\\vert\\mathbf{x}\\vert})}{\\vert\\mathbf{x}\\vert}.\n",
      "$$"
     ]
    },
    {
     "cell_type": "markdown",
     "metadata": {},
     "source": [
      "The integration over $\\mathbf{x}$ can be performed using spherical coordinates, resulting in (with $x=\\vert \\mathbf{x}\\vert$)"
     ]
    },
    {
     "cell_type": "markdown",
     "metadata": {},
     "source": [
      "$$\n",
      "\\int d\\mathbf{x}\\exp{(i(\\mathbf{p}-\\mathbf{k})\\mathbf{x})}\\frac{\\exp{(-\\mu\\vert\\mathbf{x}\\vert})}{\\vert\\mathbf{x}\\vert}=\\int x^2 dx d\\phi d\\cos{(\\theta)}\\exp{(i(\\mathbf{p}-\\mathbf{k})x\\cos{(\\theta))}}\\frac{\\exp{(-\\mu x)}}{x}.\n",
      "$$"
     ]
    },
    {
     "cell_type": "markdown",
     "metadata": {},
     "source": [
      "### Hartree-Fock ground state energy for the  electron gas in three dimensions\n",
      "We obtain"
     ]
    },
    {
     "cell_type": "markdown",
     "metadata": {},
     "source": [
      "$$\n",
      "\\begin{equation}\n",
      "4\\pi \\int dx \\frac{ \\sin{(\\vert \\mathbf{p}-\\mathbf{k}\\vert)x} }{\\vert \\mathbf{p}-\\mathbf{k}\\vert}{\\exp{(-\\mu x)}}= \\frac{4\\pi}{\\mu^2+\\vert \\mathbf{p}-\\mathbf{k}\\vert^2}.\n",
      "\\end{equation}\n",
      "$$"
     ]
    },
    {
     "cell_type": "markdown",
     "metadata": {},
     "source": [
      "This results gives us"
     ]
    },
    {
     "cell_type": "markdown",
     "metadata": {},
     "source": [
      "$$\n",
      "\\begin{equation}\n",
      "\\lim_{\\mu \\to 0}\\frac{e^{2}}{V (2\\pi)^3}  \\int d\\mathbf{p}\\int d\\mathbf{y}\\frac{4\\pi}{\\mu^2+\\vert \\mathbf{p}-\\mathbf{k}\\vert^2}=\\lim_{\\mu \\to 0}\\frac{e^{2}}{ 2\\pi^2}  \\int d\\mathbf{p}\\frac{1}{\\mu^2+\\vert \\mathbf{p}-\\mathbf{k}\\vert^2},\n",
      "\\end{equation}\n",
      "$$"
     ]
    },
    {
     "cell_type": "markdown",
     "metadata": {},
     "source": [
      "where we have used that the integrand on the left-hand side does not depend on $\\mathbf{y}$ and that $\\int d\\mathbf{y}=V$.\n",
      "\n",
      "\n",
      "\n",
      "### Hartree-Fock ground state energy for the  electron gas in three dimensions\n",
      "Introducing spherical coordinates we can rewrite the integral as"
     ]
    },
    {
     "cell_type": "markdown",
     "metadata": {},
     "source": [
      "$$\n",
      "\\begin{equation}\n",
      "\\lim_{\\mu \\to 0}\\frac{e^{2}}{ 2\\pi^2}  \\int d\\mathbf{p}\\frac{1}{\\mu^2+\\vert \\mathbf{p}-\\mathbf{k}\\vert^2}=\\frac{e^{2}}{ 2\\pi^2}  \\int d\\mathbf{p}\\frac{1}{\\vert \\mathbf{p}-\\mathbf{k}\\vert^2}= \n",
      "\\end{equation}\n",
      "$$"
     ]
    },
    {
     "cell_type": "markdown",
     "metadata": {},
     "source": [
      "$$\n",
      "\\begin{equation} \n",
      "\\frac{e^{2}}{\\pi}  \\int_0^{k_F} p^2dp\\int_0^{\\pi} d\\theta\\cos{(\\theta)}\\frac{1}{p^2+k^2-2pk\\cos{(\\theta)}},\n",
      "\\end{equation}\n",
      "$$"
     ]
    },
    {
     "cell_type": "markdown",
     "metadata": {},
     "source": [
      "and with the change of variables $\\cos{(\\theta)}=u$ we have"
     ]
    },
    {
     "cell_type": "markdown",
     "metadata": {},
     "source": [
      "$$\n",
      "\\frac{e^{2}}{\\pi}  \\int_0^{k_F} p^2dp\\int_{0}^{\\pi} d\\theta\\cos{(\\theta)}\\frac{1}{p^2+k^2-2pk\\cos{(\\theta)}}=\\frac{e^{2}}{\\pi}  \\int_0^{k_F} p^2dp\\int_{-1}^{1} du\\frac{1}{p^2+k^2-2pku},\n",
      "$$"
     ]
    },
    {
     "cell_type": "markdown",
     "metadata": {},
     "source": [
      "which gives"
     ]
    },
    {
     "cell_type": "markdown",
     "metadata": {},
     "source": [
      "$$\n",
      "\\frac{e^{2}}{k\\pi}  \\int_0^{k_F} pdp\\left\\{ln(\\vert p+k\\vert)-ln(\\vert p-k\\vert)\\right\\}.\n",
      "$$"
     ]
    },
    {
     "cell_type": "markdown",
     "metadata": {},
     "source": [
      "### Hartree-Fock ground state energy for the  electron gas in three dimensions\n",
      "Introducing new variables $x=p+k$ and $y=p-k$, we obtain after some straightforward reordering of the integral"
     ]
    },
    {
     "cell_type": "markdown",
     "metadata": {},
     "source": [
      "$$\n",
      "\\frac{e^{2}}{k\\pi}\\left[\n",
      "kk_F+\\frac{k_{F}^{2}-k^{2}}{kk_{F}}ln\\left\\vert\\frac{k+k_{F}}\n",
      "{k-k_{F}}\\right\\vert\n",
      "\\right],\n",
      "$$"
     ]
    },
    {
     "cell_type": "markdown",
     "metadata": {},
     "source": [
      "which gives the abovementioned expression for the single-particle energy.\n",
      "\n",
      "\n",
      "\n",
      "### Hartree-Fock ground state energy for the  electron gas in three dimensions\n",
      "Introducing the dimensionless quantity $x=k/k_F$ and the function"
     ]
    },
    {
     "cell_type": "markdown",
     "metadata": {},
     "source": [
      "$$\n",
      "F(x) = \\frac{1}{2}+\\frac{1-x^2}{4x}\\ln{\\left\\vert \\frac{1+x}{1-x}\\right\\vert},\n",
      "$$"
     ]
    },
    {
     "cell_type": "markdown",
     "metadata": {},
     "source": [
      "we can rewrite the single-particle Hartree-Fock energy as"
     ]
    },
    {
     "cell_type": "markdown",
     "metadata": {},
     "source": [
      "$$\n",
      "\\varepsilon_{k}^{HF}=\\frac{\\hbar^{2}k^{2}}{2m}-\\frac{2e^{2}\n",
      "k_{F}}{\\pi}F(k/k_F),\n",
      "$$"
     ]
    },
    {
     "cell_type": "markdown",
     "metadata": {},
     "source": [
      "and dividing by the non-interacting contribution at the Fermi level,"
     ]
    },
    {
     "cell_type": "markdown",
     "metadata": {},
     "source": [
      "$$\n",
      "\\varepsilon_{0}^{F}=\\frac{\\hbar^{2}k_F^{2}}{2m},\n",
      "$$"
     ]
    },
    {
     "cell_type": "markdown",
     "metadata": {},
     "source": [
      "we have"
     ]
    },
    {
     "cell_type": "markdown",
     "metadata": {},
     "source": [
      "$$\n",
      "\\frac{\\varepsilon_{k}^{HF} }{\\varepsilon_{0}^{F}}=x^2-\\frac{e^2m}{\\hbar^2 k_F\\pi}F(x)=x^2-\\frac{4}{\\pi k_Fa_0}F(x),\n",
      "$$"
     ]
    },
    {
     "cell_type": "markdown",
     "metadata": {},
     "source": [
      "where $a_0=0.0529$ nm is the Bohr radius, setting thereby a natural length scale.\n",
      "\n",
      "\n",
      "\n",
      "\n",
      "\n",
      "### Hartree-Fock ground state energy for the  electron gas in three dimensions\n",
      "\n",
      "By introducing the radius $r_s$ of a sphere whose volume is the volume occupied by each electron, we can rewrite the previous equation in terms of $r_s$ using that the electron density $n=N/V$"
     ]
    },
    {
     "cell_type": "markdown",
     "metadata": {},
     "source": [
      "$$\n",
      "n=\\frac{k_F^3}{3\\pi^2} = \\frac{3}{4\\pi r_s^3},\n",
      "$$"
     ]
    },
    {
     "cell_type": "markdown",
     "metadata": {},
     "source": [
      "we have (with $k_F=1.92/r_s$,"
     ]
    },
    {
     "cell_type": "markdown",
     "metadata": {},
     "source": [
      "$$\n",
      "\\frac{\\varepsilon_{k}^{HF} }{\\varepsilon_{0}^{F}}=x^2-\\frac{e^2m}{\\hbar^2 k_F\\pi}F(x)=x^2-\\frac{r_s}{a_0}0.663F(x),\n",
      "$$"
     ]
    },
    {
     "cell_type": "markdown",
     "metadata": {},
     "source": [
      "with $r_s \\sim 2-6$ for most metals.\n",
      "\n",
      "\n",
      "\n",
      "\n",
      "### Hartree-Fock band gap for  the  electron gas in three dimensions\n",
      "We can now define the so-called band gap, that is the scatter between the maximal and the minimal value of the electrons in the conductance band of a metal (up to the Fermi level). \n",
      "For $x=1$ and $r_s/a_0=4$ we have"
     ]
    },
    {
     "cell_type": "markdown",
     "metadata": {},
     "source": [
      "$$\n",
      "\\frac{\\varepsilon_{k=k_F}^{HF} }{\\varepsilon_{0}^{F}} = -0.326,\n",
      "$$"
     ]
    },
    {
     "cell_type": "markdown",
     "metadata": {},
     "source": [
      "and for $x=0$ we have"
     ]
    },
    {
     "cell_type": "markdown",
     "metadata": {},
     "source": [
      "$$\n",
      "\\frac{\\varepsilon_{k=0}^{HF} }{\\varepsilon_{0}^{F}} = -2.652,\n",
      "$$"
     ]
    },
    {
     "cell_type": "markdown",
     "metadata": {},
     "source": [
      "which results in a gap at the Fermi level of"
     ]
    },
    {
     "cell_type": "markdown",
     "metadata": {},
     "source": [
      "$$\n",
      "\\Delta \\varepsilon^{HF} = \\frac{\\varepsilon_{k=k_F}^{HF} }{\\varepsilon_{0}^{F}}-\\frac{\\varepsilon_{k=0}^{HF} }{\\varepsilon_{0}^{F}} = 2.326.\n",
      "$$"
     ]
    },
    {
     "cell_type": "markdown",
     "metadata": {},
     "source": [
      "This quantity measures the deviation from the $k=0$ single-particle energy and the energy at the Fermi level.\n",
      "The general result is"
     ]
    },
    {
     "cell_type": "markdown",
     "metadata": {},
     "source": [
      "$$\n",
      "\\Delta \\varepsilon^{HF} = 1+\\frac{r_s}{a_0}0.663.\n",
      "$$"
     ]
    },
    {
     "cell_type": "markdown",
     "metadata": {},
     "source": [
      "### Plot of the Hartree-Fock single-particle energy for the three-dimensional electron gas\n",
      "The following python code produces a plot of the electron energy for a free electron (only kinetic energy) and \n",
      "for the Hartree-Fock solution. We have chosen here a ratio $r_s/a_0=4$ and the equations are plotted as funtions\n",
      "of $k/f_F$."
     ]
    },
    {
     "cell_type": "code",
     "collapsed": false,
     "input": [
      "%matplotlib inline\n",
      "\n",
      "import numpy as np\n",
      "from math import log\n",
      "from  matplotlib import pyplot as plt\n",
      "from matplotlib import rc, rcParams\n",
      "import matplotlib.units as units\n",
      "import matplotlib.ticker as ticker\n",
      "rc('text',usetex=True)\n",
      "rc('font',**{'family':'serif','serif':['Hartree-Fock energy']})\n",
      "font = {'family' : 'serif',\n",
      "        'color'  : 'darkred',\n",
      "        'weight' : 'normal',\n",
      "        'size'   : 16,\n",
      "        }\n",
      "\n",
      "N = 100\n",
      "x = np.linspace(0.0, 2.0,N)\n",
      "F = 0.5+np.log(abs((1.0+x)/(1.0-x)))*(1.0-x*x)*0.25/x\n",
      "y = x*x -4.0*0.663*F\n",
      "\n",
      "plt.plot(x, y, 'b-')\n",
      "plt.plot(x, x*x, 'r-')\n",
      "plt.title(r'{\\bf Hartree-Fock single-particle energy for electron gas}', fontsize=20)     \n",
      "plt.text(3, -40, r'Parameters: $r_s/a_0=4$', fontdict=font)\n",
      "plt.xlabel(r'$k/k_F$',fontsize=20)\n",
      "plt.ylabel(r'$\\varepsilon_k^{HF}/\\varepsilon_0^F$',fontsize=20)\n",
      "# Tweak spacing to prevent clipping of ylabel\n",
      "plt.subplots_adjust(left=0.15)\n",
      "plt.savefig('hartreefockspelgas.pdf', format='pdf')\n",
      "plt.show()\n"
     ],
     "language": "python",
     "metadata": {},
     "outputs": [
      {
       "output_type": "stream",
       "stream": "stderr",
       "text": [
        "-c:19: RuntimeWarning: invalid value encountered in divide\n"
       ]
      },
      {
       "metadata": {},
       "output_type": "display_data",
       "png": "[encoded data removed]",
       "text": [
        "<matplotlib.figure.Figure at 0x10a4c1b10>"
       ]
      }
     ],
     "prompt_number": 1
    },
    {
     "cell_type": "markdown",
     "metadata": {},
     "source": [
      "From the plot we notice that the exchange term increases considerably the band gap\n",
      "compared with the non-interacting gas of electrons.\n",
      "\n",
      "\n",
      "\n",
      "\n",
      "\n",
      "\n",
      "\n",
      "\n",
      "### Hartree-Fock ground state energy for the  electron gas in three dimensions\n",
      "**Exercise 2.**\n",
      "\n",
      "We consider a system of electrons in infinite matter, the so-called electron gas. This is a homogeneous system and the one-particle states are given by plane wave function normalized to a volume $\\Omega$ \n",
      "for a box with length $L$ (the limit $L\\rightarrow \\infty$ is to be taken after we have computed various expectation values)"
     ]
    },
    {
     "cell_type": "markdown",
     "metadata": {},
     "source": [
      "$$\n",
      "\\psi_{\\mathbf{k}\\sigma}(\\mathbf{r})= \\frac{1}{\\sqrt{\\Omega}}\\exp{(i\\mathbf{kr})}\\xi_{\\sigma}\n",
      "$$"
     ]
    },
    {
     "cell_type": "markdown",
     "metadata": {},
     "source": [
      "where $\\mathbf{k}$ is the wave number and  $\\xi_{\\sigma}$ is a spin function for either spin up or down"
     ]
    },
    {
     "cell_type": "markdown",
     "metadata": {},
     "source": [
      "$$\n",
      "\\xi_{\\sigma=+1/2}=\\left(\\begin{array}{c} 1 \\\\ 0 \\end{array}\\right) \\hspace{0.5cm}\n",
      "\\xi_{\\sigma=-1/2}=\\left(\\begin{array}{c} 0 \\\\ 1 \\end{array}\\right).\n",
      "$$"
     ]
    },
    {
     "cell_type": "markdown",
     "metadata": {},
     "source": [
      "We assume that we have periodic boundary conditions which limit the allowed wave numbers to"
     ]
    },
    {
     "cell_type": "markdown",
     "metadata": {},
     "source": [
      "$$\n",
      "k_i=\\frac{2\\pi n_i}{L}\\hspace{0.5cm} i=x,y,z \\hspace{0.5cm} n_i=0,\\pm 1,\\pm 2, \\dots\n",
      "$$"
     ]
    },
    {
     "cell_type": "markdown",
     "metadata": {},
     "source": [
      "We assume first that the particles interact via a central, symmetric and translationally invariant\n",
      "interaction  $V(r_{12})$ with\n",
      "$r_{12}=|\\mathbf{r}_1-\\mathbf{r}_2|$.  The interaction is spin independent.\n",
      "\n",
      "\n",
      "\n",
      "### Hartree-Fock ground state energy for the  electron gas in three dimensions\n",
      "**Exercise 2.**\n",
      "\n",
      "The total Hamiltonian consists then of kinetic and potential energy"
     ]
    },
    {
     "cell_type": "markdown",
     "metadata": {},
     "source": [
      "$$\n",
      "\\hat{H} = \\hat{T}+\\hat{V}.\n",
      "$$"
     ]
    },
    {
     "cell_type": "markdown",
     "metadata": {},
     "source": [
      "Show that the operator for the kinetic energy can be written as"
     ]
    },
    {
     "cell_type": "markdown",
     "metadata": {},
     "source": [
      "$$\n",
      "\\hat{T}=\\sum_{\\mathbf{k}\\sigma}\\frac{\\hbar^2k^2}{2m}a_{\\mathbf{k}\\sigma}^{\\dagger}a_{\\mathbf{k}\\sigma}.\n",
      "$$"
     ]
    },
    {
     "cell_type": "markdown",
     "metadata": {},
     "source": [
      "Find also the number operator $\\hat{N}$ and find a corresponding expression for the interaction\n",
      "$\\hat{V}$ expressed with creation and annihilation operators.   The expression for the interaction\n",
      "has to be written in  $k$ space, even though $V$ depends only on the relative distance. It means that you ned to set up the Fourier transform $\\langle \\mathbf{k}_i\\mathbf{k}_j| V | \\mathbf{k}_m\\mathbf{k}_n\\rangle$.\n",
      "\n",
      "\n",
      "\n",
      "### Hartree-Fock ground state energy for the  electron gas in three dimensions\n",
      "**Exercise 2.**\n",
      "\n",
      "The Hamiltonian operator is given by"
     ]
    },
    {
     "cell_type": "markdown",
     "metadata": {},
     "source": [
      "$$\n",
      "\\hat{H}=\\hat{H}_{el}+\\hat{H}_{b}+\\hat{H}_{el-b},\n",
      "$$"
     ]
    },
    {
     "cell_type": "markdown",
     "metadata": {},
     "source": [
      "with the electronic part"
     ]
    },
    {
     "cell_type": "markdown",
     "metadata": {},
     "source": [
      "$$\n",
      "\\hat{H}_{el}=\\sum_{i=1}^N\\frac{p_i^2}{2m}+\\frac{e^2}{2}\\sum_{i\\ne j}\\frac{e^{-\\mu |\\mathbf{r}_i-\\mathbf{r}_j|}}{|\\mathbf{r}_i-\\mathbf{r}_j|},\n",
      "$$"
     ]
    },
    {
     "cell_type": "markdown",
     "metadata": {},
     "source": [
      "where we have introduced an explicit convergence factor\n",
      "(the limit $\\mu\\rightarrow 0$ is performed after having calculated the various integrals).\n",
      "Correspondingly, we have"
     ]
    },
    {
     "cell_type": "markdown",
     "metadata": {},
     "source": [
      "$$\n",
      "\\hat{H}_{b}=\\frac{e^2}{2}\\int\\int d\\mathbf{r}d\\mathbf{r}'\\frac{n(\\mathbf{r})n(\\mathbf{r}')e^{-\\mu |\\mathbf{r}-\\mathbf{r}'|}}{|\\mathbf{r}-\\mathbf{r}'|},\n",
      "$$"
     ]
    },
    {
     "cell_type": "markdown",
     "metadata": {},
     "source": [
      "which is the energy contribution from the positive background charge with density\n",
      "$n(\\mathbf{r})=N/\\Omega$. Finally,"
     ]
    },
    {
     "cell_type": "markdown",
     "metadata": {},
     "source": [
      "$$\n",
      "\\hat{H}_{el-b}=-\\frac{e^2}{2}\\sum_{i=1}^N\\int d\\mathbf{r}\\frac{n(\\mathbf{r})e^{-\\mu |\\mathbf{r}-\\mathbf{x}_i|}}{|\\mathbf{r}-\\mathbf{x}_i|},\n",
      "$$"
     ]
    },
    {
     "cell_type": "markdown",
     "metadata": {},
     "source": [
      "is the interaction between the electrons and the positive background.\n",
      "\n",
      "\n",
      "\n",
      "### Hartree-Fock ground state energy for the  electron gas in three dimensions\n",
      "**Exercise 2.**\n",
      "\n",
      "Show that"
     ]
    },
    {
     "cell_type": "markdown",
     "metadata": {},
     "source": [
      "$$\n",
      "\\hat{H}_{b}=\\frac{e^2}{2}\\frac{N^2}{\\Omega}\\frac{4\\pi}{\\mu^2},\n",
      "$$"
     ]
    },
    {
     "cell_type": "markdown",
     "metadata": {},
     "source": [
      "and"
     ]
    },
    {
     "cell_type": "markdown",
     "metadata": {},
     "source": [
      "$$\n",
      "\\hat{H}_{el-b}=-e^2\\frac{N^2}{\\Omega}\\frac{4\\pi}{\\mu^2}.\n",
      "$$"
     ]
    },
    {
     "cell_type": "markdown",
     "metadata": {},
     "source": [
      "### Hartree-Fock ground state energy for the  electron gas in three dimensions\n",
      "**Exercise 2.**\n",
      "\n",
      "Show thereafter that the final Hamiltonian can be written as"
     ]
    },
    {
     "cell_type": "markdown",
     "metadata": {},
     "source": [
      "$$\n",
      "H=H_{0}+H_{I},\n",
      "$$"
     ]
    },
    {
     "cell_type": "markdown",
     "metadata": {},
     "source": [
      "with"
     ]
    },
    {
     "cell_type": "markdown",
     "metadata": {},
     "source": [
      "$$\n",
      "H_{0}={\\displaystyle\\sum_{\\mathbf{k}\\sigma}}\n",
      "\\frac{\\hbar^{2}k^{2}}{2m}a_{\\mathbf{k}\\sigma}^{\\dagger}\n",
      "a_{\\mathbf{k}\\sigma},\n",
      "$$"
     ]
    },
    {
     "cell_type": "markdown",
     "metadata": {},
     "source": [
      "and"
     ]
    },
    {
     "cell_type": "markdown",
     "metadata": {},
     "source": [
      "$$\n",
      "H_{I}=\\frac{e^{2}}{2\\Omega}{\\displaystyle\\sum_{\\sigma_{1}\\sigma_{2}}}{\\displaystyle\\sum_{\\mathbf{q}\\neq 0,\\mathbf{k},\\mathbf{p}}}\\frac{4\\pi}{q^{2}}\n",
      "a_{\\mathbf{k}+\\mathbf{q},\\sigma_{1}}^{\\dagger}\n",
      "a_{\\mathbf{p}-\\mathbf{q},\\sigma_{2}}^{\\dagger}\n",
      "a_{\\mathbf{p}\\sigma_{2}}a_{\\mathbf{k}\\sigma_{1}}.\n",
      "$$"
     ]
    },
    {
     "cell_type": "markdown",
     "metadata": {},
     "source": [
      "### Hartree-Fock ground state energy for the  electron gas in three dimensions\n",
      "**Exercise 2.**\n",
      "\n",
      "Calculate $E_0/N=\\langle \\Phi_{0}\\vert H\\vert \\Phi_{0}\\rangle/N$ for for this system to first order in the interaction. Show that, by using"
     ]
    },
    {
     "cell_type": "markdown",
     "metadata": {},
     "source": [
      "$$\n",
      "\\rho= \\frac{k_F^3}{3\\pi^2}=\\frac{3}{4\\pi r_0^3},\n",
      "$$"
     ]
    },
    {
     "cell_type": "markdown",
     "metadata": {},
     "source": [
      "with $\\rho=N/\\Omega$, $r_0$\n",
      "being the radius of a sphere representing the volume an electron occupies \n",
      "and the Bohr radius $a_0=\\hbar^2/e^2m$, \n",
      "that the energy per electron can be written as"
     ]
    },
    {
     "cell_type": "markdown",
     "metadata": {},
     "source": [
      "$$\n",
      "E_0/N=\\frac{e^2}{2a_0}\\left[\\frac{2.21}{r_s^2}-\\frac{0.916}{r_s}\\right].\n",
      "$$"
     ]
    },
    {
     "cell_type": "markdown",
     "metadata": {},
     "source": [
      "Here we have defined\n",
      "$r_s=r_0/a_0$ to be a dimensionless quantity.\n",
      "\n",
      "\n",
      "\n",
      "\n",
      "\n",
      "### Hartree-Fock ground state energy for the  electron gas in three dimensions\n",
      "**Exercise 2.**\n",
      "\n",
      "Plot your results. Why is this system stable?\n",
      "Calculate thermodynamical quantities like the pressure, given by"
     ]
    },
    {
     "cell_type": "markdown",
     "metadata": {},
     "source": [
      "$$\n",
      "P=-\\left(\\frac{\\partial E}{\\partial \\Omega}\\right)_N,\n",
      "$$"
     ]
    },
    {
     "cell_type": "markdown",
     "metadata": {},
     "source": [
      "and the bulk modulus"
     ]
    },
    {
     "cell_type": "markdown",
     "metadata": {},
     "source": [
      "$$\n",
      "B=-\\Omega\\left(\\frac{\\partial P}{\\partial \\Omega}\\right)_N,\n",
      "$$"
     ]
    },
    {
     "cell_type": "markdown",
     "metadata": {},
     "source": [
      "and comment your results.\n",
      "\n",
      "\n",
      "\n",
      "\n",
      "### Hartree-Fock ground state energy for the  electron gas in three dimensions\n",
      "**Solution to exercise 2.**\n",
      "\n",
      "We have to show first  that"
     ]
    },
    {
     "cell_type": "markdown",
     "metadata": {},
     "source": [
      "$$\n",
      "\\hat{H}_{b}=\\frac{e^2}{2}\\frac{N_e^2}{\\Omega}\\frac{4\\pi}{\\mu^2},\n",
      "$$"
     ]
    },
    {
     "cell_type": "markdown",
     "metadata": {},
     "source": [
      "and"
     ]
    },
    {
     "cell_type": "markdown",
     "metadata": {},
     "source": [
      "$$\n",
      "\\hat{H}_{el-b}=-e^2\\frac{N_e^2}{\\Omega}\\frac{4\\pi}{\\mu^2}.\n",
      "$$"
     ]
    },
    {
     "cell_type": "markdown",
     "metadata": {},
     "source": [
      "### Hartree-Fock ground state energy for the  electron gas in three dimensions\n",
      "**Solution to exercise 2.**\n",
      "\n",
      "\n",
      "And then that the final Hamiltonian can be written as"
     ]
    },
    {
     "cell_type": "markdown",
     "metadata": {},
     "source": [
      "$$\n",
      "H=H_{0}+H_{I},\n",
      "$$"
     ]
    },
    {
     "cell_type": "markdown",
     "metadata": {},
     "source": [
      "with"
     ]
    },
    {
     "cell_type": "markdown",
     "metadata": {},
     "source": [
      "$$\n",
      "H_{0}={\\displaystyle\\sum_{\\mathbf{k}\\sigma}}\n",
      "\\frac{\\hbar^{2}k^{2}}{2m_e}a_{\\mathbf{k}\\sigma}^{\\dagger}\n",
      "a_{\\mathbf{k}\\sigma},\n",
      "$$"
     ]
    },
    {
     "cell_type": "markdown",
     "metadata": {},
     "source": [
      "and"
     ]
    },
    {
     "cell_type": "markdown",
     "metadata": {},
     "source": [
      "$$\n",
      "H_{I}=\\frac{e^{2}}{2\\Omega}{\\displaystyle\\sum_{\\sigma_{1}\n",
      "\\sigma_{2}}}{\\displaystyle\n",
      "\\sum_{\\mathbf{q}\\neq 0,\\mathbf{k},\\mathbf{p}}}\\frac{4\\pi}{q^{2}}\n",
      "a_{\\mathbf{k}+\\mathbf{q},\\sigma_{1}}^{\\dagger}\n",
      "a_{\\mathbf{p}-\\mathbf{q},\\sigma_{2}}^{\\dagger}\n",
      "a_{\\mathbf{p}\\sigma_{2}}a_{\\mathbf{k}\\sigma_{1}}.\n",
      "$$"
     ]
    },
    {
     "cell_type": "markdown",
     "metadata": {},
     "source": [
      "### Electron gas and HF solution\n",
      "Let us now calculate the following part of the Hamiltonian"
     ]
    },
    {
     "cell_type": "markdown",
     "metadata": {},
     "source": [
      "$$\n",
      "\\hat H_b = \\frac{e^2}{2} \\iint \\frac{n(\\mathbf{r}) n(\\mathbf{r}')e^{-\\mu|\\mathbf{r} - \\mathbf{r}'|}}{|\\mathbf{r} - \\mathbf{r}'|} d\\mathbf{r} d\\mathbf{r}' ,\n",
      "$$"
     ]
    },
    {
     "cell_type": "markdown",
     "metadata": {},
     "source": [
      "where $n(\\mathbf{r}) = N_e/\\Omega$, the density of the positive background charge. We define $\\mathbf{r}_{12} = \\mathbf{r} - \\mathbf{r}'$, resulting in $d\\mathbf{r}_{12} = d\\mathbf{r}$, and allowing us to rewrite the integral as"
     ]
    },
    {
     "cell_type": "markdown",
     "metadata": {},
     "source": [
      "$$\n",
      "\\hat H_b = \\frac{e^2 N_e^2}{2\\Omega^2} \\iint \\frac{e^{-\\mu |\\mathbf{r}_{12}|}}{|\\mathbf{r}_{12}|} d\\mathbf{r}_{12} d\\mathbf{r}' = \\frac{e^2 N_e^2}{2\\Omega} \\int \\frac{e^{-\\mu |\\mathbf{r}_{12}|}}{|\\mathbf{r}_{12}|} d\\mathbf{r}_{12} .\n",
      "$$"
     ]
    },
    {
     "cell_type": "markdown",
     "metadata": {},
     "source": [
      "Here we have used that $\\int \\! \\mathbf{r} = \\Omega$. We change to spherical coordinates and the lack of angle \n",
      "dependencies yields a factor $4\\pi$, resulting in"
     ]
    },
    {
     "cell_type": "markdown",
     "metadata": {},
     "source": [
      "$$\n",
      "\\hat H_b = \\frac{4\\pi e^2 N_e^2}{2\\Omega} \\int_0^\\infty re^{-\\mu r} \\, \\mathrm{d} r .\n",
      "$$"
     ]
    },
    {
     "cell_type": "markdown",
     "metadata": {},
     "source": [
      "### Hartree-Fock ground state energy for the  electron gas in three dimensions\n",
      "**Solution to exercise 2.**\n",
      "\n",
      "Solving by partial integration"
     ]
    },
    {
     "cell_type": "markdown",
     "metadata": {},
     "source": [
      "$$\n",
      "\\int_0^\\infty re^{-\\mu r} \\, \\mathrm{d} r = \\left[ -\\frac{r}{\\mu} e^{-\\mu r} \\right]_0^\\infty + \\frac{1}{\\mu} \\int_0^\\infty e^{-\\mu r} \\, \\mathrm{d} r\n",
      "= \\frac{1}{\\mu} \\left[ - \\frac{1}{\\mu} e^{-\\mu r} \\right]_0^\\infty = \\frac{1}{\\mu^2},\n",
      "$$"
     ]
    },
    {
     "cell_type": "markdown",
     "metadata": {},
     "source": [
      "gives"
     ]
    },
    {
     "cell_type": "markdown",
     "metadata": {},
     "source": [
      "$$\n",
      "\\hat{H}_b = \\frac{e^2}{2} \\frac{N_e^2}{\\Omega} \\frac{4\\pi}{\\mu^2} .\n",
      "$$"
     ]
    },
    {
     "cell_type": "markdown",
     "metadata": {},
     "source": [
      "The next term is"
     ]
    },
    {
     "cell_type": "markdown",
     "metadata": {},
     "source": [
      "$$\n",
      "\\hat H_{el-b} = -e^2 \\sum_{i = 1}^N \\int \\frac{n(\\mathbf{r}) e^{-\\mu |\\mathbf{r} - \\mathbf{x}_i|}}{|\\mathbf{r} - \\mathbf{x}_i|} \\mathbf{r} .\n",
      "$$"
     ]
    },
    {
     "cell_type": "markdown",
     "metadata": {},
     "source": [
      "### Hartree-Fock ground state energy for the  electron gas in three dimensions\n",
      "**Solution to exercise 2.**\n",
      "\n",
      "Inserting  $n(\\mathbf{r})$ and changing variables in the same way as in the previous integral $\\mathbf{y} = \\mathbf{r} - \\mathbf{x}_i$, we get $\\mathrm{d}^3 \\mathbf{y} = \\mathrm{d}^3 \\mathbf{r}$. This gives"
     ]
    },
    {
     "cell_type": "markdown",
     "metadata": {},
     "source": [
      "$$\n",
      "\\begin{equation}\n",
      "\\hat H_{el-b} = -\\frac{e^2 N_e}{\\Omega} \\sum_{i = 1^N} \\int \\frac{e^{-\\mu |\\mathbf{y}|}}{|\\mathbf{y}|} \\, \\mathrm{d}^3 \\mathbf{y}\n",
      "=  -\\frac{4\\pi e^2 N_e}{\\Omega} \\sum_{i = 1}^N \\int_0^\\infty y e^{-\\mu y} \\mathrm{d} y. \n",
      "\\end{equation}\n",
      "$$"
     ]
    },
    {
     "cell_type": "markdown",
     "metadata": {},
     "source": [
      "We have already seen this  type of integral. The answer is"
     ]
    },
    {
     "cell_type": "markdown",
     "metadata": {},
     "source": [
      "$$\n",
      "\\hat H_{el-b} = -\\frac{4\\pi e^2 N_e}{\\Omega} \\sum_{i = 1}^N \\frac{1}{\\mu^2},\n",
      "$$"
     ]
    },
    {
     "cell_type": "markdown",
     "metadata": {},
     "source": [
      "which gives"
     ]
    },
    {
     "cell_type": "markdown",
     "metadata": {},
     "source": [
      "$$\n",
      "\\hat H_{el-b} = -e^2 \\frac{N_e^2}{\\Omega} \\frac{4\\pi}{\\mu^2} .\n",
      "$$"
     ]
    },
    {
     "cell_type": "markdown",
     "metadata": {},
     "source": [
      "### Hartree-Fock ground state energy for the  electron gas in three dimensions\n",
      "**Solution to exercise 2.**\n",
      "\n",
      "Finally, we need to evaluate $\\hat H_{el}$. This term reads"
     ]
    },
    {
     "cell_type": "markdown",
     "metadata": {},
     "source": [
      "$$\n",
      "\\hat H_{el} = \\sum_{i=1}^{N_e} \\frac{\\hat{\\vec p}_i^2}{2m_e} + \\frac{e^2}{2} \\sum_{i \\neq j} \\frac{e^{-\\mu |\\mathbf{r}_i - \\mathbf{r}_j|}}{\\mathbf{r}_i - \\mathbf{r}_j} .\n",
      "$$"
     ]
    },
    {
     "cell_type": "markdown",
     "metadata": {},
     "source": [
      "The last term represents the repulsion between two electrons. It is a central symmetric interaction\n",
      "and is translationally invariant. The potential is given by the expression"
     ]
    },
    {
     "cell_type": "markdown",
     "metadata": {},
     "source": [
      "$$\n",
      "v(|\\mathbf{r}|) = e^2 \\frac{e^{\\mu|\\mathbf{r}|}}{|\\mathbf{r}|},\n",
      "$$"
     ]
    },
    {
     "cell_type": "markdown",
     "metadata": {},
     "source": [
      "which we derived in connection with the single-particle Hartree-Fock derivation.\n",
      "\n",
      "More material will be added here!\n",
      "\n",
      "\n",
      "\n",
      "\n",
      "\n",
      "### Preparing the ground for numerical calculations; kinetic energy and Ewald term\n",
      "The kinetic energy operator is"
     ]
    },
    {
     "cell_type": "markdown",
     "metadata": {},
     "source": [
      "$$\n",
      "\\begin{equation}\n",
      "  \\hat{H}_{\\text{kin}} = -\\frac{\\hbar^{2}}{2m}\\sum_{i=1}^{N}\\nabla_{i}^{2},\n",
      "\\end{equation}\n",
      "$$"
     ]
    },
    {
     "cell_type": "markdown",
     "metadata": {},
     "source": [
      "where the sum is taken over all particles in the finite\n",
      "box. The Ewald electron-electron interaction operator \n",
      "can be written as"
     ]
    },
    {
     "cell_type": "markdown",
     "metadata": {},
     "source": [
      "$$\n",
      "\\begin{equation}\n",
      "  \\hat{H}_{ee} = \\sum_{i < j}^{N} v_{E}\\left( \\mathbf{r}_{i}-\\mathbf{r}_{j}\\right)\n",
      "  + \\frac{1}{2}Nv_{0},\n",
      "\\end{equation}\n",
      "$$"
     ]
    },
    {
     "cell_type": "markdown",
     "metadata": {},
     "source": [
      "where $v_{E}(\\mathbf{r})$ is the effective two-body \n",
      "interaction and $v_{0}$ is the self-interaction, defined \n",
      "as $v_{0} = \\lim_{\\mathbf{r} \\rightarrow 0} \\left\\{ v_{E}(\\mathbf{r}) - 1/r\\right\\} $.\n",
      "\n",
      "\n",
      "\n",
      "### Computing numerically properties of the electron gas\n",
      "The negative \n",
      "electron charges are neutralized by a positive, homogeneous \n",
      "background charge. Fraser *et al.* explain how the\n",
      "electron-background and background-background terms, \n",
      "$\\hat{H}_{eb}$ and $\\hat{H}_{bb}$, vanish\n",
      "when using Ewald's interaction for the three-dimensional\n",
      "electron gas. Using the same arguments, one can show that\n",
      "these terms are also zero in the corresponding \n",
      "two-dimensional system.\n",
      "\n",
      "\n",
      "\n",
      "### Ewald correction term\n",
      "In the three-dimensional electron gas, the Ewald \n",
      "interaction is"
     ]
    },
    {
     "cell_type": "markdown",
     "metadata": {},
     "source": [
      "$$\n",
      "\\begin{equation}\n",
      "  v_{E}(\\mathbf{r}) = \\sum_{\\mathbf{k} \\neq \\mathbf{0}}\n",
      "  \\frac{4\\pi }{L^{3}k^{2}}e^{i\\mathbf{k}\\cdot \\mathbf{r}}\n",
      "  e^{-\\eta^{2}k^{2}/4} \\nonumber \n",
      "\\end{equation}\n",
      "$$"
     ]
    },
    {
     "cell_type": "markdown",
     "metadata": {},
     "source": [
      "$$\n",
      "\\begin{equation} \n",
      "  + \\sum_{\\mathbf{R}}\\frac{1}{\\left| \\mathbf{r}\n",
      "    -\\mathbf{R}\\right| } \\mathrm{erfc} \\left( \\frac{\\left| \n",
      "    \\mathbf{r}-\\mathbf{R}\\right|}{\\eta }\\right)\n",
      "  - \\frac{\\pi \\eta^{2}}{L^{3}},\n",
      "\\end{equation}\n",
      "$$"
     ]
    },
    {
     "cell_type": "markdown",
     "metadata": {},
     "source": [
      "where $L$ is the box side length, $\\mathrm{erfc}(x)$ is the \n",
      "complementary error function, and $\\eta $ is a free\n",
      "parameter that can take any value in the interval \n",
      "$(0, \\infty )$.\n",
      "\n",
      "\n",
      "\n",
      "### Interaction in momentum space\n",
      "The translational vector"
     ]
    },
    {
     "cell_type": "markdown",
     "metadata": {},
     "source": [
      "$$\n",
      "\\begin{equation}\n",
      "  \\mathbf{R} = L\\left(n_{x}\\mathbf{u}_{x} + n_{y}\n",
      "  \\mathbf{u}_{y} + n_{z}\\mathbf{u}_{z}\\right) ,\n",
      "\\end{equation}\n",
      "$$"
     ]
    },
    {
     "cell_type": "markdown",
     "metadata": {},
     "source": [
      "where $\\mathbf{u}_{i}$ is the unit vector for dimension $i$,\n",
      "is defined for all integers $n_{x}$, $n_{y}$, and \n",
      "$n_{z}$. These vectors are used to obtain all image\n",
      "cells in the entire real space. \n",
      "The parameter $\\eta $ decides how \n",
      "the Coulomb interaction is divided into a short-ranged\n",
      "and long-ranged part, and does not alter the total\n",
      "function. However, the number of operations needed\n",
      "to calculate the Ewald interaction with a desired \n",
      "accuracy depends on $\\eta $, and $\\eta $ is therefore \n",
      "often chosen to optimize the convergence as a function\n",
      "of the simulation-cell size. In\n",
      "our calculations, we choose $\\eta $ to be an infinitesimally\n",
      "small positive number, similarly as was done by [Shepherd *et al.*](https://journals.aps.org/prb/abstract/10.1103/PhysRevB.86.035111) and [Roggero *et al.*](https://journals.aps.org/prb/abstract/10.1103/PhysRevB.88.115138).\n",
      "\n",
      "This gives an interaction that is evaluated only in\n",
      "Fourier space.\n",
      "\n",
      "\n",
      "\n",
      "### Ewald Effective interaction in two dimensions\n",
      "When studying the two-dimensional electron gas, we\n",
      "use an Ewald interaction that is quasi two-dimensional.\n",
      "The interaction is derived in three dimensions, with \n",
      "Fourier discretization in only two dimensions. The Ewald effective\n",
      "interaction has the form"
     ]
    },
    {
     "cell_type": "markdown",
     "metadata": {},
     "source": [
      "$$\n",
      "\\begin{equation}\n",
      "  v_{E}(\\mathbf{r}) = \\sum_{\\mathbf{k} \\neq \\mathbf{0}} \n",
      "  \\frac{\\pi }{L^{2}k}\\left\\{ e^{-kz} \\mathrm{erfc} \\left(\n",
      "  \\frac{\\eta k}{2} - \\frac{z}{\\eta }\\right)+ \\right. \\nonumber \n",
      "\\end{equation}\n",
      "$$"
     ]
    },
    {
     "cell_type": "markdown",
     "metadata": {},
     "source": [
      "$$\n",
      "\\begin{equation} \n",
      "   \\left. e^{kz}\\mathrm{erfc} \\left( \\frac{\\eta k}{2} + \\frac{z}{\\eta }\n",
      "  \\right) \\right\\} e^{i\\mathbf{k}\\cdot \\mathbf{r}_{xy}} \n",
      "  \\nonumber \n",
      "\\end{equation}\n",
      "$$"
     ]
    },
    {
     "cell_type": "markdown",
     "metadata": {},
     "source": [
      "$$\n",
      "\\begin{equation} \n",
      "   + \\sum_{\\mathbf{R}}\\frac{1}{\\left| \\mathbf{r}-\\mathbf{R}\n",
      "    \\right| } \\mathrm{erfc} \\left( \\frac{\\left| \\mathbf{r}-\\mathbf{R}\n",
      "    \\right|}{\\eta }\\right) \\nonumber \n",
      "\\end{equation}\n",
      "$$"
     ]
    },
    {
     "cell_type": "markdown",
     "metadata": {},
     "source": [
      "$$\n",
      "\\begin{equation} \n",
      "   - \\frac{2\\pi}{L^{2}}\\left\\{ z\\mathrm{erf} \\left( \\frac{z}{\\eta }\n",
      "  \\right) + \\frac{\\eta }{\\sqrt{\\pi }}e^{-z^{2}/\\eta^{2}}\\right\\},\n",
      "\\end{equation}\n",
      "$$"
     ]
    },
    {
     "cell_type": "markdown",
     "metadata": {},
     "source": [
      "where the Fourier vectors $\\mathbf{k}$ and the position vector\n",
      "$\\mathbf{r}_{xy}$ are defined in the $(x,y)$ plane. When\n",
      "applying the interaction $v_{E}(\\mathbf{r})$ to two-dimensional\n",
      "systems, we set $z$ to zero.\n",
      "\n",
      "\n",
      "\n",
      "### And in three dimensions\n",
      "Similarly as in the \n",
      "three-dimensional case, also here we \n",
      "choose $\\eta $ to approach zero from above. The resulting \n",
      "Fourier-transformed interaction is"
     ]
    },
    {
     "cell_type": "markdown",
     "metadata": {},
     "source": [
      "$$\n",
      "\\begin{equation}\n",
      "  v_{E}^{\\eta = 0, z = 0}(\\mathbf{r}) = \\sum_{\\mathbf{k} \\neq \\mathbf{0}} \n",
      "  \\frac{2\\pi }{L^{2}k}e^{i\\mathbf{k}\\cdot \\mathbf{r}_{xy}}. \n",
      "\\end{equation}\n",
      "$$"
     ]
    },
    {
     "cell_type": "markdown",
     "metadata": {},
     "source": [
      "The self-interaction $v_{0}$ is a constant that can be \n",
      "included in the reference energy.\n",
      "\n",
      "\n",
      "\n",
      "### Antisymmetrized matrix elements in three dimensions\n",
      "In the three-dimensional electron gas, the antisymmetrized\n",
      "matrix elements are"
     ]
    },
    {
     "cell_type": "markdown",
     "metadata": {},
     "source": [
      "<!-- Equation labels as ordinary links -->\n",
      "<div id=\"eq:vmat_3dheg\"></div>\n",
      "\n",
      "$$\n",
      "\\begin{equation} \\label{eq:vmat_3dheg} \\tag{1}\n",
      "   \\langle \\mathbf{k}_{p}m_{s_{p}}\\mathbf{k}_{q}m_{s_{q}}\n",
      "  |\\tilde{v}|\\mathbf{k}_{r}m_{s_{r}}\\mathbf{k}_{s}m_{s_{s}}\\rangle_{AS} \n",
      "  \\nonumber \n",
      "\\end{equation}\n",
      "$$"
     ]
    },
    {
     "cell_type": "markdown",
     "metadata": {},
     "source": [
      "$$\n",
      "\\begin{equation} \n",
      "   = \\frac{4\\pi }{L^{3}}\\delta_{\\mathbf{k}_{p}+\\mathbf{k}_{q},\n",
      "    \\mathbf{k}_{r}+\\mathbf{k}_{s}}\\left\\{ \n",
      "  \\delta_{m_{s_{p}}m_{s_{r}}}\\delta_{m_{s_{q}}m_{s_{s}}}\n",
      "  \\left( 1 - \\delta_{\\mathbf{k}_{p}\\mathbf{k}_{r}}\\right) \n",
      "  \\frac{1}{|\\mathbf{k}_{r}-\\mathbf{k}_{p}|^{2}}\n",
      "  \\right. \\nonumber \n",
      "\\end{equation}\n",
      "$$"
     ]
    },
    {
     "cell_type": "markdown",
     "metadata": {},
     "source": [
      "$$\n",
      "\\begin{equation} \n",
      "   \\left. - \\delta_{m_{s_{p}}m_{s_{s}}}\\delta_{m_{s_{q}}m_{s_{r}}}\n",
      "  \\left( 1 - \\delta_{\\mathbf{k}_{p}\\mathbf{k}_{s}} \\right)\n",
      "  \\frac{1}{|\\mathbf{k}_{s}-\\mathbf{k}_{p}|^{2}} \n",
      "  \\right\\} ,\n",
      "\\end{equation}\n",
      "$$"
     ]
    },
    {
     "cell_type": "markdown",
     "metadata": {},
     "source": [
      "where the Kronecker delta functions \n",
      "$\\delta_{\\mathbf{k}_{p}\\mathbf{k}_{r}}$ and\n",
      "$\\delta_{\\mathbf{k}_{p}\\mathbf{k}_{s}}$ ensure that the \n",
      "contribution with zero momentum transfer vanishes.\n",
      "\n",
      "\n",
      "\n",
      "\n",
      "### Antisymmetrized matrix elements in two dimensions\n",
      "Similarly, the matrix elements for the two-dimensional\n",
      "electron gas are"
     ]
    },
    {
     "cell_type": "markdown",
     "metadata": {},
     "source": [
      "<!-- Equation labels as ordinary links -->\n",
      "<div id=\"eq:vmat_2dheg\"></div>\n",
      "\n",
      "$$\n",
      "\\begin{equation} \\label{eq:vmat_2dheg} \\tag{2}\n",
      "   \\langle \\mathbf{k}_{p}m_{s_{p}}\\mathbf{k}_{q}m_{s_{q}}\n",
      "  |v|\\mathbf{k}_{r}m_{s_{r}}\\mathbf{k}_{s}m_{s_{s}}\\rangle_{AS} \n",
      "  \\nonumber \n",
      "\\end{equation}\n",
      "$$"
     ]
    },
    {
     "cell_type": "markdown",
     "metadata": {},
     "source": [
      "$$\n",
      "\\begin{equation} \n",
      "   = \\frac{2\\pi }{L^{2}}\n",
      "  \\delta_{\\mathbf{k}_{p}+\\mathbf{k}_{q},\\mathbf{k}_{r}+\\mathbf{k}_{s}}\n",
      "  \\left\\{ \\delta_{m_{s_{p}}m_{s_{r}}}\\delta_{m_{s_{q}}m_{s_{s}}} \n",
      "  \\left( 1 - \\delta_{\\mathbf{k}_{p}\\mathbf{k}_{r}}\\right)\n",
      "  \\frac{1}{\n",
      "    |\\mathbf{k}_{r}-\\mathbf{k}_{p}|} \\right.\n",
      "  \\nonumber \n",
      "\\end{equation}\n",
      "$$"
     ]
    },
    {
     "cell_type": "markdown",
     "metadata": {},
     "source": [
      "$$\n",
      "\\begin{equation} \n",
      "   - \\left. \\delta_{m_{s_{p}}m_{s_{s}}}\\delta_{m_{s_{q}}m_{s_{r}}}\n",
      "  \\left( 1 - \\delta_{\\mathbf{k}_{p}\\mathbf{k}_{s}}\\right)\n",
      "  \\frac{1}{ \n",
      "    |\\mathbf{k}_{s}-\\mathbf{k}_{p}|}\n",
      "  \\right\\} ,\n",
      "\\end{equation}\n",
      "$$"
     ]
    },
    {
     "cell_type": "markdown",
     "metadata": {},
     "source": [
      "where the single-particle momentum vectors $\\mathbf{k}_{p,q,r,s}$\n",
      "are now defined in two dimensions.\n",
      "\n",
      "\n",
      "\n",
      "### Fock operator\n",
      "In the calculations, the \n",
      "self-interaction constant is included in the reference \n",
      "energy. We therefore get the \n",
      "Fock-operator matrix elements"
     ]
    },
    {
     "cell_type": "markdown",
     "metadata": {},
     "source": [
      "<!-- Equation labels as ordinary links -->\n",
      "<div id=\"eq:fock_heg\"></div>\n",
      "\n",
      "$$\n",
      "\\begin{equation}\n",
      "  \\langle \\mathbf{k}_{p}|f|\\mathbf{k}_{q} \\rangle\n",
      "  = \\frac{\\hbar^{2}k_{p}^{2}}{2m}\\delta_{\\mathbf{k}_{p},\n",
      "  \\mathbf{k}_{q}} + \\sum_{\\mathbf{k}_{i}}\\langle \n",
      "  \\mathbf{k}_{p}\\mathbf{k}_{i}|v|\\mathbf{k}_{q}\n",
      "  \\mathbf{k}_{i}\\rangle_{AS}.\n",
      "  \\label{eq:fock_heg} \\tag{3}\n",
      "\\end{equation}\n",
      "$$"
     ]
    },
    {
     "cell_type": "markdown",
     "metadata": {},
     "source": [
      "In work of Shepherd *et al.* the matrix elements were \n",
      "defined with the self-interaction constant included in the\n",
      "two-body interaction. This gives Fock-operator matrix \n",
      "elements with a gap constant.\n",
      "\n",
      "\n",
      "\n",
      "### Periodic boundary conditions and single-particle states\n",
      "When using periodic boundary conditions, the \n",
      "discrete-momentum single-particle basis functions"
     ]
    },
    {
     "cell_type": "markdown",
     "metadata": {},
     "source": [
      "$$\n",
      "\\phi_{\\mathbf{k}}(\\mathbf{r}) =\n",
      "e^{i\\mathbf{k}\\cdot \\mathbf{r}}/L^{d/2}\n",
      "$$"
     ]
    },
    {
     "cell_type": "markdown",
     "metadata": {},
     "source": [
      "are associated with \n",
      "the single-particle energy"
     ]
    },
    {
     "cell_type": "markdown",
     "metadata": {},
     "source": [
      "$$\n",
      "\\begin{equation}\n",
      "  \\varepsilon_{n_{x}, n_{y}} = \\frac{\\hbar^{2}}{2m} \\left( \\frac{2\\pi }{L}\\right)^{2}\\left( n_{x}^{2} + n_{y}^{2}\\right)\n",
      "\\end{equation}\n",
      "$$"
     ]
    },
    {
     "cell_type": "markdown",
     "metadata": {},
     "source": [
      "for two-dimensional sytems and"
     ]
    },
    {
     "cell_type": "markdown",
     "metadata": {},
     "source": [
      "$$\n",
      "\\begin{equation}\n",
      "  \\varepsilon_{n_{x}, n_{y}, n_{z}} = \\frac{\\hbar^{2}}{2m}\n",
      "  \\left( \\frac{2\\pi }{L}\\right)^{2}\n",
      "  \\left( n_{x}^{2} + n_{y}^{2} + n_{z}^{2}\\right)\n",
      "\\end{equation}\n",
      "$$"
     ]
    },
    {
     "cell_type": "markdown",
     "metadata": {},
     "source": [
      "for three-dimensional systems.\n",
      "\n",
      "\n",
      "\n",
      "### Single-particle states in two and three dimensions\n",
      "We choose  the single-particle basis such that both the occupied and \n",
      "unoccupied single-particle spaces have a closed-shell \n",
      "structure. This means that all single-particle states \n",
      "corresponding to energies below a chosen cutoff are\n",
      "included in the basis. We study only the unpolarized spin\n",
      "phase, in which all orbitals are occupied with one spin-up \n",
      "and one spin-down electron.\n",
      "\n",
      "\n",
      "\n",
      "### Setting up single-particle states\n",
      "The table illustrates  how single-particle energies\n",
      "    fill energy shells in a two-dimensional electron box.\n",
      "  Here $n_{x}$ and $n_{y}$ are the momentum quantum numbers,\n",
      "  $n_{x}^{2} + n_{y}^{2}$ determines the single-particle \n",
      "  energy level, $N_{\\uparrow \\downarrow }$ represents the \n",
      "  cumulated number of spin-orbitals in an unpolarized spin\n",
      "  phase, and $N_{\\uparrow \\uparrow }$ stands for the\n",
      "  cumulated number of spin-orbitals in a spin-polarized\n",
      "  system.\n",
      "\n",
      "\n",
      "\n",
      "### Magic number for the two-dimensional electron gas\n",
      "\n",
      "<table border=\"1\">\n",
      "<thead>\n",
      "<tr><th align=\"center\">$n_{x}^{2}+n_{y}^{2}$</th> <th align=\"center\">$n_{x}$</th> <th align=\"center\">$n_{y}$</th> <th align=\"center\">$N_{\\uparrow \\downarrow }$</th> <th align=\"center\">$N_{\\uparrow \\uparrow }$</th> </tr>\n",
      "</thead>\n",
      "<tbody>\n",
      "<tr><td align=\"center\">   0                        </td> <td align=\"center\">   0          </td> <td align=\"center\">   0          </td> <td align=\"center\">   2                             </td> <td align=\"center\">   1                           </td> </tr>\n",
      "<tr><td align=\"center\">   1                        </td> <td align=\"center\">   -1         </td> <td align=\"center\">   0          </td> <td align=\"center\">                                 </td> <td align=\"center\">                               </td> </tr>\n",
      "<tr><td align=\"center\">                            </td> <td align=\"center\">   1          </td> <td align=\"center\">   0          </td> <td align=\"center\">                                 </td> <td align=\"center\">                               </td> </tr>\n",
      "<tr><td align=\"center\">                            </td> <td align=\"center\">   0          </td> <td align=\"center\">   -1         </td> <td align=\"center\">                                 </td> <td align=\"center\">                               </td> </tr>\n",
      "<tr><td align=\"center\">                            </td> <td align=\"center\">   0          </td> <td align=\"center\">   1          </td> <td align=\"center\">   10                            </td> <td align=\"center\">   5                           </td> </tr>\n",
      "<tr><td align=\"center\">   2                        </td> <td align=\"center\">   -1         </td> <td align=\"center\">   -1         </td> <td align=\"center\">                                 </td> <td align=\"center\">                               </td> </tr>\n",
      "<tr><td align=\"center\">                            </td> <td align=\"center\">   -1         </td> <td align=\"center\">   1          </td> <td align=\"center\">                                 </td> <td align=\"center\">                               </td> </tr>\n",
      "<tr><td align=\"center\">                            </td> <td align=\"center\">   1          </td> <td align=\"center\">   -1         </td> <td align=\"center\">                                 </td> <td align=\"center\">                               </td> </tr>\n",
      "<tr><td align=\"center\">                            </td> <td align=\"center\">   1          </td> <td align=\"center\">   1          </td> <td align=\"center\">   18                            </td> <td align=\"center\">   9                           </td> </tr>\n",
      "<tr><td align=\"center\">   4                        </td> <td align=\"center\">   -2         </td> <td align=\"center\">   0          </td> <td align=\"center\">                                 </td> <td align=\"center\">                               </td> </tr>\n",
      "<tr><td align=\"center\">                            </td> <td align=\"center\">   2          </td> <td align=\"center\">   0          </td> <td align=\"center\">                                 </td> <td align=\"center\">                               </td> </tr>\n",
      "<tr><td align=\"center\">                            </td> <td align=\"center\">   0          </td> <td align=\"center\">   -2         </td> <td align=\"center\">                                 </td> <td align=\"center\">                               </td> </tr>\n",
      "<tr><td align=\"center\">                            </td> <td align=\"center\">   0          </td> <td align=\"center\">   2          </td> <td align=\"center\">   26                            </td> <td align=\"center\">   13                          </td> </tr>\n",
      "<tr><td align=\"center\">   5                        </td> <td align=\"center\">   -2         </td> <td align=\"center\">   -1         </td> <td align=\"center\">                                 </td> <td align=\"center\">                               </td> </tr>\n",
      "<tr><td align=\"center\">                            </td> <td align=\"center\">   2          </td> <td align=\"center\">   -1         </td> <td align=\"center\">                                 </td> <td align=\"center\">                               </td> </tr>\n",
      "<tr><td align=\"center\">                            </td> <td align=\"center\">   -2         </td> <td align=\"center\">   1          </td> <td align=\"center\">                                 </td> <td align=\"center\">                               </td> </tr>\n",
      "<tr><td align=\"center\">                            </td> <td align=\"center\">   2          </td> <td align=\"center\">   1          </td> <td align=\"center\">                                 </td> <td align=\"center\">                               </td> </tr>\n",
      "<tr><td align=\"center\">                            </td> <td align=\"center\">   -1         </td> <td align=\"center\">   -2         </td> <td align=\"center\">                                 </td> <td align=\"center\">                               </td> </tr>\n",
      "<tr><td align=\"center\">                            </td> <td align=\"center\">   -1         </td> <td align=\"center\">   2          </td> <td align=\"center\">                                 </td> <td align=\"center\">                               </td> </tr>\n",
      "<tr><td align=\"center\">                            </td> <td align=\"center\">   1          </td> <td align=\"center\">   -2         </td> <td align=\"center\">                                 </td> <td align=\"center\">                               </td> </tr>\n",
      "<tr><td align=\"center\">                            </td> <td align=\"center\">   1          </td> <td align=\"center\">   2          </td> <td align=\"center\">   42                            </td> <td align=\"center\">   21                          </td> </tr>\n",
      "</tbody>\n",
      "</table>\n",
      "\n",
      "\n",
      "\n",
      "### Hartree-Fock benchmarks in two and three dimensions\n",
      "Finally, a useful benchmark for our calculations is the expression for\n",
      "the reference energy $E_0$ per particle.\n",
      "Defining the $T=0$ density $\\rho_0$, we can in turn determine in three\n",
      "dimensions the radius $r_0$ of a sphere representing the volume an\n",
      "electron occupies (the classical electron radius) as"
     ]
    },
    {
     "cell_type": "markdown",
     "metadata": {},
     "source": [
      "$$\n",
      "r_0= \\left(\\frac{3}{4\\pi \\rho}\\right)^{1/3}.\n",
      "$$"
     ]
    },
    {
     "cell_type": "markdown",
     "metadata": {},
     "source": [
      "In two dimensions the corresponding quantity is"
     ]
    },
    {
     "cell_type": "markdown",
     "metadata": {},
     "source": [
      "$$\n",
      "r_0= \\left(\\frac{1}{\\pi \\rho}\\right)^{1/2}.\n",
      "$$"
     ]
    },
    {
     "cell_type": "markdown",
     "metadata": {},
     "source": [
      "### Hartree-Fock energies\n",
      "One can then express the reference energy per electron in terms of the\n",
      "dimensionless quantity $r_s=r_0/a_0$, where we have introduced the\n",
      "Bohr radius $a_0=\\hbar^2/e^2m$. The energy per electron computed with\n",
      "the reference Slater determinant can then be written as\n",
      "(using hereafter only atomic units, meaning that $\\hbar = m = e = 1$)"
     ]
    },
    {
     "cell_type": "markdown",
     "metadata": {},
     "source": [
      "$$\n",
      "E_0/N=\\frac{1}{2}\\left[\\frac{2.21}{r_s^2}-\\frac{0.916}{r_s}\\right],\n",
      "$$"
     ]
    },
    {
     "cell_type": "markdown",
     "metadata": {},
     "source": [
      "for the three-dimensional electron gas.  For the two-dimensional gas\n",
      "the corresponding expression is (show this)"
     ]
    },
    {
     "cell_type": "markdown",
     "metadata": {},
     "source": [
      "$$\n",
      "E_0/N=\\frac{1}{r_s^2}-\\frac{8\\sqrt{2}}{3\\pi r_s}.\n",
      "$$"
     ]
    },
    {
     "cell_type": "markdown",
     "metadata": {},
     "source": [
      "### Simplifications to many-body theories\n",
      "For an infinite homogeneous system, there are some particular\n",
      "simplications due to the conservation of the total momentum of the\n",
      "particles.  By symmetry considerations, the total momentum of the\n",
      "system has to be zero. Both the kinetic energy operator and the\n",
      "total Hamiltonian $\\hat{H}$ are assumed to be diagonal in the total\n",
      "momentum $\\mathbf{K}$. Hence, both the reference state $\\Phi_{0}$ and\n",
      "the correlated ground state $\\Psi$ must be eigenfunctions of the\n",
      "operator $\\mathbf{\\hat{K}}$ with the corresponding eigenvalue\n",
      "$\\mathbf{K} = \\mathbf{0}$.  This leads to important\n",
      "simplications to our different many-body methods. In coupled cluster\n",
      "theory for example, all\n",
      "terms that involve single particle-hole excitations vanish.\n",
      "\n",
      "\n",
      "\n",
      "\n",
      "### Specific tasks\n",
      "\n",
      "* Start by solving exercises 1 and 2 and convince yourself about the correctness of the expressions.\n",
      "\n",
      "* Convince yourself about the Hartree-Fock results for the two-dimensional system.\n",
      "\n",
      "* In order to start coding, you should read in parallel a text on [programming and numerical methods](http://www.uio.no/studier/emner/matnat/fys/FYS3150/h14/undervisningsmateriale/Lecture%20Notes/lecture2014.pdf).\n",
      "\n",
      "* The first programming exercise is to set up the basis functions for two and three dimensions using periodic boundary conditions. Extend the table above to the three-dimensional case. \n",
      "\n",
      "* Compute thereafter the Hartree-Fock energy in two and three dimensions and make sure that your basis is large enough to reach the so-called Hartree-Fock limit.\n",
      "\n",
      "\n",
      "\n",
      "### Screened interactions and periodic boundary conditions\n",
      "As soon as you have the Hartree-Fock program functioning, you can start looking at a modified Coulomb interaction with a screening term, a so-called Yukawa-type interaction, that is"
     ]
    },
    {
     "cell_type": "markdown",
     "metadata": {},
     "source": [
      "$$\n",
      "V(r) \\approx \\frac{\\exp{-(\\mu r)}}{\\mu r},\n",
      "$$"
     ]
    },
    {
     "cell_type": "markdown",
     "metadata": {},
     "source": [
      "where $\\mu$ plays the role of an effective range parameter with dimension inverse length. \n",
      "* Play around with different  values of $\\mu$ and check the stability of the Hartree-Fock results as function of the number of single-particle basis states. \n",
      "\n",
      "* Study thereafter the stability of the solutions (pick some selected values of $\\mu$ and study the Hartree-Fock results with standard periodic boundary conditions and so-called [twisted boundary conditions](https://journals.aps.org/prc/abstract/10.1103/PhysRevC.89.014319)."
     ]
    }
   ],
   "metadata": {}
  }
 ]
}